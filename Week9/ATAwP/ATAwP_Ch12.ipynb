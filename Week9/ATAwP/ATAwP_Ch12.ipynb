{
 "cells": [
  {
   "cell_type": "markdown",
   "metadata": {},
   "source": [
    "# Applied Text Analysis with Python\n",
    "# Chapter 12: Deep Learning and Beyond"
   ]
  },
  {
   "cell_type": "markdown",
   "metadata": {},
   "source": [
    "## Neural Language Models\n",
    "### Artificial Neural Networks\n",
    "#### Training a Multilayer Perceptron"
   ]
  },
  {
   "cell_type": "code",
   "execution_count": 1,
   "metadata": {},
   "outputs": [],
   "source": [
    "import numpy as np"
   ]
  },
  {
   "cell_type": "code",
   "execution_count": 2,
   "metadata": {},
   "outputs": [],
   "source": [
    "# def documents(corpus):\n",
    "#     return list(corpus.reviews())\n",
    "\n",
    "# def continuous(corpus):\n",
    "#     return list(corpus.scores())\n",
    "\n",
    "# def make_categorical(corpus):\n",
    "#     \"\"\"\n",
    "#     terrible : 0.0 < y <= 3.0\n",
    "#     okay     : 3.0 < y <= 5.0\n",
    "#     great    : 5.0 < y <= 7.0\n",
    "#     amazing  : y.0 < y <= 10.1\n",
    "#     \"\"\"\n",
    "#     return np.digitize(continuous(corpus), [0.0, 3.0, 5.0, 7.0, 10.1])"
   ]
  },
  {
   "cell_type": "code",
   "execution_count": 4,
   "metadata": {},
   "outputs": [],
   "source": [
    "# from sklearn.externals import joblib\n",
    "import joblib\n",
    "from sklearn.model_selection import cross_val_score"
   ]
  },
  {
   "cell_type": "code",
   "execution_count": 5,
   "metadata": {},
   "outputs": [],
   "source": [
    "# def train_model(path, model, continuous=True, saveto=None, cv=12):\n",
    "#     \"\"\"Trains model from corpus at path, etc... (see p 278)\"\"\"\n",
    "#     # Load corpus data & labels\n",
    "#     corpus = PickledReviewsReader(path)\n",
    "#     X = documents(corpus)\n",
    "#     if continuous:\n",
    "#         y = continuous(corpus)"
   ]
  },
  {
   "cell_type": "code",
   "execution_count": null,
   "metadata": {},
   "outputs": [],
   "source": []
  }
 ],
 "metadata": {
  "kernelspec": {
   "display_name": "Python 3",
   "language": "python",
   "name": "python3"
  },
  "language_info": {
   "codemirror_mode": {
    "name": "ipython",
    "version": 3
   },
   "file_extension": ".py",
   "mimetype": "text/x-python",
   "name": "python",
   "nbconvert_exporter": "python",
   "pygments_lexer": "ipython3",
   "version": "3.8.5"
  }
 },
 "nbformat": 4,
 "nbformat_minor": 4
}
