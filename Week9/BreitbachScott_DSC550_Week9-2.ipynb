{
 "cells": [
  {
   "cell_type": "markdown",
   "id": "fe8bf49f-d181-4069-b538-35a18836cb7b",
   "metadata": {},
   "source": [
    "# Scott Breitbach\n",
    "## 21-May-2021\n",
    "## DSC550, Week 9"
   ]
  },
  {
   "cell_type": "markdown",
   "id": "5d10d1f7-8c0d-428a-9232-44ed2bc26d06",
   "metadata": {},
   "source": [
    "# 9.3 Exercise: Neural Network Classifiers"
   ]
  },
  {
   "cell_type": "markdown",
   "id": "ed6a67cd-cd3a-4c8e-9241-e3ebf094f626",
   "metadata": {},
   "source": [
    "## Step 2. Neural Network Classifier with Keras"
   ]
  },
  {
   "cell_type": "markdown",
   "id": "ccd6163d-5eae-44ff-927f-e323f159209b",
   "metadata": {},
   "source": [
    "Using the multi-label classifier dataset from earlier exercises (categorized-comments.jsonl in the reddit folder), fit a neural network classifier using Keras. Use the code found in chapter 12 of the Applied Text Analysis with Python book as a guideline. Report the accuracy, precision, recall, F1-score, and confusion matrix."
   ]
  },
  {
   "cell_type": "markdown",
   "id": "bc812eb3-f00f-41e5-b97b-8efdafb26f23",
   "metadata": {},
   "source": [
    "## Load Data Set"
   ]
  },
  {
   "cell_type": "code",
   "execution_count": 1,
   "id": "09b86a30-43b7-44d3-b6d7-c3245038c525",
   "metadata": {},
   "outputs": [
    {
     "name": "stderr",
     "output_type": "stream",
     "text": [
      "C:\\ProgramData\\Anaconda3\\lib\\site-packages\\numpy\\_distributor_init.py:30: UserWarning: loaded more than 1 DLL from .libs:\n",
      "C:\\ProgramData\\Anaconda3\\lib\\site-packages\\numpy\\.libs\\libopenblas.NOIJJG62EMASZI6NYURL6JBKM4EVBGM7.gfortran-win_amd64.dll\n",
      "C:\\ProgramData\\Anaconda3\\lib\\site-packages\\numpy\\.libs\\libopenblas.WCDJNK7YVMPZQ2ME2ZZHJJRJ3JIKNDB7.gfortran-win_amd64.dll\n",
      "  warnings.warn(\"loaded more than 1 DLL from .libs:\"\n"
     ]
    }
   ],
   "source": [
    "# Load libraries\n",
    "import numpy as np\n",
    "import jsonlines\n",
    "import pandas as pd\n",
    "\n",
    "# Set random seed\n",
    "np.random.seed(42)"
   ]
  },
  {
   "cell_type": "code",
   "execution_count": 2,
   "id": "1919230c-c003-4da8-b0eb-77cdb54a1384",
   "metadata": {},
   "outputs": [],
   "source": [
    "# Load JSON data into a list of dictionaries\n",
    "data = []\n",
    "with jsonlines.open('categorized-comments.jsonl') as reader:\n",
    "    for obj in reader.iter(type=dict, skip_invalid=True):\n",
    "        data.append(obj)"
   ]
  },
  {
   "cell_type": "code",
   "execution_count": 3,
   "id": "9b57b1cf-19fc-4c51-a4b3-9e975e6ed104",
   "metadata": {},
   "outputs": [
    {
     "data": {
      "text/html": [
       "<div>\n",
       "<style scoped>\n",
       "    .dataframe tbody tr th:only-of-type {\n",
       "        vertical-align: middle;\n",
       "    }\n",
       "\n",
       "    .dataframe tbody tr th {\n",
       "        vertical-align: top;\n",
       "    }\n",
       "\n",
       "    .dataframe thead th {\n",
       "        text-align: right;\n",
       "    }\n",
       "</style>\n",
       "<table border=\"1\" class=\"dataframe\">\n",
       "  <thead>\n",
       "    <tr style=\"text-align: right;\">\n",
       "      <th></th>\n",
       "      <th>cat</th>\n",
       "      <th>txt</th>\n",
       "    </tr>\n",
       "  </thead>\n",
       "  <tbody>\n",
       "    <tr>\n",
       "      <th>0</th>\n",
       "      <td>sports</td>\n",
       "      <td>Barely better than Gabbert? He was significant...</td>\n",
       "    </tr>\n",
       "    <tr>\n",
       "      <th>1</th>\n",
       "      <td>sports</td>\n",
       "      <td>Fuck the ducks and the Angels! But welcome to ...</td>\n",
       "    </tr>\n",
       "    <tr>\n",
       "      <th>2</th>\n",
       "      <td>sports</td>\n",
       "      <td>Should have drafted more WRs.\\n\\n- Matt Millen...</td>\n",
       "    </tr>\n",
       "    <tr>\n",
       "      <th>3</th>\n",
       "      <td>sports</td>\n",
       "      <td>[Done](https://i.imgur.com/2YZ90pm.jpg)</td>\n",
       "    </tr>\n",
       "    <tr>\n",
       "      <th>4</th>\n",
       "      <td>sports</td>\n",
       "      <td>No!! NOO!!!!!</td>\n",
       "    </tr>\n",
       "  </tbody>\n",
       "</table>\n",
       "</div>"
      ],
      "text/plain": [
       "      cat                                                txt\n",
       "0  sports  Barely better than Gabbert? He was significant...\n",
       "1  sports  Fuck the ducks and the Angels! But welcome to ...\n",
       "2  sports  Should have drafted more WRs.\\n\\n- Matt Millen...\n",
       "3  sports            [Done](https://i.imgur.com/2YZ90pm.jpg)\n",
       "4  sports                                      No!! NOO!!!!!"
      ]
     },
     "execution_count": 3,
     "metadata": {},
     "output_type": "execute_result"
    }
   ],
   "source": [
    "# Convert data to DataFrame\n",
    "cat_comments_df = pd.DataFrame(data)\n",
    "cat_comments_df.head()"
   ]
  },
  {
   "cell_type": "markdown",
   "id": "5fc78f89-de53-4d78-b2c3-e44d94fc5ce3",
   "metadata": {},
   "source": [
    "## Preprocess Text"
   ]
  },
  {
   "cell_type": "code",
   "execution_count": 4,
   "id": "757ebdce-42e5-4d14-a58d-1413979cb312",
   "metadata": {},
   "outputs": [],
   "source": [
    "# Load libraries\n",
    "import sys\n",
    "import unicodedata\n",
    "import re\n",
    "\n",
    "from nltk.corpus import stopwords\n",
    "from collections import Counter\n",
    "from nltk.stem.porter import PorterStemmer"
   ]
  },
  {
   "cell_type": "code",
   "execution_count": 5,
   "id": "acda41ba-f4cb-4efd-aca0-4d9df3d336bb",
   "metadata": {},
   "outputs": [],
   "source": [
    "# Create a copy of the data set to manipulate\n",
    "df = cat_comments_df.copy()"
   ]
  },
  {
   "cell_type": "code",
   "execution_count": 6,
   "id": "d1906fbd-68ff-4e91-ad24-c3f0bb00a36b",
   "metadata": {},
   "outputs": [],
   "source": [
    "# Create a dictionary of punctuation\n",
    "punctuation_dict = dict.fromkeys(i for i in range(sys.maxunicode) \n",
    "                            if unicodedata.category(chr(i)).startswith('P'))\n",
    "# Create a dictionary of stopwords\n",
    "stop_words = stopwords.words('english')\n",
    "stopwords_dict = Counter(stop_words)\n",
    "\n",
    "def cleanText(string):\n",
    "    '''Processes string and returns cleaned up list of words'''\n",
    "    \n",
    "    # Convert to lowercase\n",
    "    string = string.lower()\n",
    "    \n",
    "    # Remove URLs\n",
    "    string = re.sub(r'http\\S+', '', string)\n",
    "    \n",
    "    # Remove punctuation\n",
    "    string = string.translate(punctuation_dict)\n",
    "    \n",
    "    # Remove newlines\n",
    "    string = string.replace(\"\\n\", \" \")\n",
    "    \n",
    "    # Remove stopwords\n",
    "    string = [word for word in string.split() if word not in stopwords_dict]\n",
    "    \n",
    "    return string"
   ]
  },
  {
   "cell_type": "code",
   "execution_count": 7,
   "id": "89161b0c-2385-40ed-b4dd-5f3a230c2fb8",
   "metadata": {},
   "outputs": [],
   "source": [
    "# Clean up the text in the 'txt' column\n",
    "df.txt = df.txt.apply(lambda string: cleanText(string))"
   ]
  },
  {
   "cell_type": "code",
   "execution_count": 8,
   "id": "51a1cd5e-25a9-4909-9c35-022ece6a4122",
   "metadata": {},
   "outputs": [
    {
     "name": "stdout",
     "output_type": "stream",
     "text": [
      "Wall time: 2min 48s\n"
     ]
    }
   ],
   "source": [
    "%%time\n",
    "# Apply PorterStemmer\n",
    "porter = PorterStemmer()\n",
    "df['txt_stems'] = df.txt.apply(lambda words: [porter.stem(word) for word in words])"
   ]
  },
  {
   "cell_type": "code",
   "execution_count": 9,
   "id": "25dd6928-c110-4d87-a8bb-98739af9f7c6",
   "metadata": {},
   "outputs": [
    {
     "name": "stdout",
     "output_type": "stream",
     "text": [
      "Wall time: 1.18 s\n"
     ]
    }
   ],
   "source": [
    "%%time\n",
    "# Join tokenized stem words into a string\n",
    "df['txt_str'] = df.txt_stems.apply(lambda s: ' '.join(map(str, s)))"
   ]
  },
  {
   "cell_type": "code",
   "execution_count": 10,
   "id": "0731be7c-7e49-4eb8-a9a7-b91813c2c9a1",
   "metadata": {},
   "outputs": [
    {
     "data": {
      "text/html": [
       "<div>\n",
       "<style scoped>\n",
       "    .dataframe tbody tr th:only-of-type {\n",
       "        vertical-align: middle;\n",
       "    }\n",
       "\n",
       "    .dataframe tbody tr th {\n",
       "        vertical-align: top;\n",
       "    }\n",
       "\n",
       "    .dataframe thead th {\n",
       "        text-align: right;\n",
       "    }\n",
       "</style>\n",
       "<table border=\"1\" class=\"dataframe\">\n",
       "  <thead>\n",
       "    <tr style=\"text-align: right;\">\n",
       "      <th></th>\n",
       "      <th>cat</th>\n",
       "      <th>txt</th>\n",
       "      <th>txt_stems</th>\n",
       "      <th>txt_str</th>\n",
       "    </tr>\n",
       "  </thead>\n",
       "  <tbody>\n",
       "    <tr>\n",
       "      <th>0</th>\n",
       "      <td>sports</td>\n",
       "      <td>[barely, better, gabbert, significantly, bette...</td>\n",
       "      <td>[bare, better, gabbert, significantli, better,...</td>\n",
       "      <td>bare better gabbert significantli better year ...</td>\n",
       "    </tr>\n",
       "    <tr>\n",
       "      <th>1</th>\n",
       "      <td>sports</td>\n",
       "      <td>[fuck, ducks, angels, welcome, new, niners, fans]</td>\n",
       "      <td>[fuck, duck, angel, welcom, new, niner, fan]</td>\n",
       "      <td>fuck duck angel welcom new niner fan</td>\n",
       "    </tr>\n",
       "    <tr>\n",
       "      <th>2</th>\n",
       "      <td>sports</td>\n",
       "      <td>[drafted, wrs, matt, millen, probably]</td>\n",
       "      <td>[draft, wr, matt, millen, probabl]</td>\n",
       "      <td>draft wr matt millen probabl</td>\n",
       "    </tr>\n",
       "    <tr>\n",
       "      <th>3</th>\n",
       "      <td>sports</td>\n",
       "      <td>[done]</td>\n",
       "      <td>[done]</td>\n",
       "      <td>done</td>\n",
       "    </tr>\n",
       "    <tr>\n",
       "      <th>4</th>\n",
       "      <td>sports</td>\n",
       "      <td>[noo]</td>\n",
       "      <td>[noo]</td>\n",
       "      <td>noo</td>\n",
       "    </tr>\n",
       "  </tbody>\n",
       "</table>\n",
       "</div>"
      ],
      "text/plain": [
       "      cat                                                txt  \\\n",
       "0  sports  [barely, better, gabbert, significantly, bette...   \n",
       "1  sports  [fuck, ducks, angels, welcome, new, niners, fans]   \n",
       "2  sports             [drafted, wrs, matt, millen, probably]   \n",
       "3  sports                                             [done]   \n",
       "4  sports                                              [noo]   \n",
       "\n",
       "                                           txt_stems  \\\n",
       "0  [bare, better, gabbert, significantli, better,...   \n",
       "1       [fuck, duck, angel, welcom, new, niner, fan]   \n",
       "2                 [draft, wr, matt, millen, probabl]   \n",
       "3                                             [done]   \n",
       "4                                              [noo]   \n",
       "\n",
       "                                             txt_str  \n",
       "0  bare better gabbert significantli better year ...  \n",
       "1               fuck duck angel welcom new niner fan  \n",
       "2                       draft wr matt millen probabl  \n",
       "3                                               done  \n",
       "4                                                noo  "
      ]
     },
     "execution_count": 10,
     "metadata": {},
     "output_type": "execute_result"
    }
   ],
   "source": [
    "# Take a look at data set\n",
    "df.head()"
   ]
  },
  {
   "cell_type": "markdown",
   "id": "6bb9951d-7a4a-4b7b-991f-96f2ee41f781",
   "metadata": {},
   "source": [
    "## Sample Data Set Into Equal-Sized Groups"
   ]
  },
  {
   "cell_type": "code",
   "execution_count": 11,
   "id": "1bae0636-2665-48a3-9b9c-b1a9b5e837c0",
   "metadata": {},
   "outputs": [],
   "source": [
    "# Group data by category\n",
    "cat_group = df.groupby('cat', as_index=False, group_keys=False)"
   ]
  },
  {
   "cell_type": "code",
   "execution_count": 12,
   "id": "1e83c74b-9401-42fa-89e3-ab51a87ab848",
   "metadata": {},
   "outputs": [],
   "source": [
    "# Sample 25000 rows from each category\n",
    "balancedDF = cat_group.apply(lambda s: s.sample(25000, replace=False))"
   ]
  },
  {
   "cell_type": "code",
   "execution_count": 13,
   "id": "fc1f5fdc-9517-4960-90ce-977261de6725",
   "metadata": {},
   "outputs": [
    {
     "data": {
      "text/plain": [
       "video_games               25000\n",
       "science_and_technology    25000\n",
       "sports                    25000\n",
       "Name: cat, dtype: int64"
      ]
     },
     "execution_count": 13,
     "metadata": {},
     "output_type": "execute_result"
    }
   ],
   "source": [
    "# Verify counts of categories\n",
    "balancedDF.cat.value_counts()"
   ]
  },
  {
   "cell_type": "markdown",
   "id": "09491fa6-e094-43ac-bf5b-8dd3d507bc4f",
   "metadata": {},
   "source": [
    "# Prepare Text for Model-Building"
   ]
  },
  {
   "cell_type": "code",
   "execution_count": 14,
   "id": "73d2bc32-5914-4713-9792-b20cd6be8230",
   "metadata": {},
   "outputs": [],
   "source": [
    "# Load Libraries\n",
    "from sklearn.model_selection import train_test_split\n",
    "from keras.preprocessing.text import Tokenizer\n",
    "from sklearn.preprocessing import LabelBinarizer"
   ]
  },
  {
   "cell_type": "markdown",
   "id": "c426ce34-ca87-4089-bc03-8978cfe05d17",
   "metadata": {},
   "source": [
    "## Split Training and Testing Data"
   ]
  },
  {
   "cell_type": "code",
   "execution_count": 15,
   "id": "ce15c81a-6c9d-412a-9a26-18def30709cc",
   "metadata": {},
   "outputs": [],
   "source": [
    "# Set the number of features we want\n",
    "number_of_features = 5000\n",
    "\n",
    "# Set up data and labels\n",
    "X = balancedDF.txt_str\n",
    "y = balancedDF.cat\n",
    "\n",
    "# Train Test Split\n",
    "data_train, data_test, target_vector_train, target_vector_test = train_test_split(X, y)"
   ]
  },
  {
   "cell_type": "code",
   "execution_count": 16,
   "id": "82926fb0-668b-47cb-a3bd-45749b504a2d",
   "metadata": {},
   "outputs": [],
   "source": [
    "# Convert text data to one-hot encoded feature matrix\n",
    "tokenizer = Tokenizer(num_words=number_of_features)\n",
    "# tokenizer = Tokenizer(num_words=number_of_features, split=',', char_level=False)\n",
    "tokenizer.fit_on_texts(X)\n",
    "features_train = tokenizer.texts_to_matrix(data_train, mode=\"binary\")\n",
    "features_test = tokenizer.texts_to_matrix(data_test, mode=\"binary\")"
   ]
  },
  {
   "cell_type": "code",
   "execution_count": 17,
   "id": "4b57c2bb-088d-4095-ae44-a8bd6230617f",
   "metadata": {},
   "outputs": [],
   "source": [
    "# Binarize target categories in a one-vs-all fashion\n",
    "lb = LabelBinarizer()\n",
    "lb.fit(y)\n",
    "target_train = lb.transform(target_vector_train)\n",
    "target_test = lb.transform(target_vector_test)"
   ]
  },
  {
   "cell_type": "markdown",
   "id": "760d143c-cc6b-4d65-926a-85556056560d",
   "metadata": {},
   "source": [
    "## Define Keras Model"
   ]
  },
  {
   "cell_type": "code",
   "execution_count": 18,
   "id": "90ab5a42-94f1-45d9-b9c9-2c5c0f847812",
   "metadata": {},
   "outputs": [],
   "source": [
    "# Load Libraries\n",
    "from keras.models import Sequential\n",
    "from keras import layers"
   ]
  },
  {
   "cell_type": "code",
   "execution_count": 19,
   "id": "05c02059-12b8-4118-a1db-f36ebcd70ba4",
   "metadata": {},
   "outputs": [],
   "source": [
    "# Start neural network\n",
    "network = Sequential()\n",
    "\n",
    "# Add fully connected layer with a ReLU activation function\n",
    "network.add(layers.Dense(units=500,\n",
    "                         activation=\"relu\",\n",
    "                         input_shape=(number_of_features,)))\n",
    "\n",
    "# Add fully connected layer with a ReLU activation function\n",
    "network.add(layers.Dense(units=150, activation=\"relu\"))\n",
    "\n",
    "# Add fully connected layer with a softmax activation function\n",
    "network.add(layers.Dense(units=3, activation=\"softmax\"))\n",
    "\n",
    "# Compile neural network\n",
    "network.compile(loss=\"categorical_crossentropy\", # Cross-entropy\n",
    "                optimizer=\"rmsprop\", # Root Mean Square Propagation\n",
    "                metrics=[\"accuracy\"]) # Accuracy performance metric"
   ]
  },
  {
   "cell_type": "markdown",
   "id": "d8cb3551-b6f7-4dbd-8c5a-619488d670f3",
   "metadata": {},
   "source": [
    "## Fit Training Data to Model"
   ]
  },
  {
   "cell_type": "code",
   "execution_count": 20,
   "id": "6a5fa55e-2f72-4934-ac1b-7f73fd29eacd",
   "metadata": {},
   "outputs": [
    {
     "name": "stdout",
     "output_type": "stream",
     "text": [
      "Epoch 1/3\n",
      "1125/1125 [==============================] - 25s 21ms/step - loss: 0.7002 - accuracy: 0.6690 - val_loss: 0.5674 - val_accuracy: 0.7401\n",
      "Epoch 2/3\n",
      "1125/1125 [==============================] - 21s 19ms/step - loss: 0.5182 - accuracy: 0.7661 - val_loss: 0.5602 - val_accuracy: 0.7494\n",
      "Epoch 3/3\n",
      "1125/1125 [==============================] - 22s 20ms/step - loss: 0.4700 - accuracy: 0.7877 - val_loss: 0.5622 - val_accuracy: 0.7504\n"
     ]
    }
   ],
   "source": [
    "# Train neural network\n",
    "history = network.fit(features_train, # Features\n",
    "                      target_train, # Target\n",
    "                      epochs=3, # Three epochs\n",
    "                      verbose=1, # Some output\n",
    "                      batch_size=50, # Number of observations per batch\n",
    "                      validation_data=(features_test, target_test)) # Test data"
   ]
  },
  {
   "cell_type": "markdown",
   "id": "eeb6b096-5662-48fc-9705-46f710117fba",
   "metadata": {},
   "source": [
    "## Visualize Training History"
   ]
  },
  {
   "cell_type": "code",
   "execution_count": 21,
   "id": "c3a53eb7-b10b-4fb7-bbfd-4c3b78af37b1",
   "metadata": {},
   "outputs": [],
   "source": [
    "# Load libraries\n",
    "import matplotlib.pyplot as plt"
   ]
  },
  {
   "cell_type": "markdown",
   "id": "3e20fd4a-90ca-4f27-af8d-3ec64e7309ba",
   "metadata": {},
   "source": [
    "#### Loss history"
   ]
  },
  {
   "cell_type": "code",
   "execution_count": 22,
   "id": "cf468458-9d30-4bf3-8d7a-92013801f3ef",
   "metadata": {},
   "outputs": [
    {
     "data": {
      "image/png": "[encoded data removed]",
      "text/plain": [
       "<Figure size 432x288 with 1 Axes>"
      ]
     },
     "metadata": {
      "needs_background": "light"
     },
     "output_type": "display_data"
    }
   ],
   "source": [
    "# Get training and test loss histories\n",
    "training_loss = history.history[\"loss\"]\n",
    "test_loss = history.history[\"val_loss\"]\n",
    "\n",
    "# Create count of the number of epochs\n",
    "epoch_count = range(1, len(training_loss) + 1)\n",
    "\n",
    "# Visualize loss history\n",
    "plt.plot(epoch_count, training_loss, \"r--\")\n",
    "plt.plot(epoch_count, test_loss, \"b-\")\n",
    "plt.legend([\"Training Loss\", \"Test Loss\"])\n",
    "plt.xlabel(\"Epoch\")\n",
    "plt.ylabel(\"Loss\")\n",
    "plt.show();"
   ]
  },
  {
   "cell_type": "markdown",
   "id": "3cb0c4ca-f647-4ffc-8288-a8463872ade6",
   "metadata": {},
   "source": [
    "#### Accuracy history"
   ]
  },
  {
   "cell_type": "code",
   "execution_count": 23,
   "id": "c7289f34-7ee6-4cff-b9a5-22294b084678",
   "metadata": {
    "tags": []
   },
   "outputs": [
    {
     "data": {
      "image/png": "[encoded data removed]",
      "text/plain": [
       "<Figure size 432x288 with 1 Axes>"
      ]
     },
     "metadata": {
      "needs_background": "light"
     },
     "output_type": "display_data"
    }
   ],
   "source": [
    "# Get training and test accuracy histories\n",
    "training_accuracy = history.history[\"accuracy\"]\n",
    "test_accuracy = history.history[\"val_accuracy\"]\n",
    "plt.plot(epoch_count, training_accuracy, \"r--\")\n",
    "plt.plot(epoch_count, test_accuracy, \"b-\")\n",
    "\n",
    "# Visualize accuracy history\n",
    "plt.legend([\"Training Accuracy\", \"Test Accuracy\"])\n",
    "plt.xlabel(\"Epoch\")\n",
    "plt.ylabel(\"Accuracy Score\")\n",
    "plt.show();"
   ]
  },
  {
   "cell_type": "code",
   "execution_count": null,
   "id": "814e6284-2b17-4ee5-98ad-5c164e019385",
   "metadata": {},
   "outputs": [],
   "source": []
  },
  {
   "cell_type": "markdown",
   "id": "6070b625-c410-4665-ac63-1cabb51b2b19",
   "metadata": {},
   "source": [
    "## Predictions / Evaluation"
   ]
  },
  {
   "cell_type": "code",
   "execution_count": 24,
   "id": "1cc379ae-0340-4699-8f75-1cb328d904f2",
   "metadata": {},
   "outputs": [],
   "source": [
    "# Load libraries\n",
    "from sklearn.metrics import classification_report, confusion_matrix"
   ]
  },
  {
   "cell_type": "code",
   "execution_count": 25,
   "id": "7b276de8-28ae-463d-9a89-4daff1fc33c5",
   "metadata": {},
   "outputs": [
    {
     "name": "stdout",
     "output_type": "stream",
     "text": [
      "Wall time: 1.85 s\n"
     ]
    }
   ],
   "source": [
    "%%time\n",
    "# Get predictions\n",
    "predictions = network.predict(features_test)\n",
    "predictions = np.argmax(predictions, axis=1)\n",
    "y_test = np.argmax(target_test, axis=1)"
   ]
  },
  {
   "cell_type": "markdown",
   "id": "1b2d4d79-591c-4d4d-9e63-e295c71c0d21",
   "metadata": {},
   "source": [
    "### Confusion matrix"
   ]
  },
  {
   "cell_type": "code",
   "execution_count": 26,
   "id": "d30941f7-1f31-49e9-a5ab-bb2678e0882a",
   "metadata": {},
   "outputs": [
    {
     "name": "stdout",
     "output_type": "stream",
     "text": [
      "[[5073  533  726]\n",
      " [ 515 4642 1079]\n",
      " [ 710 1117 4355]]\n"
     ]
    }
   ],
   "source": [
    "# Print confusion matrix\n",
    "cm = confusion_matrix(y_test, predictions)\n",
    "print(cm)"
   ]
  },
  {
   "cell_type": "markdown",
   "id": "5d84f41f-6cbb-4205-81ac-36cff80587a4",
   "metadata": {},
   "source": [
    "#### Precision / Recall / F1 / Suport (Classification report)"
   ]
  },
  {
   "cell_type": "code",
   "execution_count": 27,
   "id": "a74950b4-ffad-4ba0-bf41-c3880ad3b78e",
   "metadata": {},
   "outputs": [
    {
     "name": "stdout",
     "output_type": "stream",
     "text": [
      "              precision    recall  f1-score   support\n",
      "\n",
      "           0       0.81      0.80      0.80      6332\n",
      "           1       0.74      0.74      0.74      6236\n",
      "           2       0.71      0.70      0.71      6182\n",
      "\n",
      "    accuracy                           0.75     18750\n",
      "   macro avg       0.75      0.75      0.75     18750\n",
      "weighted avg       0.75      0.75      0.75     18750\n",
      "\n"
     ]
    }
   ],
   "source": [
    "# Print precision, recall, f1-score, and accuracy\n",
    "cr = classification_report(y_test, predictions)\n",
    "print(cr)"
   ]
  },
  {
   "cell_type": "code",
   "execution_count": null,
   "id": "a21ae0e1-bbd4-497e-bc92-3b6c73b30af3",
   "metadata": {},
   "outputs": [],
   "source": []
  },
  {
   "cell_type": "markdown",
   "id": "3bb2cf0f-2ea4-4deb-a36f-60d6fa3886a6",
   "metadata": {},
   "source": [
    "## Tuning the Neural Network"
   ]
  },
  {
   "cell_type": "code",
   "execution_count": 28,
   "id": "0ac316a6-7343-40ec-89e2-b1dd128968dc",
   "metadata": {},
   "outputs": [],
   "source": [
    "# Load Libraries\n",
    "from keras.wrappers.scikit_learn import KerasClassifier\n",
    "from sklearn.model_selection import GridSearchCV\n"
   ]
  },
  {
   "cell_type": "code",
   "execution_count": 29,
   "id": "2dcaeeb3-0fce-4534-a7af-f990464272f1",
   "metadata": {},
   "outputs": [],
   "source": [
    "# Create function returning a compiled network\n",
    "def create_network(optimizer=\"rmsprop\"):\n",
    "    # Add fully connected layer with a ReLU activation function\n",
    "    network.add(layers.Dense(units=500,\n",
    "                             activation=\"relu\",\n",
    "                             input_shape=(number_of_features,)))\n",
    "\n",
    "    # Add fully connected layer with a ReLU activation function\n",
    "    network.add(layers.Dense(units=150, activation=\"relu\"))\n",
    "\n",
    "    # Add fully connected layer with a softmax activation function\n",
    "    network.add(layers.Dense(units=3, activation=\"softmax\"))\n",
    "\n",
    "    # Compile neural network\n",
    "    network.compile(loss=\"categorical_crossentropy\", # Cross-entropy\n",
    "                    optimizer=optimizer, # Root Mean Square Propagation\n",
    "#                     optimizer=\"rmsprop\", # Root Mean Square Propagation\n",
    "                    metrics=[\"accuracy\"]) # Accuracy performance metric\n",
    "\n",
    "    # Return compiled network\n",
    "    return network"
   ]
  },
  {
   "cell_type": "code",
   "execution_count": 30,
   "id": "a7fe0c86-64d4-4568-9541-f205dc6ad791",
   "metadata": {},
   "outputs": [
    {
     "name": "stdout",
     "output_type": "stream",
     "text": [
      "Epoch 1/3\n",
      "900/900 [==============================] - 21s 22ms/step - loss: 0.4630 - accuracy: 0.8032 - val_loss: 0.5929 - val_accuracy: 0.7338\n",
      "Epoch 2/3\n",
      "900/900 [==============================] - 19s 22ms/step - loss: 0.3397 - accuracy: 0.8497 - val_loss: 0.6938 - val_accuracy: 0.7258\n",
      "Epoch 3/3\n",
      "900/900 [==============================] - 19s 21ms/step - loss: 0.2828 - accuracy: 0.8771 - val_loss: 0.7638 - val_accuracy: 0.7252\n",
      "Epoch 1/3\n",
      "900/900 [==============================] - 24s 25ms/step - loss: 0.3822 - accuracy: 0.8528 - val_loss: 0.6675 - val_accuracy: 0.7263\n",
      "Epoch 2/3\n",
      "900/900 [==============================] - 21s 23ms/step - loss: 0.2757 - accuracy: 0.8835 - val_loss: 0.7444 - val_accuracy: 0.7276\n",
      "Epoch 3/3\n",
      "900/900 [==============================] - 21s 23ms/step - loss: 0.2381 - accuracy: 0.8966 - val_loss: 0.9263 - val_accuracy: 0.7334\n",
      "Epoch 1/3\n",
      "900/900 [==============================] - 26s 27ms/step - loss: 0.3078 - accuracy: 0.8795 - val_loss: 0.8746 - val_accuracy: 0.7227\n",
      "Epoch 2/3\n",
      "900/900 [==============================] - 22s 24ms/step - loss: 0.2331 - accuracy: 0.8998 - val_loss: 0.9555 - val_accuracy: 0.7225\n",
      "Epoch 3/3\n",
      "900/900 [==============================] - 21s 23ms/step - loss: 0.2145 - accuracy: 0.9058 - val_loss: 0.9582 - val_accuracy: 0.7237\n",
      "Epoch 1/3\n",
      "900/900 [==============================] - 25s 26ms/step - loss: 0.2898 - accuracy: 0.8862 - val_loss: 0.8804 - val_accuracy: 0.7243\n",
      "Epoch 2/3\n",
      "900/900 [==============================] - 22s 24ms/step - loss: 0.2104 - accuracy: 0.9060 - val_loss: 0.8550 - val_accuracy: 0.7278\n",
      "Epoch 3/3\n",
      "900/900 [==============================] - 22s 24ms/step - loss: 0.2020 - accuracy: 0.9078 - val_loss: 1.0024 - val_accuracy: 0.7163\n",
      "Epoch 1/3\n",
      "900/900 [==============================] - 27s 27ms/step - loss: 0.2616 - accuracy: 0.9010 - val_loss: 0.9778 - val_accuracy: 0.7213\n",
      "Epoch 2/3\n",
      "900/900 [==============================] - 24s 27ms/step - loss: 0.2024 - accuracy: 0.9098 - val_loss: 1.0807 - val_accuracy: 0.7189\n",
      "Epoch 3/3\n",
      "900/900 [==============================] - 26s 29ms/step - loss: 0.1982 - accuracy: 0.9115 - val_loss: 1.0877 - val_accuracy: 0.7136\n",
      "Epoch 1/3\n",
      "900/900 [==============================] - 31s 20ms/step - loss: 0.3503 - accuracy: 0.8869 - val_loss: 0.8985 - val_accuracy: 0.7038\n",
      "Epoch 2/3\n",
      "900/900 [==============================] - 17s 19ms/step - loss: 0.3869 - accuracy: 0.8552 - val_loss: 0.8229 - val_accuracy: 0.7115\n",
      "Epoch 3/3\n",
      "900/900 [==============================] - 17s 19ms/step - loss: 0.3718 - accuracy: 0.8679 - val_loss: 0.7940 - val_accuracy: 0.7132\n",
      "Epoch 1/3\n",
      "900/900 [==============================] - 22s 21ms/step - loss: 0.4915 - accuracy: 0.8302 - val_loss: 0.7794 - val_accuracy: 0.6866\n",
      "Epoch 2/3\n",
      "900/900 [==============================] - 18s 20ms/step - loss: 0.5166 - accuracy: 0.7939 - val_loss: 0.8450 - val_accuracy: 0.7139\n",
      "Epoch 3/3\n",
      "900/900 [==============================] - 18s 20ms/step - loss: 0.4328 - accuracy: 0.8438 - val_loss: 0.8218 - val_accuracy: 0.7088\n",
      "Epoch 1/3\n",
      "900/900 [==============================] - 22s 22ms/step - loss: 0.5131 - accuracy: 0.8083 - val_loss: 0.9970 - val_accuracy: 0.5031\n",
      "Epoch 2/3\n",
      "900/900 [==============================] - 19s 21ms/step - loss: 0.7097 - accuracy: 0.6031 - val_loss: 0.9896 - val_accuracy: 0.5385\n",
      "Epoch 3/3\n",
      "900/900 [==============================] - 19s 21ms/step - loss: 0.7218 - accuracy: 0.5991 - val_loss: 0.9797 - val_accuracy: 0.5260\n",
      "Epoch 1/3\n",
      "900/900 [==============================] - 22s 22ms/step - loss: 0.7577 - accuracy: 0.5948 - val_loss: 0.9869 - val_accuracy: 0.5238\n",
      "Epoch 2/3\n",
      "900/900 [==============================] - 19s 21ms/step - loss: 0.7419 - accuracy: 0.5924 - val_loss: 1.0023 - val_accuracy: 0.5242\n",
      "Epoch 3/3\n",
      "900/900 [==============================] - 19s 21ms/step - loss: 0.7530 - accuracy: 0.5877 - val_loss: 0.9732 - val_accuracy: 0.4674\n",
      "Epoch 1/3\n",
      "900/900 [==============================] - 26s 26ms/step - loss: 0.8683 - accuracy: 0.5217 - val_loss: 0.9834 - val_accuracy: 0.4675\n",
      "Epoch 2/3\n",
      "900/900 [==============================] - 22s 25ms/step - loss: 0.8518 - accuracy: 0.5219 - val_loss: 0.9798 - val_accuracy: 0.4675\n",
      "Epoch 3/3\n",
      "900/900 [==============================] - 20s 22ms/step - loss: 0.8496 - accuracy: 0.5245 - val_loss: 0.9650 - val_accuracy: 0.4675\n",
      "Epoch 1/3\n",
      "750/750 [==============================] - 40s 29ms/step - loss: 0.8583 - accuracy: 0.5331 - val_loss: 0.9609 - val_accuracy: 0.4675\n",
      "Epoch 2/3\n",
      "750/750 [==============================] - 21s 28ms/step - loss: 0.8410 - accuracy: 0.5277 - val_loss: 0.9663 - val_accuracy: 0.4675\n",
      "Epoch 3/3\n",
      "750/750 [==============================] - 21s 28ms/step - loss: 0.8416 - accuracy: 0.5345 - val_loss: 0.9607 - val_accuracy: 0.4675\n",
      "Epoch 1/3\n",
      "750/750 [==============================] - 28s 30ms/step - loss: 0.8550 - accuracy: 0.5215 - val_loss: 0.9591 - val_accuracy: 0.4803\n",
      "Epoch 2/3\n",
      "750/750 [==============================] - 21s 28ms/step - loss: 0.8409 - accuracy: 0.5254 - val_loss: 0.9812 - val_accuracy: 0.4675\n",
      "Epoch 3/3\n",
      "750/750 [==============================] - 22s 29ms/step - loss: 0.8410 - accuracy: 0.5302 - val_loss: 0.9747 - val_accuracy: 0.4803\n",
      "Epoch 1/3\n",
      "750/750 [==============================] - 29s 32ms/step - loss: 0.8585 - accuracy: 0.5277 - val_loss: 0.9691 - val_accuracy: 0.4675\n",
      "Epoch 2/3\n",
      "750/750 [==============================] - 23s 31ms/step - loss: 0.8446 - accuracy: 0.5294 - val_loss: 0.9672 - val_accuracy: 0.4803\n",
      "Epoch 3/3\n",
      "750/750 [==============================] - 23s 31ms/step - loss: 0.8469 - accuracy: 0.5254 - val_loss: 0.9687 - val_accuracy: 0.4803\n",
      "Epoch 1/3\n",
      "750/750 [==============================] - 45s 53ms/step - loss: 0.8599 - accuracy: 0.5194 - val_loss: 0.9681 - val_accuracy: 0.4675\n",
      "Epoch 2/3\n",
      "750/750 [==============================] - 23s 31ms/step - loss: 0.8546 - accuracy: 0.5203 - val_loss: 0.9742 - val_accuracy: 0.4675\n",
      "Epoch 3/3\n",
      "750/750 [==============================] - 24s 32ms/step - loss: 0.8456 - accuracy: 0.5253 - val_loss: 0.9698 - val_accuracy: 0.4675\n",
      "Epoch 1/3\n",
      "750/750 [==============================] - 33s 35ms/step - loss: 0.8682 - accuracy: 0.5201 - val_loss: 0.9578 - val_accuracy: 0.4675\n",
      "Epoch 2/3\n",
      "750/750 [==============================] - 24s 32ms/step - loss: 0.8510 - accuracy: 0.5247 - val_loss: 0.9567 - val_accuracy: 0.4675\n",
      "Epoch 3/3\n",
      "750/750 [==============================] - 24s 31ms/step - loss: 0.8438 - accuracy: 0.5261 - val_loss: 0.9605 - val_accuracy: 0.4675\n",
      "Epoch 1/3\n",
      "750/750 [==============================] - 27s 31ms/step - loss: 0.8619 - accuracy: 0.5209 - val_loss: 0.9649 - val_accuracy: 0.4675\n",
      "Epoch 2/3\n",
      "750/750 [==============================] - 22s 30ms/step - loss: 0.8414 - accuracy: 0.5298 - val_loss: 0.9681 - val_accuracy: 0.4675\n",
      "Epoch 3/3\n",
      "750/750 [==============================] - 22s 29ms/step - loss: 0.8439 - accuracy: 0.5308 - val_loss: 0.9587 - val_accuracy: 0.4675\n",
      "Epoch 1/3\n",
      "750/750 [==============================] - 31s 37ms/step - loss: 0.8614 - accuracy: 0.5252 - val_loss: 0.9607 - val_accuracy: 0.4675\n",
      "Epoch 2/3\n",
      "750/750 [==============================] - 28s 38ms/step - loss: 0.8424 - accuracy: 0.5212 - val_loss: 0.9923 - val_accuracy: 0.4803\n",
      "Epoch 3/3\n",
      "750/750 [==============================] - 25s 34ms/step - loss: 0.8386 - accuracy: 0.5285 - val_loss: 0.9664 - val_accuracy: 0.4675\n",
      "Epoch 1/3\n",
      "750/750 [==============================] - 29s 35ms/step - loss: 0.8652 - accuracy: 0.5232 - val_loss: 0.9709 - val_accuracy: 0.4675\n",
      "Epoch 2/3\n",
      "750/750 [==============================] - 23s 31ms/step - loss: 0.8460 - accuracy: 0.5290 - val_loss: 0.9609 - val_accuracy: 0.4675\n",
      "Epoch 3/3\n",
      "750/750 [==============================] - 23s 31ms/step - loss: 0.8422 - accuracy: 0.5325 - val_loss: 0.9668 - val_accuracy: 0.4803\n",
      "Epoch 1/3\n",
      "750/750 [==============================] - 44s 55ms/step - loss: 0.8682 - accuracy: 0.5236 - val_loss: 0.9682 - val_accuracy: 0.4675\n",
      "Epoch 2/3\n",
      "750/750 [==============================] - 25s 33ms/step - loss: 0.8553 - accuracy: 0.5158 - val_loss: 0.9713 - val_accuracy: 0.4675\n",
      "Epoch 3/3\n",
      "750/750 [==============================] - 24s 32ms/step - loss: 0.8463 - accuracy: 0.5262 - val_loss: 0.9699 - val_accuracy: 0.4803\n",
      "Epoch 1/3\n",
      "750/750 [==============================] - 33s 39ms/step - loss: 0.8725 - accuracy: 0.5257 - val_loss: 0.9625 - val_accuracy: 0.4675\n",
      "Epoch 2/3\n",
      "750/750 [==============================] - 25s 33ms/step - loss: 0.8492 - accuracy: 0.5216 - val_loss: 0.9711 - val_accuracy: 0.4803\n",
      "Epoch 3/3\n",
      "750/750 [==============================] - 25s 33ms/step - loss: 0.8508 - accuracy: 0.5206 - val_loss: 0.9666 - val_accuracy: 0.4675\n",
      "Epoch 1/3\n",
      "600/600 [==============================] - 34s 42ms/step - loss: 0.8577 - accuracy: 0.5275 - val_loss: 0.9737 - val_accuracy: 0.4675\n",
      "Epoch 2/3\n",
      "600/600 [==============================] - 24s 40ms/step - loss: 0.8430 - accuracy: 0.5295 - val_loss: 0.9733 - val_accuracy: 0.4803\n",
      "Epoch 3/3\n",
      "600/600 [==============================] - 24s 40ms/step - loss: 0.8450 - accuracy: 0.5307 - val_loss: 0.9631 - val_accuracy: 0.4803\n",
      "Epoch 1/3\n",
      "600/600 [==============================] - 36s 48ms/step - loss: 0.8549 - accuracy: 0.5249 - val_loss: 0.9745 - val_accuracy: 0.4675\n",
      "Epoch 2/3\n",
      "600/600 [==============================] - 25s 42ms/step - loss: 0.8367 - accuracy: 0.5317 - val_loss: 0.9839 - val_accuracy: 0.4803\n",
      "Epoch 3/3\n",
      "600/600 [==============================] - 25s 42ms/step - loss: 0.8338 - accuracy: 0.5292 - val_loss: 0.9680 - val_accuracy: 0.4803\n",
      "Epoch 1/3\n",
      "600/600 [==============================] - 51s 43ms/step - loss: 0.8596 - accuracy: 0.5274 - val_loss: 0.9717 - val_accuracy: 0.4803\n",
      "Epoch 2/3\n",
      "600/600 [==============================] - 25s 43ms/step - loss: 0.8421 - accuracy: 0.5269 - val_loss: 0.9642 - val_accuracy: 0.4675\n",
      "Epoch 3/3\n",
      "600/600 [==============================] - 28s 46ms/step - loss: 0.8443 - accuracy: 0.5264 - val_loss: 0.9798 - val_accuracy: 0.4675\n",
      "Epoch 1/3\n",
      "600/600 [==============================] - 38s 47ms/step - loss: 0.8633 - accuracy: 0.5215 - val_loss: 0.9664 - val_accuracy: 0.4675\n",
      "Epoch 2/3\n",
      "600/600 [==============================] - 27s 45ms/step - loss: 0.8471 - accuracy: 0.5273 - val_loss: 0.9736 - val_accuracy: 0.4803\n",
      "Epoch 3/3\n",
      "600/600 [==============================] - 27s 44ms/step - loss: 0.8449 - accuracy: 0.5280 - val_loss: 0.9667 - val_accuracy: 0.4675\n",
      "Epoch 1/3\n",
      "600/600 [==============================] - 38s 48ms/step - loss: 0.8638 - accuracy: 0.5228 - val_loss: 0.9750 - val_accuracy: 0.4675\n",
      "Epoch 2/3\n",
      "600/600 [==============================] - 27s 45ms/step - loss: 0.8519 - accuracy: 0.5231 - val_loss: 0.9582 - val_accuracy: 0.4675\n",
      "Epoch 3/3\n",
      "600/600 [==============================] - 27s 45ms/step - loss: 0.8483 - accuracy: 0.5293 - val_loss: 0.9695 - val_accuracy: 0.4675\n",
      "Epoch 1/3\n",
      "600/600 [==============================] - 40s 57ms/step - loss: 0.8675 - accuracy: 0.5211 - val_loss: 0.9765 - val_accuracy: 0.4675\n",
      "Epoch 2/3\n",
      "600/600 [==============================] - 32s 53ms/step - loss: 0.8430 - accuracy: 0.5228 - val_loss: 0.9566 - val_accuracy: 0.4675\n",
      "Epoch 3/3\n",
      "600/600 [==============================] - 31s 52ms/step - loss: 0.8398 - accuracy: 0.5241 - val_loss: 0.9695 - val_accuracy: 0.4803\n",
      "Epoch 1/3\n",
      "600/600 [==============================] - 55s 54ms/step - loss: 0.8574 - accuracy: 0.5247 - val_loss: 0.9688 - val_accuracy: 0.4803\n",
      "Epoch 2/3\n",
      "600/600 [==============================] - 31s 52ms/step - loss: 0.8407 - accuracy: 0.5301 - val_loss: 0.9695 - val_accuracy: 0.4675\n",
      "Epoch 3/3\n",
      "600/600 [==============================] - 31s 52ms/step - loss: 0.8401 - accuracy: 0.5321 - val_loss: 0.9678 - val_accuracy: 0.4675\n",
      "Epoch 1/3\n",
      "600/600 [==============================] - 42s 61ms/step - loss: 0.8690 - accuracy: 0.5185 - val_loss: 0.9643 - val_accuracy: 0.4803\n",
      "Epoch 2/3\n",
      "600/600 [==============================] - 32s 53ms/step - loss: 0.8436 - accuracy: 0.5292 - val_loss: 0.9590 - val_accuracy: 0.4675\n",
      "Epoch 3/3\n",
      "600/600 [==============================] - 32s 54ms/step - loss: 0.8423 - accuracy: 0.5300 - val_loss: 0.9633 - val_accuracy: 0.4675\n",
      "Epoch 1/3\n",
      "600/600 [==============================] - 42s 60ms/step - loss: 0.8739 - accuracy: 0.5220 - val_loss: 0.9678 - val_accuracy: 0.4675\n",
      "Epoch 2/3\n",
      "600/600 [==============================] - 37s 61ms/step - loss: 0.8429 - accuracy: 0.5255 - val_loss: 0.9587 - val_accuracy: 0.4803\n",
      "Epoch 3/3\n",
      "600/600 [==============================] - 34s 57ms/step - loss: 0.8506 - accuracy: 0.5189 - val_loss: 0.9660 - val_accuracy: 0.4803\n",
      "Epoch 1/3\n",
      "600/600 [==============================] - 40s 58ms/step - loss: 0.8731 - accuracy: 0.5198 - val_loss: 0.9679 - val_accuracy: 0.4675\n",
      "Epoch 2/3\n",
      "600/600 [==============================] - 33s 54ms/step - loss: 0.8486 - accuracy: 0.5228 - val_loss: 0.9751 - val_accuracy: 0.4675\n",
      "Epoch 3/3\n",
      "600/600 [==============================] - 33s 54ms/step - loss: 0.8503 - accuracy: 0.5246 - val_loss: 0.9765 - val_accuracy: 0.4675\n",
      "Epoch 1/3\n",
      "1125/1125 [==============================] - 62s 46ms/step - loss: 0.8592 - accuracy: 0.5220 - val_loss: 0.9820 - val_accuracy: 0.4803\n",
      "Epoch 2/3\n",
      "1125/1125 [==============================] - 48s 43ms/step - loss: 0.8479 - accuracy: 0.5230 - val_loss: 0.9853 - val_accuracy: 0.4675\n",
      "Epoch 3/3\n",
      "1125/1125 [==============================] - 48s 42ms/step - loss: 0.8447 - accuracy: 0.5277 - val_loss: 0.9711 - val_accuracy: 0.4803\n",
      "Wall time: 47min 37s\n"
     ]
    }
   ],
   "source": [
    "%%time\n",
    "# Wrap Keras model so it can be used by scikit-learn\n",
    "neural_network = KerasClassifier(build_fn=create_network, verbose=0)\n",
    "\n",
    "# Create hyperparameter space \n",
    "## Round 1: 3, 50, 'adam' were best\n",
    "## Round 2: 5, 75, 'rmsprop' were best\n",
    "## Round 3: 3, 50, 'rmsprop' were best\n",
    "epochs =  [3]#, 4, 5]      #1[1,  3, 10] #2[ 1,  3,  5] #3[3, 5, 7]\n",
    "batches = [50, 60, 75]  #1[5, 15, 50] #2[30, 50, 75] ##[50, 75, 100]\n",
    "optimizers = [\"rmsprop\", \"adam\"]\n",
    "\n",
    "# Create hyperparameter options\n",
    "hyperparameters = dict(optimizer=optimizers, epochs=epochs, batch_size=batches)\n",
    "\n",
    "# Create grid search\n",
    "grid = GridSearchCV(estimator=neural_network, param_grid=hyperparameters)\n",
    "\n",
    "# Fit grid search\n",
    "grid_result = grid.fit(features_train, # Features\n",
    "                      target_train, # Target\n",
    "#                       epochs=epochs, # Three epochs\n",
    "                      verbose=1, # Some output\n",
    "#                       batch_size=batches, # Number of observations per batch\n",
    "                      validation_data=(features_test, target_test)) # Test data"
   ]
  },
  {
   "cell_type": "code",
   "execution_count": 31,
   "id": "569b0b0c-7c45-46ac-a94c-0db3ae17b921",
   "metadata": {},
   "outputs": [
    {
     "data": {
      "text/plain": [
       "{'batch_size': 50, 'epochs': 3, 'optimizer': 'rmsprop'}"
      ]
     },
     "execution_count": 31,
     "metadata": {},
     "output_type": "execute_result"
    }
   ],
   "source": [
    "# View hyperparameters of best neural network\n",
    "grid_result.best_params_"
   ]
  },
  {
   "cell_type": "code",
   "execution_count": null,
   "id": "a2efdbe6-28a3-4dd8-a2a6-142104abb32e",
   "metadata": {},
   "outputs": [],
   "source": []
  }
 ],
 "metadata": {
  "kernelspec": {
   "display_name": "Python 3",
   "language": "python",
   "name": "python3"
  },
  "language_info": {
   "codemirror_mode": {
    "name": "ipython",
    "version": 3
   },
   "file_extension": ".py",
   "mimetype": "text/x-python",
   "name": "python",
   "nbconvert_exporter": "python",
   "pygments_lexer": "ipython3",
   "version": "3.8.8"
  }
 },
 "nbformat": 4,
 "nbformat_minor": 5
}
