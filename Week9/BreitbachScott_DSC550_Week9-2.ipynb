{
 "cells": [
  {
   "cell_type": "markdown",
   "id": "fe8bf49f-d181-4069-b538-35a18836cb7b",
   "metadata": {},
   "source": [
    "# Scott Breitbach\n",
    "## 21-May-2021\n",
    "## DSC550, Week 9"
   ]
  },
  {
   "cell_type": "markdown",
   "id": "5d10d1f7-8c0d-428a-9232-44ed2bc26d06",
   "metadata": {},
   "source": [
    "# 9.3 Exercise: Neural Network Classifiers"
   ]
  },
  {
   "cell_type": "markdown",
   "id": "ed6a67cd-cd3a-4c8e-9241-e3ebf094f626",
   "metadata": {},
   "source": [
    "## Step 2. Neural Network Classifier with Keras"
   ]
  },
  {
   "cell_type": "markdown",
   "id": "ccd6163d-5eae-44ff-927f-e323f159209b",
   "metadata": {},
   "source": [
    "Using the multi-label classifier dataset from earlier exercises (categorized-comments.jsonl in the reddit folder), fit a neural network classifier using Keras. Use the code found in chapter 12 of the Applied Text Analysis with Python book as a guideline. Report the accuracy, precision, recall, F1-score, and confusion matrix."
   ]
  },
  {
   "cell_type": "markdown",
   "id": "bc812eb3-f00f-41e5-b97b-8efdafb26f23",
   "metadata": {},
   "source": [
    "## Load Data Set"
   ]
  },
  {
   "cell_type": "code",
   "execution_count": 1,
   "id": "09b86a30-43b7-44d3-b6d7-c3245038c525",
   "metadata": {},
   "outputs": [
    {
     "name": "stderr",
     "output_type": "stream",
     "text": [
      "C:\\ProgramData\\Anaconda3\\lib\\site-packages\\numpy\\_distributor_init.py:30: UserWarning: loaded more than 1 DLL from .libs:\n",
      "C:\\ProgramData\\Anaconda3\\lib\\site-packages\\numpy\\.libs\\libopenblas.NOIJJG62EMASZI6NYURL6JBKM4EVBGM7.gfortran-win_amd64.dll\n",
      "C:\\ProgramData\\Anaconda3\\lib\\site-packages\\numpy\\.libs\\libopenblas.WCDJNK7YVMPZQ2ME2ZZHJJRJ3JIKNDB7.gfortran-win_amd64.dll\n",
      "  warnings.warn(\"loaded more than 1 DLL from .libs:\"\n"
     ]
    }
   ],
   "source": [
    "# Load libraries\n",
    "import numpy as np\n",
    "import jsonlines\n",
    "import pandas as pd\n",
    "\n",
    "# Set random seed\n",
    "np.random.seed(42)"
   ]
  },
  {
   "cell_type": "code",
   "execution_count": 2,
   "id": "1919230c-c003-4da8-b0eb-77cdb54a1384",
   "metadata": {},
   "outputs": [],
   "source": [
    "# Load JSON data into a list of dictionaries\n",
    "data = []\n",
    "with jsonlines.open('categorized-comments.jsonl') as reader:\n",
    "    for obj in reader.iter(type=dict, skip_invalid=True):\n",
    "        data.append(obj)"
   ]
  },
  {
   "cell_type": "code",
   "execution_count": 3,
   "id": "9b57b1cf-19fc-4c51-a4b3-9e975e6ed104",
   "metadata": {},
   "outputs": [
    {
     "data": {
      "text/html": [
       "<div>\n",
       "<style scoped>\n",
       "    .dataframe tbody tr th:only-of-type {\n",
       "        vertical-align: middle;\n",
       "    }\n",
       "\n",
       "    .dataframe tbody tr th {\n",
       "        vertical-align: top;\n",
       "    }\n",
       "\n",
       "    .dataframe thead th {\n",
       "        text-align: right;\n",
       "    }\n",
       "</style>\n",
       "<table border=\"1\" class=\"dataframe\">\n",
       "  <thead>\n",
       "    <tr style=\"text-align: right;\">\n",
       "      <th></th>\n",
       "      <th>cat</th>\n",
       "      <th>txt</th>\n",
       "    </tr>\n",
       "  </thead>\n",
       "  <tbody>\n",
       "    <tr>\n",
       "      <th>0</th>\n",
       "      <td>sports</td>\n",
       "      <td>Barely better than Gabbert? He was significant...</td>\n",
       "    </tr>\n",
       "    <tr>\n",
       "      <th>1</th>\n",
       "      <td>sports</td>\n",
       "      <td>Fuck the ducks and the Angels! But welcome to ...</td>\n",
       "    </tr>\n",
       "    <tr>\n",
       "      <th>2</th>\n",
       "      <td>sports</td>\n",
       "      <td>Should have drafted more WRs.\\n\\n- Matt Millen...</td>\n",
       "    </tr>\n",
       "    <tr>\n",
       "      <th>3</th>\n",
       "      <td>sports</td>\n",
       "      <td>[Done](https://i.imgur.com/2YZ90pm.jpg)</td>\n",
       "    </tr>\n",
       "    <tr>\n",
       "      <th>4</th>\n",
       "      <td>sports</td>\n",
       "      <td>No!! NOO!!!!!</td>\n",
       "    </tr>\n",
       "  </tbody>\n",
       "</table>\n",
       "</div>"
      ],
      "text/plain": [
       "      cat                                                txt\n",
       "0  sports  Barely better than Gabbert? He was significant...\n",
       "1  sports  Fuck the ducks and the Angels! But welcome to ...\n",
       "2  sports  Should have drafted more WRs.\\n\\n- Matt Millen...\n",
       "3  sports            [Done](https://i.imgur.com/2YZ90pm.jpg)\n",
       "4  sports                                      No!! NOO!!!!!"
      ]
     },
     "execution_count": 3,
     "metadata": {},
     "output_type": "execute_result"
    }
   ],
   "source": [
    "# Convert data to DataFrame\n",
    "cat_comments_df = pd.DataFrame(data)\n",
    "cat_comments_df.head()"
   ]
  },
  {
   "cell_type": "markdown",
   "id": "5fc78f89-de53-4d78-b2c3-e44d94fc5ce3",
   "metadata": {},
   "source": [
    "## Preprocess Text"
   ]
  },
  {
   "cell_type": "code",
   "execution_count": 4,
   "id": "757ebdce-42e5-4d14-a58d-1413979cb312",
   "metadata": {},
   "outputs": [],
   "source": [
    "# Load libraries\n",
    "import sys\n",
    "import unicodedata\n",
    "import re\n",
    "\n",
    "from nltk.corpus import stopwords\n",
    "from collections import Counter\n",
    "from nltk.stem.porter import PorterStemmer"
   ]
  },
  {
   "cell_type": "code",
   "execution_count": 5,
   "id": "d331188f-d1da-4766-9a95-0f4e37516cee",
   "metadata": {},
   "outputs": [],
   "source": [
    "# from nltk.tokenize import word_tokenize\n",
    "\n",
    "# # from sklearn.feature_extraction.text import CountVectorizer"
   ]
  },
  {
   "cell_type": "code",
   "execution_count": 6,
   "id": "acda41ba-f4cb-4efd-aca0-4d9df3d336bb",
   "metadata": {},
   "outputs": [],
   "source": [
    "# Create a copy of the data set to manipulate\n",
    "df = cat_comments_df.copy()"
   ]
  },
  {
   "cell_type": "code",
   "execution_count": 7,
   "id": "d1906fbd-68ff-4e91-ad24-c3f0bb00a36b",
   "metadata": {},
   "outputs": [],
   "source": [
    "# Create a dictionary of punctuation\n",
    "punctuation_dict = dict.fromkeys(i for i in range(sys.maxunicode) \n",
    "                            if unicodedata.category(chr(i)).startswith('P'))\n",
    "# Create a dictionary of stopwords\n",
    "stop_words = stopwords.words('english')\n",
    "stopwords_dict = Counter(stop_words)\n",
    "\n",
    "def cleanText(string):\n",
    "    '''Processes string and returns cleaned up list of words'''\n",
    "    \n",
    "    # Convert to lowercase\n",
    "    string = string.lower()\n",
    "    \n",
    "    # Remove URLs\n",
    "    string = re.sub(r'http\\S+', '', string)\n",
    "    \n",
    "    # Remove punctuation\n",
    "    string = string.translate(punctuation_dict)\n",
    "    \n",
    "    # Remove newlines\n",
    "    string = string.replace(\"\\n\", \" \")\n",
    "    \n",
    "    # Remove stopwords\n",
    "    string = [word for word in string.split() if word not in stopwords_dict]\n",
    "    \n",
    "    return string"
   ]
  },
  {
   "cell_type": "code",
   "execution_count": 8,
   "id": "89161b0c-2385-40ed-b4dd-5f3a230c2fb8",
   "metadata": {},
   "outputs": [
    {
     "name": "stdout",
     "output_type": "stream",
     "text": [
      "Wall time: 7.35 s\n"
     ]
    }
   ],
   "source": [
    "# Clean up the text in the 'txt' column\n",
    "df.txt = df.txt.apply(lambda string: cleanText(string))"
   ]
  },
  {
   "cell_type": "code",
   "execution_count": 9,
   "id": "51a1cd5e-25a9-4909-9c35-022ece6a4122",
   "metadata": {},
   "outputs": [
    {
     "name": "stdout",
     "output_type": "stream",
     "text": [
      "Wall time: 2min 50s\n"
     ]
    }
   ],
   "source": [
    "%%time\n",
    "# Apply PorterStemmer\n",
    "porter = PorterStemmer()\n",
    "df['txt_stems'] = df.txt.apply(lambda words: [porter.stem(word) for word in words])"
   ]
  },
  {
   "cell_type": "code",
   "execution_count": 10,
   "id": "25dd6928-c110-4d87-a8bb-98739af9f7c6",
   "metadata": {},
   "outputs": [
    {
     "name": "stdout",
     "output_type": "stream",
     "text": [
      "Wall time: 1.14 s\n"
     ]
    }
   ],
   "source": [
    "%%time\n",
    "# Join tokenized stem words into a string\n",
    "df['txt_str'] = df.txt_stems.apply(lambda s: ' '.join(map(str, s)))"
   ]
  },
  {
   "cell_type": "code",
   "execution_count": 11,
   "id": "0731be7c-7e49-4eb8-a9a7-b91813c2c9a1",
   "metadata": {},
   "outputs": [
    {
     "data": {
      "text/html": [
       "<div>\n",
       "<style scoped>\n",
       "    .dataframe tbody tr th:only-of-type {\n",
       "        vertical-align: middle;\n",
       "    }\n",
       "\n",
       "    .dataframe tbody tr th {\n",
       "        vertical-align: top;\n",
       "    }\n",
       "\n",
       "    .dataframe thead th {\n",
       "        text-align: right;\n",
       "    }\n",
       "</style>\n",
       "<table border=\"1\" class=\"dataframe\">\n",
       "  <thead>\n",
       "    <tr style=\"text-align: right;\">\n",
       "      <th></th>\n",
       "      <th>cat</th>\n",
       "      <th>txt</th>\n",
       "      <th>txt_stems</th>\n",
       "      <th>txt_str</th>\n",
       "    </tr>\n",
       "  </thead>\n",
       "  <tbody>\n",
       "    <tr>\n",
       "      <th>0</th>\n",
       "      <td>sports</td>\n",
       "      <td>[barely, better, gabbert, significantly, bette...</td>\n",
       "      <td>[bare, better, gabbert, significantli, better,...</td>\n",
       "      <td>bare better gabbert significantli better year ...</td>\n",
       "    </tr>\n",
       "    <tr>\n",
       "      <th>1</th>\n",
       "      <td>sports</td>\n",
       "      <td>[fuck, ducks, angels, welcome, new, niners, fans]</td>\n",
       "      <td>[fuck, duck, angel, welcom, new, niner, fan]</td>\n",
       "      <td>fuck duck angel welcom new niner fan</td>\n",
       "    </tr>\n",
       "    <tr>\n",
       "      <th>2</th>\n",
       "      <td>sports</td>\n",
       "      <td>[drafted, wrs, matt, millen, probably]</td>\n",
       "      <td>[draft, wr, matt, millen, probabl]</td>\n",
       "      <td>draft wr matt millen probabl</td>\n",
       "    </tr>\n",
       "    <tr>\n",
       "      <th>3</th>\n",
       "      <td>sports</td>\n",
       "      <td>[done]</td>\n",
       "      <td>[done]</td>\n",
       "      <td>done</td>\n",
       "    </tr>\n",
       "    <tr>\n",
       "      <th>4</th>\n",
       "      <td>sports</td>\n",
       "      <td>[noo]</td>\n",
       "      <td>[noo]</td>\n",
       "      <td>noo</td>\n",
       "    </tr>\n",
       "  </tbody>\n",
       "</table>\n",
       "</div>"
      ],
      "text/plain": [
       "      cat                                                txt  \\\n",
       "0  sports  [barely, better, gabbert, significantly, bette...   \n",
       "1  sports  [fuck, ducks, angels, welcome, new, niners, fans]   \n",
       "2  sports             [drafted, wrs, matt, millen, probably]   \n",
       "3  sports                                             [done]   \n",
       "4  sports                                              [noo]   \n",
       "\n",
       "                                           txt_stems  \\\n",
       "0  [bare, better, gabbert, significantli, better,...   \n",
       "1       [fuck, duck, angel, welcom, new, niner, fan]   \n",
       "2                 [draft, wr, matt, millen, probabl]   \n",
       "3                                             [done]   \n",
       "4                                              [noo]   \n",
       "\n",
       "                                             txt_str  \n",
       "0  bare better gabbert significantli better year ...  \n",
       "1               fuck duck angel welcom new niner fan  \n",
       "2                       draft wr matt millen probabl  \n",
       "3                                               done  \n",
       "4                                                noo  "
      ]
     },
     "execution_count": 11,
     "metadata": {},
     "output_type": "execute_result"
    }
   ],
   "source": [
    "# Take a look at data set\n",
    "df.head()"
   ]
  },
  {
   "cell_type": "markdown",
   "id": "6bb9951d-7a4a-4b7b-991f-96f2ee41f781",
   "metadata": {},
   "source": [
    "## Sample Data Set Into Equal-Sized Groups"
   ]
  },
  {
   "cell_type": "code",
   "execution_count": 12,
   "id": "1bae0636-2665-48a3-9b9c-b1a9b5e837c0",
   "metadata": {},
   "outputs": [],
   "source": [
    "# Group data by category\n",
    "cat_group = df.groupby('cat', as_index=False, group_keys=False)"
   ]
  },
  {
   "cell_type": "code",
   "execution_count": 13,
   "id": "1e83c74b-9401-42fa-89e3-ab51a87ab848",
   "metadata": {},
   "outputs": [],
   "source": [
    "# Sample 25000 rows from each category\n",
    "balancedDF = cat_group.apply(lambda s: s.sample(25000, replace=False))"
   ]
  },
  {
   "cell_type": "code",
   "execution_count": 14,
   "id": "fc1f5fdc-9517-4960-90ce-977261de6725",
   "metadata": {},
   "outputs": [
    {
     "data": {
      "text/plain": [
       "science_and_technology    25000\n",
       "sports                    25000\n",
       "video_games               25000\n",
       "Name: cat, dtype: int64"
      ]
     },
     "execution_count": 14,
     "metadata": {},
     "output_type": "execute_result"
    }
   ],
   "source": [
    "# Verify counts of categories\n",
    "balancedDF.cat.value_counts()"
   ]
  },
  {
   "cell_type": "markdown",
   "id": "09491fa6-e094-43ac-bf5b-8dd3d507bc4f",
   "metadata": {},
   "source": [
    "# Prepare Text for Model-Building"
   ]
  },
  {
   "cell_type": "code",
   "execution_count": 15,
   "id": "73d2bc32-5914-4713-9792-b20cd6be8230",
   "metadata": {},
   "outputs": [],
   "source": [
    "# Load Libraries\n",
    "from sklearn.model_selection import train_test_split\n",
    "from keras.preprocessing.text import Tokenizer\n",
    "from sklearn.preprocessing import LabelBinarizer"
   ]
  },
  {
   "cell_type": "markdown",
   "id": "c426ce34-ca87-4089-bc03-8978cfe05d17",
   "metadata": {},
   "source": [
    "## Split Training and Testing Data"
   ]
  },
  {
   "cell_type": "code",
   "execution_count": 16,
   "id": "ce15c81a-6c9d-412a-9a26-18def30709cc",
   "metadata": {},
   "outputs": [],
   "source": [
    "# Set the number of features we want\n",
    "number_of_features = 5000\n",
    "\n",
    "# Set up data and labels\n",
    "X = balancedDF.txt_str\n",
    "y = balancedDF.cat\n",
    "\n",
    "# Train Test Split\n",
    "data_train, data_test, target_vector_train, target_vector_test = train_test_split(X, y)"
   ]
  },
  {
   "cell_type": "code",
   "execution_count": 17,
   "id": "82926fb0-668b-47cb-a3bd-45749b504a2d",
   "metadata": {},
   "outputs": [],
   "source": [
    "# Convert text data to one-hot encoded feature matrix\n",
    "tokenizer = Tokenizer(num_words=number_of_features)\n",
    "# tokenizer = Tokenizer(num_words=number_of_features, split=',', char_level=False)\n",
    "tokenizer.fit_on_texts(X)\n",
    "features_train = tokenizer.texts_to_matrix(data_train, mode=\"binary\")\n",
    "features_test = tokenizer.texts_to_matrix(data_test, mode=\"binary\")"
   ]
  },
  {
   "cell_type": "code",
   "execution_count": 18,
   "id": "4b57c2bb-088d-4095-ae44-a8bd6230617f",
   "metadata": {},
   "outputs": [],
   "source": [
    "# Binarize target categories in a one-vs-all fashion\n",
    "lb = LabelBinarizer()\n",
    "lb.fit(y)\n",
    "target_train = lb.transform(target_vector_train)\n",
    "target_test = lb.transform(target_vector_test)"
   ]
  },
  {
   "cell_type": "markdown",
   "id": "760d143c-cc6b-4d65-926a-85556056560d",
   "metadata": {},
   "source": [
    "## Define Keras Model"
   ]
  },
  {
   "cell_type": "code",
   "execution_count": 19,
   "id": "90ab5a42-94f1-45d9-b9c9-2c5c0f847812",
   "metadata": {},
   "outputs": [],
   "source": [
    "# Load Libraries\n",
    "from keras.models import Sequential\n",
    "from keras import layers"
   ]
  },
  {
   "cell_type": "code",
   "execution_count": 20,
   "id": "05c02059-12b8-4118-a1db-f36ebcd70ba4",
   "metadata": {},
   "outputs": [],
   "source": [
    "# Start neural network\n",
    "network = Sequential()\n",
    "\n",
    "# Add fully connected layer with a ReLU activation function\n",
    "network.add(layers.Dense(units=500,\n",
    "                         activation=\"relu\",\n",
    "                         input_shape=(number_of_features,)))\n",
    "\n",
    "# Add fully connected layer with a ReLU activation function\n",
    "network.add(layers.Dense(units=150, activation=\"relu\"))\n",
    "\n",
    "# Add fully connected layer with a softmax activation function\n",
    "network.add(layers.Dense(units=3, activation=\"softmax\"))\n",
    "\n",
    "# Compile neural network\n",
    "network.compile(loss=\"categorical_crossentropy\", # Cross-entropy\n",
    "                optimizer=\"rmsprop\", # Root Mean Square Propagation\n",
    "                metrics=[\"accuracy\"]) # Accuracy performance metric"
   ]
  },
  {
   "cell_type": "markdown",
   "id": "d8cb3551-b6f7-4dbd-8c5a-619488d670f3",
   "metadata": {},
   "source": [
    "## Fit Training Data to Model"
   ]
  },
  {
   "cell_type": "code",
   "execution_count": 21,
   "id": "6a5fa55e-2f72-4934-ac1b-7f73fd29eacd",
   "metadata": {},
   "outputs": [
    {
     "name": "stdout",
     "output_type": "stream",
     "text": [
      "Epoch 1/3\n",
      "1125/1125 [==============================] - 23s 19ms/step - loss: 0.6945 - accuracy: 0.6783 - val_loss: 0.5742 - val_accuracy: 0.7392\n",
      "Epoch 2/3\n",
      "1125/1125 [==============================] - 20s 18ms/step - loss: 0.5155 - accuracy: 0.7660 - val_loss: 0.5621 - val_accuracy: 0.7461\n",
      "Epoch 3/3\n",
      "1125/1125 [==============================] - 19s 17ms/step - loss: 0.4709 - accuracy: 0.7878 - val_loss: 0.5808 - val_accuracy: 0.7449\n"
     ]
    }
   ],
   "source": [
    "# Train neural network\n",
    "history = network.fit(features_train, # Features\n",
    "                      target_train, # Target\n",
    "                      epochs=3, # Three epochs\n",
    "                      verbose=1, # Some output\n",
    "                      batch_size=50, # Number of observations per batch\n",
    "                      validation_data=(features_test, target_test)) # Test data"
   ]
  },
  {
   "cell_type": "markdown",
   "id": "eeb6b096-5662-48fc-9705-46f710117fba",
   "metadata": {},
   "source": [
    "## Visualize Training History"
   ]
  },
  {
   "cell_type": "code",
   "execution_count": 22,
   "id": "c3a53eb7-b10b-4fb7-bbfd-4c3b78af37b1",
   "metadata": {},
   "outputs": [],
   "source": [
    "# Load libraries\n",
    "import matplotlib.pyplot as plt"
   ]
  },
  {
   "cell_type": "markdown",
   "id": "3e20fd4a-90ca-4f27-af8d-3ec64e7309ba",
   "metadata": {},
   "source": [
    "#### Loss history"
   ]
  },
  {
   "cell_type": "code",
   "execution_count": 23,
   "id": "cf468458-9d30-4bf3-8d7a-92013801f3ef",
   "metadata": {},
   "outputs": [
    {
     "data": {
      "image/png": "[encoded data removed]",
      "text/plain": [
       "<Figure size 432x288 with 1 Axes>"
      ]
     },
     "metadata": {
      "needs_background": "light"
     },
     "output_type": "display_data"
    }
   ],
   "source": [
    "# Get training and test loss histories\n",
    "training_loss = history.history[\"loss\"]\n",
    "test_loss = history.history[\"val_loss\"]\n",
    "\n",
    "# Create count of the number of epochs\n",
    "epoch_count = range(1, len(training_loss) + 1)\n",
    "\n",
    "# Visualize loss history\n",
    "plt.plot(epoch_count, training_loss, \"r--\")\n",
    "plt.plot(epoch_count, test_loss, \"b-\")\n",
    "plt.legend([\"Training Loss\", \"Test Loss\"])\n",
    "plt.xlabel(\"Epoch\")\n",
    "plt.ylabel(\"Loss\")\n",
    "plt.show();"
   ]
  },
  {
   "cell_type": "markdown",
   "id": "3cb0c4ca-f647-4ffc-8288-a8463872ade6",
   "metadata": {},
   "source": [
    "#### Accuracy history"
   ]
  },
  {
   "cell_type": "code",
   "execution_count": 24,
   "id": "c7289f34-7ee6-4cff-b9a5-22294b084678",
   "metadata": {
    "tags": []
   },
   "outputs": [
    {
     "data": {
      "image/png": "[encoded data removed]",
      "text/plain": [
       "<Figure size 432x288 with 1 Axes>"
      ]
     },
     "metadata": {
      "needs_background": "light"
     },
     "output_type": "display_data"
    }
   ],
   "source": [
    "# Get training and test accuracy histories\n",
    "training_accuracy = history.history[\"accuracy\"]\n",
    "test_accuracy = history.history[\"val_accuracy\"]\n",
    "plt.plot(epoch_count, training_accuracy, \"r--\")\n",
    "plt.plot(epoch_count, test_accuracy, \"b-\")\n",
    "\n",
    "# Visualize accuracy history\n",
    "plt.legend([\"Training Accuracy\", \"Test Accuracy\"])\n",
    "plt.xlabel(\"Epoch\")\n",
    "plt.ylabel(\"Accuracy Score\")\n",
    "plt.show();"
   ]
  },
  {
   "cell_type": "code",
   "execution_count": null,
   "id": "814e6284-2b17-4ee5-98ad-5c164e019385",
   "metadata": {},
   "outputs": [],
   "source": []
  },
  {
   "cell_type": "markdown",
   "id": "6070b625-c410-4665-ac63-1cabb51b2b19",
   "metadata": {},
   "source": [
    "## Predictions / Evaluation"
   ]
  },
  {
   "cell_type": "code",
   "execution_count": 25,
   "id": "1cc379ae-0340-4699-8f75-1cb328d904f2",
   "metadata": {},
   "outputs": [],
   "source": [
    "# Load libraries\n",
    "from sklearn.metrics import classification_report, confusion_matrix"
   ]
  },
  {
   "cell_type": "code",
   "execution_count": 26,
   "id": "7b276de8-28ae-463d-9a89-4daff1fc33c5",
   "metadata": {},
   "outputs": [
    {
     "name": "stdout",
     "output_type": "stream",
     "text": [
      "Wall time: 1.81 s\n"
     ]
    }
   ],
   "source": [
    "%%time\n",
    "# Get predictions\n",
    "predictions = network.predict(features_test)\n",
    "predictions = np.argmax(predictions, axis=1)\n",
    "y_test = np.argmax(target_test, axis=1)"
   ]
  },
  {
   "cell_type": "markdown",
   "id": "1b2d4d79-591c-4d4d-9e63-e295c71c0d21",
   "metadata": {},
   "source": [
    "### Confusion matrix"
   ]
  },
  {
   "cell_type": "code",
   "execution_count": 27,
   "id": "d30941f7-1f31-49e9-a5ab-bb2678e0882a",
   "metadata": {},
   "outputs": [
    {
     "name": "stdout",
     "output_type": "stream",
     "text": [
      "[[4952  525  855]\n",
      " [ 484 4510 1242]\n",
      " [ 660 1018 4504]]\n"
     ]
    }
   ],
   "source": [
    "# Print confusion matrix\n",
    "cm = confusion_matrix(y_test, predictions)\n",
    "print(cm)"
   ]
  },
  {
   "cell_type": "markdown",
   "id": "5d84f41f-6cbb-4205-81ac-36cff80587a4",
   "metadata": {},
   "source": [
    "#### Precision / Recall / F1 / Suport (Classification report)"
   ]
  },
  {
   "cell_type": "code",
   "execution_count": 28,
   "id": "a74950b4-ffad-4ba0-bf41-c3880ad3b78e",
   "metadata": {},
   "outputs": [
    {
     "name": "stdout",
     "output_type": "stream",
     "text": [
      "              precision    recall  f1-score   support\n",
      "\n",
      "           0       0.81      0.78      0.80      6332\n",
      "           1       0.75      0.72      0.73      6236\n",
      "           2       0.68      0.73      0.70      6182\n",
      "\n",
      "    accuracy                           0.74     18750\n",
      "   macro avg       0.75      0.74      0.75     18750\n",
      "weighted avg       0.75      0.74      0.75     18750\n",
      "\n"
     ]
    }
   ],
   "source": [
    "# Print precision, recall, f1-score, and accuracy\n",
    "cr = classification_report(y_test, predictions)\n",
    "print(cr)"
   ]
  },
  {
   "cell_type": "code",
   "execution_count": null,
   "id": "a21ae0e1-bbd4-497e-bc92-3b6c73b30af3",
   "metadata": {},
   "outputs": [],
   "source": []
  },
  {
   "cell_type": "markdown",
   "id": "3bb2cf0f-2ea4-4deb-a36f-60d6fa3886a6",
   "metadata": {},
   "source": [
    "## Tuning the Neural Network"
   ]
  },
  {
   "cell_type": "code",
   "execution_count": 25,
   "id": "0ac316a6-7343-40ec-89e2-b1dd128968dc",
   "metadata": {},
   "outputs": [],
   "source": [
    "# Load Libraries\n",
    "from keras.wrappers.scikit_learn import KerasClassifier\n",
    "from sklearn.model_selection import GridSearchCV\n"
   ]
  },
  {
   "cell_type": "code",
   "execution_count": 26,
   "id": "2dcaeeb3-0fce-4534-a7af-f990464272f1",
   "metadata": {},
   "outputs": [],
   "source": [
    "# Create function returning a compiled network\n",
    "def create_network(optimizer=\"rmsprop\"):\n",
    "    # Add fully connected layer with a ReLU activation function\n",
    "    network.add(layers.Dense(units=500,\n",
    "                             activation=\"relu\",\n",
    "                             input_shape=(number_of_features,)))\n",
    "\n",
    "    # Add fully connected layer with a ReLU activation function\n",
    "    network.add(layers.Dense(units=150, activation=\"relu\"))\n",
    "\n",
    "    # Add fully connected layer with a softmax activation function\n",
    "    network.add(layers.Dense(units=3, activation=\"softmax\"))\n",
    "\n",
    "    # Compile neural network\n",
    "    network.compile(loss=\"categorical_crossentropy\", # Cross-entropy\n",
    "                    optimizer=optimizer, # Root Mean Square Propagation\n",
    "#                     optimizer=\"rmsprop\", # Root Mean Square Propagation\n",
    "                    metrics=[\"accuracy\"]) # Accuracy performance metric\n",
    "\n",
    "    # Return compiled network\n",
    "    return network"
   ]
  },
  {
   "cell_type": "code",
   "execution_count": null,
   "id": "a7fe0c86-64d4-4568-9541-f205dc6ad791",
   "metadata": {},
   "outputs": [],
   "source": [
    "%%time\n",
    "# Wrap Keras model so it can be used by scikit-learn\n",
    "neural_network = KerasClassifier(build_fn=create_network, verbose=0)\n",
    "\n",
    "# Create hyperparameter space \n",
    "## Round 1: 3, 50, 'adam' were best\n",
    "## Round 2: 5, 75, 'rmsprop' were best\n",
    "## Round 3: 3, 50, 'rmsprop' were best\n",
    "epochs =  [3, 4, 5]      #1[1,  3, 10] #2[ 1,  3,  5] #3[3, 5, 7]\n",
    "batches = [50, 60, 75]  #1[5, 15, 50] #2[30, 50, 75] ##[50, 75, 100]\n",
    "optimizers = [\"rmsprop\", \"adam\"]\n",
    "\n",
    "# Create hyperparameter options\n",
    "hyperparameters = dict(optimizer=optimizers, epochs=epochs, batch_size=batches)\n",
    "\n",
    "# Create grid search\n",
    "grid = GridSearchCV(estimator=neural_network, param_grid=hyperparameters)\n",
    "\n",
    "# Fit grid search\n",
    "grid_result = grid.fit(features_train, # Features\n",
    "                      target_train, # Target\n",
    "#                       epochs=epochs, # Three epochs\n",
    "                      verbose=1, # Some output\n",
    "#                       batch_size=batches, # Number of observations per batch\n",
    "                      validation_data=(features_test, target_test)) # Test data"
   ]
  },
  {
   "cell_type": "code",
   "execution_count": null,
   "id": "569b0b0c-7c45-46ac-a94c-0db3ae17b921",
   "metadata": {},
   "outputs": [],
   "source": [
    "# View hyperparameters of best neural network\n",
    "grid_result.best_params_"
   ]
  },
  {
   "cell_type": "code",
   "execution_count": null,
   "id": "a2efdbe6-28a3-4dd8-a2a6-142104abb32e",
   "metadata": {},
   "outputs": [],
   "source": []
  },
  {
   "cell_type": "code",
   "execution_count": null,
   "id": "52f3d01b-b957-44e7-8348-c14d7e42ecd9",
   "metadata": {},
   "outputs": [],
   "source": []
  },
  {
   "cell_type": "code",
   "execution_count": null,
   "id": "cb10b155-40da-4442-864d-e6ac61abbb01",
   "metadata": {},
   "outputs": [],
   "source": []
  },
  {
   "cell_type": "code",
   "execution_count": null,
   "id": "7d37543d-50df-4aac-85c6-889a9fbd844c",
   "metadata": {},
   "outputs": [],
   "source": []
  },
  {
   "cell_type": "code",
   "execution_count": null,
   "id": "4b33b654-463a-42f4-8656-c1443397744a",
   "metadata": {},
   "outputs": [],
   "source": []
  },
  {
   "cell_type": "code",
   "execution_count": 29,
   "id": "39c7af93-8a89-46df-b3d0-0b1957f4252e",
   "metadata": {},
   "outputs": [],
   "source": [
    "from win32com.client import Dispatch\n",
    "speak = Dispatch(\"SAPI.SpVoice\").Speak"
   ]
  },
  {
   "cell_type": "code",
   "execution_count": 30,
   "id": "3789588d-05b6-4a83-8269-dc242f1463ba",
   "metadata": {},
   "outputs": [
    {
     "data": {
      "text/plain": [
       "1"
      ]
     },
     "execution_count": 30,
     "metadata": {},
     "output_type": "execute_result"
    }
   ],
   "source": [
    "speak(\"modeling complete\")"
   ]
  },
  {
   "cell_type": "code",
   "execution_count": null,
   "id": "b1ff0a7c-4cfb-43a6-a35e-bdb36bb025e1",
   "metadata": {},
   "outputs": [],
   "source": []
  }
 ],
 "metadata": {
  "kernelspec": {
   "display_name": "Python 3",
   "language": "python",
   "name": "python3"
  },
  "language_info": {
   "codemirror_mode": {
    "name": "ipython",
    "version": 3
   },
   "file_extension": ".py",
   "mimetype": "text/x-python",
   "name": "python",
   "nbconvert_exporter": "python",
   "pygments_lexer": "ipython3",
   "version": "3.8.8"
  }
 },
 "nbformat": 4,
 "nbformat_minor": 5
}
