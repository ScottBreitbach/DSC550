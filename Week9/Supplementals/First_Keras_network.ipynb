{
 "cells": [
  {
   "cell_type": "markdown",
   "id": "acacf437-9d8b-4d0d-bc79-96bc452f1b02",
   "metadata": {},
   "source": [
    "# Build your First Deep Learning Neural Network Model using Keras in Python\n",
    "https://medium.com/@pushkarmandot/build-your-first-deep-learning-neural-network-model-using-keras-in-python-a90b5864116d"
   ]
  },
  {
   "cell_type": "code",
   "execution_count": 1,
   "id": "014bb316-3346-41ac-939c-be5798392408",
   "metadata": {},
   "outputs": [
    {
     "name": "stderr",
     "output_type": "stream",
     "text": [
      "WARNING (theano.tensor.blas): Using NumPy C-API based implementation for BLAS functions.\n"
     ]
    }
   ],
   "source": [
    "import theano\n",
    "import tensorflow\n",
    "import keras"
   ]
  },
  {
   "cell_type": "markdown",
   "id": "1d6ec106-f1fe-4fed-820a-25fec31ab06f",
   "metadata": {},
   "source": [
    "## Step 1: \n",
    "Importing data. Pandas DataFrame gives massive functionality to work on data thus, here we are using pandas to import data."
   ]
  },
  {
   "cell_type": "code",
   "execution_count": 2,
   "id": "1b7105fb-4bcd-4647-9300-6853394ac1b7",
   "metadata": {},
   "outputs": [],
   "source": [
    "# Importing the libraries\n",
    "import numpy as np\n",
    "import matplotlib.pyplot as plt\n",
    "import pandas as pd"
   ]
  },
  {
   "cell_type": "code",
   "execution_count": 3,
   "id": "b4c11551-9082-4eee-a59f-a99d1fb2f4d5",
   "metadata": {},
   "outputs": [],
   "source": [
    "# Importing the dataset\n",
    "dataset = pd.read_csv('Churn_Modelling.csv')"
   ]
  },
  {
   "cell_type": "code",
   "execution_count": 4,
   "id": "7b85bcdd-2e3a-4111-9b3c-1d7909b345a6",
   "metadata": {},
   "outputs": [
    {
     "data": {
      "text/html": [
       "<div>\n",
       "<style scoped>\n",
       "    .dataframe tbody tr th:only-of-type {\n",
       "        vertical-align: middle;\n",
       "    }\n",
       "\n",
       "    .dataframe tbody tr th {\n",
       "        vertical-align: top;\n",
       "    }\n",
       "\n",
       "    .dataframe thead th {\n",
       "        text-align: right;\n",
       "    }\n",
       "</style>\n",
       "<table border=\"1\" class=\"dataframe\">\n",
       "  <thead>\n",
       "    <tr style=\"text-align: right;\">\n",
       "      <th></th>\n",
       "      <th>RowNumber</th>\n",
       "      <th>CustomerId</th>\n",
       "      <th>Surname</th>\n",
       "      <th>CreditScore</th>\n",
       "      <th>Geography</th>\n",
       "      <th>Gender</th>\n",
       "      <th>Age</th>\n",
       "      <th>Tenure</th>\n",
       "      <th>Balance</th>\n",
       "      <th>NumOfProducts</th>\n",
       "      <th>HasCrCard</th>\n",
       "      <th>IsActiveMember</th>\n",
       "      <th>EstimatedSalary</th>\n",
       "      <th>Exited</th>\n",
       "    </tr>\n",
       "  </thead>\n",
       "  <tbody>\n",
       "    <tr>\n",
       "      <th>0</th>\n",
       "      <td>1</td>\n",
       "      <td>15634602</td>\n",
       "      <td>Hargrave</td>\n",
       "      <td>619</td>\n",
       "      <td>France</td>\n",
       "      <td>Female</td>\n",
       "      <td>42</td>\n",
       "      <td>2</td>\n",
       "      <td>0.00</td>\n",
       "      <td>1</td>\n",
       "      <td>1</td>\n",
       "      <td>1</td>\n",
       "      <td>101348.88</td>\n",
       "      <td>1</td>\n",
       "    </tr>\n",
       "    <tr>\n",
       "      <th>1</th>\n",
       "      <td>2</td>\n",
       "      <td>15647311</td>\n",
       "      <td>Hill</td>\n",
       "      <td>608</td>\n",
       "      <td>Spain</td>\n",
       "      <td>Female</td>\n",
       "      <td>41</td>\n",
       "      <td>1</td>\n",
       "      <td>83807.86</td>\n",
       "      <td>1</td>\n",
       "      <td>0</td>\n",
       "      <td>1</td>\n",
       "      <td>112542.58</td>\n",
       "      <td>0</td>\n",
       "    </tr>\n",
       "    <tr>\n",
       "      <th>2</th>\n",
       "      <td>3</td>\n",
       "      <td>15619304</td>\n",
       "      <td>Onio</td>\n",
       "      <td>502</td>\n",
       "      <td>France</td>\n",
       "      <td>Female</td>\n",
       "      <td>42</td>\n",
       "      <td>8</td>\n",
       "      <td>159660.80</td>\n",
       "      <td>3</td>\n",
       "      <td>1</td>\n",
       "      <td>0</td>\n",
       "      <td>113931.57</td>\n",
       "      <td>1</td>\n",
       "    </tr>\n",
       "    <tr>\n",
       "      <th>3</th>\n",
       "      <td>4</td>\n",
       "      <td>15701354</td>\n",
       "      <td>Boni</td>\n",
       "      <td>699</td>\n",
       "      <td>France</td>\n",
       "      <td>Female</td>\n",
       "      <td>39</td>\n",
       "      <td>1</td>\n",
       "      <td>0.00</td>\n",
       "      <td>2</td>\n",
       "      <td>0</td>\n",
       "      <td>0</td>\n",
       "      <td>93826.63</td>\n",
       "      <td>0</td>\n",
       "    </tr>\n",
       "    <tr>\n",
       "      <th>4</th>\n",
       "      <td>5</td>\n",
       "      <td>15737888</td>\n",
       "      <td>Mitchell</td>\n",
       "      <td>850</td>\n",
       "      <td>Spain</td>\n",
       "      <td>Female</td>\n",
       "      <td>43</td>\n",
       "      <td>2</td>\n",
       "      <td>125510.82</td>\n",
       "      <td>1</td>\n",
       "      <td>1</td>\n",
       "      <td>1</td>\n",
       "      <td>79084.10</td>\n",
       "      <td>0</td>\n",
       "    </tr>\n",
       "  </tbody>\n",
       "</table>\n",
       "</div>"
      ],
      "text/plain": [
       "   RowNumber  CustomerId   Surname  CreditScore Geography  Gender  Age  \\\n",
       "0          1    15634602  Hargrave          619    France  Female   42   \n",
       "1          2    15647311      Hill          608     Spain  Female   41   \n",
       "2          3    15619304      Onio          502    France  Female   42   \n",
       "3          4    15701354      Boni          699    France  Female   39   \n",
       "4          5    15737888  Mitchell          850     Spain  Female   43   \n",
       "\n",
       "   Tenure    Balance  NumOfProducts  HasCrCard  IsActiveMember  \\\n",
       "0       2       0.00              1          1               1   \n",
       "1       1   83807.86              1          0               1   \n",
       "2       8  159660.80              3          1               0   \n",
       "3       1       0.00              2          0               0   \n",
       "4       2  125510.82              1          1               1   \n",
       "\n",
       "   EstimatedSalary  Exited  \n",
       "0        101348.88       1  \n",
       "1        112542.58       0  \n",
       "2        113931.57       1  \n",
       "3         93826.63       0  \n",
       "4         79084.10       0  "
      ]
     },
     "execution_count": 4,
     "metadata": {},
     "output_type": "execute_result"
    }
   ],
   "source": [
    "dataset.head()"
   ]
  },
  {
   "cell_type": "code",
   "execution_count": 5,
   "id": "124dcd92-7590-4e25-a15d-f0d579a000c1",
   "metadata": {},
   "outputs": [
    {
     "data": {
      "text/plain": [
       "(10000, 14)"
      ]
     },
     "execution_count": 5,
     "metadata": {},
     "output_type": "execute_result"
    }
   ],
   "source": [
    "dataset.shape"
   ]
  },
  {
   "cell_type": "markdown",
   "id": "f8c7710c-b453-403d-84d9-c3b02d6071f1",
   "metadata": {},
   "source": [
    "## Step 2: \n",
    "Create matrix of features and matrix of target variable. In this case we are excluding column 1 & 2 as those are ‘row_number’ and ‘customerid’ which are not useful in our analysis. Column 14, ‘Exited’ is our Target Variable"
   ]
  },
  {
   "cell_type": "code",
   "execution_count": 6,
   "id": "8145ef6b-bf69-445f-866c-f2eeb473c070",
   "metadata": {},
   "outputs": [],
   "source": [
    "X = dataset.iloc[:, 3:13].values\n",
    "y = dataset.iloc[:, 13].values"
   ]
  },
  {
   "cell_type": "code",
   "execution_count": 7,
   "id": "ada5ba1c-d4cc-4523-945f-74a3d6ad56b0",
   "metadata": {},
   "outputs": [
    {
     "data": {
      "text/plain": [
       "array([[619, 'France', 'Female', ..., 1, 1, 101348.88],\n",
       "       [608, 'Spain', 'Female', ..., 0, 1, 112542.58],\n",
       "       [502, 'France', 'Female', ..., 1, 0, 113931.57],\n",
       "       ...,\n",
       "       [709, 'France', 'Female', ..., 0, 1, 42085.58],\n",
       "       [772, 'Germany', 'Male', ..., 1, 0, 92888.52],\n",
       "       [792, 'France', 'Female', ..., 1, 0, 38190.78]], dtype=object)"
      ]
     },
     "execution_count": 7,
     "metadata": {},
     "output_type": "execute_result"
    }
   ],
   "source": [
    "X"
   ]
  },
  {
   "cell_type": "code",
   "execution_count": 8,
   "id": "7a6f1617-d6d4-459b-85d3-5df25d17bcb6",
   "metadata": {},
   "outputs": [
    {
     "data": {
      "text/plain": [
       "array([1, 0, 1, ..., 1, 1, 0], dtype=int64)"
      ]
     },
     "execution_count": 8,
     "metadata": {},
     "output_type": "execute_result"
    }
   ],
   "source": [
    "y"
   ]
  },
  {
   "cell_type": "markdown",
   "id": "9ce725cb-4b08-4c32-bdb5-2d3417a97725",
   "metadata": {},
   "source": [
    "## Step 3:\n",
    "Let’s make analysis simpler by encoding string variables. Country has string labels such as “France, Spain, Germany” while Gender has “Male, Female”. We have to encode this strings into numeric and we can simply do it using pandas but here I am introducing new library called `ScikitLearn` which is strongest machine learning library in python. We will use `LabelEncoder`. As the name suggests, whenever we pass a variable to this function, this function will automatically encode different labels in that column with values between 0 to n_classes-1."
   ]
  },
  {
   "cell_type": "code",
   "execution_count": 9,
   "id": "a54b553b-f63d-42c9-9afd-395725ab6deb",
   "metadata": {},
   "outputs": [],
   "source": [
    "from sklearn.preprocessing import LabelEncoder, OneHotEncoder\n",
    "labelencoder_X_1 = LabelEncoder()\n",
    "X[:, 1] = labelencoder_X_1.fit_transform(X[:, 1])\n",
    "labelencoder_X_2 = LabelEncoder()\n",
    "X[:, 2] = labelencoder_X_2.fit_transform(X[:, 2])"
   ]
  },
  {
   "cell_type": "code",
   "execution_count": 10,
   "id": "bc86bed7-9537-4f9e-9216-f1ad676b2ee4",
   "metadata": {},
   "outputs": [
    {
     "data": {
      "text/plain": [
       "array([[619, 0, 0, ..., 1, 1, 101348.88],\n",
       "       [608, 2, 0, ..., 0, 1, 112542.58],\n",
       "       [502, 0, 0, ..., 1, 0, 113931.57],\n",
       "       ...,\n",
       "       [709, 0, 0, ..., 0, 1, 42085.58],\n",
       "       [772, 1, 1, ..., 1, 0, 92888.52],\n",
       "       [792, 0, 0, ..., 1, 0, 38190.78]], dtype=object)"
      ]
     },
     "execution_count": 10,
     "metadata": {},
     "output_type": "execute_result"
    }
   ],
   "source": [
    "X"
   ]
  },
  {
   "cell_type": "markdown",
   "id": "1f9483a6-b795-4f83-ad89-8afe8bf34f32",
   "metadata": {},
   "source": [
    "## Step 4: \n",
    "How to create dummy variable in python? We will use the same ScikitLearn library but this time we will use another function called as `OneHotEncoder`, yeah it is seriously hot. We just need to pass the column number and whoosh your dummy variable is created."
   ]
  },
  {
   "cell_type": "markdown",
   "id": "7d2521eb-5269-45ce-a67c-9d75984b510c",
   "metadata": {},
   "source": [
    "NOTE: OneHotEncoder() `categorical_features=` was deprecated. Used ColumnTransformer() instead, per:  \n",
    "https://stackoverflow.com/questions/54345667/onehotencoder-categorical-features-deprecated-how-to-transform-specific-column"
   ]
  },
  {
   "cell_type": "code",
   "execution_count": 11,
   "id": "53d62f74-68e6-4aa2-b9db-4b65a01b6e3d",
   "metadata": {},
   "outputs": [],
   "source": [
    "from sklearn.compose import ColumnTransformer"
   ]
  },
  {
   "cell_type": "code",
   "execution_count": 12,
   "id": "9243cf1c-7b43-48d7-a03f-dc9689529c73",
   "metadata": {},
   "outputs": [],
   "source": [
    "ct = ColumnTransformer([('Country', OneHotEncoder(), [1])], remainder='passthrough')"
   ]
  },
  {
   "cell_type": "code",
   "execution_count": 13,
   "id": "1b6c8e77-b2c1-4381-9b52-dc5b50ff3732",
   "metadata": {},
   "outputs": [],
   "source": [
    "X = ct.fit_transform(X)"
   ]
  },
  {
   "cell_type": "code",
   "execution_count": 14,
   "id": "74552a8a-b7b3-4315-b60d-be295e431152",
   "metadata": {},
   "outputs": [
    {
     "data": {
      "text/plain": [
       "array([[1.0, 0.0, 0.0, 619, 0, 42, 2, 0.0, 1, 1, 1, 101348.88],\n",
       "       [0.0, 0.0, 1.0, 608, 0, 41, 1, 83807.86, 1, 0, 1, 112542.58],\n",
       "       [1.0, 0.0, 0.0, 502, 0, 42, 8, 159660.8, 3, 1, 0, 113931.57],\n",
       "       [1.0, 0.0, 0.0, 699, 0, 39, 1, 0.0, 2, 0, 0, 93826.63],\n",
       "       [0.0, 0.0, 1.0, 850, 0, 43, 2, 125510.82, 1, 1, 1, 79084.1]],\n",
       "      dtype=object)"
      ]
     },
     "execution_count": 14,
     "metadata": {},
     "output_type": "execute_result"
    }
   ],
   "source": [
    "X[:5]"
   ]
  },
  {
   "cell_type": "code",
   "execution_count": 15,
   "id": "0f2010c8-15d9-4c7d-9437-fe849c9219ea",
   "metadata": {},
   "outputs": [
    {
     "data": {
      "text/plain": [
       "array([[0.0, 0.0, 619, 0, 42, 2, 0.0, 1, 1, 1, 101348.88],\n",
       "       [0.0, 1.0, 608, 0, 41, 1, 83807.86, 1, 0, 1, 112542.58],\n",
       "       [0.0, 0.0, 502, 0, 42, 8, 159660.8, 3, 1, 0, 113931.57],\n",
       "       [0.0, 0.0, 699, 0, 39, 1, 0.0, 2, 0, 0, 93826.63],\n",
       "       [0.0, 1.0, 850, 0, 43, 2, 125510.82, 1, 1, 1, 79084.1]],\n",
       "      dtype=object)"
      ]
     },
     "execution_count": 15,
     "metadata": {},
     "output_type": "execute_result"
    }
   ],
   "source": [
    "X[:, 1:][:5]"
   ]
  },
  {
   "cell_type": "code",
   "execution_count": 16,
   "id": "bf1f8b9a-a583-45cd-8ede-b0a0a9aa36c9",
   "metadata": {},
   "outputs": [
    {
     "data": {
      "text/plain": [
       "(10000, 12)"
      ]
     },
     "execution_count": 16,
     "metadata": {},
     "output_type": "execute_result"
    }
   ],
   "source": [
    "X.shape"
   ]
  },
  {
   "cell_type": "code",
   "execution_count": 17,
   "id": "ec5fec6b-2989-48af-b8b3-6b11b2cbd612",
   "metadata": {},
   "outputs": [
    {
     "data": {
      "text/plain": [
       "(5, 11)"
      ]
     },
     "execution_count": 17,
     "metadata": {},
     "output_type": "execute_result"
    }
   ],
   "source": [
    "X[:, 1:][:5].shape"
   ]
  },
  {
   "cell_type": "markdown",
   "id": "b8bf434a-49b4-470c-8a46-b900cf8de043",
   "metadata": {},
   "source": [
    "Okay, whatevs:"
   ]
  },
  {
   "cell_type": "code",
   "execution_count": 18,
   "id": "8b200cfa-978f-4b52-bb79-80790442783b",
   "metadata": {},
   "outputs": [],
   "source": [
    "X = X[:, 1:]"
   ]
  },
  {
   "cell_type": "markdown",
   "id": "1ea4ae9c-46fe-463b-9dbf-5698f1778209",
   "metadata": {},
   "source": [
    "## Step 5:\n",
    "We will make use of ScikitLearn’s `train_test_split` function to divide our data. Roughly people keep 80:20, 75:25, 60:40 as their train test split ratio. Here we are keeping it as 80:20."
   ]
  },
  {
   "cell_type": "code",
   "execution_count": 19,
   "id": "b00837d9-e25a-4dbf-93c5-109bec92a1bf",
   "metadata": {},
   "outputs": [],
   "source": [
    "# Splitting the dataset into the Training set and Test set\n",
    "from sklearn.model_selection import train_test_split\n",
    "X_train, X_test, y_train, y_test = train_test_split(X, y, test_size = 0.2)"
   ]
  },
  {
   "cell_type": "markdown",
   "id": "674d26df-002e-4ef0-b67d-f1026ba8ba3e",
   "metadata": {},
   "source": [
    "## Step 6: \n",
    "`StandardScaler` is available in ScikitLearn. In the following code we are fitting and transforming StandardScaler method on train data. We have to standardize our scaling so we will use the same fitted method to transform/scale test data."
   ]
  },
  {
   "cell_type": "code",
   "execution_count": 20,
   "id": "ca3b3512-81d6-4c21-a0cd-91d7c3f68a4d",
   "metadata": {},
   "outputs": [],
   "source": [
    "# Feature Scaling\n",
    "from sklearn.preprocessing import StandardScaler\n",
    "sc = StandardScaler()\n",
    "X_train = sc.fit_transform(X_train)\n",
    "X_test = sc.transform(X_test)"
   ]
  },
  {
   "cell_type": "code",
   "execution_count": 21,
   "id": "c593b116-3e4d-486b-9f49-000303c46e14",
   "metadata": {},
   "outputs": [
    {
     "data": {
      "text/plain": [
       "array([[-0.57792762,  1.72744428,  0.50196358,  0.90934104,  0.77397459,\n",
       "        -0.34952914, -1.21975497, -0.9165696 ,  0.65192707, -1.02943297,\n",
       "         0.38241231],\n",
       "       [ 1.73032049, -0.57888987,  0.76049847,  0.90934104,  0.58397515,\n",
       "         1.03269188,  0.65194003, -0.9165696 , -1.53391391, -1.02943297,\n",
       "         1.28105488],\n",
       "       [-0.57792762, -0.57888987,  0.50196358,  0.90934104, -0.08102289,\n",
       "         1.03269188,  0.93840411, -0.9165696 ,  0.65192707, -1.02943297,\n",
       "        -1.71346336],\n",
       "       [ 1.73032049, -0.57888987,  0.52264637,  0.90934104, -0.27102232,\n",
       "         1.37824714,  0.23000423,  0.80307318,  0.65192707, -1.02943297,\n",
       "         1.29504677],\n",
       "       [-0.57792762,  1.72744428, -0.07715457,  0.90934104, -1.98101727,\n",
       "         0.68713663, -1.21975497, -0.9165696 , -1.53391391,  0.97140856,\n",
       "        -0.69864061]])"
      ]
     },
     "execution_count": 21,
     "metadata": {},
     "output_type": "execute_result"
    }
   ],
   "source": [
    "X_train[:5]"
   ]
  },
  {
   "cell_type": "markdown",
   "id": "a978974a-2ad5-4be2-ae08-17a0ab5ad29e",
   "metadata": {},
   "source": [
    "# Neural Network time!"
   ]
  },
  {
   "cell_type": "markdown",
   "id": "1421db01-4c2a-4229-9ade-eb00b9e8dafa",
   "metadata": {},
   "source": [
    "## Step 7: \n",
    "Importing required Modules. We need **Sequential module** for initializing NN and **dense module** to add Hidden Layers."
   ]
  },
  {
   "cell_type": "code",
   "execution_count": 22,
   "id": "78665c7b-74f5-4d3c-b33a-36d882e9820b",
   "metadata": {},
   "outputs": [],
   "source": [
    "# Importing the Keras libraries and packages\n",
    "import keras\n",
    "from keras.models import Sequential\n",
    "from keras.layers import Dense"
   ]
  },
  {
   "cell_type": "markdown",
   "id": "7124d349-13b6-4f32-a8dc-4d7caaadc73b",
   "metadata": {},
   "source": [
    "## Step 8: \n",
    "I am giving the name of model as **Classifier** as our business problem is the classification of customer churn. In the last step, I mentioned that we will use Sequential module for initialization so here it is:"
   ]
  },
  {
   "cell_type": "code",
   "execution_count": 23,
   "id": "b495ba2e-ae31-4ec3-8934-4e4ebc604b04",
   "metadata": {},
   "outputs": [],
   "source": [
    "#Initializing Neural Network\n",
    "classifier = Sequential()"
   ]
  },
  {
   "cell_type": "markdown",
   "id": "448a066e-c8d2-4d1c-8670-28bca5481ae9",
   "metadata": {},
   "source": [
    "## Step 9: \n",
    "Adding multiple hidden layer will take bit effort. We will add **hidden layers** one by one using dense function. In the below code you will see a lot of arguments. Don’t worry I will explain them all."
   ]
  },
  {
   "cell_type": "markdown",
   "id": "f6ea37ac-064a-4a7c-a85a-b226287611fd",
   "metadata": {},
   "source": [
    "NOTE: I changed `output_dim=` to `units=` and changed `init=` to `kernel_initializer=`  \n",
    "See here: https://keras.io/api/layers/core_layers/dense/"
   ]
  },
  {
   "cell_type": "code",
   "execution_count": 24,
   "id": "036f5cd3-2e02-4bb9-97a0-2b6ca834f450",
   "metadata": {},
   "outputs": [],
   "source": [
    "# Adding the input layer and the first hidden layer\n",
    "classifier.add(Dense(units = 6, kernel_initializer = 'uniform', activation = 'relu', input_dim = 11))\n",
    "# Adding the second hidden layer\n",
    "classifier.add(Dense(units = 6, kernel_initializer = 'uniform', activation = 'relu'))\n",
    "# Adding the output layer\n",
    "classifier.add(Dense(units = 1, kernel_initializer = 'uniform', activation = 'sigmoid'))"
   ]
  },
  {
   "cell_type": "markdown",
   "id": "1b9afde9-02c1-400a-9269-32b32a54eb82",
   "metadata": {},
   "source": [
    "Here we are using **Sigmoid** function in our output layer as we want binary result from output layer but if the number of categories in output layer is more than 2 then use **SoftMax** function."
   ]
  },
  {
   "cell_type": "markdown",
   "id": "c4814f1e-3400-4cc5-b1a7-208b9324c271",
   "metadata": {},
   "source": [
    "## Step 10: \n",
    "Till now we have added multiple layers to our classifier now let’s compile them which can be done using compile method. Arguments added in final compilation will control whole neural network so be careful on this step. I will briefly explain arguments."
   ]
  },
  {
   "cell_type": "code",
   "execution_count": 25,
   "id": "4b37b057-5301-439f-b33e-2ffab63647e6",
   "metadata": {},
   "outputs": [],
   "source": [
    "# Compiling Neural Network\n",
    "classifier.compile(optimizer = 'adam', loss = 'binary_crossentropy', metrics = ['accuracy'])"
   ]
  },
  {
   "cell_type": "markdown",
   "id": "dba098a4-8e70-4c5a-b76f-c4d52b7253d2",
   "metadata": {},
   "source": [
    "Since our dependent variable is binary, we will have to use logarithmic loss function called **‘binary_crossentropy’**, if our dependent variable has more than 2 categories in output then use **‘categorical_crossentropy’**.  \n",
    "We want to improve performance of our neural network based on accuracy so add metrics as **'accuracy'**.\n",
    "\n",
    "**Congratulations, you have build your first Deep Learning Neural Network model.**"
   ]
  },
  {
   "cell_type": "markdown",
   "id": "7b49051f-f9c5-4d19-b20c-939b660628b4",
   "metadata": {},
   "source": [
    "## Step 11: \n",
    "We will now train our model on training data but still one thing is remaining. We use fit method to the fit our model In previous some steps I said that we will be optimizing our weights to improve model efficiency so when are we updating our weights? **Batch size** is used to specify the number of observation after which you want to update weight. **Epoch** is nothing but the total number of iterations. Choosing the value of batch size and epoch is trial and error there is no specific rule for that.  \n",
    "NOTE: I replaced `nb_epoch=` with `epochs=`"
   ]
  },
  {
   "cell_type": "code",
   "execution_count": 26,
   "id": "6e65448c-dcac-4dda-b75f-0a6c7f5e4871",
   "metadata": {},
   "outputs": [
    {
     "name": "stdout",
     "output_type": "stream",
     "text": [
      "Epoch 1/100\n",
      "800/800 [==============================] - 1s 771us/step - loss: 0.4739 - accuracy: 0.7980\n",
      "Epoch 2/100\n",
      "800/800 [==============================] - 1s 728us/step - loss: 0.4225 - accuracy: 0.7981\n",
      "Epoch 3/100\n",
      "800/800 [==============================] - 1s 706us/step - loss: 0.4167 - accuracy: 0.8052\n",
      "Epoch 4/100\n",
      "800/800 [==============================] - 1s 708us/step - loss: 0.4134 - accuracy: 0.8240\n",
      "Epoch 5/100\n",
      "800/800 [==============================] - 1s 709us/step - loss: 0.4112 - accuracy: 0.8284\n",
      "Epoch 6/100\n",
      "800/800 [==============================] - 1s 712us/step - loss: 0.4097 - accuracy: 0.8305\n",
      "Epoch 7/100\n",
      "800/800 [==============================] - 1s 715us/step - loss: 0.4087 - accuracy: 0.8319\n",
      "Epoch 8/100\n",
      "800/800 [==============================] - 1s 708us/step - loss: 0.4071 - accuracy: 0.8331\n",
      "Epoch 9/100\n",
      "800/800 [==============================] - 1s 706us/step - loss: 0.4060 - accuracy: 0.8332\n",
      "Epoch 10/100\n",
      "800/800 [==============================] - 1s 751us/step - loss: 0.4055 - accuracy: 0.8339\n",
      "Epoch 11/100\n",
      "800/800 [==============================] - 1s 712us/step - loss: 0.4041 - accuracy: 0.8350\n",
      "Epoch 12/100\n",
      "800/800 [==============================] - 1s 856us/step - loss: 0.4021 - accuracy: 0.8355\n",
      "Epoch 13/100\n",
      "800/800 [==============================] - 1s 710us/step - loss: 0.4003 - accuracy: 0.8334\n",
      "Epoch 14/100\n",
      "800/800 [==============================] - 1s 715us/step - loss: 0.3992 - accuracy: 0.8344\n",
      "Epoch 15/100\n",
      "800/800 [==============================] - 1s 708us/step - loss: 0.3982 - accuracy: 0.8370\n",
      "Epoch 16/100\n",
      "800/800 [==============================] - 1s 766us/step - loss: 0.3971 - accuracy: 0.8371\n",
      "Epoch 17/100\n",
      "800/800 [==============================] - 1s 736us/step - loss: 0.3966 - accuracy: 0.8349\n",
      "Epoch 18/100\n",
      "800/800 [==============================] - 1s 729us/step - loss: 0.3962 - accuracy: 0.8374\n",
      "Epoch 19/100\n",
      "800/800 [==============================] - 1s 810us/step - loss: 0.3952 - accuracy: 0.8386\n",
      "Epoch 20/100\n",
      "800/800 [==============================] - 1s 1ms/step - loss: 0.3949 - accuracy: 0.8391\n",
      "Epoch 21/100\n",
      "800/800 [==============================] - 1s 716us/step - loss: 0.3936 - accuracy: 0.8382\n",
      "Epoch 22/100\n",
      "800/800 [==============================] - 1s 717us/step - loss: 0.3936 - accuracy: 0.8378\n",
      "Epoch 23/100\n",
      "800/800 [==============================] - 1s 724us/step - loss: 0.3936 - accuracy: 0.8399\n",
      "Epoch 24/100\n",
      "800/800 [==============================] - 1s 728us/step - loss: 0.3933 - accuracy: 0.8379\n",
      "Epoch 25/100\n",
      "800/800 [==============================] - 1s 714us/step - loss: 0.3926 - accuracy: 0.8365\n",
      "Epoch 26/100\n",
      "800/800 [==============================] - 1s 749us/step - loss: 0.3924 - accuracy: 0.8389\n",
      "Epoch 27/100\n",
      "800/800 [==============================] - 1s 706us/step - loss: 0.3923 - accuracy: 0.83930s - loss: 0.3734 \n",
      "Epoch 28/100\n",
      "800/800 [==============================] - 1s 686us/step - loss: 0.3920 - accuracy: 0.8406\n",
      "Epoch 29/100\n",
      "800/800 [==============================] - 1s 708us/step - loss: 0.3915 - accuracy: 0.8361\n",
      "Epoch 30/100\n",
      "800/800 [==============================] - 1s 748us/step - loss: 0.3916 - accuracy: 0.8395\n",
      "Epoch 31/100\n",
      "800/800 [==============================] - 1s 713us/step - loss: 0.3917 - accuracy: 0.8393\n",
      "Epoch 32/100\n",
      "800/800 [==============================] - 1s 714us/step - loss: 0.3904 - accuracy: 0.8396\n",
      "Epoch 33/100\n",
      "800/800 [==============================] - 1s 682us/step - loss: 0.3912 - accuracy: 0.8388\n",
      "Epoch 34/100\n",
      "800/800 [==============================] - 1s 702us/step - loss: 0.3902 - accuracy: 0.8391\n",
      "Epoch 35/100\n",
      "800/800 [==============================] - 1s 692us/step - loss: 0.3909 - accuracy: 0.8406\n",
      "Epoch 36/100\n",
      "800/800 [==============================] - 1s 672us/step - loss: 0.3907 - accuracy: 0.8393\n",
      "Epoch 37/100\n",
      "800/800 [==============================] - 1s 690us/step - loss: 0.3906 - accuracy: 0.8375\n",
      "Epoch 38/100\n",
      "800/800 [==============================] - 1s 713us/step - loss: 0.3899 - accuracy: 0.8405\n",
      "Epoch 39/100\n",
      "800/800 [==============================] - 1s 700us/step - loss: 0.3895 - accuracy: 0.8395\n",
      "Epoch 40/100\n",
      "800/800 [==============================] - 1s 718us/step - loss: 0.3893 - accuracy: 0.8394\n",
      "Epoch 41/100\n",
      "800/800 [==============================] - 1s 705us/step - loss: 0.3894 - accuracy: 0.8388\n",
      "Epoch 42/100\n",
      "800/800 [==============================] - 1s 699us/step - loss: 0.3892 - accuracy: 0.8405\n",
      "Epoch 43/100\n",
      "800/800 [==============================] - 1s 689us/step - loss: 0.3887 - accuracy: 0.8399\n",
      "Epoch 44/100\n",
      "800/800 [==============================] - 1s 684us/step - loss: 0.3881 - accuracy: 0.8404\n",
      "Epoch 45/100\n",
      "800/800 [==============================] - 1s 698us/step - loss: 0.3885 - accuracy: 0.8407\n",
      "Epoch 46/100\n",
      "800/800 [==============================] - 1s 686us/step - loss: 0.3875 - accuracy: 0.8379\n",
      "Epoch 47/100\n",
      "800/800 [==============================] - 1s 990us/step - loss: 0.3867 - accuracy: 0.8384\n",
      "Epoch 48/100\n",
      "800/800 [==============================] - 1s 827us/step - loss: 0.3854 - accuracy: 0.8396\n",
      "Epoch 49/100\n",
      "800/800 [==============================] - 1s 704us/step - loss: 0.3827 - accuracy: 0.8424\n",
      "Epoch 50/100\n",
      "800/800 [==============================] - 1s 779us/step - loss: 0.3801 - accuracy: 0.8410\n",
      "Epoch 51/100\n",
      "800/800 [==============================] - 1s 691us/step - loss: 0.3769 - accuracy: 0.8426\n",
      "Epoch 52/100\n",
      "800/800 [==============================] - 1s 738us/step - loss: 0.3743 - accuracy: 0.8407\n",
      "Epoch 53/100\n",
      "800/800 [==============================] - 1s 727us/step - loss: 0.3713 - accuracy: 0.8439\n",
      "Epoch 54/100\n",
      "800/800 [==============================] - 1s 704us/step - loss: 0.3682 - accuracy: 0.8451\n",
      "Epoch 55/100\n",
      "800/800 [==============================] - 1s 690us/step - loss: 0.3665 - accuracy: 0.8451\n",
      "Epoch 56/100\n",
      "800/800 [==============================] - 1s 682us/step - loss: 0.3637 - accuracy: 0.8479\n",
      "Epoch 57/100\n",
      "800/800 [==============================] - 1s 690us/step - loss: 0.3599 - accuracy: 0.8505\n",
      "Epoch 58/100\n",
      "800/800 [==============================] - 1s 685us/step - loss: 0.3562 - accuracy: 0.8540\n",
      "Epoch 59/100\n",
      "800/800 [==============================] - 1s 691us/step - loss: 0.3529 - accuracy: 0.8546\n",
      "Epoch 60/100\n",
      "800/800 [==============================] - 1s 682us/step - loss: 0.3509 - accuracy: 0.8579\n",
      "Epoch 61/100\n",
      "800/800 [==============================] - 1s 726us/step - loss: 0.3481 - accuracy: 0.8584\n",
      "Epoch 62/100\n",
      "800/800 [==============================] - 1s 675us/step - loss: 0.3475 - accuracy: 0.8606\n",
      "Epoch 63/100\n",
      "800/800 [==============================] - 1s 704us/step - loss: 0.3464 - accuracy: 0.8606\n",
      "Epoch 64/100\n",
      "800/800 [==============================] - 1s 715us/step - loss: 0.3458 - accuracy: 0.8602\n",
      "Epoch 65/100\n",
      "800/800 [==============================] - 1s 698us/step - loss: 0.3450 - accuracy: 0.8616\n",
      "Epoch 66/100\n",
      "800/800 [==============================] - 1s 787us/step - loss: 0.3437 - accuracy: 0.8604\n",
      "Epoch 67/100\n",
      "800/800 [==============================] - 1s 717us/step - loss: 0.3436 - accuracy: 0.8641\n",
      "Epoch 68/100\n",
      "800/800 [==============================] - 1s 715us/step - loss: 0.3434 - accuracy: 0.8620\n",
      "Epoch 69/100\n",
      "800/800 [==============================] - 1s 697us/step - loss: 0.3425 - accuracy: 0.8626\n",
      "Epoch 70/100\n",
      "800/800 [==============================] - 1s 703us/step - loss: 0.3418 - accuracy: 0.8635\n",
      "Epoch 71/100\n",
      "800/800 [==============================] - 1s 690us/step - loss: 0.3416 - accuracy: 0.8630\n",
      "Epoch 72/100\n",
      "800/800 [==============================] - 1s 714us/step - loss: 0.3414 - accuracy: 0.8634\n",
      "Epoch 73/100\n",
      "800/800 [==============================] - 1s 715us/step - loss: 0.3408 - accuracy: 0.8608\n",
      "Epoch 74/100\n",
      "800/800 [==============================] - 1s 789us/step - loss: 0.3409 - accuracy: 0.8601\n",
      "Epoch 75/100\n",
      "800/800 [==============================] - 1s 1ms/step - loss: 0.3411 - accuracy: 0.8606\n",
      "Epoch 76/100\n",
      "800/800 [==============================] - 1s 694us/step - loss: 0.3392 - accuracy: 0.8614\n",
      "Epoch 77/100\n",
      "800/800 [==============================] - 1s 704us/step - loss: 0.3396 - accuracy: 0.8619\n",
      "Epoch 78/100\n",
      "800/800 [==============================] - 1s 721us/step - loss: 0.3392 - accuracy: 0.8618\n",
      "Epoch 79/100\n",
      "800/800 [==============================] - 1s 705us/step - loss: 0.3399 - accuracy: 0.8619\n",
      "Epoch 80/100\n",
      "800/800 [==============================] - 1s 720us/step - loss: 0.3383 - accuracy: 0.8620\n",
      "Epoch 81/100\n",
      "800/800 [==============================] - 1s 702us/step - loss: 0.3379 - accuracy: 0.8639\n",
      "Epoch 82/100\n",
      "800/800 [==============================] - 1s 701us/step - loss: 0.3388 - accuracy: 0.8622\n",
      "Epoch 83/100\n",
      "800/800 [==============================] - 1s 688us/step - loss: 0.3382 - accuracy: 0.8618\n",
      "Epoch 84/100\n",
      "800/800 [==============================] - 1s 697us/step - loss: 0.3380 - accuracy: 0.8614\n",
      "Epoch 85/100\n",
      "800/800 [==============================] - 1s 702us/step - loss: 0.3374 - accuracy: 0.8629\n",
      "Epoch 86/100\n",
      "800/800 [==============================] - 1s 698us/step - loss: 0.3375 - accuracy: 0.8596\n",
      "Epoch 87/100\n",
      "800/800 [==============================] - 1s 693us/step - loss: 0.3377 - accuracy: 0.8627\n",
      "Epoch 88/100\n",
      "800/800 [==============================] - 1s 983us/step - loss: 0.3373 - accuracy: 0.8639\n",
      "Epoch 89/100\n",
      "800/800 [==============================] - 1s 759us/step - loss: 0.3371 - accuracy: 0.8627\n",
      "Epoch 90/100\n",
      "800/800 [==============================] - 1s 797us/step - loss: 0.3371 - accuracy: 0.8636\n",
      "Epoch 91/100\n",
      "800/800 [==============================] - 1s 738us/step - loss: 0.3370 - accuracy: 0.8616\n",
      "Epoch 92/100\n",
      "800/800 [==============================] - 1s 697us/step - loss: 0.3370 - accuracy: 0.8626\n",
      "Epoch 93/100\n",
      "800/800 [==============================] - 1s 836us/step - loss: 0.3376 - accuracy: 0.8640\n",
      "Epoch 94/100\n",
      "800/800 [==============================] - 1s 773us/step - loss: 0.3366 - accuracy: 0.8619\n",
      "Epoch 95/100\n",
      "800/800 [==============================] - 1s 834us/step - loss: 0.3360 - accuracy: 0.8648\n",
      "Epoch 96/100\n",
      "800/800 [==============================] - 1s 724us/step - loss: 0.3362 - accuracy: 0.8618\n",
      "Epoch 97/100\n",
      "800/800 [==============================] - 1s 730us/step - loss: 0.3360 - accuracy: 0.8620\n",
      "Epoch 98/100\n",
      "800/800 [==============================] - 1s 728us/step - loss: 0.3365 - accuracy: 0.8622\n",
      "Epoch 99/100\n",
      "800/800 [==============================] - 1s 794us/step - loss: 0.3363 - accuracy: 0.8639\n",
      "Epoch 100/100\n",
      "800/800 [==============================] - 1s 875us/step - loss: 0.3366 - accuracy: 0.8611\n",
      "Wall time: 59.6 s\n"
     ]
    },
    {
     "data": {
      "text/plain": [
       "<tensorflow.python.keras.callbacks.History at 0x1ef45a02af0>"
      ]
     },
     "execution_count": 26,
     "metadata": {},
     "output_type": "execute_result"
    }
   ],
   "source": [
    "%%time \n",
    "# Fitting our model \n",
    "classifier.fit(X_train, y_train, batch_size = 10, epochs = 100)"
   ]
  },
  {
   "cell_type": "markdown",
   "id": "352277d3-1046-4512-98f5-b8363bafee15",
   "metadata": {},
   "source": [
    "## Step 12: \n",
    "**Predicting** the test set result. The prediction result will give you probability of the customer leaving the company. We will convert that probability into binary 0 and 1."
   ]
  },
  {
   "cell_type": "code",
   "execution_count": 27,
   "id": "1cd476bd-5d25-42bc-8f3f-6cb3618dd3f1",
   "metadata": {},
   "outputs": [],
   "source": [
    "# Predicting the Test set results\n",
    "y_pred = classifier.predict(X_test)\n",
    "y_pred = (y_pred > 0.5)"
   ]
  },
  {
   "cell_type": "markdown",
   "id": "07622743-999a-4068-bdaf-d89a06ba4464",
   "metadata": {},
   "source": [
    "## Step 13: \n",
    "This is the final step where we are evaluating our model performance. We already have original results and thus we can build **confusion matrix** to check the accuracy of model."
   ]
  },
  {
   "cell_type": "code",
   "execution_count": 28,
   "id": "52f6fe7d-0ce8-4f4b-ad77-b856049761fb",
   "metadata": {},
   "outputs": [],
   "source": [
    "# Creating the Confusion Matrix\n",
    "from sklearn.metrics import confusion_matrix\n",
    "cm = confusion_matrix(y_test, y_pred)"
   ]
  },
  {
   "cell_type": "code",
   "execution_count": 29,
   "id": "6f62b266-54b2-4004-8882-520a14472198",
   "metadata": {},
   "outputs": [
    {
     "data": {
      "text/plain": [
       "array([[1509,   69],\n",
       "       [ 217,  205]], dtype=int64)"
      ]
     },
     "execution_count": 29,
     "metadata": {},
     "output_type": "execute_result"
    }
   ],
   "source": [
    "cm"
   ]
  },
  {
   "cell_type": "code",
   "execution_count": 30,
   "id": "b7ca8385-e869-4e2c-ad9d-79c59b84b9d0",
   "metadata": {},
   "outputs": [
    {
     "data": {
      "text/plain": [
       "2000"
      ]
     },
     "execution_count": 30,
     "metadata": {},
     "output_type": "execute_result"
    }
   ],
   "source": [
    "cm.sum()"
   ]
  },
  {
   "cell_type": "code",
   "execution_count": 31,
   "id": "9a46ad10-19ef-4324-a56a-81a7e4ff96be",
   "metadata": {},
   "outputs": [
    {
     "data": {
      "text/plain": [
       "1509"
      ]
     },
     "execution_count": 31,
     "metadata": {},
     "output_type": "execute_result"
    }
   ],
   "source": [
    "cm[0][0]"
   ]
  },
  {
   "cell_type": "code",
   "execution_count": 32,
   "id": "d809759f-6b8a-4f3e-9b3f-f8493e09c577",
   "metadata": {},
   "outputs": [
    {
     "data": {
      "text/plain": [
       "85.7"
      ]
     },
     "execution_count": 32,
     "metadata": {},
     "output_type": "execute_result"
    }
   ],
   "source": [
    "accuracy = (cm[0][0] + cm[1][1]) / cm.sum()\n",
    "round(accuracy * 100, 2)"
   ]
  },
  {
   "cell_type": "code",
   "execution_count": null,
   "id": "06570a8b-09aa-4cbb-afc3-42415a14b7bc",
   "metadata": {},
   "outputs": [],
   "source": []
  }
 ],
 "metadata": {
  "kernelspec": {
   "display_name": "Python 3",
   "language": "python",
   "name": "python3"
  },
  "language_info": {
   "codemirror_mode": {
    "name": "ipython",
    "version": 3
   },
   "file_extension": ".py",
   "mimetype": "text/x-python",
   "name": "python",
   "nbconvert_exporter": "python",
   "pygments_lexer": "ipython3",
   "version": "3.8.8"
  }
 },
 "nbformat": 4,
 "nbformat_minor": 5
}
