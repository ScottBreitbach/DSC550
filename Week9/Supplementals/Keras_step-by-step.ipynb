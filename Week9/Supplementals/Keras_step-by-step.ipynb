{
 "cells": [
  {
   "cell_type": "markdown",
   "id": "081f106c-f26d-4058-a264-112bd108fc2a",
   "metadata": {},
   "source": [
    "# Your First Deep Learning Project in Python with Keras Step-By-Step\n",
    "https://machinelearningmastery.com/tutorial-first-neural-network-python-keras/"
   ]
  },
  {
   "cell_type": "markdown",
   "id": "5e80b94c-cdc5-400c-898c-b86fce2831f4",
   "metadata": {},
   "source": [
    "## 1. Load Data"
   ]
  },
  {
   "cell_type": "code",
   "execution_count": 1,
   "id": "13624edb-4224-4e27-bb3c-cc378266e6bc",
   "metadata": {},
   "outputs": [],
   "source": [
    "# first neural network with keras tutorial\n",
    "from numpy import loadtxt\n",
    "from keras.models import Sequential\n",
    "from keras.layers import Dense"
   ]
  },
  {
   "cell_type": "markdown",
   "id": "e23b86b3-60a6-499d-bfcf-2436378671e3",
   "metadata": {},
   "source": [
    "Dataset: https://raw.githubusercontent.com/jbrownlee/Datasets/master/pima-indians-diabetes.data.csv  \n",
    "Details: https://raw.githubusercontent.com/jbrownlee/Datasets/master/pima-indians-diabetes.names"
   ]
  },
  {
   "cell_type": "code",
   "execution_count": 2,
   "id": "4f1c6144-3764-4250-bec1-d3a06ac1b93a",
   "metadata": {},
   "outputs": [],
   "source": [
    "# load the dataset\n",
    "dataset = loadtxt('pima-indians-diabetes.csv', delimiter=',')\n",
    "# split into input (X) and output (y) variables\n",
    "X = dataset[:,0:8]\n",
    "y = dataset[:,8]"
   ]
  },
  {
   "cell_type": "markdown",
   "id": "353aa64a-451a-441f-b4b1-a87e6f91f894",
   "metadata": {},
   "source": [
    "## 2. Define Keras Model"
   ]
  },
  {
   "cell_type": "code",
   "execution_count": 5,
   "id": "4cbe288a-c3e7-41d6-ba59-86c8df894567",
   "metadata": {},
   "outputs": [],
   "source": [
    "# define the keras model\n",
    "model = Sequential()\n",
    "model.add(Dense(12, input_dim=8, activation='relu'))\n",
    "model.add(Dense(8, activation='relu'))\n",
    "model.add(Dense(1, activation='sigmoid'))"
   ]
  },
  {
   "cell_type": "markdown",
   "id": "54903435-c6f5-45e5-8dd9-29bea0a435ce",
   "metadata": {},
   "source": [
    "## 3. Compile Keras Model"
   ]
  },
  {
   "cell_type": "markdown",
   "id": "05784748-99c2-4ae2-b642-317e364b8291",
   "metadata": {},
   "source": [
    "* [How to Choose Loss Functions When Training Deep Learning Neural Networks](https://machinelearningmastery.com/how-to-choose-loss-functions-when-training-deep-learning-neural-networks/)  \n",
    "* [Gentle Introduction to the Adam Optimization Algorithm for Deep Learning](https://machinelearningmastery.com/adam-optimization-algorithm-for-deep-learning/)"
   ]
  },
  {
   "cell_type": "code",
   "execution_count": 6,
   "id": "3f90fc34-47fa-4ffa-a2e3-ceaf4992e612",
   "metadata": {},
   "outputs": [
    {
     "name": "stdout",
     "output_type": "stream",
     "text": [
      "Wall time: 9.53 ms\n"
     ]
    }
   ],
   "source": [
    "# compile the keras model\n",
    "model.compile(loss='binary_crossentropy', optimizer='adam', metrics=['accuracy'])"
   ]
  },
  {
   "cell_type": "markdown",
   "id": "3ccffd13-702c-49a3-aa53-150b9ac48662",
   "metadata": {},
   "source": [
    "## 4. Fit Keras Model"
   ]
  },
  {
   "cell_type": "markdown",
   "id": "2a25d7bd-80c1-4d36-81e1-bc354b7ccac0",
   "metadata": {},
   "source": [
    "* [What is the Difference Between a Batch and an Epoch in a Neural Network?](https://machinelearningmastery.com/difference-between-a-batch-and-an-epoch/)"
   ]
  },
  {
   "cell_type": "code",
   "execution_count": 7,
   "id": "95b22d03-b4e5-4ea7-a101-42e4814904f8",
   "metadata": {},
   "outputs": [
    {
     "name": "stdout",
     "output_type": "stream",
     "text": [
      "Epoch 1/150\n",
      "77/77 [==============================] - 0s 1ms/step - loss: 1.8457 - accuracy: 0.5482\n",
      "Epoch 2/150\n",
      "77/77 [==============================] - 0s 1ms/step - loss: 1.1501 - accuracy: 0.5508\n",
      "Epoch 3/150\n",
      "77/77 [==============================] - 0s 1ms/step - loss: 0.8775 - accuracy: 0.6081\n",
      "Epoch 4/150\n",
      "77/77 [==============================] - 0s 1ms/step - loss: 0.7143 - accuracy: 0.6419\n",
      "Epoch 5/150\n",
      "77/77 [==============================] - 0s 1ms/step - loss: 0.7093 - accuracy: 0.6549\n",
      "Epoch 6/150\n",
      "77/77 [==============================] - 0s 1ms/step - loss: 0.6852 - accuracy: 0.6497\n",
      "Epoch 7/150\n",
      "77/77 [==============================] - 0s 1ms/step - loss: 0.6561 - accuracy: 0.6628\n",
      "Epoch 8/150\n",
      "77/77 [==============================] - 0s 1ms/step - loss: 0.6777 - accuracy: 0.6432\n",
      "Epoch 9/150\n",
      "77/77 [==============================] - 0s 1ms/step - loss: 0.6550 - accuracy: 0.6393\n",
      "Epoch 10/150\n",
      "77/77 [==============================] - 0s 1ms/step - loss: 0.6584 - accuracy: 0.6680\n",
      "Epoch 11/150\n",
      "77/77 [==============================] - 0s 1ms/step - loss: 0.6361 - accuracy: 0.6667\n",
      "Epoch 12/150\n",
      "77/77 [==============================] - 0s 1ms/step - loss: 0.6515 - accuracy: 0.6510\n",
      "Epoch 13/150\n",
      "77/77 [==============================] - 0s 1ms/step - loss: 0.6128 - accuracy: 0.6706\n",
      "Epoch 14/150\n",
      "77/77 [==============================] - 0s 1ms/step - loss: 0.6091 - accuracy: 0.6862\n",
      "Epoch 15/150\n",
      "77/77 [==============================] - 0s 1ms/step - loss: 0.6146 - accuracy: 0.6771\n",
      "Epoch 16/150\n",
      "77/77 [==============================] - 0s 2ms/step - loss: 0.6044 - accuracy: 0.6797\n",
      "Epoch 17/150\n",
      "77/77 [==============================] - 0s 1ms/step - loss: 0.5964 - accuracy: 0.6836\n",
      "Epoch 18/150\n",
      "77/77 [==============================] - 0s 1ms/step - loss: 0.5986 - accuracy: 0.6836\n",
      "Epoch 19/150\n",
      "77/77 [==============================] - 0s 1ms/step - loss: 0.6115 - accuracy: 0.6888\n",
      "Epoch 20/150\n",
      "77/77 [==============================] - 0s 1ms/step - loss: 0.5853 - accuracy: 0.6849\n",
      "Epoch 21/150\n",
      "77/77 [==============================] - 0s 1ms/step - loss: 0.6059 - accuracy: 0.6992\n",
      "Epoch 22/150\n",
      "77/77 [==============================] - 0s 1ms/step - loss: 0.5990 - accuracy: 0.6862\n",
      "Epoch 23/150\n",
      "77/77 [==============================] - 0s 1ms/step - loss: 0.5942 - accuracy: 0.6979\n",
      "Epoch 24/150\n",
      "77/77 [==============================] - 0s 1ms/step - loss: 0.5860 - accuracy: 0.6927\n",
      "Epoch 25/150\n",
      "77/77 [==============================] - 0s 1ms/step - loss: 0.5939 - accuracy: 0.6823\n",
      "Epoch 26/150\n",
      "77/77 [==============================] - 0s 1ms/step - loss: 0.5919 - accuracy: 0.7096\n",
      "Epoch 27/150\n",
      "77/77 [==============================] - 0s 1ms/step - loss: 0.5764 - accuracy: 0.6966\n",
      "Epoch 28/150\n",
      "77/77 [==============================] - 0s 1ms/step - loss: 0.6032 - accuracy: 0.6927\n",
      "Epoch 29/150\n",
      "77/77 [==============================] - 0s 1ms/step - loss: 0.5854 - accuracy: 0.6810\n",
      "Epoch 30/150\n",
      "77/77 [==============================] - 0s 1ms/step - loss: 0.5801 - accuracy: 0.6940\n",
      "Epoch 31/150\n",
      "77/77 [==============================] - 0s 1ms/step - loss: 0.5779 - accuracy: 0.6966\n",
      "Epoch 32/150\n",
      "77/77 [==============================] - 0s 1ms/step - loss: 0.5791 - accuracy: 0.6810\n",
      "Epoch 33/150\n",
      "77/77 [==============================] - 0s 1ms/step - loss: 0.5630 - accuracy: 0.6966\n",
      "Epoch 34/150\n",
      "77/77 [==============================] - 0s 1ms/step - loss: 0.5744 - accuracy: 0.6823\n",
      "Epoch 35/150\n",
      "77/77 [==============================] - 0s 1ms/step - loss: 0.5824 - accuracy: 0.7031\n",
      "Epoch 36/150\n",
      "77/77 [==============================] - 0s 1ms/step - loss: 0.5656 - accuracy: 0.7070\n",
      "Epoch 37/150\n",
      "77/77 [==============================] - 0s 1ms/step - loss: 0.5504 - accuracy: 0.7057\n",
      "Epoch 38/150\n",
      "77/77 [==============================] - 0s 1ms/step - loss: 0.5792 - accuracy: 0.6849\n",
      "Epoch 39/150\n",
      "77/77 [==============================] - 0s 1ms/step - loss: 0.5691 - accuracy: 0.7109\n",
      "Epoch 40/150\n",
      "77/77 [==============================] - 0s 1ms/step - loss: 0.5643 - accuracy: 0.7057\n",
      "Epoch 41/150\n",
      "77/77 [==============================] - 0s 1ms/step - loss: 0.5812 - accuracy: 0.7096\n",
      "Epoch 42/150\n",
      "77/77 [==============================] - 0s 1ms/step - loss: 0.5560 - accuracy: 0.7135\n",
      "Epoch 43/150\n",
      "77/77 [==============================] - 0s 1ms/step - loss: 0.5528 - accuracy: 0.7122\n",
      "Epoch 44/150\n",
      "77/77 [==============================] - 0s 1ms/step - loss: 0.5528 - accuracy: 0.7057\n",
      "Epoch 45/150\n",
      "77/77 [==============================] - 0s 1ms/step - loss: 0.5705 - accuracy: 0.6966\n",
      "Epoch 46/150\n",
      "77/77 [==============================] - 0s 2ms/step - loss: 0.5446 - accuracy: 0.7292\n",
      "Epoch 47/150\n",
      "77/77 [==============================] - 0s 1ms/step - loss: 0.5670 - accuracy: 0.7083\n",
      "Epoch 48/150\n",
      "77/77 [==============================] - 0s 1ms/step - loss: 0.5358 - accuracy: 0.7370\n",
      "Epoch 49/150\n",
      "77/77 [==============================] - 0s 1ms/step - loss: 0.5636 - accuracy: 0.7188\n",
      "Epoch 50/150\n",
      "77/77 [==============================] - 0s 1ms/step - loss: 0.5556 - accuracy: 0.7240\n",
      "Epoch 51/150\n",
      "77/77 [==============================] - 0s 1ms/step - loss: 0.5802 - accuracy: 0.7031\n",
      "Epoch 52/150\n",
      "77/77 [==============================] - 0s 1ms/step - loss: 0.5440 - accuracy: 0.7305\n",
      "Epoch 53/150\n",
      "77/77 [==============================] - 0s 1ms/step - loss: 0.5457 - accuracy: 0.7357\n",
      "Epoch 54/150\n",
      "77/77 [==============================] - 0s 1ms/step - loss: 0.5464 - accuracy: 0.7279\n",
      "Epoch 55/150\n",
      "77/77 [==============================] - 0s 1ms/step - loss: 0.5440 - accuracy: 0.7279\n",
      "Epoch 56/150\n",
      "77/77 [==============================] - 0s 1ms/step - loss: 0.5349 - accuracy: 0.7214\n",
      "Epoch 57/150\n",
      "77/77 [==============================] - 0s 1ms/step - loss: 0.5296 - accuracy: 0.7331\n",
      "Epoch 58/150\n",
      "77/77 [==============================] - 0s 1ms/step - loss: 0.5619 - accuracy: 0.7266\n",
      "Epoch 59/150\n",
      "77/77 [==============================] - 0s 1ms/step - loss: 0.5335 - accuracy: 0.7448\n",
      "Epoch 60/150\n",
      "77/77 [==============================] - 0s 1ms/step - loss: 0.5328 - accuracy: 0.7227\n",
      "Epoch 61/150\n",
      "77/77 [==============================] - 0s 1ms/step - loss: 0.5406 - accuracy: 0.7318\n",
      "Epoch 62/150\n",
      "77/77 [==============================] - 0s 1ms/step - loss: 0.5345 - accuracy: 0.7227\n",
      "Epoch 63/150\n",
      "77/77 [==============================] - 0s 1ms/step - loss: 0.5283 - accuracy: 0.7383\n",
      "Epoch 64/150\n",
      "77/77 [==============================] - 0s 1ms/step - loss: 0.5390 - accuracy: 0.7161\n",
      "Epoch 65/150\n",
      "77/77 [==============================] - 0s 1ms/step - loss: 0.5318 - accuracy: 0.7331\n",
      "Epoch 66/150\n",
      "77/77 [==============================] - 0s 1ms/step - loss: 0.5511 - accuracy: 0.7227\n",
      "Epoch 67/150\n",
      "77/77 [==============================] - 0s 1ms/step - loss: 0.5584 - accuracy: 0.7305\n",
      "Epoch 68/150\n",
      "77/77 [==============================] - 0s 1ms/step - loss: 0.5335 - accuracy: 0.7448\n",
      "Epoch 69/150\n",
      "77/77 [==============================] - 0s 1ms/step - loss: 0.5244 - accuracy: 0.7266\n",
      "Epoch 70/150\n",
      "77/77 [==============================] - 0s 1ms/step - loss: 0.5283 - accuracy: 0.7305\n",
      "Epoch 71/150\n",
      "77/77 [==============================] - 0s 1ms/step - loss: 0.5276 - accuracy: 0.7474\n",
      "Epoch 72/150\n",
      "77/77 [==============================] - 0s 1ms/step - loss: 0.5236 - accuracy: 0.7448\n",
      "Epoch 73/150\n",
      "77/77 [==============================] - 0s 1ms/step - loss: 0.5807 - accuracy: 0.7188\n",
      "Epoch 74/150\n",
      "77/77 [==============================] - 0s 1ms/step - loss: 0.5190 - accuracy: 0.7409\n",
      "Epoch 75/150\n",
      "77/77 [==============================] - 0s 1ms/step - loss: 0.5180 - accuracy: 0.7526\n",
      "Epoch 76/150\n",
      "77/77 [==============================] - 0s 1ms/step - loss: 0.5394 - accuracy: 0.7357\n",
      "Epoch 77/150\n",
      "77/77 [==============================] - 0s 1ms/step - loss: 0.5268 - accuracy: 0.7396\n",
      "Epoch 78/150\n",
      "77/77 [==============================] - 0s 1ms/step - loss: 0.5201 - accuracy: 0.7474\n",
      "Epoch 79/150\n",
      "77/77 [==============================] - 0s 1ms/step - loss: 0.5182 - accuracy: 0.7461\n",
      "Epoch 80/150\n",
      "77/77 [==============================] - 0s 1ms/step - loss: 0.5094 - accuracy: 0.7578\n",
      "Epoch 81/150\n",
      "77/77 [==============================] - 0s 1ms/step - loss: 0.5328 - accuracy: 0.7344\n",
      "Epoch 82/150\n",
      "77/77 [==============================] - 0s 1ms/step - loss: 0.5470 - accuracy: 0.7305\n",
      "Epoch 83/150\n",
      "77/77 [==============================] - 0s 1ms/step - loss: 0.5319 - accuracy: 0.7461\n",
      "Epoch 84/150\n",
      "77/77 [==============================] - 0s 1ms/step - loss: 0.5228 - accuracy: 0.7656\n",
      "Epoch 85/150\n",
      "77/77 [==============================] - 0s 1ms/step - loss: 0.5175 - accuracy: 0.7487\n",
      "Epoch 86/150\n",
      "77/77 [==============================] - 0s 1ms/step - loss: 0.5144 - accuracy: 0.7422\n",
      "Epoch 87/150\n",
      "77/77 [==============================] - 0s 1ms/step - loss: 0.5274 - accuracy: 0.7461\n",
      "Epoch 88/150\n",
      "77/77 [==============================] - 0s 1ms/step - loss: 0.5145 - accuracy: 0.7578\n",
      "Epoch 89/150\n",
      "77/77 [==============================] - 0s 1ms/step - loss: 0.5227 - accuracy: 0.7513\n",
      "Epoch 90/150\n",
      "77/77 [==============================] - 0s 1ms/step - loss: 0.5295 - accuracy: 0.7513\n",
      "Epoch 91/150\n",
      "77/77 [==============================] - 0s 1ms/step - loss: 0.5113 - accuracy: 0.7539\n",
      "Epoch 92/150\n",
      "77/77 [==============================] - 0s 1ms/step - loss: 0.5096 - accuracy: 0.7604\n",
      "Epoch 93/150\n",
      "77/77 [==============================] - 0s 1ms/step - loss: 0.5105 - accuracy: 0.7513\n",
      "Epoch 94/150\n",
      "77/77 [==============================] - 0s 1ms/step - loss: 0.5032 - accuracy: 0.7461\n",
      "Epoch 95/150\n",
      "77/77 [==============================] - 0s 976us/step - loss: 0.5182 - accuracy: 0.7305\n",
      "Epoch 96/150\n",
      "77/77 [==============================] - 0s 1ms/step - loss: 0.5035 - accuracy: 0.7604\n",
      "Epoch 97/150\n",
      "77/77 [==============================] - 0s 1ms/step - loss: 0.5008 - accuracy: 0.7539\n",
      "Epoch 98/150\n",
      "77/77 [==============================] - 0s 1ms/step - loss: 0.5159 - accuracy: 0.7617\n",
      "Epoch 99/150\n",
      "77/77 [==============================] - 0s 1ms/step - loss: 0.5021 - accuracy: 0.7643\n",
      "Epoch 100/150\n",
      "77/77 [==============================] - 0s 1ms/step - loss: 0.5099 - accuracy: 0.7539\n",
      "Epoch 101/150\n",
      "77/77 [==============================] - 0s 1ms/step - loss: 0.5077 - accuracy: 0.7474\n",
      "Epoch 102/150\n",
      "77/77 [==============================] - 0s 1ms/step - loss: 0.5167 - accuracy: 0.7435\n",
      "Epoch 103/150\n",
      "77/77 [==============================] - 0s 1ms/step - loss: 0.5121 - accuracy: 0.7695\n",
      "Epoch 104/150\n",
      "77/77 [==============================] - 0s 1ms/step - loss: 0.5062 - accuracy: 0.7552\n",
      "Epoch 105/150\n",
      "77/77 [==============================] - 0s 1ms/step - loss: 0.5054 - accuracy: 0.7630\n",
      "Epoch 106/150\n",
      "77/77 [==============================] - 0s 1ms/step - loss: 0.5034 - accuracy: 0.7617\n",
      "Epoch 107/150\n",
      "77/77 [==============================] - 0s 1ms/step - loss: 0.5087 - accuracy: 0.7552\n",
      "Epoch 108/150\n",
      "77/77 [==============================] - 0s 1ms/step - loss: 0.4893 - accuracy: 0.7656\n",
      "Epoch 109/150\n",
      "77/77 [==============================] - 0s 1ms/step - loss: 0.4946 - accuracy: 0.7734\n",
      "Epoch 110/150\n",
      "77/77 [==============================] - 0s 1ms/step - loss: 0.5080 - accuracy: 0.7578\n",
      "Epoch 111/150\n",
      "77/77 [==============================] - 0s 1ms/step - loss: 0.5044 - accuracy: 0.7396\n",
      "Epoch 112/150\n",
      "77/77 [==============================] - 0s 1ms/step - loss: 0.4933 - accuracy: 0.7643\n",
      "Epoch 113/150\n",
      "77/77 [==============================] - 0s 1ms/step - loss: 0.4991 - accuracy: 0.7786\n",
      "Epoch 114/150\n",
      "77/77 [==============================] - 0s 1ms/step - loss: 0.4927 - accuracy: 0.7604\n",
      "Epoch 115/150\n",
      "77/77 [==============================] - 0s 1ms/step - loss: 0.4919 - accuracy: 0.7721\n",
      "Epoch 116/150\n",
      "77/77 [==============================] - 0s 1ms/step - loss: 0.5005 - accuracy: 0.7656\n",
      "Epoch 117/150\n",
      "77/77 [==============================] - 0s 1ms/step - loss: 0.4930 - accuracy: 0.7630\n",
      "Epoch 118/150\n",
      "77/77 [==============================] - 0s 1ms/step - loss: 0.4939 - accuracy: 0.7656\n",
      "Epoch 119/150\n",
      "77/77 [==============================] - 0s 1ms/step - loss: 0.5009 - accuracy: 0.7695\n",
      "Epoch 120/150\n",
      "77/77 [==============================] - 0s 1ms/step - loss: 0.4958 - accuracy: 0.7539\n",
      "Epoch 121/150\n",
      "77/77 [==============================] - 0s 1ms/step - loss: 0.5032 - accuracy: 0.7643\n",
      "Epoch 122/150\n",
      "77/77 [==============================] - 0s 1ms/step - loss: 0.4976 - accuracy: 0.7656\n",
      "Epoch 123/150\n",
      "77/77 [==============================] - 0s 1ms/step - loss: 0.5075 - accuracy: 0.7708\n",
      "Epoch 124/150\n",
      "77/77 [==============================] - 0s 1ms/step - loss: 0.4984 - accuracy: 0.7526\n",
      "Epoch 125/150\n",
      "77/77 [==============================] - 0s 1ms/step - loss: 0.4876 - accuracy: 0.7669\n",
      "Epoch 126/150\n",
      "77/77 [==============================] - 0s 1ms/step - loss: 0.4862 - accuracy: 0.7760\n",
      "Epoch 127/150\n",
      "77/77 [==============================] - 0s 1ms/step - loss: 0.4892 - accuracy: 0.7878\n",
      "Epoch 128/150\n",
      "77/77 [==============================] - 0s 1ms/step - loss: 0.5015 - accuracy: 0.7565\n",
      "Epoch 129/150\n",
      "77/77 [==============================] - 0s 1ms/step - loss: 0.4877 - accuracy: 0.7656\n",
      "Epoch 130/150\n",
      "77/77 [==============================] - 0s 1ms/step - loss: 0.4840 - accuracy: 0.7695\n",
      "Epoch 131/150\n",
      "77/77 [==============================] - 0s 1ms/step - loss: 0.4873 - accuracy: 0.7786\n",
      "Epoch 132/150\n",
      "77/77 [==============================] - 0s 1ms/step - loss: 0.5028 - accuracy: 0.7591\n",
      "Epoch 133/150\n",
      "77/77 [==============================] - ETA: 0s - loss: 0.4738 - accuracy: 0.77 - 0s 1ms/step - loss: 0.4884 - accuracy: 0.7578\n",
      "Epoch 134/150\n",
      "77/77 [==============================] - 0s 1ms/step - loss: 0.5182 - accuracy: 0.7656\n",
      "Epoch 135/150\n",
      "77/77 [==============================] - 0s 1ms/step - loss: 0.5086 - accuracy: 0.7617\n",
      "Epoch 136/150\n",
      "77/77 [==============================] - 0s 1ms/step - loss: 0.4861 - accuracy: 0.7773\n",
      "Epoch 137/150\n",
      "77/77 [==============================] - 0s 1ms/step - loss: 0.4958 - accuracy: 0.7708\n",
      "Epoch 138/150\n",
      "77/77 [==============================] - 0s 1ms/step - loss: 0.4843 - accuracy: 0.7747\n",
      "Epoch 139/150\n",
      "77/77 [==============================] - 0s 1ms/step - loss: 0.4952 - accuracy: 0.7552\n",
      "Epoch 140/150\n",
      "77/77 [==============================] - 0s 978us/step - loss: 0.4805 - accuracy: 0.7695\n",
      "Epoch 141/150\n",
      "77/77 [==============================] - 0s 1ms/step - loss: 0.4849 - accuracy: 0.7643\n",
      "Epoch 142/150\n",
      "77/77 [==============================] - 0s 1ms/step - loss: 0.4922 - accuracy: 0.7643\n",
      "Epoch 143/150\n",
      "77/77 [==============================] - 0s 1ms/step - loss: 0.4879 - accuracy: 0.7500\n",
      "Epoch 144/150\n",
      "77/77 [==============================] - 0s 1ms/step - loss: 0.4869 - accuracy: 0.7708\n",
      "Epoch 145/150\n",
      "77/77 [==============================] - 0s 1ms/step - loss: 0.4979 - accuracy: 0.7474\n",
      "Epoch 146/150\n",
      "77/77 [==============================] - 0s 1ms/step - loss: 0.4952 - accuracy: 0.7526\n",
      "Epoch 147/150\n",
      "77/77 [==============================] - 0s 1ms/step - loss: 0.4844 - accuracy: 0.7643\n",
      "Epoch 148/150\n",
      "77/77 [==============================] - 0s 1ms/step - loss: 0.4793 - accuracy: 0.7643\n",
      "Epoch 149/150\n",
      "77/77 [==============================] - 0s 1ms/step - loss: 0.5045 - accuracy: 0.7552\n",
      "Epoch 150/150\n",
      "77/77 [==============================] - 0s 1ms/step - loss: 0.4707 - accuracy: 0.7852\n",
      "Wall time: 15 s\n"
     ]
    },
    {
     "data": {
      "text/plain": [
       "<tensorflow.python.keras.callbacks.History at 0x2a3c2ee9910>"
      ]
     },
     "execution_count": 7,
     "metadata": {},
     "output_type": "execute_result"
    }
   ],
   "source": [
    "%%time\n",
    "# fit the keras model on the dataset\n",
    "model.fit(X, y, epochs=150, batch_size=10)"
   ]
  },
  {
   "cell_type": "markdown",
   "id": "8a22d4a5-239c-4af6-a583-9daf455e71f3",
   "metadata": {},
   "source": [
    "No GPU is required for this example, but if you’re interested in how to run large models on GPU hardware cheaply in the cloud, see this post:\n",
    "\n",
    "* [How to Setup Amazon AWS EC2 GPUs to Train Keras Deep Learning Models](https://machinelearningmastery.com/develop-evaluate-large-deep-learning-models-keras-amazon-web-services/)"
   ]
  },
  {
   "cell_type": "markdown",
   "id": "e23bb25b-32fc-4a8e-b585-00f6305bd0c7",
   "metadata": {},
   "source": [
    "## 5. Evaluate Keras Model"
   ]
  },
  {
   "cell_type": "markdown",
   "id": "a3bcfa20-48a1-460b-824f-e36ea417cac4",
   "metadata": {},
   "source": [
    "The evaluate() function will return a list with two values. The first will be the loss of the model on the dataset and the second will be the accuracy of the model on the dataset. We are only interested in reporting the accuracy, so we will ignore the loss value."
   ]
  },
  {
   "cell_type": "code",
   "execution_count": 8,
   "id": "2c7d43fb-36b7-4f65-bc8b-62b6fa500a28",
   "metadata": {},
   "outputs": [
    {
     "name": "stdout",
     "output_type": "stream",
     "text": [
      "24/24 [==============================] - 0s 733us/step - loss: 0.4613 - accuracy: 0.7891\n",
      "Accuracy: 78.91\n"
     ]
    }
   ],
   "source": [
    "# evaluate the keras model\n",
    "_, accuracy = model.evaluate(X, y)\n",
    "print('Accuracy: %.2f' % (accuracy*100))"
   ]
  },
  {
   "cell_type": "markdown",
   "id": "9e3d7d25-5426-4821-aa84-a2a83b3a3705",
   "metadata": {},
   "source": [
    "The goal is to choose a model configuration and training configuration that achieve the lowest loss and highest accuracy possible for a given dataset."
   ]
  },
  {
   "cell_type": "markdown",
   "id": "ef6393aa-4f18-452f-9441-da688f5d7100",
   "metadata": {},
   "source": [
    "## 6. Tie It All Together"
   ]
  },
  {
   "cell_type": "markdown",
   "id": "d8ce5f03-6002-4e70-b84f-e5ba773204c6",
   "metadata": {},
   "source": [
    "You may need to fit it many times and calculate the average of the accuracy scores. For more on this approach to evaluating neural networks, see the post:\n",
    "\n",
    "* [How to Evaluate the Skill of Deep Learning Models](https://machinelearningmastery.com/evaluate-skill-deep-learning-models/)"
   ]
  },
  {
   "cell_type": "markdown",
   "id": "7dedbdc3-a49a-459f-9788-597278d30aa8",
   "metadata": {},
   "source": [
    "## 7. Make Predictions"
   ]
  },
  {
   "cell_type": "markdown",
   "id": "1b054b49-3a3a-400c-8ba9-6b348d8b7a4c",
   "metadata": {},
   "source": [
    "We can easily convert them into a crisp binary prediction for this classification task by rounding them."
   ]
  },
  {
   "cell_type": "code",
   "execution_count": 9,
   "id": "bf33f183-0660-4f80-8d89-08ed1dfeac09",
   "metadata": {},
   "outputs": [],
   "source": [
    "# make probability predictions with the model\n",
    "predictions = model.predict(X)\n",
    "# round predictions \n",
    "rounded = [round(x[0]) for x in predictions]"
   ]
  },
  {
   "cell_type": "markdown",
   "id": "b0a1fd0b-baf3-460d-9f8c-a46a84a576d8",
   "metadata": {},
   "source": [
    "Alternately, we can call the predict_classes() function on the model to predict crisp classes directly, for example:"
   ]
  },
  {
   "cell_type": "code",
   "execution_count": 20,
   "id": "5f914d2d-678c-416c-8fc8-bc0480f93058",
   "metadata": {},
   "outputs": [],
   "source": [
    "# make class predictions with the model\n",
    "predictions = model.predict_classes(X)"
   ]
  },
  {
   "cell_type": "markdown",
   "id": "c7f3794d-6fd0-48b2-b510-5b82d735344c",
   "metadata": {},
   "source": [
    "WARNING:tensorflow:From <ipython-input-10-e5fbfa914ea8>:2: Sequential.predict_classes (from tensorflow.python.keras.engine.sequential) is deprecated and will be removed after 2021-01-01.\n",
    "Instructions for updating:\n",
    "Please use instead:* `np.argmax(model.predict(x), axis=-1)`,   if your model does multi-class classification   (e.g. if it uses a `softmax` last-layer activation).* `(model.predict(x) > 0.5).astype(\"int32\")`,   if your model does binary classification   (e.g. if it uses a `sigmoid` last-layer activation)."
   ]
  },
  {
   "cell_type": "code",
   "execution_count": 19,
   "id": "8b2f8734-4294-4dba-b478-da416dfaa9db",
   "metadata": {},
   "outputs": [],
   "source": [
    "# import numpy as np\n",
    "# predictions = np.argmax(model.predict(X) > 0.5).astype(\"int32\")"
   ]
  },
  {
   "cell_type": "markdown",
   "id": "6471aac9-70a4-44ae-96f7-a44474714272",
   "metadata": {},
   "source": [
    "Okay, apparently this isn't a direct replacement..."
   ]
  },
  {
   "cell_type": "code",
   "execution_count": 21,
   "id": "43513c5b-b4d7-487b-9850-88719c143305",
   "metadata": {},
   "outputs": [
    {
     "name": "stdout",
     "output_type": "stream",
     "text": [
      "[6.0, 148.0, 72.0, 35.0, 0.0, 33.6, 0.627, 50.0] => 1 (expected 1)\n",
      "[1.0, 85.0, 66.0, 29.0, 0.0, 26.6, 0.351, 31.0] => 0 (expected 0)\n",
      "[8.0, 183.0, 64.0, 0.0, 0.0, 23.3, 0.672, 32.0] => 1 (expected 1)\n",
      "[1.0, 89.0, 66.0, 23.0, 94.0, 28.1, 0.167, 21.0] => 0 (expected 0)\n",
      "[0.0, 137.0, 40.0, 35.0, 168.0, 43.1, 2.288, 33.0] => 0 (expected 1)\n"
     ]
    }
   ],
   "source": [
    "# summarize the first 5 cases\n",
    "for i in range(5):\n",
    "\tprint('%s => %d (expected %d)' % (X[i].tolist(), predictions[i], y[i]))"
   ]
  },
  {
   "cell_type": "code",
   "execution_count": 17,
   "id": "2d7ea4ef-a682-4b9f-963b-cbffe2016ebb",
   "metadata": {},
   "outputs": [
    {
     "data": {
      "text/plain": [
       "[6.0, 148.0, 72.0, 35.0, 0.0, 33.6, 0.627, 50.0]"
      ]
     },
     "execution_count": 17,
     "metadata": {},
     "output_type": "execute_result"
    }
   ],
   "source": [
    "X[0].tolist()"
   ]
  },
  {
   "cell_type": "markdown",
   "id": "6cb962ea-faee-4a86-80c5-1045522a08a6",
   "metadata": {},
   "source": [
    "If you would like to know more about how to make predictions with Keras models, see the post:\n",
    "\n",
    "* [How to Make Predictions with Keras](https://machinelearningmastery.com/how-to-make-classification-and-regression-predictions-for-deep-learning-models-in-keras/)"
   ]
  },
  {
   "cell_type": "markdown",
   "id": "34b3cf08-d818-4973-994f-1a7902bcad6a",
   "metadata": {},
   "source": [
    "# Keras Tutorial Summary"
   ]
  },
  {
   "cell_type": "markdown",
   "id": "f3452449-4ba7-4b41-a4c2-abbfe19c03b8",
   "metadata": {},
   "source": [
    "## Keras Tutorial Extensions\n",
    "Well done, you have successfully developed your first neural network using the Keras deep learning library in Python.\n",
    "\n",
    "This section provides some extensions to this tutorial that you might want to explore.\n",
    "\n",
    "* **Tune the Model.** Change the configuration of the model or training process and see if you can improve the performance of the model, e.g. achieve better than 76% accuracy.\n",
    "* **Save the Model.** Update the tutorial to save the model to file, then load it later and use it to make predictions (see this tutorial).\n",
    "* **Summarize the Model.** Update the tutorial to summarize the model and create a plot of model layers (see this tutorial).\n",
    "* **Separate Train** and Test Datasets. Split the loaded dataset into a train and test set (split based on rows) and use one set to train the model and the other set to estimate the performance of the model on new data.\n",
    "* **Plot Learning Curves.** The fit() function returns a history object that summarizes the loss and accuracy at the end of each epoch. Create line plots of this data, called learning curves (see this tutorial).\n",
    "* **Learn a New Dataset.** Update the tutorial to use a different tabular dataset, perhaps from the UCI Machine Learning Repository.\n",
    "* **Use Functional API.** Update the tutorial to use the Keras Functional API for defining the model (see this tutorial).  \n",
    "\n",
    "## Further Reading\n",
    "Are you looking for some more Deep Learning tutorials with Python and Keras?\n",
    "\n",
    "Take a look at some of these:\n",
    "\n",
    "### Related Tutorials\n",
    "* 5 Step Life-Cycle for Neural Network Models in Keras\n",
    "* Multi-Class Classification Tutorial with the Keras Deep Learning Library\n",
    "* Regression Tutorial with the Keras Deep Learning Library in Python\n",
    "* How to Grid Search Hyperparameters for Deep Learning Models in Python With Keras  \n",
    "\n",
    "### Books\n",
    "* Deep Learning (Textbook), 2016.\n",
    "* Deep Learning with Python (my book).  \n",
    "\n",
    "### APIs\n",
    "* Keras Deep Learning Library Homepage\n",
    "* Keras API Documentation"
   ]
  },
  {
   "cell_type": "code",
   "execution_count": null,
   "id": "e22c4939-f484-4fe4-b1f7-0cce6aceeeed",
   "metadata": {},
   "outputs": [],
   "source": []
  }
 ],
 "metadata": {
  "kernelspec": {
   "display_name": "Python 3",
   "language": "python",
   "name": "python3"
  },
  "language_info": {
   "codemirror_mode": {
    "name": "ipython",
    "version": 3
   },
   "file_extension": ".py",
   "mimetype": "text/x-python",
   "name": "python",
   "nbconvert_exporter": "python",
   "pygments_lexer": "ipython3",
   "version": "3.8.8"
  }
 },
 "nbformat": 4,
 "nbformat_minor": 5
}
