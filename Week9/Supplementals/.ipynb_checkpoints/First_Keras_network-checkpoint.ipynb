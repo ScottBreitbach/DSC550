{
 "cells": [
  {
   "cell_type": "markdown",
   "id": "acacf437-9d8b-4d0d-bc79-96bc452f1b02",
   "metadata": {},
   "source": [
    "# Build your First Deep Learning Neural Network Model using Keras in Python\n",
    "https://medium.com/@pushkarmandot/build-your-first-deep-learning-neural-network-model-using-keras-in-python-a90b5864116d"
   ]
  },
  {
   "cell_type": "code",
   "execution_count": 5,
   "id": "014bb316-3346-41ac-939c-be5798392408",
   "metadata": {},
   "outputs": [],
   "source": [
    "import theano\n",
    "import tensorflow\n",
    "import keras"
   ]
  },
  {
   "cell_type": "markdown",
   "id": "1d6ec106-f1fe-4fed-820a-25fec31ab06f",
   "metadata": {},
   "source": [
    "## Step 1: \n",
    "Importing data. Pandas DataFrame gives massive functionality to work on data thus, here we are using pandas to import data."
   ]
  },
  {
   "cell_type": "code",
   "execution_count": 6,
   "id": "1b7105fb-4bcd-4647-9300-6853394ac1b7",
   "metadata": {},
   "outputs": [],
   "source": [
    "# Importing the libraries\n",
    "import numpy as np\n",
    "import matplotlib.pyplot as plt\n",
    "import pandas as pd"
   ]
  },
  {
   "cell_type": "code",
   "execution_count": 7,
   "id": "b4c11551-9082-4eee-a59f-a99d1fb2f4d5",
   "metadata": {},
   "outputs": [],
   "source": [
    "# Importing the dataset\n",
    "dataset = pd.read_csv('Churn_Modelling.csv')"
   ]
  },
  {
   "cell_type": "code",
   "execution_count": 8,
   "id": "7b85bcdd-2e3a-4111-9b3c-1d7909b345a6",
   "metadata": {},
   "outputs": [
    {
     "data": {
      "text/html": [
       "<div>\n",
       "<style scoped>\n",
       "    .dataframe tbody tr th:only-of-type {\n",
       "        vertical-align: middle;\n",
       "    }\n",
       "\n",
       "    .dataframe tbody tr th {\n",
       "        vertical-align: top;\n",
       "    }\n",
       "\n",
       "    .dataframe thead th {\n",
       "        text-align: right;\n",
       "    }\n",
       "</style>\n",
       "<table border=\"1\" class=\"dataframe\">\n",
       "  <thead>\n",
       "    <tr style=\"text-align: right;\">\n",
       "      <th></th>\n",
       "      <th>RowNumber</th>\n",
       "      <th>CustomerId</th>\n",
       "      <th>Surname</th>\n",
       "      <th>CreditScore</th>\n",
       "      <th>Geography</th>\n",
       "      <th>Gender</th>\n",
       "      <th>Age</th>\n",
       "      <th>Tenure</th>\n",
       "      <th>Balance</th>\n",
       "      <th>NumOfProducts</th>\n",
       "      <th>HasCrCard</th>\n",
       "      <th>IsActiveMember</th>\n",
       "      <th>EstimatedSalary</th>\n",
       "      <th>Exited</th>\n",
       "    </tr>\n",
       "  </thead>\n",
       "  <tbody>\n",
       "    <tr>\n",
       "      <th>0</th>\n",
       "      <td>1</td>\n",
       "      <td>15634602</td>\n",
       "      <td>Hargrave</td>\n",
       "      <td>619</td>\n",
       "      <td>France</td>\n",
       "      <td>Female</td>\n",
       "      <td>42</td>\n",
       "      <td>2</td>\n",
       "      <td>0.00</td>\n",
       "      <td>1</td>\n",
       "      <td>1</td>\n",
       "      <td>1</td>\n",
       "      <td>101348.88</td>\n",
       "      <td>1</td>\n",
       "    </tr>\n",
       "    <tr>\n",
       "      <th>1</th>\n",
       "      <td>2</td>\n",
       "      <td>15647311</td>\n",
       "      <td>Hill</td>\n",
       "      <td>608</td>\n",
       "      <td>Spain</td>\n",
       "      <td>Female</td>\n",
       "      <td>41</td>\n",
       "      <td>1</td>\n",
       "      <td>83807.86</td>\n",
       "      <td>1</td>\n",
       "      <td>0</td>\n",
       "      <td>1</td>\n",
       "      <td>112542.58</td>\n",
       "      <td>0</td>\n",
       "    </tr>\n",
       "    <tr>\n",
       "      <th>2</th>\n",
       "      <td>3</td>\n",
       "      <td>15619304</td>\n",
       "      <td>Onio</td>\n",
       "      <td>502</td>\n",
       "      <td>France</td>\n",
       "      <td>Female</td>\n",
       "      <td>42</td>\n",
       "      <td>8</td>\n",
       "      <td>159660.80</td>\n",
       "      <td>3</td>\n",
       "      <td>1</td>\n",
       "      <td>0</td>\n",
       "      <td>113931.57</td>\n",
       "      <td>1</td>\n",
       "    </tr>\n",
       "    <tr>\n",
       "      <th>3</th>\n",
       "      <td>4</td>\n",
       "      <td>15701354</td>\n",
       "      <td>Boni</td>\n",
       "      <td>699</td>\n",
       "      <td>France</td>\n",
       "      <td>Female</td>\n",
       "      <td>39</td>\n",
       "      <td>1</td>\n",
       "      <td>0.00</td>\n",
       "      <td>2</td>\n",
       "      <td>0</td>\n",
       "      <td>0</td>\n",
       "      <td>93826.63</td>\n",
       "      <td>0</td>\n",
       "    </tr>\n",
       "    <tr>\n",
       "      <th>4</th>\n",
       "      <td>5</td>\n",
       "      <td>15737888</td>\n",
       "      <td>Mitchell</td>\n",
       "      <td>850</td>\n",
       "      <td>Spain</td>\n",
       "      <td>Female</td>\n",
       "      <td>43</td>\n",
       "      <td>2</td>\n",
       "      <td>125510.82</td>\n",
       "      <td>1</td>\n",
       "      <td>1</td>\n",
       "      <td>1</td>\n",
       "      <td>79084.10</td>\n",
       "      <td>0</td>\n",
       "    </tr>\n",
       "  </tbody>\n",
       "</table>\n",
       "</div>"
      ],
      "text/plain": [
       "   RowNumber  CustomerId   Surname  CreditScore Geography  Gender  Age  \\\n",
       "0          1    15634602  Hargrave          619    France  Female   42   \n",
       "1          2    15647311      Hill          608     Spain  Female   41   \n",
       "2          3    15619304      Onio          502    France  Female   42   \n",
       "3          4    15701354      Boni          699    France  Female   39   \n",
       "4          5    15737888  Mitchell          850     Spain  Female   43   \n",
       "\n",
       "   Tenure    Balance  NumOfProducts  HasCrCard  IsActiveMember  \\\n",
       "0       2       0.00              1          1               1   \n",
       "1       1   83807.86              1          0               1   \n",
       "2       8  159660.80              3          1               0   \n",
       "3       1       0.00              2          0               0   \n",
       "4       2  125510.82              1          1               1   \n",
       "\n",
       "   EstimatedSalary  Exited  \n",
       "0        101348.88       1  \n",
       "1        112542.58       0  \n",
       "2        113931.57       1  \n",
       "3         93826.63       0  \n",
       "4         79084.10       0  "
      ]
     },
     "execution_count": 8,
     "metadata": {},
     "output_type": "execute_result"
    }
   ],
   "source": [
    "dataset.head()"
   ]
  },
  {
   "cell_type": "code",
   "execution_count": 10,
   "id": "124dcd92-7590-4e25-a15d-f0d579a000c1",
   "metadata": {},
   "outputs": [
    {
     "data": {
      "text/plain": [
       "(10000, 14)"
      ]
     },
     "execution_count": 10,
     "metadata": {},
     "output_type": "execute_result"
    }
   ],
   "source": [
    "dataset.shape"
   ]
  },
  {
   "cell_type": "markdown",
   "id": "f8c7710c-b453-403d-84d9-c3b02d6071f1",
   "metadata": {},
   "source": [
    "## Step 2: \n",
    "Create matrix of features and matrix of target variable. In this case we are excluding column 1 & 2 as those are ‘row_number’ and ‘customerid’ which are not useful in our analysis. Column 14, ‘Exited’ is our Target Variable"
   ]
  },
  {
   "cell_type": "code",
   "execution_count": 11,
   "id": "8145ef6b-bf69-445f-866c-f2eeb473c070",
   "metadata": {},
   "outputs": [],
   "source": [
    "X = dataset.iloc[:, 3:13].values\n",
    "y = dataset.iloc[:, 13].values"
   ]
  },
  {
   "cell_type": "code",
   "execution_count": 12,
   "id": "ada5ba1c-d4cc-4523-945f-74a3d6ad56b0",
   "metadata": {},
   "outputs": [
    {
     "data": {
      "text/plain": [
       "array([[619, 'France', 'Female', ..., 1, 1, 101348.88],\n",
       "       [608, 'Spain', 'Female', ..., 0, 1, 112542.58],\n",
       "       [502, 'France', 'Female', ..., 1, 0, 113931.57],\n",
       "       ...,\n",
       "       [709, 'France', 'Female', ..., 0, 1, 42085.58],\n",
       "       [772, 'Germany', 'Male', ..., 1, 0, 92888.52],\n",
       "       [792, 'France', 'Female', ..., 1, 0, 38190.78]], dtype=object)"
      ]
     },
     "execution_count": 12,
     "metadata": {},
     "output_type": "execute_result"
    }
   ],
   "source": [
    "X"
   ]
  },
  {
   "cell_type": "code",
   "execution_count": 13,
   "id": "7a6f1617-d6d4-459b-85d3-5df25d17bcb6",
   "metadata": {},
   "outputs": [
    {
     "data": {
      "text/plain": [
       "array([1, 0, 1, ..., 1, 1, 0], dtype=int64)"
      ]
     },
     "execution_count": 13,
     "metadata": {},
     "output_type": "execute_result"
    }
   ],
   "source": [
    "y"
   ]
  },
  {
   "cell_type": "markdown",
   "id": "9ce725cb-4b08-4c32-bdb5-2d3417a97725",
   "metadata": {},
   "source": [
    "## Step 3:\n",
    "Let’s make analysis simpler by encoding string variables. Country has string labels such as “France, Spain, Germany” while Gender has “Male, Female”. We have to encode this strings into numeric and we can simply do it using pandas but here I am introducing new library called `ScikitLearn` which is strongest machine learning library in python. We will use `LabelEncoder`. As the name suggests, whenever we pass a variable to this function, this function will automatically encode different labels in that column with values between 0 to n_classes-1."
   ]
  },
  {
   "cell_type": "code",
   "execution_count": 14,
   "id": "a54b553b-f63d-42c9-9afd-395725ab6deb",
   "metadata": {},
   "outputs": [],
   "source": [
    "from sklearn.preprocessing import LabelEncoder, OneHotEncoder\n",
    "labelencoder_X_1 = LabelEncoder()\n",
    "X[:, 1] = labelencoder_X_1.fit_transform(X[:, 1])\n",
    "labelencoder_X_2 = LabelEncoder()\n",
    "X[:, 2] = labelencoder_X_2.fit_transform(X[:, 2])"
   ]
  },
  {
   "cell_type": "code",
   "execution_count": 15,
   "id": "bc86bed7-9537-4f9e-9216-f1ad676b2ee4",
   "metadata": {},
   "outputs": [
    {
     "data": {
      "text/plain": [
       "array([[619, 0, 0, ..., 1, 1, 101348.88],\n",
       "       [608, 2, 0, ..., 0, 1, 112542.58],\n",
       "       [502, 0, 0, ..., 1, 0, 113931.57],\n",
       "       ...,\n",
       "       [709, 0, 0, ..., 0, 1, 42085.58],\n",
       "       [772, 1, 1, ..., 1, 0, 92888.52],\n",
       "       [792, 0, 0, ..., 1, 0, 38190.78]], dtype=object)"
      ]
     },
     "execution_count": 15,
     "metadata": {},
     "output_type": "execute_result"
    }
   ],
   "source": [
    "X"
   ]
  },
  {
   "cell_type": "markdown",
   "id": "1f9483a6-b795-4f83-ad89-8afe8bf34f32",
   "metadata": {},
   "source": [
    "## Step 4: \n",
    "How to create dummy variable in python? We will use the same ScikitLearn library but this time we will use another function called as `OneHotEncoder`, yeah it is seriously hot. We just need to pass the column number and whoosh your dummy variable is created."
   ]
  },
  {
   "cell_type": "markdown",
   "id": "7d2521eb-5269-45ce-a67c-9d75984b510c",
   "metadata": {},
   "source": [
    "NOTE: OneHotEncoder() `categorical_features=` was deprecated. Used ColumnTransformer() instead, per:  \n",
    "https://stackoverflow.com/questions/54345667/onehotencoder-categorical-features-deprecated-how-to-transform-specific-column"
   ]
  },
  {
   "cell_type": "code",
   "execution_count": 34,
   "id": "53d62f74-68e6-4aa2-b9db-4b65a01b6e3d",
   "metadata": {},
   "outputs": [],
   "source": [
    "from sklearn.compose import ColumnTransformer"
   ]
  },
  {
   "cell_type": "code",
   "execution_count": 35,
   "id": "9243cf1c-7b43-48d7-a03f-dc9689529c73",
   "metadata": {},
   "outputs": [],
   "source": [
    "ct = ColumnTransformer([('Country', OneHotEncoder(), [1])], remainder='passthrough')"
   ]
  },
  {
   "cell_type": "code",
   "execution_count": 36,
   "id": "1b6c8e77-b2c1-4381-9b52-dc5b50ff3732",
   "metadata": {},
   "outputs": [],
   "source": [
    "X = ct.fit_transform(X)"
   ]
  },
  {
   "cell_type": "code",
   "execution_count": 37,
   "id": "74552a8a-b7b3-4315-b60d-be295e431152",
   "metadata": {},
   "outputs": [
    {
     "data": {
      "text/plain": [
       "array([[1.0, 0.0, 0.0, 619, 0, 42, 2, 0.0, 1, 1, 1, 101348.88],\n",
       "       [0.0, 0.0, 1.0, 608, 0, 41, 1, 83807.86, 1, 0, 1, 112542.58],\n",
       "       [1.0, 0.0, 0.0, 502, 0, 42, 8, 159660.8, 3, 1, 0, 113931.57],\n",
       "       [1.0, 0.0, 0.0, 699, 0, 39, 1, 0.0, 2, 0, 0, 93826.63],\n",
       "       [0.0, 0.0, 1.0, 850, 0, 43, 2, 125510.82, 1, 1, 1, 79084.1]],\n",
       "      dtype=object)"
      ]
     },
     "execution_count": 37,
     "metadata": {},
     "output_type": "execute_result"
    }
   ],
   "source": [
    "X[:5]"
   ]
  },
  {
   "cell_type": "code",
   "execution_count": 38,
   "id": "0f2010c8-15d9-4c7d-9437-fe849c9219ea",
   "metadata": {},
   "outputs": [
    {
     "data": {
      "text/plain": [
       "array([[0.0, 0.0, 619, 0, 42, 2, 0.0, 1, 1, 1, 101348.88],\n",
       "       [0.0, 1.0, 608, 0, 41, 1, 83807.86, 1, 0, 1, 112542.58],\n",
       "       [0.0, 0.0, 502, 0, 42, 8, 159660.8, 3, 1, 0, 113931.57],\n",
       "       [0.0, 0.0, 699, 0, 39, 1, 0.0, 2, 0, 0, 93826.63],\n",
       "       [0.0, 1.0, 850, 0, 43, 2, 125510.82, 1, 1, 1, 79084.1]],\n",
       "      dtype=object)"
      ]
     },
     "execution_count": 38,
     "metadata": {},
     "output_type": "execute_result"
    }
   ],
   "source": [
    "X[:, 1:][:5]"
   ]
  },
  {
   "cell_type": "code",
   "execution_count": 33,
   "id": "bf1f8b9a-a583-45cd-8ede-b0a0a9aa36c9",
   "metadata": {},
   "outputs": [
    {
     "data": {
      "text/plain": [
       "(10000, 10)"
      ]
     },
     "execution_count": 33,
     "metadata": {},
     "output_type": "execute_result"
    }
   ],
   "source": [
    "X.shape"
   ]
  },
  {
   "cell_type": "code",
   "execution_count": 40,
   "id": "ec5fec6b-2989-48af-b8b3-6b11b2cbd612",
   "metadata": {},
   "outputs": [
    {
     "data": {
      "text/plain": [
       "(5, 11)"
      ]
     },
     "execution_count": 40,
     "metadata": {},
     "output_type": "execute_result"
    }
   ],
   "source": [
    "X[:, 1:][:5].shape"
   ]
  },
  {
   "cell_type": "markdown",
   "id": "b8bf434a-49b4-470c-8a46-b900cf8de043",
   "metadata": {},
   "source": [
    "Okay, whatevs:"
   ]
  },
  {
   "cell_type": "code",
   "execution_count": 41,
   "id": "8b200cfa-978f-4b52-bb79-80790442783b",
   "metadata": {},
   "outputs": [],
   "source": [
    "X = X[:, 1:]"
   ]
  },
  {
   "cell_type": "markdown",
   "id": "1ea4ae9c-46fe-463b-9dbf-5698f1778209",
   "metadata": {},
   "source": [
    "## Step 5:\n",
    "We will make use of ScikitLearn’s `train_test_split` function to divide our data. Roughly people keep 80:20, 75:25, 60:40 as their train test split ratio. Here we are keeping it as 80:20."
   ]
  },
  {
   "cell_type": "code",
   "execution_count": 42,
   "id": "b00837d9-e25a-4dbf-93c5-109bec92a1bf",
   "metadata": {},
   "outputs": [],
   "source": [
    "# Splitting the dataset into the Training set and Test set\n",
    "from sklearn.model_selection import train_test_split\n",
    "X_train, X_test, y_train, y_test = train_test_split(X, y, test_size = 0.2)"
   ]
  },
  {
   "cell_type": "markdown",
   "id": "674d26df-002e-4ef0-b67d-f1026ba8ba3e",
   "metadata": {},
   "source": [
    "## Step 6: \n",
    "`StandardScaler` is available in ScikitLearn. In the following code we are fitting and transforming StandardScaler method on train data. We have to standardize our scaling so we will use the same fitted method to transform/scale test data."
   ]
  },
  {
   "cell_type": "code",
   "execution_count": 43,
   "id": "ca3b3512-81d6-4c21-a0cd-91d7c3f68a4d",
   "metadata": {},
   "outputs": [],
   "source": [
    "# Feature Scaling\n",
    "from sklearn.preprocessing import StandardScaler\n",
    "sc = StandardScaler()\n",
    "X_train = sc.fit_transform(X_train)\n",
    "X_test = sc.transform(X_test)"
   ]
  },
  {
   "cell_type": "code",
   "execution_count": 44,
   "id": "c593b116-3e4d-486b-9f49-000303c46e14",
   "metadata": {},
   "outputs": [
    {
     "data": {
      "text/plain": [
       "array([[ 1.72859362, -0.57465595, -2.1464848 ,  0.9148601 ,  1.91907167,\n",
       "        -0.34744387,  0.55452044, -0.91142141,  0.63871351, -1.03046381,\n",
       "        -0.46700463],\n",
       "       [-0.57850497, -0.57465595,  0.23503102,  0.9148601 ,  1.15507675,\n",
       "         1.03869299,  0.05316557,  0.82255511,  0.63871351,  0.97043679,\n",
       "         1.25763124],\n",
       "       [-0.57850497, -0.57465595,  0.31786635, -1.0930633 ,  2.30106913,\n",
       "         0.69215877, -1.21817411,  0.82255511,  0.63871351,  0.97043679,\n",
       "        -0.77584767],\n",
       "       [-0.57850497, -0.57465595, -0.41729723,  0.9148601 , -0.18191435,\n",
       "        -1.73358072, -1.21817411, -0.91142141,  0.63871351, -1.03046381,\n",
       "         0.25628776],\n",
       "       [ 1.72859362, -0.57465595,  1.39472568, -1.0930633 , -0.65941118,\n",
       "        -0.69397808,  0.77109494,  0.82255511, -1.56564718,  0.97043679,\n",
       "        -0.81873499]])"
      ]
     },
     "execution_count": 44,
     "metadata": {},
     "output_type": "execute_result"
    }
   ],
   "source": [
    "X_train[:5]"
   ]
  },
  {
   "cell_type": "markdown",
   "id": "a978974a-2ad5-4be2-ae08-17a0ab5ad29e",
   "metadata": {},
   "source": [
    "# Neural Network time!"
   ]
  },
  {
   "cell_type": "markdown",
   "id": "1421db01-4c2a-4229-9ade-eb00b9e8dafa",
   "metadata": {},
   "source": [
    "## Step 7: \n",
    "Importing required Modules. We need **Sequential module** for initializing NN and **dense module** to add Hidden Layers."
   ]
  },
  {
   "cell_type": "code",
   "execution_count": 45,
   "id": "78665c7b-74f5-4d3c-b33a-36d882e9820b",
   "metadata": {},
   "outputs": [],
   "source": [
    "# Importing the Keras libraries and packages\n",
    "import keras\n",
    "from keras.models import Sequential\n",
    "from keras.layers import Dense"
   ]
  },
  {
   "cell_type": "markdown",
   "id": "7124d349-13b6-4f32-a8dc-4d7caaadc73b",
   "metadata": {},
   "source": [
    "## Step 8: \n",
    "I am giving the name of model as **Classifier** as our business problem is the classification of customer churn. In the last step, I mentioned that we will use Sequential module for initialization so here it is:"
   ]
  },
  {
   "cell_type": "code",
   "execution_count": 46,
   "id": "b495ba2e-ae31-4ec3-8934-4e4ebc604b04",
   "metadata": {},
   "outputs": [],
   "source": [
    "#Initializing Neural Network\n",
    "classifier = Sequential()"
   ]
  },
  {
   "cell_type": "markdown",
   "id": "448a066e-c8d2-4d1c-8670-28bca5481ae9",
   "metadata": {},
   "source": [
    "## Step 9: \n",
    "Adding multiple hidden layer will take bit effort. We will add **hidden layers** one by one using dense function. In the below code you will see a lot of arguments. Don’t worry I will explain them all."
   ]
  },
  {
   "cell_type": "markdown",
   "id": "f6ea37ac-064a-4a7c-a85a-b226287611fd",
   "metadata": {},
   "source": [
    "NOTE: I changed `output_dim=` to `units=` and changed `init=` to `kernel_initializer=`  \n",
    "See here: https://keras.io/api/layers/core_layers/dense/"
   ]
  },
  {
   "cell_type": "code",
   "execution_count": 52,
   "id": "036f5cd3-2e02-4bb9-97a0-2b6ca834f450",
   "metadata": {},
   "outputs": [],
   "source": [
    "# Adding the input layer and the first hidden layer\n",
    "classifier.add(Dense(units = 6, kernel_initializer = 'uniform', activation = 'relu', input_dim = 11))\n",
    "# Adding the second hidden layer\n",
    "classifier.add(Dense(units = 6, kernel_initializer = 'uniform', activation = 'relu'))\n",
    "# Adding the output layer\n",
    "classifier.add(Dense(units = 1, kernel_initializer = 'uniform', activation = 'sigmoid'))"
   ]
  },
  {
   "cell_type": "markdown",
   "id": "1b9afde9-02c1-400a-9269-32b32a54eb82",
   "metadata": {},
   "source": [
    "Here we are using **Sigmoid** function in our output layer as we want binary result from output layer but if the number of categories in output layer is more than 2 then use **SoftMax** function."
   ]
  },
  {
   "cell_type": "markdown",
   "id": "c4814f1e-3400-4cc5-b1a7-208b9324c271",
   "metadata": {},
   "source": [
    "## Step 10: \n",
    "Till now we have added multiple layers to our classifier now let’s compile them which can be done using compile method. Arguments added in final compilation will control whole neural network so be careful on this step. I will briefly explain arguments."
   ]
  },
  {
   "cell_type": "code",
   "execution_count": 53,
   "id": "4b37b057-5301-439f-b33e-2ffab63647e6",
   "metadata": {},
   "outputs": [
    {
     "name": "stdout",
     "output_type": "stream",
     "text": [
      "Wall time: 11 ms\n"
     ]
    }
   ],
   "source": [
    "# Compiling Neural Network\n",
    "classifier.compile(optimizer = 'adam', loss = 'binary_crossentropy', metrics = ['accuracy'])"
   ]
  },
  {
   "cell_type": "markdown",
   "id": "dba098a4-8e70-4c5a-b76f-c4d52b7253d2",
   "metadata": {},
   "source": [
    "Since our dependent variable is binary, we will have to use logarithmic loss function called **‘binary_crossentropy’**, if our dependent variable has more than 2 categories in output then use **‘categorical_crossentropy’**.  \n",
    "We want to improve performance of our neural network based on accuracy so add metrics as **'accuracy'**.\n",
    "\n",
    "**Congratulations, you have build your first Deep Learning Neural Network model.**"
   ]
  },
  {
   "cell_type": "markdown",
   "id": "7b49051f-f9c5-4d19-b20c-939b660628b4",
   "metadata": {},
   "source": [
    "## Step 11: \n",
    "We will now train our model on training data but still one thing is remaining. We use fit method to the fit our model In previous some steps I said that we will be optimizing our weights to improve model efficiency so when are we updating our weights? **Batch size** is used to specify the number of observation after which you want to update weight. **Epoch** is nothing but the total number of iterations. Choosing the value of batch size and epoch is trial and error there is no specific rule for that.  \n",
    "NOTE: I replaced `nb_epoch=` with `epochs=`"
   ]
  },
  {
   "cell_type": "code",
   "execution_count": 55,
   "id": "6e65448c-dcac-4dda-b75f-0a6c7f5e4871",
   "metadata": {},
   "outputs": [
    {
     "name": "stdout",
     "output_type": "stream",
     "text": [
      "Epoch 1/100\n",
      "800/800 [==============================] - 1s 1ms/step - loss: 0.4815 - accuracy: 0.7956\n",
      "Epoch 2/100\n",
      "800/800 [==============================] - 1s 1ms/step - loss: 0.4267 - accuracy: 0.7962\n",
      "Epoch 3/100\n",
      "800/800 [==============================] - 1s 1ms/step - loss: 0.4199 - accuracy: 0.8177\n",
      "Epoch 4/100\n",
      "800/800 [==============================] - 1s 1ms/step - loss: 0.4163 - accuracy: 0.8271\n",
      "Epoch 5/100\n",
      "800/800 [==============================] - 1s 1ms/step - loss: 0.4144 - accuracy: 0.8305\n",
      "Epoch 6/100\n",
      "800/800 [==============================] - 1s 1ms/step - loss: 0.4127 - accuracy: 0.8317\n",
      "Epoch 7/100\n",
      "800/800 [==============================] - 1s 1ms/step - loss: 0.4111 - accuracy: 0.8349\n",
      "Epoch 8/100\n",
      "800/800 [==============================] - 1s 1ms/step - loss: 0.4097 - accuracy: 0.8334\n",
      "Epoch 9/100\n",
      "800/800 [==============================] - 1s 1ms/step - loss: 0.4093 - accuracy: 0.8349\n",
      "Epoch 10/100\n",
      "800/800 [==============================] - 1s 1ms/step - loss: 0.4078 - accuracy: 0.8357\n",
      "Epoch 11/100\n",
      "800/800 [==============================] - 1s 1ms/step - loss: 0.4081 - accuracy: 0.8356\n",
      "Epoch 12/100\n",
      "800/800 [==============================] - 1s 1ms/step - loss: 0.4068 - accuracy: 0.8353\n",
      "Epoch 13/100\n",
      "800/800 [==============================] - 1s 1ms/step - loss: 0.4066 - accuracy: 0.8363\n",
      "Epoch 14/100\n",
      "800/800 [==============================] - 1s 1ms/step - loss: 0.4059 - accuracy: 0.8353\n",
      "Epoch 15/100\n",
      "800/800 [==============================] - 1s 1ms/step - loss: 0.4056 - accuracy: 0.8363\n",
      "Epoch 16/100\n",
      "800/800 [==============================] - 1s 1ms/step - loss: 0.4053 - accuracy: 0.8367\n",
      "Epoch 17/100\n",
      "800/800 [==============================] - 1s 1ms/step - loss: 0.4053 - accuracy: 0.8357\n",
      "Epoch 18/100\n",
      "800/800 [==============================] - 1s 1ms/step - loss: 0.4048 - accuracy: 0.8351\n",
      "Epoch 19/100\n",
      "800/800 [==============================] - 1s 1ms/step - loss: 0.4045 - accuracy: 0.8353\n",
      "Epoch 20/100\n",
      "800/800 [==============================] - 1s 1ms/step - loss: 0.4042 - accuracy: 0.8347\n",
      "Epoch 21/100\n",
      "800/800 [==============================] - 1s 1ms/step - loss: 0.4045 - accuracy: 0.8350\n",
      "Epoch 22/100\n",
      "800/800 [==============================] - 1s 2ms/step - loss: 0.4044 - accuracy: 0.8355\n",
      "Epoch 23/100\n",
      "800/800 [==============================] - 1s 1ms/step - loss: 0.4038 - accuracy: 0.8357\n",
      "Epoch 24/100\n",
      "800/800 [==============================] - 1s 983us/step - loss: 0.4036 - accuracy: 0.8359\n",
      "Epoch 25/100\n",
      "800/800 [==============================] - 1s 818us/step - loss: 0.4037 - accuracy: 0.8356\n",
      "Epoch 26/100\n",
      "800/800 [==============================] - 1s 847us/step - loss: 0.4039 - accuracy: 0.8372\n",
      "Epoch 27/100\n",
      "800/800 [==============================] - 1s 1ms/step - loss: 0.4035 - accuracy: 0.8353\n",
      "Epoch 28/100\n",
      "800/800 [==============================] - 1s 806us/step - loss: 0.4036 - accuracy: 0.8360\n",
      "Epoch 29/100\n",
      "800/800 [==============================] - 1s 782us/step - loss: 0.4032 - accuracy: 0.8347\n",
      "Epoch 30/100\n",
      "800/800 [==============================] - 1s 778us/step - loss: 0.4031 - accuracy: 0.8375\n",
      "Epoch 31/100\n",
      "800/800 [==============================] - 1s 1ms/step - loss: 0.4028 - accuracy: 0.8356\n",
      "Epoch 32/100\n",
      "800/800 [==============================] - 1s 908us/step - loss: 0.4030 - accuracy: 0.8346\n",
      "Epoch 33/100\n",
      "800/800 [==============================] - 1s 935us/step - loss: 0.4029 - accuracy: 0.8351\n",
      "Epoch 34/100\n",
      "800/800 [==============================] - 1s 796us/step - loss: 0.4024 - accuracy: 0.8359\n",
      "Epoch 35/100\n",
      "800/800 [==============================] - 1s 763us/step - loss: 0.4025 - accuracy: 0.8360\n",
      "Epoch 36/100\n",
      "800/800 [==============================] - 1s 777us/step - loss: 0.4022 - accuracy: 0.8357\n",
      "Epoch 37/100\n",
      "800/800 [==============================] - 1s 769us/step - loss: 0.4020 - accuracy: 0.8351\n",
      "Epoch 38/100\n",
      "800/800 [==============================] - 1s 768us/step - loss: 0.4021 - accuracy: 0.8374\n",
      "Epoch 39/100\n",
      "800/800 [==============================] - 1s 798us/step - loss: 0.4024 - accuracy: 0.8367\n",
      "Epoch 40/100\n",
      "800/800 [==============================] - 1s 774us/step - loss: 0.4026 - accuracy: 0.8375\n",
      "Epoch 41/100\n",
      "800/800 [==============================] - 1s 781us/step - loss: 0.4021 - accuracy: 0.8365\n",
      "Epoch 42/100\n",
      "800/800 [==============================] - 1s 863us/step - loss: 0.4023 - accuracy: 0.8365\n",
      "Epoch 43/100\n",
      "800/800 [==============================] - 1s 1ms/step - loss: 0.4025 - accuracy: 0.8357\n",
      "Epoch 44/100\n",
      "800/800 [==============================] - 1s 1ms/step - loss: 0.4024 - accuracy: 0.8374\n",
      "Epoch 45/100\n",
      "800/800 [==============================] - 1s 776us/step - loss: 0.4022 - accuracy: 0.8361\n",
      "Epoch 46/100\n",
      "800/800 [==============================] - 1s 943us/step - loss: 0.4025 - accuracy: 0.83530s - loss: 0.4046 - accuracy\n",
      "Epoch 47/100\n",
      "800/800 [==============================] - 1s 1ms/step - loss: 0.4013 - accuracy: 0.8355\n",
      "Epoch 48/100\n",
      "800/800 [==============================] - 1s 1ms/step - loss: 0.4021 - accuracy: 0.8369\n",
      "Epoch 49/100\n",
      "800/800 [==============================] - 1s 1ms/step - loss: 0.4013 - accuracy: 0.8350\n",
      "Epoch 50/100\n",
      "800/800 [==============================] - 1s 1ms/step - loss: 0.4021 - accuracy: 0.8345\n",
      "Epoch 51/100\n",
      "800/800 [==============================] - 1s 1ms/step - loss: 0.4018 - accuracy: 0.8350\n",
      "Epoch 52/100\n",
      "800/800 [==============================] - 1s 1ms/step - loss: 0.4018 - accuracy: 0.8351\n",
      "Epoch 53/100\n",
      "800/800 [==============================] - 1s 1ms/step - loss: 0.4014 - accuracy: 0.8357\n",
      "Epoch 54/100\n",
      "800/800 [==============================] - 1s 1ms/step - loss: 0.4022 - accuracy: 0.8361\n",
      "Epoch 55/100\n",
      "800/800 [==============================] - 1s 1ms/step - loss: 0.4019 - accuracy: 0.8361\n",
      "Epoch 56/100\n",
      "800/800 [==============================] - 1s 1ms/step - loss: 0.4010 - accuracy: 0.8359\n",
      "Epoch 57/100\n",
      "800/800 [==============================] - 1s 1ms/step - loss: 0.4019 - accuracy: 0.8350\n",
      "Epoch 58/100\n",
      "800/800 [==============================] - 1s 1ms/step - loss: 0.4017 - accuracy: 0.8357\n",
      "Epoch 59/100\n",
      "800/800 [==============================] - 1s 1ms/step - loss: 0.4018 - accuracy: 0.8345\n",
      "Epoch 60/100\n",
      "800/800 [==============================] - 1s 1ms/step - loss: 0.4024 - accuracy: 0.8354\n",
      "Epoch 61/100\n",
      "800/800 [==============================] - 1s 1ms/step - loss: 0.4013 - accuracy: 0.8361\n",
      "Epoch 62/100\n",
      "800/800 [==============================] - 1s 1ms/step - loss: 0.4019 - accuracy: 0.8364\n",
      "Epoch 63/100\n",
      "800/800 [==============================] - 1s 1ms/step - loss: 0.4022 - accuracy: 0.8359\n",
      "Epoch 64/100\n",
      "800/800 [==============================] - 1s 1ms/step - loss: 0.4015 - accuracy: 0.8363\n",
      "Epoch 65/100\n",
      "800/800 [==============================] - 1s 1ms/step - loss: 0.4011 - accuracy: 0.8367\n",
      "Epoch 66/100\n",
      "800/800 [==============================] - 1s 1ms/step - loss: 0.4022 - accuracy: 0.8360\n",
      "Epoch 67/100\n",
      "800/800 [==============================] - 1s 1ms/step - loss: 0.4013 - accuracy: 0.8365\n",
      "Epoch 68/100\n",
      "800/800 [==============================] - 1s 1ms/step - loss: 0.4016 - accuracy: 0.8355\n",
      "Epoch 69/100\n",
      "800/800 [==============================] - 1s 1ms/step - loss: 0.4016 - accuracy: 0.8351\n",
      "Epoch 70/100\n",
      "800/800 [==============================] - 1s 1ms/step - loss: 0.4017 - accuracy: 0.8369\n",
      "Epoch 71/100\n",
      "800/800 [==============================] - 1s 1ms/step - loss: 0.4012 - accuracy: 0.8351\n",
      "Epoch 72/100\n",
      "800/800 [==============================] - 1s 1ms/step - loss: 0.4014 - accuracy: 0.8364\n",
      "Epoch 73/100\n",
      "800/800 [==============================] - 1s 1ms/step - loss: 0.4007 - accuracy: 0.8365: 0s - loss: 0.3996 - accuracy: 0.83\n",
      "Epoch 74/100\n",
      "800/800 [==============================] - 1s 1ms/step - loss: 0.4015 - accuracy: 0.8351\n",
      "Epoch 75/100\n",
      "800/800 [==============================] - 1s 1ms/step - loss: 0.4011 - accuracy: 0.8369: 0s - loss: 0.3997 - accuracy: 0.83\n",
      "Epoch 76/100\n",
      "800/800 [==============================] - 1s 1ms/step - loss: 0.4009 - accuracy: 0.8350: 0s - loss: 0.4050 - accu\n",
      "Epoch 77/100\n",
      "800/800 [==============================] - 1s 1ms/step - loss: 0.4015 - accuracy: 0.8371\n",
      "Epoch 78/100\n",
      "800/800 [==============================] - 1s 1ms/step - loss: 0.4013 - accuracy: 0.8346\n",
      "Epoch 79/100\n",
      "800/800 [==============================] - 1s 1ms/step - loss: 0.4014 - accuracy: 0.8334\n",
      "Epoch 80/100\n",
      "800/800 [==============================] - 1s 1ms/step - loss: 0.4018 - accuracy: 0.8371\n",
      "Epoch 81/100\n",
      "800/800 [==============================] - 1s 1ms/step - loss: 0.4011 - accuracy: 0.8363\n",
      "Epoch 82/100\n",
      "800/800 [==============================] - 1s 1ms/step - loss: 0.4012 - accuracy: 0.8347\n",
      "Epoch 83/100\n",
      "800/800 [==============================] - 1s 1ms/step - loss: 0.4013 - accuracy: 0.8360\n",
      "Epoch 84/100\n",
      "800/800 [==============================] - 1s 1ms/step - loss: 0.4017 - accuracy: 0.8355\n",
      "Epoch 85/100\n",
      "800/800 [==============================] - 1s 1ms/step - loss: 0.4015 - accuracy: 0.8347\n",
      "Epoch 86/100\n",
      "800/800 [==============================] - 1s 1ms/step - loss: 0.4013 - accuracy: 0.8371: 0s - los\n",
      "Epoch 87/100\n",
      "800/800 [==============================] - 1s 1ms/step - loss: 0.4011 - accuracy: 0.8361\n",
      "Epoch 88/100\n",
      "800/800 [==============================] - 1s 1ms/step - loss: 0.4008 - accuracy: 0.8356\n",
      "Epoch 89/100\n",
      "800/800 [==============================] - 1s 1ms/step - loss: 0.4019 - accuracy: 0.8351\n",
      "Epoch 90/100\n",
      "800/800 [==============================] - 1s 1ms/step - loss: 0.4013 - accuracy: 0.8359\n",
      "Epoch 91/100\n",
      "800/800 [==============================] - 1s 1ms/step - loss: 0.4015 - accuracy: 0.8359\n",
      "Epoch 92/100\n",
      "800/800 [==============================] - 1s 1ms/step - loss: 0.4009 - accuracy: 0.8388\n",
      "Epoch 93/100\n",
      "800/800 [==============================] - 1s 1ms/step - loss: 0.4014 - accuracy: 0.8359\n",
      "Epoch 94/100\n",
      "800/800 [==============================] - 1s 1ms/step - loss: 0.4009 - accuracy: 0.8342\n",
      "Epoch 95/100\n",
      "800/800 [==============================] - 1s 1ms/step - loss: 0.4012 - accuracy: 0.8357\n",
      "Epoch 96/100\n",
      "800/800 [==============================] - 1s 1ms/step - loss: 0.4013 - accuracy: 0.8347\n",
      "Epoch 97/100\n",
      "800/800 [==============================] - 1s 1ms/step - loss: 0.4007 - accuracy: 0.8366\n",
      "Epoch 98/100\n",
      "800/800 [==============================] - 1s 1ms/step - loss: 0.4015 - accuracy: 0.8365\n",
      "Epoch 99/100\n",
      "800/800 [==============================] - 1s 1ms/step - loss: 0.4006 - accuracy: 0.8350\n",
      "Epoch 100/100\n",
      "800/800 [==============================] - 1s 1ms/step - loss: 0.4010 - accuracy: 0.8376\n",
      "Wall time: 1min 28s\n"
     ]
    },
    {
     "data": {
      "text/plain": [
       "<tensorflow.python.keras.callbacks.History at 0x1d19d04d3a0>"
      ]
     },
     "execution_count": 55,
     "metadata": {},
     "output_type": "execute_result"
    }
   ],
   "source": [
    "%%time \n",
    "# Fitting our model \n",
    "classifier.fit(X_train, y_train, batch_size = 10, epochs = 100)"
   ]
  },
  {
   "cell_type": "markdown",
   "id": "352277d3-1046-4512-98f5-b8363bafee15",
   "metadata": {},
   "source": [
    "## Step 12: \n",
    "**Predicting** the test set result. The prediction result will give you probability of the customer leaving the company. We will convert that probability into binary 0 and 1."
   ]
  },
  {
   "cell_type": "code",
   "execution_count": 56,
   "id": "1cd476bd-5d25-42bc-8f3f-6cb3618dd3f1",
   "metadata": {},
   "outputs": [],
   "source": [
    "# Predicting the Test set results\n",
    "y_pred = classifier.predict(X_test)\n",
    "y_pred = (y_pred > 0.5)"
   ]
  },
  {
   "cell_type": "markdown",
   "id": "07622743-999a-4068-bdaf-d89a06ba4464",
   "metadata": {},
   "source": [
    "## Step 13: \n",
    "This is the final step where we are evaluating our model performance. We already have original results and thus we can build **confusion matrix** to check the accuracy of model."
   ]
  },
  {
   "cell_type": "code",
   "execution_count": 57,
   "id": "52f6fe7d-0ce8-4f4b-ad77-b856049761fb",
   "metadata": {},
   "outputs": [],
   "source": [
    "# Creating the Confusion Matrix\n",
    "from sklearn.metrics import confusion_matrix\n",
    "cm = confusion_matrix(y_test, y_pred)"
   ]
  },
  {
   "cell_type": "code",
   "execution_count": 58,
   "id": "6f62b266-54b2-4004-8882-520a14472198",
   "metadata": {},
   "outputs": [
    {
     "data": {
      "text/plain": [
       "array([[1543,   50],\n",
       "       [ 277,  130]], dtype=int64)"
      ]
     },
     "execution_count": 58,
     "metadata": {},
     "output_type": "execute_result"
    }
   ],
   "source": [
    "cm"
   ]
  },
  {
   "cell_type": "code",
   "execution_count": 59,
   "id": "b7ca8385-e869-4e2c-ad9d-79c59b84b9d0",
   "metadata": {},
   "outputs": [
    {
     "data": {
      "text/plain": [
       "2000"
      ]
     },
     "execution_count": 59,
     "metadata": {},
     "output_type": "execute_result"
    }
   ],
   "source": [
    "cm.sum()"
   ]
  },
  {
   "cell_type": "code",
   "execution_count": 60,
   "id": "9a46ad10-19ef-4324-a56a-81a7e4ff96be",
   "metadata": {},
   "outputs": [
    {
     "data": {
      "text/plain": [
       "1543"
      ]
     },
     "execution_count": 60,
     "metadata": {},
     "output_type": "execute_result"
    }
   ],
   "source": [
    "cm[0][0]"
   ]
  },
  {
   "cell_type": "code",
   "execution_count": 61,
   "id": "d809759f-6b8a-4f3e-9b3f-f8493e09c577",
   "metadata": {},
   "outputs": [
    {
     "data": {
      "text/plain": [
       "83.65"
      ]
     },
     "execution_count": 61,
     "metadata": {},
     "output_type": "execute_result"
    }
   ],
   "source": [
    "accuracy = (cm[0][0] + cm[1][1]) / cm.sum()\n",
    "round(accuracy * 100, 2)"
   ]
  },
  {
   "cell_type": "code",
   "execution_count": null,
   "id": "06570a8b-09aa-4cbb-afc3-42415a14b7bc",
   "metadata": {},
   "outputs": [],
   "source": []
  }
 ],
 "metadata": {
  "kernelspec": {
   "display_name": "Python 3",
   "language": "python",
   "name": "python3"
  },
  "language_info": {
   "codemirror_mode": {
    "name": "ipython",
    "version": 3
   },
   "file_extension": ".py",
   "mimetype": "text/x-python",
   "name": "python",
   "nbconvert_exporter": "python",
   "pygments_lexer": "ipython3",
   "version": "3.8.8"
  }
 },
 "nbformat": 4,
 "nbformat_minor": 5
}
