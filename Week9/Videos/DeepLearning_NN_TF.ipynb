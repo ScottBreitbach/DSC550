{
 "cells": [
  {
   "cell_type": "markdown",
   "metadata": {},
   "source": [
    "# Deep Learning with Neural Networks and TensorFlow Introduction\n",
    "https://www.youtube.com/watch?v=oYbVFhK_olY"
   ]
  },
  {
   "cell_type": "markdown",
   "metadata": {},
   "source": [
    "Input data: x1, x2, x3  \n",
    "weighted: w1, w2, w3  \n",
    "Threshold function: step function outputs 0 or 1, and is fed back to the input  \n",
    "Activation function: people generally use a sigmoid function because continuous  \n",
    "Your output is a function of your x's and w's.  \n",
    "This is one neuron"
   ]
  },
  {
   "cell_type": "markdown",
   "metadata": {},
   "source": [
    "Neural Network:  \n",
    "all inputs go through each neuron (with a series of weights)  \n",
    "each set of neurons is connected to each following neutron (with a series of weights)  \n",
    "Input > hidden layer 1 > hidden layer 2 > Output (could be 0s and 1s)  \n",
    "If you have 1 hidden layer = regular neural network  \n",
    "2 or more hidden layers? = deep neural network  "
   ]
  },
  {
   "cell_type": "markdown",
   "metadata": {},
   "source": [
    "sample vector machine vs neural network"
   ]
  },
  {
   "cell_type": "markdown",
   "metadata": {},
   "source": [
    "Where to get millions of data?  \n",
    "Image data: imagenet (similar to wordnet; see this guy's nltk series)  \n",
    "Text data: Wikipedia data dump, chat logs, crawl reddit, tatoba(?)  \n",
    "Common Crawl (super huge; will need more hardware)  \n",
    "Check machine learning subreddit for available data sets  "
   ]
  },
  {
   "cell_type": "markdown",
   "metadata": {},
   "source": [
    "We'll be using Google's Tensor Flow package  \n",
    "it's all a function of x's and w's  \n",
    "Next tutorial is just going to be installing TensorFlow  "
   ]
  }
 ],
 "metadata": {
  "kernelspec": {
   "display_name": "Python 3",
   "language": "python",
   "name": "python3"
  },
  "language_info": {
   "codemirror_mode": {
    "name": "ipython",
    "version": 3
   },
   "file_extension": ".py",
   "mimetype": "text/x-python",
   "name": "python",
   "nbconvert_exporter": "python",
   "pygments_lexer": "ipython3",
   "version": "3.8.5"
  }
 },
 "nbformat": 4,
 "nbformat_minor": 4
}
