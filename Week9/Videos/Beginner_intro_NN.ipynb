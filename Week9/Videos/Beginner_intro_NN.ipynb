{
 "cells": [
  {
   "cell_type": "markdown",
   "metadata": {},
   "source": [
    "# Beginner Intro to Neural Networks"
   ]
  },
  {
   "cell_type": "markdown",
   "metadata": {},
   "source": [
    "## Beginner Intro to Neural Networks 1: Data and Graphing  \n",
    "https://www.youtube.com/watch?v=ZzWaow1Rvho"
   ]
  },
  {
   "cell_type": "code",
   "execution_count": 42,
   "metadata": {},
   "outputs": [],
   "source": [
    "import numpy as np\n",
    "import pandas as pd"
   ]
  },
  {
   "cell_type": "code",
   "execution_count": 43,
   "metadata": {},
   "outputs": [],
   "source": [
    "color = [ \"red\", \"blue\" ] * 4 + [np.nan]\n",
    "length = [3, 2, 4, 3, 3.5, 2, 5.5, 1, 4.5]\n",
    "width = [1.5, 1, 1.5, 1, .5, .5, 1, 1, 1]\n",
    "\n",
    "dictionary = {\"clr\": color, \"len\": length, \"wid\": width}\n",
    "df = pd.DataFrame(dictionary)\n",
    "\n",
    "df.replace([\"red\", \"blue\"], [0, 1], inplace=True)"
   ]
  },
  {
   "cell_type": "code",
   "execution_count": 44,
   "metadata": {},
   "outputs": [
    {
     "data": {
      "text/html": [
       "<div>\n",
       "<style scoped>\n",
       "    .dataframe tbody tr th:only-of-type {\n",
       "        vertical-align: middle;\n",
       "    }\n",
       "\n",
       "    .dataframe tbody tr th {\n",
       "        vertical-align: top;\n",
       "    }\n",
       "\n",
       "    .dataframe thead th {\n",
       "        text-align: right;\n",
       "    }\n",
       "</style>\n",
       "<table border=\"1\" class=\"dataframe\">\n",
       "  <thead>\n",
       "    <tr style=\"text-align: right;\">\n",
       "      <th></th>\n",
       "      <th>clr</th>\n",
       "      <th>len</th>\n",
       "      <th>wid</th>\n",
       "    </tr>\n",
       "  </thead>\n",
       "  <tbody>\n",
       "    <tr>\n",
       "      <th>0</th>\n",
       "      <td>0.0</td>\n",
       "      <td>3.0</td>\n",
       "      <td>1.5</td>\n",
       "    </tr>\n",
       "    <tr>\n",
       "      <th>1</th>\n",
       "      <td>1.0</td>\n",
       "      <td>2.0</td>\n",
       "      <td>1.0</td>\n",
       "    </tr>\n",
       "    <tr>\n",
       "      <th>2</th>\n",
       "      <td>0.0</td>\n",
       "      <td>4.0</td>\n",
       "      <td>1.5</td>\n",
       "    </tr>\n",
       "    <tr>\n",
       "      <th>3</th>\n",
       "      <td>1.0</td>\n",
       "      <td>3.0</td>\n",
       "      <td>1.0</td>\n",
       "    </tr>\n",
       "    <tr>\n",
       "      <th>4</th>\n",
       "      <td>0.0</td>\n",
       "      <td>3.5</td>\n",
       "      <td>0.5</td>\n",
       "    </tr>\n",
       "    <tr>\n",
       "      <th>5</th>\n",
       "      <td>1.0</td>\n",
       "      <td>2.0</td>\n",
       "      <td>0.5</td>\n",
       "    </tr>\n",
       "    <tr>\n",
       "      <th>6</th>\n",
       "      <td>0.0</td>\n",
       "      <td>5.5</td>\n",
       "      <td>1.0</td>\n",
       "    </tr>\n",
       "    <tr>\n",
       "      <th>7</th>\n",
       "      <td>1.0</td>\n",
       "      <td>1.0</td>\n",
       "      <td>1.0</td>\n",
       "    </tr>\n",
       "    <tr>\n",
       "      <th>8</th>\n",
       "      <td>NaN</td>\n",
       "      <td>4.5</td>\n",
       "      <td>1.0</td>\n",
       "    </tr>\n",
       "  </tbody>\n",
       "</table>\n",
       "</div>"
      ],
      "text/plain": [
       "   clr  len  wid\n",
       "0  0.0  3.0  1.5\n",
       "1  1.0  2.0  1.0\n",
       "2  0.0  4.0  1.5\n",
       "3  1.0  3.0  1.0\n",
       "4  0.0  3.5  0.5\n",
       "5  1.0  2.0  0.5\n",
       "6  0.0  5.5  1.0\n",
       "7  1.0  1.0  1.0\n",
       "8  NaN  4.5  1.0"
      ]
     },
     "execution_count": 44,
     "metadata": {},
     "output_type": "execute_result"
    }
   ],
   "source": [
    "df"
   ]
  },
  {
   "cell_type": "code",
   "execution_count": 45,
   "metadata": {},
   "outputs": [
    {
     "data": {
      "text/plain": [
       "'11100111'"
      ]
     },
     "execution_count": 45,
     "metadata": {},
     "output_type": "execute_result"
    }
   ],
   "source": [
    "np.binary_repr(231)"
   ]
  },
  {
   "cell_type": "markdown",
   "metadata": {},
   "source": [
    "## Beginner Intro to Neural Networks 4: First Neural Network in Python\n",
    "https://www.youtube.com/watch?v=gwitf7ABtK8"
   ]
  },
  {
   "cell_type": "code",
   "execution_count": 13,
   "metadata": {},
   "outputs": [],
   "source": [
    "import numpy as np\n",
    "import pandas as pd"
   ]
  },
  {
   "cell_type": "code",
   "execution_count": 4,
   "metadata": {},
   "outputs": [],
   "source": [
    "def NN(m1, m2, w1, w2, b): # inputs, weights, and bias\n",
    "    z = m1 * w1 + m2 *w2 + b\n",
    "    return sigmoid(z)\n",
    "\n",
    "def sigmoid(x):\n",
    "    return 1/(1 + np.exp(-x))"
   ]
  },
  {
   "cell_type": "markdown",
   "metadata": {},
   "source": [
    "Need to input some values. For weights, lets use some random numbers"
   ]
  },
  {
   "cell_type": "code",
   "execution_count": 6,
   "metadata": {},
   "outputs": [],
   "source": [
    "w1 = np.random.randn()\n",
    "w2 = np.random.randn()\n",
    "b  = np.random.randn()"
   ]
  },
  {
   "cell_type": "code",
   "execution_count": 11,
   "metadata": {},
   "outputs": [],
   "source": [
    "color = [ \"red\", \"blue\" ] * 4 + [np.nan]\n",
    "length = [3, 2, 4, 3, 3.5, 2, 5.5, 1, 4.5]\n",
    "width = [1.5, 1, 1.5, 1, .5, .5, 1, 1, 1]"
   ]
  },
  {
   "cell_type": "code",
   "execution_count": 16,
   "metadata": {},
   "outputs": [],
   "source": [
    "dictionary = {\"clr\": color, \"len\": length, \"wid\": width}\n",
    "df = pd.DataFrame(dictionary)"
   ]
  },
  {
   "cell_type": "code",
   "execution_count": 41,
   "metadata": {},
   "outputs": [],
   "source": [
    "df.replace([\"red\", \"blue\"], [0, 1], inplace=True)"
   ]
  },
  {
   "cell_type": "code",
   "execution_count": 33,
   "metadata": {},
   "outputs": [
    {
     "data": {
      "text/plain": [
       "0.7182397222905558"
      ]
     },
     "execution_count": 33,
     "metadata": {},
     "output_type": "execute_result"
    }
   ],
   "source": [
    "i = 0\n",
    "m1 = df.len[i]\n",
    "m2 = df.wid[i]\n",
    "NN(m1, m2, w1, w2, b)"
   ]
  },
  {
   "cell_type": "code",
   "execution_count": 34,
   "metadata": {},
   "outputs": [
    {
     "data": {
      "text/plain": [
       "0.4764190549192651"
      ]
     },
     "execution_count": 34,
     "metadata": {},
     "output_type": "execute_result"
    }
   ],
   "source": [
    "i = 1\n",
    "m1 = df.len[i]\n",
    "m2 = df.wid[i]\n",
    "NN(m1, m2, w1, w2, b)"
   ]
  },
  {
   "cell_type": "code",
   "execution_count": 35,
   "metadata": {},
   "outputs": [
    {
     "data": {
      "text/plain": [
       "0.8613176433236038"
      ]
     },
     "execution_count": 35,
     "metadata": {},
     "output_type": "execute_result"
    }
   ],
   "source": [
    "i = 2\n",
    "m1 = df.len[i]\n",
    "m2 = df.wid[i]\n",
    "NN(m1, m2, w1, w2, b)"
   ]
  },
  {
   "cell_type": "code",
   "execution_count": 36,
   "metadata": {},
   "outputs": [
    {
     "data": {
      "text/plain": [
       "0.6891474737881699"
      ]
     },
     "execution_count": 36,
     "metadata": {},
     "output_type": "execute_result"
    }
   ],
   "source": [
    "i = 3\n",
    "m1 = df.len[i]\n",
    "m2 = df.wid[i]\n",
    "NN(m1, m2, w1, w2, b)"
   ]
  },
  {
   "cell_type": "markdown",
   "metadata": {},
   "source": [
    "## Beginner Intro to Neural Networks 5: Squared Error Cost Function\n",
    "https://www.youtube.com/watch?v=c6NBkkKNZXw"
   ]
  },
  {
   "cell_type": "markdown",
   "metadata": {},
   "source": [
    "The cost function takes in the data and the predictions made and outputs a number.  We interpret this number as how bad our predictions were (how far the predictions are from the data).  \n",
    "So we want to minimize this number, which shows we're getting closer.  We can't change the data, but we can change the weights and bias.  "
   ]
  },
  {
   "cell_type": "markdown",
   "metadata": {},
   "source": [
    "Cost function will take the prediction and the true target value, and output a number.  \n",
    "Cost function: ( prediction - true value ) ^2  \n",
    "this cost function is the squared error cost function. In order to change this, we'll adjust the weights and bias of our Neural Network."
   ]
  },
  {
   "cell_type": "markdown",
   "metadata": {},
   "source": [
    "(prediction - target)**2  \n",
    "The prediction will always be 'b'  [ = NN() ]  \n",
    "( b - target ) ^2  <-- try to minimize this by changing the value of b\n",
    "Graph this and we get a parabola that is 0 when you hit the target value and positive when not zero. to get to the target value, look at the slope of the value (positive or negative slope).  Subtract a negative number to move to the right. do this by subtracting b, going slower (learning rate) as you get closer."
   ]
  },
  {
   "cell_type": "markdown",
   "metadata": {},
   "source": [
    "How do you get the slope (derivative) of the cost fucntion at (with respect to) b? Calculus!"
   ]
  },
  {
   "cell_type": "markdown",
   "metadata": {},
   "source": [
    "## Beginner Intro to Neural Networks 6: Slope of the Cost Function\n",
    "https://www.youtube.com/watch?v=Gvq9sUHPgrc"
   ]
  },
  {
   "cell_type": "markdown",
   "metadata": {},
   "source": [
    "Cost function:  \n",
    "cost(b) = (b - 4)^2  \n",
    "x, y coordinates = b, cost(b)  \n",
    "Use slope(b)  If negative move to the right, pos, move left  \n",
    "b = b - 0.1 * slope(b)  "
   ]
  },
  {
   "cell_type": "markdown",
   "metadata": {},
   "source": [
    "How to get slope(b) ???  \n",
    "We'll derive it numerically, algebraically, and calculus-ly  \n",
    "\n",
    "Numerically:  \n",
    "slope = ( rise / run )\n",
    "Change the value by step size h  \n",
    "Using x and y coords before and after:  \n",
    "run = b + h - b, or just h  \n",
    "rise = cost(b+h) - cost(b)  \n",
    "slope = rise / run  so...  \n",
    "slope(b) = (cost(b+h)-cost(b))/h  \n",
    "Note: the smaller h is, the better the approximation  "
   ]
  },
  {
   "cell_type": "markdown",
   "metadata": {},
   "source": [
    "Now, our approximation works for multiple functions.  \n",
    "Can use for sin(b)  \n",
    "sigmoid ... 1/(1+e**-b)  \n",
    "Detriment of this is that it's an approximation and it's computationally expensive."
   ]
  },
  {
   "cell_type": "markdown",
   "metadata": {},
   "source": [
    "Let's derive the slope of our cost function next:  \n",
    "slope ~= 2(b-target) + h , but we can forget about h because it's a tiny approximation, so just...  \n",
    "slope = 2 ( b - target ) "
   ]
  },
  {
   "cell_type": "markdown",
   "metadata": {},
   "source": [
    "Now let's try using calculus (the power rule):  \n",
    "f(x) = x^2  \n",
    "Derivative of this function is:  \n",
    "(d/dx)f(x) = 2x^1 or 2x  \n",
    "Move exponent to front and reduce exponent by one, so derivative of x^4 is:  \n",
    "4x^3  \n",
    "Derivative of x^y is yx^y-1  \n",
    "(b-4)^2 is 2(b-4)"
   ]
  },
  {
   "cell_type": "markdown",
   "metadata": {},
   "source": [
    "## Beginner Intro to Neural Networks 7: Slope of Cost + Simple Train in Python\n",
    "https://www.youtube.com/watch?v=EnGmg-kvpYs"
   ]
  },
  {
   "cell_type": "code",
   "execution_count": 46,
   "metadata": {},
   "outputs": [],
   "source": [
    "def cost(b):\n",
    "    return (b - 4)**2"
   ]
  },
  {
   "cell_type": "code",
   "execution_count": 47,
   "metadata": {},
   "outputs": [
    {
     "data": {
      "text/plain": [
       "16"
      ]
     },
     "execution_count": 47,
     "metadata": {},
     "output_type": "execute_result"
    }
   ],
   "source": [
    "cost(0)"
   ]
  },
  {
   "cell_type": "code",
   "execution_count": 48,
   "metadata": {},
   "outputs": [
    {
     "data": {
      "text/plain": [
       "4"
      ]
     },
     "execution_count": 48,
     "metadata": {},
     "output_type": "execute_result"
    }
   ],
   "source": [
    "cost(2)"
   ]
  },
  {
   "cell_type": "code",
   "execution_count": 49,
   "metadata": {},
   "outputs": [
    {
     "data": {
      "text/plain": [
       "0"
      ]
     },
     "execution_count": 49,
     "metadata": {},
     "output_type": "execute_result"
    }
   ],
   "source": [
    "cost(4)"
   ]
  },
  {
   "cell_type": "code",
   "execution_count": 50,
   "metadata": {},
   "outputs": [],
   "source": [
    "def num_slope(b):\n",
    "    h = 0.0001\n",
    "    return (cost(b+h) - cost(b))/h"
   ]
  },
  {
   "cell_type": "code",
   "execution_count": 51,
   "metadata": {},
   "outputs": [
    {
     "data": {
      "text/plain": [
       "-1.9999000000037181"
      ]
     },
     "execution_count": 51,
     "metadata": {},
     "output_type": "execute_result"
    }
   ],
   "source": [
    "num_slope(3)"
   ]
  },
  {
   "cell_type": "code",
   "execution_count": 52,
   "metadata": {},
   "outputs": [
    {
     "data": {
      "text/plain": [
       "2.000099999994731"
      ]
     },
     "execution_count": 52,
     "metadata": {},
     "output_type": "execute_result"
    }
   ],
   "source": [
    "num_slope(5)"
   ]
  },
  {
   "cell_type": "code",
   "execution_count": 53,
   "metadata": {},
   "outputs": [],
   "source": [
    "def slope(b):\n",
    "    return 2 * (b - 4)#**1"
   ]
  },
  {
   "cell_type": "code",
   "execution_count": 54,
   "metadata": {},
   "outputs": [
    {
     "data": {
      "text/plain": [
       "-2"
      ]
     },
     "execution_count": 54,
     "metadata": {},
     "output_type": "execute_result"
    }
   ],
   "source": [
    "slope(3)"
   ]
  },
  {
   "cell_type": "code",
   "execution_count": 55,
   "metadata": {},
   "outputs": [
    {
     "data": {
      "text/plain": [
       "2"
      ]
     },
     "execution_count": 55,
     "metadata": {},
     "output_type": "execute_result"
    }
   ],
   "source": [
    "slope(5)"
   ]
  },
  {
   "cell_type": "code",
   "execution_count": 56,
   "metadata": {},
   "outputs": [],
   "source": [
    "b = 8"
   ]
  },
  {
   "cell_type": "code",
   "execution_count": 85,
   "metadata": {},
   "outputs": [
    {
     "name": "stdout",
     "output_type": "stream",
     "text": [
      "4.006189700196427\n"
     ]
    }
   ],
   "source": [
    "b = b - .1 * slope(b)\n",
    "print(b)"
   ]
  },
  {
   "cell_type": "markdown",
   "metadata": {},
   "source": [
    "Run repeatedly as needed"
   ]
  },
  {
   "cell_type": "code",
   "execution_count": 86,
   "metadata": {},
   "outputs": [
    {
     "name": "stdout",
     "output_type": "stream",
     "text": [
      "0\n",
      "1\n",
      "2\n"
     ]
    }
   ],
   "source": [
    "for i in range(3):\n",
    "    print(i)"
   ]
  },
  {
   "cell_type": "code",
   "execution_count": 90,
   "metadata": {},
   "outputs": [
    {
     "name": "stdout",
     "output_type": "stream",
     "text": [
      "0.8\n",
      "1.4400000000000002\n",
      "1.952\n",
      "2.3616\n",
      "2.68928\n",
      "2.9514240000000003\n",
      "3.1611392\n",
      "3.32891136\n",
      "3.463129088\n",
      "3.5705032704\n"
     ]
    }
   ],
   "source": [
    "b = 0\n",
    "# training loop, minimizing cost and changing the output of our simple NN\n",
    "for i in range(10):\n",
    "    b = b - .1 * slope(b)\n",
    "    print(b)"
   ]
  },
  {
   "cell_type": "markdown",
   "metadata": {},
   "source": [
    "## Beginner Intro to Neural Networks 8: Linear Regression\n",
    "https://www.youtube.com/watch?v=GwVTM28HKYk"
   ]
  },
  {
   "cell_type": "markdown",
   "metadata": {},
   "source": [
    "Pats vs wags:"
   ]
  },
  {
   "cell_type": "code",
   "execution_count": 97,
   "metadata": {},
   "outputs": [],
   "source": [
    "df = pd.DataFrame(list(zip([1,2,4], [2,4,5])), columns=['pats', 'wags'])"
   ]
  },
  {
   "cell_type": "code",
   "execution_count": 98,
   "metadata": {},
   "outputs": [
    {
     "data": {
      "text/html": [
       "<div>\n",
       "<style scoped>\n",
       "    .dataframe tbody tr th:only-of-type {\n",
       "        vertical-align: middle;\n",
       "    }\n",
       "\n",
       "    .dataframe tbody tr th {\n",
       "        vertical-align: top;\n",
       "    }\n",
       "\n",
       "    .dataframe thead th {\n",
       "        text-align: right;\n",
       "    }\n",
       "</style>\n",
       "<table border=\"1\" class=\"dataframe\">\n",
       "  <thead>\n",
       "    <tr style=\"text-align: right;\">\n",
       "      <th></th>\n",
       "      <th>pats</th>\n",
       "      <th>wags</th>\n",
       "    </tr>\n",
       "  </thead>\n",
       "  <tbody>\n",
       "    <tr>\n",
       "      <th>0</th>\n",
       "      <td>1</td>\n",
       "      <td>2</td>\n",
       "    </tr>\n",
       "    <tr>\n",
       "      <th>1</th>\n",
       "      <td>2</td>\n",
       "      <td>4</td>\n",
       "    </tr>\n",
       "    <tr>\n",
       "      <th>2</th>\n",
       "      <td>4</td>\n",
       "      <td>5</td>\n",
       "    </tr>\n",
       "  </tbody>\n",
       "</table>\n",
       "</div>"
      ],
      "text/plain": [
       "   pats  wags\n",
       "0     1     2\n",
       "1     2     4\n",
       "2     4     5"
      ]
     },
     "execution_count": 98,
     "metadata": {},
     "output_type": "execute_result"
    }
   ],
   "source": [
    "df"
   ]
  },
  {
   "cell_type": "code",
   "execution_count": 91,
   "metadata": {},
   "outputs": [],
   "source": [
    "def wags(pats):\n",
    "    return w * pats + b"
   ]
  },
  {
   "cell_type": "code",
   "execution_count": 99,
   "metadata": {},
   "outputs": [],
   "source": [
    "w = .25 # slope\n",
    "b = .68 # y-intercept"
   ]
  },
  {
   "cell_type": "code",
   "execution_count": 100,
   "metadata": {},
   "outputs": [],
   "source": [
    "df['wp'] =  df.pats.apply(lambda x: wags(x))"
   ]
  },
  {
   "cell_type": "code",
   "execution_count": 101,
   "metadata": {},
   "outputs": [
    {
     "data": {
      "text/html": [
       "<div>\n",
       "<style scoped>\n",
       "    .dataframe tbody tr th:only-of-type {\n",
       "        vertical-align: middle;\n",
       "    }\n",
       "\n",
       "    .dataframe tbody tr th {\n",
       "        vertical-align: top;\n",
       "    }\n",
       "\n",
       "    .dataframe thead th {\n",
       "        text-align: right;\n",
       "    }\n",
       "</style>\n",
       "<table border=\"1\" class=\"dataframe\">\n",
       "  <thead>\n",
       "    <tr style=\"text-align: right;\">\n",
       "      <th></th>\n",
       "      <th>pats</th>\n",
       "      <th>wags</th>\n",
       "      <th>wp</th>\n",
       "    </tr>\n",
       "  </thead>\n",
       "  <tbody>\n",
       "    <tr>\n",
       "      <th>0</th>\n",
       "      <td>1</td>\n",
       "      <td>2</td>\n",
       "      <td>0.93</td>\n",
       "    </tr>\n",
       "    <tr>\n",
       "      <th>1</th>\n",
       "      <td>2</td>\n",
       "      <td>4</td>\n",
       "      <td>1.18</td>\n",
       "    </tr>\n",
       "    <tr>\n",
       "      <th>2</th>\n",
       "      <td>4</td>\n",
       "      <td>5</td>\n",
       "      <td>1.68</td>\n",
       "    </tr>\n",
       "  </tbody>\n",
       "</table>\n",
       "</div>"
      ],
      "text/plain": [
       "   pats  wags    wp\n",
       "0     1     2  0.93\n",
       "1     2     4  1.18\n",
       "2     4     5  1.68"
      ]
     },
     "execution_count": 101,
     "metadata": {},
     "output_type": "execute_result"
    }
   ],
   "source": [
    "df"
   ]
  },
  {
   "cell_type": "code",
   "execution_count": 102,
   "metadata": {},
   "outputs": [],
   "source": [
    "w = 1\n",
    "b = 1.3"
   ]
  },
  {
   "cell_type": "code",
   "execution_count": 103,
   "metadata": {},
   "outputs": [
    {
     "data": {
      "text/html": [
       "<div>\n",
       "<style scoped>\n",
       "    .dataframe tbody tr th:only-of-type {\n",
       "        vertical-align: middle;\n",
       "    }\n",
       "\n",
       "    .dataframe tbody tr th {\n",
       "        vertical-align: top;\n",
       "    }\n",
       "\n",
       "    .dataframe thead th {\n",
       "        text-align: right;\n",
       "    }\n",
       "</style>\n",
       "<table border=\"1\" class=\"dataframe\">\n",
       "  <thead>\n",
       "    <tr style=\"text-align: right;\">\n",
       "      <th></th>\n",
       "      <th>pats</th>\n",
       "      <th>wags</th>\n",
       "      <th>wp</th>\n",
       "    </tr>\n",
       "  </thead>\n",
       "  <tbody>\n",
       "    <tr>\n",
       "      <th>0</th>\n",
       "      <td>1</td>\n",
       "      <td>2</td>\n",
       "      <td>2.3</td>\n",
       "    </tr>\n",
       "    <tr>\n",
       "      <th>1</th>\n",
       "      <td>2</td>\n",
       "      <td>4</td>\n",
       "      <td>3.3</td>\n",
       "    </tr>\n",
       "    <tr>\n",
       "      <th>2</th>\n",
       "      <td>4</td>\n",
       "      <td>5</td>\n",
       "      <td>5.3</td>\n",
       "    </tr>\n",
       "  </tbody>\n",
       "</table>\n",
       "</div>"
      ],
      "text/plain": [
       "   pats  wags   wp\n",
       "0     1     2  2.3\n",
       "1     2     4  3.3\n",
       "2     4     5  5.3"
      ]
     },
     "execution_count": 103,
     "metadata": {},
     "output_type": "execute_result"
    }
   ],
   "source": [
    "df['wp'] =  df.pats.apply(lambda x: wags(x))\n",
    "df"
   ]
  },
  {
   "cell_type": "markdown",
   "metadata": {},
   "source": [
    "## Beginner Intro to Neural Networks 9: Linear Regression Cost\n",
    "https://www.youtube.com/watch?v=fh1QZ97izSM"
   ]
  },
  {
   "cell_type": "code",
   "execution_count": 104,
   "metadata": {},
   "outputs": [],
   "source": [
    "df = pd.DataFrame(list(zip([1,2,4], [2,4,5])), columns=['pats', 'wags'])"
   ]
  },
  {
   "cell_type": "code",
   "execution_count": 105,
   "metadata": {},
   "outputs": [],
   "source": [
    "def wags(pats):\n",
    "    return pats * w + b"
   ]
  },
  {
   "cell_type": "code",
   "execution_count": 109,
   "metadata": {},
   "outputs": [],
   "source": [
    "w = 0.63\n",
    "b = 2.13"
   ]
  },
  {
   "cell_type": "code",
   "execution_count": 110,
   "metadata": {},
   "outputs": [
    {
     "data": {
      "text/html": [
       "<div>\n",
       "<style scoped>\n",
       "    .dataframe tbody tr th:only-of-type {\n",
       "        vertical-align: middle;\n",
       "    }\n",
       "\n",
       "    .dataframe tbody tr th {\n",
       "        vertical-align: top;\n",
       "    }\n",
       "\n",
       "    .dataframe thead th {\n",
       "        text-align: right;\n",
       "    }\n",
       "</style>\n",
       "<table border=\"1\" class=\"dataframe\">\n",
       "  <thead>\n",
       "    <tr style=\"text-align: right;\">\n",
       "      <th></th>\n",
       "      <th>pats</th>\n",
       "      <th>wags</th>\n",
       "      <th>wp</th>\n",
       "    </tr>\n",
       "  </thead>\n",
       "  <tbody>\n",
       "    <tr>\n",
       "      <th>0</th>\n",
       "      <td>1</td>\n",
       "      <td>2</td>\n",
       "      <td>2.76</td>\n",
       "    </tr>\n",
       "    <tr>\n",
       "      <th>1</th>\n",
       "      <td>2</td>\n",
       "      <td>4</td>\n",
       "      <td>3.39</td>\n",
       "    </tr>\n",
       "    <tr>\n",
       "      <th>2</th>\n",
       "      <td>4</td>\n",
       "      <td>5</td>\n",
       "      <td>4.65</td>\n",
       "    </tr>\n",
       "  </tbody>\n",
       "</table>\n",
       "</div>"
      ],
      "text/plain": [
       "   pats  wags    wp\n",
       "0     1     2  2.76\n",
       "1     2     4  3.39\n",
       "2     4     5  4.65"
      ]
     },
     "execution_count": 110,
     "metadata": {},
     "output_type": "execute_result"
    }
   ],
   "source": [
    "df['wp'] =  df.pats.apply(lambda x: wags(x))\n",
    "df"
   ]
  },
  {
   "cell_type": "markdown",
   "metadata": {},
   "source": [
    "Minimize the (squared) difference betwen the actual and predicted values by adding the errors."
   ]
  },
  {
   "cell_type": "code",
   "execution_count": 114,
   "metadata": {},
   "outputs": [
    {
     "name": "stdout",
     "output_type": "stream",
     "text": [
      "SSE: 1.0721999999999998\n"
     ]
    },
    {
     "data": {
      "text/html": [
       "<div>\n",
       "<style scoped>\n",
       "    .dataframe tbody tr th:only-of-type {\n",
       "        vertical-align: middle;\n",
       "    }\n",
       "\n",
       "    .dataframe tbody tr th {\n",
       "        vertical-align: top;\n",
       "    }\n",
       "\n",
       "    .dataframe thead th {\n",
       "        text-align: right;\n",
       "    }\n",
       "</style>\n",
       "<table border=\"1\" class=\"dataframe\">\n",
       "  <thead>\n",
       "    <tr style=\"text-align: right;\">\n",
       "      <th></th>\n",
       "      <th>pats</th>\n",
       "      <th>wags</th>\n",
       "      <th>wp</th>\n",
       "      <th>err</th>\n",
       "    </tr>\n",
       "  </thead>\n",
       "  <tbody>\n",
       "    <tr>\n",
       "      <th>0</th>\n",
       "      <td>1</td>\n",
       "      <td>2</td>\n",
       "      <td>2.76</td>\n",
       "      <td>0.5776</td>\n",
       "    </tr>\n",
       "    <tr>\n",
       "      <th>1</th>\n",
       "      <td>2</td>\n",
       "      <td>4</td>\n",
       "      <td>3.39</td>\n",
       "      <td>0.3721</td>\n",
       "    </tr>\n",
       "    <tr>\n",
       "      <th>2</th>\n",
       "      <td>4</td>\n",
       "      <td>5</td>\n",
       "      <td>4.65</td>\n",
       "      <td>0.1225</td>\n",
       "    </tr>\n",
       "  </tbody>\n",
       "</table>\n",
       "</div>"
      ],
      "text/plain": [
       "   pats  wags    wp     err\n",
       "0     1     2  2.76  0.5776\n",
       "1     2     4  3.39  0.3721\n",
       "2     4     5  4.65  0.1225"
      ]
     },
     "execution_count": 114,
     "metadata": {},
     "output_type": "execute_result"
    }
   ],
   "source": [
    "df['err'] = (df.wags-df.wp)**2\n",
    "print(\"SSE:\", df.err.sum())\n",
    "df"
   ]
  },
  {
   "cell_type": "code",
   "execution_count": null,
   "metadata": {},
   "outputs": [],
   "source": []
  },
  {
   "cell_type": "code",
   "execution_count": 115,
   "metadata": {},
   "outputs": [],
   "source": [
    "w = 0.83\n",
    "b = 1.17"
   ]
  },
  {
   "cell_type": "code",
   "execution_count": 116,
   "metadata": {},
   "outputs": [
    {
     "name": "stdout",
     "output_type": "stream",
     "text": [
      "SSE: 1.6289999999999996\n"
     ]
    },
    {
     "data": {
      "text/html": [
       "<div>\n",
       "<style scoped>\n",
       "    .dataframe tbody tr th:only-of-type {\n",
       "        vertical-align: middle;\n",
       "    }\n",
       "\n",
       "    .dataframe tbody tr th {\n",
       "        vertical-align: top;\n",
       "    }\n",
       "\n",
       "    .dataframe thead th {\n",
       "        text-align: right;\n",
       "    }\n",
       "</style>\n",
       "<table border=\"1\" class=\"dataframe\">\n",
       "  <thead>\n",
       "    <tr style=\"text-align: right;\">\n",
       "      <th></th>\n",
       "      <th>pats</th>\n",
       "      <th>wags</th>\n",
       "      <th>wp</th>\n",
       "      <th>err</th>\n",
       "    </tr>\n",
       "  </thead>\n",
       "  <tbody>\n",
       "    <tr>\n",
       "      <th>0</th>\n",
       "      <td>1</td>\n",
       "      <td>2</td>\n",
       "      <td>2.00</td>\n",
       "      <td>0.0000</td>\n",
       "    </tr>\n",
       "    <tr>\n",
       "      <th>1</th>\n",
       "      <td>2</td>\n",
       "      <td>4</td>\n",
       "      <td>2.83</td>\n",
       "      <td>1.3689</td>\n",
       "    </tr>\n",
       "    <tr>\n",
       "      <th>2</th>\n",
       "      <td>4</td>\n",
       "      <td>5</td>\n",
       "      <td>4.49</td>\n",
       "      <td>0.2601</td>\n",
       "    </tr>\n",
       "  </tbody>\n",
       "</table>\n",
       "</div>"
      ],
      "text/plain": [
       "   pats  wags    wp     err\n",
       "0     1     2  2.00  0.0000\n",
       "1     2     4  2.83  1.3689\n",
       "2     4     5  4.49  0.2601"
      ]
     },
     "execution_count": 116,
     "metadata": {},
     "output_type": "execute_result"
    }
   ],
   "source": [
    "df['wp'] =  df.pats.apply(lambda x: wags(x))\n",
    "df['err'] = (df.wags-df.wp)**2\n",
    "print(\"SSE:\", df.err.sum())\n",
    "df"
   ]
  },
  {
   "cell_type": "markdown",
   "metadata": {},
   "source": [
    "If we bring Cost (error) down to zero, we've found the best fit for all the data.  \n",
    "We try to minimize this."
   ]
  },
  {
   "cell_type": "markdown",
   "metadata": {},
   "source": [
    "Cost = sigma  ( model(xi) - targeti ) ^2  \n",
    "\n",
    "Can add 1/m in front of sigma where m is the number of data points, giving you the average squared error, which is nice when you have different numbers of data points and you want to keep your step size the same."
   ]
  },
  {
   "cell_type": "markdown",
   "metadata": {},
   "source": [
    "## Beginner Intro to Neural Networks 10: Finding Linear Regression Parameters\n",
    "https://www.youtube.com/watch?v=bP2SCk-QGkw"
   ]
  },
  {
   "cell_type": "markdown",
   "metadata": {},
   "source": [
    "Find the best parameters for w and b for our linear regression model."
   ]
  },
  {
   "cell_type": "code",
   "execution_count": 117,
   "metadata": {},
   "outputs": [],
   "source": [
    "w = 0.01\n",
    "b = 0.01"
   ]
  },
  {
   "cell_type": "markdown",
   "metadata": {},
   "source": [
    "Parameter updates:  \n",
    "w = w+alpha\\*dcdw(w,b) = #.##  \n",
    "b = b+alpha\\*dcdb(w,b) = #.##  "
   ]
  },
  {
   "cell_type": "markdown",
   "metadata": {},
   "source": [
    "We want to know the slope of the cost in both the w and b dimensions.  \n",
    "We have to take the partial derivative with respect to each."
   ]
  },
  {
   "cell_type": "markdown",
   "metadata": {},
   "source": [
    "Partial derivatives of cost w.r.t. w and b:  \n",
    "\n",
    "dcdw(w,b) = 2 * (w*1 + b-2)*1 + 2 * (w*2 + b-4)*2 + 2 * (w*4 + b - 5)*4   \\n  \n",
    "dcdb(w,b) = 2 * (w*1 + b-2)   + 2 * (w*2 + b-4)   + 2 * (w*4 + b - 5)  \n",
    "dcdw(w,b) = -432.03  \n",
    "dcdb(w,b) = -150.85  \n",
    "\n",
    "Now, we actually want to *subtract* (not add) a fraction of these numbers to *minimize* cost without overshooting."
   ]
  },
  {
   "cell_type": "markdown",
   "metadata": {},
   "source": [
    "## Beginner Intro to Neural Networks 12: Neural Network in Python from Scratch\n",
    "https://www.youtube.com/watch?v=LSr96IZQknc  \n",
    "https://www.youtube.com/watch?v=LSr96IZQknc&list=PLxt59R_fWVzT9bDxA76AHm3ig0Gg9S3So&index=14"
   ]
  },
  {
   "cell_type": "code",
   "execution_count": 119,
   "metadata": {},
   "outputs": [],
   "source": [
    "%matplotlib inline"
   ]
  },
  {
   "cell_type": "code",
   "execution_count": 118,
   "metadata": {},
   "outputs": [],
   "source": [
    "from matplotlib import pyplot as plt\n",
    "import numpy as np\n",
    "import pandas as pd"
   ]
  },
  {
   "cell_type": "code",
   "execution_count": 120,
   "metadata": {},
   "outputs": [],
   "source": [
    "color = [ \"red\", \"blue\" ] * 4 + [np.nan]\n",
    "length = [3, 2, 4, 3, 3.5, 2, 5.5, 1, 4.5]\n",
    "width = [1.5, 1, 1.5, 1, .5, .5, 1, 1, 1]\n",
    "\n",
    "dictionary = {\"clr\": color, \"len\": length, \"wid\": width}\n",
    "df = pd.DataFrame(dictionary)\n",
    "\n",
    "df.replace([\"red\", \"blue\"], [0, 1], inplace=True)"
   ]
  },
  {
   "cell_type": "code",
   "execution_count": 121,
   "metadata": {},
   "outputs": [
    {
     "data": {
      "text/html": [
       "<div>\n",
       "<style scoped>\n",
       "    .dataframe tbody tr th:only-of-type {\n",
       "        vertical-align: middle;\n",
       "    }\n",
       "\n",
       "    .dataframe tbody tr th {\n",
       "        vertical-align: top;\n",
       "    }\n",
       "\n",
       "    .dataframe thead th {\n",
       "        text-align: right;\n",
       "    }\n",
       "</style>\n",
       "<table border=\"1\" class=\"dataframe\">\n",
       "  <thead>\n",
       "    <tr style=\"text-align: right;\">\n",
       "      <th></th>\n",
       "      <th>clr</th>\n",
       "      <th>len</th>\n",
       "      <th>wid</th>\n",
       "    </tr>\n",
       "  </thead>\n",
       "  <tbody>\n",
       "    <tr>\n",
       "      <th>0</th>\n",
       "      <td>0.0</td>\n",
       "      <td>3.0</td>\n",
       "      <td>1.5</td>\n",
       "    </tr>\n",
       "    <tr>\n",
       "      <th>1</th>\n",
       "      <td>1.0</td>\n",
       "      <td>2.0</td>\n",
       "      <td>1.0</td>\n",
       "    </tr>\n",
       "    <tr>\n",
       "      <th>2</th>\n",
       "      <td>0.0</td>\n",
       "      <td>4.0</td>\n",
       "      <td>1.5</td>\n",
       "    </tr>\n",
       "    <tr>\n",
       "      <th>3</th>\n",
       "      <td>1.0</td>\n",
       "      <td>3.0</td>\n",
       "      <td>1.0</td>\n",
       "    </tr>\n",
       "    <tr>\n",
       "      <th>4</th>\n",
       "      <td>0.0</td>\n",
       "      <td>3.5</td>\n",
       "      <td>0.5</td>\n",
       "    </tr>\n",
       "    <tr>\n",
       "      <th>5</th>\n",
       "      <td>1.0</td>\n",
       "      <td>2.0</td>\n",
       "      <td>0.5</td>\n",
       "    </tr>\n",
       "    <tr>\n",
       "      <th>6</th>\n",
       "      <td>0.0</td>\n",
       "      <td>5.5</td>\n",
       "      <td>1.0</td>\n",
       "    </tr>\n",
       "    <tr>\n",
       "      <th>7</th>\n",
       "      <td>1.0</td>\n",
       "      <td>1.0</td>\n",
       "      <td>1.0</td>\n",
       "    </tr>\n",
       "    <tr>\n",
       "      <th>8</th>\n",
       "      <td>NaN</td>\n",
       "      <td>4.5</td>\n",
       "      <td>1.0</td>\n",
       "    </tr>\n",
       "  </tbody>\n",
       "</table>\n",
       "</div>"
      ],
      "text/plain": [
       "   clr  len  wid\n",
       "0  0.0  3.0  1.5\n",
       "1  1.0  2.0  1.0\n",
       "2  0.0  4.0  1.5\n",
       "3  1.0  3.0  1.0\n",
       "4  0.0  3.5  0.5\n",
       "5  1.0  2.0  0.5\n",
       "6  0.0  5.5  1.0\n",
       "7  1.0  1.0  1.0\n",
       "8  NaN  4.5  1.0"
      ]
     },
     "execution_count": 121,
     "metadata": {},
     "output_type": "execute_result"
    }
   ],
   "source": [
    "df"
   ]
  },
  {
   "cell_type": "code",
   "execution_count": 123,
   "metadata": {},
   "outputs": [],
   "source": [
    "data = [[3  , 1.5, 1],\n",
    "        [2  , 1  , 0],\n",
    "        [4  , 1.5, 1],\n",
    "        [3  , 1  , 0],\n",
    "        [3.5, .5 , 1],\n",
    "        [2  , .5 , 0],\n",
    "        [5.5, 1  , 1],\n",
    "        [1  , 1  , 0]]\n",
    "\n",
    "mystery_flower = [4.5, 1]"
   ]
  },
  {
   "cell_type": "code",
   "execution_count": 125,
   "metadata": {},
   "outputs": [
    {
     "data": {
      "text/plain": [
       "[2, 1, 0]"
      ]
     },
     "execution_count": 125,
     "metadata": {},
     "output_type": "execute_result"
    }
   ],
   "source": [
    "data[1]"
   ]
  },
  {
   "cell_type": "code",
   "execution_count": 126,
   "metadata": {},
   "outputs": [
    {
     "data": {
      "text/plain": [
       "2"
      ]
     },
     "execution_count": 126,
     "metadata": {},
     "output_type": "execute_result"
    }
   ],
   "source": [
    "data[1][0]"
   ]
  },
  {
   "cell_type": "code",
   "execution_count": 127,
   "metadata": {},
   "outputs": [],
   "source": [
    "# network\n",
    "\n",
    "#   o    flower type\n",
    "#  / \\   w1, w2, b\n",
    "# o   o  length, width\n",
    "\n",
    "w1 = np.random.randn()\n",
    "w2 = np.random.randn()\n",
    "b  = np.random.randn()"
   ]
  },
  {
   "cell_type": "code",
   "execution_count": 128,
   "metadata": {},
   "outputs": [],
   "source": [
    "def sigmoid(x):\n",
    "    return 1 / (1 + np.exp(-x))"
   ]
  },
  {
   "cell_type": "code",
   "execution_count": 129,
   "metadata": {},
   "outputs": [
    {
     "data": {
      "text/plain": [
       "array([-5.        , -3.88888889, -2.77777778, -1.66666667, -0.55555556,\n",
       "        0.55555556,  1.66666667,  2.77777778,  3.88888889,  5.        ])"
      ]
     },
     "execution_count": 129,
     "metadata": {},
     "output_type": "execute_result"
    }
   ],
   "source": [
    "T = np.linspace(-5, 5, 10)\n",
    "T"
   ]
  },
  {
   "cell_type": "code",
   "execution_count": 130,
   "metadata": {},
   "outputs": [
    {
     "data": {
      "text/plain": [
       "array([0.00669285, 0.02005754, 0.0585369 , 0.1588691 , 0.36457644,\n",
       "       0.63542356, 0.8411309 , 0.9414631 , 0.97994246, 0.99330715])"
      ]
     },
     "execution_count": 130,
     "metadata": {},
     "output_type": "execute_result"
    }
   ],
   "source": [
    "Y = sigmoid(T)\n",
    "Y"
   ]
  },
  {
   "cell_type": "code",
   "execution_count": 131,
   "metadata": {},
   "outputs": [
    {
     "data": {
      "text/plain": [
       "[<matplotlib.lines.Line2D at 0x208312f9550>]"
      ]
     },
     "execution_count": 131,
     "metadata": {},
     "output_type": "execute_result"
    },
    {
     "data": {
      "image/png": "[encoded data removed]",
      "text/plain": [
       "<Figure size 432x288 with 1 Axes>"
      ]
     },
     "metadata": {
      "needs_background": "light"
     },
     "output_type": "display_data"
    }
   ],
   "source": [
    "plt.plot(T, Y)"
   ]
  },
  {
   "cell_type": "markdown",
   "metadata": {},
   "source": [
    "Can smoothe this line by increasing third value in linspace()  \n",
    "Can sharpen/increase/squash the sigmoid curve by increasing the domain (1st & 2nd values) in linspace()"
   ]
  },
  {
   "cell_type": "code",
   "execution_count": 132,
   "metadata": {},
   "outputs": [
    {
     "data": {
      "text/plain": [
       "[<matplotlib.lines.Line2D at 0x2082e9d2f70>]"
      ]
     },
     "execution_count": 132,
     "metadata": {},
     "output_type": "execute_result"
    },
    {
     "data": {
      "image/png": "[encoded data removed]",
      "text/plain": [
       "<Figure size 432x288 with 1 Axes>"
      ]
     },
     "metadata": {
      "needs_background": "light"
     },
     "output_type": "display_data"
    }
   ],
   "source": [
    "T = np.linspace(-20, 20, 100)\n",
    "Y = sigmoid(T)\n",
    "plt.plot(T,Y)"
   ]
  },
  {
   "cell_type": "code",
   "execution_count": 133,
   "metadata": {},
   "outputs": [],
   "source": [
    "def sigmoid_p(x):\n",
    "    return sigmoid(x) * (1-sigmoid(x))"
   ]
  },
  {
   "cell_type": "code",
   "execution_count": 135,
   "metadata": {},
   "outputs": [
    {
     "data": {
      "text/plain": [
       "[<matplotlib.lines.Line2D at 0x208334d07f0>]"
      ]
     },
     "execution_count": 135,
     "metadata": {},
     "output_type": "execute_result"
    },
    {
     "data": {
      "image/png": "[encoded data removed]",
      "text/plain": [
       "<Figure size 432x288 with 1 Axes>"
      ]
     },
     "metadata": {
      "needs_background": "light"
     },
     "output_type": "display_data"
    }
   ],
   "source": [
    "T = np.linspace(-6, 6, 100)\n",
    "plt.plot(T, sigmoid(T), c='r')\n",
    "plt.plot(T, sigmoid_p(T), c='b')"
   ]
  },
  {
   "cell_type": "markdown",
   "metadata": {},
   "source": [
    "The blue line is a graph of the slope of the red line."
   ]
  },
  {
   "cell_type": "code",
   "execution_count": 147,
   "metadata": {},
   "outputs": [],
   "source": [
    "# training loop (a list of 100 random points from our data)\n",
    "\n",
    "for i in range(100):\n",
    "    ri = np.random.randint(len(data))  # random index\n",
    "    point = data[ri]\n",
    "#     print(point)"
   ]
  },
  {
   "cell_type": "code",
   "execution_count": 146,
   "metadata": {},
   "outputs": [
    {
     "data": {
      "image/png": "[encoded data removed]",
      "text/plain": [
       "<Figure size 432x288 with 1 Axes>"
      ]
     },
     "metadata": {
      "needs_background": "light"
     },
     "output_type": "display_data"
    }
   ],
   "source": [
    "# scatter plot of data\n",
    "plt.axis([0,6,0,6])  # xmin, xmax, ymin, ymax\n",
    "plt.grid()  # adds a grid\n",
    "for i in range(len(data)):\n",
    "    point = data[i]\n",
    "    color = 'r'\n",
    "    if point[2] == 0:\n",
    "        color = 'b'\n",
    "    plt.scatter(point[0], point[1], c=color)"
   ]
  },
  {
   "cell_type": "code",
   "execution_count": 154,
   "metadata": {},
   "outputs": [
    {
     "data": {
      "text/plain": [
       "[[3, 1.5, 1],\n",
       " [2, 1, 0],\n",
       " [4, 1.5, 1],\n",
       " [3, 1, 0],\n",
       " [3.5, 0.5, 1],\n",
       " [2, 0.5, 0],\n",
       " [5.5, 1, 1],\n",
       " [1, 1, 0]]"
      ]
     },
     "execution_count": 154,
     "metadata": {},
     "output_type": "execute_result"
    }
   ],
   "source": [
    "data"
   ]
  },
  {
   "cell_type": "code",
   "execution_count": 151,
   "metadata": {},
   "outputs": [],
   "source": [
    "# network\n",
    "\n",
    "#   o    flower type\n",
    "#  / \\   w1, w2, b\n",
    "# o   o  length, width\n",
    "\n",
    "w1 = np.random.randn()\n",
    "w2 = np.random.randn()\n",
    "b  = np.random.randn()"
   ]
  },
  {
   "cell_type": "code",
   "execution_count": 152,
   "metadata": {},
   "outputs": [],
   "source": [
    "def sigmoid(x):\n",
    "    return 1 / (1 + np.exp(-x))"
   ]
  },
  {
   "cell_type": "code",
   "execution_count": 158,
   "metadata": {},
   "outputs": [
    {
     "name": "stdout",
     "output_type": "stream",
     "text": [
      "1 6.094551577881949e-07\n",
      "1 6.094551577881949e-07\n",
      "0 0.9974216412341755\n",
      "1 2.2353385472585832e-10\n",
      "1 1.7231586430394724e-08\n",
      "0 0.9750597517221323\n",
      "0 0.9750597517221323\n",
      "0 0.9750597517221323\n",
      "1 6.094551577881949e-07\n",
      "1 7.649730606890928e-07\n",
      "1 6.094551577881949e-07\n",
      "1 7.649730606890928e-07\n",
      "0 0.9974216412341755\n",
      "1 2.2353385472585832e-10\n",
      "1 7.649730606890928e-07\n",
      "0 0.9750597517221323\n",
      "1 6.094551577881949e-07\n",
      "0 0.9750597517221323\n",
      "1 6.094551577881949e-07\n",
      "0 0.9974216412341755\n",
      "0 0.9974216412341755\n",
      "1 6.094551577881949e-07\n",
      "0 0.9144272561599955\n",
      "0 0.9974216412341755\n",
      "0 0.9750597517221323\n",
      "1 1.7231586430394724e-08\n",
      "1 2.2353385472585832e-10\n",
      "1 6.094551577881949e-07\n",
      "0 0.9974216412341755\n",
      "0 0.9974216412341755\n",
      "0 0.9144272561599955\n",
      "1 6.094551577881949e-07\n",
      "0 0.9974216412341755\n",
      "0 0.9848018958556349\n",
      "1 1.7231586430394724e-08\n",
      "0 0.9974216412341755\n",
      "0 0.9848018958556349\n",
      "1 6.094551577881949e-07\n",
      "1 6.094551577881949e-07\n",
      "0 0.9750597517221323\n",
      "1 7.649730606890928e-07\n",
      "0 0.9750597517221323\n",
      "0 0.9750597517221323\n",
      "1 6.094551577881949e-07\n",
      "0 0.9848018958556349\n",
      "1 6.094551577881949e-07\n",
      "1 6.094551577881949e-07\n",
      "0 0.9144272561599955\n",
      "1 7.649730606890928e-07\n",
      "0 0.9750597517221323\n",
      "1 1.7231586430394724e-08\n",
      "1 2.2353385472585832e-10\n",
      "0 0.9750597517221323\n",
      "0 0.9974216412341755\n",
      "0 0.9974216412341755\n",
      "0 0.9144272561599955\n",
      "0 0.9848018958556349\n",
      "0 0.9144272561599955\n",
      "1 1.7231586430394724e-08\n",
      "1 6.094551577881949e-07\n",
      "0 0.9144272561599955\n",
      "1 6.094551577881949e-07\n",
      "0 0.9848018958556349\n",
      "0 0.9974216412341755\n",
      "1 7.649730606890928e-07\n",
      "0 0.9848018958556349\n",
      "0 0.9848018958556349\n",
      "1 1.7231586430394724e-08\n",
      "1 7.649730606890928e-07\n",
      "1 6.094551577881949e-07\n",
      "1 2.2353385472585832e-10\n",
      "1 6.094551577881949e-07\n",
      "0 0.9144272561599955\n",
      "1 7.649730606890928e-07\n",
      "0 0.9974216412341755\n",
      "1 6.094551577881949e-07\n",
      "1 1.7231586430394724e-08\n",
      "0 0.9144272561599955\n",
      "1 1.7231586430394724e-08\n",
      "1 6.094551577881949e-07\n",
      "1 6.094551577881949e-07\n",
      "0 0.9144272561599955\n",
      "0 0.9750597517221323\n",
      "0 0.9750597517221323\n",
      "1 2.2353385472585832e-10\n",
      "0 0.9750597517221323\n",
      "1 2.2353385472585832e-10\n",
      "1 1.7231586430394724e-08\n",
      "1 2.2353385472585832e-10\n",
      "0 0.9974216412341755\n",
      "1 2.2353385472585832e-10\n",
      "0 0.9750597517221323\n",
      "1 6.094551577881949e-07\n",
      "0 0.9974216412341755\n",
      "0 0.9750597517221323\n",
      "0 0.9974216412341755\n",
      "1 2.2353385472585832e-10\n",
      "1 1.7231586430394724e-08\n",
      "0 0.9974216412341755\n",
      "0 0.9144272561599955\n"
     ]
    }
   ],
   "source": [
    "# training loop (a list of 100 random points from our data)\n",
    "\n",
    "for i in range(100):\n",
    "    ri = np.random.randint(len(data))  # random index\n",
    "    point = data[ri]\n",
    "    \n",
    "    z = point[0] * w1 + point[1] * w2 + b\n",
    "    pred = sigmoid(z)\n",
    "    \n",
    "    target = point[2]\n",
    "#     cost = (pred - target)**2\n",
    "    cost = np.square(pred - target)\n",
    "    \n",
    "#     print(target, cost)"
   ]
  },
  {
   "cell_type": "code",
   "execution_count": null,
   "metadata": {},
   "outputs": [],
   "source": []
  }
 ],
 "metadata": {
  "kernelspec": {
   "display_name": "Python 3",
   "language": "python",
   "name": "python3"
  },
  "language_info": {
   "codemirror_mode": {
    "name": "ipython",
    "version": 3
   },
   "file_extension": ".py",
   "mimetype": "text/x-python",
   "name": "python",
   "nbconvert_exporter": "python",
   "pygments_lexer": "ipython3",
   "version": "3.8.5"
  }
 },
 "nbformat": 4,
 "nbformat_minor": 4
}
