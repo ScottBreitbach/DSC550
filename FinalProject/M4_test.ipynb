{
 "cells": [
  {
   "cell_type": "markdown",
   "id": "3cb404b3-3e63-4b1c-9c50-3da60e70ca75",
   "metadata": {},
   "source": [
    "# Scott Breitbach\n",
    "## 23-May-2021\n",
    "## DSC550, Milestone 4"
   ]
  },
  {
   "cell_type": "markdown",
   "id": "45c33463-383c-437b-a7da-697c5146f6bd",
   "metadata": {},
   "source": [
    "# Back to Feature Selection:\n",
    "I found a neat article that helps to compare features using different feature selection methods and thought I'd try it out:\n",
    "## *How to Throw Away 95% of Your Data and Get 95% Accuracy*\n",
    "https://towardsdatascience.com/feature-selection-how-to-throw-away-95-of-your-data-and-get-95-accuracy-ad41ca016877"
   ]
  },
  {
   "cell_type": "code",
   "execution_count": 1,
   "id": "ffb9b6d5-66fa-4161-9103-95db68b8851a",
   "metadata": {},
   "outputs": [
    {
     "name": "stderr",
     "output_type": "stream",
     "text": [
      "C:\\ProgramData\\Anaconda3\\lib\\site-packages\\numpy\\_distributor_init.py:30: UserWarning: loaded more than 1 DLL from .libs:\n",
      "C:\\ProgramData\\Anaconda3\\lib\\site-packages\\numpy\\.libs\\libopenblas.NOIJJG62EMASZI6NYURL6JBKM4EVBGM7.gfortran-win_amd64.dll\n",
      "C:\\ProgramData\\Anaconda3\\lib\\site-packages\\numpy\\.libs\\libopenblas.WCDJNK7YVMPZQ2ME2ZZHJJRJ3JIKNDB7.gfortran-win_amd64.dll\n",
      "  warnings.warn(\"loaded more than 1 DLL from .libs:\"\n"
     ]
    }
   ],
   "source": [
    "# Load Libraries\n",
    "import pandas as pd\n",
    "import numpy as np\n",
    "\n",
    "# Set random seed\n",
    "np.random.seed(42)"
   ]
  },
  {
   "cell_type": "markdown",
   "id": "ec6faa62-9c33-4816-ae63-6a828e9514f5",
   "metadata": {},
   "source": [
    "### Load Data"
   ]
  },
  {
   "cell_type": "code",
   "execution_count": 2,
   "id": "a901fb12-7767-48e0-86df-86b007a3d3ae",
   "metadata": {},
   "outputs": [],
   "source": [
    "# Load data to a DataFrame\n",
    "beanDF = pd.read_excel('DryBeanDataset/Dry_Bean_Dataset.xlsx')"
   ]
  },
  {
   "cell_type": "code",
   "execution_count": 3,
   "id": "63d169cb-7fdd-472b-9e39-5ebcf6e67270",
   "metadata": {},
   "outputs": [
    {
     "data": {
      "text/plain": [
       "(13611, 17)"
      ]
     },
     "execution_count": 3,
     "metadata": {},
     "output_type": "execute_result"
    }
   ],
   "source": [
    "# Look at the shape of the DataFrame\n",
    "beanDF.shape"
   ]
  },
  {
   "cell_type": "code",
   "execution_count": 4,
   "id": "d11591b0-d1e6-4509-8ec9-e760811db5e2",
   "metadata": {},
   "outputs": [
    {
     "data": {
      "text/plain": [
       "Class\n",
       "DERMASON    3546\n",
       "SIRA        2636\n",
       "SEKER       2027\n",
       "HOROZ       1928\n",
       "CALI        1630\n",
       "BARBUNYA    1322\n",
       "BOMBAY       522\n",
       "dtype: int64"
      ]
     },
     "execution_count": 4,
     "metadata": {},
     "output_type": "execute_result"
    }
   ],
   "source": [
    "# See the relative numbers of each target category\n",
    "beanDF.value_counts('Class')"
   ]
  },
  {
   "cell_type": "code",
   "execution_count": 5,
   "id": "3522b177-2a07-471a-9c1a-0db9c3772143",
   "metadata": {},
   "outputs": [
    {
     "data": {
      "text/html": [
       "<div>\n",
       "<style scoped>\n",
       "    .dataframe tbody tr th:only-of-type {\n",
       "        vertical-align: middle;\n",
       "    }\n",
       "\n",
       "    .dataframe tbody tr th {\n",
       "        vertical-align: top;\n",
       "    }\n",
       "\n",
       "    .dataframe thead th {\n",
       "        text-align: right;\n",
       "    }\n",
       "</style>\n",
       "<table border=\"1\" class=\"dataframe\">\n",
       "  <thead>\n",
       "    <tr style=\"text-align: right;\">\n",
       "      <th></th>\n",
       "      <th>Area</th>\n",
       "      <th>Perimeter</th>\n",
       "      <th>MajorAxisLength</th>\n",
       "      <th>MinorAxisLength</th>\n",
       "      <th>AspectRation</th>\n",
       "      <th>Eccentricity</th>\n",
       "      <th>ConvexArea</th>\n",
       "      <th>EquivDiameter</th>\n",
       "      <th>Extent</th>\n",
       "      <th>Solidity</th>\n",
       "      <th>roundness</th>\n",
       "      <th>Compactness</th>\n",
       "      <th>ShapeFactor1</th>\n",
       "      <th>ShapeFactor2</th>\n",
       "      <th>ShapeFactor3</th>\n",
       "      <th>ShapeFactor4</th>\n",
       "      <th>Class</th>\n",
       "    </tr>\n",
       "  </thead>\n",
       "  <tbody>\n",
       "    <tr>\n",
       "      <th>0</th>\n",
       "      <td>28395</td>\n",
       "      <td>610.291</td>\n",
       "      <td>208.178117</td>\n",
       "      <td>173.888747</td>\n",
       "      <td>1.197191</td>\n",
       "      <td>0.549812</td>\n",
       "      <td>28715</td>\n",
       "      <td>190.141097</td>\n",
       "      <td>0.763923</td>\n",
       "      <td>0.988856</td>\n",
       "      <td>0.958027</td>\n",
       "      <td>0.913358</td>\n",
       "      <td>0.007332</td>\n",
       "      <td>0.003147</td>\n",
       "      <td>0.834222</td>\n",
       "      <td>0.998724</td>\n",
       "      <td>SEKER</td>\n",
       "    </tr>\n",
       "    <tr>\n",
       "      <th>1</th>\n",
       "      <td>28734</td>\n",
       "      <td>638.018</td>\n",
       "      <td>200.524796</td>\n",
       "      <td>182.734419</td>\n",
       "      <td>1.097356</td>\n",
       "      <td>0.411785</td>\n",
       "      <td>29172</td>\n",
       "      <td>191.272750</td>\n",
       "      <td>0.783968</td>\n",
       "      <td>0.984986</td>\n",
       "      <td>0.887034</td>\n",
       "      <td>0.953861</td>\n",
       "      <td>0.006979</td>\n",
       "      <td>0.003564</td>\n",
       "      <td>0.909851</td>\n",
       "      <td>0.998430</td>\n",
       "      <td>SEKER</td>\n",
       "    </tr>\n",
       "    <tr>\n",
       "      <th>2</th>\n",
       "      <td>29380</td>\n",
       "      <td>624.110</td>\n",
       "      <td>212.826130</td>\n",
       "      <td>175.931143</td>\n",
       "      <td>1.209713</td>\n",
       "      <td>0.562727</td>\n",
       "      <td>29690</td>\n",
       "      <td>193.410904</td>\n",
       "      <td>0.778113</td>\n",
       "      <td>0.989559</td>\n",
       "      <td>0.947849</td>\n",
       "      <td>0.908774</td>\n",
       "      <td>0.007244</td>\n",
       "      <td>0.003048</td>\n",
       "      <td>0.825871</td>\n",
       "      <td>0.999066</td>\n",
       "      <td>SEKER</td>\n",
       "    </tr>\n",
       "    <tr>\n",
       "      <th>3</th>\n",
       "      <td>30008</td>\n",
       "      <td>645.884</td>\n",
       "      <td>210.557999</td>\n",
       "      <td>182.516516</td>\n",
       "      <td>1.153638</td>\n",
       "      <td>0.498616</td>\n",
       "      <td>30724</td>\n",
       "      <td>195.467062</td>\n",
       "      <td>0.782681</td>\n",
       "      <td>0.976696</td>\n",
       "      <td>0.903936</td>\n",
       "      <td>0.928329</td>\n",
       "      <td>0.007017</td>\n",
       "      <td>0.003215</td>\n",
       "      <td>0.861794</td>\n",
       "      <td>0.994199</td>\n",
       "      <td>SEKER</td>\n",
       "    </tr>\n",
       "    <tr>\n",
       "      <th>4</th>\n",
       "      <td>30140</td>\n",
       "      <td>620.134</td>\n",
       "      <td>201.847882</td>\n",
       "      <td>190.279279</td>\n",
       "      <td>1.060798</td>\n",
       "      <td>0.333680</td>\n",
       "      <td>30417</td>\n",
       "      <td>195.896503</td>\n",
       "      <td>0.773098</td>\n",
       "      <td>0.990893</td>\n",
       "      <td>0.984877</td>\n",
       "      <td>0.970516</td>\n",
       "      <td>0.006697</td>\n",
       "      <td>0.003665</td>\n",
       "      <td>0.941900</td>\n",
       "      <td>0.999166</td>\n",
       "      <td>SEKER</td>\n",
       "    </tr>\n",
       "  </tbody>\n",
       "</table>\n",
       "</div>"
      ],
      "text/plain": [
       "    Area  Perimeter  MajorAxisLength  MinorAxisLength  AspectRation  \\\n",
       "0  28395    610.291       208.178117       173.888747      1.197191   \n",
       "1  28734    638.018       200.524796       182.734419      1.097356   \n",
       "2  29380    624.110       212.826130       175.931143      1.209713   \n",
       "3  30008    645.884       210.557999       182.516516      1.153638   \n",
       "4  30140    620.134       201.847882       190.279279      1.060798   \n",
       "\n",
       "   Eccentricity  ConvexArea  EquivDiameter    Extent  Solidity  roundness  \\\n",
       "0      0.549812       28715     190.141097  0.763923  0.988856   0.958027   \n",
       "1      0.411785       29172     191.272750  0.783968  0.984986   0.887034   \n",
       "2      0.562727       29690     193.410904  0.778113  0.989559   0.947849   \n",
       "3      0.498616       30724     195.467062  0.782681  0.976696   0.903936   \n",
       "4      0.333680       30417     195.896503  0.773098  0.990893   0.984877   \n",
       "\n",
       "   Compactness  ShapeFactor1  ShapeFactor2  ShapeFactor3  ShapeFactor4  Class  \n",
       "0     0.913358      0.007332      0.003147      0.834222      0.998724  SEKER  \n",
       "1     0.953861      0.006979      0.003564      0.909851      0.998430  SEKER  \n",
       "2     0.908774      0.007244      0.003048      0.825871      0.999066  SEKER  \n",
       "3     0.928329      0.007017      0.003215      0.861794      0.994199  SEKER  \n",
       "4     0.970516      0.006697      0.003665      0.941900      0.999166  SEKER  "
      ]
     },
     "execution_count": 5,
     "metadata": {},
     "output_type": "execute_result"
    }
   ],
   "source": [
    "# Get a look at the data\n",
    "beanDF.head()"
   ]
  },
  {
   "cell_type": "markdown",
   "id": "8ed95339-8c4d-401d-82c1-253a5cc592b3",
   "metadata": {},
   "source": [
    "## Split Training and Testing Data"
   ]
  },
  {
   "cell_type": "code",
   "execution_count": 6,
   "id": "04d0927b-454c-4e09-986e-6735edb0e080",
   "metadata": {},
   "outputs": [],
   "source": [
    "# Load libraries\n",
    "import numpy as np\n",
    "from sklearn.preprocessing import LabelEncoder\n",
    "from sklearn.preprocessing import StandardScaler\n",
    "from sklearn.model_selection import train_test_split"
   ]
  },
  {
   "cell_type": "code",
   "execution_count": 7,
   "id": "d2f25b40-03da-48c0-bf6e-c52f67e0c997",
   "metadata": {},
   "outputs": [],
   "source": [
    "# Set up features target sets\n",
    "X = beanDF[beanDF.columns[:-1]]\n",
    "y = beanDF.Class\n",
    "## TRIAL AND ERROR...\n",
    "# y = beanDF.Class\n",
    "# y = pd.get_dummies(beanDF.Class) # Well that didn't work\n",
    "# y = pd.get_dummies(beanDF, columns=['Class']).iloc[:, -7:] # Still no; wrong shape\n",
    "# y = beanDF.Class.astype('category') # That didn't work either\n",
    "# y = y.cat.codes"
   ]
  },
  {
   "cell_type": "code",
   "execution_count": 8,
   "id": "77a07b56-20ad-4982-af42-a041ab7011ad",
   "metadata": {},
   "outputs": [],
   "source": [
    "# Encode the target variables\n",
    "le = LabelEncoder()\n",
    "y = le.fit_transform(y)"
   ]
  },
  {
   "cell_type": "code",
   "execution_count": 9,
   "id": "f580511f-379c-4761-958e-e5c28def0d59",
   "metadata": {},
   "outputs": [],
   "source": [
    "# Split the data\n",
    "X_train, X_test, y_train, y_test = train_test_split(X, y, test_size =0.3, \n",
    "                                                    random_state=42)"
   ]
  },
  {
   "cell_type": "code",
   "execution_count": 10,
   "id": "02eee4d6-0deb-4f45-a668-efb950a6a531",
   "metadata": {},
   "outputs": [],
   "source": [
    "# Standardize Features\n",
    "scaler = StandardScaler()\n",
    "X_train = scaler.fit_transform(X_train) \n",
    "X_test  = scaler.transform(X_test)"
   ]
  },
  {
   "cell_type": "markdown",
   "id": "c321648e-457c-4f78-a931-3b32ed048783",
   "metadata": {},
   "source": [
    "QUESTION: Is it better to fit to the training set (X_train) or the entire feature set (X)?"
   ]
  },
  {
   "cell_type": "markdown",
   "id": "38a18f35-32d5-4de6-8af6-9fdc64e0cf81",
   "metadata": {},
   "source": [
    "## Feature selection"
   ]
  },
  {
   "cell_type": "markdown",
   "id": "ece67dbc-019e-47b7-a112-6e1996e807a1",
   "metadata": {},
   "source": [
    "### 1. F-statistic"
   ]
  },
  {
   "cell_type": "code",
   "execution_count": 11,
   "id": "13d129c1-9151-4235-9772-6a6f2283b0dd",
   "metadata": {},
   "outputs": [],
   "source": [
    "# Feature selection using F-statistic\n",
    "from sklearn.feature_selection import f_classif\n",
    "f = f_classif(X_train, y_train)[0]"
   ]
  },
  {
   "cell_type": "markdown",
   "id": "a3a9656a-af8d-4d61-a179-952ff45af7b7",
   "metadata": {},
   "source": [
    "### 2. Mutual information"
   ]
  },
  {
   "cell_type": "code",
   "execution_count": 12,
   "id": "1d930511-3e7a-4399-a1b2-dd58bc40ce46",
   "metadata": {},
   "outputs": [],
   "source": [
    "# Feature selection using mutual information\n",
    "from sklearn.feature_selection import mutual_info_classif\n",
    "mi = mutual_info_classif(X_train, y_train)"
   ]
  },
  {
   "cell_type": "markdown",
   "id": "6a524618-d2ac-450e-baf4-89751e502a35",
   "metadata": {},
   "source": [
    "### 3. Logistic regression"
   ]
  },
  {
   "cell_type": "code",
   "execution_count": 13,
   "id": "79a36241-a709-4065-9cef-faf3ed1be866",
   "metadata": {},
   "outputs": [],
   "source": [
    "# Feature selection using logistic regression\n",
    "from sklearn.linear_model import LogisticRegression\n",
    "\n",
    "logreg = LogisticRegression(max_iter=500).fit(X_train, y_train)"
   ]
  },
  {
   "cell_type": "markdown",
   "id": "7fb9ffd9-c290-4012-9122-7264f4302775",
   "metadata": {},
   "source": [
    "### LightGBM"
   ]
  },
  {
   "cell_type": "code",
   "execution_count": 14,
   "id": "a4577153-797b-4822-acc1-8ebd002d2861",
   "metadata": {},
   "outputs": [],
   "source": [
    "# pip install lightgbm"
   ]
  },
  {
   "cell_type": "code",
   "execution_count": 15,
   "id": "1659c7d0-51e6-4291-a542-a84358fa9aba",
   "metadata": {},
   "outputs": [],
   "source": [
    "# Feature selection using light gbm\n",
    "from lightgbm import LGBMClassifier\n",
    "lgbm = LGBMClassifier(\n",
    "    objective = 'multiclass',\n",
    "    metric = 'multi_logloss',\n",
    "    importance_type = 'gain'\n",
    ").fit(X_train, y_train)"
   ]
  },
  {
   "cell_type": "markdown",
   "id": "3c6b8343-956f-46ee-907a-31198269dc49",
   "metadata": {},
   "source": [
    "Need to convert y to int maybe? / bag of words?  \n",
    "Nope! LabelEncoder()  \n",
    "Note:  \n",
    ">The previous version of this article used `LabelEncoder` and `LabelBinarizer` which are not the recommended approach for encoding categorical values. These encoders should only be used to encode the target values not the feature values.\n",
    "\n",
    ">The examples below use `OrdinalEncoder` and `OneHotEncoder` which is the correct approach to use for encoding target values.\n",
    "\n",
    "From here: https://pbpython.com/categorical-encoding.html"
   ]
  },
  {
   "cell_type": "markdown",
   "id": "753b77e1-3af1-4d25-a982-77d9be0bfe7a",
   "metadata": {},
   "source": [
    "### 5. Boruta"
   ]
  },
  {
   "cell_type": "markdown",
   "id": "409e4a60-2e7c-4c40-9233-90ee13c39787",
   "metadata": {},
   "source": [
    "~~Coudn't get this to work. May come back to this later.~~ Works now!"
   ]
  },
  {
   "cell_type": "code",
   "execution_count": 16,
   "id": "a839346e-af0f-4d4e-a108-435425ae5c2f",
   "metadata": {},
   "outputs": [],
   "source": [
    "# pip install boruta"
   ]
  },
  {
   "cell_type": "code",
   "execution_count": 17,
   "id": "dea8bdd1-314c-4139-abe6-3b831c74851a",
   "metadata": {},
   "outputs": [],
   "source": [
    "# Feature selection using boruta\n",
    "from boruta import BorutaPy\n",
    "from sklearn.ensemble import RandomForestClassifier\n",
    "boruta = BorutaPy(\n",
    "    estimator = RandomForestClassifier(max_depth = 5), \n",
    "    n_estimators = 'auto', \n",
    "    max_iter = 100\n",
    ").fit(X_train, y_train)"
   ]
  },
  {
   "cell_type": "markdown",
   "id": "4b7f20a8-c73d-4ccb-89f6-5c88db7d8b12",
   "metadata": {
    "tags": []
   },
   "source": [
    "### 6. MRMR"
   ]
  },
  {
   "cell_type": "code",
   "execution_count": 18,
   "id": "33d48f6a-2b84-4ae8-a0b2-826c3b63e81e",
   "metadata": {},
   "outputs": [],
   "source": [
    "# pip install git+https://github.com/smazzanti/mrmr"
   ]
  },
  {
   "cell_type": "markdown",
   "id": "5543c163-fd1d-4638-972d-5b11d8b1ba31",
   "metadata": {},
   "source": [
    "https://towardsdatascience.com/mrmr-explained-exactly-how-you-wished-someone-explained-to-you-9cf4ed27458b"
   ]
  },
  {
   "cell_type": "code",
   "execution_count": 19,
   "id": "046ce276-a906-4df3-9b0a-79d386fe001f",
   "metadata": {},
   "outputs": [],
   "source": [
    "# import patsy"
   ]
  },
  {
   "cell_type": "code",
   "execution_count": 20,
   "id": "3b147cf4-8701-407b-9f86-101c76eba7f9",
   "metadata": {},
   "outputs": [],
   "source": [
    "# Feature selection using\n",
    "import pandas as pd\n",
    "from mrmr import mrmr_classif\n",
    "mrmr = mrmr_classif(pd.DataFrame(X_train), pd.Series(y_train), K = 784)"
   ]
  },
  {
   "cell_type": "markdown",
   "id": "3f7a54d1-3b0a-46ed-8473-21e4d48689af",
   "metadata": {},
   "source": [
    "Again, need to convert y str to float"
   ]
  },
  {
   "cell_type": "markdown",
   "id": "56d605f5-b4dc-4f73-8e37-cce479d46aae",
   "metadata": {},
   "source": [
    "### Store results"
   ]
  },
  {
   "cell_type": "code",
   "execution_count": 21,
   "id": "f4e93379-a7dd-4c89-890f-b22deb7dff4c",
   "metadata": {},
   "outputs": [],
   "source": [
    "# Create DF to store feature ranking info\n",
    "ranking = pd.DataFrame(index = range(X_train.shape[1]))\n",
    "\n",
    "# Store ranking info for each feature from each method\n",
    "ranking['feat'] = X.columns\n",
    "ranking['f'] = pd.Series(f, index = ranking.index).fillna(0).rank(ascending = False)\n",
    "ranking['mi'] = pd.Series(mi, index = ranking.index).fillna(0).rank(ascending = False)\n",
    "ranking['logreg'] = pd.Series(np.abs(logreg.coef_).mean(axis = 0), index = ranking.index).rank(ascending = False)\n",
    "ranking['lightgbm'] = pd.Series(lgbm.feature_importances_, index = ranking.index).rank(ascending = False)\n",
    "ranking['boruta'] = boruta.support_* 1 + boruta.support_weak_ * 2 + (1 - boruta.support_ - boruta.support_weak_) * X_train.shape[1]\n",
    "ranking['mrmr'] = pd.Series(list(range(1, len(mrmr) + 1)) + [X_train.shape[1]] * (X_train.shape[1] - len(mrmr)), index = mrmr + list(set(ranking.index) - set(mrmr))).sort_index()\n",
    "\n",
    "ranking = ranking.replace(to_replace = ranking.max(), value = X_train.shape[1])\n",
    "ranking.to_csv('ranking.csv', index = False)"
   ]
  },
  {
   "cell_type": "code",
   "execution_count": 22,
   "id": "e695365d-77e8-4532-a6ac-612ef6056bfe",
   "metadata": {},
   "outputs": [
    {
     "data": {
      "text/html": [
       "<div>\n",
       "<style scoped>\n",
       "    .dataframe tbody tr th:only-of-type {\n",
       "        vertical-align: middle;\n",
       "    }\n",
       "\n",
       "    .dataframe tbody tr th {\n",
       "        vertical-align: top;\n",
       "    }\n",
       "\n",
       "    .dataframe thead th {\n",
       "        text-align: right;\n",
       "    }\n",
       "</style>\n",
       "<table border=\"1\" class=\"dataframe\">\n",
       "  <thead>\n",
       "    <tr style=\"text-align: right;\">\n",
       "      <th></th>\n",
       "      <th>feat</th>\n",
       "      <th>f</th>\n",
       "      <th>mi</th>\n",
       "      <th>logreg</th>\n",
       "      <th>lightgbm</th>\n",
       "      <th>boruta</th>\n",
       "      <th>mrmr</th>\n",
       "    </tr>\n",
       "  </thead>\n",
       "  <tbody>\n",
       "    <tr>\n",
       "      <th>0</th>\n",
       "      <td>Area</td>\n",
       "      <td>1.0</td>\n",
       "      <td>3.0</td>\n",
       "      <td>10.0</td>\n",
       "      <td>2.0</td>\n",
       "      <td>16</td>\n",
       "      <td>1</td>\n",
       "    </tr>\n",
       "    <tr>\n",
       "      <th>1</th>\n",
       "      <td>Perimeter</td>\n",
       "      <td>4.0</td>\n",
       "      <td>1.0</td>\n",
       "      <td>5.0</td>\n",
       "      <td>7.0</td>\n",
       "      <td>16</td>\n",
       "      <td>6</td>\n",
       "    </tr>\n",
       "    <tr>\n",
       "      <th>2</th>\n",
       "      <td>MajorAxisLength</td>\n",
       "      <td>6.0</td>\n",
       "      <td>5.0</td>\n",
       "      <td>7.0</td>\n",
       "      <td>5.0</td>\n",
       "      <td>16</td>\n",
       "      <td>8</td>\n",
       "    </tr>\n",
       "    <tr>\n",
       "      <th>3</th>\n",
       "      <td>MinorAxisLength</td>\n",
       "      <td>5.0</td>\n",
       "      <td>7.0</td>\n",
       "      <td>2.0</td>\n",
       "      <td>8.0</td>\n",
       "      <td>16</td>\n",
       "      <td>3</td>\n",
       "    </tr>\n",
       "    <tr>\n",
       "      <th>4</th>\n",
       "      <td>AspectRation</td>\n",
       "      <td>9.0</td>\n",
       "      <td>11.0</td>\n",
       "      <td>11.0</td>\n",
       "      <td>11.0</td>\n",
       "      <td>16</td>\n",
       "      <td>2</td>\n",
       "    </tr>\n",
       "    <tr>\n",
       "      <th>5</th>\n",
       "      <td>Eccentricity</td>\n",
       "      <td>12.0</td>\n",
       "      <td>12.0</td>\n",
       "      <td>12.0</td>\n",
       "      <td>16.0</td>\n",
       "      <td>16</td>\n",
       "      <td>11</td>\n",
       "    </tr>\n",
       "    <tr>\n",
       "      <th>6</th>\n",
       "      <td>ConvexArea</td>\n",
       "      <td>2.0</td>\n",
       "      <td>4.0</td>\n",
       "      <td>8.0</td>\n",
       "      <td>4.0</td>\n",
       "      <td>16</td>\n",
       "      <td>4</td>\n",
       "    </tr>\n",
       "    <tr>\n",
       "      <th>7</th>\n",
       "      <td>EquivDiameter</td>\n",
       "      <td>3.0</td>\n",
       "      <td>2.0</td>\n",
       "      <td>6.0</td>\n",
       "      <td>14.0</td>\n",
       "      <td>16</td>\n",
       "      <td>5</td>\n",
       "    </tr>\n",
       "    <tr>\n",
       "      <th>8</th>\n",
       "      <td>Extent</td>\n",
       "      <td>16.0</td>\n",
       "      <td>16.0</td>\n",
       "      <td>16.0</td>\n",
       "      <td>13.0</td>\n",
       "      <td>16</td>\n",
       "      <td>15</td>\n",
       "    </tr>\n",
       "    <tr>\n",
       "      <th>9</th>\n",
       "      <td>Solidity</td>\n",
       "      <td>15.0</td>\n",
       "      <td>15.0</td>\n",
       "      <td>15.0</td>\n",
       "      <td>12.0</td>\n",
       "      <td>16</td>\n",
       "      <td>16</td>\n",
       "    </tr>\n",
       "    <tr>\n",
       "      <th>10</th>\n",
       "      <td>16</td>\n",
       "      <td>13.0</td>\n",
       "      <td>13.0</td>\n",
       "      <td>9.0</td>\n",
       "      <td>6.0</td>\n",
       "      <td>16</td>\n",
       "      <td>13</td>\n",
       "    </tr>\n",
       "    <tr>\n",
       "      <th>11</th>\n",
       "      <td>Compactness</td>\n",
       "      <td>10.0</td>\n",
       "      <td>9.0</td>\n",
       "      <td>14.0</td>\n",
       "      <td>1.0</td>\n",
       "      <td>16</td>\n",
       "      <td>7</td>\n",
       "    </tr>\n",
       "    <tr>\n",
       "      <th>12</th>\n",
       "      <td>ShapeFactor1</td>\n",
       "      <td>8.0</td>\n",
       "      <td>8.0</td>\n",
       "      <td>1.0</td>\n",
       "      <td>3.0</td>\n",
       "      <td>16</td>\n",
       "      <td>10</td>\n",
       "    </tr>\n",
       "    <tr>\n",
       "      <th>13</th>\n",
       "      <td>ShapeFactor2</td>\n",
       "      <td>7.0</td>\n",
       "      <td>6.0</td>\n",
       "      <td>3.0</td>\n",
       "      <td>10.0</td>\n",
       "      <td>16</td>\n",
       "      <td>12</td>\n",
       "    </tr>\n",
       "    <tr>\n",
       "      <th>14</th>\n",
       "      <td>ShapeFactor3</td>\n",
       "      <td>11.0</td>\n",
       "      <td>10.0</td>\n",
       "      <td>13.0</td>\n",
       "      <td>15.0</td>\n",
       "      <td>16</td>\n",
       "      <td>9</td>\n",
       "    </tr>\n",
       "    <tr>\n",
       "      <th>15</th>\n",
       "      <td>ShapeFactor4</td>\n",
       "      <td>14.0</td>\n",
       "      <td>14.0</td>\n",
       "      <td>4.0</td>\n",
       "      <td>9.0</td>\n",
       "      <td>16</td>\n",
       "      <td>14</td>\n",
       "    </tr>\n",
       "  </tbody>\n",
       "</table>\n",
       "</div>"
      ],
      "text/plain": [
       "               feat     f    mi  logreg  lightgbm  boruta  mrmr\n",
       "0              Area   1.0   3.0    10.0       2.0      16     1\n",
       "1         Perimeter   4.0   1.0     5.0       7.0      16     6\n",
       "2   MajorAxisLength   6.0   5.0     7.0       5.0      16     8\n",
       "3   MinorAxisLength   5.0   7.0     2.0       8.0      16     3\n",
       "4      AspectRation   9.0  11.0    11.0      11.0      16     2\n",
       "5      Eccentricity  12.0  12.0    12.0      16.0      16    11\n",
       "6        ConvexArea   2.0   4.0     8.0       4.0      16     4\n",
       "7     EquivDiameter   3.0   2.0     6.0      14.0      16     5\n",
       "8            Extent  16.0  16.0    16.0      13.0      16    15\n",
       "9          Solidity  15.0  15.0    15.0      12.0      16    16\n",
       "10               16  13.0  13.0     9.0       6.0      16    13\n",
       "11      Compactness  10.0   9.0    14.0       1.0      16     7\n",
       "12     ShapeFactor1   8.0   8.0     1.0       3.0      16    10\n",
       "13     ShapeFactor2   7.0   6.0     3.0      10.0      16    12\n",
       "14     ShapeFactor3  11.0  10.0    13.0      15.0      16     9\n",
       "15     ShapeFactor4  14.0  14.0     4.0       9.0      16    14"
      ]
     },
     "execution_count": 22,
     "metadata": {},
     "output_type": "execute_result"
    }
   ],
   "source": [
    "# View rankings by method\n",
    "ranking"
   ]
  },
  {
   "cell_type": "code",
   "execution_count": 23,
   "id": "f6f74ed0-73bd-4e51-be6d-b838ab33af96",
   "metadata": {},
   "outputs": [
    {
     "data": {
      "text/html": [
       "<div>\n",
       "<style scoped>\n",
       "    .dataframe tbody tr th:only-of-type {\n",
       "        vertical-align: middle;\n",
       "    }\n",
       "\n",
       "    .dataframe tbody tr th {\n",
       "        vertical-align: top;\n",
       "    }\n",
       "\n",
       "    .dataframe thead th {\n",
       "        text-align: right;\n",
       "    }\n",
       "</style>\n",
       "<table border=\"1\" class=\"dataframe\">\n",
       "  <thead>\n",
       "    <tr style=\"text-align: right;\">\n",
       "      <th></th>\n",
       "      <th>feat</th>\n",
       "      <th>f</th>\n",
       "      <th>mi</th>\n",
       "      <th>logreg</th>\n",
       "      <th>lightgbm</th>\n",
       "      <th>boruta</th>\n",
       "      <th>mrmr</th>\n",
       "      <th>total</th>\n",
       "    </tr>\n",
       "  </thead>\n",
       "  <tbody>\n",
       "    <tr>\n",
       "      <th>0</th>\n",
       "      <td>Area</td>\n",
       "      <td>1.0</td>\n",
       "      <td>3.0</td>\n",
       "      <td>10.0</td>\n",
       "      <td>2.0</td>\n",
       "      <td>16</td>\n",
       "      <td>1</td>\n",
       "      <td>33.0</td>\n",
       "    </tr>\n",
       "    <tr>\n",
       "      <th>6</th>\n",
       "      <td>ConvexArea</td>\n",
       "      <td>2.0</td>\n",
       "      <td>4.0</td>\n",
       "      <td>8.0</td>\n",
       "      <td>4.0</td>\n",
       "      <td>16</td>\n",
       "      <td>4</td>\n",
       "      <td>38.0</td>\n",
       "    </tr>\n",
       "    <tr>\n",
       "      <th>1</th>\n",
       "      <td>Perimeter</td>\n",
       "      <td>4.0</td>\n",
       "      <td>1.0</td>\n",
       "      <td>5.0</td>\n",
       "      <td>7.0</td>\n",
       "      <td>16</td>\n",
       "      <td>6</td>\n",
       "      <td>39.0</td>\n",
       "    </tr>\n",
       "    <tr>\n",
       "      <th>3</th>\n",
       "      <td>MinorAxisLength</td>\n",
       "      <td>5.0</td>\n",
       "      <td>7.0</td>\n",
       "      <td>2.0</td>\n",
       "      <td>8.0</td>\n",
       "      <td>16</td>\n",
       "      <td>3</td>\n",
       "      <td>41.0</td>\n",
       "    </tr>\n",
       "    <tr>\n",
       "      <th>7</th>\n",
       "      <td>EquivDiameter</td>\n",
       "      <td>3.0</td>\n",
       "      <td>2.0</td>\n",
       "      <td>6.0</td>\n",
       "      <td>14.0</td>\n",
       "      <td>16</td>\n",
       "      <td>5</td>\n",
       "      <td>46.0</td>\n",
       "    </tr>\n",
       "    <tr>\n",
       "      <th>12</th>\n",
       "      <td>ShapeFactor1</td>\n",
       "      <td>8.0</td>\n",
       "      <td>8.0</td>\n",
       "      <td>1.0</td>\n",
       "      <td>3.0</td>\n",
       "      <td>16</td>\n",
       "      <td>10</td>\n",
       "      <td>46.0</td>\n",
       "    </tr>\n",
       "    <tr>\n",
       "      <th>2</th>\n",
       "      <td>MajorAxisLength</td>\n",
       "      <td>6.0</td>\n",
       "      <td>5.0</td>\n",
       "      <td>7.0</td>\n",
       "      <td>5.0</td>\n",
       "      <td>16</td>\n",
       "      <td>8</td>\n",
       "      <td>47.0</td>\n",
       "    </tr>\n",
       "    <tr>\n",
       "      <th>13</th>\n",
       "      <td>ShapeFactor2</td>\n",
       "      <td>7.0</td>\n",
       "      <td>6.0</td>\n",
       "      <td>3.0</td>\n",
       "      <td>10.0</td>\n",
       "      <td>16</td>\n",
       "      <td>12</td>\n",
       "      <td>54.0</td>\n",
       "    </tr>\n",
       "    <tr>\n",
       "      <th>11</th>\n",
       "      <td>Compactness</td>\n",
       "      <td>10.0</td>\n",
       "      <td>9.0</td>\n",
       "      <td>14.0</td>\n",
       "      <td>1.0</td>\n",
       "      <td>16</td>\n",
       "      <td>7</td>\n",
       "      <td>57.0</td>\n",
       "    </tr>\n",
       "    <tr>\n",
       "      <th>4</th>\n",
       "      <td>AspectRation</td>\n",
       "      <td>9.0</td>\n",
       "      <td>11.0</td>\n",
       "      <td>11.0</td>\n",
       "      <td>11.0</td>\n",
       "      <td>16</td>\n",
       "      <td>2</td>\n",
       "      <td>60.0</td>\n",
       "    </tr>\n",
       "    <tr>\n",
       "      <th>10</th>\n",
       "      <td>16</td>\n",
       "      <td>13.0</td>\n",
       "      <td>13.0</td>\n",
       "      <td>9.0</td>\n",
       "      <td>6.0</td>\n",
       "      <td>16</td>\n",
       "      <td>13</td>\n",
       "      <td>70.0</td>\n",
       "    </tr>\n",
       "    <tr>\n",
       "      <th>15</th>\n",
       "      <td>ShapeFactor4</td>\n",
       "      <td>14.0</td>\n",
       "      <td>14.0</td>\n",
       "      <td>4.0</td>\n",
       "      <td>9.0</td>\n",
       "      <td>16</td>\n",
       "      <td>14</td>\n",
       "      <td>71.0</td>\n",
       "    </tr>\n",
       "    <tr>\n",
       "      <th>14</th>\n",
       "      <td>ShapeFactor3</td>\n",
       "      <td>11.0</td>\n",
       "      <td>10.0</td>\n",
       "      <td>13.0</td>\n",
       "      <td>15.0</td>\n",
       "      <td>16</td>\n",
       "      <td>9</td>\n",
       "      <td>74.0</td>\n",
       "    </tr>\n",
       "    <tr>\n",
       "      <th>5</th>\n",
       "      <td>Eccentricity</td>\n",
       "      <td>12.0</td>\n",
       "      <td>12.0</td>\n",
       "      <td>12.0</td>\n",
       "      <td>16.0</td>\n",
       "      <td>16</td>\n",
       "      <td>11</td>\n",
       "      <td>79.0</td>\n",
       "    </tr>\n",
       "    <tr>\n",
       "      <th>9</th>\n",
       "      <td>Solidity</td>\n",
       "      <td>15.0</td>\n",
       "      <td>15.0</td>\n",
       "      <td>15.0</td>\n",
       "      <td>12.0</td>\n",
       "      <td>16</td>\n",
       "      <td>16</td>\n",
       "      <td>89.0</td>\n",
       "    </tr>\n",
       "    <tr>\n",
       "      <th>8</th>\n",
       "      <td>Extent</td>\n",
       "      <td>16.0</td>\n",
       "      <td>16.0</td>\n",
       "      <td>16.0</td>\n",
       "      <td>13.0</td>\n",
       "      <td>16</td>\n",
       "      <td>15</td>\n",
       "      <td>92.0</td>\n",
       "    </tr>\n",
       "  </tbody>\n",
       "</table>\n",
       "</div>"
      ],
      "text/plain": [
       "               feat     f    mi  logreg  lightgbm  boruta  mrmr  total\n",
       "0              Area   1.0   3.0    10.0       2.0      16     1   33.0\n",
       "6        ConvexArea   2.0   4.0     8.0       4.0      16     4   38.0\n",
       "1         Perimeter   4.0   1.0     5.0       7.0      16     6   39.0\n",
       "3   MinorAxisLength   5.0   7.0     2.0       8.0      16     3   41.0\n",
       "7     EquivDiameter   3.0   2.0     6.0      14.0      16     5   46.0\n",
       "12     ShapeFactor1   8.0   8.0     1.0       3.0      16    10   46.0\n",
       "2   MajorAxisLength   6.0   5.0     7.0       5.0      16     8   47.0\n",
       "13     ShapeFactor2   7.0   6.0     3.0      10.0      16    12   54.0\n",
       "11      Compactness  10.0   9.0    14.0       1.0      16     7   57.0\n",
       "4      AspectRation   9.0  11.0    11.0      11.0      16     2   60.0\n",
       "10               16  13.0  13.0     9.0       6.0      16    13   70.0\n",
       "15     ShapeFactor4  14.0  14.0     4.0       9.0      16    14   71.0\n",
       "14     ShapeFactor3  11.0  10.0    13.0      15.0      16     9   74.0\n",
       "5      Eccentricity  12.0  12.0    12.0      16.0      16    11   79.0\n",
       "9          Solidity  15.0  15.0    15.0      12.0      16    16   89.0\n",
       "8            Extent  16.0  16.0    16.0      13.0      16    15   92.0"
      ]
     },
     "execution_count": 23,
     "metadata": {},
     "output_type": "execute_result"
    }
   ],
   "source": [
    "# Sum the rankings across methods\n",
    "ranking['total'] = ranking.sum(axis=1)\n",
    "# Sort by sum to get an overall idea of the most/least useful features\n",
    "ranking.sort_values('total')"
   ]
  },
  {
   "cell_type": "markdown",
   "id": "5a305de8-4d08-4ee8-a76c-0883c163704c",
   "metadata": {},
   "source": [
    "## Plot Feature Importances"
   ]
  },
  {
   "cell_type": "code",
   "execution_count": 24,
   "id": "88e397af-c383-4ced-8c85-e1fb4707c058",
   "metadata": {},
   "outputs": [],
   "source": [
    "# Load libraries\n",
    "import matplotlib.pyplot as plt"
   ]
  },
  {
   "cell_type": "code",
   "execution_count": 25,
   "id": "a4f6f2c5-4435-4550-96ba-ffad10f8f4a6",
   "metadata": {},
   "outputs": [
    {
     "data": {
      "image/png": "[encoded data removed]",
      "text/plain": [
       "<Figure size 864x576 with 6 Axes>"
      ]
     },
     "metadata": {},
     "output_type": "display_data"
    }
   ],
   "source": [
    "# Plot ranking of each of the 16 features in a 4 x 4 grid\n",
    "plt_ncols = 3\n",
    "plt_nrows = 2\n",
    "\n",
    "fig, axs = plt.subplots(plt_nrows, plt_ncols, figsize = (plt_ncols * 4, plt_nrows * 4))\n",
    "\n",
    "for e, (algo, title) in enumerate(\n",
    "    zip(\n",
    "        ['f', 'mi', 'logreg', 'lightgbm', 'boruta', 'mrmr'],\n",
    "        ['F-Statistic', 'Mutual Info', 'Log Reg', 'LightGBM', 'Boruta', 'MRMR']\n",
    "    )):\n",
    "\n",
    "    a = axs[divmod(e, plt_ncols)].imshow(\n",
    "        ranking[algo].to_numpy().reshape(4, 4), \n",
    "        cmap = 'Blues_r', \n",
    "        vmin = ranking.min().min(), \n",
    "        vmax = ranking.max().max()\n",
    "    )\n",
    "    \n",
    "    axs[divmod(e, plt_ncols)].set_title(title, fontsize = 14)\n",
    "    axs[divmod(e, plt_ncols)].set_xticks([])\n",
    "    axs[divmod(e, plt_ncols)].set_yticks([])\n",
    "    \n",
    "fig.savefig('featimpo_heatmap.png', dpi = 300)"
   ]
  },
  {
   "cell_type": "markdown",
   "id": "33e81f80-0a22-4fc3-9312-861913e050a2",
   "metadata": {},
   "source": [
    "## Predictive Performance on Top Features"
   ]
  },
  {
   "cell_type": "code",
   "execution_count": 26,
   "id": "8d63bd47-f089-4519-b4eb-c5a21690ac5e",
   "metadata": {},
   "outputs": [],
   "source": [
    "# pip install catboost"
   ]
  },
  {
   "cell_type": "code",
   "execution_count": 27,
   "id": "54961015-75d6-4b51-80fc-895ecfc4df0f",
   "metadata": {},
   "outputs": [],
   "source": [
    "# Load libraries\n",
    "from catboost import CatBoostClassifier\n",
    "from sklearn.metrics import accuracy_score, roc_auc_score"
   ]
  },
  {
   "cell_type": "code",
   "execution_count": 28,
   "id": "f77623b2-abe0-4921-8ddd-928adc3a10cd",
   "metadata": {},
   "outputs": [
    {
     "name": "stdout",
     "output_type": "stream",
     "text": [
      "Wall time: 7min 37s\n"
     ]
    }
   ],
   "source": [
    "%%time\n",
    "# Evaluate accuracy vs features using each feaure selection technique\n",
    "algos = ['f', 'mi', 'logreg', 'lightgbm', 'mrmr']\n",
    "ks = [1, 2, 3, 4, 5, 7, 9, 11, 13, 16]\n",
    "\n",
    "accuracy = pd.DataFrame(index = ks, columns = algos)\n",
    "roc = pd.DataFrame(index = ks, columns = algos)\n",
    "\n",
    "for algo in algos:\n",
    "    \n",
    "    for k in ks:\n",
    "    \n",
    "        cols = ranking[algo].sort_values().head(k).index.to_list()\n",
    "                \n",
    "        clf = CatBoostClassifier().fit(\n",
    "            X_train[:, cols], y_train,\n",
    "            eval_set = (X_test[:, cols], y_test),\n",
    "            early_stopping_rounds = 20,\n",
    "            verbose = False\n",
    "        )\n",
    "                \n",
    "        accuracy.loc[k, algo] = accuracy_score(\n",
    "            y_true = y_test, y_pred = clf.predict(X_test[:, cols]))\n",
    "        roc.loc[k, algo] = roc_auc_score(\n",
    "            y_true = y_test, y_score = clf.predict_proba(X_test[:, cols]), multi_class = 'ovr', average = 'macro')\n",
    "        \n",
    "accuracy.to_csv('accuracy.csv', index = True)\n",
    "roc.to_csv('roc.csv', index = True)"
   ]
  },
  {
   "cell_type": "code",
   "execution_count": 29,
   "id": "c0b44d65-70e2-4775-9f38-561b5e149ac4",
   "metadata": {},
   "outputs": [
    {
     "data": {
      "image/png": "[encoded data removed]",
      "text/plain": [
       "<Figure size 1080x720 with 1 Axes>"
      ]
     },
     "metadata": {
      "needs_background": "light"
     },
     "output_type": "display_data"
    }
   ],
   "source": [
    "# Set up the figure size\n",
    "%matplotlib inline\n",
    "plt.rcParams['figure.figsize'] = (15, 10)\n",
    "\n",
    "# Plot accuracy vs features for each feature selection technique\n",
    "for algo, label, color in zip(\n",
    "    ['mrmr', 'f', 'mi', 'lightgbm', 'logreg'],\n",
    "    ['MRMR', 'F-statistic', 'Mutual Info', 'LightGBM', 'Log Reg'],\n",
    "    ['orangered', 'blue', 'yellow', 'lime', 'black']):\n",
    "        plt.plot(accuracy.index, accuracy[algo], label = label, color = color, lw = 3)\n",
    "\n",
    "plt.plot(\n",
    "    [1, 20], [pd.Series(y_test).value_counts(normalize = True).iloc[0]] * 2, \n",
    "    label = '[Random]', color = 'grey', ls = '--', lw = 3\n",
    ")\n",
    "\n",
    "plt.legend(fontsize = 13, loc = 'center left', bbox_to_anchor = (1, 0.5))\n",
    "plt.grid()\n",
    "plt.yticks(np.linspace(0, 1, 11), ['{:.0%}'.format(i) for i in np.linspace(0, 1, 11)], fontsize = 13)\n",
    "plt.xticks([1] + list(range(5, 21, 5)), fontsize = 13)\n",
    "plt.xlim(-1, 18)\n",
    "plt.ylim(0.20, 1.00)\n",
    "plt.xlabel('Number of features', fontsize = 13)\n",
    "plt.ylabel('Accuracy', fontsize = 13)\n",
    "plt.savefig('accuracy.png', dpi = 300, bbox_inches = 'tight')"
   ]
  },
  {
   "cell_type": "code",
   "execution_count": null,
   "id": "1d59d37c-d687-4f85-80c4-fb7a681487a7",
   "metadata": {},
   "outputs": [],
   "source": []
  },
  {
   "cell_type": "code",
   "execution_count": 30,
   "id": "a9612f81-b5d1-4d4f-adb4-6338b03f5620",
   "metadata": {},
   "outputs": [],
   "source": [
    "from win32com.client import Dispatch\n",
    "speak = Dispatch(\"SAPI.SpVoice\").Speak"
   ]
  },
  {
   "cell_type": "code",
   "execution_count": 31,
   "id": "3c652657-b66e-40b5-bb0a-b85050a72043",
   "metadata": {},
   "outputs": [
    {
     "data": {
      "text/plain": [
       "1"
      ]
     },
     "execution_count": 31,
     "metadata": {},
     "output_type": "execute_result"
    }
   ],
   "source": [
    "speak(\"Feature Comparison Complete.\")"
   ]
  },
  {
   "cell_type": "code",
   "execution_count": null,
   "id": "65a0b258-bfd5-4972-866f-bc63305263db",
   "metadata": {},
   "outputs": [],
   "source": []
  },
  {
   "cell_type": "markdown",
   "id": "54f54e7d-4e2e-4ab3-b78e-cedbcef2979b",
   "metadata": {},
   "source": [
    "# More modeling..."
   ]
  },
  {
   "cell_type": "markdown",
   "id": "68a41d66-eb50-40be-bb19-5901a49beaee",
   "metadata": {},
   "source": [
    "## Random Forest"
   ]
  },
  {
   "cell_type": "code",
   "execution_count": 99,
   "id": "e8348373-6fbf-4115-852a-6d56038806b9",
   "metadata": {},
   "outputs": [],
   "source": [
    "# Load libraries\n",
    "from sklearn.ensemble import RandomForestClassifier"
   ]
  },
  {
   "cell_type": "code",
   "execution_count": 100,
   "id": "982c81bb-ebd2-459f-8977-9886964b7e9f",
   "metadata": {},
   "outputs": [],
   "source": [
    "# Create classifier\n",
    "classifier = RandomForestClassifier(random_state=42, \n",
    "                                    class_weight='balanced', \n",
    "                                    n_jobs=-1)"
   ]
  },
  {
   "cell_type": "code",
   "execution_count": 101,
   "id": "3aa5936b-2176-4f61-b6fd-07438119364a",
   "metadata": {},
   "outputs": [
    {
     "name": "stdout",
     "output_type": "stream",
     "text": [
      "Wall time: 703 ms\n"
     ]
    },
    {
     "data": {
      "text/plain": [
       "RandomForestClassifier(class_weight='balanced', n_jobs=-1, random_state=42)"
      ]
     },
     "execution_count": 101,
     "metadata": {},
     "output_type": "execute_result"
    }
   ],
   "source": [
    "%%time\n",
    "# Train model\n",
    "classifier.fit(X_train, y_train)"
   ]
  },
  {
   "cell_type": "code",
   "execution_count": 102,
   "id": "a70e0679-326c-43cd-8715-26a3439e2eca",
   "metadata": {},
   "outputs": [
    {
     "name": "stdout",
     "output_type": "stream",
     "text": [
      "Accuracy:\t92.34\n"
     ]
    }
   ],
   "source": [
    "# Get accuracy score\n",
    "score = round(classifier.score(X_test, y_test)*100, 2)\n",
    "print(f\"Accuracy:\\t{score}\")"
   ]
  },
  {
   "cell_type": "markdown",
   "id": "002f7833-a497-4878-9e2f-29e4970d85fc",
   "metadata": {},
   "source": [
    "### Evaluate"
   ]
  },
  {
   "cell_type": "code",
   "execution_count": 103,
   "id": "8369a4d7-b65d-4301-bce2-1aa1aa0986e9",
   "metadata": {},
   "outputs": [],
   "source": [
    "# Load libraries\n",
    "from sklearn.metrics import classification_report, confusion_matrix"
   ]
  },
  {
   "cell_type": "code",
   "execution_count": 104,
   "id": "995fad69-49b5-4316-960e-fae57ac6ea19",
   "metadata": {},
   "outputs": [],
   "source": [
    "# Get predictions\n",
    "predictions = classifier.predict(X_test)"
   ]
  },
  {
   "cell_type": "markdown",
   "id": "3223d487-6b85-489f-83bf-569eb37c7fee",
   "metadata": {},
   "source": [
    "#### Confusion matrix"
   ]
  },
  {
   "cell_type": "code",
   "execution_count": 105,
   "id": "5a306cac-d9db-425e-9ec6-3af8109b0ba2",
   "metadata": {},
   "outputs": [
    {
     "name": "stdout",
     "output_type": "stream",
     "text": [
      "[[353   0  27   0   2   3  10]\n",
      " [  0 161   0   0   0   0   0]\n",
      " [ 15   0 448   0   9   1   6]\n",
      " [  0   0   0 970   2  17  54]\n",
      " [  2   0   9   4 561   0  12]\n",
      " [  4   0   0  20   0 581  14]\n",
      " [  1   0   1  80   8  12 697]]\n"
     ]
    }
   ],
   "source": [
    "# Print confusion matrix\n",
    "cm = confusion_matrix(y_test, predictions)\n",
    "print(cm)"
   ]
  },
  {
   "cell_type": "markdown",
   "id": "9950f30b-2b51-43c9-91cf-c71bf664babf",
   "metadata": {},
   "source": [
    "#### Classification report"
   ]
  },
  {
   "cell_type": "code",
   "execution_count": 106,
   "id": "e3d40257-9af8-4d72-983b-8b172a170024",
   "metadata": {},
   "outputs": [
    {
     "name": "stdout",
     "output_type": "stream",
     "text": [
      "              precision    recall  f1-score   support\n",
      "\n",
      "           0       0.94      0.89      0.92       395\n",
      "           1       1.00      1.00      1.00       161\n",
      "           2       0.92      0.94      0.93       479\n",
      "           3       0.90      0.93      0.92      1043\n",
      "           4       0.96      0.95      0.96       588\n",
      "           5       0.95      0.94      0.94       619\n",
      "           6       0.88      0.87      0.88       799\n",
      "\n",
      "    accuracy                           0.92      4084\n",
      "   macro avg       0.94      0.93      0.93      4084\n",
      "weighted avg       0.92      0.92      0.92      4084\n",
      "\n"
     ]
    }
   ],
   "source": [
    "# Print precision, recall, f1-score, and accuracy\n",
    "cr = classification_report(y_test, predictions)\n",
    "print(cr)"
   ]
  },
  {
   "cell_type": "markdown",
   "id": "583166a1-03db-4e5b-baaa-db308bb7cd28",
   "metadata": {},
   "source": [
    "### Visualize random forest hyperparameters"
   ]
  },
  {
   "cell_type": "code",
   "execution_count": 40,
   "id": "3ac58f24-f497-4604-8729-0262b3ab2923",
   "metadata": {},
   "outputs": [],
   "source": [
    "# Load libraries\n",
    "from sklearn.model_selection import validation_curve"
   ]
  },
  {
   "cell_type": "code",
   "execution_count": 41,
   "id": "e5c3d58a-462e-43cd-90d9-657bc22714da",
   "metadata": {},
   "outputs": [
    {
     "name": "stdout",
     "output_type": "stream",
     "text": [
      "Wall time: 1min 47s\n"
     ]
    }
   ],
   "source": [
    "%%time\n",
    "# Create a range of values for the parameter\n",
    "param_range = np.arange(1, 100, 5)\n",
    "\n",
    "# Calculate accuracy on training and test set using range of parameter values\n",
    "train_scores, test_scores = validation_curve(\n",
    "    RandomForestClassifier(), # Classifier\n",
    "    X, # Feature matrix\n",
    "    y, # Target vector\n",
    "    param_name=\"n_estimators\", # Hyperparameter to examine\n",
    "    param_range=param_range, # Range of hyperparameter's values\n",
    "    cv=3, # Number of folds\n",
    "    scoring=\"accuracy\", # Performance metric\n",
    "    n_jobs=-1) # Use all computer cores"
   ]
  },
  {
   "cell_type": "code",
   "execution_count": 42,
   "id": "bebc13f5-a001-4aae-b91d-3a0c75b3121d",
   "metadata": {},
   "outputs": [],
   "source": [
    "# Calculate mean and standard deviation for training set scores\n",
    "train_mean = np.mean(train_scores, axis=1)\n",
    "train_std = np.std(train_scores, axis=1)\n",
    "\n",
    "# Calculate mean and standard deviation for test set scores\n",
    "test_mean = np.mean(test_scores, axis=1)\n",
    "test_std = np.std(test_scores, axis=1)"
   ]
  },
  {
   "cell_type": "code",
   "execution_count": 43,
   "id": "12c007d7-f744-42ed-aeb1-bc938cc6fd99",
   "metadata": {},
   "outputs": [
    {
     "data": {
      "image/png": "[encoded data removed]",
      "text/plain": [
       "<Figure size 1080x720 with 1 Axes>"
      ]
     },
     "metadata": {
      "needs_background": "light"
     },
     "output_type": "display_data"
    }
   ],
   "source": [
    "# Plot mean accuracy scores for training and test sets\n",
    "plt.plot(param_range, train_mean, label=\"Training score\", color=\"black\")\n",
    "plt.plot(param_range, test_mean, label=\"Cross-validation score\", color=\"dimgrey\")\n",
    "\n",
    "# Plot accuracy bands for training and test sets\n",
    "plt.fill_between(param_range, train_mean - train_std,\n",
    "                 train_mean + train_std, color=\"gray\")\n",
    "plt.fill_between(param_range, test_mean - test_std,\n",
    "                 test_mean + test_std, color=\"gainsboro\")\n",
    "\n",
    "# Create plot\n",
    "plt.title(\"Validation Curve With Random Forest\")\n",
    "plt.xlabel(\"Number Of Trees\")\n",
    "plt.ylabel(\"Accuracy Score\")\n",
    "plt.tight_layout()\n",
    "plt.legend(loc=\"best\")\n",
    "plt.show()"
   ]
  },
  {
   "cell_type": "code",
   "execution_count": null,
   "id": "de3b64d2-e437-4d00-8e68-f8c8c7bda6c5",
   "metadata": {},
   "outputs": [],
   "source": []
  },
  {
   "cell_type": "markdown",
   "id": "bb3a88a3-a63d-4a59-8189-cb7c46040992",
   "metadata": {},
   "source": [
    "### Evaluate"
   ]
  },
  {
   "cell_type": "code",
   "execution_count": 44,
   "id": "31ecc1e1-2fef-4838-9c71-7ab11b2c150e",
   "metadata": {},
   "outputs": [],
   "source": [
    "# Load libraries\n",
    "from sklearn.metrics import classification_report, confusion_matrix"
   ]
  },
  {
   "cell_type": "code",
   "execution_count": 45,
   "id": "b0823b1e-19bb-4431-b9af-920cd4883bdc",
   "metadata": {},
   "outputs": [],
   "source": [
    "# Get predictions\n",
    "predictions = classifier.predict(X_test)"
   ]
  },
  {
   "cell_type": "markdown",
   "id": "d635afb6-98a9-41d4-9e76-505a424c04ed",
   "metadata": {},
   "source": [
    "#### Confusion matrix"
   ]
  },
  {
   "cell_type": "code",
   "execution_count": 46,
   "id": "3b84154f-48db-4f2d-87f2-1a2515e97e39",
   "metadata": {},
   "outputs": [
    {
     "name": "stdout",
     "output_type": "stream",
     "text": [
      "[[357   0  26   0   1   2   9]\n",
      " [  0 161   0   0   0   0   0]\n",
      " [ 21   0 445   0   8   2   3]\n",
      " [  0   0   0 962   2  16  63]\n",
      " [  3   0   9   4 559   0  13]\n",
      " [  4   0   0  23   0 580  12]\n",
      " [  0   0   2  77  10  12 698]]\n"
     ]
    }
   ],
   "source": [
    "# Print confusion matrix\n",
    "cm = confusion_matrix(y_test, predictions)\n",
    "print(cm)"
   ]
  },
  {
   "cell_type": "markdown",
   "id": "5021d056-d89b-4c15-a81d-40d4c8299f3c",
   "metadata": {},
   "source": [
    "#### Classification report"
   ]
  },
  {
   "cell_type": "code",
   "execution_count": 47,
   "id": "31cbbe69-f3ff-4d0b-bb10-f7c8510ccc79",
   "metadata": {},
   "outputs": [
    {
     "name": "stdout",
     "output_type": "stream",
     "text": [
      "              precision    recall  f1-score   support\n",
      "\n",
      "           0       0.93      0.90      0.92       395\n",
      "           1       1.00      1.00      1.00       161\n",
      "           2       0.92      0.93      0.93       479\n",
      "           3       0.90      0.92      0.91      1043\n",
      "           4       0.96      0.95      0.96       588\n",
      "           5       0.95      0.94      0.94       619\n",
      "           6       0.87      0.87      0.87       799\n",
      "\n",
      "    accuracy                           0.92      4084\n",
      "   macro avg       0.93      0.93      0.93      4084\n",
      "weighted avg       0.92      0.92      0.92      4084\n",
      "\n"
     ]
    }
   ],
   "source": [
    "# Print precision, recall, f1-score, and accuracy\n",
    "cr = classification_report(y_test, predictions)\n",
    "print(cr)"
   ]
  },
  {
   "cell_type": "code",
   "execution_count": null,
   "id": "ebcad4c9-b604-4c06-ba42-e44b3c48aeb2",
   "metadata": {},
   "outputs": [],
   "source": []
  },
  {
   "cell_type": "markdown",
   "id": "48f26ba6-060f-4d10-9808-caec37c6dda5",
   "metadata": {},
   "source": [
    "## Logistic Regression"
   ]
  },
  {
   "cell_type": "code",
   "execution_count": 48,
   "id": "90bb1699-d3cf-4180-a717-74990994deb3",
   "metadata": {},
   "outputs": [],
   "source": [
    "# Load libraries\n",
    "from sklearn.linear_model import LogisticRegression"
   ]
  },
  {
   "cell_type": "code",
   "execution_count": 49,
   "id": "d440dbd1-edf9-4db7-93e4-754bd0fc8559",
   "metadata": {},
   "outputs": [],
   "source": [
    "# Create logistic regression\n",
    "logit = LogisticRegression()"
   ]
  },
  {
   "cell_type": "code",
   "execution_count": 50,
   "id": "abf107f2-0f12-42f1-b353-29bdcf2c3a1b",
   "metadata": {},
   "outputs": [
    {
     "name": "stdout",
     "output_type": "stream",
     "text": [
      "Wall time: 1min 23s\n"
     ]
    },
    {
     "data": {
      "text/plain": [
       "LogisticRegression()"
      ]
     },
     "execution_count": 50,
     "metadata": {},
     "output_type": "execute_result"
    }
   ],
   "source": [
    "%%time\n",
    "# Train model\n",
    "logit.fit(X_train, y_train)"
   ]
  },
  {
   "cell_type": "code",
   "execution_count": 51,
   "id": "a8fa34b5-9c79-419a-a4ae-5ed563e86b11",
   "metadata": {},
   "outputs": [
    {
     "name": "stdout",
     "output_type": "stream",
     "text": [
      "Accuracy:\t92.26\n"
     ]
    }
   ],
   "source": [
    "# Get accuracy score\n",
    "score = round(logit.score(X_test, y_test)*100, 2)\n",
    "print(f\"Accuracy:\\t{score}\")"
   ]
  },
  {
   "cell_type": "markdown",
   "id": "59bbced4-7774-404a-92d7-0d88a3276b86",
   "metadata": {},
   "source": [
    "### Evaluate"
   ]
  },
  {
   "cell_type": "code",
   "execution_count": 52,
   "id": "834f901b-f092-4363-beba-66e9785812b9",
   "metadata": {},
   "outputs": [],
   "source": [
    "# Load libraries\n",
    "from sklearn.metrics import classification_report, confusion_matrix"
   ]
  },
  {
   "cell_type": "code",
   "execution_count": 53,
   "id": "73a8e108-1b5e-4004-90f9-deb50cfd63e8",
   "metadata": {},
   "outputs": [],
   "source": [
    "# Get predictions\n",
    "predictions = logit.predict(X_test)"
   ]
  },
  {
   "cell_type": "markdown",
   "id": "97733f56-9f19-4580-aad7-9d9ba958433f",
   "metadata": {},
   "source": [
    "#### Confusion matrix"
   ]
  },
  {
   "cell_type": "code",
   "execution_count": 54,
   "id": "1d80feae-fedd-4e2c-8de8-4b56776d3a76",
   "metadata": {},
   "outputs": [
    {
     "name": "stdout",
     "output_type": "stream",
     "text": [
      "[[360   0  22   0   0   2  11]\n",
      " [  0 161   0   0   0   0   0]\n",
      " [ 19   0 445   0   7   2   6]\n",
      " [  0   0   0 941   1  18  83]\n",
      " [  3   0   5   5 560   0  15]\n",
      " [  9   0   0  10   0 581  19]\n",
      " [  1   0   1  57  10  10 720]]\n"
     ]
    }
   ],
   "source": [
    "# Print confusion matrix\n",
    "cm = confusion_matrix(y_test, predictions)\n",
    "print(cm)"
   ]
  },
  {
   "cell_type": "markdown",
   "id": "fec9e2b0-04e9-4b3e-9d5e-9b641870f35a",
   "metadata": {},
   "source": [
    "#### Classification report"
   ]
  },
  {
   "cell_type": "code",
   "execution_count": 55,
   "id": "b5f136be-a720-474d-92d3-77aa65e07b85",
   "metadata": {},
   "outputs": [
    {
     "name": "stdout",
     "output_type": "stream",
     "text": [
      "              precision    recall  f1-score   support\n",
      "\n",
      "           0       0.92      0.91      0.91       395\n",
      "           1       1.00      1.00      1.00       161\n",
      "           2       0.94      0.93      0.93       479\n",
      "           3       0.93      0.90      0.92      1043\n",
      "           4       0.97      0.95      0.96       588\n",
      "           5       0.95      0.94      0.94       619\n",
      "           6       0.84      0.90      0.87       799\n",
      "\n",
      "    accuracy                           0.92      4084\n",
      "   macro avg       0.94      0.93      0.93      4084\n",
      "weighted avg       0.92      0.92      0.92      4084\n",
      "\n"
     ]
    }
   ],
   "source": [
    "# Print precision, recall, f1-score, and accuracy\n",
    "cr = classification_report(y_test, predictions)\n",
    "print(cr)"
   ]
  },
  {
   "cell_type": "code",
   "execution_count": null,
   "id": "63b82732-4d9c-48e7-85f2-c512b1589d1a",
   "metadata": {},
   "outputs": [],
   "source": []
  },
  {
   "cell_type": "markdown",
   "id": "4c39330a-01c2-460d-a17e-5d31fd63553c",
   "metadata": {},
   "source": [
    "## Logistic Regression\n",
    "### Balanced weights - SLIGHTLY BETTER"
   ]
  },
  {
   "cell_type": "code",
   "execution_count": 56,
   "id": "af1655ed-f6b0-4c31-8fba-53db1ce94f21",
   "metadata": {},
   "outputs": [],
   "source": [
    "# Load libraries\n",
    "from sklearn.linear_model import LogisticRegression"
   ]
  },
  {
   "cell_type": "code",
   "execution_count": 57,
   "id": "b2f69fd8-99cf-4792-a349-ce8a3ae068b8",
   "metadata": {},
   "outputs": [],
   "source": [
    "# Create logistic regression\n",
    "logit = LogisticRegression(class_weight='balanced', n_jobs=-1)"
   ]
  },
  {
   "cell_type": "code",
   "execution_count": 58,
   "id": "7eb59548-fea1-49d0-9cdc-5b86e01a2175",
   "metadata": {},
   "outputs": [
    {
     "name": "stdout",
     "output_type": "stream",
     "text": [
      "Wall time: 4.28 s\n"
     ]
    },
    {
     "data": {
      "text/plain": [
       "LogisticRegression(class_weight='balanced', n_jobs=-1)"
      ]
     },
     "execution_count": 58,
     "metadata": {},
     "output_type": "execute_result"
    }
   ],
   "source": [
    "%%time\n",
    "# Train model\n",
    "logit.fit(X_train, y_train)"
   ]
  },
  {
   "cell_type": "code",
   "execution_count": 59,
   "id": "a2c38c98-56d5-4f79-9a5c-8290ec47304b",
   "metadata": {},
   "outputs": [
    {
     "name": "stdout",
     "output_type": "stream",
     "text": [
      "Accuracy:\t92.31\n"
     ]
    }
   ],
   "source": [
    "# Get accuracy score\n",
    "score = round(logit.score(X_test, y_test)*100, 2)\n",
    "print(f\"Accuracy:\\t{score}\")"
   ]
  },
  {
   "cell_type": "markdown",
   "id": "055fbcd4-87f8-4346-8f16-c62fe5a28f85",
   "metadata": {},
   "source": [
    "### Evaluate"
   ]
  },
  {
   "cell_type": "code",
   "execution_count": 60,
   "id": "6d08ef7a-2131-44bb-9d4c-66e5b3cbb65b",
   "metadata": {},
   "outputs": [],
   "source": [
    "# Load libraries\n",
    "from sklearn.metrics import classification_report, confusion_matrix"
   ]
  },
  {
   "cell_type": "code",
   "execution_count": 61,
   "id": "aaa2088b-9f39-4037-9722-7b9d4cec3a19",
   "metadata": {},
   "outputs": [],
   "source": [
    "# Get predictions\n",
    "predictions = logit.predict(X_test)"
   ]
  },
  {
   "cell_type": "markdown",
   "id": "4aa8bd3c-b9ab-4c3e-b135-4eb081c4e91e",
   "metadata": {},
   "source": [
    "#### Confusion matrix"
   ]
  },
  {
   "cell_type": "code",
   "execution_count": 62,
   "id": "99068829-4cc1-4df4-bdf8-bc165fd329cb",
   "metadata": {},
   "outputs": [
    {
     "name": "stdout",
     "output_type": "stream",
     "text": [
      "[[369   0  20   0   0   1   5]\n",
      " [  0 161   0   0   0   0   0]\n",
      " [ 19   0 446   0   7   2   5]\n",
      " [  0   0   0 916   1  21 105]\n",
      " [  3   0   5   4 564   0  12]\n",
      " [  9   0   0   7   0 583  20]\n",
      " [  1   0   3  40  11  13 731]]\n"
     ]
    }
   ],
   "source": [
    "# Print confusion matrix\n",
    "cm = confusion_matrix(y_test, predictions)\n",
    "print(cm)"
   ]
  },
  {
   "cell_type": "markdown",
   "id": "03b4353f-f643-4718-b052-a1bbe4ee4bf2",
   "metadata": {},
   "source": [
    "#### Classification report"
   ]
  },
  {
   "cell_type": "code",
   "execution_count": 63,
   "id": "07a49576-bd0f-46df-92b3-4b0fcdae8bde",
   "metadata": {},
   "outputs": [
    {
     "name": "stdout",
     "output_type": "stream",
     "text": [
      "              precision    recall  f1-score   support\n",
      "\n",
      "           0       0.92      0.93      0.93       395\n",
      "           1       1.00      1.00      1.00       161\n",
      "           2       0.94      0.93      0.94       479\n",
      "           3       0.95      0.88      0.91      1043\n",
      "           4       0.97      0.96      0.96       588\n",
      "           5       0.94      0.94      0.94       619\n",
      "           6       0.83      0.91      0.87       799\n",
      "\n",
      "    accuracy                           0.92      4084\n",
      "   macro avg       0.94      0.94      0.94      4084\n",
      "weighted avg       0.93      0.92      0.92      4084\n",
      "\n"
     ]
    }
   ],
   "source": [
    "# Print precision, recall, f1-score, and accuracy\n",
    "cr = classification_report(y_test, predictions)\n",
    "print(cr)"
   ]
  },
  {
   "cell_type": "code",
   "execution_count": null,
   "id": "3db38d8d-2e3d-4a8c-a60f-ac444782c3d3",
   "metadata": {},
   "outputs": [],
   "source": []
  },
  {
   "cell_type": "markdown",
   "id": "caf85e86-a68a-491d-987e-6f750e0ebad0",
   "metadata": {},
   "source": [
    "## Logistic Regression - Polynomials"
   ]
  },
  {
   "cell_type": "code",
   "execution_count": 73,
   "id": "ea42d878-c6cf-4ce0-9716-ea6d24a5e7db",
   "metadata": {},
   "outputs": [],
   "source": [
    "# Load libraries\n",
    "from sklearn.linear_model import LogisticRegression\n",
    "from sklearn.preprocessing import PolynomialFeatures"
   ]
  },
  {
   "cell_type": "code",
   "execution_count": 76,
   "id": "2fb5f9a1-bc20-485a-bfbe-cefa10a48251",
   "metadata": {},
   "outputs": [],
   "source": [
    "# Create polynomial features x^2 and x^3\n",
    "polynomial = PolynomialFeatures(degree=3, include_bias=False)\n",
    "features_polynomial = polynomial.fit_transform(X_train)\n",
    "feat_test_polynomial = polynomial.transform(X_test)"
   ]
  },
  {
   "cell_type": "code",
   "execution_count": 77,
   "id": "a225b3f2-f485-4d27-bdd9-91f2c964a50c",
   "metadata": {},
   "outputs": [],
   "source": [
    "# Create logistic regression\n",
    "regression = LogisticRegression(class_weight='balanced', n_jobs=-1)"
   ]
  },
  {
   "cell_type": "code",
   "execution_count": 78,
   "id": "5996da59-0521-4ec7-bfee-73271f98e4e6",
   "metadata": {},
   "outputs": [
    {
     "name": "stdout",
     "output_type": "stream",
     "text": [
      "Wall time: 37.1 s\n"
     ]
    }
   ],
   "source": [
    "%%time\n",
    "# Train model\n",
    "model = regression.fit(features_polynomial, y_train)"
   ]
  },
  {
   "cell_type": "code",
   "execution_count": 81,
   "id": "78f46bfc-7e85-408c-9f9b-b1b6e0eb4e06",
   "metadata": {},
   "outputs": [
    {
     "name": "stdout",
     "output_type": "stream",
     "text": [
      "Accuracy:\t93.05\n"
     ]
    }
   ],
   "source": [
    "# Get accuracy score\n",
    "score = round(model.score(feat_test_polynomial, y_test)*100, 2)\n",
    "print(f\"Accuracy:\\t{score}\")"
   ]
  },
  {
   "cell_type": "markdown",
   "id": "18f3bb15-c940-446c-9b1d-22d35c1fc058",
   "metadata": {},
   "source": [
    "### Evaluate"
   ]
  },
  {
   "cell_type": "code",
   "execution_count": null,
   "id": "ba26c15b-6e9e-4cb2-b669-3cf57d7287fb",
   "metadata": {},
   "outputs": [],
   "source": [
    "# Load libraries\n",
    "from sklearn.metrics import classification_report, confusion_matrix"
   ]
  },
  {
   "cell_type": "code",
   "execution_count": 82,
   "id": "2cf78ca2-ea8e-4ccd-9aa8-2501f2c9a002",
   "metadata": {},
   "outputs": [],
   "source": [
    "# Get predictions\n",
    "predictions = model.predict(feat_test_polynomial)"
   ]
  },
  {
   "cell_type": "markdown",
   "id": "1ff72e84-5843-4d1b-a8bc-dd9c9e38dbd9",
   "metadata": {},
   "source": [
    "#### Confusion matrix"
   ]
  },
  {
   "cell_type": "code",
   "execution_count": 83,
   "id": "65ae1feb-2505-4c05-a67e-a6b1335a5bae",
   "metadata": {},
   "outputs": [
    {
     "name": "stdout",
     "output_type": "stream",
     "text": [
      "[[369   0  19   0   1   1   5]\n",
      " [  0 161   0   0   0   0   0]\n",
      " [ 16   0 453   0   5   2   3]\n",
      " [  0   0   0 923   5  20  95]\n",
      " [  4   0  10   5 558   0  11]\n",
      " [  5   0   0   6   0 595  13]\n",
      " [  0   0   2  39   9   8 741]]\n"
     ]
    }
   ],
   "source": [
    "# Print confusion matrix\n",
    "cm = confusion_matrix(y_test, predictions)\n",
    "print(cm)"
   ]
  },
  {
   "cell_type": "markdown",
   "id": "1271f562-55ab-4b65-908e-e9b89b565c01",
   "metadata": {},
   "source": [
    "#### Classification report"
   ]
  },
  {
   "cell_type": "code",
   "execution_count": 84,
   "id": "359940fc-f2a0-4f8f-a433-7a77522e2731",
   "metadata": {},
   "outputs": [
    {
     "name": "stdout",
     "output_type": "stream",
     "text": [
      "              precision    recall  f1-score   support\n",
      "\n",
      "           0       0.94      0.93      0.94       395\n",
      "           1       1.00      1.00      1.00       161\n",
      "           2       0.94      0.95      0.94       479\n",
      "           3       0.95      0.88      0.92      1043\n",
      "           4       0.97      0.95      0.96       588\n",
      "           5       0.95      0.96      0.96       619\n",
      "           6       0.85      0.93      0.89       799\n",
      "\n",
      "    accuracy                           0.93      4084\n",
      "   macro avg       0.94      0.94      0.94      4084\n",
      "weighted avg       0.93      0.93      0.93      4084\n",
      "\n"
     ]
    }
   ],
   "source": [
    "# Print precision, recall, f1-score, and accuracy\n",
    "cr = classification_report(y_test, predictions)\n",
    "print(cr)"
   ]
  },
  {
   "cell_type": "markdown",
   "id": "a2a215ac-49e0-4075-9644-62072b901e4e",
   "metadata": {},
   "source": [
    "## K-means Clustering"
   ]
  },
  {
   "cell_type": "code",
   "execution_count": 64,
   "id": "d023a358-e9f7-4e62-9a6a-64baa8b00925",
   "metadata": {},
   "outputs": [],
   "source": [
    "# Load libraries\n",
    "from sklearn.cluster import KMeans\n",
    "from sklearn.metrics import silhouette_score"
   ]
  },
  {
   "cell_type": "code",
   "execution_count": 65,
   "id": "cde99e96-37d1-4a44-942c-12d9b5c85569",
   "metadata": {},
   "outputs": [],
   "source": [
    "# Scale feature data\n",
    "X_kmeans = beanDF[beanDF.columns[:-1]]"
   ]
  },
  {
   "cell_type": "code",
   "execution_count": 66,
   "id": "62d0e7d5-c50f-41b7-862c-65ddc11ac127",
   "metadata": {},
   "outputs": [
    {
     "name": "stdout",
     "output_type": "stream",
     "text": [
      "Wall time: 13.3 s\n"
     ]
    }
   ],
   "source": [
    "%%time\n",
    "# Cluster data using k-means to predict classes\n",
    "model = KMeans(n_clusters=7, random_state=42).fit(X_kmeans)"
   ]
  },
  {
   "cell_type": "code",
   "execution_count": 67,
   "id": "e683fbcd-eede-452a-84a5-1948c4d24fd6",
   "metadata": {},
   "outputs": [],
   "source": [
    "# Get predicted classes\n",
    "target_predicted = model.labels_"
   ]
  },
  {
   "cell_type": "code",
   "execution_count": 68,
   "id": "8aff1d36-f5b5-468d-b691-1ae4c99db9ab",
   "metadata": {},
   "outputs": [
    {
     "name": "stdout",
     "output_type": "stream",
     "text": [
      "Wall time: 15.8 s\n"
     ]
    },
    {
     "data": {
      "text/plain": [
       "0.5333505356677296"
      ]
     },
     "execution_count": 68,
     "metadata": {},
     "output_type": "execute_result"
    }
   ],
   "source": [
    "%%time\n",
    "# Evaluate model\n",
    "silhouette_score(X, target_predicted)"
   ]
  },
  {
   "cell_type": "code",
   "execution_count": null,
   "id": "47da6f50-91cc-4864-b92a-cb4dcd3524f6",
   "metadata": {},
   "outputs": [],
   "source": []
  },
  {
   "cell_type": "markdown",
   "id": "593b44a9-4804-4218-bb4b-4d9aa4066c71",
   "metadata": {},
   "source": [
    "## Decision Tree"
   ]
  },
  {
   "cell_type": "markdown",
   "id": "16d8f90b-6c65-4b5b-9916-8741cad7ea06",
   "metadata": {},
   "source": [
    "NOTE: Used Regressor, should have used Classifier"
   ]
  },
  {
   "cell_type": "code",
   "execution_count": 85,
   "id": "ecda9e9a-f223-408c-ae82-36e599553a30",
   "metadata": {},
   "outputs": [],
   "source": [
    "# Load libraries\n",
    "from sklearn.tree import DecisionTreeRegressor"
   ]
  },
  {
   "cell_type": "code",
   "execution_count": 87,
   "id": "dea9c7e2-9794-4e2f-beb5-bda9d03d1e47",
   "metadata": {},
   "outputs": [],
   "source": [
    "# Create decision tree regressor object\n",
    "decisiontree = DecisionTreeRegressor(random_state=42)"
   ]
  },
  {
   "cell_type": "code",
   "execution_count": 88,
   "id": "fd647230-83f0-40f1-9947-6cc1c304684a",
   "metadata": {},
   "outputs": [
    {
     "name": "stdout",
     "output_type": "stream",
     "text": [
      "Wall time: 611 ms\n"
     ]
    },
    {
     "data": {
      "text/plain": [
       "DecisionTreeRegressor(random_state=42)"
      ]
     },
     "execution_count": 88,
     "metadata": {},
     "output_type": "execute_result"
    }
   ],
   "source": [
    "%%time\n",
    "# Train model\n",
    "decisiontree.fit(X_train, y_train)"
   ]
  },
  {
   "cell_type": "code",
   "execution_count": 89,
   "id": "a5495215-9f34-44eb-b1b3-380905548379",
   "metadata": {},
   "outputs": [
    {
     "name": "stdout",
     "output_type": "stream",
     "text": [
      "Accuracy:\t75.39\n"
     ]
    }
   ],
   "source": [
    "# Get accuracy score\n",
    "score = round(decisiontree.score(X_test, y_test)*100, 2)\n",
    "print(f\"Accuracy:\\t{score}\")"
   ]
  },
  {
   "cell_type": "markdown",
   "id": "181bafcd-29f5-4225-badd-6b3045e4f6d6",
   "metadata": {},
   "source": [
    "### Evaluate"
   ]
  },
  {
   "cell_type": "code",
   "execution_count": 36,
   "id": "42b18ef0-d81a-4390-ae77-f4d793d42405",
   "metadata": {},
   "outputs": [],
   "source": [
    "# Load libraries\n",
    "from sklearn.metrics import classification_report, confusion_matrix"
   ]
  },
  {
   "cell_type": "code",
   "execution_count": 90,
   "id": "0c9f49bd-6e1e-4c0d-903e-9157cda9190c",
   "metadata": {},
   "outputs": [],
   "source": [
    "# Get predictions\n",
    "predictions = decisiontree.predict(X_test)"
   ]
  },
  {
   "cell_type": "markdown",
   "id": "42d71679-3d7b-476d-a4fb-7d4d00690a93",
   "metadata": {},
   "source": [
    "#### Confusion matrix"
   ]
  },
  {
   "cell_type": "code",
   "execution_count": 91,
   "id": "4dcd1aa2-7ffd-4f4a-8ed7-cadeb1438952",
   "metadata": {},
   "outputs": [
    {
     "name": "stdout",
     "output_type": "stream",
     "text": [
      "[[358   0  21   1   2   4   9]\n",
      " [  0 161   0   0   0   0   0]\n",
      " [ 31   0 433   0  12   1   2]\n",
      " [  1   0   0 933   2  21  86]\n",
      " [  9   0  15   5 544   0  15]\n",
      " [  9   0   2  19   1 565  23]\n",
      " [  6   0   3  87  17  16 670]]\n"
     ]
    }
   ],
   "source": [
    "# Print confusion matrix\n",
    "cm = confusion_matrix(y_test, predictions)\n",
    "print(cm)"
   ]
  },
  {
   "cell_type": "markdown",
   "id": "0d6888a8-e6f0-4238-9314-4e675d02db79",
   "metadata": {},
   "source": [
    "#### Classification report"
   ]
  },
  {
   "cell_type": "code",
   "execution_count": 92,
   "id": "ff835d84-f258-47c4-90df-a92b1d3a19b6",
   "metadata": {},
   "outputs": [
    {
     "name": "stdout",
     "output_type": "stream",
     "text": [
      "              precision    recall  f1-score   support\n",
      "\n",
      "           0       0.86      0.91      0.89       395\n",
      "           1       1.00      1.00      1.00       161\n",
      "           2       0.91      0.90      0.91       479\n",
      "           3       0.89      0.89      0.89      1043\n",
      "           4       0.94      0.93      0.93       588\n",
      "           5       0.93      0.91      0.92       619\n",
      "           6       0.83      0.84      0.84       799\n",
      "\n",
      "    accuracy                           0.90      4084\n",
      "   macro avg       0.91      0.91      0.91      4084\n",
      "weighted avg       0.90      0.90      0.90      4084\n",
      "\n"
     ]
    }
   ],
   "source": [
    "# Print precision, recall, f1-score, and accuracy\n",
    "cr = classification_report(y_test, predictions)\n",
    "print(cr)"
   ]
  },
  {
   "cell_type": "code",
   "execution_count": null,
   "id": "9068b223-9bb7-4c49-afd5-a1e1d4c692db",
   "metadata": {},
   "outputs": [],
   "source": []
  },
  {
   "cell_type": "markdown",
   "id": "a53fbc27-b273-496b-9ba6-a51eb30040c2",
   "metadata": {},
   "source": [
    "## Ada Boost"
   ]
  },
  {
   "cell_type": "code",
   "execution_count": 108,
   "id": "0d373de3-ef10-41da-8e07-06abf363e7df",
   "metadata": {},
   "outputs": [],
   "source": [
    "# Load libraries\n",
    "from sklearn.ensemble import AdaBoostClassifier"
   ]
  },
  {
   "cell_type": "markdown",
   "id": "5a50211e-c48d-4719-85e8-a758a61364c8",
   "metadata": {},
   "source": [
    "# Create classifier\n",
    "adaboost = AdaBoostClassifier(random_state=42)"
   ]
  },
  {
   "cell_type": "code",
   "execution_count": 110,
   "id": "4cc06d74-b1ad-4b50-999d-e57a37195ea1",
   "metadata": {},
   "outputs": [
    {
     "name": "stdout",
     "output_type": "stream",
     "text": [
      "Wall time: 1.07 s\n"
     ]
    },
    {
     "data": {
      "text/plain": [
       "AdaBoostClassifier(random_state=42)"
      ]
     },
     "execution_count": 110,
     "metadata": {},
     "output_type": "execute_result"
    }
   ],
   "source": [
    "%%time\n",
    "# Train model\n",
    "adaboost.fit(X_train, y_train)"
   ]
  },
  {
   "cell_type": "code",
   "execution_count": 111,
   "id": "820adc20-28f1-4a70-87e3-e4b0bbb7121b",
   "metadata": {},
   "outputs": [
    {
     "name": "stdout",
     "output_type": "stream",
     "text": [
      "Accuracy:\t64.67\n"
     ]
    }
   ],
   "source": [
    "# Get accuracy score\n",
    "score = round(adaboost.score(X_test, y_test)*100, 2)\n",
    "print(f\"Accuracy:\\t{score}\")"
   ]
  },
  {
   "cell_type": "markdown",
   "id": "9f706642-ac69-44dd-87fd-45f638e88b46",
   "metadata": {},
   "source": [
    "Not sure why this is so low when the classification report shows accuracy to be higher"
   ]
  },
  {
   "cell_type": "markdown",
   "id": "d4e0eaa4-1f5f-4b56-8de6-c9e659428975",
   "metadata": {},
   "source": [
    "### Evaluate"
   ]
  },
  {
   "cell_type": "code",
   "execution_count": 36,
   "id": "bbc5daa5-2681-437c-b9aa-4d028ce5c6d5",
   "metadata": {},
   "outputs": [],
   "source": [
    "# Load libraries\n",
    "from sklearn.metrics import classification_report, confusion_matrix"
   ]
  },
  {
   "cell_type": "code",
   "execution_count": 112,
   "id": "64af3423-e4e2-4d7f-b5f0-6e6e3988a5d8",
   "metadata": {},
   "outputs": [],
   "source": [
    "# Get predictions\n",
    "predictions = classifier.predict(X_test)"
   ]
  },
  {
   "cell_type": "markdown",
   "id": "91b48127-d798-4f56-8901-ae0af7eed969",
   "metadata": {},
   "source": [
    "#### Confusion matrix"
   ]
  },
  {
   "cell_type": "code",
   "execution_count": 113,
   "id": "ed6c7859-bc7f-4fb4-94b6-3c263a560cf5",
   "metadata": {},
   "outputs": [
    {
     "name": "stdout",
     "output_type": "stream",
     "text": [
      "[[353   0  27   0   2   3  10]\n",
      " [  0 161   0   0   0   0   0]\n",
      " [ 15   0 448   0   9   1   6]\n",
      " [  0   0   0 970   2  17  54]\n",
      " [  2   0   9   4 561   0  12]\n",
      " [  4   0   0  20   0 581  14]\n",
      " [  1   0   1  80   8  12 697]]\n"
     ]
    }
   ],
   "source": [
    "# Print confusion matrix\n",
    "cm = confusion_matrix(y_test, predictions)\n",
    "print(cm)"
   ]
  },
  {
   "cell_type": "markdown",
   "id": "0a794c61-413f-443f-b1eb-a3abefe2e2ce",
   "metadata": {},
   "source": [
    "#### Classification report"
   ]
  },
  {
   "cell_type": "code",
   "execution_count": 98,
   "id": "8765b67b-08e0-45de-b6fa-b7ea23af153d",
   "metadata": {},
   "outputs": [
    {
     "name": "stdout",
     "output_type": "stream",
     "text": [
      "              precision    recall  f1-score   support\n",
      "\n",
      "           0       0.94      0.89      0.92       395\n",
      "           1       1.00      1.00      1.00       161\n",
      "           2       0.92      0.94      0.93       479\n",
      "           3       0.90      0.93      0.92      1043\n",
      "           4       0.96      0.95      0.96       588\n",
      "           5       0.95      0.94      0.94       619\n",
      "           6       0.88      0.87      0.88       799\n",
      "\n",
      "    accuracy                           0.92      4084\n",
      "   macro avg       0.94      0.93      0.93      4084\n",
      "weighted avg       0.92      0.92      0.92      4084\n",
      "\n"
     ]
    }
   ],
   "source": [
    "# Print precision, recall, f1-score, and accuracy\n",
    "cr = classification_report(y_test, predictions)\n",
    "print(cr)"
   ]
  },
  {
   "cell_type": "code",
   "execution_count": 64,
   "id": "87cc5624-f839-4a70-a0bd-4abda111c3d3",
   "metadata": {},
   "outputs": [],
   "source": [
    "import random as rd"
   ]
  },
  {
   "cell_type": "code",
   "execution_count": 65,
   "id": "7cb0f829-9620-4fad-8a7c-a6fade8dec27",
   "metadata": {},
   "outputs": [
    {
     "data": {
      "text/plain": [
       "84"
      ]
     },
     "execution_count": 65,
     "metadata": {},
     "output_type": "execute_result"
    }
   ],
   "source": [
    "rd.randint(10,100)"
   ]
  },
  {
   "cell_type": "code",
   "execution_count": 66,
   "id": "fe4fd20f-836f-44cc-8690-a64dae21b54f",
   "metadata": {},
   "outputs": [
    {
     "data": {
      "text/plain": [
       "216"
      ]
     },
     "execution_count": 66,
     "metadata": {},
     "output_type": "execute_result"
    }
   ],
   "source": [
    "3*4*3*2*3"
   ]
  },
  {
   "cell_type": "code",
   "execution_count": 68,
   "id": "cce3319d-bc62-4fd4-bdfa-5ad4e9737687",
   "metadata": {},
   "outputs": [
    {
     "name": "stderr",
     "output_type": "stream",
     "text": [
      "C:\\ProgramData\\Anaconda3\\lib\\site-packages\\numpy\\_distributor_init.py:30: UserWarning: loaded more than 1 DLL from .libs:\n",
      "C:\\ProgramData\\Anaconda3\\lib\\site-packages\\numpy\\.libs\\libopenblas.NOIJJG62EMASZI6NYURL6JBKM4EVBGM7.gfortran-win_amd64.dll\n",
      "C:\\ProgramData\\Anaconda3\\lib\\site-packages\\numpy\\.libs\\libopenblas.WCDJNK7YVMPZQ2ME2ZZHJJRJ3JIKNDB7.gfortran-win_amd64.dll\n",
      "  warnings.warn(\"loaded more than 1 DLL from .libs:\"\n"
     ]
    }
   ],
   "source": [
    "from scipy.stats import uniform"
   ]
  },
  {
   "cell_type": "code",
   "execution_count": 77,
   "id": "64a2d5bc-c33f-4584-9ed2-cf5c9dc65c60",
   "metadata": {},
   "outputs": [
    {
     "data": {
      "text/plain": [
       "0.00023606421293931846"
      ]
     },
     "execution_count": 77,
     "metadata": {},
     "output_type": "execute_result"
    }
   ],
   "source": [
    "uniform(loc=0, scale=0.0005).rvs()"
   ]
  },
  {
   "cell_type": "code",
   "execution_count": 78,
   "id": "2c420aaa-517c-46f0-9119-fa840e88ee1f",
   "metadata": {},
   "outputs": [
    {
     "data": {
      "text/plain": [
       "200"
      ]
     },
     "execution_count": 78,
     "metadata": {},
     "output_type": "execute_result"
    }
   ],
   "source": [
    "5*2*2*5*2"
   ]
  },
  {
   "cell_type": "code",
   "execution_count": 192,
   "id": "266f8297-c12b-44c0-8a39-5c33b798129f",
   "metadata": {},
   "outputs": [
    {
     "name": "stdout",
     "output_type": "stream",
     "text": [
      "Best parameters found:\n",
      " {'activation': 'identity', 'alpha': 0.00030919300466654366, 'early_stopping': True, 'hidden_layer_sizes': (77, 73, 54), 'learning_rate': 'constant', 'solver': 'lbfgs'}\n"
     ]
    }
   ],
   "source": [
    "print('Best parameters found:\\n', rand_result.best_params_)"
   ]
  },
  {
   "cell_type": "code",
   "execution_count": 215,
   "id": "9ad586b9-4050-444e-8e2e-67d534a83b36",
   "metadata": {},
   "outputs": [
    {
     "name": "stdout",
     "output_type": "stream",
     "text": [
      "Best parameters found:\n",
      " {'activation': 'relu', 'alpha': 0.00025131854655259604, 'early_stopping': True, 'hidden_layer_sizes': (67, 52, 75), 'learning_rate': 'constant', 'solver': 'adam'}\n"
     ]
    }
   ],
   "source": [
    "print('Best parameters found:\\n', rand_result.best_params_)"
   ]
  },
  {
   "cell_type": "code",
   "execution_count": 227,
   "id": "9554974c-daed-4805-a568-762e097a90cc",
   "metadata": {},
   "outputs": [
    {
     "name": "stdout",
     "output_type": "stream",
     "text": [
      "Best parameters found:\n",
      " {'activation': 'tanh', 'alpha': 0.0001865613092111918, 'early_stopping': True, 'hidden_layer_sizes': (66, 95, 70), 'learning_rate': 'invscaling', 'solver': 'adam'}\n"
     ]
    }
   ],
   "source": [
    "print('Best parameters found:\\n', rand_result.best_params_)"
   ]
  },
  {
   "cell_type": "code",
   "execution_count": 265,
   "id": "2fb0279b-7e38-4300-88b9-5fdfc4148d89",
   "metadata": {},
   "outputs": [
    {
     "name": "stdout",
     "output_type": "stream",
     "text": [
      "Best parameters found:\n",
      " {'activation': 'relu', 'alpha': 0.00012435713629381495, 'early_stopping': True, 'hidden_layer_sizes': (44, 73, 61), 'learning_rate': 'invscaling', 'solver': 'adam'}\n"
     ]
    }
   ],
   "source": [
    "print('Best parameters found:\\n', rand_result.best_params_)"
   ]
  }
 ],
 "metadata": {
  "kernelspec": {
   "display_name": "Python 3",
   "language": "python",
   "name": "python3"
  },
  "language_info": {
   "codemirror_mode": {
    "name": "ipython",
    "version": 3
   },
   "file_extension": ".py",
   "mimetype": "text/x-python",
   "name": "python",
   "nbconvert_exporter": "python",
   "pygments_lexer": "ipython3",
   "version": "3.8.8"
  }
 },
 "nbformat": 4,
 "nbformat_minor": 5
}
