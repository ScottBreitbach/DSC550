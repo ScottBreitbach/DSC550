{
 "cells": [
  {
   "cell_type": "markdown",
   "id": "45c33463-383c-437b-a7da-697c5146f6bd",
   "metadata": {},
   "source": [
    "# Feature Selection:\n",
    "## How to Throw Away 95% of Your Data and Get 95% Accuracy\n",
    "https://towardsdatascience.com/feature-selection-how-to-throw-away-95-of-your-data-and-get-95-accuracy-ad41ca016877"
   ]
  },
  {
   "cell_type": "code",
   "execution_count": 1,
   "id": "cc6bfc32-34a1-41d6-b735-12b51e1e8bc7",
   "metadata": {},
   "outputs": [
    {
     "name": "stderr",
     "output_type": "stream",
     "text": [
      "C:\\ProgramData\\Anaconda3\\lib\\site-packages\\numpy\\_distributor_init.py:30: UserWarning: loaded more than 1 DLL from .libs:\n",
      "C:\\ProgramData\\Anaconda3\\lib\\site-packages\\numpy\\.libs\\libopenblas.NOIJJG62EMASZI6NYURL6JBKM4EVBGM7.gfortran-win_amd64.dll\n",
      "C:\\ProgramData\\Anaconda3\\lib\\site-packages\\numpy\\.libs\\libopenblas.WCDJNK7YVMPZQ2ME2ZZHJJRJ3JIKNDB7.gfortran-win_amd64.dll\n",
      "  warnings.warn(\"loaded more than 1 DLL from .libs:\"\n",
      "Intel(R) Extension for Scikit-learn* enabled (https://github.com/intel/scikit-learn-intelex)\n"
     ]
    }
   ],
   "source": [
    "# Use all processor cores\n",
    "from sklearnex import patch_sklearn\n",
    "patch_sklearn()"
   ]
  },
  {
   "cell_type": "code",
   "execution_count": 2,
   "id": "ffb9b6d5-66fa-4161-9103-95db68b8851a",
   "metadata": {},
   "outputs": [],
   "source": [
    "# Load Libraries\n",
    "import pandas as pd\n",
    "import numpy as np"
   ]
  },
  {
   "cell_type": "markdown",
   "id": "ec6faa62-9c33-4816-ae63-6a828e9514f5",
   "metadata": {},
   "source": [
    "### Load Data"
   ]
  },
  {
   "cell_type": "code",
   "execution_count": 3,
   "id": "a901fb12-7767-48e0-86df-86b007a3d3ae",
   "metadata": {},
   "outputs": [],
   "source": [
    "# Load data to a DataFrame\n",
    "beanDF = pd.read_excel('DryBeanDataset/Dry_Bean_Dataset.xlsx')"
   ]
  },
  {
   "cell_type": "code",
   "execution_count": 4,
   "id": "63d169cb-7fdd-472b-9e39-5ebcf6e67270",
   "metadata": {},
   "outputs": [
    {
     "data": {
      "text/plain": [
       "(13611, 17)"
      ]
     },
     "execution_count": 4,
     "metadata": {},
     "output_type": "execute_result"
    }
   ],
   "source": [
    "# Look at the shape of the DataFrame\n",
    "beanDF.shape"
   ]
  },
  {
   "cell_type": "code",
   "execution_count": 5,
   "id": "d11591b0-d1e6-4509-8ec9-e760811db5e2",
   "metadata": {},
   "outputs": [
    {
     "data": {
      "text/plain": [
       "Class\n",
       "DERMASON    3546\n",
       "SIRA        2636\n",
       "SEKER       2027\n",
       "HOROZ       1928\n",
       "CALI        1630\n",
       "BARBUNYA    1322\n",
       "BOMBAY       522\n",
       "dtype: int64"
      ]
     },
     "execution_count": 5,
     "metadata": {},
     "output_type": "execute_result"
    }
   ],
   "source": [
    "# See the relative numbers of each target category\n",
    "beanDF.value_counts('Class')"
   ]
  },
  {
   "cell_type": "code",
   "execution_count": 6,
   "id": "3522b177-2a07-471a-9c1a-0db9c3772143",
   "metadata": {},
   "outputs": [
    {
     "data": {
      "text/html": [
       "<div>\n",
       "<style scoped>\n",
       "    .dataframe tbody tr th:only-of-type {\n",
       "        vertical-align: middle;\n",
       "    }\n",
       "\n",
       "    .dataframe tbody tr th {\n",
       "        vertical-align: top;\n",
       "    }\n",
       "\n",
       "    .dataframe thead th {\n",
       "        text-align: right;\n",
       "    }\n",
       "</style>\n",
       "<table border=\"1\" class=\"dataframe\">\n",
       "  <thead>\n",
       "    <tr style=\"text-align: right;\">\n",
       "      <th></th>\n",
       "      <th>Area</th>\n",
       "      <th>Perimeter</th>\n",
       "      <th>MajorAxisLength</th>\n",
       "      <th>MinorAxisLength</th>\n",
       "      <th>AspectRation</th>\n",
       "      <th>Eccentricity</th>\n",
       "      <th>ConvexArea</th>\n",
       "      <th>EquivDiameter</th>\n",
       "      <th>Extent</th>\n",
       "      <th>Solidity</th>\n",
       "      <th>roundness</th>\n",
       "      <th>Compactness</th>\n",
       "      <th>ShapeFactor1</th>\n",
       "      <th>ShapeFactor2</th>\n",
       "      <th>ShapeFactor3</th>\n",
       "      <th>ShapeFactor4</th>\n",
       "      <th>Class</th>\n",
       "    </tr>\n",
       "  </thead>\n",
       "  <tbody>\n",
       "    <tr>\n",
       "      <th>0</th>\n",
       "      <td>28395</td>\n",
       "      <td>610.291</td>\n",
       "      <td>208.178117</td>\n",
       "      <td>173.888747</td>\n",
       "      <td>1.197191</td>\n",
       "      <td>0.549812</td>\n",
       "      <td>28715</td>\n",
       "      <td>190.141097</td>\n",
       "      <td>0.763923</td>\n",
       "      <td>0.988856</td>\n",
       "      <td>0.958027</td>\n",
       "      <td>0.913358</td>\n",
       "      <td>0.007332</td>\n",
       "      <td>0.003147</td>\n",
       "      <td>0.834222</td>\n",
       "      <td>0.998724</td>\n",
       "      <td>SEKER</td>\n",
       "    </tr>\n",
       "    <tr>\n",
       "      <th>1</th>\n",
       "      <td>28734</td>\n",
       "      <td>638.018</td>\n",
       "      <td>200.524796</td>\n",
       "      <td>182.734419</td>\n",
       "      <td>1.097356</td>\n",
       "      <td>0.411785</td>\n",
       "      <td>29172</td>\n",
       "      <td>191.272750</td>\n",
       "      <td>0.783968</td>\n",
       "      <td>0.984986</td>\n",
       "      <td>0.887034</td>\n",
       "      <td>0.953861</td>\n",
       "      <td>0.006979</td>\n",
       "      <td>0.003564</td>\n",
       "      <td>0.909851</td>\n",
       "      <td>0.998430</td>\n",
       "      <td>SEKER</td>\n",
       "    </tr>\n",
       "    <tr>\n",
       "      <th>2</th>\n",
       "      <td>29380</td>\n",
       "      <td>624.110</td>\n",
       "      <td>212.826130</td>\n",
       "      <td>175.931143</td>\n",
       "      <td>1.209713</td>\n",
       "      <td>0.562727</td>\n",
       "      <td>29690</td>\n",
       "      <td>193.410904</td>\n",
       "      <td>0.778113</td>\n",
       "      <td>0.989559</td>\n",
       "      <td>0.947849</td>\n",
       "      <td>0.908774</td>\n",
       "      <td>0.007244</td>\n",
       "      <td>0.003048</td>\n",
       "      <td>0.825871</td>\n",
       "      <td>0.999066</td>\n",
       "      <td>SEKER</td>\n",
       "    </tr>\n",
       "    <tr>\n",
       "      <th>3</th>\n",
       "      <td>30008</td>\n",
       "      <td>645.884</td>\n",
       "      <td>210.557999</td>\n",
       "      <td>182.516516</td>\n",
       "      <td>1.153638</td>\n",
       "      <td>0.498616</td>\n",
       "      <td>30724</td>\n",
       "      <td>195.467062</td>\n",
       "      <td>0.782681</td>\n",
       "      <td>0.976696</td>\n",
       "      <td>0.903936</td>\n",
       "      <td>0.928329</td>\n",
       "      <td>0.007017</td>\n",
       "      <td>0.003215</td>\n",
       "      <td>0.861794</td>\n",
       "      <td>0.994199</td>\n",
       "      <td>SEKER</td>\n",
       "    </tr>\n",
       "    <tr>\n",
       "      <th>4</th>\n",
       "      <td>30140</td>\n",
       "      <td>620.134</td>\n",
       "      <td>201.847882</td>\n",
       "      <td>190.279279</td>\n",
       "      <td>1.060798</td>\n",
       "      <td>0.333680</td>\n",
       "      <td>30417</td>\n",
       "      <td>195.896503</td>\n",
       "      <td>0.773098</td>\n",
       "      <td>0.990893</td>\n",
       "      <td>0.984877</td>\n",
       "      <td>0.970516</td>\n",
       "      <td>0.006697</td>\n",
       "      <td>0.003665</td>\n",
       "      <td>0.941900</td>\n",
       "      <td>0.999166</td>\n",
       "      <td>SEKER</td>\n",
       "    </tr>\n",
       "  </tbody>\n",
       "</table>\n",
       "</div>"
      ],
      "text/plain": [
       "    Area  Perimeter  MajorAxisLength  MinorAxisLength  AspectRation  \\\n",
       "0  28395    610.291       208.178117       173.888747      1.197191   \n",
       "1  28734    638.018       200.524796       182.734419      1.097356   \n",
       "2  29380    624.110       212.826130       175.931143      1.209713   \n",
       "3  30008    645.884       210.557999       182.516516      1.153638   \n",
       "4  30140    620.134       201.847882       190.279279      1.060798   \n",
       "\n",
       "   Eccentricity  ConvexArea  EquivDiameter    Extent  Solidity  roundness  \\\n",
       "0      0.549812       28715     190.141097  0.763923  0.988856   0.958027   \n",
       "1      0.411785       29172     191.272750  0.783968  0.984986   0.887034   \n",
       "2      0.562727       29690     193.410904  0.778113  0.989559   0.947849   \n",
       "3      0.498616       30724     195.467062  0.782681  0.976696   0.903936   \n",
       "4      0.333680       30417     195.896503  0.773098  0.990893   0.984877   \n",
       "\n",
       "   Compactness  ShapeFactor1  ShapeFactor2  ShapeFactor3  ShapeFactor4  Class  \n",
       "0     0.913358      0.007332      0.003147      0.834222      0.998724  SEKER  \n",
       "1     0.953861      0.006979      0.003564      0.909851      0.998430  SEKER  \n",
       "2     0.908774      0.007244      0.003048      0.825871      0.999066  SEKER  \n",
       "3     0.928329      0.007017      0.003215      0.861794      0.994199  SEKER  \n",
       "4     0.970516      0.006697      0.003665      0.941900      0.999166  SEKER  "
      ]
     },
     "execution_count": 6,
     "metadata": {},
     "output_type": "execute_result"
    }
   ],
   "source": [
    "beanDF.head()"
   ]
  },
  {
   "cell_type": "markdown",
   "id": "8ed95339-8c4d-401d-82c1-253a5cc592b3",
   "metadata": {},
   "source": [
    "## Test Train Split"
   ]
  },
  {
   "cell_type": "code",
   "execution_count": 7,
   "id": "04d0927b-454c-4e09-986e-6735edb0e080",
   "metadata": {},
   "outputs": [],
   "source": [
    "from sklearn.preprocessing import StandardScaler\n",
    "import numpy as np"
   ]
  },
  {
   "cell_type": "code",
   "execution_count": 8,
   "id": "4bb1579c-6238-4fa0-8619-ae374655197c",
   "metadata": {},
   "outputs": [],
   "source": [
    "# Load libraries\n",
    "from sklearn.model_selection import train_test_split"
   ]
  },
  {
   "cell_type": "code",
   "execution_count": 9,
   "id": "d2f25b40-03da-48c0-bf6e-c52f67e0c997",
   "metadata": {},
   "outputs": [],
   "source": [
    "X = beanDF[beanDF.columns[:-1]]\n",
    "# y = beanDF.Class\n",
    "# y = pd.get_dummies(beanDF.Class) # Well that didn't work\n",
    "# y = pd.get_dummies(beanDF, columns=['Class']).iloc[:, -7:] # Still no; wrong shape\n",
    "# y = beanDF.Class.astype('category') # That didn't work either\n",
    "# y = y.cat.codes"
   ]
  },
  {
   "cell_type": "code",
   "execution_count": 10,
   "id": "77a07b56-20ad-4982-af42-a041ab7011ad",
   "metadata": {},
   "outputs": [],
   "source": [
    "from sklearn.preprocessing import LabelEncoder\n",
    "le = LabelEncoder()"
   ]
  },
  {
   "cell_type": "code",
   "execution_count": 11,
   "id": "aa8c97cd-10d0-4660-9529-5edbd90c2c23",
   "metadata": {},
   "outputs": [],
   "source": [
    "y = le.fit_transform(beanDF.Class)"
   ]
  },
  {
   "cell_type": "code",
   "execution_count": 12,
   "id": "f580511f-379c-4761-958e-e5c28def0d59",
   "metadata": {},
   "outputs": [],
   "source": [
    "# Split the data\n",
    "X_train, X_test, y_train, y_test = train_test_split(X, y, test_size =0.3, \n",
    "                                                    random_state=42)"
   ]
  },
  {
   "cell_type": "code",
   "execution_count": 13,
   "id": "02eee4d6-0deb-4f45-a668-efb950a6a531",
   "metadata": {},
   "outputs": [],
   "source": [
    "scaler = StandardScaler()"
   ]
  },
  {
   "cell_type": "code",
   "execution_count": 14,
   "id": "db8aa83b-9bbd-4031-a7df-e39ba6572f34",
   "metadata": {},
   "outputs": [],
   "source": [
    "X_train = scaler.fit_transform(X_train)\n",
    "X_test  = scaler.transform(X_test)"
   ]
  },
  {
   "cell_type": "markdown",
   "id": "38a18f35-32d5-4de6-8af6-9fdc64e0cf81",
   "metadata": {},
   "source": [
    "## Feature selection"
   ]
  },
  {
   "cell_type": "markdown",
   "id": "ece67dbc-019e-47b7-a112-6e1996e807a1",
   "metadata": {},
   "source": [
    "### 1. F-statistic"
   ]
  },
  {
   "cell_type": "code",
   "execution_count": 15,
   "id": "13d129c1-9151-4235-9772-6a6f2283b0dd",
   "metadata": {},
   "outputs": [],
   "source": [
    "from sklearn.feature_selection import f_classif\n",
    "\n",
    "f = f_classif(X_train, y_train)[0]"
   ]
  },
  {
   "cell_type": "markdown",
   "id": "a3a9656a-af8d-4d61-a179-952ff45af7b7",
   "metadata": {},
   "source": [
    "### 2. Mutual information"
   ]
  },
  {
   "cell_type": "code",
   "execution_count": 16,
   "id": "1d930511-3e7a-4399-a1b2-dd58bc40ce46",
   "metadata": {},
   "outputs": [],
   "source": [
    "from sklearn.feature_selection import mutual_info_classif\n",
    "\n",
    "mi = mutual_info_classif(X_train, y_train)"
   ]
  },
  {
   "cell_type": "markdown",
   "id": "6a524618-d2ac-450e-baf4-89751e502a35",
   "metadata": {},
   "source": [
    "### 3. Logistic regression"
   ]
  },
  {
   "cell_type": "code",
   "execution_count": 17,
   "id": "79a36241-a709-4065-9cef-faf3ed1be866",
   "metadata": {},
   "outputs": [],
   "source": [
    "from sklearn.linear_model import LogisticRegression\n",
    "\n",
    "logreg = LogisticRegression(max_iter=500).fit(X_train, y_train)"
   ]
  },
  {
   "cell_type": "markdown",
   "id": "7fb9ffd9-c290-4012-9122-7264f4302775",
   "metadata": {},
   "source": [
    "### LightGBM"
   ]
  },
  {
   "cell_type": "code",
   "execution_count": 18,
   "id": "a4577153-797b-4822-acc1-8ebd002d2861",
   "metadata": {},
   "outputs": [],
   "source": [
    "# pip install lightgbm"
   ]
  },
  {
   "cell_type": "code",
   "execution_count": 19,
   "id": "1659c7d0-51e6-4291-a542-a84358fa9aba",
   "metadata": {},
   "outputs": [],
   "source": [
    "from lightgbm import LGBMClassifier\n",
    "\n",
    "lgbm = LGBMClassifier(\n",
    "    objective = 'multiclass',\n",
    "    metric = 'multi_logloss',\n",
    "    importance_type = 'gain'\n",
    ").fit(X_train, y_train)"
   ]
  },
  {
   "cell_type": "markdown",
   "id": "3c6b8343-956f-46ee-907a-31198269dc49",
   "metadata": {},
   "source": [
    "Need to convert y to int maybe? / bag of words?  \n",
    "Nope! LabelEncoder()  \n",
    "Note:  \n",
    "The previous version of this article used LabelEncoder and LabelBinarizer which are not the recommended approach for encoding categorical values. These encoders should only be used to encode the target values not the feature values.\n",
    "\n",
    "The examples below use OrdinalEncoder and OneHotEncoder which is the correct approach to use for encoding target values.\n",
    "\n",
    "From here: https://pbpython.com/categorical-encoding.html"
   ]
  },
  {
   "cell_type": "markdown",
   "id": "753b77e1-3af1-4d25-a982-77d9be0bfe7a",
   "metadata": {},
   "source": [
    "### 5. Boruta"
   ]
  },
  {
   "cell_type": "code",
   "execution_count": 20,
   "id": "a839346e-af0f-4d4e-a108-435425ae5c2f",
   "metadata": {},
   "outputs": [],
   "source": [
    "# pip install boruta"
   ]
  },
  {
   "cell_type": "code",
   "execution_count": 21,
   "id": "dea8bdd1-314c-4139-abe6-3b831c74851a",
   "metadata": {},
   "outputs": [],
   "source": [
    "# from boruta import BorutaPy\n",
    "# from sklearn.ensemble import RandomForestClassifier\n",
    "\n",
    "# boruta = BorutaPy(\n",
    "#     estimator = RandomForestClassifier(max_depth = 5), \n",
    "#     n_estimators = 'auto', \n",
    "#     max_iter = 100\n",
    "# ).fit(X_train, y_train)"
   ]
  },
  {
   "cell_type": "markdown",
   "id": "4b7f20a8-c73d-4ccb-89f6-5c88db7d8b12",
   "metadata": {
    "tags": []
   },
   "source": [
    "### 6. MRMR"
   ]
  },
  {
   "cell_type": "code",
   "execution_count": 22,
   "id": "33d48f6a-2b84-4ae8-a0b2-826c3b63e81e",
   "metadata": {},
   "outputs": [],
   "source": [
    "# pip install git+https://github.com/smazzanti/mrmr"
   ]
  },
  {
   "cell_type": "markdown",
   "id": "5543c163-fd1d-4638-972d-5b11d8b1ba31",
   "metadata": {},
   "source": [
    "https://towardsdatascience.com/mrmr-explained-exactly-how-you-wished-someone-explained-to-you-9cf4ed27458b"
   ]
  },
  {
   "cell_type": "code",
   "execution_count": 23,
   "id": "3b147cf4-8701-407b-9f86-101c76eba7f9",
   "metadata": {},
   "outputs": [],
   "source": [
    "# import pandas as pd\n",
    "# from mrmr import mrmr_classif\n",
    "\n",
    "# mrmr = mrmr_classif(pd.DataFrame(X_train), pd.Series(y_train), K = 784)"
   ]
  },
  {
   "cell_type": "markdown",
   "id": "3f7a54d1-3b0a-46ed-8473-21e4d48689af",
   "metadata": {},
   "source": [
    "Again, need to convert y str to float"
   ]
  },
  {
   "cell_type": "markdown",
   "id": "56d605f5-b4dc-4f73-8e37-cce479d46aae",
   "metadata": {},
   "source": [
    "### Store results"
   ]
  },
  {
   "cell_type": "code",
   "execution_count": 24,
   "id": "f4e93379-a7dd-4c89-890f-b22deb7dff4c",
   "metadata": {},
   "outputs": [],
   "source": [
    "import numpy as np\n",
    "\n",
    "ranking = pd.DataFrame(index = range(X_train.shape[1]))\n",
    "\n",
    "ranking['feat'] = X.columns\n",
    "ranking['f'] = pd.Series(f, index = ranking.index).fillna(0).rank(ascending = False)\n",
    "ranking['mi'] = pd.Series(mi, index = ranking.index).fillna(0).rank(ascending = False)\n",
    "ranking['logreg'] = pd.Series(np.abs(logreg.coef_).mean(axis = 0), index = ranking.index).rank(ascending = False)\n",
    "ranking['lightgbm'] = pd.Series(lgbm.feature_importances_, index = ranking.index).rank(ascending = False)\n",
    "# ranking['boruta'] = boruta.support_* 1 + boruta.support_weak_ * 2 + (1 - boruta.support_ - boruta.support_weak_) * X_train.shape[1]\n",
    "# ranking['mrmr'] = pd.Series(list(range(1, len(mrmr) + 1)) + [X_train.shape[1]] * (X_train.shape[1] - len(mrmr)), index = mrmr + list(set(ranking.index) - set(mrmr))).sort_index()\n",
    "\n",
    "ranking = ranking.replace(to_replace = ranking.max(), value = X_train.shape[1])\n",
    "ranking.to_csv('ranking.csv', index = False)"
   ]
  },
  {
   "cell_type": "code",
   "execution_count": 25,
   "id": "e695365d-77e8-4532-a6ac-612ef6056bfe",
   "metadata": {},
   "outputs": [
    {
     "data": {
      "text/html": [
       "<div>\n",
       "<style scoped>\n",
       "    .dataframe tbody tr th:only-of-type {\n",
       "        vertical-align: middle;\n",
       "    }\n",
       "\n",
       "    .dataframe tbody tr th {\n",
       "        vertical-align: top;\n",
       "    }\n",
       "\n",
       "    .dataframe thead th {\n",
       "        text-align: right;\n",
       "    }\n",
       "</style>\n",
       "<table border=\"1\" class=\"dataframe\">\n",
       "  <thead>\n",
       "    <tr style=\"text-align: right;\">\n",
       "      <th></th>\n",
       "      <th>feat</th>\n",
       "      <th>f</th>\n",
       "      <th>mi</th>\n",
       "      <th>logreg</th>\n",
       "      <th>lightgbm</th>\n",
       "    </tr>\n",
       "  </thead>\n",
       "  <tbody>\n",
       "    <tr>\n",
       "      <th>0</th>\n",
       "      <td>Area</td>\n",
       "      <td>1.0</td>\n",
       "      <td>3.0</td>\n",
       "      <td>10.0</td>\n",
       "      <td>2.0</td>\n",
       "    </tr>\n",
       "    <tr>\n",
       "      <th>1</th>\n",
       "      <td>Perimeter</td>\n",
       "      <td>4.0</td>\n",
       "      <td>1.0</td>\n",
       "      <td>5.0</td>\n",
       "      <td>7.0</td>\n",
       "    </tr>\n",
       "    <tr>\n",
       "      <th>2</th>\n",
       "      <td>MajorAxisLength</td>\n",
       "      <td>6.0</td>\n",
       "      <td>5.0</td>\n",
       "      <td>7.0</td>\n",
       "      <td>5.0</td>\n",
       "    </tr>\n",
       "    <tr>\n",
       "      <th>3</th>\n",
       "      <td>MinorAxisLength</td>\n",
       "      <td>5.0</td>\n",
       "      <td>7.0</td>\n",
       "      <td>2.0</td>\n",
       "      <td>8.0</td>\n",
       "    </tr>\n",
       "    <tr>\n",
       "      <th>4</th>\n",
       "      <td>AspectRation</td>\n",
       "      <td>9.0</td>\n",
       "      <td>11.0</td>\n",
       "      <td>11.0</td>\n",
       "      <td>11.0</td>\n",
       "    </tr>\n",
       "    <tr>\n",
       "      <th>5</th>\n",
       "      <td>Eccentricity</td>\n",
       "      <td>12.0</td>\n",
       "      <td>12.0</td>\n",
       "      <td>12.0</td>\n",
       "      <td>16.0</td>\n",
       "    </tr>\n",
       "    <tr>\n",
       "      <th>6</th>\n",
       "      <td>ConvexArea</td>\n",
       "      <td>2.0</td>\n",
       "      <td>4.0</td>\n",
       "      <td>8.0</td>\n",
       "      <td>4.0</td>\n",
       "    </tr>\n",
       "    <tr>\n",
       "      <th>7</th>\n",
       "      <td>EquivDiameter</td>\n",
       "      <td>3.0</td>\n",
       "      <td>2.0</td>\n",
       "      <td>6.0</td>\n",
       "      <td>14.0</td>\n",
       "    </tr>\n",
       "    <tr>\n",
       "      <th>8</th>\n",
       "      <td>Extent</td>\n",
       "      <td>16.0</td>\n",
       "      <td>16.0</td>\n",
       "      <td>16.0</td>\n",
       "      <td>13.0</td>\n",
       "    </tr>\n",
       "    <tr>\n",
       "      <th>9</th>\n",
       "      <td>Solidity</td>\n",
       "      <td>15.0</td>\n",
       "      <td>15.0</td>\n",
       "      <td>15.0</td>\n",
       "      <td>12.0</td>\n",
       "    </tr>\n",
       "    <tr>\n",
       "      <th>10</th>\n",
       "      <td>16</td>\n",
       "      <td>13.0</td>\n",
       "      <td>13.0</td>\n",
       "      <td>9.0</td>\n",
       "      <td>6.0</td>\n",
       "    </tr>\n",
       "    <tr>\n",
       "      <th>11</th>\n",
       "      <td>Compactness</td>\n",
       "      <td>10.0</td>\n",
       "      <td>9.0</td>\n",
       "      <td>14.0</td>\n",
       "      <td>1.0</td>\n",
       "    </tr>\n",
       "    <tr>\n",
       "      <th>12</th>\n",
       "      <td>ShapeFactor1</td>\n",
       "      <td>8.0</td>\n",
       "      <td>8.0</td>\n",
       "      <td>1.0</td>\n",
       "      <td>3.0</td>\n",
       "    </tr>\n",
       "    <tr>\n",
       "      <th>13</th>\n",
       "      <td>ShapeFactor2</td>\n",
       "      <td>7.0</td>\n",
       "      <td>6.0</td>\n",
       "      <td>3.0</td>\n",
       "      <td>10.0</td>\n",
       "    </tr>\n",
       "    <tr>\n",
       "      <th>14</th>\n",
       "      <td>ShapeFactor3</td>\n",
       "      <td>11.0</td>\n",
       "      <td>10.0</td>\n",
       "      <td>13.0</td>\n",
       "      <td>15.0</td>\n",
       "    </tr>\n",
       "    <tr>\n",
       "      <th>15</th>\n",
       "      <td>ShapeFactor4</td>\n",
       "      <td>14.0</td>\n",
       "      <td>14.0</td>\n",
       "      <td>4.0</td>\n",
       "      <td>9.0</td>\n",
       "    </tr>\n",
       "  </tbody>\n",
       "</table>\n",
       "</div>"
      ],
      "text/plain": [
       "               feat     f    mi  logreg  lightgbm\n",
       "0              Area   1.0   3.0    10.0       2.0\n",
       "1         Perimeter   4.0   1.0     5.0       7.0\n",
       "2   MajorAxisLength   6.0   5.0     7.0       5.0\n",
       "3   MinorAxisLength   5.0   7.0     2.0       8.0\n",
       "4      AspectRation   9.0  11.0    11.0      11.0\n",
       "5      Eccentricity  12.0  12.0    12.0      16.0\n",
       "6        ConvexArea   2.0   4.0     8.0       4.0\n",
       "7     EquivDiameter   3.0   2.0     6.0      14.0\n",
       "8            Extent  16.0  16.0    16.0      13.0\n",
       "9          Solidity  15.0  15.0    15.0      12.0\n",
       "10               16  13.0  13.0     9.0       6.0\n",
       "11      Compactness  10.0   9.0    14.0       1.0\n",
       "12     ShapeFactor1   8.0   8.0     1.0       3.0\n",
       "13     ShapeFactor2   7.0   6.0     3.0      10.0\n",
       "14     ShapeFactor3  11.0  10.0    13.0      15.0\n",
       "15     ShapeFactor4  14.0  14.0     4.0       9.0"
      ]
     },
     "execution_count": 25,
     "metadata": {},
     "output_type": "execute_result"
    }
   ],
   "source": [
    "ranking"
   ]
  },
  {
   "cell_type": "code",
   "execution_count": 38,
   "id": "f6f74ed0-73bd-4e51-be6d-b838ab33af96",
   "metadata": {},
   "outputs": [],
   "source": [
    "ranking['total'] = ranking.sum(axis=1)"
   ]
  },
  {
   "cell_type": "code",
   "execution_count": 39,
   "id": "f5f96b23-6248-4ec8-9e85-271c865dc176",
   "metadata": {},
   "outputs": [
    {
     "data": {
      "text/html": [
       "<div>\n",
       "<style scoped>\n",
       "    .dataframe tbody tr th:only-of-type {\n",
       "        vertical-align: middle;\n",
       "    }\n",
       "\n",
       "    .dataframe tbody tr th {\n",
       "        vertical-align: top;\n",
       "    }\n",
       "\n",
       "    .dataframe thead th {\n",
       "        text-align: right;\n",
       "    }\n",
       "</style>\n",
       "<table border=\"1\" class=\"dataframe\">\n",
       "  <thead>\n",
       "    <tr style=\"text-align: right;\">\n",
       "      <th></th>\n",
       "      <th>feat</th>\n",
       "      <th>f</th>\n",
       "      <th>mi</th>\n",
       "      <th>logreg</th>\n",
       "      <th>lightgbm</th>\n",
       "      <th>total</th>\n",
       "    </tr>\n",
       "  </thead>\n",
       "  <tbody>\n",
       "    <tr>\n",
       "      <th>0</th>\n",
       "      <td>Area</td>\n",
       "      <td>1.0</td>\n",
       "      <td>3.0</td>\n",
       "      <td>10.0</td>\n",
       "      <td>2.0</td>\n",
       "      <td>16.0</td>\n",
       "    </tr>\n",
       "    <tr>\n",
       "      <th>1</th>\n",
       "      <td>Perimeter</td>\n",
       "      <td>4.0</td>\n",
       "      <td>1.0</td>\n",
       "      <td>5.0</td>\n",
       "      <td>7.0</td>\n",
       "      <td>17.0</td>\n",
       "    </tr>\n",
       "    <tr>\n",
       "      <th>6</th>\n",
       "      <td>ConvexArea</td>\n",
       "      <td>2.0</td>\n",
       "      <td>4.0</td>\n",
       "      <td>8.0</td>\n",
       "      <td>4.0</td>\n",
       "      <td>18.0</td>\n",
       "    </tr>\n",
       "    <tr>\n",
       "      <th>12</th>\n",
       "      <td>ShapeFactor1</td>\n",
       "      <td>8.0</td>\n",
       "      <td>8.0</td>\n",
       "      <td>1.0</td>\n",
       "      <td>3.0</td>\n",
       "      <td>20.0</td>\n",
       "    </tr>\n",
       "    <tr>\n",
       "      <th>3</th>\n",
       "      <td>MinorAxisLength</td>\n",
       "      <td>5.0</td>\n",
       "      <td>7.0</td>\n",
       "      <td>2.0</td>\n",
       "      <td>8.0</td>\n",
       "      <td>22.0</td>\n",
       "    </tr>\n",
       "    <tr>\n",
       "      <th>2</th>\n",
       "      <td>MajorAxisLength</td>\n",
       "      <td>6.0</td>\n",
       "      <td>5.0</td>\n",
       "      <td>7.0</td>\n",
       "      <td>5.0</td>\n",
       "      <td>23.0</td>\n",
       "    </tr>\n",
       "    <tr>\n",
       "      <th>7</th>\n",
       "      <td>EquivDiameter</td>\n",
       "      <td>3.0</td>\n",
       "      <td>2.0</td>\n",
       "      <td>6.0</td>\n",
       "      <td>14.0</td>\n",
       "      <td>25.0</td>\n",
       "    </tr>\n",
       "    <tr>\n",
       "      <th>13</th>\n",
       "      <td>ShapeFactor2</td>\n",
       "      <td>7.0</td>\n",
       "      <td>6.0</td>\n",
       "      <td>3.0</td>\n",
       "      <td>10.0</td>\n",
       "      <td>26.0</td>\n",
       "    </tr>\n",
       "    <tr>\n",
       "      <th>11</th>\n",
       "      <td>Compactness</td>\n",
       "      <td>10.0</td>\n",
       "      <td>9.0</td>\n",
       "      <td>14.0</td>\n",
       "      <td>1.0</td>\n",
       "      <td>34.0</td>\n",
       "    </tr>\n",
       "    <tr>\n",
       "      <th>10</th>\n",
       "      <td>16</td>\n",
       "      <td>13.0</td>\n",
       "      <td>13.0</td>\n",
       "      <td>9.0</td>\n",
       "      <td>6.0</td>\n",
       "      <td>41.0</td>\n",
       "    </tr>\n",
       "    <tr>\n",
       "      <th>15</th>\n",
       "      <td>ShapeFactor4</td>\n",
       "      <td>14.0</td>\n",
       "      <td>14.0</td>\n",
       "      <td>4.0</td>\n",
       "      <td>9.0</td>\n",
       "      <td>41.0</td>\n",
       "    </tr>\n",
       "    <tr>\n",
       "      <th>4</th>\n",
       "      <td>AspectRation</td>\n",
       "      <td>9.0</td>\n",
       "      <td>11.0</td>\n",
       "      <td>11.0</td>\n",
       "      <td>11.0</td>\n",
       "      <td>42.0</td>\n",
       "    </tr>\n",
       "    <tr>\n",
       "      <th>14</th>\n",
       "      <td>ShapeFactor3</td>\n",
       "      <td>11.0</td>\n",
       "      <td>10.0</td>\n",
       "      <td>13.0</td>\n",
       "      <td>15.0</td>\n",
       "      <td>49.0</td>\n",
       "    </tr>\n",
       "    <tr>\n",
       "      <th>5</th>\n",
       "      <td>Eccentricity</td>\n",
       "      <td>12.0</td>\n",
       "      <td>12.0</td>\n",
       "      <td>12.0</td>\n",
       "      <td>16.0</td>\n",
       "      <td>52.0</td>\n",
       "    </tr>\n",
       "    <tr>\n",
       "      <th>9</th>\n",
       "      <td>Solidity</td>\n",
       "      <td>15.0</td>\n",
       "      <td>15.0</td>\n",
       "      <td>15.0</td>\n",
       "      <td>12.0</td>\n",
       "      <td>57.0</td>\n",
       "    </tr>\n",
       "    <tr>\n",
       "      <th>8</th>\n",
       "      <td>Extent</td>\n",
       "      <td>16.0</td>\n",
       "      <td>16.0</td>\n",
       "      <td>16.0</td>\n",
       "      <td>13.0</td>\n",
       "      <td>61.0</td>\n",
       "    </tr>\n",
       "  </tbody>\n",
       "</table>\n",
       "</div>"
      ],
      "text/plain": [
       "               feat     f    mi  logreg  lightgbm  total\n",
       "0              Area   1.0   3.0    10.0       2.0   16.0\n",
       "1         Perimeter   4.0   1.0     5.0       7.0   17.0\n",
       "6        ConvexArea   2.0   4.0     8.0       4.0   18.0\n",
       "12     ShapeFactor1   8.0   8.0     1.0       3.0   20.0\n",
       "3   MinorAxisLength   5.0   7.0     2.0       8.0   22.0\n",
       "2   MajorAxisLength   6.0   5.0     7.0       5.0   23.0\n",
       "7     EquivDiameter   3.0   2.0     6.0      14.0   25.0\n",
       "13     ShapeFactor2   7.0   6.0     3.0      10.0   26.0\n",
       "11      Compactness  10.0   9.0    14.0       1.0   34.0\n",
       "10               16  13.0  13.0     9.0       6.0   41.0\n",
       "15     ShapeFactor4  14.0  14.0     4.0       9.0   41.0\n",
       "4      AspectRation   9.0  11.0    11.0      11.0   42.0\n",
       "14     ShapeFactor3  11.0  10.0    13.0      15.0   49.0\n",
       "5      Eccentricity  12.0  12.0    12.0      16.0   52.0\n",
       "9          Solidity  15.0  15.0    15.0      12.0   57.0\n",
       "8            Extent  16.0  16.0    16.0      13.0   61.0"
      ]
     },
     "execution_count": 39,
     "metadata": {},
     "output_type": "execute_result"
    }
   ],
   "source": [
    "ranking.sort_values('total')"
   ]
  },
  {
   "cell_type": "markdown",
   "id": "5a305de8-4d08-4ee8-a76c-0883c163704c",
   "metadata": {},
   "source": [
    "## Plot Feature Importances"
   ]
  },
  {
   "cell_type": "code",
   "execution_count": 26,
   "id": "88e397af-c383-4ced-8c85-e1fb4707c058",
   "metadata": {},
   "outputs": [],
   "source": [
    "import matplotlib.pyplot as plt"
   ]
  },
  {
   "cell_type": "code",
   "execution_count": 27,
   "id": "40816838-d3fb-4fd2-8856-c7be138773c0",
   "metadata": {},
   "outputs": [
    {
     "data": {
      "text/plain": [
       "array([ 1.,  4.,  6.,  5.,  9., 12.,  2.,  3., 16., 15., 13., 10.,  8.,\n",
       "        7., 11., 14.])"
      ]
     },
     "execution_count": 27,
     "metadata": {},
     "output_type": "execute_result"
    }
   ],
   "source": [
    "ranking['f'].to_numpy()"
   ]
  },
  {
   "cell_type": "code",
   "execution_count": 28,
   "id": "a4f6f2c5-4435-4550-96ba-ffad10f8f4a6",
   "metadata": {},
   "outputs": [
    {
     "data": {
      "image/png": "[encoded data removed]",
      "text/plain": [
       "<Figure size 864x576 with 6 Axes>"
      ]
     },
     "metadata": {
      "needs_background": "light"
     },
     "output_type": "display_data"
    }
   ],
   "source": [
    "plt_ncols = 3\n",
    "plt_nrows = 2\n",
    "\n",
    "fig, axs = plt.subplots(plt_nrows, plt_ncols, figsize = (plt_ncols * 4, plt_nrows * 4))\n",
    "\n",
    "for e, (algo, title) in enumerate(\n",
    "    zip(\n",
    "#         ['f', 'mi', 'logreg', 'boruta'],\n",
    "#         ['F-Statistic', 'Mutual Info', 'Log Reg', 'Boruta']\n",
    "        ['f', 'mi', 'logreg', 'lightgbm'],#, 'boruta', 'mrmr'],\n",
    "        ['F-Statistic', 'Mutual Info', 'Log Reg', 'LightGBM']#,, 'Boruta', 'MRMR']\n",
    "#         ['f', 'mi', 'logreg', 'lightgbm', 'boruta', 'mrmr'],\n",
    "#         ['F-Statistic', 'Mutual Info', 'Log Reg', 'LightGBM', 'Boruta', 'MRMR']\n",
    "    )):\n",
    "\n",
    "    a = axs[divmod(e, plt_ncols)].imshow(\n",
    "        ranking[algo].to_numpy().reshape(4, 4), \n",
    "#         ranking[algo].to_numpy().reshape(28, 28), \n",
    "        cmap = 'Blues_r', \n",
    "        vmin = ranking.min().min(), \n",
    "        vmax = ranking.max().max()\n",
    "    )\n",
    "    \n",
    "    axs[divmod(e, plt_ncols)].set_title(title, fontsize = 14)\n",
    "    axs[divmod(e, plt_ncols)].set_xticks([])\n",
    "    axs[divmod(e, plt_ncols)].set_yticks([])\n",
    "    \n",
    "fig.savefig('featimpo_heatmap.png', dpi = 300)"
   ]
  },
  {
   "cell_type": "markdown",
   "id": "33e81f80-0a22-4fc3-9312-861913e050a2",
   "metadata": {},
   "source": [
    "## Predictive Performance on Top Features"
   ]
  },
  {
   "cell_type": "code",
   "execution_count": 29,
   "id": "8d63bd47-f089-4519-b4eb-c5a21690ac5e",
   "metadata": {},
   "outputs": [],
   "source": [
    "# pip install catboost"
   ]
  },
  {
   "cell_type": "code",
   "execution_count": 45,
   "id": "f77623b2-abe0-4921-8ddd-928adc3a10cd",
   "metadata": {},
   "outputs": [
    {
     "name": "stdout",
     "output_type": "stream",
     "text": [
      "Wall time: 3min 22s\n"
     ]
    }
   ],
   "source": [
    "%%time\n",
    "from catboost import CatBoostClassifier\n",
    "from sklearn.metrics import accuracy_score, roc_auc_score\n",
    "\n",
    "# algos = ['f', 'mi', 'logreg']\n",
    "algos = ['f', 'mi', 'logreg', 'lightgbm']#, 'mrmr']\n",
    "# algos = ['f', 'mi', 'logreg', 'lightgbm', 'mrmr']\n",
    "ks = [1, 2, 3, 4, 5, 7, 9, 11, 13, 16]\n",
    "\n",
    "accuracy = pd.DataFrame(index = ks, columns = algos)\n",
    "roc = pd.DataFrame(index = ks, columns = algos)\n",
    "\n",
    "for algo in algos:\n",
    "    \n",
    "    for k in ks:\n",
    "    \n",
    "        cols = ranking[algo].sort_values().head(k).index.to_list()\n",
    "                \n",
    "        clf = CatBoostClassifier().fit(\n",
    "            X_train[:, cols], y_train,\n",
    "            eval_set = (X_test[:, cols], y_test),\n",
    "            early_stopping_rounds = 20,\n",
    "            verbose = False\n",
    "        )\n",
    "                \n",
    "        accuracy.loc[k, algo] = accuracy_score(\n",
    "            y_true = y_test, y_pred = clf.predict(X_test[:, cols]))\n",
    "        roc.loc[k, algo] = roc_auc_score(\n",
    "            y_true = y_test, y_score = clf.predict_proba(X_test[:, cols]), multi_class = 'ovr', average = 'macro')\n",
    "        \n",
    "accuracy.to_csv('accuracy.csv', index = True)\n",
    "roc.to_csv('roc.csv', index = True)"
   ]
  },
  {
   "cell_type": "code",
   "execution_count": 46,
   "id": "8314c6c4-15c2-41f4-bd6f-1f8c9466cee2",
   "metadata": {},
   "outputs": [],
   "source": [
    "# Set up the figure size\n",
    "%matplotlib inline\n",
    "plt.rcParams['figure.figsize'] = (15, 10)"
   ]
  },
  {
   "cell_type": "code",
   "execution_count": 47,
   "id": "c0b44d65-70e2-4775-9f38-561b5e149ac4",
   "metadata": {},
   "outputs": [
    {
     "data": {
      "image/png": "[encoded data removed]",
      "text/plain": [
       "<Figure size 1080x720 with 1 Axes>"
      ]
     },
     "metadata": {
      "needs_background": "light"
     },
     "output_type": "display_data"
    }
   ],
   "source": [
    "for algo, label, color in zip(\n",
    "#     ['f', 'mi', 'logreg'],\n",
    "#     ['F-statistic', 'Mutual Info', 'Log Reg'],\n",
    "#     ['orangered', 'blue', 'lime']):\n",
    "    ['f', 'mi', 'lightgbm', 'logreg'],\n",
    "    ['F-statistic', 'Mutual Info', 'LightGBM', 'Log Reg'],\n",
    "    ['orangered', 'blue', 'lime', 'black']):\n",
    "#     ['mrmr', 'f', 'mi', 'lightgbm', 'logreg'],\n",
    "#     ['MRMR', 'F-statistic', 'Mutual Info', 'LightGBM', 'Log Reg'],\n",
    "#     ['orangered', 'blue', 'yellow', 'lime', 'black']):\n",
    "        plt.plot(accuracy.index, accuracy[algo], label = label, color = color, lw = 3)\n",
    "\n",
    "plt.plot(\n",
    "    [1, 20], [pd.Series(y_test).value_counts(normalize = True).iloc[0]] * 2, \n",
    "    label = '[Random]', color = 'grey', ls = '--', lw = 3\n",
    ")\n",
    "\n",
    "plt.legend(fontsize = 13, loc = 'center left', bbox_to_anchor = (1, 0.5))\n",
    "plt.grid()\n",
    "plt.yticks(np.linspace(0, 1, 11), ['{:.0%}'.format(i) for i in np.linspace(0, 1, 11)], fontsize = 13)\n",
    "plt.xticks([1] + list(range(5, 21, 5)), fontsize = 13)\n",
    "plt.xlim(-1, 20)\n",
    "plt.ylim(-.05, 1.05)\n",
    "plt.xlabel('Number of features', fontsize = 13)\n",
    "plt.ylabel('Accuracy', fontsize = 13)\n",
    "plt.savefig('accuracy.png', dpi = 300, bbox_inches = 'tight')"
   ]
  },
  {
   "cell_type": "code",
   "execution_count": null,
   "id": "1d59d37c-d687-4f85-80c4-fb7a681487a7",
   "metadata": {},
   "outputs": [],
   "source": []
  },
  {
   "cell_type": "code",
   "execution_count": 48,
   "id": "a9612f81-b5d1-4d4f-adb4-6338b03f5620",
   "metadata": {},
   "outputs": [],
   "source": [
    "from win32com.client import Dispatch\n",
    "speak = Dispatch(\"SAPI.SpVoice\").Speak"
   ]
  },
  {
   "cell_type": "code",
   "execution_count": 49,
   "id": "3c652657-b66e-40b5-bb0a-b85050a72043",
   "metadata": {},
   "outputs": [
    {
     "data": {
      "text/plain": [
       "1"
      ]
     },
     "execution_count": 49,
     "metadata": {},
     "output_type": "execute_result"
    }
   ],
   "source": [
    "speak(\"Complete.\")"
   ]
  },
  {
   "cell_type": "code",
   "execution_count": null,
   "id": "65a0b258-bfd5-4972-866f-bc63305263db",
   "metadata": {},
   "outputs": [],
   "source": []
  }
 ],
 "metadata": {
  "kernelspec": {
   "display_name": "Python 3",
   "language": "python",
   "name": "python3"
  },
  "language_info": {
   "codemirror_mode": {
    "name": "ipython",
    "version": 3
   },
   "file_extension": ".py",
   "mimetype": "text/x-python",
   "name": "python",
   "nbconvert_exporter": "python",
   "pygments_lexer": "ipython3",
   "version": "3.8.8"
  }
 },
 "nbformat": 4,
 "nbformat_minor": 5
}
