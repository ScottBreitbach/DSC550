{
 "cells": [
  {
   "cell_type": "code",
   "execution_count": null,
   "id": "b44ee5ac-ecb1-427e-b49c-455ff0db6dd6",
   "metadata": {},
   "outputs": [],
   "source": []
  },
  {
   "cell_type": "code",
   "execution_count": 1,
   "id": "560a4d5b-3319-480a-a53c-6c831909e222",
   "metadata": {},
   "outputs": [
    {
     "name": "stderr",
     "output_type": "stream",
     "text": [
      "C:\\ProgramData\\Anaconda3\\lib\\site-packages\\numpy\\_distributor_init.py:30: UserWarning: loaded more than 1 DLL from .libs:\n",
      "C:\\ProgramData\\Anaconda3\\lib\\site-packages\\numpy\\.libs\\libopenblas.NOIJJG62EMASZI6NYURL6JBKM4EVBGM7.gfortran-win_amd64.dll\n",
      "C:\\ProgramData\\Anaconda3\\lib\\site-packages\\numpy\\.libs\\libopenblas.WCDJNK7YVMPZQ2ME2ZZHJJRJ3JIKNDB7.gfortran-win_amd64.dll\n",
      "  warnings.warn(\"loaded more than 1 DLL from .libs:\"\n"
     ]
    }
   ],
   "source": [
    "# Load Libraries\n",
    "import pandas as pd\n",
    "import numpy as np\n",
    "\n",
    "# Set random seed\n",
    "np.random.seed(42)"
   ]
  },
  {
   "cell_type": "markdown",
   "id": "2754ae7c-0a78-4059-aa00-cdfd869bdb62",
   "metadata": {},
   "source": [
    "### Load Data"
   ]
  },
  {
   "cell_type": "code",
   "execution_count": 2,
   "id": "604c4dc8-e05e-49d7-a267-1fc540b02eba",
   "metadata": {},
   "outputs": [],
   "source": [
    "# Load data to a DataFrame\n",
    "beanDF = pd.read_excel('DryBeanDataset/Dry_Bean_Dataset.xlsx')"
   ]
  },
  {
   "cell_type": "code",
   "execution_count": 3,
   "id": "a9e0ce7e-d136-4e5d-aa26-c1069eac9c4f",
   "metadata": {},
   "outputs": [
    {
     "data": {
      "text/html": [
       "<div>\n",
       "<style scoped>\n",
       "    .dataframe tbody tr th:only-of-type {\n",
       "        vertical-align: middle;\n",
       "    }\n",
       "\n",
       "    .dataframe tbody tr th {\n",
       "        vertical-align: top;\n",
       "    }\n",
       "\n",
       "    .dataframe thead th {\n",
       "        text-align: right;\n",
       "    }\n",
       "</style>\n",
       "<table border=\"1\" class=\"dataframe\">\n",
       "  <thead>\n",
       "    <tr style=\"text-align: right;\">\n",
       "      <th></th>\n",
       "      <th>Area</th>\n",
       "      <th>Perimeter</th>\n",
       "      <th>MajorAxisLength</th>\n",
       "      <th>MinorAxisLength</th>\n",
       "      <th>AspectRation</th>\n",
       "      <th>Eccentricity</th>\n",
       "      <th>ConvexArea</th>\n",
       "      <th>EquivDiameter</th>\n",
       "      <th>Extent</th>\n",
       "      <th>Solidity</th>\n",
       "      <th>roundness</th>\n",
       "      <th>Compactness</th>\n",
       "      <th>ShapeFactor1</th>\n",
       "      <th>ShapeFactor2</th>\n",
       "      <th>ShapeFactor3</th>\n",
       "      <th>ShapeFactor4</th>\n",
       "      <th>Class</th>\n",
       "    </tr>\n",
       "  </thead>\n",
       "  <tbody>\n",
       "    <tr>\n",
       "      <th>0</th>\n",
       "      <td>28395</td>\n",
       "      <td>610.291</td>\n",
       "      <td>208.178117</td>\n",
       "      <td>173.888747</td>\n",
       "      <td>1.197191</td>\n",
       "      <td>0.549812</td>\n",
       "      <td>28715</td>\n",
       "      <td>190.141097</td>\n",
       "      <td>0.763923</td>\n",
       "      <td>0.988856</td>\n",
       "      <td>0.958027</td>\n",
       "      <td>0.913358</td>\n",
       "      <td>0.007332</td>\n",
       "      <td>0.003147</td>\n",
       "      <td>0.834222</td>\n",
       "      <td>0.998724</td>\n",
       "      <td>SEKER</td>\n",
       "    </tr>\n",
       "    <tr>\n",
       "      <th>1</th>\n",
       "      <td>28734</td>\n",
       "      <td>638.018</td>\n",
       "      <td>200.524796</td>\n",
       "      <td>182.734419</td>\n",
       "      <td>1.097356</td>\n",
       "      <td>0.411785</td>\n",
       "      <td>29172</td>\n",
       "      <td>191.272750</td>\n",
       "      <td>0.783968</td>\n",
       "      <td>0.984986</td>\n",
       "      <td>0.887034</td>\n",
       "      <td>0.953861</td>\n",
       "      <td>0.006979</td>\n",
       "      <td>0.003564</td>\n",
       "      <td>0.909851</td>\n",
       "      <td>0.998430</td>\n",
       "      <td>SEKER</td>\n",
       "    </tr>\n",
       "    <tr>\n",
       "      <th>2</th>\n",
       "      <td>29380</td>\n",
       "      <td>624.110</td>\n",
       "      <td>212.826130</td>\n",
       "      <td>175.931143</td>\n",
       "      <td>1.209713</td>\n",
       "      <td>0.562727</td>\n",
       "      <td>29690</td>\n",
       "      <td>193.410904</td>\n",
       "      <td>0.778113</td>\n",
       "      <td>0.989559</td>\n",
       "      <td>0.947849</td>\n",
       "      <td>0.908774</td>\n",
       "      <td>0.007244</td>\n",
       "      <td>0.003048</td>\n",
       "      <td>0.825871</td>\n",
       "      <td>0.999066</td>\n",
       "      <td>SEKER</td>\n",
       "    </tr>\n",
       "    <tr>\n",
       "      <th>3</th>\n",
       "      <td>30008</td>\n",
       "      <td>645.884</td>\n",
       "      <td>210.557999</td>\n",
       "      <td>182.516516</td>\n",
       "      <td>1.153638</td>\n",
       "      <td>0.498616</td>\n",
       "      <td>30724</td>\n",
       "      <td>195.467062</td>\n",
       "      <td>0.782681</td>\n",
       "      <td>0.976696</td>\n",
       "      <td>0.903936</td>\n",
       "      <td>0.928329</td>\n",
       "      <td>0.007017</td>\n",
       "      <td>0.003215</td>\n",
       "      <td>0.861794</td>\n",
       "      <td>0.994199</td>\n",
       "      <td>SEKER</td>\n",
       "    </tr>\n",
       "    <tr>\n",
       "      <th>4</th>\n",
       "      <td>30140</td>\n",
       "      <td>620.134</td>\n",
       "      <td>201.847882</td>\n",
       "      <td>190.279279</td>\n",
       "      <td>1.060798</td>\n",
       "      <td>0.333680</td>\n",
       "      <td>30417</td>\n",
       "      <td>195.896503</td>\n",
       "      <td>0.773098</td>\n",
       "      <td>0.990893</td>\n",
       "      <td>0.984877</td>\n",
       "      <td>0.970516</td>\n",
       "      <td>0.006697</td>\n",
       "      <td>0.003665</td>\n",
       "      <td>0.941900</td>\n",
       "      <td>0.999166</td>\n",
       "      <td>SEKER</td>\n",
       "    </tr>\n",
       "  </tbody>\n",
       "</table>\n",
       "</div>"
      ],
      "text/plain": [
       "    Area  Perimeter  MajorAxisLength  MinorAxisLength  AspectRation  \\\n",
       "0  28395    610.291       208.178117       173.888747      1.197191   \n",
       "1  28734    638.018       200.524796       182.734419      1.097356   \n",
       "2  29380    624.110       212.826130       175.931143      1.209713   \n",
       "3  30008    645.884       210.557999       182.516516      1.153638   \n",
       "4  30140    620.134       201.847882       190.279279      1.060798   \n",
       "\n",
       "   Eccentricity  ConvexArea  EquivDiameter    Extent  Solidity  roundness  \\\n",
       "0      0.549812       28715     190.141097  0.763923  0.988856   0.958027   \n",
       "1      0.411785       29172     191.272750  0.783968  0.984986   0.887034   \n",
       "2      0.562727       29690     193.410904  0.778113  0.989559   0.947849   \n",
       "3      0.498616       30724     195.467062  0.782681  0.976696   0.903936   \n",
       "4      0.333680       30417     195.896503  0.773098  0.990893   0.984877   \n",
       "\n",
       "   Compactness  ShapeFactor1  ShapeFactor2  ShapeFactor3  ShapeFactor4  Class  \n",
       "0     0.913358      0.007332      0.003147      0.834222      0.998724  SEKER  \n",
       "1     0.953861      0.006979      0.003564      0.909851      0.998430  SEKER  \n",
       "2     0.908774      0.007244      0.003048      0.825871      0.999066  SEKER  \n",
       "3     0.928329      0.007017      0.003215      0.861794      0.994199  SEKER  \n",
       "4     0.970516      0.006697      0.003665      0.941900      0.999166  SEKER  "
      ]
     },
     "execution_count": 3,
     "metadata": {},
     "output_type": "execute_result"
    }
   ],
   "source": [
    "# Get a look at the data\n",
    "beanDF.head()"
   ]
  },
  {
   "cell_type": "code",
   "execution_count": 4,
   "id": "b99b5c15-9179-4180-a3f4-bf028a8ffa6b",
   "metadata": {},
   "outputs": [
    {
     "data": {
      "text/plain": [
       "(13611, 17)"
      ]
     },
     "execution_count": 4,
     "metadata": {},
     "output_type": "execute_result"
    }
   ],
   "source": [
    "# Look at the shape of the DataFrame\n",
    "beanDF.shape"
   ]
  },
  {
   "cell_type": "code",
   "execution_count": 5,
   "id": "feb6d40a-221d-41f5-81b5-70215e9812aa",
   "metadata": {},
   "outputs": [
    {
     "data": {
      "text/plain": [
       "Class\n",
       "DERMASON    3546\n",
       "SIRA        2636\n",
       "SEKER       2027\n",
       "HOROZ       1928\n",
       "CALI        1630\n",
       "BARBUNYA    1322\n",
       "BOMBAY       522\n",
       "dtype: int64"
      ]
     },
     "execution_count": 5,
     "metadata": {},
     "output_type": "execute_result"
    }
   ],
   "source": [
    "# See the relative numbers of each target category\n",
    "beanDF.value_counts('Class')"
   ]
  },
  {
   "cell_type": "markdown",
   "id": "b40337af-eb95-477a-ae81-6dafffcc1b5e",
   "metadata": {},
   "source": [
    "## Split Training and Testing Data"
   ]
  },
  {
   "cell_type": "code",
   "execution_count": 6,
   "id": "3f91aaac-4797-411c-820b-831b1d74f0ff",
   "metadata": {},
   "outputs": [],
   "source": [
    "# Load libraries\n",
    "import numpy as np\n",
    "from sklearn.preprocessing import LabelEncoder\n",
    "from sklearn.preprocessing import StandardScaler\n",
    "from sklearn.model_selection import train_test_split"
   ]
  },
  {
   "cell_type": "code",
   "execution_count": 7,
   "id": "f37d72e3-7e5d-4566-906c-4f86da86eccb",
   "metadata": {},
   "outputs": [],
   "source": [
    "# Set up features target sets\n",
    "X = beanDF[beanDF.columns[:-1]]\n",
    "y = beanDF.Class"
   ]
  },
  {
   "cell_type": "markdown",
   "id": "eced3a6c-a9e1-40cd-9a3b-757f1afb9270",
   "metadata": {},
   "source": [
    "Let's try this without encoding the target:"
   ]
  },
  {
   "cell_type": "code",
   "execution_count": 8,
   "id": "1bb3b9c7-ac92-4a12-9270-135516295de7",
   "metadata": {},
   "outputs": [],
   "source": [
    "# # Encode the target variables\n",
    "# le = LabelEncoder()\n",
    "# y = le.fit_transform(y)"
   ]
  },
  {
   "cell_type": "code",
   "execution_count": 9,
   "id": "922c1e29-0440-473a-a92f-87bd216267b2",
   "metadata": {},
   "outputs": [],
   "source": [
    "# Split the data\n",
    "X_train, X_test, y_train, y_test = train_test_split(X, y, test_size =0.3, \n",
    "                                                    random_state=42)"
   ]
  },
  {
   "cell_type": "code",
   "execution_count": 10,
   "id": "2813ca70-225b-4d1a-8e2e-2015b3d766f6",
   "metadata": {},
   "outputs": [],
   "source": [
    "# Standardize Features\n",
    "scaler = StandardScaler()\n",
    "X_train = scaler.fit_transform(X_train) \n",
    "X_test  = scaler.transform(X_test)"
   ]
  },
  {
   "cell_type": "code",
   "execution_count": null,
   "id": "18bbaae2-6c6a-4d1f-9b6a-11b7832520e8",
   "metadata": {},
   "outputs": [],
   "source": []
  },
  {
   "cell_type": "markdown",
   "id": "f4ec1b76-3c59-464b-9e27-91e4d5f4c52b",
   "metadata": {},
   "source": [
    "# Modeling"
   ]
  },
  {
   "cell_type": "markdown",
   "id": "9f4654bd-c394-4cfb-8a3b-d505a3adeb7f",
   "metadata": {},
   "source": [
    "Used GridSearchCV to find the best parameters for each modeling type"
   ]
  },
  {
   "cell_type": "code",
   "execution_count": 11,
   "id": "6f4d086f-c750-4f5a-a863-e7aae038f0e1",
   "metadata": {},
   "outputs": [],
   "source": [
    "models_dict = {}"
   ]
  },
  {
   "cell_type": "code",
   "execution_count": 12,
   "id": "5a798260-0cb6-4b9e-84b8-8678523d805c",
   "metadata": {},
   "outputs": [],
   "source": [
    "for key in models_dict:\n",
    "    print(key)\n",
    "    print(models_dict[k].score(X_test, y_test))"
   ]
  },
  {
   "cell_type": "markdown",
   "id": "88a09e5f-b008-48c4-a283-8bba9bf6cded",
   "metadata": {},
   "source": [
    "## Logistic Regression"
   ]
  },
  {
   "cell_type": "code",
   "execution_count": 13,
   "id": "aafaa903-fef0-4194-9ceb-5f513ac271b4",
   "metadata": {},
   "outputs": [],
   "source": [
    "# Load libraries\n",
    "from sklearn.linear_model import LogisticRegression"
   ]
  },
  {
   "cell_type": "code",
   "execution_count": 14,
   "id": "c2f7cc95-1996-4b17-b255-a150b6b62c39",
   "metadata": {},
   "outputs": [],
   "source": [
    "# Create logistic regression\n",
    "logistic = LogisticRegression(C=100000, \n",
    "                              multi_class='ovr', \n",
    "                              penalty='l2', \n",
    "                              solver='liblinear', \n",
    "                              class_weight='balanced', \n",
    "                              random_state=42, \n",
    "                              max_iter=200)"
   ]
  },
  {
   "cell_type": "code",
   "execution_count": 15,
   "id": "ef309fc5-cf48-45e3-ac24-b76bc977deaf",
   "metadata": {},
   "outputs": [
    {
     "name": "stdout",
     "output_type": "stream",
     "text": [
      "Wall time: 1.05 s\n"
     ]
    }
   ],
   "source": [
    "%%time\n",
    "models_dict['Logistic'] = logistic.fit(X_train, y_train)"
   ]
  },
  {
   "cell_type": "markdown",
   "id": "8cf2d65c-0e57-4b65-89c8-c2f315f3df2c",
   "metadata": {},
   "source": [
    "## Random Forest"
   ]
  },
  {
   "cell_type": "code",
   "execution_count": 16,
   "id": "725814fc-b72e-4020-9293-2b15eaf2cedd",
   "metadata": {},
   "outputs": [],
   "source": [
    "# Load libraries\n",
    "from sklearn.ensemble import RandomForestClassifier"
   ]
  },
  {
   "cell_type": "code",
   "execution_count": 17,
   "id": "d20a4b52-0f58-4c92-9921-ad1f6e6a2147",
   "metadata": {},
   "outputs": [],
   "source": [
    "# Create classifier\n",
    "rfclassifier = RandomForestClassifier(criterion='entropy', \n",
    "                                      max_features='sqrt', \n",
    "                                      n_estimators=100, \n",
    "                                      random_state=42,\n",
    "                                      class_weight='balanced', \n",
    "                                      n_jobs=-1)"
   ]
  },
  {
   "cell_type": "code",
   "execution_count": 18,
   "id": "1b00be16-cd0d-49a8-a1be-8d8a994872dd",
   "metadata": {},
   "outputs": [
    {
     "name": "stdout",
     "output_type": "stream",
     "text": [
      "Wall time: 1.44 s\n"
     ]
    }
   ],
   "source": [
    "%%time\n",
    "models_dict['RandomForest'] = rfclassifier.fit(X_train, y_train)"
   ]
  },
  {
   "cell_type": "markdown",
   "id": "1d570c8f-37d3-46f1-bba7-d64de8a37004",
   "metadata": {},
   "source": [
    "## Decision Tree"
   ]
  },
  {
   "cell_type": "code",
   "execution_count": 19,
   "id": "4a271722-2df9-4bbb-8f62-f3696cab0418",
   "metadata": {},
   "outputs": [],
   "source": [
    "# Load libraries\n",
    "from sklearn.tree import DecisionTreeClassifier"
   ]
  },
  {
   "cell_type": "code",
   "execution_count": 20,
   "id": "5eeb64c1-8295-45bc-aa9b-63efb36cc07e",
   "metadata": {},
   "outputs": [],
   "source": [
    "# Create decision tree regressor object\n",
    "decisiontree = DecisionTreeClassifier(criterion='entropy', \n",
    "                                      max_features='sqrt', \n",
    "                                      splitter='best', \n",
    "                                      random_state=42, \n",
    "                                      class_weight='balanced')"
   ]
  },
  {
   "cell_type": "code",
   "execution_count": 21,
   "id": "2d17063e-097a-40c6-b1fe-ac7e5d6c0a00",
   "metadata": {},
   "outputs": [
    {
     "name": "stdout",
     "output_type": "stream",
     "text": [
      "Wall time: 159 ms\n"
     ]
    }
   ],
   "source": [
    "%%time\n",
    "models_dict['DecisionTree'] = decisiontree.fit(X_train, y_train)"
   ]
  },
  {
   "cell_type": "markdown",
   "id": "0219904c-59e2-46e3-a49b-1a3c78f1dfe5",
   "metadata": {},
   "source": [
    "## AdaBoost"
   ]
  },
  {
   "cell_type": "code",
   "execution_count": 22,
   "id": "63e1fa61-55b5-4b16-97fc-80c8569db008",
   "metadata": {},
   "outputs": [],
   "source": [
    "# Load libraries\n",
    "from sklearn.ensemble import AdaBoostClassifier"
   ]
  },
  {
   "cell_type": "code",
   "execution_count": 23,
   "id": "690039d9-0f10-4e08-af25-63a56be8fa48",
   "metadata": {},
   "outputs": [],
   "source": [
    "# Create ...\n",
    "adaboost = AdaBoostClassifier(algorithm='SAMME', \n",
    "                              n_estimators=100, \n",
    "                              random_state=42)"
   ]
  },
  {
   "cell_type": "code",
   "execution_count": 24,
   "id": "a77fbf15-d02c-412c-87e3-a22ccea328ba",
   "metadata": {},
   "outputs": [
    {
     "name": "stdout",
     "output_type": "stream",
     "text": [
      "Wall time: 2.82 s\n"
     ]
    }
   ],
   "source": [
    "%%time\n",
    "models_dict['AdaBoost'] = adaboost.fit(X_train, y_train)"
   ]
  },
  {
   "cell_type": "markdown",
   "id": "f6e9672b-ca0a-4e32-83c7-b486b1a6a62e",
   "metadata": {},
   "source": [
    "## Support Vector Classifier (Linear)"
   ]
  },
  {
   "cell_type": "code",
   "execution_count": 25,
   "id": "7787d210-afcb-4ed0-bbed-bbd5b8164e85",
   "metadata": {},
   "outputs": [],
   "source": [
    "# Load libraries\n",
    "from sklearn.svm import LinearSVC"
   ]
  },
  {
   "cell_type": "code",
   "execution_count": 26,
   "id": "cc086da9-a3eb-4477-87d4-3d68259049e4",
   "metadata": {},
   "outputs": [],
   "source": [
    "# Create support vector classifier\n",
    "linSVC = LinearSVC(C=178, \n",
    "                   loss='hinge', \n",
    "                   multi_class='crammer_singer', \n",
    "                   penalty='l1', \n",
    "                   random_state=42, \n",
    "                   dual=False, \n",
    "                   class_weight='balanced', \n",
    "                   max_iter=1000000)"
   ]
  },
  {
   "cell_type": "code",
   "execution_count": 27,
   "id": "bfbe1143-d8bd-479c-98e1-1b7d4f2815a9",
   "metadata": {},
   "outputs": [
    {
     "name": "stdout",
     "output_type": "stream",
     "text": [
      "Wall time: 7.22 s\n"
     ]
    },
    {
     "name": "stderr",
     "output_type": "stream",
     "text": [
      "C:\\ProgramData\\Anaconda3\\lib\\site-packages\\sklearn\\svm\\_base.py:985: ConvergenceWarning: Liblinear failed to converge, increase the number of iterations.\n",
      "  warnings.warn(\"Liblinear failed to converge, increase \"\n"
     ]
    }
   ],
   "source": [
    "%%time\n",
    "models_dict['LinearSVC'] = linSVC.fit(X_train, y_train)"
   ]
  },
  {
   "cell_type": "markdown",
   "id": "7097451f-f295-42cc-9635-b9d4c1616c30",
   "metadata": {},
   "source": [
    "## Support Vector Classifier (SVC)"
   ]
  },
  {
   "cell_type": "code",
   "execution_count": 28,
   "id": "6b81faa6-d6dd-42c0-8e02-a2a6bdd9964d",
   "metadata": {},
   "outputs": [],
   "source": [
    "# Load libraries\n",
    "from sklearn.svm import SVC"
   ]
  },
  {
   "cell_type": "code",
   "execution_count": 29,
   "id": "9dbd852e-bf69-4fb3-8e9a-0e3e1aa85ab6",
   "metadata": {},
   "outputs": [],
   "source": [
    "# Create support vector classifier\n",
    "svc = SVC(C=32, \n",
    "          decision_function_shape='ovo', \n",
    "          gamma='scale', \n",
    "          kernel='rbf', \n",
    "          shrinking=True, \n",
    "          random_state=42, \n",
    "          class_weight='balanced', \n",
    "          max_iter=5000)"
   ]
  },
  {
   "cell_type": "code",
   "execution_count": 30,
   "id": "92b59b89-5d18-401c-ac87-103bdb2872a8",
   "metadata": {},
   "outputs": [
    {
     "name": "stdout",
     "output_type": "stream",
     "text": [
      "Wall time: 672 ms\n"
     ]
    }
   ],
   "source": [
    "%%time\n",
    "models_dict['SVC'] = svc.fit(X_train, y_train)"
   ]
  },
  {
   "cell_type": "code",
   "execution_count": null,
   "id": "f210a622-6a38-479c-b380-e9a45bd30e4d",
   "metadata": {},
   "outputs": [],
   "source": []
  },
  {
   "cell_type": "code",
   "execution_count": 31,
   "id": "2f625550-675c-4fa6-8e6b-9a9d80aa86d9",
   "metadata": {},
   "outputs": [
    {
     "name": "stdout",
     "output_type": "stream",
     "text": [
      "Logistic:\n",
      "  Accuracy: 92.36 %\n",
      "\n",
      "RandomForest:\n",
      "  Accuracy: 92.41 %\n",
      "\n",
      "DecisionTree:\n",
      "  Accuracy: 88.34 %\n",
      "\n",
      "AdaBoost:\n",
      "  Accuracy: 79.29 %\n",
      "\n",
      "LinearSVC:\n",
      "  Accuracy: 92.46 %\n",
      "\n",
      "SVC:\n",
      "  Accuracy: 93.22 %\n",
      "\n"
     ]
    }
   ],
   "source": [
    "for key in models_dict:\n",
    "    model = models_dict[key]\n",
    "    score = model.score(X_test, y_test)*100\n",
    "    print(f\"{key}:\")\n",
    "#     print(f\"  {model}\")\n",
    "    print(f\"  Accuracy: {round(score, 2)} %\\n\")\n",
    "    \n",
    "del(model, score)"
   ]
  },
  {
   "cell_type": "markdown",
   "id": "c962cde7-adfb-44d6-b7b0-4c8edc9d0fdc",
   "metadata": {},
   "source": [
    "## Neural Network - Keras"
   ]
  },
  {
   "cell_type": "code",
   "execution_count": 32,
   "id": "01cbe1cd-0963-442b-abb9-df25f0cff307",
   "metadata": {},
   "outputs": [],
   "source": [
    "# Load libraries\n",
    "import numpy as np\n",
    "from keras.models import Sequential\n",
    "from keras.layers import Dense\n",
    "# from keras.wrappers.scikit_learn import KerasClassifier\n",
    "# from sklearn.model_selection import GridSearchCV\n",
    "# from sklearn.datasets import make_classification"
   ]
  },
  {
   "cell_type": "code",
   "execution_count": 33,
   "id": "4cf766ae-b7a9-43da-ae00-6dd83312b2e2",
   "metadata": {},
   "outputs": [],
   "source": [
    "# Encode the target variables\n",
    "le = LabelEncoder()\n",
    "le.fit(y)\n",
    "\n",
    "le_y_train = le.transform(y_train)\n",
    "le_y_test  = le.transform(y_test)\n",
    "\n",
    "from keras.utils.np_utils import to_categorical\n",
    "cat_y_train = to_categorical(le_y_train)\n",
    "cat_y_test  = to_categorical(le_y_test)"
   ]
  },
  {
   "cell_type": "code",
   "execution_count": 34,
   "id": "8601bf85-5b46-4d28-8789-fb971768cae5",
   "metadata": {},
   "outputs": [],
   "source": [
    "# Set the number of features\n",
    "number_of_features = 16\n",
    "\n",
    "# Start neural network\n",
    "network = Sequential()\n",
    "\n",
    "# Add fully connected layer w/a ReLU activation function\n",
    "network.add(Dense(units=100, activation='relu', \n",
    "                  input_shape=(number_of_features,)))\n",
    "\n",
    "# Add fully connected layer w/a ReLU activation function\n",
    "network.add(Dense(units=100, activation='relu'))\n",
    "\n",
    "# Add fully connected layer w/a softmax activation function\n",
    "network.add(Dense(units=7, activation='softmax'))\n",
    "\n",
    "# Compile neural network\n",
    "network.compile(loss='categorical_crossentropy', \n",
    "                optimizer='adam', \n",
    "                metrics=['accuracy'])"
   ]
  },
  {
   "cell_type": "code",
   "execution_count": 35,
   "id": "9ef463b8-f368-4a3a-9766-be3bd500bf88",
   "metadata": {},
   "outputs": [
    {
     "name": "stdout",
     "output_type": "stream",
     "text": [
      "Epoch 1/10\n",
      "1906/1906 [==============================] - 4s 2ms/step - loss: 0.4400 - accuracy: 0.8551 - val_loss: 0.2297 - val_accuracy: 0.9165\n",
      "Epoch 2/10\n",
      "1906/1906 [==============================] - 3s 2ms/step - loss: 0.2161 - accuracy: 0.9196 - val_loss: 0.2206 - val_accuracy: 0.9202\n",
      "Epoch 3/10\n",
      "1906/1906 [==============================] - 3s 1ms/step - loss: 0.1989 - accuracy: 0.9287 - val_loss: 0.2005 - val_accuracy: 0.9251\n",
      "Epoch 4/10\n",
      "1906/1906 [==============================] - 3s 1ms/step - loss: 0.1922 - accuracy: 0.9278 - val_loss: 0.1931 - val_accuracy: 0.9287\n",
      "Epoch 5/10\n",
      "1906/1906 [==============================] - 4s 2ms/step - loss: 0.1905 - accuracy: 0.9315 - val_loss: 0.1948 - val_accuracy: 0.9307\n",
      "Epoch 6/10\n",
      "1906/1906 [==============================] - 4s 2ms/step - loss: 0.1948 - accuracy: 0.9238 - val_loss: 0.2106 - val_accuracy: 0.9231\n",
      "Epoch 7/10\n",
      "1906/1906 [==============================] - 4s 2ms/step - loss: 0.1886 - accuracy: 0.9308 - val_loss: 0.2060 - val_accuracy: 0.9273\n",
      "Epoch 8/10\n",
      "1906/1906 [==============================] - 4s 2ms/step - loss: 0.1923 - accuracy: 0.9274 - val_loss: 0.2017 - val_accuracy: 0.9241\n",
      "Epoch 9/10\n",
      "1906/1906 [==============================] - 4s 2ms/step - loss: 0.1986 - accuracy: 0.9289 - val_loss: 0.1893 - val_accuracy: 0.9334\n",
      "Epoch 10/10\n",
      "1906/1906 [==============================] - 4s 2ms/step - loss: 0.1867 - accuracy: 0.9267 - val_loss: 0.1957 - val_accuracy: 0.9270\n",
      "Wall time: 35.5 s\n"
     ]
    }
   ],
   "source": [
    "%%time\n",
    "# Train neural network\n",
    "history = network.fit(X_train, cat_y_train, \n",
    "                      epochs=10, \n",
    "                      verbose=1, \n",
    "                      batch_size=5, \n",
    "                      validation_data=(X_test, cat_y_test))"
   ]
  },
  {
   "cell_type": "code",
   "execution_count": 36,
   "id": "393d9946-6698-460f-85af-cfe78c149d15",
   "metadata": {},
   "outputs": [
    {
     "name": "stdout",
     "output_type": "stream",
     "text": [
      "Epoch 1/10\n",
      "96/96 [==============================] - 0s 4ms/step - loss: 0.1648 - accuracy: 0.9371 - val_loss: 0.1835 - val_accuracy: 0.9334\n",
      "Epoch 2/10\n",
      "96/96 [==============================] - 0s 3ms/step - loss: 0.1607 - accuracy: 0.9378 - val_loss: 0.1837 - val_accuracy: 0.9332\n",
      "Epoch 3/10\n",
      "96/96 [==============================] - 0s 3ms/step - loss: 0.1595 - accuracy: 0.9391 - val_loss: 0.1842 - val_accuracy: 0.9336\n",
      "Epoch 4/10\n",
      "96/96 [==============================] - 0s 3ms/step - loss: 0.1587 - accuracy: 0.9400 - val_loss: 0.1834 - val_accuracy: 0.9336\n",
      "Epoch 5/10\n",
      "96/96 [==============================] - 0s 3ms/step - loss: 0.1582 - accuracy: 0.9386 - val_loss: 0.1834 - val_accuracy: 0.9341\n",
      "Epoch 6/10\n",
      "96/96 [==============================] - 0s 3ms/step - loss: 0.1581 - accuracy: 0.9402 - val_loss: 0.1832 - val_accuracy: 0.9344\n",
      "Epoch 7/10\n",
      "96/96 [==============================] - 0s 4ms/step - loss: 0.1573 - accuracy: 0.9400 - val_loss: 0.1835 - val_accuracy: 0.9334\n",
      "Epoch 8/10\n",
      "96/96 [==============================] - 0s 4ms/step - loss: 0.1567 - accuracy: 0.9401 - val_loss: 0.1827 - val_accuracy: 0.9346\n",
      "Epoch 9/10\n",
      "96/96 [==============================] - 0s 5ms/step - loss: 0.1566 - accuracy: 0.9401 - val_loss: 0.1834 - val_accuracy: 0.9341\n",
      "Epoch 10/10\n",
      "96/96 [==============================] - 0s 5ms/step - loss: 0.1563 - accuracy: 0.9410 - val_loss: 0.1826 - val_accuracy: 0.9349\n",
      "Wall time: 3.71 s\n"
     ]
    }
   ],
   "source": [
    "%%time\n",
    "# Train neural network\n",
    "history = network.fit(X_train, cat_y_train, \n",
    "                      epochs=10, \n",
    "                      verbose=1, \n",
    "                      batch_size=100, \n",
    "                      validation_data=(X_test, cat_y_test))"
   ]
  },
  {
   "cell_type": "code",
   "execution_count": 37,
   "id": "21091003-5322-4a78-ba2b-89d48c7725a8",
   "metadata": {},
   "outputs": [
    {
     "name": "stdout",
     "output_type": "stream",
     "text": [
      "Epoch 1/3\n",
      "96/96 [==============================] - 1s 8ms/step - loss: 0.1558 - accuracy: 0.9408 - val_loss: 0.1825 - val_accuracy: 0.9327\n",
      "Epoch 2/3\n",
      "96/96 [==============================] - 0s 4ms/step - loss: 0.1555 - accuracy: 0.9417 - val_loss: 0.1828 - val_accuracy: 0.9346\n",
      "Epoch 3/3\n",
      "96/96 [==============================] - 1s 9ms/step - loss: 0.1551 - accuracy: 0.9413 - val_loss: 0.1835 - val_accuracy: 0.9329\n",
      "Wall time: 2.22 s\n"
     ]
    }
   ],
   "source": [
    "%%time\n",
    "# Train neural network\n",
    "history = network.fit(X_train, cat_y_train, \n",
    "                      epochs=3, \n",
    "                      verbose=1, \n",
    "                      batch_size=100, \n",
    "                      validation_data=(X_test, cat_y_test))"
   ]
  },
  {
   "cell_type": "code",
   "execution_count": 38,
   "id": "305a0abe-5313-4650-82dd-2819fc76c66f",
   "metadata": {},
   "outputs": [
    {
     "name": "stdout",
     "output_type": "stream",
     "text": [
      "Epoch 1/15\n",
      "1906/1906 [==============================] - 6s 3ms/step - loss: 0.1860 - accuracy: 0.9317 - val_loss: 0.2041 - val_accuracy: 0.9246\n",
      "Epoch 2/15\n",
      "1906/1906 [==============================] - 4s 2ms/step - loss: 0.1797 - accuracy: 0.9330 - val_loss: 0.1969 - val_accuracy: 0.9283\n",
      "Epoch 3/15\n",
      "1906/1906 [==============================] - 4s 2ms/step - loss: 0.1734 - accuracy: 0.9344 - val_loss: 0.2057 - val_accuracy: 0.9263\n",
      "Epoch 4/15\n",
      "1906/1906 [==============================] - 4s 2ms/step - loss: 0.1754 - accuracy: 0.9341 - val_loss: 0.1909 - val_accuracy: 0.9324\n",
      "Epoch 5/15\n",
      "1906/1906 [==============================] - 4s 2ms/step - loss: 0.1756 - accuracy: 0.9340 - val_loss: 0.1886 - val_accuracy: 0.9319\n",
      "Epoch 6/15\n",
      "1906/1906 [==============================] - 4s 2ms/step - loss: 0.1708 - accuracy: 0.9335 - val_loss: 0.1915 - val_accuracy: 0.9317\n",
      "Epoch 7/15\n",
      "1906/1906 [==============================] - 4s 2ms/step - loss: 0.1704 - accuracy: 0.9350 - val_loss: 0.1959 - val_accuracy: 0.9273\n",
      "Epoch 8/15\n",
      "1906/1906 [==============================] - 4s 2ms/step - loss: 0.1658 - accuracy: 0.9343 - val_loss: 0.1992 - val_accuracy: 0.9287\n",
      "Epoch 9/15\n",
      "1906/1906 [==============================] - 4s 2ms/step - loss: 0.1672 - accuracy: 0.9357 - val_loss: 0.1995 - val_accuracy: 0.9319\n",
      "Epoch 10/15\n",
      "1906/1906 [==============================] - 5s 2ms/step - loss: 0.1683 - accuracy: 0.9358 - val_loss: 0.1994 - val_accuracy: 0.9283\n",
      "Epoch 11/15\n",
      "1906/1906 [==============================] - 5s 2ms/step - loss: 0.1638 - accuracy: 0.9367 - val_loss: 0.1928 - val_accuracy: 0.9275\n",
      "Epoch 12/15\n",
      "1906/1906 [==============================] - 4s 2ms/step - loss: 0.1617 - accuracy: 0.9379 - val_loss: 0.1939 - val_accuracy: 0.9324\n",
      "Epoch 13/15\n",
      "1906/1906 [==============================] - 4s 2ms/step - loss: 0.1614 - accuracy: 0.9373 - val_loss: 0.2029 - val_accuracy: 0.9280\n",
      "Epoch 14/15\n",
      "1906/1906 [==============================] - 4s 2ms/step - loss: 0.1620 - accuracy: 0.9364 - val_loss: 0.1984 - val_accuracy: 0.9322\n",
      "Epoch 15/15\n",
      "1906/1906 [==============================] - 4s 2ms/step - loss: 0.1598 - accuracy: 0.9363 - val_loss: 0.1926 - val_accuracy: 0.9336\n",
      "Wall time: 1min 6s\n"
     ]
    }
   ],
   "source": [
    "%%time\n",
    "# Train neural network\n",
    "history = network.fit(X_train, cat_y_train, \n",
    "                      epochs=15, \n",
    "                      verbose=1, \n",
    "                      batch_size=5, \n",
    "                      validation_data=(X_test, cat_y_test))"
   ]
  },
  {
   "cell_type": "code",
   "execution_count": 39,
   "id": "43d5e908-7c0b-41a7-8600-a81f647bfbcd",
   "metadata": {},
   "outputs": [],
   "source": [
    "import matplotlib.pyplot as plt"
   ]
  },
  {
   "cell_type": "code",
   "execution_count": 41,
   "id": "db2c3d8e-ad43-42a6-b084-3a984cf65642",
   "metadata": {},
   "outputs": [
    {
     "data": {
      "text/plain": [
       "[0.18596811592578888,\n",
       " 0.17974944412708282,\n",
       " 0.1734195053577423,\n",
       " 0.17535348236560822,\n",
       " 0.17557331919670105,\n",
       " 0.1707533597946167,\n",
       " 0.17040491104125977,\n",
       " 0.16584059596061707,\n",
       " 0.16720788180828094,\n",
       " 0.16825035214424133,\n",
       " 0.1637977659702301,\n",
       " 0.16167618334293365,\n",
       " 0.1614389270544052,\n",
       " 0.16201506555080414,\n",
       " 0.15979735553264618]"
      ]
     },
     "execution_count": 41,
     "metadata": {},
     "output_type": "execute_result"
    }
   ],
   "source": [
    "history.history['loss']"
   ]
  },
  {
   "cell_type": "code",
   "execution_count": 45,
   "id": "f5f4cb6a-5fc9-4be9-a792-b7b708b15b99",
   "metadata": {},
   "outputs": [
    {
     "data": {
      "image/png": "[encoded data removed]",
      "text/plain": [
       "<Figure size 432x288 with 1 Axes>"
      ]
     },
     "metadata": {
      "needs_background": "light"
     },
     "output_type": "display_data"
    }
   ],
   "source": [
    "# Create count of the number of epochs\n",
    "epoch_count = range(1, len(history.history[\"accuracy\"]) + 1)\n",
    "\n",
    "# Get training and test accuracy histories\n",
    "training_accuracy = history.history[\"accuracy\"]\n",
    "test_accuracy = history.history[\"val_accuracy\"]\n",
    "plt.plot(epoch_count, training_accuracy, \"r--\")\n",
    "plt.plot(epoch_count, test_accuracy, \"b-\")\n",
    "\n",
    "# Visualize accuracy history\n",
    "plt.legend([\"Training Accuracy\", \"Test Accuracy\"])\n",
    "plt.xlabel(\"Epoch\")\n",
    "plt.ylabel(\"Accuracy Score\")\n",
    "plt.show();"
   ]
  },
  {
   "cell_type": "code",
   "execution_count": 46,
   "id": "1357ea9f-b2e4-459d-a8fd-83d1c39c0ffd",
   "metadata": {},
   "outputs": [
    {
     "data": {
      "image/png": "[encoded data removed]",
      "text/plain": [
       "<Figure size 432x288 with 1 Axes>"
      ]
     },
     "metadata": {
      "needs_background": "light"
     },
     "output_type": "display_data"
    }
   ],
   "source": [
    "# Get training and test loss histories\n",
    "training_loss = history.history[\"loss\"]\n",
    "test_loss = history.history[\"val_loss\"]\n",
    "\n",
    "# Create count of the number of epochs\n",
    "epoch_count = range(1, len(training_loss) + 1)\n",
    "\n",
    "# Visualize loss history\n",
    "plt.plot(epoch_count, training_loss, \"r--\")\n",
    "plt.plot(epoch_count, test_loss, \"b-\")\n",
    "plt.legend([\"Training Loss\", \"Test Loss\"])\n",
    "plt.xlabel(\"Epoch\")\n",
    "plt.ylabel(\"Loss\")\n",
    "plt.show();"
   ]
  },
  {
   "cell_type": "code",
   "execution_count": 48,
   "id": "a02b0a33-f1b4-49bf-a875-8ab02ce07d29",
   "metadata": {},
   "outputs": [],
   "source": [
    "from keras.callbacks import EarlyStopping, ModelCheckpoint"
   ]
  },
  {
   "cell_type": "code",
   "execution_count": 49,
   "id": "5926ad0f-4b7f-41f8-b4e9-22dcc68c1846",
   "metadata": {},
   "outputs": [
    {
     "name": "stdout",
     "output_type": "stream",
     "text": [
      "Epoch 1/15\n",
      "1906/1906 [==============================] - 4s 2ms/step - loss: 0.1576 - accuracy: 0.9377 - val_loss: 0.1941 - val_accuracy: 0.9307\n",
      "Epoch 2/15\n",
      "1906/1906 [==============================] - 4s 2ms/step - loss: 0.1543 - accuracy: 0.9410 - val_loss: 0.2063 - val_accuracy: 0.9253\n",
      "Epoch 3/15\n",
      "1906/1906 [==============================] - 4s 2ms/step - loss: 0.1547 - accuracy: 0.9404 - val_loss: 0.2208 - val_accuracy: 0.9273\n",
      "Epoch 4/15\n",
      "1906/1906 [==============================] - 3s 2ms/step - loss: 0.1529 - accuracy: 0.9406 - val_loss: 0.2127 - val_accuracy: 0.9297\n",
      "Epoch 5/15\n",
      "1906/1906 [==============================] - 3s 2ms/step - loss: 0.1521 - accuracy: 0.9405 - val_loss: 0.2230 - val_accuracy: 0.9292\n",
      "Wall time: 18.1 s\n"
     ]
    }
   ],
   "source": [
    "%%time\n",
    "# Set callback functions to early stop training and save the best model so far\n",
    "callbacks = [EarlyStopping(monitor=\"val_loss\", patience=4),\n",
    "             ModelCheckpoint(filepath=\"best_model.h5\",\n",
    "                             monitor=\"val_loss\",\n",
    "                             save_best_only=True)]\n",
    "\n",
    "# Train neural network\n",
    "history = network.fit(X_train, cat_y_train, \n",
    "                      epochs=15, \n",
    "                      callbacks=callbacks,\n",
    "                      verbose=1, \n",
    "                      batch_size=5, \n",
    "                      validation_data=(X_test, cat_y_test))"
   ]
  },
  {
   "cell_type": "code",
   "execution_count": 50,
   "id": "fae31bc8-631b-40a4-972d-1277498b842e",
   "metadata": {},
   "outputs": [
    {
     "data": {
      "image/png": "[encoded data removed]",
      "text/plain": [
       "<Figure size 432x288 with 1 Axes>"
      ]
     },
     "metadata": {
      "needs_background": "light"
     },
     "output_type": "display_data"
    }
   ],
   "source": [
    "# Get training and test loss histories\n",
    "training_loss = history.history[\"loss\"]\n",
    "test_loss = history.history[\"val_loss\"]\n",
    "\n",
    "# Create count of the number of epochs\n",
    "epoch_count = range(1, len(training_loss) + 1)\n",
    "\n",
    "# Visualize loss history\n",
    "plt.plot(epoch_count, training_loss, \"r--\")\n",
    "plt.plot(epoch_count, test_loss, \"b-\")\n",
    "plt.legend([\"Training Loss\", \"Test Loss\"])\n",
    "plt.xlabel(\"Epoch\")\n",
    "plt.ylabel(\"Loss\")\n",
    "plt.show()"
   ]
  },
  {
   "cell_type": "markdown",
   "id": "b2c5e8ac-9226-4cf5-b31b-78c2b14c61c6",
   "metadata": {},
   "source": [
    "### 20.10 Reducing Overfitting with Dropout"
   ]
  },
  {
   "cell_type": "code",
   "execution_count": 51,
   "id": "041ad41b-552a-4b31-aa99-7aa88b6b7be3",
   "metadata": {},
   "outputs": [],
   "source": [
    "from keras.layers import Dropout"
   ]
  },
  {
   "cell_type": "code",
   "execution_count": 52,
   "id": "bcfae739-e122-4db6-bb75-bc791efe8baf",
   "metadata": {},
   "outputs": [],
   "source": [
    "# Set the number of features\n",
    "number_of_features = 16\n",
    "\n",
    "# Start neural network\n",
    "network = Sequential()\n",
    "\n",
    "# Add a dropout layer for input layer\n",
    "network.add(Dropout(0.2, input_shape=(number_of_features,)))\n",
    "\n",
    "# Add fully connected layer w/a ReLU activation function\n",
    "network.add(Dense(units=100, activation='relu'))\n",
    "\n",
    "# Add a dropout layer for previous hidden layer\n",
    "network.add(Dropout(0.5))\n",
    "\n",
    "# Add fully connected layer w/a ReLU activation function\n",
    "network.add(Dense(units=100, activation='relu'))\n",
    "\n",
    "# Add a dropout layer for previous hidden layer\n",
    "network.add(Dropout(0.5))\n",
    "\n",
    "# Add fully connected layer w/a softmax activation function\n",
    "network.add(Dense(units=7, activation='softmax'))\n",
    "\n",
    "# Compile neural network\n",
    "network.compile(loss='categorical_crossentropy', \n",
    "                optimizer='adam', \n",
    "                metrics=['accuracy'])"
   ]
  },
  {
   "cell_type": "code",
   "execution_count": 53,
   "id": "7e4a80ca-8c9d-4570-97cd-68a5c8149a4f",
   "metadata": {},
   "outputs": [
    {
     "name": "stdout",
     "output_type": "stream",
     "text": [
      "Epoch 1/15\n",
      "1906/1906 [==============================] - 8s 4ms/step - loss: 0.9865 - accuracy: 0.6325 - val_loss: 0.2728 - val_accuracy: 0.9055\n",
      "Epoch 2/15\n",
      "1906/1906 [==============================] - 5s 2ms/step - loss: 0.4996 - accuracy: 0.8257 - val_loss: 0.2341 - val_accuracy: 0.9158\n",
      "Epoch 3/15\n",
      "1906/1906 [==============================] - 4s 2ms/step - loss: 0.4293 - accuracy: 0.8570 - val_loss: 0.2296 - val_accuracy: 0.9141\n",
      "Epoch 4/15\n",
      "1906/1906 [==============================] - 4s 2ms/step - loss: 0.3905 - accuracy: 0.8612 - val_loss: 0.2180 - val_accuracy: 0.9212\n",
      "Epoch 5/15\n",
      "1906/1906 [==============================] - 4s 2ms/step - loss: 0.4029 - accuracy: 0.8589 - val_loss: 0.2285 - val_accuracy: 0.9207\n",
      "Epoch 6/15\n",
      "1906/1906 [==============================] - 4s 2ms/step - loss: 0.3669 - accuracy: 0.8677 - val_loss: 0.2186 - val_accuracy: 0.9212\n",
      "Epoch 7/15\n",
      "1906/1906 [==============================] - 4s 2ms/step - loss: 0.3472 - accuracy: 0.8794 - val_loss: 0.2224 - val_accuracy: 0.9197\n",
      "Epoch 8/15\n",
      "1906/1906 [==============================] - 4s 2ms/step - loss: 0.3677 - accuracy: 0.8701 - val_loss: 0.2380 - val_accuracy: 0.9153\n",
      "Epoch 9/15\n",
      "1906/1906 [==============================] - 4s 2ms/step - loss: 0.3792 - accuracy: 0.8649 - val_loss: 0.2294 - val_accuracy: 0.9143\n",
      "Epoch 10/15\n",
      "1906/1906 [==============================] - 4s 2ms/step - loss: 0.3651 - accuracy: 0.8703 - val_loss: 0.2283 - val_accuracy: 0.9194\n",
      "Epoch 11/15\n",
      "1906/1906 [==============================] - 4s 2ms/step - loss: 0.3557 - accuracy: 0.8771 - val_loss: 0.2447 - val_accuracy: 0.9114\n",
      "Epoch 12/15\n",
      "1906/1906 [==============================] - 4s 2ms/step - loss: 0.3280 - accuracy: 0.8907 - val_loss: 0.2202 - val_accuracy: 0.9231\n",
      "Epoch 13/15\n",
      "1906/1906 [==============================] - 4s 2ms/step - loss: 0.3585 - accuracy: 0.8796 - val_loss: 0.2271 - val_accuracy: 0.9221\n",
      "Epoch 14/15\n",
      "1906/1906 [==============================] - 4s 2ms/step - loss: 0.3442 - accuracy: 0.8780 - val_loss: 0.2152 - val_accuracy: 0.9202\n",
      "Epoch 15/15\n",
      "1906/1906 [==============================] - 4s 2ms/step - loss: 0.3489 - accuracy: 0.8836 - val_loss: 0.2148 - val_accuracy: 0.9256\n",
      "Wall time: 1min 5s\n"
     ]
    }
   ],
   "source": [
    "%%time\n",
    "# Train neural network\n",
    "history = network.fit(X_train, cat_y_train, \n",
    "                      epochs=15, \n",
    "#                       callbacks=callbacks,\n",
    "                      verbose=1, \n",
    "                      batch_size=5, \n",
    "                      validation_data=(X_test, cat_y_test))"
   ]
  },
  {
   "cell_type": "code",
   "execution_count": 54,
   "id": "7b217886-a994-450d-906f-321bd1b95d8c",
   "metadata": {},
   "outputs": [
    {
     "data": {
      "image/png": "[encoded data removed]",
      "text/plain": [
       "<Figure size 432x288 with 1 Axes>"
      ]
     },
     "metadata": {
      "needs_background": "light"
     },
     "output_type": "display_data"
    }
   ],
   "source": [
    "# Get training and test loss histories\n",
    "training_loss = history.history[\"loss\"]\n",
    "test_loss = history.history[\"val_loss\"]\n",
    "\n",
    "# Create count of the number of epochs\n",
    "epoch_count = range(1, len(training_loss) + 1)\n",
    "\n",
    "# Visualize loss history\n",
    "plt.plot(epoch_count, training_loss, \"r--\")\n",
    "plt.plot(epoch_count, test_loss, \"b-\")\n",
    "plt.legend([\"Training Loss\", \"Test Loss\"])\n",
    "plt.xlabel(\"Epoch\")\n",
    "plt.ylabel(\"Loss\")\n",
    "plt.show();"
   ]
  },
  {
   "cell_type": "code",
   "execution_count": 55,
   "id": "535ad8fb-46f3-4337-b21b-8e49c6ff2f0a",
   "metadata": {},
   "outputs": [
    {
     "data": {
      "image/png": "[encoded data removed]",
      "text/plain": [
       "<Figure size 432x288 with 1 Axes>"
      ]
     },
     "metadata": {
      "needs_background": "light"
     },
     "output_type": "display_data"
    }
   ],
   "source": [
    "# Get training and test accuracy histories\n",
    "training_accuracy = history.history[\"accuracy\"]\n",
    "test_accuracy = history.history[\"val_accuracy\"]\n",
    "plt.plot(epoch_count, training_accuracy, \"r--\")\n",
    "plt.plot(epoch_count, test_accuracy, \"b-\")\n",
    "\n",
    "# Visualize accuracy history\n",
    "plt.legend([\"Training Accuracy\", \"Test Accuracy\"])\n",
    "plt.xlabel(\"Epoch\")\n",
    "plt.ylabel(\"Accuracy Score\")\n",
    "plt.show();"
   ]
  },
  {
   "cell_type": "code",
   "execution_count": null,
   "id": "d30c2c44-50d4-4c5d-bdb3-4aaa07522cdd",
   "metadata": {},
   "outputs": [],
   "source": []
  },
  {
   "cell_type": "code",
   "execution_count": null,
   "id": "e9cbe9c0-7967-45c4-beee-30728f23c9fa",
   "metadata": {},
   "outputs": [],
   "source": []
  },
  {
   "cell_type": "markdown",
   "id": "87887c65-0555-493b-8b18-dd7c2c44e6d0",
   "metadata": {},
   "source": [
    "## MLPClassifier"
   ]
  },
  {
   "cell_type": "code",
   "execution_count": 56,
   "id": "2399eb71-dd35-4e9f-b2ff-91c2315ee30a",
   "metadata": {},
   "outputs": [],
   "source": [
    "# Load libraries\n",
    "from sklearn.neural_network import MLPClassifier"
   ]
  },
  {
   "cell_type": "code",
   "execution_count": 57,
   "id": "82c1946a-f281-406c-a8b4-16b9457a4916",
   "metadata": {},
   "outputs": [],
   "source": [
    "# Create an instance of the model\n",
    "mlp = MLPClassifier(hidden_layer_sizes=(30,30,30))"
   ]
  },
  {
   "cell_type": "code",
   "execution_count": 58,
   "id": "b35021fa-cc9e-4f14-bd44-fed57623e85f",
   "metadata": {},
   "outputs": [
    {
     "name": "stdout",
     "output_type": "stream",
     "text": [
      "Wall time: 9.06 s\n"
     ]
    },
    {
     "name": "stderr",
     "output_type": "stream",
     "text": [
      "C:\\ProgramData\\Anaconda3\\lib\\site-packages\\sklearn\\neural_network\\_multilayer_perceptron.py:614: ConvergenceWarning: Stochastic Optimizer: Maximum iterations (200) reached and the optimization hasn't converged yet.\n",
      "  warnings.warn(\n"
     ]
    },
    {
     "data": {
      "text/plain": [
       "MLPClassifier(hidden_layer_sizes=(30, 30, 30))"
      ]
     },
     "execution_count": 58,
     "metadata": {},
     "output_type": "execute_result"
    }
   ],
   "source": [
    "%%time\n",
    "# Fit training data to the model\n",
    "mlp.fit(X_train,y_train)"
   ]
  },
  {
   "cell_type": "markdown",
   "id": "844dcd13-1d70-45ad-beaf-ed8e7f88d828",
   "metadata": {},
   "source": [
    "### Evaluate model performance"
   ]
  },
  {
   "cell_type": "code",
   "execution_count": 59,
   "id": "cc3679ed-4eae-4108-87ba-0986f9fed1cd",
   "metadata": {},
   "outputs": [],
   "source": [
    "# Load libraries\n",
    "from sklearn.metrics import classification_report, confusion_matrix"
   ]
  },
  {
   "cell_type": "code",
   "execution_count": 60,
   "id": "fb28d75f-7c58-4c89-ae5b-ed060b89bb2c",
   "metadata": {},
   "outputs": [],
   "source": [
    "# Get predictions\n",
    "predictions = mlp.predict(X_test)"
   ]
  },
  {
   "cell_type": "code",
   "execution_count": 61,
   "id": "0e76ae60-b4ff-48ec-b6b8-6dbba00787f4",
   "metadata": {},
   "outputs": [
    {
     "name": "stdout",
     "output_type": "stream",
     "text": [
      "[[364   0  22   0   1   2   6]\n",
      " [  0 161   0   0   0   0   0]\n",
      " [ 12   0 456   0   5   2   4]\n",
      " [  0   0   0 979   0   8  56]\n",
      " [  3   0   8   7 555   0  15]\n",
      " [  5   0   0  17   0 586  11]\n",
      " [  1   0   0  68   4   6 720]]\n"
     ]
    }
   ],
   "source": [
    "# Confusion matrix\n",
    "print(confusion_matrix(y_test, predictions))"
   ]
  },
  {
   "cell_type": "code",
   "execution_count": 62,
   "id": "ef8a23fd-7c3a-4590-a4ef-8bffbe6c0cb2",
   "metadata": {},
   "outputs": [
    {
     "name": "stdout",
     "output_type": "stream",
     "text": [
      "              precision    recall  f1-score   support\n",
      "\n",
      "    BARBUNYA       0.95      0.92      0.93       395\n",
      "      BOMBAY       1.00      1.00      1.00       161\n",
      "        CALI       0.94      0.95      0.95       479\n",
      "    DERMASON       0.91      0.94      0.93      1043\n",
      "       HOROZ       0.98      0.94      0.96       588\n",
      "       SEKER       0.97      0.95      0.96       619\n",
      "        SIRA       0.89      0.90      0.89       799\n",
      "\n",
      "    accuracy                           0.94      4084\n",
      "   macro avg       0.95      0.94      0.95      4084\n",
      "weighted avg       0.94      0.94      0.94      4084\n",
      "\n"
     ]
    }
   ],
   "source": [
    "# Precision / Recall / F1\n",
    "print(classification_report(y_test, predictions))"
   ]
  },
  {
   "cell_type": "markdown",
   "id": "a632e292-6e93-48bb-8ff4-4ae914bbf816",
   "metadata": {},
   "source": [
    "### Let's tune this mamma-jamma"
   ]
  },
  {
   "cell_type": "markdown",
   "id": "4659f26f-1ac6-4a40-8bb6-832897cc20d0",
   "metadata": {},
   "source": [
    "Round 1: n_iter=10"
   ]
  },
  {
   "cell_type": "code",
   "execution_count": 192,
   "id": "fffd379d-e0b1-4a53-bcee-3ad954974a85",
   "metadata": {},
   "outputs": [
    {
     "name": "stdout",
     "output_type": "stream",
     "text": [
      "Best parameters found:\n",
      " {'activation': 'identity', 'alpha': 0.00030919300466654366, 'early_stopping': True, 'hidden_layer_sizes': (77, 73, 54), 'learning_rate': 'constant', 'solver': 'lbfgs'}\n"
     ]
    }
   ],
   "source": [
    "print('Best parameters found:\\n', rand_result.best_params_)"
   ]
  },
  {
   "cell_type": "code",
   "execution_count": 213,
   "id": "bef70309-86da-4e80-bbfc-80109450e1e9",
   "metadata": {},
   "outputs": [
    {
     "name": "stdout",
     "output_type": "stream",
     "text": [
      "              precision    recall  f1-score   support\n",
      "\n",
      "    BARBUNYA       0.92      0.91      0.92       395\n",
      "      BOMBAY       1.00      1.00      1.00       161\n",
      "        CALI       0.93      0.93      0.93       479\n",
      "    DERMASON       0.93      0.90      0.92      1043\n",
      "       HOROZ       0.97      0.95      0.96       588\n",
      "       SEKER       0.95      0.94      0.95       619\n",
      "        SIRA       0.84      0.90      0.87       799\n",
      "\n",
      "    accuracy                           0.92      4084\n",
      "   macro avg       0.94      0.93      0.93      4084\n",
      "weighted avg       0.92      0.92      0.92      4084\n",
      "\n"
     ]
    }
   ],
   "source": [
    "# Precision / Recall / F1\n",
    "print(classification_report(y_test, predictions))"
   ]
  },
  {
   "cell_type": "code",
   "execution_count": 215,
   "id": "7096ea9c-5fc6-4136-980c-6efad79124ea",
   "metadata": {},
   "outputs": [
    {
     "name": "stdout",
     "output_type": "stream",
     "text": [
      "Best parameters found:\n",
      " {'activation': 'relu', 'alpha': 0.00025131854655259604, 'early_stopping': True, 'hidden_layer_sizes': (67, 52, 75), 'learning_rate': 'constant', 'solver': 'adam'}\n"
     ]
    }
   ],
   "source": [
    "print('Best parameters found:\\n', rand_result.best_params_)"
   ]
  },
  {
   "cell_type": "code",
   "execution_count": 225,
   "id": "fa6a4a61-e73e-45d5-b8dd-c7ff247da0a3",
   "metadata": {},
   "outputs": [
    {
     "name": "stdout",
     "output_type": "stream",
     "text": [
      "              precision    recall  f1-score   support\n",
      "\n",
      "    BARBUNYA       0.93      0.92      0.93       395\n",
      "      BOMBAY       1.00      1.00      1.00       161\n",
      "        CALI       0.92      0.94      0.93       479\n",
      "    DERMASON       0.92      0.92      0.92      1043\n",
      "       HOROZ       0.97      0.94      0.96       588\n",
      "       SEKER       0.94      0.95      0.95       619\n",
      "        SIRA       0.89      0.89      0.89       799\n",
      "\n",
      "    accuracy                           0.93      4084\n",
      "   macro avg       0.94      0.94      0.94      4084\n",
      "weighted avg       0.93      0.93      0.93      4084\n",
      "\n"
     ]
    }
   ],
   "source": [
    "# Precision / Recall / F1\n",
    "print(classification_report(y_test, predictions))"
   ]
  },
  {
   "cell_type": "code",
   "execution_count": 227,
   "id": "6c5a76c6-af0e-4afd-b470-be57b69186cd",
   "metadata": {},
   "outputs": [
    {
     "name": "stdout",
     "output_type": "stream",
     "text": [
      "Best parameters found:\n",
      " {'activation': 'tanh', 'alpha': 0.0001865613092111918, 'early_stopping': True, 'hidden_layer_sizes': (66, 95, 70), 'learning_rate': 'invscaling', 'solver': 'adam'}\n"
     ]
    }
   ],
   "source": [
    "print('Best parameters found:\\n', rand_result.best_params_)"
   ]
  },
  {
   "cell_type": "code",
   "execution_count": 232,
   "id": "2c864e98-54c6-485a-97cb-26cef87f573e",
   "metadata": {},
   "outputs": [
    {
     "name": "stdout",
     "output_type": "stream",
     "text": [
      "              precision    recall  f1-score   support\n",
      "\n",
      "    BARBUNYA       0.92      0.92      0.92       395\n",
      "      BOMBAY       1.00      1.00      1.00       161\n",
      "        CALI       0.94      0.94      0.94       479\n",
      "    DERMASON       0.92      0.93      0.92      1043\n",
      "       HOROZ       0.97      0.95      0.96       588\n",
      "       SEKER       0.94      0.96      0.95       619\n",
      "        SIRA       0.89      0.88      0.89       799\n",
      "\n",
      "    accuracy                           0.93      4084\n",
      "   macro avg       0.94      0.94      0.94      4084\n",
      "weighted avg       0.93      0.93      0.93      4084\n",
      "\n"
     ]
    }
   ],
   "source": [
    "# Precision / Recall / F1\n",
    "print(classification_report(y_test, predictions))"
   ]
  },
  {
   "cell_type": "code",
   "execution_count": 65,
   "id": "e0794c31-2cfb-4b7f-87d8-49cf130ce97b",
   "metadata": {},
   "outputs": [
    {
     "data": {
      "text/plain": [
       "<scipy.stats._distn_infrastructure.rv_frozen at 0x1b44ead9880>"
      ]
     },
     "execution_count": 65,
     "metadata": {},
     "output_type": "execute_result"
    }
   ],
   "source": [
    "uniform(loc=0, scale=0.0005)"
   ]
  },
  {
   "cell_type": "code",
   "execution_count": 76,
   "id": "0c04d6be-cf78-40f3-ace0-73aaf76f4861",
   "metadata": {},
   "outputs": [
    {
     "data": {
      "text/plain": [
       "0.00047499752177814007"
      ]
     },
     "execution_count": 76,
     "metadata": {},
     "output_type": "execute_result"
    }
   ],
   "source": [
    "uniform(loc=0, scale=0.0005).rvs()"
   ]
  },
  {
   "cell_type": "code",
   "execution_count": null,
   "id": "f6a9845e-fba7-4849-b785-a8ef0bcf10ff",
   "metadata": {},
   "outputs": [],
   "source": []
  },
  {
   "cell_type": "code",
   "execution_count": 64,
   "id": "54f9c586-d5cb-4759-8431-671f12f955ea",
   "metadata": {},
   "outputs": [],
   "source": [
    "# Load libraries\n",
    "from sklearn.model_selection import GridSearchCV\n",
    "from sklearn.model_selection import RandomizedSearchCV\n",
    "from scipy.stats import uniform\n",
    "import random as rd"
   ]
  },
  {
   "cell_type": "code",
   "execution_count": 264,
   "id": "34eda3b9-186b-4dbc-924b-107ecec75829",
   "metadata": {},
   "outputs": [
    {
     "name": "stdout",
     "output_type": "stream",
     "text": [
      "Fitting 5 folds for each of 1000 candidates, totalling 5000 fits\n",
      "Wall time: 11h 34min\n"
     ]
    }
   ],
   "source": [
    "%%time\n",
    "mlp_gs = MLPClassifier(max_iter=5000)#, verbose=True)# max_iter=200, 300\n",
    "parameter_space = {\n",
    "    'hidden_layer_sizes': [#(rd.randint(10,100),), \n",
    "                           #(rd.randint(10,100), rd.randint(10,100)), \n",
    "                           (rd.randint(10,100), rd.randint(10,100), rd.randint(10,100))],\n",
    "    #[(30,), (30,30,30), (50,30), (100,)], #[(10,10,10), (20,20,20), (40,), (50, 30), (500, 150)],\n",
    "    'activation': ['relu', 'tanh', 'identity', 'logistic'], \n",
    "    'solver': ['adam', 'sgd', 'lbfgs'], \n",
    "    'alpha': uniform(loc=0, scale=0.0005),\n",
    "    'learning_rate': ['constant', 'adaptive', 'invscaling'], # only used when solver is 'sgd'\n",
    "    'early_stopping': [True],\n",
    "}\n",
    "rand = RandomizedSearchCV(mlp_gs, parameter_space, random_state=42, n_iter=1000, n_jobs=-1, cv=5)\n",
    "rand_result = rand.fit(X_train, y_train)"
   ]
  },
  {
   "cell_type": "code",
   "execution_count": 265,
   "id": "f087bc07-8f20-4100-9d5f-75dc55299899",
   "metadata": {},
   "outputs": [
    {
     "name": "stdout",
     "output_type": "stream",
     "text": [
      "Best parameters found:\n",
      " {'activation': 'relu', 'alpha': 0.00012435713629381495, 'early_stopping': True, 'hidden_layer_sizes': (44, 73, 61), 'learning_rate': 'invscaling', 'solver': 'adam'}\n"
     ]
    }
   ],
   "source": [
    "print('Best parameters found:\\n', rand_result.best_params_)"
   ]
  },
  {
   "cell_type": "markdown",
   "id": "c64ec119-3093-4b20-8a6b-a9c935ca0241",
   "metadata": {},
   "source": [
    "Note: 3.5 minutes for `n_iter=10`"
   ]
  },
  {
   "cell_type": "code",
   "execution_count": null,
   "id": "b74b4c63-935f-41cc-aa50-681385174e9d",
   "metadata": {},
   "outputs": [],
   "source": [
    "    "
   ]
  },
  {
   "cell_type": "code",
   "execution_count": null,
   "id": "4770a066-2e11-4ee1-ba51-fac97a4b778c",
   "metadata": {},
   "outputs": [],
   "source": []
  },
  {
   "cell_type": "code",
   "execution_count": 266,
   "id": "7dda373c-94e9-44ce-b1be-dd1f7fdfffc6",
   "metadata": {},
   "outputs": [],
   "source": [
    "# Create an instance of the model\n",
    "mlp = MLPClassifier(max_iter=5000, \n",
    "#                     verbose=True,\n",
    "                    activation='relu', \n",
    "                    alpha=0.00025,\n",
    "                    early_stopping=True,\n",
    "                    hidden_layer_sizes=(67,52,75),\n",
    "                    learning_rate='constant', \n",
    "                    solver='adam')"
   ]
  },
  {
   "cell_type": "code",
   "execution_count": 267,
   "id": "436e5470-ce55-4818-b82f-fb29ba6326f8",
   "metadata": {},
   "outputs": [
    {
     "name": "stdout",
     "output_type": "stream",
     "text": [
      "Wall time: 3.56 s\n"
     ]
    },
    {
     "data": {
      "text/plain": [
       "MLPClassifier(alpha=0.00025, early_stopping=True,\n",
       "              hidden_layer_sizes=(67, 52, 75), max_iter=5000)"
      ]
     },
     "execution_count": 267,
     "metadata": {},
     "output_type": "execute_result"
    }
   ],
   "source": [
    "%%time\n",
    "# Fit training data to the model\n",
    "mlp.fit(X_train,y_train)"
   ]
  },
  {
   "cell_type": "code",
   "execution_count": 268,
   "id": "037a3f8c-e3e4-4466-922f-bce236cf1b3b",
   "metadata": {},
   "outputs": [],
   "source": [
    "# Get predictions\n",
    "predictions = mlp.predict(X_test)"
   ]
  },
  {
   "cell_type": "code",
   "execution_count": 269,
   "id": "20b411c6-4577-446f-9af2-8f8d627aa3ed",
   "metadata": {},
   "outputs": [
    {
     "name": "stdout",
     "output_type": "stream",
     "text": [
      "[[364   0  24   0   1   2   4]\n",
      " [  0 161   0   0   0   0   0]\n",
      " [ 16   0 448   0   9   2   4]\n",
      " [  0   0   0 965   1  20  57]\n",
      " [  1   0   6   4 566   0  11]\n",
      " [  6   0   0  10   0 590  13]\n",
      " [  1   0   1  62  10   9 716]]\n"
     ]
    }
   ],
   "source": [
    "# Confusion matrix\n",
    "print(confusion_matrix(y_test, predictions))"
   ]
  },
  {
   "cell_type": "code",
   "execution_count": 270,
   "id": "80d2a34c-f53a-4125-9833-3a7a6e80000b",
   "metadata": {},
   "outputs": [
    {
     "name": "stdout",
     "output_type": "stream",
     "text": [
      "              precision    recall  f1-score   support\n",
      "\n",
      "    BARBUNYA       0.94      0.92      0.93       395\n",
      "      BOMBAY       1.00      1.00      1.00       161\n",
      "        CALI       0.94      0.94      0.94       479\n",
      "    DERMASON       0.93      0.93      0.93      1043\n",
      "       HOROZ       0.96      0.96      0.96       588\n",
      "       SEKER       0.95      0.95      0.95       619\n",
      "        SIRA       0.89      0.90      0.89       799\n",
      "\n",
      "    accuracy                           0.93      4084\n",
      "   macro avg       0.94      0.94      0.94      4084\n",
      "weighted avg       0.93      0.93      0.93      4084\n",
      "\n"
     ]
    }
   ],
   "source": [
    "# Precision / Recall / F1\n",
    "print(classification_report(y_test, predictions))"
   ]
  },
  {
   "cell_type": "code",
   "execution_count": null,
   "id": "20a014b6-215a-4f2e-ac58-975a7d5d4680",
   "metadata": {},
   "outputs": [],
   "source": []
  },
  {
   "cell_type": "code",
   "execution_count": 271,
   "id": "00c89a0a-c9d4-46a0-9c8e-25c01fa40ff4",
   "metadata": {},
   "outputs": [],
   "source": [
    "# Create an instance of the model\n",
    "mlp = MLPClassifier(max_iter=5000, \n",
    "#                     verbose=True,\n",
    "                    activation='relu', \n",
    "                    alpha=0.00019,\n",
    "                    early_stopping=True,\n",
    "                    hidden_layer_sizes=(66,95,70),\n",
    "                    learning_rate='invscaling', \n",
    "                    solver='adam')"
   ]
  },
  {
   "cell_type": "code",
   "execution_count": 272,
   "id": "1812677e-2641-47f8-8404-997120ccdb77",
   "metadata": {},
   "outputs": [
    {
     "name": "stdout",
     "output_type": "stream",
     "text": [
      "Wall time: 3.08 s\n"
     ]
    },
    {
     "data": {
      "text/plain": [
       "MLPClassifier(alpha=0.00019, early_stopping=True,\n",
       "              hidden_layer_sizes=(66, 95, 70), learning_rate='invscaling',\n",
       "              max_iter=5000)"
      ]
     },
     "execution_count": 272,
     "metadata": {},
     "output_type": "execute_result"
    }
   ],
   "source": [
    "%%time\n",
    "# Fit training data to the model\n",
    "mlp.fit(X_train,y_train)"
   ]
  },
  {
   "cell_type": "code",
   "execution_count": 273,
   "id": "eb1839f9-af3d-4f26-814d-ce96e1ad77ae",
   "metadata": {},
   "outputs": [],
   "source": [
    "# Get predictions\n",
    "predictions = mlp.predict(X_test)"
   ]
  },
  {
   "cell_type": "code",
   "execution_count": 274,
   "id": "30fba291-5a8a-42ad-ae27-f7439b0b4efe",
   "metadata": {},
   "outputs": [
    {
     "name": "stdout",
     "output_type": "stream",
     "text": [
      "[[369   0  21   0   0   1   4]\n",
      " [  0 161   0   0   0   0   0]\n",
      " [ 15   0 452   0   6   2   4]\n",
      " [  0   0   0 960   3  18  62]\n",
      " [  4   0   6   4 558   0  16]\n",
      " [  9   0   0  11   0 586  13]\n",
      " [  2   0   1  61   8   8 719]]\n"
     ]
    }
   ],
   "source": [
    "# Confusion matrix\n",
    "print(confusion_matrix(y_test, predictions))"
   ]
  },
  {
   "cell_type": "code",
   "execution_count": 275,
   "id": "5d4d68b9-b89c-4b35-94bf-77a15c6a8aca",
   "metadata": {},
   "outputs": [
    {
     "name": "stdout",
     "output_type": "stream",
     "text": [
      "              precision    recall  f1-score   support\n",
      "\n",
      "    BARBUNYA       0.92      0.93      0.93       395\n",
      "      BOMBAY       1.00      1.00      1.00       161\n",
      "        CALI       0.94      0.94      0.94       479\n",
      "    DERMASON       0.93      0.92      0.92      1043\n",
      "       HOROZ       0.97      0.95      0.96       588\n",
      "       SEKER       0.95      0.95      0.95       619\n",
      "        SIRA       0.88      0.90      0.89       799\n",
      "\n",
      "    accuracy                           0.93      4084\n",
      "   macro avg       0.94      0.94      0.94      4084\n",
      "weighted avg       0.93      0.93      0.93      4084\n",
      "\n"
     ]
    }
   ],
   "source": [
    "# Precision / Recall / F1\n",
    "print(classification_report(y_test, predictions))"
   ]
  },
  {
   "cell_type": "code",
   "execution_count": null,
   "id": "184180ea-e00c-4576-b370-805d06a929ce",
   "metadata": {},
   "outputs": [],
   "source": []
  },
  {
   "cell_type": "code",
   "execution_count": 276,
   "id": "91f5f419-7f11-4490-9eb6-baae24ed750e",
   "metadata": {},
   "outputs": [],
   "source": [
    "# Create an instance of the model\n",
    "mlp = MLPClassifier(max_iter=5000, \n",
    "#                     verbose=True,\n",
    "                    activation='relu', # default 'relu'\n",
    "#                     alpha=0.00019, # default 0.0001\n",
    "                    early_stopping=True,\n",
    "                    hidden_layer_sizes=(30,30,30), # default (100,)\n",
    "#                     learning_rate='invscaling', # default 'constant'\n",
    "                    solver='adam' # default 'adam'\n",
    "                   )"
   ]
  },
  {
   "cell_type": "code",
   "execution_count": 277,
   "id": "c63fd578-4d39-4073-ad68-b2d0163deae3",
   "metadata": {},
   "outputs": [
    {
     "name": "stdout",
     "output_type": "stream",
     "text": [
      "Iteration 1, loss = 1.46114635\n",
      "Validation score: 0.669465\n",
      "Iteration 2, loss = 0.71919209\n",
      "Validation score: 0.843652\n",
      "Iteration 3, loss = 0.39760944\n",
      "Validation score: 0.892970\n",
      "Iteration 4, loss = 0.29005685\n",
      "Validation score: 0.908709\n",
      "Iteration 5, loss = 0.24911067\n",
      "Validation score: 0.917104\n",
      "Iteration 6, loss = 0.23309563\n",
      "Validation score: 0.929696\n",
      "Iteration 7, loss = 0.22321319\n",
      "Validation score: 0.930745\n",
      "Iteration 8, loss = 0.21772076\n",
      "Validation score: 0.927597\n",
      "Iteration 9, loss = 0.21338108\n",
      "Validation score: 0.932844\n",
      "Iteration 10, loss = 0.20859646\n",
      "Validation score: 0.929696\n",
      "Iteration 11, loss = 0.20724808\n",
      "Validation score: 0.927597\n",
      "Iteration 12, loss = 0.20424257\n",
      "Validation score: 0.931794\n",
      "Iteration 13, loss = 0.20217029\n",
      "Validation score: 0.929696\n",
      "Iteration 14, loss = 0.20030702\n",
      "Validation score: 0.931794\n",
      "Iteration 15, loss = 0.19734959\n",
      "Validation score: 0.931794\n",
      "Iteration 16, loss = 0.19720704\n",
      "Validation score: 0.933893\n",
      "Iteration 17, loss = 0.19562307\n",
      "Validation score: 0.930745\n",
      "Iteration 18, loss = 0.19476063\n",
      "Validation score: 0.932844\n",
      "Iteration 19, loss = 0.19275405\n",
      "Validation score: 0.932844\n",
      "Iteration 20, loss = 0.19305786\n",
      "Validation score: 0.931794\n",
      "Iteration 21, loss = 0.19235963\n",
      "Validation score: 0.934942\n",
      "Iteration 22, loss = 0.19217203\n",
      "Validation score: 0.931794\n",
      "Iteration 23, loss = 0.19247086\n",
      "Validation score: 0.934942\n",
      "Iteration 24, loss = 0.18929242\n",
      "Validation score: 0.932844\n",
      "Iteration 25, loss = 0.18895564\n",
      "Validation score: 0.934942\n",
      "Iteration 26, loss = 0.18831911\n",
      "Validation score: 0.933893\n",
      "Iteration 27, loss = 0.18817190\n",
      "Validation score: 0.938090\n",
      "Iteration 28, loss = 0.18938731\n",
      "Validation score: 0.935992\n",
      "Iteration 29, loss = 0.18819508\n",
      "Validation score: 0.933893\n",
      "Iteration 30, loss = 0.18632992\n",
      "Validation score: 0.934942\n",
      "Iteration 31, loss = 0.18561748\n",
      "Validation score: 0.938090\n",
      "Iteration 32, loss = 0.18561375\n",
      "Validation score: 0.930745\n",
      "Iteration 33, loss = 0.18684054\n",
      "Validation score: 0.931794\n",
      "Iteration 34, loss = 0.18599356\n",
      "Validation score: 0.939140\n",
      "Iteration 35, loss = 0.18400805\n",
      "Validation score: 0.935992\n",
      "Iteration 36, loss = 0.18334011\n",
      "Validation score: 0.932844\n",
      "Iteration 37, loss = 0.18394719\n",
      "Validation score: 0.933893\n",
      "Iteration 38, loss = 0.18418326\n",
      "Validation score: 0.934942\n",
      "Iteration 39, loss = 0.18239959\n",
      "Validation score: 0.937041\n",
      "Iteration 40, loss = 0.18259745\n",
      "Validation score: 0.934942\n",
      "Iteration 41, loss = 0.18146434\n",
      "Validation score: 0.935992\n",
      "Iteration 42, loss = 0.18160937\n",
      "Validation score: 0.937041\n",
      "Iteration 43, loss = 0.18111073\n",
      "Validation score: 0.934942\n",
      "Iteration 44, loss = 0.18171294\n",
      "Validation score: 0.933893\n",
      "Iteration 45, loss = 0.18050757\n",
      "Validation score: 0.931794\n",
      "Validation score did not improve more than tol=0.000100 for 10 consecutive epochs. Stopping.\n",
      "Wall time: 1.85 s\n"
     ]
    },
    {
     "data": {
      "text/plain": [
       "MLPClassifier(early_stopping=True, hidden_layer_sizes=(30, 30, 30),\n",
       "              max_iter=5000, verbose=True)"
      ]
     },
     "execution_count": 277,
     "metadata": {},
     "output_type": "execute_result"
    }
   ],
   "source": [
    "%%time\n",
    "# Fit training data to the model\n",
    "mlp.fit(X_train,y_train)"
   ]
  },
  {
   "cell_type": "code",
   "execution_count": 278,
   "id": "f2308558-c815-41e2-be6d-12a9315f147c",
   "metadata": {},
   "outputs": [],
   "source": [
    "# Get predictions\n",
    "predictions = mlp.predict(X_test)"
   ]
  },
  {
   "cell_type": "code",
   "execution_count": 279,
   "id": "2250852c-60bc-43e5-aeac-0ae9b09291e9",
   "metadata": {},
   "outputs": [
    {
     "name": "stdout",
     "output_type": "stream",
     "text": [
      "[[365   0  23   0   0   1   6]\n",
      " [  0 161   0   0   0   0   0]\n",
      " [ 17   0 448   0   8   2   4]\n",
      " [  0   0   0 951   1  17  74]\n",
      " [  2   0   8   5 559   0  14]\n",
      " [  7   0   0  13   0 584  15]\n",
      " [  1   0   2  50   9   8 729]]\n"
     ]
    }
   ],
   "source": [
    "# Confusion matrix\n",
    "print(confusion_matrix(y_test, predictions))"
   ]
  },
  {
   "cell_type": "markdown",
   "id": "ec8d9226-757e-49ef-bda8-9e5a3073e4d1",
   "metadata": {},
   "source": [
    "Defaults:"
   ]
  },
  {
   "cell_type": "code",
   "execution_count": 280,
   "id": "989f9c9d-1934-413f-9353-859c3ebb6830",
   "metadata": {},
   "outputs": [
    {
     "name": "stdout",
     "output_type": "stream",
     "text": [
      "Best parameters found:\n",
      " {'activation': 'relu', 'alpha': 0.00012435713629381495, 'early_stopping': True, 'hidden_layer_sizes': (44, 73, 61), 'learning_rate': 'invscaling', 'solver': 'adam'}\n"
     ]
    }
   ],
   "source": [
    "print('Best parameters found:\\n', rand_result.best_params_)"
   ]
  },
  {
   "cell_type": "code",
   "execution_count": 281,
   "id": "8ab73d40-8a2a-4659-9633-c619f91af6d5",
   "metadata": {},
   "outputs": [
    {
     "name": "stdout",
     "output_type": "stream",
     "text": [
      "              precision    recall  f1-score   support\n",
      "\n",
      "    BARBUNYA       0.93      0.92      0.93       395\n",
      "      BOMBAY       1.00      1.00      1.00       161\n",
      "        CALI       0.93      0.94      0.93       479\n",
      "    DERMASON       0.93      0.91      0.92      1043\n",
      "       HOROZ       0.97      0.95      0.96       588\n",
      "       SEKER       0.95      0.94      0.95       619\n",
      "        SIRA       0.87      0.91      0.89       799\n",
      "\n",
      "    accuracy                           0.93      4084\n",
      "   macro avg       0.94      0.94      0.94      4084\n",
      "weighted avg       0.93      0.93      0.93      4084\n",
      "\n"
     ]
    }
   ],
   "source": [
    "# Precision / Recall / F1\n",
    "print(classification_report(y_test, predictions))"
   ]
  },
  {
   "cell_type": "code",
   "execution_count": 282,
   "id": "b86a424f-8fcf-42f2-a68e-328292e70e6e",
   "metadata": {},
   "outputs": [],
   "source": [
    "# Create an instance of the model\n",
    "mlp = MLPClassifier(max_iter=5000, \n",
    "#                     verbose=True,\n",
    "                    activation='relu', # default 'relu'\n",
    "#                     alpha=0.00019, # default 0.0001\n",
    "#                     early_stopping=True,\n",
    "#                     hidden_layer_sizes=(30,30,30), # default (100,)\n",
    "#                     learning_rate='invscaling', # default 'constant'\n",
    "                    solver='adam' # default 'adam'\n",
    "                   )"
   ]
  },
  {
   "cell_type": "code",
   "execution_count": 283,
   "id": "6adf17eb-84fe-40df-9241-025782fb0c22",
   "metadata": {},
   "outputs": [
    {
     "name": "stdout",
     "output_type": "stream",
     "text": [
      "Wall time: 27.6 s\n"
     ]
    },
    {
     "data": {
      "text/plain": [
       "MLPClassifier(max_iter=5000)"
      ]
     },
     "execution_count": 283,
     "metadata": {},
     "output_type": "execute_result"
    }
   ],
   "source": [
    "%%time\n",
    "# Fit training data to the model\n",
    "mlp.fit(X_train,y_train)"
   ]
  },
  {
   "cell_type": "code",
   "execution_count": 284,
   "id": "cf73a234-7784-44b2-8fef-498c7d61a6ff",
   "metadata": {},
   "outputs": [],
   "source": [
    "# Get predictions\n",
    "predictions = mlp.predict(X_test)"
   ]
  },
  {
   "cell_type": "code",
   "execution_count": 285,
   "id": "a605022a-cc93-4980-aab2-8b7e3a7a2c46",
   "metadata": {},
   "outputs": [
    {
     "name": "stdout",
     "output_type": "stream",
     "text": [
      "[[362   0  21   0   3   2   7]\n",
      " [  0 161   0   0   0   0   0]\n",
      " [ 14   0 453   0   6   3   3]\n",
      " [  0   0   0 950   2  13  78]\n",
      " [  3   0   5   6 562   0  12]\n",
      " [  7   0   0   7   0 590  15]\n",
      " [  2   0   0  49  11   5 732]]\n"
     ]
    }
   ],
   "source": [
    "# Confusion matrix\n",
    "print(confusion_matrix(y_test, predictions))"
   ]
  },
  {
   "cell_type": "markdown",
   "id": "90ebe105-d2e3-4e25-a638-66ddff847ae5",
   "metadata": {},
   "source": [
    "Defaults:"
   ]
  },
  {
   "cell_type": "code",
   "execution_count": 286,
   "id": "6c105da2-c91f-48a5-ab07-364a5569c671",
   "metadata": {},
   "outputs": [
    {
     "name": "stdout",
     "output_type": "stream",
     "text": [
      "              precision    recall  f1-score   support\n",
      "\n",
      "    BARBUNYA       0.93      0.92      0.92       395\n",
      "      BOMBAY       1.00      1.00      1.00       161\n",
      "        CALI       0.95      0.95      0.95       479\n",
      "    DERMASON       0.94      0.91      0.92      1043\n",
      "       HOROZ       0.96      0.96      0.96       588\n",
      "       SEKER       0.96      0.95      0.96       619\n",
      "        SIRA       0.86      0.92      0.89       799\n",
      "\n",
      "    accuracy                           0.93      4084\n",
      "   macro avg       0.94      0.94      0.94      4084\n",
      "weighted avg       0.93      0.93      0.93      4084\n",
      "\n"
     ]
    }
   ],
   "source": [
    "# Precision / Recall / F1\n",
    "print(classification_report(y_test, predictions))"
   ]
  },
  {
   "cell_type": "code",
   "execution_count": null,
   "id": "d5a53154-ab0d-4cff-abc3-b66f155d5f8a",
   "metadata": {},
   "outputs": [],
   "source": []
  },
  {
   "cell_type": "code",
   "execution_count": 287,
   "id": "5ed5838e-740d-4473-a2f6-067a316ff5dd",
   "metadata": {},
   "outputs": [],
   "source": [
    "# Create an instance of the model\n",
    "mlp = MLPClassifier(max_iter=5000, \n",
    "#                     verbose=True,\n",
    "                    activation='relu', \n",
    "                    alpha=0.00019,\n",
    "#                     early_stopping=True,\n",
    "                    hidden_layer_sizes=(66,95,70),\n",
    "                    learning_rate='invscaling', \n",
    "                    solver='adam')"
   ]
  },
  {
   "cell_type": "code",
   "execution_count": 288,
   "id": "469032e5-314e-48d8-9f98-9cee4d569fdf",
   "metadata": {},
   "outputs": [
    {
     "name": "stdout",
     "output_type": "stream",
     "text": [
      "Wall time: 33.9 s\n"
     ]
    },
    {
     "data": {
      "text/plain": [
       "MLPClassifier(alpha=0.00019, hidden_layer_sizes=(66, 95, 70),\n",
       "              learning_rate='invscaling', max_iter=5000)"
      ]
     },
     "execution_count": 288,
     "metadata": {},
     "output_type": "execute_result"
    }
   ],
   "source": [
    "%%time\n",
    "# Fit training data to the model\n",
    "mlp.fit(X_train,y_train)"
   ]
  },
  {
   "cell_type": "code",
   "execution_count": 289,
   "id": "775f4e4e-9062-4223-953f-3188349f45b5",
   "metadata": {},
   "outputs": [],
   "source": [
    "# Get predictions\n",
    "predictions = mlp.predict(X_test)"
   ]
  },
  {
   "cell_type": "code",
   "execution_count": 290,
   "id": "6c2cfe74-ef36-49ba-a207-8000fabb605d",
   "metadata": {},
   "outputs": [
    {
     "name": "stdout",
     "output_type": "stream",
     "text": [
      "[[367   0  16   0   2   1   9]\n",
      " [  0 161   0   0   0   0   0]\n",
      " [ 24   0 442   0   8   2   3]\n",
      " [  0   0   0 961   4  20  58]\n",
      " [  4   0   4   4 565   0  11]\n",
      " [  8   0   0  13   0 585  13]\n",
      " [  6   0   1  75  11  12 694]]\n"
     ]
    }
   ],
   "source": [
    "# Confusion matrix\n",
    "print(confusion_matrix(y_test, predictions))"
   ]
  },
  {
   "cell_type": "code",
   "execution_count": 291,
   "id": "f5f3b4f4-1a7f-445d-ab28-053a54a27491",
   "metadata": {},
   "outputs": [
    {
     "name": "stdout",
     "output_type": "stream",
     "text": [
      "              precision    recall  f1-score   support\n",
      "\n",
      "    BARBUNYA       0.90      0.93      0.91       395\n",
      "      BOMBAY       1.00      1.00      1.00       161\n",
      "        CALI       0.95      0.92      0.94       479\n",
      "    DERMASON       0.91      0.92      0.92      1043\n",
      "       HOROZ       0.96      0.96      0.96       588\n",
      "       SEKER       0.94      0.95      0.94       619\n",
      "        SIRA       0.88      0.87      0.87       799\n",
      "\n",
      "    accuracy                           0.92      4084\n",
      "   macro avg       0.94      0.94      0.94      4084\n",
      "weighted avg       0.92      0.92      0.92      4084\n",
      "\n"
     ]
    }
   ],
   "source": [
    "# Precision / Recall / F1\n",
    "print(classification_report(y_test, predictions))"
   ]
  },
  {
   "cell_type": "code",
   "execution_count": null,
   "id": "6ffd8fc2-2edf-49ef-8d0b-f2e34cf8377d",
   "metadata": {},
   "outputs": [],
   "source": []
  },
  {
   "cell_type": "markdown",
   "id": "1da7c92f-1945-424b-9fdc-2280de019eec",
   "metadata": {},
   "source": [
    "### Got some good starts from random search, now let's take those results and do a grid search"
   ]
  },
  {
   "cell_type": "code",
   "execution_count": 293,
   "id": "2a26f193-56b4-432f-82b0-0ec20691a9a0",
   "metadata": {},
   "outputs": [
    {
     "name": "stdout",
     "output_type": "stream",
     "text": [
      "Fitting 5 folds for each of 200 candidates, totalling 1000 fits\n",
      "Wall time: 5h 12min 3s\n"
     ]
    },
    {
     "data": {
      "text/plain": [
       "GridSearchCV(cv=5, estimator=MLPClassifier(max_iter=5000), n_jobs=-1,\n",
       "             param_grid={'activation': ['identity', 'relu'],\n",
       "                         'alpha': [0.0001, 0.00031, 0.00025, 0.00019, 0.00012],\n",
       "                         'early_stopping': [True],\n",
       "                         'hidden_layer_sizes': [(30, 30, 30), (77, 73, 54),\n",
       "                                                (67, 52, 75), (66, 95, 70),\n",
       "                                                (44, 73, 61)],\n",
       "                         'learning_rate': ['constant', 'invscaling'],\n",
       "                         'solver': ['lbfgs', 'adam']},\n",
       "             verbose=1)"
      ]
     },
     "execution_count": 293,
     "metadata": {},
     "output_type": "execute_result"
    }
   ],
   "source": [
    "%%time\n",
    "mlp_gs = MLPClassifier(max_iter=5000)\n",
    "parameter_space = {\n",
    "    'hidden_layer_sizes': [(30, 30, 30), (77, 73, 54), (67, 52, 75), (66, 95, 70), (44, 73, 61)],\n",
    "    'activation': ['identity', 'relu'],\n",
    "    'solver': ['lbfgs', 'adam'],\n",
    "    'alpha': [0.0001, 0.00031, 0.00025, 0.00019, 0.00012],\n",
    "    'learning_rate': ['constant', 'invscaling'],\n",
    "    'early_stopping': [True],\n",
    "}\n",
    "from sklearn.model_selection import GridSearchCV\n",
    "grid = GridSearchCV(mlp_gs, parameter_space, verbose=1, n_jobs=-1, cv=5)\n",
    "grid.fit(X_train, y_train) # X is train samples and y is the corresponding labels"
   ]
  },
  {
   "cell_type": "code",
   "execution_count": 294,
   "id": "ee2a31f6-6d1c-41f8-9af4-fc559c132a9e",
   "metadata": {},
   "outputs": [
    {
     "name": "stdout",
     "output_type": "stream",
     "text": [
      "Best parameters found:\n",
      " {'activation': 'relu', 'alpha': 0.00025, 'early_stopping': True, 'hidden_layer_sizes': (77, 73, 54), 'learning_rate': 'constant', 'solver': 'adam'}\n"
     ]
    }
   ],
   "source": [
    "print('Best parameters found:\\n', grid.best_params_)"
   ]
  },
  {
   "cell_type": "code",
   "execution_count": 295,
   "id": "a8461405-73ce-4d1f-af3a-92fc4acdc65b",
   "metadata": {},
   "outputs": [],
   "source": [
    "from win32com.client import Dispatch\n",
    "speak = Dispatch(\"SAPI.SpVoice\").Speak"
   ]
  },
  {
   "cell_type": "code",
   "execution_count": 296,
   "id": "1909deda-e365-48d8-ae07-708f01deaa68",
   "metadata": {},
   "outputs": [
    {
     "data": {
      "text/plain": [
       "1"
      ]
     },
     "execution_count": 296,
     "metadata": {},
     "output_type": "execute_result"
    }
   ],
   "source": [
    "speak(\"modeling complete\")"
   ]
  },
  {
   "cell_type": "code",
   "execution_count": null,
   "id": "bd5f9a31-10c4-4b04-9b7e-45eaf99e4228",
   "metadata": {},
   "outputs": [],
   "source": []
  },
  {
   "cell_type": "code",
   "execution_count": 299,
   "id": "cab05929-4cfc-4fbd-83b4-a2cf2389f4ab",
   "metadata": {},
   "outputs": [],
   "source": [
    "# Create an instance of the model\n",
    "mlp = MLPClassifier(max_iter=5000, \n",
    "#                     verbose=True,\n",
    "                    activation='relu', \n",
    "                    alpha=0.00025,\n",
    "#                     early_stopping=True,\n",
    "                    hidden_layer_sizes=(77, 73, 54),\n",
    "                    learning_rate='constant', \n",
    "                    solver='adam')"
   ]
  },
  {
   "cell_type": "code",
   "execution_count": 300,
   "id": "00b685c8-117e-4515-be3c-2986456d4265",
   "metadata": {},
   "outputs": [
    {
     "name": "stdout",
     "output_type": "stream",
     "text": [
      "Wall time: 46.9 s\n"
     ]
    },
    {
     "data": {
      "text/plain": [
       "MLPClassifier(alpha=0.00025, hidden_layer_sizes=(77, 73, 54), max_iter=5000)"
      ]
     },
     "execution_count": 300,
     "metadata": {},
     "output_type": "execute_result"
    }
   ],
   "source": [
    "%%time\n",
    "# Fit training data to the model\n",
    "mlp.fit(X_train,y_train)"
   ]
  },
  {
   "cell_type": "code",
   "execution_count": 301,
   "id": "8a549c55-6616-4e3b-9ccc-1d1eb52f0ad7",
   "metadata": {},
   "outputs": [],
   "source": [
    "# Get predictions\n",
    "predictions = mlp.predict(X_test)"
   ]
  },
  {
   "cell_type": "code",
   "execution_count": 302,
   "id": "6e49deb8-c2ca-456f-a1fe-82781e52228a",
   "metadata": {},
   "outputs": [
    {
     "name": "stdout",
     "output_type": "stream",
     "text": [
      "[[364   0  17   1   3   0  10]\n",
      " [  0 161   0   0   0   0   0]\n",
      " [ 25   0 434   0  13   3   4]\n",
      " [  0   0   0 955   2  13  73]\n",
      " [  1   0   4   4 565   1  13]\n",
      " [  4   0   0  26   0 578  11]\n",
      " [  4   0   1  63   5  13 713]]\n"
     ]
    }
   ],
   "source": [
    "# Confusion matrix\n",
    "print(confusion_matrix(y_test, predictions))"
   ]
  },
  {
   "cell_type": "code",
   "execution_count": 303,
   "id": "98795799-777b-4018-a001-e0d59e8639c7",
   "metadata": {},
   "outputs": [
    {
     "name": "stdout",
     "output_type": "stream",
     "text": [
      "              precision    recall  f1-score   support\n",
      "\n",
      "    BARBUNYA       0.91      0.92      0.92       395\n",
      "      BOMBAY       1.00      1.00      1.00       161\n",
      "        CALI       0.95      0.91      0.93       479\n",
      "    DERMASON       0.91      0.92      0.91      1043\n",
      "       HOROZ       0.96      0.96      0.96       588\n",
      "       SEKER       0.95      0.93      0.94       619\n",
      "        SIRA       0.87      0.89      0.88       799\n",
      "\n",
      "    accuracy                           0.92      4084\n",
      "   macro avg       0.94      0.93      0.93      4084\n",
      "weighted avg       0.92      0.92      0.92      4084\n",
      "\n"
     ]
    }
   ],
   "source": [
    "# Precision / Recall / F1\n",
    "print(classification_report(y_test, predictions))"
   ]
  },
  {
   "cell_type": "code",
   "execution_count": 35,
   "id": "0369da13-6f78-4664-b01a-d160b8ecc923",
   "metadata": {},
   "outputs": [],
   "source": [
    "# Create an instance of the model\n",
    "mlp = MLPClassifier(max_iter=5000, \n",
    "#                     verbose=True,\n",
    "                    activation='relu', \n",
    "                    alpha=0.00025,\n",
    "                    early_stopping=True,\n",
    "                    hidden_layer_sizes=(77, 73, 54),\n",
    "                    learning_rate='constant', \n",
    "                    solver='adam')"
   ]
  },
  {
   "cell_type": "code",
   "execution_count": 36,
   "id": "ef39a4ef-9f33-4744-a36e-d2568404db38",
   "metadata": {},
   "outputs": [
    {
     "name": "stdout",
     "output_type": "stream",
     "text": [
      "Wall time: 3.82 s\n"
     ]
    },
    {
     "data": {
      "text/plain": [
       "MLPClassifier(alpha=0.00025, early_stopping=True,\n",
       "              hidden_layer_sizes=(77, 73, 54), max_iter=5000)"
      ]
     },
     "execution_count": 36,
     "metadata": {},
     "output_type": "execute_result"
    }
   ],
   "source": [
    "%%time\n",
    "# Fit training data to the model\n",
    "mlp.fit(X_train,y_train)"
   ]
  },
  {
   "cell_type": "code",
   "execution_count": 37,
   "id": "5344e153-ff76-4184-aa75-5e674bb792e5",
   "metadata": {},
   "outputs": [],
   "source": [
    "# Get predictions\n",
    "predictions = mlp.predict(X_test)"
   ]
  },
  {
   "cell_type": "code",
   "execution_count": 40,
   "id": "82874f84-e34c-44d3-af79-bcad85b983d5",
   "metadata": {},
   "outputs": [
    {
     "name": "stdout",
     "output_type": "stream",
     "text": [
      "[[367   0  21   0   0   2   5]\n",
      " [  0 161   0   0   0   0   0]\n",
      " [ 21   0 446   0   5   2   5]\n",
      " [  0   0   0 967   1  11  64]\n",
      " [  3   0   7   5 558   0  15]\n",
      " [  8   0   0  16   0 581  14]\n",
      " [  1   0   1  62   7   6 722]]\n"
     ]
    }
   ],
   "source": [
    "# Confusion matrix\n",
    "print(confusion_matrix(y_test, predictions))"
   ]
  },
  {
   "cell_type": "code",
   "execution_count": 41,
   "id": "f68c090c-e86b-44ad-a483-db3397cb5019",
   "metadata": {},
   "outputs": [
    {
     "name": "stdout",
     "output_type": "stream",
     "text": [
      "              precision    recall  f1-score   support\n",
      "\n",
      "    BARBUNYA       0.92      0.93      0.92       395\n",
      "      BOMBAY       1.00      1.00      1.00       161\n",
      "        CALI       0.94      0.93      0.94       479\n",
      "    DERMASON       0.92      0.93      0.92      1043\n",
      "       HOROZ       0.98      0.95      0.96       588\n",
      "       SEKER       0.97      0.94      0.95       619\n",
      "        SIRA       0.88      0.90      0.89       799\n",
      "\n",
      "    accuracy                           0.93      4084\n",
      "   macro avg       0.94      0.94      0.94      4084\n",
      "weighted avg       0.93      0.93      0.93      4084\n",
      "\n"
     ]
    }
   ],
   "source": [
    "# Precision / Recall / F1\n",
    "print(classification_report(y_test, predictions))"
   ]
  },
  {
   "cell_type": "code",
   "execution_count": null,
   "id": "c0442115-738d-4ced-aee8-eca803dd04bd",
   "metadata": {},
   "outputs": [],
   "source": []
  }
 ],
 "metadata": {
  "kernelspec": {
   "display_name": "Python 3",
   "language": "python",
   "name": "python3"
  },
  "language_info": {
   "codemirror_mode": {
    "name": "ipython",
    "version": 3
   },
   "file_extension": ".py",
   "mimetype": "text/x-python",
   "name": "python",
   "nbconvert_exporter": "python",
   "pygments_lexer": "ipython3",
   "version": "3.8.8"
  }
 },
 "nbformat": 4,
 "nbformat_minor": 5
}
