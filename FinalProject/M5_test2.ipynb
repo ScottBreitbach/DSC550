{
 "cells": [
  {
   "cell_type": "code",
   "execution_count": null,
   "id": "b44ee5ac-ecb1-427e-b49c-455ff0db6dd6",
   "metadata": {},
   "outputs": [],
   "source": []
  },
  {
   "cell_type": "code",
   "execution_count": 1,
   "id": "560a4d5b-3319-480a-a53c-6c831909e222",
   "metadata": {},
   "outputs": [
    {
     "name": "stderr",
     "output_type": "stream",
     "text": [
      "C:\\ProgramData\\Anaconda3\\lib\\site-packages\\numpy\\_distributor_init.py:30: UserWarning: loaded more than 1 DLL from .libs:\n",
      "C:\\ProgramData\\Anaconda3\\lib\\site-packages\\numpy\\.libs\\libopenblas.NOIJJG62EMASZI6NYURL6JBKM4EVBGM7.gfortran-win_amd64.dll\n",
      "C:\\ProgramData\\Anaconda3\\lib\\site-packages\\numpy\\.libs\\libopenblas.WCDJNK7YVMPZQ2ME2ZZHJJRJ3JIKNDB7.gfortran-win_amd64.dll\n",
      "  warnings.warn(\"loaded more than 1 DLL from .libs:\"\n"
     ]
    }
   ],
   "source": [
    "# Load Libraries\n",
    "import pandas as pd\n",
    "import numpy as np\n",
    "\n",
    "# Set random seed\n",
    "np.random.seed(42)"
   ]
  },
  {
   "cell_type": "markdown",
   "id": "2754ae7c-0a78-4059-aa00-cdfd869bdb62",
   "metadata": {},
   "source": [
    "### Load Data"
   ]
  },
  {
   "cell_type": "code",
   "execution_count": 2,
   "id": "604c4dc8-e05e-49d7-a267-1fc540b02eba",
   "metadata": {},
   "outputs": [],
   "source": [
    "# Load data to a DataFrame\n",
    "beanDF = pd.read_excel('DryBeanDataset/Dry_Bean_Dataset.xlsx')"
   ]
  },
  {
   "cell_type": "code",
   "execution_count": 3,
   "id": "a9e0ce7e-d136-4e5d-aa26-c1069eac9c4f",
   "metadata": {},
   "outputs": [
    {
     "data": {
      "text/html": [
       "<div>\n",
       "<style scoped>\n",
       "    .dataframe tbody tr th:only-of-type {\n",
       "        vertical-align: middle;\n",
       "    }\n",
       "\n",
       "    .dataframe tbody tr th {\n",
       "        vertical-align: top;\n",
       "    }\n",
       "\n",
       "    .dataframe thead th {\n",
       "        text-align: right;\n",
       "    }\n",
       "</style>\n",
       "<table border=\"1\" class=\"dataframe\">\n",
       "  <thead>\n",
       "    <tr style=\"text-align: right;\">\n",
       "      <th></th>\n",
       "      <th>Area</th>\n",
       "      <th>Perimeter</th>\n",
       "      <th>MajorAxisLength</th>\n",
       "      <th>MinorAxisLength</th>\n",
       "      <th>AspectRation</th>\n",
       "      <th>Eccentricity</th>\n",
       "      <th>ConvexArea</th>\n",
       "      <th>EquivDiameter</th>\n",
       "      <th>Extent</th>\n",
       "      <th>Solidity</th>\n",
       "      <th>roundness</th>\n",
       "      <th>Compactness</th>\n",
       "      <th>ShapeFactor1</th>\n",
       "      <th>ShapeFactor2</th>\n",
       "      <th>ShapeFactor3</th>\n",
       "      <th>ShapeFactor4</th>\n",
       "      <th>Class</th>\n",
       "    </tr>\n",
       "  </thead>\n",
       "  <tbody>\n",
       "    <tr>\n",
       "      <th>0</th>\n",
       "      <td>28395</td>\n",
       "      <td>610.291</td>\n",
       "      <td>208.178117</td>\n",
       "      <td>173.888747</td>\n",
       "      <td>1.197191</td>\n",
       "      <td>0.549812</td>\n",
       "      <td>28715</td>\n",
       "      <td>190.141097</td>\n",
       "      <td>0.763923</td>\n",
       "      <td>0.988856</td>\n",
       "      <td>0.958027</td>\n",
       "      <td>0.913358</td>\n",
       "      <td>0.007332</td>\n",
       "      <td>0.003147</td>\n",
       "      <td>0.834222</td>\n",
       "      <td>0.998724</td>\n",
       "      <td>SEKER</td>\n",
       "    </tr>\n",
       "    <tr>\n",
       "      <th>1</th>\n",
       "      <td>28734</td>\n",
       "      <td>638.018</td>\n",
       "      <td>200.524796</td>\n",
       "      <td>182.734419</td>\n",
       "      <td>1.097356</td>\n",
       "      <td>0.411785</td>\n",
       "      <td>29172</td>\n",
       "      <td>191.272750</td>\n",
       "      <td>0.783968</td>\n",
       "      <td>0.984986</td>\n",
       "      <td>0.887034</td>\n",
       "      <td>0.953861</td>\n",
       "      <td>0.006979</td>\n",
       "      <td>0.003564</td>\n",
       "      <td>0.909851</td>\n",
       "      <td>0.998430</td>\n",
       "      <td>SEKER</td>\n",
       "    </tr>\n",
       "    <tr>\n",
       "      <th>2</th>\n",
       "      <td>29380</td>\n",
       "      <td>624.110</td>\n",
       "      <td>212.826130</td>\n",
       "      <td>175.931143</td>\n",
       "      <td>1.209713</td>\n",
       "      <td>0.562727</td>\n",
       "      <td>29690</td>\n",
       "      <td>193.410904</td>\n",
       "      <td>0.778113</td>\n",
       "      <td>0.989559</td>\n",
       "      <td>0.947849</td>\n",
       "      <td>0.908774</td>\n",
       "      <td>0.007244</td>\n",
       "      <td>0.003048</td>\n",
       "      <td>0.825871</td>\n",
       "      <td>0.999066</td>\n",
       "      <td>SEKER</td>\n",
       "    </tr>\n",
       "    <tr>\n",
       "      <th>3</th>\n",
       "      <td>30008</td>\n",
       "      <td>645.884</td>\n",
       "      <td>210.557999</td>\n",
       "      <td>182.516516</td>\n",
       "      <td>1.153638</td>\n",
       "      <td>0.498616</td>\n",
       "      <td>30724</td>\n",
       "      <td>195.467062</td>\n",
       "      <td>0.782681</td>\n",
       "      <td>0.976696</td>\n",
       "      <td>0.903936</td>\n",
       "      <td>0.928329</td>\n",
       "      <td>0.007017</td>\n",
       "      <td>0.003215</td>\n",
       "      <td>0.861794</td>\n",
       "      <td>0.994199</td>\n",
       "      <td>SEKER</td>\n",
       "    </tr>\n",
       "    <tr>\n",
       "      <th>4</th>\n",
       "      <td>30140</td>\n",
       "      <td>620.134</td>\n",
       "      <td>201.847882</td>\n",
       "      <td>190.279279</td>\n",
       "      <td>1.060798</td>\n",
       "      <td>0.333680</td>\n",
       "      <td>30417</td>\n",
       "      <td>195.896503</td>\n",
       "      <td>0.773098</td>\n",
       "      <td>0.990893</td>\n",
       "      <td>0.984877</td>\n",
       "      <td>0.970516</td>\n",
       "      <td>0.006697</td>\n",
       "      <td>0.003665</td>\n",
       "      <td>0.941900</td>\n",
       "      <td>0.999166</td>\n",
       "      <td>SEKER</td>\n",
       "    </tr>\n",
       "  </tbody>\n",
       "</table>\n",
       "</div>"
      ],
      "text/plain": [
       "    Area  Perimeter  MajorAxisLength  MinorAxisLength  AspectRation  \\\n",
       "0  28395    610.291       208.178117       173.888747      1.197191   \n",
       "1  28734    638.018       200.524796       182.734419      1.097356   \n",
       "2  29380    624.110       212.826130       175.931143      1.209713   \n",
       "3  30008    645.884       210.557999       182.516516      1.153638   \n",
       "4  30140    620.134       201.847882       190.279279      1.060798   \n",
       "\n",
       "   Eccentricity  ConvexArea  EquivDiameter    Extent  Solidity  roundness  \\\n",
       "0      0.549812       28715     190.141097  0.763923  0.988856   0.958027   \n",
       "1      0.411785       29172     191.272750  0.783968  0.984986   0.887034   \n",
       "2      0.562727       29690     193.410904  0.778113  0.989559   0.947849   \n",
       "3      0.498616       30724     195.467062  0.782681  0.976696   0.903936   \n",
       "4      0.333680       30417     195.896503  0.773098  0.990893   0.984877   \n",
       "\n",
       "   Compactness  ShapeFactor1  ShapeFactor2  ShapeFactor3  ShapeFactor4  Class  \n",
       "0     0.913358      0.007332      0.003147      0.834222      0.998724  SEKER  \n",
       "1     0.953861      0.006979      0.003564      0.909851      0.998430  SEKER  \n",
       "2     0.908774      0.007244      0.003048      0.825871      0.999066  SEKER  \n",
       "3     0.928329      0.007017      0.003215      0.861794      0.994199  SEKER  \n",
       "4     0.970516      0.006697      0.003665      0.941900      0.999166  SEKER  "
      ]
     },
     "execution_count": 3,
     "metadata": {},
     "output_type": "execute_result"
    }
   ],
   "source": [
    "# Get a look at the data\n",
    "beanDF.head()"
   ]
  },
  {
   "cell_type": "code",
   "execution_count": 4,
   "id": "b99b5c15-9179-4180-a3f4-bf028a8ffa6b",
   "metadata": {},
   "outputs": [
    {
     "data": {
      "text/plain": [
       "(13611, 17)"
      ]
     },
     "execution_count": 4,
     "metadata": {},
     "output_type": "execute_result"
    }
   ],
   "source": [
    "# Look at the shape of the DataFrame\n",
    "beanDF.shape"
   ]
  },
  {
   "cell_type": "code",
   "execution_count": 5,
   "id": "feb6d40a-221d-41f5-81b5-70215e9812aa",
   "metadata": {},
   "outputs": [
    {
     "data": {
      "text/plain": [
       "Class\n",
       "DERMASON    3546\n",
       "SIRA        2636\n",
       "SEKER       2027\n",
       "HOROZ       1928\n",
       "CALI        1630\n",
       "BARBUNYA    1322\n",
       "BOMBAY       522\n",
       "dtype: int64"
      ]
     },
     "execution_count": 5,
     "metadata": {},
     "output_type": "execute_result"
    }
   ],
   "source": [
    "# See the relative numbers of each target category\n",
    "beanDF.value_counts('Class')"
   ]
  },
  {
   "cell_type": "markdown",
   "id": "b40337af-eb95-477a-ae81-6dafffcc1b5e",
   "metadata": {},
   "source": [
    "## Split Training and Testing Data"
   ]
  },
  {
   "cell_type": "code",
   "execution_count": 6,
   "id": "3f91aaac-4797-411c-820b-831b1d74f0ff",
   "metadata": {},
   "outputs": [],
   "source": [
    "# Load libraries\n",
    "import numpy as np\n",
    "from sklearn.preprocessing import LabelEncoder\n",
    "from sklearn.preprocessing import StandardScaler\n",
    "from sklearn.model_selection import train_test_split"
   ]
  },
  {
   "cell_type": "code",
   "execution_count": 7,
   "id": "f37d72e3-7e5d-4566-906c-4f86da86eccb",
   "metadata": {},
   "outputs": [],
   "source": [
    "# Set up features target sets\n",
    "X = beanDF[beanDF.columns[:-1]]\n",
    "y = beanDF.Class"
   ]
  },
  {
   "cell_type": "markdown",
   "id": "eced3a6c-a9e1-40cd-9a3b-757f1afb9270",
   "metadata": {},
   "source": [
    "Let's try this without encoding the target:"
   ]
  },
  {
   "cell_type": "code",
   "execution_count": 8,
   "id": "1bb3b9c7-ac92-4a12-9270-135516295de7",
   "metadata": {},
   "outputs": [],
   "source": [
    "# # Encode the target variables\n",
    "# le = LabelEncoder()\n",
    "# y = le.fit_transform(y)"
   ]
  },
  {
   "cell_type": "code",
   "execution_count": 9,
   "id": "922c1e29-0440-473a-a92f-87bd216267b2",
   "metadata": {},
   "outputs": [],
   "source": [
    "# Split the data\n",
    "X_train, X_test, y_train, y_test = train_test_split(X, y, test_size =0.3, \n",
    "                                                    random_state=42)"
   ]
  },
  {
   "cell_type": "code",
   "execution_count": 10,
   "id": "2813ca70-225b-4d1a-8e2e-2015b3d766f6",
   "metadata": {},
   "outputs": [],
   "source": [
    "# Standardize Features\n",
    "scaler = StandardScaler()\n",
    "X_train = scaler.fit_transform(X_train) \n",
    "X_test  = scaler.transform(X_test)"
   ]
  },
  {
   "cell_type": "code",
   "execution_count": null,
   "id": "18bbaae2-6c6a-4d1f-9b6a-11b7832520e8",
   "metadata": {},
   "outputs": [],
   "source": []
  },
  {
   "cell_type": "markdown",
   "id": "f4ec1b76-3c59-464b-9e27-91e4d5f4c52b",
   "metadata": {},
   "source": [
    "# Modeling"
   ]
  },
  {
   "cell_type": "markdown",
   "id": "9f4654bd-c394-4cfb-8a3b-d505a3adeb7f",
   "metadata": {},
   "source": [
    "Used GridSearchCV to find the best parameters for each modeling type"
   ]
  },
  {
   "cell_type": "code",
   "execution_count": 39,
   "id": "6f4d086f-c750-4f5a-a863-e7aae038f0e1",
   "metadata": {},
   "outputs": [],
   "source": [
    "models_dict = {}"
   ]
  },
  {
   "cell_type": "code",
   "execution_count": 40,
   "id": "5a798260-0cb6-4b9e-84b8-8678523d805c",
   "metadata": {},
   "outputs": [],
   "source": [
    "for k in models_dict:\n",
    "#     print(v.score(X_test, y_test))\n",
    "    print(k)\n",
    "    print(models_dict[k])"
   ]
  },
  {
   "cell_type": "markdown",
   "id": "88a09e5f-b008-48c4-a283-8bba9bf6cded",
   "metadata": {},
   "source": [
    "## Logistic Regression"
   ]
  },
  {
   "cell_type": "code",
   "execution_count": 41,
   "id": "aafaa903-fef0-4194-9ceb-5f513ac271b4",
   "metadata": {},
   "outputs": [],
   "source": [
    "# Load libraries\n",
    "from sklearn.linear_model import LogisticRegression"
   ]
  },
  {
   "cell_type": "code",
   "execution_count": 42,
   "id": "c2f7cc95-1996-4b17-b255-a150b6b62c39",
   "metadata": {},
   "outputs": [],
   "source": [
    "# Create logistic regression\n",
    "logistic = LogisticRegression(C=100000, \n",
    "                              multi_class='ovr', \n",
    "                              penalty='l2', \n",
    "                              solver='liblinear', \n",
    "                              class_weight='balanced', \n",
    "                              random_state=42, \n",
    "                              max_iter=200)"
   ]
  },
  {
   "cell_type": "code",
   "execution_count": 43,
   "id": "ef309fc5-cf48-45e3-ac24-b76bc977deaf",
   "metadata": {},
   "outputs": [
    {
     "name": "stdout",
     "output_type": "stream",
     "text": [
      "Wall time: 995 ms\n"
     ]
    }
   ],
   "source": [
    "%%time\n",
    "models_dict['Logistic'] = logistic.fit(X_train, y_train)"
   ]
  },
  {
   "cell_type": "markdown",
   "id": "8cf2d65c-0e57-4b65-89c8-c2f315f3df2c",
   "metadata": {},
   "source": [
    "## Random Forest"
   ]
  },
  {
   "cell_type": "code",
   "execution_count": 44,
   "id": "725814fc-b72e-4020-9293-2b15eaf2cedd",
   "metadata": {},
   "outputs": [],
   "source": [
    "# Load libraries\n",
    "from sklearn.ensemble import RandomForestClassifier"
   ]
  },
  {
   "cell_type": "code",
   "execution_count": 46,
   "id": "d20a4b52-0f58-4c92-9921-ad1f6e6a2147",
   "metadata": {},
   "outputs": [],
   "source": [
    "# Create classifier\n",
    "rfclassifier = RandomForestClassifier(criterion='entropy', \n",
    "                                      max_features='sqrt', \n",
    "                                      n_estimators=100, \n",
    "                                      random_state=42,\n",
    "                                      class_weight='balanced', \n",
    "                                      n_jobs=-1)"
   ]
  },
  {
   "cell_type": "code",
   "execution_count": 47,
   "id": "1b00be16-cd0d-49a8-a1be-8d8a994872dd",
   "metadata": {},
   "outputs": [
    {
     "name": "stdout",
     "output_type": "stream",
     "text": [
      "Wall time: 1.07 s\n"
     ]
    }
   ],
   "source": [
    "%%time\n",
    "models_dict['RandomForest'] = rfclassifier.fit(X_train, y_train)"
   ]
  },
  {
   "cell_type": "markdown",
   "id": "1d570c8f-37d3-46f1-bba7-d64de8a37004",
   "metadata": {},
   "source": [
    "## Decision Tree"
   ]
  },
  {
   "cell_type": "code",
   "execution_count": 50,
   "id": "4a271722-2df9-4bbb-8f62-f3696cab0418",
   "metadata": {},
   "outputs": [],
   "source": [
    "# Load libraries\n",
    "from sklearn.tree import DecisionTreeClassifier"
   ]
  },
  {
   "cell_type": "code",
   "execution_count": 51,
   "id": "5eeb64c1-8295-45bc-aa9b-63efb36cc07e",
   "metadata": {},
   "outputs": [],
   "source": [
    "# Create decision tree regressor object\n",
    "decisiontree = DecisionTreeClassifier(criterion='entropy', \n",
    "                                      max_features='sqrt', \n",
    "                                      splitter='best', \n",
    "                                      random_state=42, \n",
    "                                      class_weight='balanced')"
   ]
  },
  {
   "cell_type": "code",
   "execution_count": 52,
   "id": "2d17063e-097a-40c6-b1fe-ac7e5d6c0a00",
   "metadata": {},
   "outputs": [
    {
     "name": "stdout",
     "output_type": "stream",
     "text": [
      "Wall time: 101 ms\n"
     ]
    }
   ],
   "source": [
    "%%time\n",
    "models_dict['DecisionTree'] = decisiontree.fit(X_train, y_train)"
   ]
  },
  {
   "cell_type": "markdown",
   "id": "0219904c-59e2-46e3-a49b-1a3c78f1dfe5",
   "metadata": {},
   "source": [
    "## AdaBoost"
   ]
  },
  {
   "cell_type": "code",
   "execution_count": 53,
   "id": "63e1fa61-55b5-4b16-97fc-80c8569db008",
   "metadata": {},
   "outputs": [],
   "source": [
    "# Load libraries\n",
    "from sklearn.ensemble import AdaBoostClassifier"
   ]
  },
  {
   "cell_type": "code",
   "execution_count": 54,
   "id": "690039d9-0f10-4e08-af25-63a56be8fa48",
   "metadata": {},
   "outputs": [],
   "source": [
    "# Create ...\n",
    "adaboost = AdaBoostClassifier(algorithm='SAMME', \n",
    "                              n_estimators=100, \n",
    "                              random_state=42)"
   ]
  },
  {
   "cell_type": "code",
   "execution_count": 55,
   "id": "a77fbf15-d02c-412c-87e3-a22ccea328ba",
   "metadata": {},
   "outputs": [
    {
     "name": "stdout",
     "output_type": "stream",
     "text": [
      "Wall time: 2.54 s\n"
     ]
    }
   ],
   "source": [
    "%%time\n",
    "models_dict['AdaBoost'] = adaboost.fit(X_train, y_train)"
   ]
  },
  {
   "cell_type": "markdown",
   "id": "f6e9672b-ca0a-4e32-83c7-b486b1a6a62e",
   "metadata": {},
   "source": [
    "## Support Vector Classifier (Linear)"
   ]
  },
  {
   "cell_type": "code",
   "execution_count": 56,
   "id": "7787d210-afcb-4ed0-bbed-bbd5b8164e85",
   "metadata": {},
   "outputs": [],
   "source": [
    "# Load libraries\n",
    "from sklearn.svm import LinearSVC"
   ]
  },
  {
   "cell_type": "code",
   "execution_count": 59,
   "id": "cc086da9-a3eb-4477-87d4-3d68259049e4",
   "metadata": {},
   "outputs": [],
   "source": [
    "# Create support vector classifier\n",
    "linSVC = LinearSVC(C=178, \n",
    "                   loss='hinge', \n",
    "                   multi_class='crammer_singer', \n",
    "                   penalty='l1', \n",
    "                   random_state=42, \n",
    "                   dual=False, \n",
    "                   class_weight='balanced', \n",
    "                   max_iter=1000000)"
   ]
  },
  {
   "cell_type": "code",
   "execution_count": 60,
   "id": "bfbe1143-d8bd-479c-98e1-1b7d4f2815a9",
   "metadata": {},
   "outputs": [
    {
     "name": "stdout",
     "output_type": "stream",
     "text": [
      "Wall time: 5.96 s\n"
     ]
    }
   ],
   "source": [
    "%%time\n",
    "models_dict['LinearSVC'] = linSVC.fit(X_train, y_train)"
   ]
  },
  {
   "cell_type": "markdown",
   "id": "7097451f-f295-42cc-9635-b9d4c1616c30",
   "metadata": {},
   "source": [
    "## Support Vector Classifier (SVC)"
   ]
  },
  {
   "cell_type": "code",
   "execution_count": 61,
   "id": "6b81faa6-d6dd-42c0-8e02-a2a6bdd9964d",
   "metadata": {},
   "outputs": [],
   "source": [
    "# Load libraries\n",
    "from sklearn.svm import SVC"
   ]
  },
  {
   "cell_type": "code",
   "execution_count": 62,
   "id": "9dbd852e-bf69-4fb3-8e9a-0e3e1aa85ab6",
   "metadata": {},
   "outputs": [],
   "source": [
    "# Create support vector classifier\n",
    "svc = SVC(C=32, \n",
    "          decision_function_shape='ovo', \n",
    "          gamma='scale', \n",
    "          kernel='rbf', \n",
    "          shrinking=True, \n",
    "          random_state=42, \n",
    "          class_weight='balanced', \n",
    "          max_iter=5000)"
   ]
  },
  {
   "cell_type": "code",
   "execution_count": 64,
   "id": "92b59b89-5d18-401c-ac87-103bdb2872a8",
   "metadata": {},
   "outputs": [
    {
     "name": "stdout",
     "output_type": "stream",
     "text": [
      "Wall time: 629 ms\n"
     ]
    }
   ],
   "source": [
    "%%time\n",
    "models_dict['SVC'] = svc.fit(X_train, y_train)"
   ]
  },
  {
   "cell_type": "code",
   "execution_count": null,
   "id": "f210a622-6a38-479c-b380-e9a45bd30e4d",
   "metadata": {},
   "outputs": [],
   "source": []
  },
  {
   "cell_type": "code",
   "execution_count": 74,
   "id": "2f625550-675c-4fa6-8e6b-9a9d80aa86d9",
   "metadata": {},
   "outputs": [
    {
     "name": "stdout",
     "output_type": "stream",
     "text": [
      "Logistic:\n",
      "  Accuracy: 92.36 %\n",
      "\n",
      "RandomForest:\n",
      "  Accuracy: 92.41 %\n",
      "\n",
      "DecisionTree:\n",
      "  Accuracy: 88.34 %\n",
      "\n",
      "AdaBoost:\n",
      "  Accuracy: 79.29 %\n",
      "\n",
      "LinearSVC:\n",
      "  Accuracy: 92.46 %\n",
      "\n",
      "SVC:\n",
      "  Accuracy: 93.22 %\n",
      "\n"
     ]
    }
   ],
   "source": [
    "for key in models_dict:\n",
    "    model = models_dict[key]\n",
    "    score = model.score(X_test, y_test)*100\n",
    "    print(f\"{key}:\")\n",
    "#     print(f\"  {model}\")\n",
    "    print(f\"  Accuracy: {round(score, 2)} %\\n\")\n",
    "    \n",
    "del(model, score)"
   ]
  },
  {
   "cell_type": "code",
   "execution_count": null,
   "id": "961cd4a7-893f-45c0-af30-2a7ac431127f",
   "metadata": {},
   "outputs": [],
   "source": []
  }
 ],
 "metadata": {
  "kernelspec": {
   "display_name": "Python 3",
   "language": "python",
   "name": "python3"
  },
  "language_info": {
   "codemirror_mode": {
    "name": "ipython",
    "version": 3
   },
   "file_extension": ".py",
   "mimetype": "text/x-python",
   "name": "python",
   "nbconvert_exporter": "python",
   "pygments_lexer": "ipython3",
   "version": "3.8.8"
  }
 },
 "nbformat": 4,
 "nbformat_minor": 5
}
