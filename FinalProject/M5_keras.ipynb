{
 "cells": [
  {
   "cell_type": "code",
   "execution_count": null,
   "id": "51172050-209b-4ef4-a2ed-1f170be4352c",
   "metadata": {},
   "outputs": [],
   "source": []
  },
  {
   "cell_type": "markdown",
   "id": "79a831e2-e7e8-45c7-a316-884c1877c50c",
   "metadata": {},
   "source": [
    "# Hyperparameter Tuning"
   ]
  },
  {
   "cell_type": "code",
   "execution_count": 49,
   "id": "2a8bedc4-cb7a-4f53-863d-b5d249253146",
   "metadata": {},
   "outputs": [],
   "source": [
    "# Load Libraries\n",
    "import pandas as pd\n",
    "import numpy as np\n",
    "\n",
    "# Set random seed\n",
    "np.random.seed(42)"
   ]
  },
  {
   "cell_type": "markdown",
   "id": "2d25079e-7ea7-457b-971e-afe5d6e42325",
   "metadata": {},
   "source": [
    "### Load Data"
   ]
  },
  {
   "cell_type": "code",
   "execution_count": 50,
   "id": "70cca617-7c03-4571-ab93-a796e2464db5",
   "metadata": {},
   "outputs": [],
   "source": [
    "# Load data to a DataFrame\n",
    "beanDF = pd.read_excel('DryBeanDataset/Dry_Bean_Dataset.xlsx')"
   ]
  },
  {
   "cell_type": "code",
   "execution_count": 51,
   "id": "f32927fb-a14b-4b35-aeba-abb4f3cb90ca",
   "metadata": {},
   "outputs": [],
   "source": [
    "# Drop least useful features\n",
    "beanDF.drop(columns=['Extent', 'Solidity', 'Eccentricity', 'ShapeFactor3'], inplace=True)"
   ]
  },
  {
   "cell_type": "markdown",
   "id": "e1299d32-e0ed-4210-bc88-81d60d7aec39",
   "metadata": {},
   "source": [
    "## Model Selection & Evaluation\n",
    "Used GridSearchCV or RandomizedSearchCV to find the best hyperparameters for each modeling type"
   ]
  },
  {
   "cell_type": "code",
   "execution_count": 52,
   "id": "ff70e5cb-0671-4df8-b88a-6ffe2fbf702c",
   "metadata": {},
   "outputs": [],
   "source": [
    "# Load libraries\n",
    "from sklearn.model_selection import train_test_split\n",
    "from sklearn.preprocessing import StandardScaler\n",
    "from sklearn.model_selection import GridSearchCV, RandomizedSearchCV"
   ]
  },
  {
   "cell_type": "markdown",
   "id": "409a4a53-d62e-4a52-8727-35d710f918d8",
   "metadata": {},
   "source": [
    "### Split Training and Testing Data"
   ]
  },
  {
   "cell_type": "code",
   "execution_count": 53,
   "id": "4d2996ec-41ed-4c79-8e0f-89054589e31b",
   "metadata": {},
   "outputs": [],
   "source": [
    "# Set up features target sets\n",
    "X = beanDF[beanDF.columns[:-1]]\n",
    "y = beanDF.Class\n",
    "\n",
    "# Split the data\n",
    "X_train, X_test, y_train, y_test = train_test_split(X, y, test_size =0.3, \n",
    "                                                    random_state=42)\n",
    "\n",
    "# Standardize Features\n",
    "scaler = StandardScaler()\n",
    "X_train = scaler.fit_transform(X_train) \n",
    "X_test  = scaler.transform(X_test)"
   ]
  },
  {
   "cell_type": "code",
   "execution_count": null,
   "id": "d225534b-f70d-4f96-9c7f-51406232a71d",
   "metadata": {},
   "outputs": [],
   "source": []
  },
  {
   "cell_type": "code",
   "execution_count": null,
   "id": "4744053c-7153-4c05-8b35-a2ada4d85cfc",
   "metadata": {},
   "outputs": [],
   "source": []
  },
  {
   "cell_type": "markdown",
   "id": "ae221091-17a1-4e1b-96ae-d729c778841f",
   "metadata": {},
   "source": [
    "# Keras"
   ]
  },
  {
   "cell_type": "code",
   "execution_count": null,
   "id": "e0ee67a3-69dd-4cef-9518-fca375867f11",
   "metadata": {},
   "outputs": [],
   "source": []
  },
  {
   "cell_type": "markdown",
   "id": "233a2d38-88b5-4acf-b470-f4c7f1dd247d",
   "metadata": {},
   "source": [
    "## Neural Network - Keras"
   ]
  },
  {
   "cell_type": "code",
   "execution_count": 54,
   "id": "023a3329-ea4c-45d5-97cc-caea58842618",
   "metadata": {},
   "outputs": [],
   "source": [
    "# Load libraries\n",
    "from sklearn.preprocessing import LabelEncoder\n",
    "import numpy as np\n",
    "from keras.models import Sequential\n",
    "from keras.layers import Dense"
   ]
  },
  {
   "cell_type": "code",
   "execution_count": 55,
   "id": "87120fc7-15ba-4442-b27e-4e3b8097cd37",
   "metadata": {},
   "outputs": [],
   "source": [
    "# Encode the target variables\n",
    "le = LabelEncoder()\n",
    "le.fit(y)\n",
    "\n",
    "le_y_train = le.transform(y_train)\n",
    "le_y_test  = le.transform(y_test)\n",
    "\n",
    "from keras.utils.np_utils import to_categorical\n",
    "cat_y_train = to_categorical(le_y_train)\n",
    "cat_y_test  = to_categorical(le_y_test)"
   ]
  },
  {
   "cell_type": "markdown",
   "id": "59ec40fd-9630-406d-a292-0de853fad1d9",
   "metadata": {},
   "source": [
    "# NOTE: Add dropout? (see M5_test2) "
   ]
  },
  {
   "cell_type": "code",
   "execution_count": 10,
   "id": "dd0fbefb-e7ae-46bf-a432-8efe47d1fa09",
   "metadata": {},
   "outputs": [],
   "source": [
    "# Set the number of features\n",
    "number_of_features = X.shape[1]\n",
    "\n",
    "# Start neural network\n",
    "network = Sequential()\n",
    "\n",
    "# Add fully connected layer w/a ReLU activation function\n",
    "network.add(Dense(units=100, activation='relu', \n",
    "                  input_shape=(number_of_features,)))\n",
    "\n",
    "# Add fully connected layer w/a ReLU activation function\n",
    "network.add(Dense(units=100, activation='relu'))\n",
    "\n",
    "# Add fully connected layer w/a softmax activation function\n",
    "network.add(Dense(units=7, activation='softmax'))\n",
    "\n",
    "# Compile neural network\n",
    "network.compile(loss='categorical_crossentropy', \n",
    "                optimizer='adam', \n",
    "                metrics=['accuracy'])"
   ]
  },
  {
   "cell_type": "code",
   "execution_count": 11,
   "id": "c16d8a80-ef58-43e2-8ec6-f327364082d6",
   "metadata": {},
   "outputs": [
    {
     "name": "stdout",
     "output_type": "stream",
     "text": [
      "Wall time: 0 ns\n",
      "Epoch 1/3\n",
      "96/96 [==============================] - 4s 19ms/step - loss: 1.2479 - accuracy: 0.5839 - val_loss: 0.3482 - val_accuracy: 0.9011\n",
      "Epoch 2/3\n",
      "96/96 [==============================] - 1s 9ms/step - loss: 0.3022 - accuracy: 0.9066 - val_loss: 0.2338 - val_accuracy: 0.9150\n",
      "Epoch 3/3\n",
      "96/96 [==============================] - 1s 9ms/step - loss: 0.2265 - accuracy: 0.9202 - val_loss: 0.2283 - val_accuracy: 0.9145\n"
     ]
    }
   ],
   "source": [
    "# Fit model\n",
    "history = network.fit(X_train, cat_y_train, \n",
    "                      epochs=3, \n",
    "                      batch_size=100, \n",
    "                      validation_data=(X_test, cat_y_test))"
   ]
  },
  {
   "cell_type": "code",
   "execution_count": 12,
   "id": "49271553-4e90-4864-b6d9-e6ce4b23e088",
   "metadata": {},
   "outputs": [
    {
     "data": {
      "text/plain": [
       "91.94"
      ]
     },
     "execution_count": 12,
     "metadata": {},
     "output_type": "execute_result"
    }
   ],
   "source": [
    "round(history.history['accuracy'][np.argmin(history.history['loss'])]*100, 2)"
   ]
  },
  {
   "cell_type": "code",
   "execution_count": 14,
   "id": "a1ea46c6-c3fa-443a-98f5-27c692fc7a49",
   "metadata": {},
   "outputs": [
    {
     "name": "stdout",
     "output_type": "stream",
     "text": [
      "Wall time: 0 ns\n",
      "Epoch 1/15\n",
      "1906/1906 [==============================] - 6s 3ms/step - loss: 0.2328 - accuracy: 0.9173 - val_loss: 0.2133 - val_accuracy: 0.9263\n",
      "Epoch 2/15\n",
      "1906/1906 [==============================] - 7s 4ms/step - loss: 0.2181 - accuracy: 0.9188 - val_loss: 0.1965 - val_accuracy: 0.9283\n",
      "Epoch 3/15\n",
      "1906/1906 [==============================] - 6s 3ms/step - loss: 0.2121 - accuracy: 0.9212 - val_loss: 0.2103 - val_accuracy: 0.9234\n",
      "Epoch 4/15\n",
      "1906/1906 [==============================] - 6s 3ms/step - loss: 0.2061 - accuracy: 0.9206 - val_loss: 0.2086 - val_accuracy: 0.9231\n",
      "Epoch 5/15\n",
      "1906/1906 [==============================] - 6s 3ms/step - loss: 0.2030 - accuracy: 0.9252 - val_loss: 0.2196 - val_accuracy: 0.9219\n",
      "Epoch 6/15\n",
      "1906/1906 [==============================] - 6s 3ms/step - loss: 0.1999 - accuracy: 0.9258 - val_loss: 0.1993 - val_accuracy: 0.9283\n",
      "Epoch 7/15\n",
      "1906/1906 [==============================] - 6s 3ms/step - loss: 0.2023 - accuracy: 0.9248 - val_loss: 0.2069 - val_accuracy: 0.9263\n",
      "Epoch 8/15\n",
      "1906/1906 [==============================] - 6s 3ms/step - loss: 0.1979 - accuracy: 0.9239 - val_loss: 0.1964 - val_accuracy: 0.9297\n",
      "Epoch 9/15\n",
      "1906/1906 [==============================] - 6s 3ms/step - loss: 0.1960 - accuracy: 0.9235 - val_loss: 0.1968 - val_accuracy: 0.9275\n",
      "Epoch 10/15\n",
      "1906/1906 [==============================] - 6s 3ms/step - loss: 0.1953 - accuracy: 0.9245 - val_loss: 0.2026 - val_accuracy: 0.9258\n",
      "Epoch 11/15\n",
      "1906/1906 [==============================] - 6s 3ms/step - loss: 0.1934 - accuracy: 0.9261 - val_loss: 0.2122 - val_accuracy: 0.9246\n",
      "Epoch 12/15\n",
      "1906/1906 [==============================] - 6s 3ms/step - loss: 0.1937 - accuracy: 0.9272 - val_loss: 0.1980 - val_accuracy: 0.9322\n",
      "Epoch 13/15\n",
      "1906/1906 [==============================] - 6s 3ms/step - loss: 0.1901 - accuracy: 0.9235 - val_loss: 0.2186 - val_accuracy: 0.9199\n",
      "Epoch 14/15\n",
      "1906/1906 [==============================] - 6s 3ms/step - loss: 0.1909 - accuracy: 0.9275 - val_loss: 0.1956 - val_accuracy: 0.9297\n",
      "Epoch 15/15\n",
      "1906/1906 [==============================] - 6s 3ms/step - loss: 0.1907 - accuracy: 0.9269 - val_loss: 0.2030 - val_accuracy: 0.9283\n"
     ]
    }
   ],
   "source": [
    "# Fit model\n",
    "history = network.fit(X_train, cat_y_train, \n",
    "                      epochs=15, \n",
    "                      batch_size=5, \n",
    "                      validation_data=(X_test, cat_y_test))"
   ]
  },
  {
   "cell_type": "code",
   "execution_count": 15,
   "id": "e5da6961-7142-407d-a99a-d18b79a6a557",
   "metadata": {},
   "outputs": [
    {
     "data": {
      "text/plain": [
       "92.35"
      ]
     },
     "execution_count": 15,
     "metadata": {},
     "output_type": "execute_result"
    }
   ],
   "source": [
    "round(history.history['accuracy'][np.argmin(history.history['loss'])]*100, 2)"
   ]
  },
  {
   "cell_type": "code",
   "execution_count": 16,
   "id": "0b2756cc-0461-4b93-9d64-3fcd1d062e5b",
   "metadata": {},
   "outputs": [
    {
     "data": {
      "text/plain": [
       "[0.9172877073287964,\n",
       " 0.9187572002410889,\n",
       " 0.9211714267730713,\n",
       " 0.920646607875824,\n",
       " 0.9251600503921509,\n",
       " 0.9257898330688477,\n",
       " 0.9248451590538025,\n",
       " 0.9239004850387573,\n",
       " 0.9234806299209595,\n",
       " 0.9245302677154541,\n",
       " 0.9261047840118408,\n",
       " 0.9271544218063354,\n",
       " 0.9234806299209595,\n",
       " 0.9274693131446838,\n",
       " 0.9269444942474365]"
      ]
     },
     "execution_count": 16,
     "metadata": {},
     "output_type": "execute_result"
    }
   ],
   "source": [
    "history.history['accuracy']"
   ]
  },
  {
   "cell_type": "markdown",
   "id": "6399cb46-942b-4ab7-afac-62c5995e56c7",
   "metadata": {},
   "source": [
    "## 20.13 Tuning Neural Networks"
   ]
  },
  {
   "cell_type": "markdown",
   "id": "6e372eec-1340-44f0-948b-57ad283c5b4d",
   "metadata": {},
   "source": [
    "https://www.pyimagesearch.com/2021/05/31/hyperparameter-tuning-for-deep-learning-with-scikit-learn-keras-and-tensorflow/"
   ]
  },
  {
   "cell_type": "code",
   "execution_count": 38,
   "id": "8ee374fe-74d3-4e71-a418-34fc0a40a775",
   "metadata": {},
   "outputs": [],
   "source": [
    "# Load libraries\n",
    "import numpy as np\n",
    "import tensorflow as tf\n",
    "from keras.models import Sequential\n",
    "from keras.layers import Dense, Dropout\n",
    "from tensorflow.keras.optimizers import Adam\n",
    "from keras.wrappers.scikit_learn import KerasClassifier\n",
    "from sklearn.model_selection import GridSearchCV, RandomizedSearchCV\n",
    "\n",
    "# Set random seed\n",
    "np.random.seed(42)"
   ]
  },
  {
   "cell_type": "code",
   "execution_count": 56,
   "id": "776ce8e1-fdd6-424b-a153-bdf12981b92f",
   "metadata": {},
   "outputs": [],
   "source": [
    "# Number of features\n",
    "number_of_features = X.shape[1]\n",
    "\n",
    "# Create function returning a compiled network\n",
    "def create_network(optimizer='rmsprop', hiddenLayerOne=48, hiddenLayerTwo=24, \n",
    "                   initDrop=0.2, hiddenDrop=0.5, learnRate=0.01):\n",
    "    \n",
    "    # Start neural network\n",
    "    network = Sequential()\n",
    "    \n",
    "    # Add a dropout layer for input layer\n",
    "    network.add(Dropout(initDrop, input_shape=(number_of_features,)))\n",
    "    \n",
    "    # Add fully connected layer w/a ReLU activation function\n",
    "    network.add(Dense(units=hiddenLayerOne, activation='relu'))#,\n",
    "#                       input_shape=(number_of_features,)))\n",
    "    \n",
    "    # Add a dropout layer for previous hidden layer\n",
    "    network.add(Dropout(hiddenDrop))\n",
    "\n",
    "    # Add fully connected layer w/a ReLU activation function\n",
    "    network.add(Dense(units=hiddenLayerTwo, activation='relu'))\n",
    "                \n",
    "    # Add a dropout layer for previous hidden layer\n",
    "    network.add(Dropout(hiddenDrop))\n",
    "\n",
    "    # Add fully connected layer w/a softmax activation function\n",
    "    network.add(Dense(units=7, activation='softmax'))\n",
    "\n",
    "    # Compile neural network\n",
    "    network.compile(loss='categorical_crossentropy', \n",
    "                    optimizer=Adam(learning_rate=learnRate),\n",
    "                    metrics=['accuracy'])\n",
    "\n",
    "    # Return compiled network\n",
    "    return network"
   ]
  },
  {
   "cell_type": "code",
   "execution_count": 66,
   "id": "11c9d44e-91c0-4236-9483-a867a58a942d",
   "metadata": {
    "tags": []
   },
   "outputs": [],
   "source": [
    "# Wrap Keras model so it can be used by scikit-learn\n",
    "keras = KerasClassifier(build_fn=create_network, verbose=0)\n",
    "\n",
    "# Create hyperparameter space and initialize random search\n",
    "parameter_space = {\n",
    "    'epochs': [5, 10, 15],\n",
    "    'batch_size': [4, 8, 16, 32],\n",
    "    'hiddenLayerOne': [48, 96, 120],\n",
    "    'hiddenLayerTwo': [24, 48, 96],\n",
    "    'initDrop': [0.1, 0.2],\n",
    "    'hiddenDrop': [0.3, 0.4, 0.5], \n",
    "    'learnRate': [1e-4, 1e-3, 1e-2],\n",
    "}\n",
    "rand = RandomizedSearchCV(keras, parameter_space, random_state=42, n_iter=50, \n",
    "                          scoring='accuracy', n_jobs=-1, cv=3)"
   ]
  },
  {
   "cell_type": "code",
   "execution_count": 67,
   "id": "6031ddcc-4a30-44f2-9782-2fcc6cab7aa5",
   "metadata": {},
   "outputs": [
    {
     "name": "stderr",
     "output_type": "stream",
     "text": [
      "C:\\ProgramData\\Anaconda3\\lib\\site-packages\\sklearn\\model_selection\\_search.py:922: UserWarning: One or more of the test scores are non-finite: [nan nan nan nan nan nan nan nan nan nan nan nan nan nan nan nan nan nan\n",
      " nan nan nan nan nan nan nan nan nan nan nan nan nan nan nan nan nan nan\n",
      " nan nan nan nan nan nan nan nan nan nan nan nan nan nan]\n",
      "  warnings.warn(\n"
     ]
    },
    {
     "name": "stdout",
     "output_type": "stream",
     "text": [
      "Wall time: 13min 5s\n"
     ]
    }
   ],
   "source": [
    "%%time\n",
    "# Fit models\n",
    "rand_result = rand.fit(X_train, cat_y_train, \n",
    "                       validation_data=(X_test, cat_y_test))"
   ]
  },
  {
   "cell_type": "code",
   "execution_count": 68,
   "id": "8ab7ed51-e7bd-44bc-bc1d-aef8347c6b7f",
   "metadata": {},
   "outputs": [
    {
     "name": "stdout",
     "output_type": "stream",
     "text": [
      "Best score is nan using {'learnRate': 0.01, 'initDrop': 0.1, 'hiddenLayerTwo': 48, 'hiddenLayerOne': 120, 'hiddenDrop': 0.5, 'epochs': 5, 'batch_size': 32}\n"
     ]
    }
   ],
   "source": [
    "# Summarize search information\n",
    "bestScore = rand_result.best_score_\n",
    "bestParams = rand_result.best_params_\n",
    "print(f\"Best score is {round(bestScore*100, 2)} using {bestParams}\")"
   ]
  },
  {
   "cell_type": "code",
   "execution_count": 69,
   "id": "7ddac549-da29-442f-b4cc-98ce9c16b800",
   "metadata": {},
   "outputs": [
    {
     "name": "stdout",
     "output_type": "stream",
     "text": [
      "Epoch 1/10\n",
      "1191/1191 [==============================] - 3s 2ms/step - loss: 0.9970 - accuracy: 0.6356 - val_loss: 0.3439 - val_accuracy: 0.9084\n",
      "Epoch 2/10\n",
      "1191/1191 [==============================] - 2s 2ms/step - loss: 0.7494 - accuracy: 0.7410 - val_loss: 0.3447 - val_accuracy: 0.8918\n",
      "Epoch 3/10\n",
      "1191/1191 [==============================] - 2s 2ms/step - loss: 0.7308 - accuracy: 0.7573 - val_loss: 0.3286 - val_accuracy: 0.8896\n",
      "Epoch 4/10\n",
      "1191/1191 [==============================] - 2s 2ms/step - loss: 0.6844 - accuracy: 0.7626 - val_loss: 0.2969 - val_accuracy: 0.9165\n",
      "Epoch 5/10\n",
      "1191/1191 [==============================] - 2s 2ms/step - loss: 0.6719 - accuracy: 0.7787 - val_loss: 0.3662 - val_accuracy: 0.8768\n",
      "Epoch 6/10\n",
      "1191/1191 [==============================] - 3s 2ms/step - loss: 0.6891 - accuracy: 0.7707 - val_loss: 0.2931 - val_accuracy: 0.9099\n",
      "Epoch 7/10\n",
      "1191/1191 [==============================] - 2s 2ms/step - loss: 0.7058 - accuracy: 0.7755 - val_loss: 0.3521 - val_accuracy: 0.8839\n",
      "Epoch 8/10\n",
      "1191/1191 [==============================] - 2s 2ms/step - loss: 0.6609 - accuracy: 0.7759 - val_loss: 0.4036 - val_accuracy: 0.8597\n",
      "Epoch 9/10\n",
      "1191/1191 [==============================] - 2s 2ms/step - loss: 0.7063 - accuracy: 0.7732 - val_loss: 0.3347 - val_accuracy: 0.8962\n",
      "Epoch 10/10\n",
      "1191/1191 [==============================] - 3s 3ms/step - loss: 0.6533 - accuracy: 0.7935 - val_loss: 0.3489 - val_accuracy: 0.8790\n"
     ]
    }
   ],
   "source": [
    "# Get a baseline model\n",
    "model = create_network()\n",
    "baseline = model.fit(X_train, cat_y_train, \n",
    "              validation_data=(X_test, cat_y_test), \n",
    "              batch_size=8, \n",
    "              epochs=10)"
   ]
  },
  {
   "cell_type": "code",
   "execution_count": 72,
   "id": "6c6368d5-1969-48a0-9056-09881d26aae0",
   "metadata": {},
   "outputs": [
    {
     "ename": "AttributeError",
     "evalue": "'History' object has no attribute 'score'",
     "output_type": "error",
     "traceback": [
      "\u001b[1;31m---------------------------------------------------------------------------\u001b[0m",
      "\u001b[1;31mAttributeError\u001b[0m                            Traceback (most recent call last)",
      "\u001b[1;32m<ipython-input-72-82e44e1578e6>\u001b[0m in \u001b[0;36m<module>\u001b[1;34m\u001b[0m\n\u001b[1;32m----> 1\u001b[1;33m \u001b[0mbaseline\u001b[0m\u001b[1;33m.\u001b[0m\u001b[0mscore\u001b[0m\u001b[1;33m(\u001b[0m\u001b[0mX_test\u001b[0m\u001b[1;33m,\u001b[0m \u001b[0mcat_y_test\u001b[0m\u001b[1;33m)\u001b[0m\u001b[1;33m\u001b[0m\u001b[1;33m\u001b[0m\u001b[0m\n\u001b[0m",
      "\u001b[1;31mAttributeError\u001b[0m: 'History' object has no attribute 'score'"
     ]
    }
   ],
   "source": [
    "baseline.score(X_test, cat_y_test)"
   ]
  },
  {
   "cell_type": "code",
   "execution_count": 73,
   "id": "e000ca83-d838-4484-ac70-05923859189a",
   "metadata": {},
   "outputs": [
    {
     "data": {
      "text/plain": [
       "78.14"
      ]
     },
     "execution_count": 73,
     "metadata": {},
     "output_type": "execute_result"
    }
   ],
   "source": [
    "kerasAcc = baseline.history['accuracy'][np.argmin(baseline.history['loss'])]*100\n",
    "round(kerasAcc, 2)"
   ]
  },
  {
   "cell_type": "code",
   "execution_count": 78,
   "id": "6be36165-d6b2-49da-8983-37bd475adb6f",
   "metadata": {},
   "outputs": [
    {
     "data": {
      "text/plain": [
       "nan"
      ]
     },
     "execution_count": 78,
     "metadata": {},
     "output_type": "execute_result"
    }
   ],
   "source": [
    "rand_result.best_score_"
   ]
  },
  {
   "cell_type": "code",
   "execution_count": 80,
   "id": "a8fe9e9e-c4e9-4291-8520-50746fb1ddaa",
   "metadata": {},
   "outputs": [
    {
     "name": "stdout",
     "output_type": "stream",
     "text": [
      "Best parameters found:\n",
      " {'learnRate': 0.01, 'initDrop': 0.1, 'hiddenLayerTwo': 48, 'hiddenLayerOne': 120, 'hiddenDrop': 0.5, 'epochs': 5, 'batch_size': 32} \n",
      "\n",
      "Baseline Accuracy:\t78.14\n",
      "Tuned Accuracy:\t\tnan\n"
     ]
    }
   ],
   "source": [
    "# Show best parameters\n",
    "print('Best parameters found:\\n', rand_result.best_params_, '\\n')\n",
    "# Get accuracy scores\n",
    "baseScore = round(baseline.history['accuracy'][np.argmin(baseline.history['loss'])]*100, 2)\n",
    "score = round(rand_result.best_score_*100, 2)\n",
    "print(f\"Baseline Accuracy:\\t{baseScore}\")\n",
    "print(f\"Tuned Accuracy:\\t\\t{score}\")"
   ]
  },
  {
   "cell_type": "code",
   "execution_count": 64,
   "id": "cc47f106-ab13-4397-ba80-abd796ea34ac",
   "metadata": {},
   "outputs": [
    {
     "name": "stdout",
     "output_type": "stream",
     "text": [
      "Best score is nan using {'learnRate': 0.01, 'initDrop': 0.1, 'hiddenLayerTwo': 48, 'hiddenLayerOne': 120, 'hiddenDrop': 0.5, 'epochs': 5, 'batch_size': 32}\n"
     ]
    }
   ],
   "source": [
    "# Summarize search information\n",
    "bestScore = rand_result.best_score_\n",
    "bestParams = rand_result.best_params_\n",
    "print(f\"Best score is {round(bestScore*100, 2)} using {bestParams}\")"
   ]
  },
  {
   "cell_type": "code",
   "execution_count": 45,
   "id": "0df80623-683d-40e5-8dce-31436a40d615",
   "metadata": {},
   "outputs": [
    {
     "name": "stdout",
     "output_type": "stream",
     "text": [
      "Best score is nan using {'learnRate': 0.001, 'initDrop': 0.2, 'hiddenLayerTwo': 48, 'hiddenLayerOne': 120, 'hiddenDrop': 0.5, 'epochs': 5, 'batch_size': 16}\n"
     ]
    }
   ],
   "source": [
    "# Summarize search information\n",
    "bestScore = rand_result.best_score_\n",
    "bestParams = rand_result.best_params_\n",
    "print(f\"Best score is {round(bestScore*100, 2)} using {bestParams}\")"
   ]
  },
  {
   "cell_type": "code",
   "execution_count": 65,
   "id": "c679b5b8-e98b-47ba-ae82-1bcd520bbb66",
   "metadata": {},
   "outputs": [
    {
     "name": "stdout",
     "output_type": "stream",
     "text": [
      "Epoch 1/5\n",
      "298/298 [==============================] - 1s 3ms/step - loss: 0.8064 - accuracy: 0.7130 - val_loss: 0.2487 - val_accuracy: 0.9067\n",
      "Epoch 2/5\n",
      "298/298 [==============================] - 1s 2ms/step - loss: 0.4773 - accuracy: 0.8430 - val_loss: 0.2640 - val_accuracy: 0.9065\n",
      "Epoch 3/5\n",
      "298/298 [==============================] - 1s 2ms/step - loss: 0.4718 - accuracy: 0.8532 - val_loss: 0.2282 - val_accuracy: 0.9172\n",
      "Epoch 4/5\n",
      "298/298 [==============================] - 1s 3ms/step - loss: 0.4702 - accuracy: 0.8426 - val_loss: 0.2329 - val_accuracy: 0.9219\n",
      "Epoch 5/5\n",
      "298/298 [==============================] - 1s 2ms/step - loss: 0.4516 - accuracy: 0.8573 - val_loss: 0.2175 - val_accuracy: 0.9209\n",
      "128/128 [==============================] - 0s 1ms/step - loss: 0.2175 - accuracy: 0.9209\n",
      "Accuracy:  92.09\n"
     ]
    }
   ],
   "source": [
    "# Initialize model with default values\n",
    "model = create_network( \n",
    "              learnRate=0.01, \n",
    "              initDrop=0.1, \n",
    "              hiddenLayerOne=120, \n",
    "              hiddenLayerTwo=48, \n",
    "              hiddenDrop=0.5)\n",
    "\n",
    "# Train network \n",
    "H = model.fit(X_train, cat_y_train,\n",
    "              validation_data=(X_test, cat_y_test), \n",
    "              batch_size=32, \n",
    "              epochs=5)\n",
    "\n",
    "accuracy = model.evaluate(X_test, cat_y_test)[1]\n",
    "print(f\"\\nAccuracy:  {round(accuracy*100, 2)}\")"
   ]
  },
  {
   "cell_type": "code",
   "execution_count": 46,
   "id": "a05632f2-2c2c-4d11-8dda-b9cbd91618cc",
   "metadata": {},
   "outputs": [
    {
     "name": "stdout",
     "output_type": "stream",
     "text": [
      "Epoch 1/5\n",
      "596/596 [==============================] - 2s 3ms/step - loss: 1.2197 - accuracy: 0.5343 - val_loss: 0.3707 - val_accuracy: 0.8940\n",
      "Epoch 2/5\n",
      "596/596 [==============================] - 1s 2ms/step - loss: 0.6344 - accuracy: 0.7780 - val_loss: 0.2738 - val_accuracy: 0.9099\n",
      "Epoch 3/5\n",
      "596/596 [==============================] - 1s 2ms/step - loss: 0.5136 - accuracy: 0.8203 - val_loss: 0.2419 - val_accuracy: 0.9209\n",
      "Epoch 4/5\n",
      "596/596 [==============================] - 1s 2ms/step - loss: 0.4936 - accuracy: 0.8334 - val_loss: 0.2384 - val_accuracy: 0.9187\n",
      "Epoch 5/5\n",
      "596/596 [==============================] - 2s 3ms/step - loss: 0.4594 - accuracy: 0.8481 - val_loss: 0.2308 - val_accuracy: 0.9190\n",
      "128/128 [==============================] - 0s 2ms/step - loss: 0.2308 - accuracy: 0.9190\n",
      "Accuracy:  91.9\n"
     ]
    }
   ],
   "source": [
    "# Initialize model with default values\n",
    "model = create_network( \n",
    "              learnRate=0.001, \n",
    "              initDrop=0.2, \n",
    "              hiddenLayerOne=120, \n",
    "              hiddenLayerTwo=48, \n",
    "              hiddenDrop=0.5)\n",
    "\n",
    "# Train network \n",
    "H = model.fit(X_train, cat_y_train,\n",
    "              validation_data=(X_test, cat_y_test), \n",
    "              batch_size=16, \n",
    "              epochs=5)\n",
    "\n",
    "accuracy = model.evaluate(X_test, cat_y_test)[1]\n",
    "print(f\"\\nAccuracy:  {round(accuracy*100, 2)}\")"
   ]
  },
  {
   "cell_type": "code",
   "execution_count": 37,
   "id": "dcd5846e-af2c-4835-8a4c-ca9b6214a1b6",
   "metadata": {},
   "outputs": [
    {
     "name": "stdout",
     "output_type": "stream",
     "text": [
      "Epoch 1/20\n",
      "1191/1191 [==============================] - 340s 282ms/step - loss: 1.5107 - accuracy: 0.4220 - val_loss: 0.4633 - val_accuracy: 0.8852\n",
      "Epoch 2/20\n",
      "1191/1191 [==============================] - 204s 171ms/step - loss: 0.8316 - accuracy: 0.7072 - val_loss: 0.3450 - val_accuracy: 0.9035\n",
      "Epoch 3/20\n",
      "1191/1191 [==============================] - 5s 4ms/step - loss: 0.7351 - accuracy: 0.7477 - val_loss: 0.3005 - val_accuracy: 0.9165\n",
      "Epoch 4/20\n",
      "1191/1191 [==============================] - 11s 9ms/step - loss: 0.6707 - accuracy: 0.7694 - val_loss: 0.2686 - val_accuracy: 0.9231\n",
      "Epoch 5/20\n",
      "1191/1191 [==============================] - 5s 4ms/step - loss: 0.6305 - accuracy: 0.7856 - val_loss: 0.2677 - val_accuracy: 0.9165\n",
      "Epoch 6/20\n",
      "1191/1191 [==============================] - 4s 3ms/step - loss: 0.6244 - accuracy: 0.7916 - val_loss: 0.2619 - val_accuracy: 0.9214\n",
      "Epoch 7/20\n",
      "1191/1191 [==============================] - 4s 3ms/step - loss: 0.6277 - accuracy: 0.7967 - val_loss: 0.2596 - val_accuracy: 0.9177\n",
      "Epoch 8/20\n",
      "1191/1191 [==============================] - 4s 3ms/step - loss: 0.5913 - accuracy: 0.8081 - val_loss: 0.2643 - val_accuracy: 0.9172\n",
      "Epoch 9/20\n",
      "1191/1191 [==============================] - 4s 3ms/step - loss: 0.5956 - accuracy: 0.8062 - val_loss: 0.2540 - val_accuracy: 0.9177\n",
      "Epoch 10/20\n",
      "1191/1191 [==============================] - 4s 3ms/step - loss: 0.5757 - accuracy: 0.8155 - val_loss: 0.2531 - val_accuracy: 0.9172\n",
      "Epoch 11/20\n",
      "1191/1191 [==============================] - 4s 3ms/step - loss: 0.5786 - accuracy: 0.8137 - val_loss: 0.2554 - val_accuracy: 0.9199\n",
      "Epoch 12/20\n",
      "1191/1191 [==============================] - 4s 3ms/step - loss: 0.5905 - accuracy: 0.8285 - val_loss: 0.2611 - val_accuracy: 0.9099\n",
      "Epoch 13/20\n",
      "1191/1191 [==============================] - 4s 3ms/step - loss: 0.5733 - accuracy: 0.8289 - val_loss: 0.2577 - val_accuracy: 0.9119\n",
      "Epoch 14/20\n",
      "1191/1191 [==============================] - 4s 3ms/step - loss: 0.6012 - accuracy: 0.8173 - val_loss: 0.2617 - val_accuracy: 0.9119\n",
      "Epoch 15/20\n",
      "1191/1191 [==============================] - 4s 3ms/step - loss: 0.5986 - accuracy: 0.8234 - val_loss: 0.2641 - val_accuracy: 0.9092\n",
      "Epoch 16/20\n",
      "1191/1191 [==============================] - 4s 4ms/step - loss: 0.6275 - accuracy: 0.8170 - val_loss: 0.2722 - val_accuracy: 0.9104\n",
      "Epoch 17/20\n",
      "1191/1191 [==============================] - 4s 3ms/step - loss: 0.6227 - accuracy: 0.8166 - val_loss: 0.2799 - val_accuracy: 0.9072\n",
      "Epoch 18/20\n",
      "1191/1191 [==============================] - 4s 3ms/step - loss: 0.6601 - accuracy: 0.8086 - val_loss: 0.2855 - val_accuracy: 0.9101\n",
      "Epoch 19/20\n",
      "1191/1191 [==============================] - 4s 3ms/step - loss: 0.6308 - accuracy: 0.8285 - val_loss: 0.3101 - val_accuracy: 0.8940\n",
      "Epoch 20/20\n",
      "1191/1191 [==============================] - 4s 4ms/step - loss: 0.6119 - accuracy: 0.8288 - val_loss: 0.2893 - val_accuracy: 0.8981\n",
      "128/128 [==============================] - 0s 2ms/step - loss: 0.2893 - accuracy: 0.8981\n",
      "Accuracy:  89.81\n"
     ]
    }
   ],
   "source": [
    "# Initialize model with default values\n",
    "model = create_network()\n",
    "\n",
    "# Train network \n",
    "H = model.fit(X_train, cat_y_train, \n",
    "              validation_data=(X_test, cat_y_test), \n",
    "              batch_size=8, \n",
    "              epochs=20)\n",
    "\n",
    "accuracy = model.evaluate(X_test, cat_y_test)[1]\n",
    "print(f\"\\nAccuracy:  {round(accuracy*100, 2)}\")"
   ]
  },
  {
   "cell_type": "code",
   "execution_count": null,
   "id": "c5a5d5c4-79df-45c5-8d78-23fa4bf6c834",
   "metadata": {},
   "outputs": [],
   "source": []
  },
  {
   "cell_type": "code",
   "execution_count": null,
   "id": "db4ab234-e7df-4388-a414-61b02549b8dc",
   "metadata": {},
   "outputs": [],
   "source": []
  },
  {
   "cell_type": "code",
   "execution_count": null,
   "id": "b8efb058-4f66-4b9f-9156-b5894bbcc6f9",
   "metadata": {},
   "outputs": [],
   "source": []
  },
  {
   "cell_type": "code",
   "execution_count": 28,
   "id": "f553a074-a543-4a44-bf4b-7e7b32592c76",
   "metadata": {},
   "outputs": [],
   "source": [
    "alpha,hidden_dim,dropout_percent,do_dropout = (0.5,4,0.2,True)"
   ]
  },
  {
   "cell_type": "code",
   "execution_count": 29,
   "id": "2cfb66ef-251b-4c76-bb38-7fc3ecfd56ab",
   "metadata": {},
   "outputs": [
    {
     "data": {
      "text/plain": [
       "array([[1.25, 0.  , 1.25, 1.25],\n",
       "       [1.25, 1.25, 1.25, 0.  ],\n",
       "       [1.25, 1.25, 1.25, 0.  ],\n",
       "       ...,\n",
       "       [1.25, 0.  , 0.  , 1.25],\n",
       "       [1.25, 1.25, 1.25, 1.25],\n",
       "       [1.25, 0.  , 0.  , 1.25]])"
      ]
     },
     "execution_count": 29,
     "metadata": {},
     "output_type": "execute_result"
    }
   ],
   "source": [
    "np.random.binomial([np.ones((len(X),hidden_dim))],1-dropout_percent)[0] * (1.0/(1-dropout_percent))"
   ]
  },
  {
   "cell_type": "code",
   "execution_count": null,
   "id": "dd569f13-16cf-43da-b590-7642ad3ecb08",
   "metadata": {},
   "outputs": [],
   "source": []
  },
  {
   "cell_type": "code",
   "execution_count": 57,
   "id": "0a153473-ff3e-432c-897f-c20e95a062db",
   "metadata": {},
   "outputs": [
    {
     "data": {
      "text/html": [
       "<div>\n",
       "<style scoped>\n",
       "    .dataframe tbody tr th:only-of-type {\n",
       "        vertical-align: middle;\n",
       "    }\n",
       "\n",
       "    .dataframe tbody tr th {\n",
       "        vertical-align: top;\n",
       "    }\n",
       "\n",
       "    .dataframe thead th {\n",
       "        text-align: right;\n",
       "    }\n",
       "</style>\n",
       "<table border=\"1\" class=\"dataframe\">\n",
       "  <thead>\n",
       "    <tr style=\"text-align: right;\">\n",
       "      <th></th>\n",
       "      <th>Model</th>\n",
       "      <th>Accuracy</th>\n",
       "    </tr>\n",
       "  </thead>\n",
       "  <tbody>\n",
       "    <tr>\n",
       "      <th>7</th>\n",
       "      <td>MLP</td>\n",
       "      <td>92.92</td>\n",
       "    </tr>\n",
       "    <tr>\n",
       "      <th>5</th>\n",
       "      <td>SVC</td>\n",
       "      <td>92.90</td>\n",
       "    </tr>\n",
       "    <tr>\n",
       "      <th>8</th>\n",
       "      <td>Keras</td>\n",
       "      <td>92.61</td>\n",
       "    </tr>\n",
       "    <tr>\n",
       "      <th>4</th>\n",
       "      <td>LinearSVC</td>\n",
       "      <td>92.38</td>\n",
       "    </tr>\n",
       "    <tr>\n",
       "      <th>1</th>\n",
       "      <td>RandomForest</td>\n",
       "      <td>92.19</td>\n",
       "    </tr>\n",
       "    <tr>\n",
       "      <th>0</th>\n",
       "      <td>Logistic</td>\n",
       "      <td>92.14</td>\n",
       "    </tr>\n",
       "    <tr>\n",
       "      <th>6</th>\n",
       "      <td>GaussianNB</td>\n",
       "      <td>89.99</td>\n",
       "    </tr>\n",
       "    <tr>\n",
       "      <th>2</th>\n",
       "      <td>DecisionTree</td>\n",
       "      <td>89.03</td>\n",
       "    </tr>\n",
       "    <tr>\n",
       "      <th>3</th>\n",
       "      <td>AdaBoost</td>\n",
       "      <td>86.29</td>\n",
       "    </tr>\n",
       "  </tbody>\n",
       "</table>\n",
       "</div>"
      ],
      "text/plain": [
       "          Model  Accuracy\n",
       "7           MLP     92.92\n",
       "5           SVC     92.90\n",
       "8         Keras     92.61\n",
       "4     LinearSVC     92.38\n",
       "1  RandomForest     92.19\n",
       "0      Logistic     92.14\n",
       "6    GaussianNB     89.99\n",
       "2  DecisionTree     89.03\n",
       "3      AdaBoost     86.29"
      ]
     },
     "execution_count": 57,
     "metadata": {},
     "output_type": "execute_result"
    }
   ],
   "source": [
    "# Create lists of models and accuracy scores\n",
    "modelName = []\n",
    "score = []\n",
    "for key in models_dict:\n",
    "    modelName += [key]\n",
    "    model = models_dict[key]\n",
    "    value = model.score(X_test, y_test)*100\n",
    "    score += [round(value, 2)]\n",
    "\n",
    "# Add Keras accuracy\n",
    "modelName += ['Keras']\n",
    "kerasAcc = history.history['val_accuracy'][np.argmin(history.history['loss'])]*100\n",
    "score += [round(kerasAcc, 2)]\n",
    "\n",
    "# Create DataFrame of results\n",
    "d = {'Model': modelName, 'Accuracy': score}\n",
    "results = pd.DataFrame(d).sort_values(by=['Accuracy'], ascending=False)\n",
    "results"
   ]
  }
 ],
 "metadata": {
  "kernelspec": {
   "display_name": "Python 3",
   "language": "python",
   "name": "python3"
  },
  "language_info": {
   "codemirror_mode": {
    "name": "ipython",
    "version": 3
   },
   "file_extension": ".py",
   "mimetype": "text/x-python",
   "name": "python",
   "nbconvert_exporter": "python",
   "pygments_lexer": "ipython3",
   "version": "3.8.8"
  }
 },
 "nbformat": 4,
 "nbformat_minor": 5
}
