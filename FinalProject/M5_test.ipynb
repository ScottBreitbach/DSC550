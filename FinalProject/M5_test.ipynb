{
 "cells": [
  {
   "cell_type": "code",
   "execution_count": null,
   "id": "926ee10e-3002-4316-8413-ad6053f73ba2",
   "metadata": {},
   "outputs": [],
   "source": []
  },
  {
   "cell_type": "code",
   "execution_count": 1,
   "id": "e1b9aba6-5863-4f89-891b-0cddd772a2d3",
   "metadata": {},
   "outputs": [
    {
     "name": "stderr",
     "output_type": "stream",
     "text": [
      "C:\\ProgramData\\Anaconda3\\lib\\site-packages\\numpy\\_distributor_init.py:30: UserWarning: loaded more than 1 DLL from .libs:\n",
      "C:\\ProgramData\\Anaconda3\\lib\\site-packages\\numpy\\.libs\\libopenblas.NOIJJG62EMASZI6NYURL6JBKM4EVBGM7.gfortran-win_amd64.dll\n",
      "C:\\ProgramData\\Anaconda3\\lib\\site-packages\\numpy\\.libs\\libopenblas.WCDJNK7YVMPZQ2ME2ZZHJJRJ3JIKNDB7.gfortran-win_amd64.dll\n",
      "  warnings.warn(\"loaded more than 1 DLL from .libs:\"\n"
     ]
    }
   ],
   "source": [
    "# Load Libraries\n",
    "import pandas as pd\n",
    "import numpy as np\n",
    "\n",
    "# Set random seed\n",
    "np.random.seed(42)"
   ]
  },
  {
   "cell_type": "markdown",
   "id": "81391133-7b10-4747-a79e-3f03bd50b588",
   "metadata": {},
   "source": [
    "### Load Data"
   ]
  },
  {
   "cell_type": "code",
   "execution_count": 2,
   "id": "86215a6b-91d8-4a4d-843c-e5f05ec3077c",
   "metadata": {},
   "outputs": [],
   "source": [
    "# Load data to a DataFrame\n",
    "beanDF = pd.read_excel('DryBeanDataset/Dry_Bean_Dataset.xlsx')"
   ]
  },
  {
   "cell_type": "code",
   "execution_count": 3,
   "id": "1031f6f1-30ad-41b8-a159-8f0960175799",
   "metadata": {},
   "outputs": [
    {
     "data": {
      "text/html": [
       "<div>\n",
       "<style scoped>\n",
       "    .dataframe tbody tr th:only-of-type {\n",
       "        vertical-align: middle;\n",
       "    }\n",
       "\n",
       "    .dataframe tbody tr th {\n",
       "        vertical-align: top;\n",
       "    }\n",
       "\n",
       "    .dataframe thead th {\n",
       "        text-align: right;\n",
       "    }\n",
       "</style>\n",
       "<table border=\"1\" class=\"dataframe\">\n",
       "  <thead>\n",
       "    <tr style=\"text-align: right;\">\n",
       "      <th></th>\n",
       "      <th>Area</th>\n",
       "      <th>Perimeter</th>\n",
       "      <th>MajorAxisLength</th>\n",
       "      <th>MinorAxisLength</th>\n",
       "      <th>AspectRation</th>\n",
       "      <th>Eccentricity</th>\n",
       "      <th>ConvexArea</th>\n",
       "      <th>EquivDiameter</th>\n",
       "      <th>Extent</th>\n",
       "      <th>Solidity</th>\n",
       "      <th>roundness</th>\n",
       "      <th>Compactness</th>\n",
       "      <th>ShapeFactor1</th>\n",
       "      <th>ShapeFactor2</th>\n",
       "      <th>ShapeFactor3</th>\n",
       "      <th>ShapeFactor4</th>\n",
       "      <th>Class</th>\n",
       "    </tr>\n",
       "  </thead>\n",
       "  <tbody>\n",
       "    <tr>\n",
       "      <th>0</th>\n",
       "      <td>28395</td>\n",
       "      <td>610.291</td>\n",
       "      <td>208.178117</td>\n",
       "      <td>173.888747</td>\n",
       "      <td>1.197191</td>\n",
       "      <td>0.549812</td>\n",
       "      <td>28715</td>\n",
       "      <td>190.141097</td>\n",
       "      <td>0.763923</td>\n",
       "      <td>0.988856</td>\n",
       "      <td>0.958027</td>\n",
       "      <td>0.913358</td>\n",
       "      <td>0.007332</td>\n",
       "      <td>0.003147</td>\n",
       "      <td>0.834222</td>\n",
       "      <td>0.998724</td>\n",
       "      <td>SEKER</td>\n",
       "    </tr>\n",
       "    <tr>\n",
       "      <th>1</th>\n",
       "      <td>28734</td>\n",
       "      <td>638.018</td>\n",
       "      <td>200.524796</td>\n",
       "      <td>182.734419</td>\n",
       "      <td>1.097356</td>\n",
       "      <td>0.411785</td>\n",
       "      <td>29172</td>\n",
       "      <td>191.272750</td>\n",
       "      <td>0.783968</td>\n",
       "      <td>0.984986</td>\n",
       "      <td>0.887034</td>\n",
       "      <td>0.953861</td>\n",
       "      <td>0.006979</td>\n",
       "      <td>0.003564</td>\n",
       "      <td>0.909851</td>\n",
       "      <td>0.998430</td>\n",
       "      <td>SEKER</td>\n",
       "    </tr>\n",
       "    <tr>\n",
       "      <th>2</th>\n",
       "      <td>29380</td>\n",
       "      <td>624.110</td>\n",
       "      <td>212.826130</td>\n",
       "      <td>175.931143</td>\n",
       "      <td>1.209713</td>\n",
       "      <td>0.562727</td>\n",
       "      <td>29690</td>\n",
       "      <td>193.410904</td>\n",
       "      <td>0.778113</td>\n",
       "      <td>0.989559</td>\n",
       "      <td>0.947849</td>\n",
       "      <td>0.908774</td>\n",
       "      <td>0.007244</td>\n",
       "      <td>0.003048</td>\n",
       "      <td>0.825871</td>\n",
       "      <td>0.999066</td>\n",
       "      <td>SEKER</td>\n",
       "    </tr>\n",
       "    <tr>\n",
       "      <th>3</th>\n",
       "      <td>30008</td>\n",
       "      <td>645.884</td>\n",
       "      <td>210.557999</td>\n",
       "      <td>182.516516</td>\n",
       "      <td>1.153638</td>\n",
       "      <td>0.498616</td>\n",
       "      <td>30724</td>\n",
       "      <td>195.467062</td>\n",
       "      <td>0.782681</td>\n",
       "      <td>0.976696</td>\n",
       "      <td>0.903936</td>\n",
       "      <td>0.928329</td>\n",
       "      <td>0.007017</td>\n",
       "      <td>0.003215</td>\n",
       "      <td>0.861794</td>\n",
       "      <td>0.994199</td>\n",
       "      <td>SEKER</td>\n",
       "    </tr>\n",
       "    <tr>\n",
       "      <th>4</th>\n",
       "      <td>30140</td>\n",
       "      <td>620.134</td>\n",
       "      <td>201.847882</td>\n",
       "      <td>190.279279</td>\n",
       "      <td>1.060798</td>\n",
       "      <td>0.333680</td>\n",
       "      <td>30417</td>\n",
       "      <td>195.896503</td>\n",
       "      <td>0.773098</td>\n",
       "      <td>0.990893</td>\n",
       "      <td>0.984877</td>\n",
       "      <td>0.970516</td>\n",
       "      <td>0.006697</td>\n",
       "      <td>0.003665</td>\n",
       "      <td>0.941900</td>\n",
       "      <td>0.999166</td>\n",
       "      <td>SEKER</td>\n",
       "    </tr>\n",
       "  </tbody>\n",
       "</table>\n",
       "</div>"
      ],
      "text/plain": [
       "    Area  Perimeter  MajorAxisLength  MinorAxisLength  AspectRation  \\\n",
       "0  28395    610.291       208.178117       173.888747      1.197191   \n",
       "1  28734    638.018       200.524796       182.734419      1.097356   \n",
       "2  29380    624.110       212.826130       175.931143      1.209713   \n",
       "3  30008    645.884       210.557999       182.516516      1.153638   \n",
       "4  30140    620.134       201.847882       190.279279      1.060798   \n",
       "\n",
       "   Eccentricity  ConvexArea  EquivDiameter    Extent  Solidity  roundness  \\\n",
       "0      0.549812       28715     190.141097  0.763923  0.988856   0.958027   \n",
       "1      0.411785       29172     191.272750  0.783968  0.984986   0.887034   \n",
       "2      0.562727       29690     193.410904  0.778113  0.989559   0.947849   \n",
       "3      0.498616       30724     195.467062  0.782681  0.976696   0.903936   \n",
       "4      0.333680       30417     195.896503  0.773098  0.990893   0.984877   \n",
       "\n",
       "   Compactness  ShapeFactor1  ShapeFactor2  ShapeFactor3  ShapeFactor4  Class  \n",
       "0     0.913358      0.007332      0.003147      0.834222      0.998724  SEKER  \n",
       "1     0.953861      0.006979      0.003564      0.909851      0.998430  SEKER  \n",
       "2     0.908774      0.007244      0.003048      0.825871      0.999066  SEKER  \n",
       "3     0.928329      0.007017      0.003215      0.861794      0.994199  SEKER  \n",
       "4     0.970516      0.006697      0.003665      0.941900      0.999166  SEKER  "
      ]
     },
     "execution_count": 3,
     "metadata": {},
     "output_type": "execute_result"
    }
   ],
   "source": [
    "# Get a look at the data\n",
    "beanDF.head()"
   ]
  },
  {
   "cell_type": "code",
   "execution_count": 4,
   "id": "cafa194c-be22-4397-b794-aca143364825",
   "metadata": {},
   "outputs": [
    {
     "data": {
      "text/plain": [
       "(13611, 17)"
      ]
     },
     "execution_count": 4,
     "metadata": {},
     "output_type": "execute_result"
    }
   ],
   "source": [
    "# Look at the shape of the DataFrame\n",
    "beanDF.shape"
   ]
  },
  {
   "cell_type": "code",
   "execution_count": 5,
   "id": "54dccbba-b068-4ace-aaf3-fb4adcd45c8c",
   "metadata": {},
   "outputs": [
    {
     "data": {
      "text/plain": [
       "Class\n",
       "DERMASON    3546\n",
       "SIRA        2636\n",
       "SEKER       2027\n",
       "HOROZ       1928\n",
       "CALI        1630\n",
       "BARBUNYA    1322\n",
       "BOMBAY       522\n",
       "dtype: int64"
      ]
     },
     "execution_count": 5,
     "metadata": {},
     "output_type": "execute_result"
    }
   ],
   "source": [
    "# See the relative numbers of each target category\n",
    "beanDF.value_counts('Class')"
   ]
  },
  {
   "cell_type": "markdown",
   "id": "15538df8-8ae7-4b5a-a8af-0ecfb1975ee9",
   "metadata": {},
   "source": [
    "## Split Training and Testing Data"
   ]
  },
  {
   "cell_type": "code",
   "execution_count": 6,
   "id": "ee0e48d8-8f2b-4a1e-8569-2c382cdd0536",
   "metadata": {},
   "outputs": [],
   "source": [
    "# Load libraries\n",
    "import numpy as np\n",
    "from sklearn.preprocessing import LabelEncoder\n",
    "from sklearn.preprocessing import StandardScaler\n",
    "from sklearn.model_selection import train_test_split"
   ]
  },
  {
   "cell_type": "code",
   "execution_count": 7,
   "id": "e4cd5665-0a7a-47c7-a324-a2bc782b5d2e",
   "metadata": {},
   "outputs": [],
   "source": [
    "# Set up features target sets\n",
    "X = beanDF[beanDF.columns[:-1]]\n",
    "y = beanDF.Class"
   ]
  },
  {
   "cell_type": "markdown",
   "id": "5ee4d9f0-3e7c-4af2-980c-3b4158a3adb6",
   "metadata": {},
   "source": [
    "Let's try this without encoding the target:"
   ]
  },
  {
   "cell_type": "code",
   "execution_count": 8,
   "id": "547ab690-4653-42b5-a6dc-c03895925f3f",
   "metadata": {},
   "outputs": [],
   "source": [
    "# # Encode the target variables\n",
    "# le = LabelEncoder()\n",
    "# y = le.fit_transform(y)"
   ]
  },
  {
   "cell_type": "code",
   "execution_count": 9,
   "id": "59b60b0d-f1fc-419f-9bd8-36334a17e89c",
   "metadata": {},
   "outputs": [],
   "source": [
    "# Split the data\n",
    "X_train, X_test, y_train, y_test = train_test_split(X, y, test_size =0.3, \n",
    "                                                    random_state=42)"
   ]
  },
  {
   "cell_type": "code",
   "execution_count": 10,
   "id": "3b7b695f-50b1-44d8-8cff-21224fcfaa09",
   "metadata": {},
   "outputs": [],
   "source": [
    "# Standardize Features\n",
    "scaler = StandardScaler()\n",
    "X_train = scaler.fit_transform(X_train) \n",
    "X_test  = scaler.transform(X_test)"
   ]
  },
  {
   "cell_type": "markdown",
   "id": "29bc0d29-aea2-4d8e-86e3-0d0533ddf5e8",
   "metadata": {},
   "source": [
    "## Logistic Regression - Multiclass"
   ]
  },
  {
   "cell_type": "markdown",
   "id": "69191a10-35e8-435f-a6d8-cb2fc34057db",
   "metadata": {},
   "source": [
    "### Multinomial Logistic Regression (MLR)"
   ]
  },
  {
   "cell_type": "code",
   "execution_count": 11,
   "id": "bdfff6cf-f07b-4b1a-a45f-3b4f86743819",
   "metadata": {},
   "outputs": [],
   "source": [
    "# Load libraries\n",
    "from sklearn.linear_model import LogisticRegression"
   ]
  },
  {
   "cell_type": "code",
   "execution_count": 12,
   "id": "ad2252b6-5216-444e-89b8-f5e6186c849c",
   "metadata": {},
   "outputs": [],
   "source": [
    "# Create logistic regression\n",
    "logit_mlr = LogisticRegression(class_weight='balanced', multi_class='multinomial', n_jobs=-1)"
   ]
  },
  {
   "cell_type": "code",
   "execution_count": 13,
   "id": "f1f47a26-258d-470c-a3b0-04b908c1cafc",
   "metadata": {},
   "outputs": [
    {
     "name": "stdout",
     "output_type": "stream",
     "text": [
      "Wall time: 2.73 s\n"
     ]
    },
    {
     "data": {
      "text/plain": [
       "LogisticRegression(class_weight='balanced', multi_class='multinomial',\n",
       "                   n_jobs=-1)"
      ]
     },
     "execution_count": 13,
     "metadata": {},
     "output_type": "execute_result"
    }
   ],
   "source": [
    "%%time\n",
    "# Train model\n",
    "logit_mlr.fit(X_train, y_train)"
   ]
  },
  {
   "cell_type": "code",
   "execution_count": 14,
   "id": "cdec1e8c-30d3-4517-acbb-aa298ca4e63a",
   "metadata": {},
   "outputs": [
    {
     "name": "stdout",
     "output_type": "stream",
     "text": [
      "Accuracy:\t92.31\n"
     ]
    }
   ],
   "source": [
    "# Get accuracy score\n",
    "score = round(logit_mlr.score(X_test, y_test)*100, 2)\n",
    "print(f\"Accuracy:\\t{score}\")"
   ]
  },
  {
   "cell_type": "markdown",
   "id": "e55d4d15-337b-4329-b832-c017c2c0e6c0",
   "metadata": {},
   "source": [
    "### Evaluate"
   ]
  },
  {
   "cell_type": "code",
   "execution_count": 15,
   "id": "66f7dde6-13c5-4381-a63b-b018b3a87328",
   "metadata": {},
   "outputs": [],
   "source": [
    "# Load libraries\n",
    "from sklearn.metrics import classification_report, confusion_matrix"
   ]
  },
  {
   "cell_type": "code",
   "execution_count": 16,
   "id": "4b877d2e-a28a-4f18-9a88-e8666b2a2725",
   "metadata": {},
   "outputs": [],
   "source": [
    "# Get predictions\n",
    "predictions = logit_mlr.predict(X_test)"
   ]
  },
  {
   "cell_type": "markdown",
   "id": "8a230a52-cd33-4f2f-b0f0-6d4fc1097fb6",
   "metadata": {},
   "source": [
    "#### Confusion matrix"
   ]
  },
  {
   "cell_type": "code",
   "execution_count": 17,
   "id": "cab0202d-9a3e-402d-9732-9f692fc54178",
   "metadata": {},
   "outputs": [
    {
     "name": "stdout",
     "output_type": "stream",
     "text": [
      "[[369   0  20   0   0   1   5]\n",
      " [  0 161   0   0   0   0   0]\n",
      " [ 19   0 446   0   7   2   5]\n",
      " [  0   0   0 916   1  21 105]\n",
      " [  3   0   5   4 564   0  12]\n",
      " [  9   0   0   7   0 583  20]\n",
      " [  1   0   3  40  11  13 731]]\n"
     ]
    }
   ],
   "source": [
    "# Print confusion matrix\n",
    "cm = confusion_matrix(y_test, predictions)\n",
    "print(cm)"
   ]
  },
  {
   "cell_type": "markdown",
   "id": "20c0abaa-7015-4594-8593-985159f1cfae",
   "metadata": {},
   "source": [
    "#### Classification report"
   ]
  },
  {
   "cell_type": "code",
   "execution_count": 18,
   "id": "74d538d0-1b00-478a-83f8-f11164b6f2c3",
   "metadata": {},
   "outputs": [
    {
     "name": "stdout",
     "output_type": "stream",
     "text": [
      "              precision    recall  f1-score   support\n",
      "\n",
      "    BARBUNYA       0.92      0.93      0.93       395\n",
      "      BOMBAY       1.00      1.00      1.00       161\n",
      "        CALI       0.94      0.93      0.94       479\n",
      "    DERMASON       0.95      0.88      0.91      1043\n",
      "       HOROZ       0.97      0.96      0.96       588\n",
      "       SEKER       0.94      0.94      0.94       619\n",
      "        SIRA       0.83      0.91      0.87       799\n",
      "\n",
      "    accuracy                           0.92      4084\n",
      "   macro avg       0.94      0.94      0.94      4084\n",
      "weighted avg       0.93      0.92      0.92      4084\n",
      "\n"
     ]
    }
   ],
   "source": [
    "# Print precision, recall, f1-score, and accuracy\n",
    "cr = classification_report(y_test, predictions)\n",
    "print(cr)"
   ]
  },
  {
   "cell_type": "markdown",
   "id": "01bf4082-f448-44c6-a0ea-b430fd0331a5",
   "metadata": {},
   "source": [
    "### One-vs-Rest Regression (OVR)"
   ]
  },
  {
   "cell_type": "markdown",
   "id": "c0d7f474-407e-45d4-9114-596489cd7cf2",
   "metadata": {},
   "source": [
    "MLR was better. Going to try to run a grid search for the best parameters."
   ]
  },
  {
   "cell_type": "code",
   "execution_count": null,
   "id": "cffb1da5-d44b-477e-91ad-4be53ced4e9a",
   "metadata": {},
   "outputs": [],
   "source": []
  },
  {
   "cell_type": "markdown",
   "id": "2de25f07-88fb-4088-b746-f74c9081b47e",
   "metadata": {},
   "source": [
    "### GridSearchCV with Logistic Regression"
   ]
  },
  {
   "cell_type": "code",
   "execution_count": 19,
   "id": "ec5cbc7a-0bfb-464d-9ab9-527e340c8915",
   "metadata": {},
   "outputs": [],
   "source": [
    "# Load libraries\n",
    "from sklearn.linear_model import LogisticRegression\n",
    "from sklearn.model_selection import GridSearchCV, RandomizedSearchCV"
   ]
  },
  {
   "cell_type": "code",
   "execution_count": 20,
   "id": "01c3763b-644b-4a90-aab0-a6029a05598f",
   "metadata": {},
   "outputs": [],
   "source": [
    "# Create logistic regression\n",
    "logistic = LogisticRegression(class_weight='balanced', \n",
    "                              random_state=42, \n",
    "                              max_iter=200, \n",
    "                              verbose=1, \n",
    "                              n_jobs=-1)"
   ]
  },
  {
   "cell_type": "code",
   "execution_count": 21,
   "id": "95840fca-700f-4496-b7b5-ffdc4fc38f8d",
   "metadata": {},
   "outputs": [],
   "source": [
    "# Create range of candidate penalty hyperparameter values\n",
    "parameter_space = {\n",
    "    'penalty': ['l1', 'l2', 'elasticnet'], \n",
    "    'C': np.logspace(3, 5, 7), \n",
    "    'solver': ['newton-cg', 'lbfgs', 'liblinear', 'sag', 'saga'], \n",
    "    'multi_class': ['ovr', 'multinomial'],\n",
    "}\n",
    "grid = GridSearchCV(logistic, parameter_space, verbose=2, n_jobs=-1, cv=5)"
   ]
  },
  {
   "cell_type": "code",
   "execution_count": 22,
   "id": "fbea8509-ce20-4c6f-ac31-3361e911d1ae",
   "metadata": {},
   "outputs": [
    {
     "name": "stdout",
     "output_type": "stream",
     "text": [
      "Fitting 5 folds for each of 210 candidates, totalling 1050 fits\n"
     ]
    },
    {
     "name": "stderr",
     "output_type": "stream",
     "text": [
      "C:\\ProgramData\\Anaconda3\\lib\\site-packages\\sklearn\\model_selection\\_search.py:922: UserWarning: One or more of the test scores are non-finite: [       nan        nan 0.92169554        nan 0.915293   0.91896638\n",
      " 0.91949126 0.92190546 0.91529289 0.915293          nan        nan\n",
      "        nan        nan        nan        nan        nan        nan\n",
      "        nan 0.9176021  0.92159056 0.91854665        nan 0.91760199\n",
      " 0.9176021         nan        nan        nan        nan        nan\n",
      "        nan        nan 0.92190552        nan 0.915293   0.91949104\n",
      " 0.91949115 0.92148562 0.91529289 0.915293          nan        nan\n",
      "        nan        nan        nan        nan        nan        nan\n",
      "        nan 0.9176021  0.92201045 0.91875646        nan 0.91770692\n",
      " 0.9176021         nan        nan        nan        nan        nan\n",
      "        nan        nan 0.92169554        nan 0.915293   0.91928129\n",
      " 0.91970118 0.9223253  0.91529289 0.915293          nan        nan\n",
      "        nan        nan        nan        nan        nan        nan\n",
      "        nan 0.9176021  0.92211538 0.91896633        nan 0.91770692\n",
      " 0.9176021         nan        nan        nan        nan        nan\n",
      "        nan        nan 0.92180053        nan 0.915293   0.91959619\n",
      " 0.91959636 0.9220105  0.91529289 0.915293          nan        nan\n",
      "        nan        nan        nan        nan        nan        nan\n",
      "        nan 0.9176021  0.92180059 0.91865136        nan 0.91770692\n",
      " 0.9176021         nan        nan        nan        nan        nan\n",
      "        nan        nan 0.92169554        nan 0.915293   0.92075088\n",
      " 0.91980633 0.92201056 0.91529289 0.915293          nan        nan\n",
      "        nan        nan        nan        nan        nan        nan\n",
      "        nan 0.9176021  0.92274525 0.91917619        nan 0.91770692\n",
      " 0.9176021         nan        nan        nan        nan        nan\n",
      "        nan        nan 0.92190552        nan 0.915293   0.92138086\n",
      " 0.91959641 0.92264043 0.91529289 0.915293          nan        nan\n",
      "        nan        nan        nan        nan        nan        nan\n",
      "        nan 0.9176021  0.92305993 0.91854654        nan 0.91770692\n",
      " 0.9176021         nan        nan        nan        nan        nan\n",
      "        nan        nan 0.92190552        nan 0.915293   0.92180059\n",
      " 0.91959647 0.92306032 0.91529289 0.915293          nan        nan\n",
      "        nan        nan        nan        nan        nan        nan\n",
      "        nan 0.9176021  0.92295511 0.91854632        nan 0.91770692\n",
      " 0.9176021         nan        nan        nan        nan        nan]\n",
      "  warnings.warn(\n",
      "C:\\ProgramData\\Anaconda3\\lib\\site-packages\\sklearn\\linear_model\\_logistic.py:1355: UserWarning: 'n_jobs' > 1 does not have any effect when 'solver' is set to 'liblinear'. Got 'n_jobs' = 8.\n",
      "  warnings.warn(\"'n_jobs' > 1 does not have any effect when\"\n"
     ]
    },
    {
     "name": "stdout",
     "output_type": "stream",
     "text": [
      "[LibLinear]Wall time: 23min 22s\n"
     ]
    }
   ],
   "source": [
    "%%time\n",
    "grid_result = grid.fit(X_train, y_train)"
   ]
  },
  {
   "cell_type": "code",
   "execution_count": 23,
   "id": "e7482893-e483-4666-9600-afb95214fd26",
   "metadata": {},
   "outputs": [
    {
     "name": "stdout",
     "output_type": "stream",
     "text": [
      "Best parameters found:\n",
      " {'C': 100000.0, 'multi_class': 'ovr', 'penalty': 'l2', 'solver': 'liblinear'}\n"
     ]
    }
   ],
   "source": [
    "print('Best parameters found:\\n', grid_result.best_params_)"
   ]
  },
  {
   "cell_type": "code",
   "execution_count": 24,
   "id": "6393b1f7-2bc2-401c-9c81-1b76b9bb392a",
   "metadata": {},
   "outputs": [
    {
     "name": "stdout",
     "output_type": "stream",
     "text": [
      "Accuracy:\t92.36\n"
     ]
    }
   ],
   "source": [
    "# Get accuracy score\n",
    "score = round(grid_result.score(X_test, y_test)*100, 2)\n",
    "print(f\"Accuracy:\\t{score}\")"
   ]
  },
  {
   "cell_type": "markdown",
   "id": "f28196f5-acdd-487c-b9d9-ebfa729674b9",
   "metadata": {},
   "source": [
    "### Evaluate"
   ]
  },
  {
   "cell_type": "code",
   "execution_count": 25,
   "id": "f1f9a325-c145-4f93-968f-32a48f894d34",
   "metadata": {},
   "outputs": [],
   "source": [
    "# Load libraries\n",
    "from sklearn.metrics import classification_report, confusion_matrix"
   ]
  },
  {
   "cell_type": "code",
   "execution_count": 26,
   "id": "c04d0e3d-a070-4493-a2d8-32986aed7c69",
   "metadata": {},
   "outputs": [],
   "source": [
    "# Get predictions\n",
    "predictions = grid_result.predict(X_test)"
   ]
  },
  {
   "cell_type": "markdown",
   "id": "cccae034-e85c-4622-bd69-aa50d08df62d",
   "metadata": {},
   "source": [
    "#### Confusion matrix"
   ]
  },
  {
   "cell_type": "code",
   "execution_count": 27,
   "id": "cadc3995-ea2d-4fb9-9be4-afa3e4b5e1b6",
   "metadata": {},
   "outputs": [
    {
     "name": "stdout",
     "output_type": "stream",
     "text": [
      "[[366   0  22   0   0   1   6]\n",
      " [  0 161   0   0   0   0   0]\n",
      " [ 17   0 447   0   7   2   6]\n",
      " [  0   0   0 930   2  19  92]\n",
      " [  2   0   8   5 557   0  16]\n",
      " [  9   0   0   7   0 583  20]\n",
      " [  2   0   2  51   9   7 728]]\n"
     ]
    }
   ],
   "source": [
    "# Print confusion matrix\n",
    "cm = confusion_matrix(y_test, predictions)\n",
    "print(cm)"
   ]
  },
  {
   "cell_type": "markdown",
   "id": "b5d845d6-5b12-426a-a439-0aae45681eb3",
   "metadata": {},
   "source": [
    "#### Classification report"
   ]
  },
  {
   "cell_type": "code",
   "execution_count": 28,
   "id": "49b0c7c0-c9de-4d7e-9767-e3c17957bb5b",
   "metadata": {},
   "outputs": [
    {
     "name": "stdout",
     "output_type": "stream",
     "text": [
      "              precision    recall  f1-score   support\n",
      "\n",
      "    BARBUNYA       0.92      0.93      0.93       395\n",
      "      BOMBAY       1.00      1.00      1.00       161\n",
      "        CALI       0.93      0.93      0.93       479\n",
      "    DERMASON       0.94      0.89      0.91      1043\n",
      "       HOROZ       0.97      0.95      0.96       588\n",
      "       SEKER       0.95      0.94      0.95       619\n",
      "        SIRA       0.84      0.91      0.87       799\n",
      "\n",
      "    accuracy                           0.92      4084\n",
      "   macro avg       0.94      0.94      0.94      4084\n",
      "weighted avg       0.93      0.92      0.92      4084\n",
      "\n"
     ]
    }
   ],
   "source": [
    "# Print precision, recall, f1-score, and accuracy\n",
    "cr = classification_report(y_test, predictions)\n",
    "print(cr)"
   ]
  },
  {
   "cell_type": "markdown",
   "id": "8d9edb9f-1b50-429a-914c-e19980edb15f",
   "metadata": {},
   "source": [
    "### GridSearchCV with Random Forest"
   ]
  },
  {
   "cell_type": "code",
   "execution_count": 29,
   "id": "2e31bc2e-3be9-49d4-8b47-8e28f0185dc2",
   "metadata": {},
   "outputs": [],
   "source": [
    "# Load libraries\n",
    "from sklearn.ensemble import RandomForestClassifier"
   ]
  },
  {
   "cell_type": "code",
   "execution_count": 30,
   "id": "f911a259-872e-43cc-a89a-af18bee307e3",
   "metadata": {},
   "outputs": [],
   "source": [
    "# Create classifier\n",
    "classifier = RandomForestClassifier(random_state=42,\n",
    "                                    verbose=1,\n",
    "                                    class_weight='balanced', \n",
    "                                    n_jobs=-1)"
   ]
  },
  {
   "cell_type": "code",
   "execution_count": 31,
   "id": "e7af313d-5358-4a83-aa04-1b8466d176b5",
   "metadata": {},
   "outputs": [],
   "source": [
    "# Create range of candidate penalty hyperparameter values\n",
    "parameter_space = {\n",
    "    'n_estimators': [10, 30, 100, 300, 1000], \n",
    "    'criterion': ['gini', 'entropy'], \n",
    "    'max_features': ['sqrt', 'log2'], \n",
    "}\n",
    "grid = GridSearchCV(classifier, parameter_space, verbose=2, n_jobs=-1, cv=5)"
   ]
  },
  {
   "cell_type": "code",
   "execution_count": 32,
   "id": "d8e8fc9d-dffe-4902-a9bf-a6365e7a7cdf",
   "metadata": {},
   "outputs": [
    {
     "name": "stdout",
     "output_type": "stream",
     "text": [
      "Fitting 5 folds for each of 20 candidates, totalling 100 fits\n"
     ]
    },
    {
     "name": "stderr",
     "output_type": "stream",
     "text": [
      "[Parallel(n_jobs=-1)]: Using backend ThreadingBackend with 8 concurrent workers.\n",
      "[Parallel(n_jobs=-1)]: Done  34 tasks      | elapsed:    0.6s\n"
     ]
    },
    {
     "name": "stdout",
     "output_type": "stream",
     "text": [
      "Wall time: 5min 4s\n"
     ]
    },
    {
     "name": "stderr",
     "output_type": "stream",
     "text": [
      "[Parallel(n_jobs=-1)]: Done 100 out of 100 | elapsed:    1.7s finished\n"
     ]
    }
   ],
   "source": [
    "%%time\n",
    "grid_result = grid.fit(X_train, y_train)"
   ]
  },
  {
   "cell_type": "code",
   "execution_count": 33,
   "id": "4238052b-586b-4061-a2d0-f5549842e3a3",
   "metadata": {},
   "outputs": [
    {
     "name": "stdout",
     "output_type": "stream",
     "text": [
      "Best parameters found:\n",
      " {'criterion': 'entropy', 'max_features': 'sqrt', 'n_estimators': 100}\n"
     ]
    }
   ],
   "source": [
    "print('Best parameters found:\\n', grid_result.best_params_)"
   ]
  },
  {
   "cell_type": "code",
   "execution_count": 34,
   "id": "bc62d85f-b1c0-4c4e-9bc9-656db2c643a9",
   "metadata": {},
   "outputs": [
    {
     "name": "stdout",
     "output_type": "stream",
     "text": [
      "Accuracy:\t92.41\n"
     ]
    },
    {
     "name": "stderr",
     "output_type": "stream",
     "text": [
      "[Parallel(n_jobs=8)]: Using backend ThreadingBackend with 8 concurrent workers.\n",
      "[Parallel(n_jobs=8)]: Done  34 tasks      | elapsed:    0.0s\n",
      "[Parallel(n_jobs=8)]: Done 100 out of 100 | elapsed:    0.0s finished\n"
     ]
    }
   ],
   "source": [
    "# Get accuracy score\n",
    "score = round(grid_result.score(X_test, y_test)*100, 2)\n",
    "print(f\"Accuracy:\\t{score}\")"
   ]
  },
  {
   "cell_type": "markdown",
   "id": "a1da10b4-8764-456c-b0af-601d29a17397",
   "metadata": {},
   "source": [
    "### Evaluate"
   ]
  },
  {
   "cell_type": "code",
   "execution_count": 35,
   "id": "2c724281-d305-402d-9148-8ecd5a4eea5e",
   "metadata": {},
   "outputs": [],
   "source": [
    "# Load libraries\n",
    "from sklearn.metrics import classification_report, confusion_matrix"
   ]
  },
  {
   "cell_type": "code",
   "execution_count": 36,
   "id": "ebdb71a8-bc20-4ed3-901e-f8e99c6da344",
   "metadata": {},
   "outputs": [
    {
     "name": "stderr",
     "output_type": "stream",
     "text": [
      "[Parallel(n_jobs=8)]: Using backend ThreadingBackend with 8 concurrent workers.\n",
      "[Parallel(n_jobs=8)]: Done  34 tasks      | elapsed:    0.0s\n",
      "[Parallel(n_jobs=8)]: Done 100 out of 100 | elapsed:    0.0s finished\n"
     ]
    }
   ],
   "source": [
    "# Get predictions\n",
    "predictions = grid_result.predict(X_test)"
   ]
  },
  {
   "cell_type": "markdown",
   "id": "ee305006-0010-4efe-8147-fbce12923570",
   "metadata": {},
   "source": [
    "#### Confusion matrix"
   ]
  },
  {
   "cell_type": "code",
   "execution_count": 37,
   "id": "996f642f-0f9e-433b-a4b6-326793f49f83",
   "metadata": {},
   "outputs": [
    {
     "name": "stdout",
     "output_type": "stream",
     "text": [
      "[[355   0  26   0   2   3   9]\n",
      " [  0 161   0   0   0   0   0]\n",
      " [ 17   0 447   0   8   2   5]\n",
      " [  0   0   0 969   2  17  55]\n",
      " [  3   0   8   3 557   0  17]\n",
      " [  4   0   0  18   0 584  13]\n",
      " [  1   0   1  78   8  10 701]]\n"
     ]
    }
   ],
   "source": [
    "# Print confusion matrix\n",
    "cm = confusion_matrix(y_test, predictions)\n",
    "print(cm)"
   ]
  },
  {
   "cell_type": "markdown",
   "id": "32942f35-7a45-4034-81fc-e5444e250c42",
   "metadata": {},
   "source": [
    "#### Classification report"
   ]
  },
  {
   "cell_type": "code",
   "execution_count": 38,
   "id": "f1f8175f-3ed7-42d6-bb66-87775e000ea7",
   "metadata": {},
   "outputs": [
    {
     "name": "stdout",
     "output_type": "stream",
     "text": [
      "              precision    recall  f1-score   support\n",
      "\n",
      "    BARBUNYA       0.93      0.90      0.92       395\n",
      "      BOMBAY       1.00      1.00      1.00       161\n",
      "        CALI       0.93      0.93      0.93       479\n",
      "    DERMASON       0.91      0.93      0.92      1043\n",
      "       HOROZ       0.97      0.95      0.96       588\n",
      "       SEKER       0.95      0.94      0.95       619\n",
      "        SIRA       0.88      0.88      0.88       799\n",
      "\n",
      "    accuracy                           0.92      4084\n",
      "   macro avg       0.94      0.93      0.93      4084\n",
      "weighted avg       0.92      0.92      0.92      4084\n",
      "\n"
     ]
    }
   ],
   "source": [
    "# Print precision, recall, f1-score, and accuracy\n",
    "cr = classification_report(y_test, predictions)\n",
    "print(cr)"
   ]
  },
  {
   "cell_type": "code",
   "execution_count": null,
   "id": "81836204-759b-4af4-850f-802002564856",
   "metadata": {},
   "outputs": [],
   "source": []
  },
  {
   "cell_type": "markdown",
   "id": "9d2ca6c9-8457-4731-934b-1b30e75a52ef",
   "metadata": {},
   "source": [
    "### GridSearchCV with Decision Tree"
   ]
  },
  {
   "cell_type": "code",
   "execution_count": 39,
   "id": "9a183283-c288-47b4-a6dc-13741045004c",
   "metadata": {},
   "outputs": [],
   "source": [
    "# Load libraries\n",
    "from sklearn.tree import DecisionTreeClassifier"
   ]
  },
  {
   "cell_type": "code",
   "execution_count": 40,
   "id": "453b7217-7398-4b26-8099-e1e8a1528fd2",
   "metadata": {},
   "outputs": [],
   "source": [
    "# Create decision tree regressor object\n",
    "decisiontree = DecisionTreeClassifier(random_state=42, class_weight='balanced')"
   ]
  },
  {
   "cell_type": "code",
   "execution_count": 41,
   "id": "61e32308-7bc0-40a7-8f38-f2aae9bd0b20",
   "metadata": {},
   "outputs": [],
   "source": [
    "# Create range of candidate penalty hyperparameter values\n",
    "parameter_space = {\n",
    "    'criterion': ['gini', 'entropy'], \n",
    "    'splitter': ['best', 'random'], \n",
    "    'max_features': ['sqrt', 'log2'], \n",
    "}\n",
    "grid = GridSearchCV(decisiontree, parameter_space, verbose=2, n_jobs=-1, cv=5)"
   ]
  },
  {
   "cell_type": "code",
   "execution_count": 42,
   "id": "ac64a16c-7a2c-49cd-8af1-04aed4534ee5",
   "metadata": {},
   "outputs": [
    {
     "name": "stdout",
     "output_type": "stream",
     "text": [
      "Fitting 5 folds for each of 8 candidates, totalling 40 fits\n",
      "Wall time: 915 ms\n"
     ]
    }
   ],
   "source": [
    "%%time\n",
    "grid_result = grid.fit(X_train, y_train)"
   ]
  },
  {
   "cell_type": "code",
   "execution_count": 43,
   "id": "6056e7da-e50f-46a5-9eaa-b086f7a35252",
   "metadata": {},
   "outputs": [
    {
     "name": "stdout",
     "output_type": "stream",
     "text": [
      "Best parameters found:\n",
      " {'criterion': 'entropy', 'max_features': 'sqrt', 'splitter': 'best'}\n"
     ]
    }
   ],
   "source": [
    "print('Best parameters found:\\n', grid_result.best_params_)"
   ]
  },
  {
   "cell_type": "code",
   "execution_count": 44,
   "id": "08fcd655-aaea-453a-b170-86adcd6f95fa",
   "metadata": {},
   "outputs": [
    {
     "name": "stdout",
     "output_type": "stream",
     "text": [
      "Accuracy:\t88.34\n"
     ]
    }
   ],
   "source": [
    "# Get accuracy score\n",
    "score = round(grid_result.score(X_test, y_test)*100, 2)\n",
    "print(f\"Accuracy:\\t{score}\")"
   ]
  },
  {
   "cell_type": "markdown",
   "id": "ca4e506b-a6da-4228-9f6d-c04cd1f52aaa",
   "metadata": {},
   "source": [
    "### Evaluate"
   ]
  },
  {
   "cell_type": "code",
   "execution_count": 45,
   "id": "321b9de0-fac0-4afb-a248-ee20be8da7ee",
   "metadata": {},
   "outputs": [],
   "source": [
    "# Load libraries\n",
    "from sklearn.metrics import classification_report, confusion_matrix"
   ]
  },
  {
   "cell_type": "code",
   "execution_count": 46,
   "id": "0e450ed5-717e-4d6a-bc61-2d2f231082ff",
   "metadata": {},
   "outputs": [],
   "source": [
    "# Get predictions\n",
    "predictions = grid_result.predict(X_test)"
   ]
  },
  {
   "cell_type": "markdown",
   "id": "dd52b365-0326-4c66-a4ed-e18c51bc1423",
   "metadata": {},
   "source": [
    "#### Confusion matrix"
   ]
  },
  {
   "cell_type": "code",
   "execution_count": 47,
   "id": "32d22f76-26ad-4f3d-a6b3-045f10c989e6",
   "metadata": {},
   "outputs": [
    {
     "name": "stdout",
     "output_type": "stream",
     "text": [
      "[[342   0  35   0   2   6  10]\n",
      " [  0 161   0   0   0   0   0]\n",
      " [ 38   0 428   0   9   1   3]\n",
      " [  0   0   0 918   7  17 101]\n",
      " [  5   0  15   8 537   0  23]\n",
      " [  6   0   1  34   0 557  21]\n",
      " [ 11   0   2  82  18  21 665]]\n"
     ]
    }
   ],
   "source": [
    "# Print confusion matrix\n",
    "cm = confusion_matrix(y_test, predictions)\n",
    "print(cm)"
   ]
  },
  {
   "cell_type": "markdown",
   "id": "417d41a2-e4c2-41c5-abee-2cffffe9d9bd",
   "metadata": {},
   "source": [
    "#### Classification report"
   ]
  },
  {
   "cell_type": "code",
   "execution_count": 48,
   "id": "e1c01d87-c34d-4d12-aa0a-c626bda9ee17",
   "metadata": {},
   "outputs": [
    {
     "name": "stdout",
     "output_type": "stream",
     "text": [
      "              precision    recall  f1-score   support\n",
      "\n",
      "    BARBUNYA       0.85      0.87      0.86       395\n",
      "      BOMBAY       1.00      1.00      1.00       161\n",
      "        CALI       0.89      0.89      0.89       479\n",
      "    DERMASON       0.88      0.88      0.88      1043\n",
      "       HOROZ       0.94      0.91      0.93       588\n",
      "       SEKER       0.93      0.90      0.91       619\n",
      "        SIRA       0.81      0.83      0.82       799\n",
      "\n",
      "    accuracy                           0.88      4084\n",
      "   macro avg       0.90      0.90      0.90      4084\n",
      "weighted avg       0.88      0.88      0.88      4084\n",
      "\n"
     ]
    }
   ],
   "source": [
    "# Print precision, recall, f1-score, and accuracy\n",
    "cr = classification_report(y_test, predictions)\n",
    "print(cr)"
   ]
  },
  {
   "cell_type": "code",
   "execution_count": null,
   "id": "907eeade-20bf-41d1-a0b1-3b61652b926b",
   "metadata": {},
   "outputs": [],
   "source": []
  },
  {
   "cell_type": "markdown",
   "id": "a116ee18-9561-4b6f-9c16-25207e714fdb",
   "metadata": {},
   "source": [
    "### GridSearchCV with AdaBoost"
   ]
  },
  {
   "cell_type": "code",
   "execution_count": 49,
   "id": "3ea718cb-6cb6-434d-9079-015c2c5acf95",
   "metadata": {},
   "outputs": [],
   "source": [
    "# Load libraries\n",
    "from sklearn.ensemble import AdaBoostClassifier"
   ]
  },
  {
   "cell_type": "code",
   "execution_count": 50,
   "id": "d9db9d18-e1ca-40c7-bbe6-1d5a8db09e97",
   "metadata": {},
   "outputs": [],
   "source": [
    "# Create ...\n",
    "adaboost = AdaBoostClassifier(random_state=42)"
   ]
  },
  {
   "cell_type": "code",
   "execution_count": 51,
   "id": "a8c23a12-356e-444d-ad45-70004bb9c7ad",
   "metadata": {},
   "outputs": [],
   "source": [
    "# Create range of candidate penalty hyperparameter values\n",
    "parameter_space = {\n",
    "    'n_estimators': [10, 30, 100, 300, 1000], \n",
    "    'algorithm': ['SAMME', 'SAMME.R'], \n",
    "}\n",
    "grid = GridSearchCV(adaboost, parameter_space, verbose=2, n_jobs=-1, cv=5)"
   ]
  },
  {
   "cell_type": "code",
   "execution_count": 52,
   "id": "315eaa4c-7c2d-4337-af3c-3af7109f755a",
   "metadata": {},
   "outputs": [
    {
     "name": "stdout",
     "output_type": "stream",
     "text": [
      "Fitting 5 folds for each of 10 candidates, totalling 50 fits\n",
      "Wall time: 2min 1s\n"
     ]
    }
   ],
   "source": [
    "%%time\n",
    "grid_result = grid.fit(X_train, y_train)"
   ]
  },
  {
   "cell_type": "code",
   "execution_count": 53,
   "id": "13626f69-12c5-4813-be4b-240598f107ff",
   "metadata": {},
   "outputs": [
    {
     "name": "stdout",
     "output_type": "stream",
     "text": [
      "Best parameters found:\n",
      " {'algorithm': 'SAMME', 'n_estimators': 100}\n"
     ]
    }
   ],
   "source": [
    "print('Best parameters found:\\n', grid_result.best_params_)"
   ]
  },
  {
   "cell_type": "code",
   "execution_count": 54,
   "id": "14b81f55-c2cd-448f-b926-476c5d203b25",
   "metadata": {},
   "outputs": [
    {
     "name": "stdout",
     "output_type": "stream",
     "text": [
      "Accuracy:\t79.29\n"
     ]
    }
   ],
   "source": [
    "# Get accuracy score\n",
    "score = round(grid_result.score(X_test, y_test)*100, 2)\n",
    "print(f\"Accuracy:\\t{score}\")"
   ]
  },
  {
   "cell_type": "markdown",
   "id": "096e9b66-c9be-454c-8d9b-388f14318f45",
   "metadata": {},
   "source": [
    "### Evaluate"
   ]
  },
  {
   "cell_type": "code",
   "execution_count": 55,
   "id": "cc748a96-7239-4a2d-8012-cd77f97be103",
   "metadata": {},
   "outputs": [],
   "source": [
    "# Load libraries\n",
    "from sklearn.metrics import classification_report, confusion_matrix"
   ]
  },
  {
   "cell_type": "code",
   "execution_count": 56,
   "id": "67ef54d7-aba6-4bfe-b3da-20a21578497f",
   "metadata": {},
   "outputs": [],
   "source": [
    "# Get predictions\n",
    "predictions = grid_result.predict(X_test)"
   ]
  },
  {
   "cell_type": "markdown",
   "id": "68da2490-169a-416e-bb60-b2d034439f96",
   "metadata": {},
   "source": [
    "#### Confusion matrix"
   ]
  },
  {
   "cell_type": "code",
   "execution_count": 57,
   "id": "16c23792-d7bd-4c49-80be-3e16ca858767",
   "metadata": {},
   "outputs": [
    {
     "name": "stdout",
     "output_type": "stream",
     "text": [
      "[[355   0  29   0   0   2   9]\n",
      " [  0  35 126   0   0   0   0]\n",
      " [281   0 180   0  12   2   4]\n",
      " [  0   0   0 920   3  74  46]\n",
      " [ 30   0   3   6 541   0   8]\n",
      " [  7   0   0  24   0 573  15]\n",
      " [ 14   0   1 122  17  11 634]]\n"
     ]
    }
   ],
   "source": [
    "# Print confusion matrix\n",
    "cm = confusion_matrix(y_test, predictions)\n",
    "print(cm)"
   ]
  },
  {
   "cell_type": "markdown",
   "id": "ba9e0e2d-aa44-4f5c-92d7-ce05ce8d4937",
   "metadata": {},
   "source": [
    "#### Classification report"
   ]
  },
  {
   "cell_type": "code",
   "execution_count": 58,
   "id": "70289d48-df2f-4013-b84a-7b0f2a13da32",
   "metadata": {},
   "outputs": [
    {
     "name": "stdout",
     "output_type": "stream",
     "text": [
      "              precision    recall  f1-score   support\n",
      "\n",
      "    BARBUNYA       0.52      0.90      0.66       395\n",
      "      BOMBAY       1.00      0.22      0.36       161\n",
      "        CALI       0.53      0.38      0.44       479\n",
      "    DERMASON       0.86      0.88      0.87      1043\n",
      "       HOROZ       0.94      0.92      0.93       588\n",
      "       SEKER       0.87      0.93      0.89       619\n",
      "        SIRA       0.89      0.79      0.84       799\n",
      "\n",
      "    accuracy                           0.79      4084\n",
      "   macro avg       0.80      0.72      0.71      4084\n",
      "weighted avg       0.81      0.79      0.78      4084\n",
      "\n"
     ]
    }
   ],
   "source": [
    "# Print precision, recall, f1-score, and accuracy\n",
    "cr = classification_report(y_test, predictions)\n",
    "print(cr)"
   ]
  },
  {
   "cell_type": "markdown",
   "id": "c1f16538-336a-4043-a626-9d1c18b17946",
   "metadata": {},
   "source": [
    "### 17.1 Support Vector Classifier"
   ]
  },
  {
   "cell_type": "code",
   "execution_count": 59,
   "id": "7c501da4-ceda-49b5-a0da-4002eaf5e8af",
   "metadata": {},
   "outputs": [],
   "source": [
    "# Load libraries\n",
    "from sklearn.svm import LinearSVC"
   ]
  },
  {
   "cell_type": "code",
   "execution_count": 60,
   "id": "bf7668da-bd4c-45b7-9442-d6e3a53b1ab2",
   "metadata": {},
   "outputs": [],
   "source": [
    "# Create support vector classifier\n",
    "svc = LinearSVC(random_state=42, dual=False, class_weight='balanced', verbose=1, max_iter=100000)"
   ]
  },
  {
   "cell_type": "code",
   "execution_count": 61,
   "id": "55534fe0-504f-44b6-a9ee-d3df9547153c",
   "metadata": {},
   "outputs": [],
   "source": [
    "# Create range of candidate penalty hyperparameter values\n",
    "parameter_space = {\n",
    "    'penalty': ['l1', 'l2'], \n",
    "    'loss': ['hinge', 'squared_hinge'], \n",
    "    'C': np.logspace(0, 3, 5), \n",
    "    'multi_class': ['ovr', 'crammer_singer'], \n",
    "}\n",
    "grid = GridSearchCV(svc, parameter_space, verbose=2, n_jobs=-1, cv=5)"
   ]
  },
  {
   "cell_type": "code",
   "execution_count": 62,
   "id": "b13d3229-6207-4b73-87cc-2ca06336e8e6",
   "metadata": {},
   "outputs": [
    {
     "name": "stdout",
     "output_type": "stream",
     "text": [
      "Fitting 5 folds for each of 40 candidates, totalling 200 fits\n"
     ]
    },
    {
     "name": "stderr",
     "output_type": "stream",
     "text": [
      "C:\\ProgramData\\Anaconda3\\lib\\site-packages\\sklearn\\model_selection\\_search.py:922: UserWarning: One or more of the test scores are non-finite: [       nan        nan 0.9191763  0.9191763  0.91749656 0.9150828\n",
      " 0.9191763  0.9191763         nan        nan 0.91791706 0.91791706\n",
      " 0.91949076 0.91739158 0.91791706 0.91791706        nan        nan\n",
      " 0.91970107 0.91970107 0.92085559 0.91917602 0.91970107 0.91970107\n",
      "        nan        nan 0.92264009 0.92264009 0.92096064 0.92075061\n",
      " 0.92264009 0.92264009        nan        nan 0.75953676 0.75953676\n",
      " 0.92085565 0.92096064 0.75953676 0.75953676]\n",
      "  warnings.warn(\n"
     ]
    },
    {
     "name": "stdout",
     "output_type": "stream",
     "text": [
      "[LibLinear]Wall time: 27min 37s\n"
     ]
    },
    {
     "name": "stderr",
     "output_type": "stream",
     "text": [
      "C:\\ProgramData\\Anaconda3\\lib\\site-packages\\sklearn\\svm\\_base.py:985: ConvergenceWarning: Liblinear failed to converge, increase the number of iterations.\n",
      "  warnings.warn(\"Liblinear failed to converge, increase \"\n"
     ]
    }
   ],
   "source": [
    "%%time\n",
    "grid_result = grid.fit(X_train, y_train)"
   ]
  },
  {
   "cell_type": "code",
   "execution_count": 63,
   "id": "fb1f71b8-cb32-439c-bb0c-29c6eeae0720",
   "metadata": {},
   "outputs": [
    {
     "name": "stdout",
     "output_type": "stream",
     "text": [
      "Best parameters found:\n",
      " {'C': 177.82794100389228, 'loss': 'hinge', 'multi_class': 'crammer_singer', 'penalty': 'l1'}\n"
     ]
    }
   ],
   "source": [
    "print('Best parameters found:\\n', grid_result.best_params_)"
   ]
  },
  {
   "cell_type": "code",
   "execution_count": 64,
   "id": "edee118c-23ab-4247-8ab3-55cb714c2fc4",
   "metadata": {},
   "outputs": [
    {
     "name": "stdout",
     "output_type": "stream",
     "text": [
      "Accuracy:\t92.41\n"
     ]
    }
   ],
   "source": [
    "# Get accuracy score\n",
    "score = round(grid_result.score(X_test, y_test)*100, 2)\n",
    "print(f\"Accuracy:\\t{score}\")"
   ]
  },
  {
   "cell_type": "markdown",
   "id": "94418766-bc1e-4205-8308-e7ae9ed7585b",
   "metadata": {},
   "source": [
    "### Evaluate"
   ]
  },
  {
   "cell_type": "code",
   "execution_count": 65,
   "id": "9c13ab3f-688d-47e5-afb3-cc0c5f42326f",
   "metadata": {},
   "outputs": [],
   "source": [
    "# Load libraries\n",
    "from sklearn.metrics import classification_report, confusion_matrix"
   ]
  },
  {
   "cell_type": "code",
   "execution_count": 66,
   "id": "a27bf744-82e0-4a11-a58e-339f4ae52e4b",
   "metadata": {},
   "outputs": [],
   "source": [
    "# Get predictions\n",
    "predictions = grid_result.predict(X_test)"
   ]
  },
  {
   "cell_type": "markdown",
   "id": "45605393-19f9-42e2-bdb7-0ebc0d546e1f",
   "metadata": {},
   "source": [
    "#### Confusion matrix"
   ]
  },
  {
   "cell_type": "code",
   "execution_count": 67,
   "id": "715b55c9-7ad0-4a98-9fec-752475723e77",
   "metadata": {},
   "outputs": [
    {
     "name": "stdout",
     "output_type": "stream",
     "text": [
      "[[370   0  20   0   0   0   5]\n",
      " [  0 161   0   0   0   0   0]\n",
      " [ 21   0 445   0   7   1   5]\n",
      " [  0   0   0 927   5  18  93]\n",
      " [  3   0   7   3 559   0  16]\n",
      " [ 10   0   0   8   0 583  18]\n",
      " [  3   0   2  46  10   9 729]]\n"
     ]
    }
   ],
   "source": [
    "# Print confusion matrix\n",
    "cm = confusion_matrix(y_test, predictions)\n",
    "print(cm)"
   ]
  },
  {
   "cell_type": "markdown",
   "id": "82533863-c75e-47a2-bd44-67d777561492",
   "metadata": {},
   "source": [
    "#### Classification report"
   ]
  },
  {
   "cell_type": "code",
   "execution_count": 68,
   "id": "4bbb8db8-91ad-473b-b8d5-9860ae33e09a",
   "metadata": {},
   "outputs": [
    {
     "name": "stdout",
     "output_type": "stream",
     "text": [
      "              precision    recall  f1-score   support\n",
      "\n",
      "    BARBUNYA       0.91      0.94      0.92       395\n",
      "      BOMBAY       1.00      1.00      1.00       161\n",
      "        CALI       0.94      0.93      0.93       479\n",
      "    DERMASON       0.94      0.89      0.91      1043\n",
      "       HOROZ       0.96      0.95      0.96       588\n",
      "       SEKER       0.95      0.94      0.95       619\n",
      "        SIRA       0.84      0.91      0.88       799\n",
      "\n",
      "    accuracy                           0.92      4084\n",
      "   macro avg       0.94      0.94      0.94      4084\n",
      "weighted avg       0.93      0.92      0.92      4084\n",
      "\n"
     ]
    }
   ],
   "source": [
    "# Print precision, recall, f1-score, and accuracy\n",
    "cr = classification_report(y_test, predictions)\n",
    "print(cr)"
   ]
  },
  {
   "cell_type": "code",
   "execution_count": null,
   "id": "40791199-56fc-4ab7-85c4-fb47a24300db",
   "metadata": {},
   "outputs": [],
   "source": []
  },
  {
   "cell_type": "markdown",
   "id": "fa6c2283-05ff-4d9e-ad16-488bedf7296b",
   "metadata": {},
   "source": [
    "### 17.2 Linearly Inseparable Classes Using Kernels (& SVC)"
   ]
  },
  {
   "cell_type": "code",
   "execution_count": 69,
   "id": "56294ec3-616a-4d7b-9a56-013378b457ac",
   "metadata": {},
   "outputs": [],
   "source": [
    "# Load libraries\n",
    "from sklearn.svm import SVC"
   ]
  },
  {
   "cell_type": "code",
   "execution_count": 70,
   "id": "84f645f9-3f6b-4f4f-a4e3-fa56b02ab2dc",
   "metadata": {},
   "outputs": [],
   "source": [
    "# Create support vector classifier\n",
    "svc = SVC(random_state=42, class_weight='balanced', verbose=1, max_iter=5000)"
   ]
  },
  {
   "cell_type": "code",
   "execution_count": 71,
   "id": "dd99ec03-8845-4242-85bc-7fcd0d56eb0d",
   "metadata": {},
   "outputs": [],
   "source": [
    "# Create range of candidate penalty hyperparameter values\n",
    "parameter_space = {\n",
    "    'kernel': ['linear', 'poly', 'rbf', 'sigmoid'],\n",
    "    'gamma': ['scale', 'auto'], \n",
    "    'C': np.logspace(0, 2, 5), \n",
    "    'shrinking': [True, False], \n",
    "    'decision_function_shape': ['ovo', 'ovr'],\n",
    "}\n",
    "grid = GridSearchCV(svc, parameter_space, verbose=2, n_jobs=-1, cv=5)"
   ]
  },
  {
   "cell_type": "code",
   "execution_count": 72,
   "id": "977c989d-360f-4db9-8874-daed7fa5ff55",
   "metadata": {},
   "outputs": [
    {
     "name": "stdout",
     "output_type": "stream",
     "text": [
      "Fitting 5 folds for each of 160 candidates, totalling 800 fits\n",
      "[LibSVM]Wall time: 4min 27s\n"
     ]
    }
   ],
   "source": [
    "%%time\n",
    "grid_result = grid.fit(X_train, y_train)"
   ]
  },
  {
   "cell_type": "code",
   "execution_count": 73,
   "id": "de6ac5d1-4f99-44aa-a104-1bda6ef8a0e0",
   "metadata": {},
   "outputs": [
    {
     "name": "stdout",
     "output_type": "stream",
     "text": [
      "Best parameters found:\n",
      " {'C': 31.622776601683793, 'decision_function_shape': 'ovo', 'gamma': 'scale', 'kernel': 'rbf', 'shrinking': True}\n"
     ]
    }
   ],
   "source": [
    "print('Best parameters found:\\n', grid_result.best_params_)"
   ]
  },
  {
   "cell_type": "code",
   "execution_count": 74,
   "id": "6151775f-0ec2-4c8d-a727-05f6a574516b",
   "metadata": {},
   "outputs": [
    {
     "name": "stdout",
     "output_type": "stream",
     "text": [
      "Accuracy:\t93.22\n"
     ]
    }
   ],
   "source": [
    "# Get accuracy score\n",
    "score = round(grid_result.score(X_test, y_test)*100, 2)\n",
    "print(f\"Accuracy:\\t{score}\")"
   ]
  },
  {
   "cell_type": "markdown",
   "id": "a37f8ad9-610c-495a-99ed-f06db4c1adac",
   "metadata": {},
   "source": [
    "### Evaluate"
   ]
  },
  {
   "cell_type": "code",
   "execution_count": 75,
   "id": "abddc5a2-8fe0-40da-beb1-9b1b7c68d615",
   "metadata": {},
   "outputs": [],
   "source": [
    "# Load libraries\n",
    "from sklearn.metrics import classification_report, confusion_matrix"
   ]
  },
  {
   "cell_type": "code",
   "execution_count": 76,
   "id": "46bfd8f0-a0ba-458f-b406-dc83788ad097",
   "metadata": {},
   "outputs": [],
   "source": [
    "# Get predictions\n",
    "predictions = grid_result.predict(X_test)"
   ]
  },
  {
   "cell_type": "markdown",
   "id": "a3313166-2828-44e5-9076-8e38193a7041",
   "metadata": {},
   "source": [
    "#### Confusion matrix"
   ]
  },
  {
   "cell_type": "code",
   "execution_count": 77,
   "id": "82ac3456-1e67-46bc-918c-4f1e207df6e8",
   "metadata": {},
   "outputs": [
    {
     "name": "stdout",
     "output_type": "stream",
     "text": [
      "[[372   0  17   0   1   2   3]\n",
      " [  0 161   0   0   0   0   0]\n",
      " [ 19   0 447   0   8   2   3]\n",
      " [  0   0   0 952   1  18  72]\n",
      " [  3   0   6   6 563   0  10]\n",
      " [  4   0   0  12   0 591  12]\n",
      " [  2   0   1  58   8   9 721]]\n"
     ]
    }
   ],
   "source": [
    "# Print confusion matrix\n",
    "cm = confusion_matrix(y_test, predictions)\n",
    "print(cm)"
   ]
  },
  {
   "cell_type": "markdown",
   "id": "68294744-b9a2-4308-a77b-3cd411c9badb",
   "metadata": {},
   "source": [
    "#### Classification report"
   ]
  },
  {
   "cell_type": "code",
   "execution_count": 78,
   "id": "03a1a35e-39df-4295-92bc-61354c86ddfb",
   "metadata": {},
   "outputs": [
    {
     "name": "stdout",
     "output_type": "stream",
     "text": [
      "              precision    recall  f1-score   support\n",
      "\n",
      "    BARBUNYA       0.93      0.94      0.94       395\n",
      "      BOMBAY       1.00      1.00      1.00       161\n",
      "        CALI       0.95      0.93      0.94       479\n",
      "    DERMASON       0.93      0.91      0.92      1043\n",
      "       HOROZ       0.97      0.96      0.96       588\n",
      "       SEKER       0.95      0.95      0.95       619\n",
      "        SIRA       0.88      0.90      0.89       799\n",
      "\n",
      "    accuracy                           0.93      4084\n",
      "   macro avg       0.94      0.94      0.94      4084\n",
      "weighted avg       0.93      0.93      0.93      4084\n",
      "\n"
     ]
    }
   ],
   "source": [
    "# Print precision, recall, f1-score, and accuracy\n",
    "cr = classification_report(y_test, predictions)\n",
    "print(cr)"
   ]
  }
 ],
 "metadata": {
  "kernelspec": {
   "display_name": "Python 3",
   "language": "python",
   "name": "python3"
  },
  "language_info": {
   "codemirror_mode": {
    "name": "ipython",
    "version": 3
   },
   "file_extension": ".py",
   "mimetype": "text/x-python",
   "name": "python",
   "nbconvert_exporter": "python",
   "pygments_lexer": "ipython3",
   "version": "3.8.8"
  }
 },
 "nbformat": 4,
 "nbformat_minor": 5
}
