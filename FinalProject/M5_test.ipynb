{
 "cells": [
  {
   "cell_type": "code",
   "execution_count": null,
   "id": "926ee10e-3002-4316-8413-ad6053f73ba2",
   "metadata": {},
   "outputs": [],
   "source": []
  },
  {
   "cell_type": "code",
   "execution_count": 1,
   "id": "e1b9aba6-5863-4f89-891b-0cddd772a2d3",
   "metadata": {},
   "outputs": [
    {
     "name": "stderr",
     "output_type": "stream",
     "text": [
      "C:\\ProgramData\\Anaconda3\\lib\\site-packages\\numpy\\_distributor_init.py:30: UserWarning: loaded more than 1 DLL from .libs:\n",
      "C:\\ProgramData\\Anaconda3\\lib\\site-packages\\numpy\\.libs\\libopenblas.NOIJJG62EMASZI6NYURL6JBKM4EVBGM7.gfortran-win_amd64.dll\n",
      "C:\\ProgramData\\Anaconda3\\lib\\site-packages\\numpy\\.libs\\libopenblas.WCDJNK7YVMPZQ2ME2ZZHJJRJ3JIKNDB7.gfortran-win_amd64.dll\n",
      "  warnings.warn(\"loaded more than 1 DLL from .libs:\"\n"
     ]
    }
   ],
   "source": [
    "# Load Libraries\n",
    "import pandas as pd\n",
    "import numpy as np\n",
    "\n",
    "# Set random seed\n",
    "np.random.seed(42)"
   ]
  },
  {
   "cell_type": "markdown",
   "id": "81391133-7b10-4747-a79e-3f03bd50b588",
   "metadata": {},
   "source": [
    "### Load Data"
   ]
  },
  {
   "cell_type": "code",
   "execution_count": 2,
   "id": "86215a6b-91d8-4a4d-843c-e5f05ec3077c",
   "metadata": {},
   "outputs": [],
   "source": [
    "# Load data to a DataFrame\n",
    "beanDF = pd.read_excel('DryBeanDataset/Dry_Bean_Dataset.xlsx')"
   ]
  },
  {
   "cell_type": "code",
   "execution_count": 3,
   "id": "1031f6f1-30ad-41b8-a159-8f0960175799",
   "metadata": {},
   "outputs": [
    {
     "data": {
      "text/html": [
       "<div>\n",
       "<style scoped>\n",
       "    .dataframe tbody tr th:only-of-type {\n",
       "        vertical-align: middle;\n",
       "    }\n",
       "\n",
       "    .dataframe tbody tr th {\n",
       "        vertical-align: top;\n",
       "    }\n",
       "\n",
       "    .dataframe thead th {\n",
       "        text-align: right;\n",
       "    }\n",
       "</style>\n",
       "<table border=\"1\" class=\"dataframe\">\n",
       "  <thead>\n",
       "    <tr style=\"text-align: right;\">\n",
       "      <th></th>\n",
       "      <th>Area</th>\n",
       "      <th>Perimeter</th>\n",
       "      <th>MajorAxisLength</th>\n",
       "      <th>MinorAxisLength</th>\n",
       "      <th>AspectRation</th>\n",
       "      <th>Eccentricity</th>\n",
       "      <th>ConvexArea</th>\n",
       "      <th>EquivDiameter</th>\n",
       "      <th>Extent</th>\n",
       "      <th>Solidity</th>\n",
       "      <th>roundness</th>\n",
       "      <th>Compactness</th>\n",
       "      <th>ShapeFactor1</th>\n",
       "      <th>ShapeFactor2</th>\n",
       "      <th>ShapeFactor3</th>\n",
       "      <th>ShapeFactor4</th>\n",
       "      <th>Class</th>\n",
       "    </tr>\n",
       "  </thead>\n",
       "  <tbody>\n",
       "    <tr>\n",
       "      <th>0</th>\n",
       "      <td>28395</td>\n",
       "      <td>610.291</td>\n",
       "      <td>208.178117</td>\n",
       "      <td>173.888747</td>\n",
       "      <td>1.197191</td>\n",
       "      <td>0.549812</td>\n",
       "      <td>28715</td>\n",
       "      <td>190.141097</td>\n",
       "      <td>0.763923</td>\n",
       "      <td>0.988856</td>\n",
       "      <td>0.958027</td>\n",
       "      <td>0.913358</td>\n",
       "      <td>0.007332</td>\n",
       "      <td>0.003147</td>\n",
       "      <td>0.834222</td>\n",
       "      <td>0.998724</td>\n",
       "      <td>SEKER</td>\n",
       "    </tr>\n",
       "    <tr>\n",
       "      <th>1</th>\n",
       "      <td>28734</td>\n",
       "      <td>638.018</td>\n",
       "      <td>200.524796</td>\n",
       "      <td>182.734419</td>\n",
       "      <td>1.097356</td>\n",
       "      <td>0.411785</td>\n",
       "      <td>29172</td>\n",
       "      <td>191.272750</td>\n",
       "      <td>0.783968</td>\n",
       "      <td>0.984986</td>\n",
       "      <td>0.887034</td>\n",
       "      <td>0.953861</td>\n",
       "      <td>0.006979</td>\n",
       "      <td>0.003564</td>\n",
       "      <td>0.909851</td>\n",
       "      <td>0.998430</td>\n",
       "      <td>SEKER</td>\n",
       "    </tr>\n",
       "    <tr>\n",
       "      <th>2</th>\n",
       "      <td>29380</td>\n",
       "      <td>624.110</td>\n",
       "      <td>212.826130</td>\n",
       "      <td>175.931143</td>\n",
       "      <td>1.209713</td>\n",
       "      <td>0.562727</td>\n",
       "      <td>29690</td>\n",
       "      <td>193.410904</td>\n",
       "      <td>0.778113</td>\n",
       "      <td>0.989559</td>\n",
       "      <td>0.947849</td>\n",
       "      <td>0.908774</td>\n",
       "      <td>0.007244</td>\n",
       "      <td>0.003048</td>\n",
       "      <td>0.825871</td>\n",
       "      <td>0.999066</td>\n",
       "      <td>SEKER</td>\n",
       "    </tr>\n",
       "    <tr>\n",
       "      <th>3</th>\n",
       "      <td>30008</td>\n",
       "      <td>645.884</td>\n",
       "      <td>210.557999</td>\n",
       "      <td>182.516516</td>\n",
       "      <td>1.153638</td>\n",
       "      <td>0.498616</td>\n",
       "      <td>30724</td>\n",
       "      <td>195.467062</td>\n",
       "      <td>0.782681</td>\n",
       "      <td>0.976696</td>\n",
       "      <td>0.903936</td>\n",
       "      <td>0.928329</td>\n",
       "      <td>0.007017</td>\n",
       "      <td>0.003215</td>\n",
       "      <td>0.861794</td>\n",
       "      <td>0.994199</td>\n",
       "      <td>SEKER</td>\n",
       "    </tr>\n",
       "    <tr>\n",
       "      <th>4</th>\n",
       "      <td>30140</td>\n",
       "      <td>620.134</td>\n",
       "      <td>201.847882</td>\n",
       "      <td>190.279279</td>\n",
       "      <td>1.060798</td>\n",
       "      <td>0.333680</td>\n",
       "      <td>30417</td>\n",
       "      <td>195.896503</td>\n",
       "      <td>0.773098</td>\n",
       "      <td>0.990893</td>\n",
       "      <td>0.984877</td>\n",
       "      <td>0.970516</td>\n",
       "      <td>0.006697</td>\n",
       "      <td>0.003665</td>\n",
       "      <td>0.941900</td>\n",
       "      <td>0.999166</td>\n",
       "      <td>SEKER</td>\n",
       "    </tr>\n",
       "  </tbody>\n",
       "</table>\n",
       "</div>"
      ],
      "text/plain": [
       "    Area  Perimeter  MajorAxisLength  MinorAxisLength  AspectRation  \\\n",
       "0  28395    610.291       208.178117       173.888747      1.197191   \n",
       "1  28734    638.018       200.524796       182.734419      1.097356   \n",
       "2  29380    624.110       212.826130       175.931143      1.209713   \n",
       "3  30008    645.884       210.557999       182.516516      1.153638   \n",
       "4  30140    620.134       201.847882       190.279279      1.060798   \n",
       "\n",
       "   Eccentricity  ConvexArea  EquivDiameter    Extent  Solidity  roundness  \\\n",
       "0      0.549812       28715     190.141097  0.763923  0.988856   0.958027   \n",
       "1      0.411785       29172     191.272750  0.783968  0.984986   0.887034   \n",
       "2      0.562727       29690     193.410904  0.778113  0.989559   0.947849   \n",
       "3      0.498616       30724     195.467062  0.782681  0.976696   0.903936   \n",
       "4      0.333680       30417     195.896503  0.773098  0.990893   0.984877   \n",
       "\n",
       "   Compactness  ShapeFactor1  ShapeFactor2  ShapeFactor3  ShapeFactor4  Class  \n",
       "0     0.913358      0.007332      0.003147      0.834222      0.998724  SEKER  \n",
       "1     0.953861      0.006979      0.003564      0.909851      0.998430  SEKER  \n",
       "2     0.908774      0.007244      0.003048      0.825871      0.999066  SEKER  \n",
       "3     0.928329      0.007017      0.003215      0.861794      0.994199  SEKER  \n",
       "4     0.970516      0.006697      0.003665      0.941900      0.999166  SEKER  "
      ]
     },
     "execution_count": 3,
     "metadata": {},
     "output_type": "execute_result"
    }
   ],
   "source": [
    "# Get a look at the data\n",
    "beanDF.head()"
   ]
  },
  {
   "cell_type": "code",
   "execution_count": 4,
   "id": "cafa194c-be22-4397-b794-aca143364825",
   "metadata": {},
   "outputs": [
    {
     "data": {
      "text/plain": [
       "(13611, 17)"
      ]
     },
     "execution_count": 4,
     "metadata": {},
     "output_type": "execute_result"
    }
   ],
   "source": [
    "# Look at the shape of the DataFrame\n",
    "beanDF.shape"
   ]
  },
  {
   "cell_type": "code",
   "execution_count": 5,
   "id": "54dccbba-b068-4ace-aaf3-fb4adcd45c8c",
   "metadata": {},
   "outputs": [
    {
     "data": {
      "text/plain": [
       "Class\n",
       "DERMASON    3546\n",
       "SIRA        2636\n",
       "SEKER       2027\n",
       "HOROZ       1928\n",
       "CALI        1630\n",
       "BARBUNYA    1322\n",
       "BOMBAY       522\n",
       "dtype: int64"
      ]
     },
     "execution_count": 5,
     "metadata": {},
     "output_type": "execute_result"
    }
   ],
   "source": [
    "# See the relative numbers of each target category\n",
    "beanDF.value_counts('Class')"
   ]
  },
  {
   "cell_type": "markdown",
   "id": "15538df8-8ae7-4b5a-a8af-0ecfb1975ee9",
   "metadata": {},
   "source": [
    "## Split Training and Testing Data"
   ]
  },
  {
   "cell_type": "code",
   "execution_count": 6,
   "id": "ee0e48d8-8f2b-4a1e-8569-2c382cdd0536",
   "metadata": {},
   "outputs": [],
   "source": [
    "# Load libraries\n",
    "import numpy as np\n",
    "from sklearn.preprocessing import LabelEncoder\n",
    "from sklearn.preprocessing import StandardScaler\n",
    "from sklearn.model_selection import train_test_split"
   ]
  },
  {
   "cell_type": "code",
   "execution_count": 7,
   "id": "e4cd5665-0a7a-47c7-a324-a2bc782b5d2e",
   "metadata": {},
   "outputs": [],
   "source": [
    "# Set up features target sets\n",
    "X = beanDF[beanDF.columns[:-1]]\n",
    "y = beanDF.Class"
   ]
  },
  {
   "cell_type": "markdown",
   "id": "5ee4d9f0-3e7c-4af2-980c-3b4158a3adb6",
   "metadata": {},
   "source": [
    "Let's try this without encoding the target:"
   ]
  },
  {
   "cell_type": "code",
   "execution_count": 8,
   "id": "547ab690-4653-42b5-a6dc-c03895925f3f",
   "metadata": {},
   "outputs": [],
   "source": [
    "# # Encode the target variables\n",
    "# le = LabelEncoder()\n",
    "# y = le.fit_transform(y)"
   ]
  },
  {
   "cell_type": "code",
   "execution_count": 9,
   "id": "59b60b0d-f1fc-419f-9bd8-36334a17e89c",
   "metadata": {},
   "outputs": [],
   "source": [
    "# Split the data\n",
    "X_train, X_test, y_train, y_test = train_test_split(X, y, test_size =0.3, \n",
    "                                                    random_state=42)"
   ]
  },
  {
   "cell_type": "code",
   "execution_count": 10,
   "id": "3b7b695f-50b1-44d8-8cff-21224fcfaa09",
   "metadata": {},
   "outputs": [],
   "source": [
    "# Standardize Features\n",
    "scaler = StandardScaler()\n",
    "X_train = scaler.fit_transform(X_train) \n",
    "X_test  = scaler.transform(X_test)"
   ]
  },
  {
   "cell_type": "markdown",
   "id": "29bc0d29-aea2-4d8e-86e3-0d0533ddf5e8",
   "metadata": {},
   "source": [
    "## Logistic Regression - Multiclass"
   ]
  },
  {
   "cell_type": "markdown",
   "id": "69191a10-35e8-435f-a6d8-cb2fc34057db",
   "metadata": {},
   "source": [
    "### Multinomial Logistic Regression (MLR)"
   ]
  },
  {
   "cell_type": "code",
   "execution_count": 11,
   "id": "bdfff6cf-f07b-4b1a-a45f-3b4f86743819",
   "metadata": {},
   "outputs": [],
   "source": [
    "# Load libraries\n",
    "from sklearn.linear_model import LogisticRegression"
   ]
  },
  {
   "cell_type": "code",
   "execution_count": 12,
   "id": "ad2252b6-5216-444e-89b8-f5e6186c849c",
   "metadata": {},
   "outputs": [],
   "source": [
    "# Create logistic regression\n",
    "logit_mlr = LogisticRegression(class_weight='balanced', multi_class='multinomial', n_jobs=-1)"
   ]
  },
  {
   "cell_type": "code",
   "execution_count": 13,
   "id": "f1f47a26-258d-470c-a3b0-04b908c1cafc",
   "metadata": {},
   "outputs": [
    {
     "name": "stdout",
     "output_type": "stream",
     "text": [
      "Wall time: 2.73 s\n"
     ]
    },
    {
     "data": {
      "text/plain": [
       "LogisticRegression(class_weight='balanced', multi_class='multinomial',\n",
       "                   n_jobs=-1)"
      ]
     },
     "execution_count": 13,
     "metadata": {},
     "output_type": "execute_result"
    }
   ],
   "source": [
    "%%time\n",
    "# Train model\n",
    "logit_mlr.fit(X_train, y_train)"
   ]
  },
  {
   "cell_type": "code",
   "execution_count": 14,
   "id": "cdec1e8c-30d3-4517-acbb-aa298ca4e63a",
   "metadata": {},
   "outputs": [
    {
     "name": "stdout",
     "output_type": "stream",
     "text": [
      "Accuracy:\t92.31\n"
     ]
    }
   ],
   "source": [
    "# Get accuracy score\n",
    "score = round(logit_mlr.score(X_test, y_test)*100, 2)\n",
    "print(f\"Accuracy:\\t{score}\")"
   ]
  },
  {
   "cell_type": "markdown",
   "id": "e55d4d15-337b-4329-b832-c017c2c0e6c0",
   "metadata": {},
   "source": [
    "### Evaluate"
   ]
  },
  {
   "cell_type": "code",
   "execution_count": 15,
   "id": "66f7dde6-13c5-4381-a63b-b018b3a87328",
   "metadata": {},
   "outputs": [],
   "source": [
    "# Load libraries\n",
    "from sklearn.metrics import classification_report, confusion_matrix"
   ]
  },
  {
   "cell_type": "code",
   "execution_count": 16,
   "id": "4b877d2e-a28a-4f18-9a88-e8666b2a2725",
   "metadata": {},
   "outputs": [],
   "source": [
    "# Get predictions\n",
    "predictions = logit_mlr.predict(X_test)"
   ]
  },
  {
   "cell_type": "markdown",
   "id": "8a230a52-cd33-4f2f-b0f0-6d4fc1097fb6",
   "metadata": {},
   "source": [
    "#### Confusion matrix"
   ]
  },
  {
   "cell_type": "code",
   "execution_count": 17,
   "id": "cab0202d-9a3e-402d-9732-9f692fc54178",
   "metadata": {},
   "outputs": [
    {
     "name": "stdout",
     "output_type": "stream",
     "text": [
      "[[369   0  20   0   0   1   5]\n",
      " [  0 161   0   0   0   0   0]\n",
      " [ 19   0 446   0   7   2   5]\n",
      " [  0   0   0 916   1  21 105]\n",
      " [  3   0   5   4 564   0  12]\n",
      " [  9   0   0   7   0 583  20]\n",
      " [  1   0   3  40  11  13 731]]\n"
     ]
    }
   ],
   "source": [
    "# Print confusion matrix\n",
    "cm = confusion_matrix(y_test, predictions)\n",
    "print(cm)"
   ]
  },
  {
   "cell_type": "markdown",
   "id": "20c0abaa-7015-4594-8593-985159f1cfae",
   "metadata": {},
   "source": [
    "#### Classification report"
   ]
  },
  {
   "cell_type": "code",
   "execution_count": 18,
   "id": "74d538d0-1b00-478a-83f8-f11164b6f2c3",
   "metadata": {},
   "outputs": [
    {
     "name": "stdout",
     "output_type": "stream",
     "text": [
      "              precision    recall  f1-score   support\n",
      "\n",
      "    BARBUNYA       0.92      0.93      0.93       395\n",
      "      BOMBAY       1.00      1.00      1.00       161\n",
      "        CALI       0.94      0.93      0.94       479\n",
      "    DERMASON       0.95      0.88      0.91      1043\n",
      "       HOROZ       0.97      0.96      0.96       588\n",
      "       SEKER       0.94      0.94      0.94       619\n",
      "        SIRA       0.83      0.91      0.87       799\n",
      "\n",
      "    accuracy                           0.92      4084\n",
      "   macro avg       0.94      0.94      0.94      4084\n",
      "weighted avg       0.93      0.92      0.92      4084\n",
      "\n"
     ]
    }
   ],
   "source": [
    "# Print precision, recall, f1-score, and accuracy\n",
    "cr = classification_report(y_test, predictions)\n",
    "print(cr)"
   ]
  },
  {
   "cell_type": "markdown",
   "id": "01bf4082-f448-44c6-a0ea-b430fd0331a5",
   "metadata": {},
   "source": [
    "### One-vs-Rest Regression (OVR)"
   ]
  },
  {
   "cell_type": "markdown",
   "id": "c0d7f474-407e-45d4-9114-596489cd7cf2",
   "metadata": {},
   "source": [
    "MLR was better. Going to try to run a grid search for the best parameters."
   ]
  },
  {
   "cell_type": "code",
   "execution_count": null,
   "id": "cffb1da5-d44b-477e-91ad-4be53ced4e9a",
   "metadata": {},
   "outputs": [],
   "source": []
  },
  {
   "cell_type": "markdown",
   "id": "2de25f07-88fb-4088-b746-f74c9081b47e",
   "metadata": {},
   "source": [
    "### GridSearchCV with Logistic Regression"
   ]
  },
  {
   "cell_type": "code",
   "execution_count": 19,
   "id": "ec5cbc7a-0bfb-464d-9ab9-527e340c8915",
   "metadata": {},
   "outputs": [],
   "source": [
    "# Load libraries\n",
    "from sklearn.linear_model import LogisticRegression\n",
    "from sklearn.model_selection import GridSearchCV, RandomizedSearchCV"
   ]
  },
  {
   "cell_type": "code",
   "execution_count": 20,
   "id": "01c3763b-644b-4a90-aab0-a6029a05598f",
   "metadata": {},
   "outputs": [],
   "source": [
    "# Create logistic regression\n",
    "logistic = LogisticRegression(class_weight='balanced', \n",
    "                              random_state=42, \n",
    "                              max_iter=200, \n",
    "                              verbose=1, \n",
    "                              n_jobs=-1)"
   ]
  },
  {
   "cell_type": "code",
   "execution_count": 21,
   "id": "95840fca-700f-4496-b7b5-ffdc4fc38f8d",
   "metadata": {},
   "outputs": [],
   "source": [
    "# Create range of candidate penalty hyperparameter values\n",
    "parameter_space = {\n",
    "    'penalty': ['l1', 'l2', 'elasticnet'], \n",
    "    'C': np.logspace(3, 5, 7), \n",
    "    'solver': ['newton-cg', 'lbfgs', 'liblinear', 'sag', 'saga'], \n",
    "    'multi_class': ['ovr', 'multinomial'],\n",
    "}\n",
    "grid = GridSearchCV(logistic, parameter_space, verbose=2, n_jobs=-1, cv=5)"
   ]
  },
  {
   "cell_type": "code",
   "execution_count": 22,
   "id": "fbea8509-ce20-4c6f-ac31-3361e911d1ae",
   "metadata": {},
   "outputs": [
    {
     "name": "stdout",
     "output_type": "stream",
     "text": [
      "Fitting 5 folds for each of 210 candidates, totalling 1050 fits\n"
     ]
    },
    {
     "name": "stderr",
     "output_type": "stream",
     "text": [
      "C:\\ProgramData\\Anaconda3\\lib\\site-packages\\sklearn\\model_selection\\_search.py:922: UserWarning: One or more of the test scores are non-finite: [       nan        nan 0.92169554        nan 0.915293   0.91896638\n",
      " 0.91949126 0.92190546 0.91529289 0.915293          nan        nan\n",
      "        nan        nan        nan        nan        nan        nan\n",
      "        nan 0.9176021  0.92159056 0.91854665        nan 0.91760199\n",
      " 0.9176021         nan        nan        nan        nan        nan\n",
      "        nan        nan 0.92190552        nan 0.915293   0.91949104\n",
      " 0.91949115 0.92148562 0.91529289 0.915293          nan        nan\n",
      "        nan        nan        nan        nan        nan        nan\n",
      "        nan 0.9176021  0.92201045 0.91875646        nan 0.91770692\n",
      " 0.9176021         nan        nan        nan        nan        nan\n",
      "        nan        nan 0.92169554        nan 0.915293   0.91928129\n",
      " 0.91970118 0.9223253  0.91529289 0.915293          nan        nan\n",
      "        nan        nan        nan        nan        nan        nan\n",
      "        nan 0.9176021  0.92211538 0.91896633        nan 0.91770692\n",
      " 0.9176021         nan        nan        nan        nan        nan\n",
      "        nan        nan 0.92180053        nan 0.915293   0.91959619\n",
      " 0.91959636 0.9220105  0.91529289 0.915293          nan        nan\n",
      "        nan        nan        nan        nan        nan        nan\n",
      "        nan 0.9176021  0.92180059 0.91865136        nan 0.91770692\n",
      " 0.9176021         nan        nan        nan        nan        nan\n",
      "        nan        nan 0.92169554        nan 0.915293   0.92075088\n",
      " 0.91980633 0.92201056 0.91529289 0.915293          nan        nan\n",
      "        nan        nan        nan        nan        nan        nan\n",
      "        nan 0.9176021  0.92274525 0.91917619        nan 0.91770692\n",
      " 0.9176021         nan        nan        nan        nan        nan\n",
      "        nan        nan 0.92190552        nan 0.915293   0.92138086\n",
      " 0.91959641 0.92264043 0.91529289 0.915293          nan        nan\n",
      "        nan        nan        nan        nan        nan        nan\n",
      "        nan 0.9176021  0.92305993 0.91854654        nan 0.91770692\n",
      " 0.9176021         nan        nan        nan        nan        nan\n",
      "        nan        nan 0.92190552        nan 0.915293   0.92180059\n",
      " 0.91959647 0.92306032 0.91529289 0.915293          nan        nan\n",
      "        nan        nan        nan        nan        nan        nan\n",
      "        nan 0.9176021  0.92295511 0.91854632        nan 0.91770692\n",
      " 0.9176021         nan        nan        nan        nan        nan]\n",
      "  warnings.warn(\n",
      "C:\\ProgramData\\Anaconda3\\lib\\site-packages\\sklearn\\linear_model\\_logistic.py:1355: UserWarning: 'n_jobs' > 1 does not have any effect when 'solver' is set to 'liblinear'. Got 'n_jobs' = 8.\n",
      "  warnings.warn(\"'n_jobs' > 1 does not have any effect when\"\n"
     ]
    },
    {
     "name": "stdout",
     "output_type": "stream",
     "text": [
      "[LibLinear]Wall time: 23min 22s\n"
     ]
    }
   ],
   "source": [
    "%%time\n",
    "grid_result = grid.fit(X_train, y_train)"
   ]
  },
  {
   "cell_type": "code",
   "execution_count": 23,
   "id": "e7482893-e483-4666-9600-afb95214fd26",
   "metadata": {},
   "outputs": [
    {
     "name": "stdout",
     "output_type": "stream",
     "text": [
      "Best parameters found:\n",
      " {'C': 100000.0, 'multi_class': 'ovr', 'penalty': 'l2', 'solver': 'liblinear'}\n"
     ]
    }
   ],
   "source": [
    "print('Best parameters found:\\n', grid_result.best_params_)"
   ]
  },
  {
   "cell_type": "code",
   "execution_count": 24,
   "id": "6393b1f7-2bc2-401c-9c81-1b76b9bb392a",
   "metadata": {},
   "outputs": [
    {
     "name": "stdout",
     "output_type": "stream",
     "text": [
      "Accuracy:\t92.36\n"
     ]
    }
   ],
   "source": [
    "# Get accuracy score\n",
    "score = round(grid_result.score(X_test, y_test)*100, 2)\n",
    "print(f\"Accuracy:\\t{score}\")"
   ]
  },
  {
   "cell_type": "markdown",
   "id": "f28196f5-acdd-487c-b9d9-ebfa729674b9",
   "metadata": {},
   "source": [
    "### Evaluate"
   ]
  },
  {
   "cell_type": "code",
   "execution_count": 25,
   "id": "f1f9a325-c145-4f93-968f-32a48f894d34",
   "metadata": {},
   "outputs": [],
   "source": [
    "# Load libraries\n",
    "from sklearn.metrics import classification_report, confusion_matrix"
   ]
  },
  {
   "cell_type": "code",
   "execution_count": 26,
   "id": "c04d0e3d-a070-4493-a2d8-32986aed7c69",
   "metadata": {},
   "outputs": [],
   "source": [
    "# Get predictions\n",
    "predictions = grid_result.predict(X_test)"
   ]
  },
  {
   "cell_type": "markdown",
   "id": "cccae034-e85c-4622-bd69-aa50d08df62d",
   "metadata": {},
   "source": [
    "#### Confusion matrix"
   ]
  },
  {
   "cell_type": "code",
   "execution_count": 27,
   "id": "cadc3995-ea2d-4fb9-9be4-afa3e4b5e1b6",
   "metadata": {},
   "outputs": [
    {
     "name": "stdout",
     "output_type": "stream",
     "text": [
      "[[366   0  22   0   0   1   6]\n",
      " [  0 161   0   0   0   0   0]\n",
      " [ 17   0 447   0   7   2   6]\n",
      " [  0   0   0 930   2  19  92]\n",
      " [  2   0   8   5 557   0  16]\n",
      " [  9   0   0   7   0 583  20]\n",
      " [  2   0   2  51   9   7 728]]\n"
     ]
    }
   ],
   "source": [
    "# Print confusion matrix\n",
    "cm = confusion_matrix(y_test, predictions)\n",
    "print(cm)"
   ]
  },
  {
   "cell_type": "markdown",
   "id": "b5d845d6-5b12-426a-a439-0aae45681eb3",
   "metadata": {},
   "source": [
    "#### Classification report"
   ]
  },
  {
   "cell_type": "code",
   "execution_count": 28,
   "id": "49b0c7c0-c9de-4d7e-9767-e3c17957bb5b",
   "metadata": {},
   "outputs": [
    {
     "name": "stdout",
     "output_type": "stream",
     "text": [
      "              precision    recall  f1-score   support\n",
      "\n",
      "    BARBUNYA       0.92      0.93      0.93       395\n",
      "      BOMBAY       1.00      1.00      1.00       161\n",
      "        CALI       0.93      0.93      0.93       479\n",
      "    DERMASON       0.94      0.89      0.91      1043\n",
      "       HOROZ       0.97      0.95      0.96       588\n",
      "       SEKER       0.95      0.94      0.95       619\n",
      "        SIRA       0.84      0.91      0.87       799\n",
      "\n",
      "    accuracy                           0.92      4084\n",
      "   macro avg       0.94      0.94      0.94      4084\n",
      "weighted avg       0.93      0.92      0.92      4084\n",
      "\n"
     ]
    }
   ],
   "source": [
    "# Print precision, recall, f1-score, and accuracy\n",
    "cr = classification_report(y_test, predictions)\n",
    "print(cr)"
   ]
  },
  {
   "cell_type": "markdown",
   "id": "8d9edb9f-1b50-429a-914c-e19980edb15f",
   "metadata": {},
   "source": [
    "### GridSearchCV with Random Forest"
   ]
  },
  {
   "cell_type": "code",
   "execution_count": 29,
   "id": "2e31bc2e-3be9-49d4-8b47-8e28f0185dc2",
   "metadata": {},
   "outputs": [],
   "source": [
    "# Load libraries\n",
    "from sklearn.ensemble import RandomForestClassifier"
   ]
  },
  {
   "cell_type": "code",
   "execution_count": 30,
   "id": "f911a259-872e-43cc-a89a-af18bee307e3",
   "metadata": {},
   "outputs": [],
   "source": [
    "# Create classifier\n",
    "classifier = RandomForestClassifier(random_state=42,\n",
    "                                    verbose=1,\n",
    "                                    class_weight='balanced', \n",
    "                                    n_jobs=-1)"
   ]
  },
  {
   "cell_type": "code",
   "execution_count": 31,
   "id": "e7af313d-5358-4a83-aa04-1b8466d176b5",
   "metadata": {},
   "outputs": [],
   "source": [
    "# Create range of candidate penalty hyperparameter values\n",
    "parameter_space = {\n",
    "    'n_estimators': [10, 30, 100, 300, 1000], \n",
    "    'criterion': ['gini', 'entropy'], \n",
    "    'max_features': ['sqrt', 'log2'], \n",
    "}\n",
    "grid = GridSearchCV(classifier, parameter_space, verbose=2, n_jobs=-1, cv=5)"
   ]
  },
  {
   "cell_type": "code",
   "execution_count": 32,
   "id": "d8e8fc9d-dffe-4902-a9bf-a6365e7a7cdf",
   "metadata": {},
   "outputs": [
    {
     "name": "stdout",
     "output_type": "stream",
     "text": [
      "Fitting 5 folds for each of 20 candidates, totalling 100 fits\n"
     ]
    },
    {
     "name": "stderr",
     "output_type": "stream",
     "text": [
      "[Parallel(n_jobs=-1)]: Using backend ThreadingBackend with 8 concurrent workers.\n",
      "[Parallel(n_jobs=-1)]: Done  34 tasks      | elapsed:    0.6s\n"
     ]
    },
    {
     "name": "stdout",
     "output_type": "stream",
     "text": [
      "Wall time: 5min 4s\n"
     ]
    },
    {
     "name": "stderr",
     "output_type": "stream",
     "text": [
      "[Parallel(n_jobs=-1)]: Done 100 out of 100 | elapsed:    1.7s finished\n"
     ]
    }
   ],
   "source": [
    "%%time\n",
    "grid_result = grid.fit(X_train, y_train)"
   ]
  },
  {
   "cell_type": "code",
   "execution_count": 33,
   "id": "4238052b-586b-4061-a2d0-f5549842e3a3",
   "metadata": {},
   "outputs": [
    {
     "name": "stdout",
     "output_type": "stream",
     "text": [
      "Best parameters found:\n",
      " {'criterion': 'entropy', 'max_features': 'sqrt', 'n_estimators': 100}\n"
     ]
    }
   ],
   "source": [
    "print('Best parameters found:\\n', grid_result.best_params_)"
   ]
  },
  {
   "cell_type": "code",
   "execution_count": 34,
   "id": "bc62d85f-b1c0-4c4e-9bc9-656db2c643a9",
   "metadata": {},
   "outputs": [
    {
     "name": "stdout",
     "output_type": "stream",
     "text": [
      "Accuracy:\t92.41\n"
     ]
    },
    {
     "name": "stderr",
     "output_type": "stream",
     "text": [
      "[Parallel(n_jobs=8)]: Using backend ThreadingBackend with 8 concurrent workers.\n",
      "[Parallel(n_jobs=8)]: Done  34 tasks      | elapsed:    0.0s\n",
      "[Parallel(n_jobs=8)]: Done 100 out of 100 | elapsed:    0.0s finished\n"
     ]
    }
   ],
   "source": [
    "# Get accuracy score\n",
    "score = round(grid_result.score(X_test, y_test)*100, 2)\n",
    "print(f\"Accuracy:\\t{score}\")"
   ]
  },
  {
   "cell_type": "markdown",
   "id": "a1da10b4-8764-456c-b0af-601d29a17397",
   "metadata": {},
   "source": [
    "### Evaluate"
   ]
  },
  {
   "cell_type": "code",
   "execution_count": 35,
   "id": "2c724281-d305-402d-9148-8ecd5a4eea5e",
   "metadata": {},
   "outputs": [],
   "source": [
    "# Load libraries\n",
    "from sklearn.metrics import classification_report, confusion_matrix"
   ]
  },
  {
   "cell_type": "code",
   "execution_count": 36,
   "id": "ebdb71a8-bc20-4ed3-901e-f8e99c6da344",
   "metadata": {},
   "outputs": [
    {
     "name": "stderr",
     "output_type": "stream",
     "text": [
      "[Parallel(n_jobs=8)]: Using backend ThreadingBackend with 8 concurrent workers.\n",
      "[Parallel(n_jobs=8)]: Done  34 tasks      | elapsed:    0.0s\n",
      "[Parallel(n_jobs=8)]: Done 100 out of 100 | elapsed:    0.0s finished\n"
     ]
    }
   ],
   "source": [
    "# Get predictions\n",
    "predictions = grid_result.predict(X_test)"
   ]
  },
  {
   "cell_type": "markdown",
   "id": "ee305006-0010-4efe-8147-fbce12923570",
   "metadata": {},
   "source": [
    "#### Confusion matrix"
   ]
  },
  {
   "cell_type": "code",
   "execution_count": 37,
   "id": "996f642f-0f9e-433b-a4b6-326793f49f83",
   "metadata": {},
   "outputs": [
    {
     "name": "stdout",
     "output_type": "stream",
     "text": [
      "[[355   0  26   0   2   3   9]\n",
      " [  0 161   0   0   0   0   0]\n",
      " [ 17   0 447   0   8   2   5]\n",
      " [  0   0   0 969   2  17  55]\n",
      " [  3   0   8   3 557   0  17]\n",
      " [  4   0   0  18   0 584  13]\n",
      " [  1   0   1  78   8  10 701]]\n"
     ]
    }
   ],
   "source": [
    "# Print confusion matrix\n",
    "cm = confusion_matrix(y_test, predictions)\n",
    "print(cm)"
   ]
  },
  {
   "cell_type": "markdown",
   "id": "32942f35-7a45-4034-81fc-e5444e250c42",
   "metadata": {},
   "source": [
    "#### Classification report"
   ]
  },
  {
   "cell_type": "code",
   "execution_count": 38,
   "id": "f1f8175f-3ed7-42d6-bb66-87775e000ea7",
   "metadata": {},
   "outputs": [
    {
     "name": "stdout",
     "output_type": "stream",
     "text": [
      "              precision    recall  f1-score   support\n",
      "\n",
      "    BARBUNYA       0.93      0.90      0.92       395\n",
      "      BOMBAY       1.00      1.00      1.00       161\n",
      "        CALI       0.93      0.93      0.93       479\n",
      "    DERMASON       0.91      0.93      0.92      1043\n",
      "       HOROZ       0.97      0.95      0.96       588\n",
      "       SEKER       0.95      0.94      0.95       619\n",
      "        SIRA       0.88      0.88      0.88       799\n",
      "\n",
      "    accuracy                           0.92      4084\n",
      "   macro avg       0.94      0.93      0.93      4084\n",
      "weighted avg       0.92      0.92      0.92      4084\n",
      "\n"
     ]
    }
   ],
   "source": [
    "# Print precision, recall, f1-score, and accuracy\n",
    "cr = classification_report(y_test, predictions)\n",
    "print(cr)"
   ]
  },
  {
   "cell_type": "code",
   "execution_count": null,
   "id": "81836204-759b-4af4-850f-802002564856",
   "metadata": {},
   "outputs": [],
   "source": []
  },
  {
   "cell_type": "markdown",
   "id": "9d2ca6c9-8457-4731-934b-1b30e75a52ef",
   "metadata": {},
   "source": [
    "### GridSearchCV with Decision Tree"
   ]
  },
  {
   "cell_type": "code",
   "execution_count": 39,
   "id": "9a183283-c288-47b4-a6dc-13741045004c",
   "metadata": {},
   "outputs": [],
   "source": [
    "# Load libraries\n",
    "from sklearn.tree import DecisionTreeClassifier"
   ]
  },
  {
   "cell_type": "code",
   "execution_count": 40,
   "id": "453b7217-7398-4b26-8099-e1e8a1528fd2",
   "metadata": {},
   "outputs": [],
   "source": [
    "# Create decision tree regressor object\n",
    "decisiontree = DecisionTreeClassifier(random_state=42, class_weight='balanced')"
   ]
  },
  {
   "cell_type": "code",
   "execution_count": 41,
   "id": "61e32308-7bc0-40a7-8f38-f2aae9bd0b20",
   "metadata": {},
   "outputs": [],
   "source": [
    "# Create range of candidate penalty hyperparameter values\n",
    "parameter_space = {\n",
    "    'criterion': ['gini', 'entropy'], \n",
    "    'splitter': ['best', 'random'], \n",
    "    'max_features': ['sqrt', 'log2'], \n",
    "}\n",
    "grid = GridSearchCV(decisiontree, parameter_space, verbose=2, n_jobs=-1, cv=5)"
   ]
  },
  {
   "cell_type": "code",
   "execution_count": 42,
   "id": "ac64a16c-7a2c-49cd-8af1-04aed4534ee5",
   "metadata": {},
   "outputs": [
    {
     "name": "stdout",
     "output_type": "stream",
     "text": [
      "Fitting 5 folds for each of 8 candidates, totalling 40 fits\n",
      "Wall time: 915 ms\n"
     ]
    }
   ],
   "source": [
    "%%time\n",
    "grid_result = grid.fit(X_train, y_train)"
   ]
  },
  {
   "cell_type": "code",
   "execution_count": 43,
   "id": "6056e7da-e50f-46a5-9eaa-b086f7a35252",
   "metadata": {},
   "outputs": [
    {
     "name": "stdout",
     "output_type": "stream",
     "text": [
      "Best parameters found:\n",
      " {'criterion': 'entropy', 'max_features': 'sqrt', 'splitter': 'best'}\n"
     ]
    }
   ],
   "source": [
    "print('Best parameters found:\\n', grid_result.best_params_)"
   ]
  },
  {
   "cell_type": "code",
   "execution_count": 44,
   "id": "08fcd655-aaea-453a-b170-86adcd6f95fa",
   "metadata": {},
   "outputs": [
    {
     "name": "stdout",
     "output_type": "stream",
     "text": [
      "Accuracy:\t88.34\n"
     ]
    }
   ],
   "source": [
    "# Get accuracy score\n",
    "score = round(grid_result.score(X_test, y_test)*100, 2)\n",
    "print(f\"Accuracy:\\t{score}\")"
   ]
  },
  {
   "cell_type": "markdown",
   "id": "ca4e506b-a6da-4228-9f6d-c04cd1f52aaa",
   "metadata": {},
   "source": [
    "### Evaluate"
   ]
  },
  {
   "cell_type": "code",
   "execution_count": 45,
   "id": "321b9de0-fac0-4afb-a248-ee20be8da7ee",
   "metadata": {},
   "outputs": [],
   "source": [
    "# Load libraries\n",
    "from sklearn.metrics import classification_report, confusion_matrix"
   ]
  },
  {
   "cell_type": "code",
   "execution_count": 46,
   "id": "0e450ed5-717e-4d6a-bc61-2d2f231082ff",
   "metadata": {},
   "outputs": [],
   "source": [
    "# Get predictions\n",
    "predictions = grid_result.predict(X_test)"
   ]
  },
  {
   "cell_type": "markdown",
   "id": "dd52b365-0326-4c66-a4ed-e18c51bc1423",
   "metadata": {},
   "source": [
    "#### Confusion matrix"
   ]
  },
  {
   "cell_type": "code",
   "execution_count": 47,
   "id": "32d22f76-26ad-4f3d-a6b3-045f10c989e6",
   "metadata": {},
   "outputs": [
    {
     "name": "stdout",
     "output_type": "stream",
     "text": [
      "[[342   0  35   0   2   6  10]\n",
      " [  0 161   0   0   0   0   0]\n",
      " [ 38   0 428   0   9   1   3]\n",
      " [  0   0   0 918   7  17 101]\n",
      " [  5   0  15   8 537   0  23]\n",
      " [  6   0   1  34   0 557  21]\n",
      " [ 11   0   2  82  18  21 665]]\n"
     ]
    }
   ],
   "source": [
    "# Print confusion matrix\n",
    "cm = confusion_matrix(y_test, predictions)\n",
    "print(cm)"
   ]
  },
  {
   "cell_type": "markdown",
   "id": "417d41a2-e4c2-41c5-abee-2cffffe9d9bd",
   "metadata": {},
   "source": [
    "#### Classification report"
   ]
  },
  {
   "cell_type": "code",
   "execution_count": 48,
   "id": "e1c01d87-c34d-4d12-aa0a-c626bda9ee17",
   "metadata": {},
   "outputs": [
    {
     "name": "stdout",
     "output_type": "stream",
     "text": [
      "              precision    recall  f1-score   support\n",
      "\n",
      "    BARBUNYA       0.85      0.87      0.86       395\n",
      "      BOMBAY       1.00      1.00      1.00       161\n",
      "        CALI       0.89      0.89      0.89       479\n",
      "    DERMASON       0.88      0.88      0.88      1043\n",
      "       HOROZ       0.94      0.91      0.93       588\n",
      "       SEKER       0.93      0.90      0.91       619\n",
      "        SIRA       0.81      0.83      0.82       799\n",
      "\n",
      "    accuracy                           0.88      4084\n",
      "   macro avg       0.90      0.90      0.90      4084\n",
      "weighted avg       0.88      0.88      0.88      4084\n",
      "\n"
     ]
    }
   ],
   "source": [
    "# Print precision, recall, f1-score, and accuracy\n",
    "cr = classification_report(y_test, predictions)\n",
    "print(cr)"
   ]
  },
  {
   "cell_type": "code",
   "execution_count": null,
   "id": "907eeade-20bf-41d1-a0b1-3b61652b926b",
   "metadata": {},
   "outputs": [],
   "source": []
  },
  {
   "cell_type": "markdown",
   "id": "a116ee18-9561-4b6f-9c16-25207e714fdb",
   "metadata": {},
   "source": [
    "### GridSearchCV with AdaBoost"
   ]
  },
  {
   "cell_type": "code",
   "execution_count": 49,
   "id": "3ea718cb-6cb6-434d-9079-015c2c5acf95",
   "metadata": {},
   "outputs": [],
   "source": [
    "# Load libraries\n",
    "from sklearn.ensemble import AdaBoostClassifier"
   ]
  },
  {
   "cell_type": "code",
   "execution_count": 50,
   "id": "d9db9d18-e1ca-40c7-bbe6-1d5a8db09e97",
   "metadata": {},
   "outputs": [],
   "source": [
    "# Create ...\n",
    "adaboost = AdaBoostClassifier(random_state=42)"
   ]
  },
  {
   "cell_type": "code",
   "execution_count": 51,
   "id": "a8c23a12-356e-444d-ad45-70004bb9c7ad",
   "metadata": {},
   "outputs": [],
   "source": [
    "# Create range of candidate penalty hyperparameter values\n",
    "parameter_space = {\n",
    "    'n_estimators': [10, 30, 100, 300, 1000], \n",
    "    'algorithm': ['SAMME', 'SAMME.R'], \n",
    "}\n",
    "grid = GridSearchCV(adaboost, parameter_space, verbose=2, n_jobs=-1, cv=5)"
   ]
  },
  {
   "cell_type": "code",
   "execution_count": 52,
   "id": "315eaa4c-7c2d-4337-af3c-3af7109f755a",
   "metadata": {},
   "outputs": [
    {
     "name": "stdout",
     "output_type": "stream",
     "text": [
      "Fitting 5 folds for each of 10 candidates, totalling 50 fits\n",
      "Wall time: 2min 1s\n"
     ]
    }
   ],
   "source": [
    "%%time\n",
    "grid_result = grid.fit(X_train, y_train)"
   ]
  },
  {
   "cell_type": "code",
   "execution_count": 53,
   "id": "13626f69-12c5-4813-be4b-240598f107ff",
   "metadata": {},
   "outputs": [
    {
     "name": "stdout",
     "output_type": "stream",
     "text": [
      "Best parameters found:\n",
      " {'algorithm': 'SAMME', 'n_estimators': 100}\n"
     ]
    }
   ],
   "source": [
    "print('Best parameters found:\\n', grid_result.best_params_)"
   ]
  },
  {
   "cell_type": "code",
   "execution_count": 54,
   "id": "14b81f55-c2cd-448f-b926-476c5d203b25",
   "metadata": {},
   "outputs": [
    {
     "name": "stdout",
     "output_type": "stream",
     "text": [
      "Accuracy:\t79.29\n"
     ]
    }
   ],
   "source": [
    "# Get accuracy score\n",
    "score = round(grid_result.score(X_test, y_test)*100, 2)\n",
    "print(f\"Accuracy:\\t{score}\")"
   ]
  },
  {
   "cell_type": "markdown",
   "id": "096e9b66-c9be-454c-8d9b-388f14318f45",
   "metadata": {},
   "source": [
    "### Evaluate"
   ]
  },
  {
   "cell_type": "code",
   "execution_count": 55,
   "id": "cc748a96-7239-4a2d-8012-cd77f97be103",
   "metadata": {},
   "outputs": [],
   "source": [
    "# Load libraries\n",
    "from sklearn.metrics import classification_report, confusion_matrix"
   ]
  },
  {
   "cell_type": "code",
   "execution_count": 56,
   "id": "67ef54d7-aba6-4bfe-b3da-20a21578497f",
   "metadata": {},
   "outputs": [],
   "source": [
    "# Get predictions\n",
    "predictions = grid_result.predict(X_test)"
   ]
  },
  {
   "cell_type": "markdown",
   "id": "68da2490-169a-416e-bb60-b2d034439f96",
   "metadata": {},
   "source": [
    "#### Confusion matrix"
   ]
  },
  {
   "cell_type": "code",
   "execution_count": 57,
   "id": "16c23792-d7bd-4c49-80be-3e16ca858767",
   "metadata": {},
   "outputs": [
    {
     "name": "stdout",
     "output_type": "stream",
     "text": [
      "[[355   0  29   0   0   2   9]\n",
      " [  0  35 126   0   0   0   0]\n",
      " [281   0 180   0  12   2   4]\n",
      " [  0   0   0 920   3  74  46]\n",
      " [ 30   0   3   6 541   0   8]\n",
      " [  7   0   0  24   0 573  15]\n",
      " [ 14   0   1 122  17  11 634]]\n"
     ]
    }
   ],
   "source": [
    "# Print confusion matrix\n",
    "cm = confusion_matrix(y_test, predictions)\n",
    "print(cm)"
   ]
  },
  {
   "cell_type": "markdown",
   "id": "ba9e0e2d-aa44-4f5c-92d7-ce05ce8d4937",
   "metadata": {},
   "source": [
    "#### Classification report"
   ]
  },
  {
   "cell_type": "code",
   "execution_count": 58,
   "id": "70289d48-df2f-4013-b84a-7b0f2a13da32",
   "metadata": {},
   "outputs": [
    {
     "name": "stdout",
     "output_type": "stream",
     "text": [
      "              precision    recall  f1-score   support\n",
      "\n",
      "    BARBUNYA       0.52      0.90      0.66       395\n",
      "      BOMBAY       1.00      0.22      0.36       161\n",
      "        CALI       0.53      0.38      0.44       479\n",
      "    DERMASON       0.86      0.88      0.87      1043\n",
      "       HOROZ       0.94      0.92      0.93       588\n",
      "       SEKER       0.87      0.93      0.89       619\n",
      "        SIRA       0.89      0.79      0.84       799\n",
      "\n",
      "    accuracy                           0.79      4084\n",
      "   macro avg       0.80      0.72      0.71      4084\n",
      "weighted avg       0.81      0.79      0.78      4084\n",
      "\n"
     ]
    }
   ],
   "source": [
    "# Print precision, recall, f1-score, and accuracy\n",
    "cr = classification_report(y_test, predictions)\n",
    "print(cr)"
   ]
  },
  {
   "cell_type": "markdown",
   "id": "c1f16538-336a-4043-a626-9d1c18b17946",
   "metadata": {},
   "source": [
    "### 17.1 Support Vector Classifier"
   ]
  },
  {
   "cell_type": "code",
   "execution_count": 59,
   "id": "7c501da4-ceda-49b5-a0da-4002eaf5e8af",
   "metadata": {},
   "outputs": [],
   "source": [
    "# Load libraries\n",
    "from sklearn.svm import LinearSVC"
   ]
  },
  {
   "cell_type": "code",
   "execution_count": 60,
   "id": "bf7668da-bd4c-45b7-9442-d6e3a53b1ab2",
   "metadata": {},
   "outputs": [],
   "source": [
    "# Create support vector classifier\n",
    "svc = LinearSVC(random_state=42, dual=False, class_weight='balanced', verbose=1, max_iter=100000)"
   ]
  },
  {
   "cell_type": "code",
   "execution_count": 61,
   "id": "55534fe0-504f-44b6-a9ee-d3df9547153c",
   "metadata": {},
   "outputs": [],
   "source": [
    "# Create range of candidate penalty hyperparameter values\n",
    "parameter_space = {\n",
    "    'penalty': ['l1', 'l2'], \n",
    "    'loss': ['hinge', 'squared_hinge'], \n",
    "    'C': np.logspace(0, 3, 5), \n",
    "    'multi_class': ['ovr', 'crammer_singer'], \n",
    "}\n",
    "grid = GridSearchCV(svc, parameter_space, verbose=2, n_jobs=-1, cv=5)"
   ]
  },
  {
   "cell_type": "code",
   "execution_count": 62,
   "id": "b13d3229-6207-4b73-87cc-2ca06336e8e6",
   "metadata": {},
   "outputs": [
    {
     "name": "stdout",
     "output_type": "stream",
     "text": [
      "Fitting 5 folds for each of 40 candidates, totalling 200 fits\n"
     ]
    },
    {
     "name": "stderr",
     "output_type": "stream",
     "text": [
      "C:\\ProgramData\\Anaconda3\\lib\\site-packages\\sklearn\\model_selection\\_search.py:922: UserWarning: One or more of the test scores are non-finite: [       nan        nan 0.9191763  0.9191763  0.91749656 0.9150828\n",
      " 0.9191763  0.9191763         nan        nan 0.91791706 0.91791706\n",
      " 0.91949076 0.91739158 0.91791706 0.91791706        nan        nan\n",
      " 0.91970107 0.91970107 0.92085559 0.91917602 0.91970107 0.91970107\n",
      "        nan        nan 0.92264009 0.92264009 0.92096064 0.92075061\n",
      " 0.92264009 0.92264009        nan        nan 0.75953676 0.75953676\n",
      " 0.92085565 0.92096064 0.75953676 0.75953676]\n",
      "  warnings.warn(\n"
     ]
    },
    {
     "name": "stdout",
     "output_type": "stream",
     "text": [
      "[LibLinear]Wall time: 27min 37s\n"
     ]
    },
    {
     "name": "stderr",
     "output_type": "stream",
     "text": [
      "C:\\ProgramData\\Anaconda3\\lib\\site-packages\\sklearn\\svm\\_base.py:985: ConvergenceWarning: Liblinear failed to converge, increase the number of iterations.\n",
      "  warnings.warn(\"Liblinear failed to converge, increase \"\n"
     ]
    }
   ],
   "source": [
    "%%time\n",
    "grid_result = grid.fit(X_train, y_train)"
   ]
  },
  {
   "cell_type": "code",
   "execution_count": 63,
   "id": "fb1f71b8-cb32-439c-bb0c-29c6eeae0720",
   "metadata": {},
   "outputs": [
    {
     "name": "stdout",
     "output_type": "stream",
     "text": [
      "Best parameters found:\n",
      " {'C': 177.82794100389228, 'loss': 'hinge', 'multi_class': 'crammer_singer', 'penalty': 'l1'}\n"
     ]
    }
   ],
   "source": [
    "print('Best parameters found:\\n', grid_result.best_params_)"
   ]
  },
  {
   "cell_type": "code",
   "execution_count": 64,
   "id": "edee118c-23ab-4247-8ab3-55cb714c2fc4",
   "metadata": {},
   "outputs": [
    {
     "name": "stdout",
     "output_type": "stream",
     "text": [
      "Accuracy:\t92.41\n"
     ]
    }
   ],
   "source": [
    "# Get accuracy score\n",
    "score = round(grid_result.score(X_test, y_test)*100, 2)\n",
    "print(f\"Accuracy:\\t{score}\")"
   ]
  },
  {
   "cell_type": "markdown",
   "id": "94418766-bc1e-4205-8308-e7ae9ed7585b",
   "metadata": {},
   "source": [
    "### Evaluate"
   ]
  },
  {
   "cell_type": "code",
   "execution_count": 65,
   "id": "9c13ab3f-688d-47e5-afb3-cc0c5f42326f",
   "metadata": {},
   "outputs": [],
   "source": [
    "# Load libraries\n",
    "from sklearn.metrics import classification_report, confusion_matrix"
   ]
  },
  {
   "cell_type": "code",
   "execution_count": 66,
   "id": "a27bf744-82e0-4a11-a58e-339f4ae52e4b",
   "metadata": {},
   "outputs": [],
   "source": [
    "# Get predictions\n",
    "predictions = grid_result.predict(X_test)"
   ]
  },
  {
   "cell_type": "markdown",
   "id": "45605393-19f9-42e2-bdb7-0ebc0d546e1f",
   "metadata": {},
   "source": [
    "#### Confusion matrix"
   ]
  },
  {
   "cell_type": "code",
   "execution_count": 67,
   "id": "715b55c9-7ad0-4a98-9fec-752475723e77",
   "metadata": {},
   "outputs": [
    {
     "name": "stdout",
     "output_type": "stream",
     "text": [
      "[[370   0  20   0   0   0   5]\n",
      " [  0 161   0   0   0   0   0]\n",
      " [ 21   0 445   0   7   1   5]\n",
      " [  0   0   0 927   5  18  93]\n",
      " [  3   0   7   3 559   0  16]\n",
      " [ 10   0   0   8   0 583  18]\n",
      " [  3   0   2  46  10   9 729]]\n"
     ]
    }
   ],
   "source": [
    "# Print confusion matrix\n",
    "cm = confusion_matrix(y_test, predictions)\n",
    "print(cm)"
   ]
  },
  {
   "cell_type": "markdown",
   "id": "82533863-c75e-47a2-bd44-67d777561492",
   "metadata": {},
   "source": [
    "#### Classification report"
   ]
  },
  {
   "cell_type": "code",
   "execution_count": 68,
   "id": "4bbb8db8-91ad-473b-b8d5-9860ae33e09a",
   "metadata": {},
   "outputs": [
    {
     "name": "stdout",
     "output_type": "stream",
     "text": [
      "              precision    recall  f1-score   support\n",
      "\n",
      "    BARBUNYA       0.91      0.94      0.92       395\n",
      "      BOMBAY       1.00      1.00      1.00       161\n",
      "        CALI       0.94      0.93      0.93       479\n",
      "    DERMASON       0.94      0.89      0.91      1043\n",
      "       HOROZ       0.96      0.95      0.96       588\n",
      "       SEKER       0.95      0.94      0.95       619\n",
      "        SIRA       0.84      0.91      0.88       799\n",
      "\n",
      "    accuracy                           0.92      4084\n",
      "   macro avg       0.94      0.94      0.94      4084\n",
      "weighted avg       0.93      0.92      0.92      4084\n",
      "\n"
     ]
    }
   ],
   "source": [
    "# Print precision, recall, f1-score, and accuracy\n",
    "cr = classification_report(y_test, predictions)\n",
    "print(cr)"
   ]
  },
  {
   "cell_type": "code",
   "execution_count": null,
   "id": "40791199-56fc-4ab7-85c4-fb47a24300db",
   "metadata": {},
   "outputs": [],
   "source": []
  },
  {
   "cell_type": "markdown",
   "id": "fa6c2283-05ff-4d9e-ad16-488bedf7296b",
   "metadata": {},
   "source": [
    "### 17.2 Linearly Inseparable Classes Using Kernels (& SVC)"
   ]
  },
  {
   "cell_type": "code",
   "execution_count": 69,
   "id": "56294ec3-616a-4d7b-9a56-013378b457ac",
   "metadata": {},
   "outputs": [],
   "source": [
    "# Load libraries\n",
    "from sklearn.svm import SVC"
   ]
  },
  {
   "cell_type": "code",
   "execution_count": 70,
   "id": "84f645f9-3f6b-4f4f-a4e3-fa56b02ab2dc",
   "metadata": {},
   "outputs": [],
   "source": [
    "# Create support vector classifier\n",
    "svc = SVC(random_state=42, class_weight='balanced', verbose=1, max_iter=5000)"
   ]
  },
  {
   "cell_type": "code",
   "execution_count": 71,
   "id": "dd99ec03-8845-4242-85bc-7fcd0d56eb0d",
   "metadata": {},
   "outputs": [],
   "source": [
    "# Create range of candidate penalty hyperparameter values\n",
    "parameter_space = {\n",
    "    'kernel': ['linear', 'poly', 'rbf', 'sigmoid'],\n",
    "    'gamma': ['scale', 'auto'], \n",
    "    'C': np.logspace(0, 2, 5), \n",
    "    'shrinking': [True, False], \n",
    "    'decision_function_shape': ['ovo', 'ovr'],\n",
    "}\n",
    "grid = GridSearchCV(svc, parameter_space, verbose=2, n_jobs=-1, cv=5)"
   ]
  },
  {
   "cell_type": "code",
   "execution_count": 72,
   "id": "977c989d-360f-4db9-8874-daed7fa5ff55",
   "metadata": {},
   "outputs": [
    {
     "name": "stdout",
     "output_type": "stream",
     "text": [
      "Fitting 5 folds for each of 160 candidates, totalling 800 fits\n",
      "[LibSVM]Wall time: 4min 27s\n"
     ]
    }
   ],
   "source": [
    "%%time\n",
    "grid_result = grid.fit(X_train, y_train)"
   ]
  },
  {
   "cell_type": "code",
   "execution_count": 73,
   "id": "de6ac5d1-4f99-44aa-a104-1bda6ef8a0e0",
   "metadata": {},
   "outputs": [
    {
     "name": "stdout",
     "output_type": "stream",
     "text": [
      "Best parameters found:\n",
      " {'C': 31.622776601683793, 'decision_function_shape': 'ovo', 'gamma': 'scale', 'kernel': 'rbf', 'shrinking': True}\n"
     ]
    }
   ],
   "source": [
    "print('Best parameters found:\\n', grid_result.best_params_)"
   ]
  },
  {
   "cell_type": "code",
   "execution_count": 74,
   "id": "6151775f-0ec2-4c8d-a727-05f6a574516b",
   "metadata": {},
   "outputs": [
    {
     "name": "stdout",
     "output_type": "stream",
     "text": [
      "Accuracy:\t93.22\n"
     ]
    }
   ],
   "source": [
    "# Get accuracy score\n",
    "score = round(grid_result.score(X_test, y_test)*100, 2)\n",
    "print(f\"Accuracy:\\t{score}\")"
   ]
  },
  {
   "cell_type": "markdown",
   "id": "a37f8ad9-610c-495a-99ed-f06db4c1adac",
   "metadata": {},
   "source": [
    "### Evaluate"
   ]
  },
  {
   "cell_type": "code",
   "execution_count": 75,
   "id": "abddc5a2-8fe0-40da-beb1-9b1b7c68d615",
   "metadata": {},
   "outputs": [],
   "source": [
    "# Load libraries\n",
    "from sklearn.metrics import classification_report, confusion_matrix"
   ]
  },
  {
   "cell_type": "code",
   "execution_count": 76,
   "id": "46bfd8f0-a0ba-458f-b406-dc83788ad097",
   "metadata": {},
   "outputs": [],
   "source": [
    "# Get predictions\n",
    "predictions = grid_result.predict(X_test)"
   ]
  },
  {
   "cell_type": "markdown",
   "id": "a3313166-2828-44e5-9076-8e38193a7041",
   "metadata": {},
   "source": [
    "#### Confusion matrix"
   ]
  },
  {
   "cell_type": "code",
   "execution_count": 77,
   "id": "82ac3456-1e67-46bc-918c-4f1e207df6e8",
   "metadata": {},
   "outputs": [
    {
     "name": "stdout",
     "output_type": "stream",
     "text": [
      "[[372   0  17   0   1   2   3]\n",
      " [  0 161   0   0   0   0   0]\n",
      " [ 19   0 447   0   8   2   3]\n",
      " [  0   0   0 952   1  18  72]\n",
      " [  3   0   6   6 563   0  10]\n",
      " [  4   0   0  12   0 591  12]\n",
      " [  2   0   1  58   8   9 721]]\n"
     ]
    }
   ],
   "source": [
    "# Print confusion matrix\n",
    "cm = confusion_matrix(y_test, predictions)\n",
    "print(cm)"
   ]
  },
  {
   "cell_type": "markdown",
   "id": "68294744-b9a2-4308-a77b-3cd411c9badb",
   "metadata": {},
   "source": [
    "#### Classification report"
   ]
  },
  {
   "cell_type": "code",
   "execution_count": 78,
   "id": "03a1a35e-39df-4295-92bc-61354c86ddfb",
   "metadata": {},
   "outputs": [
    {
     "name": "stdout",
     "output_type": "stream",
     "text": [
      "              precision    recall  f1-score   support\n",
      "\n",
      "    BARBUNYA       0.93      0.94      0.94       395\n",
      "      BOMBAY       1.00      1.00      1.00       161\n",
      "        CALI       0.95      0.93      0.94       479\n",
      "    DERMASON       0.93      0.91      0.92      1043\n",
      "       HOROZ       0.97      0.96      0.96       588\n",
      "       SEKER       0.95      0.95      0.95       619\n",
      "        SIRA       0.88      0.90      0.89       799\n",
      "\n",
      "    accuracy                           0.93      4084\n",
      "   macro avg       0.94      0.94      0.94      4084\n",
      "weighted avg       0.93      0.93      0.93      4084\n",
      "\n"
     ]
    }
   ],
   "source": [
    "# Print precision, recall, f1-score, and accuracy\n",
    "cr = classification_report(y_test, predictions)\n",
    "print(cr)"
   ]
  },
  {
   "cell_type": "code",
   "execution_count": null,
   "id": "1d632637-e19d-4b25-b20b-f1eaa0326126",
   "metadata": {},
   "outputs": [],
   "source": []
  },
  {
   "cell_type": "markdown",
   "id": "0eae8516-8bbf-48ad-85c5-30e93173bd47",
   "metadata": {},
   "source": [
    "# Typical Beans: Create a set of mean/median bean data for testing"
   ]
  },
  {
   "cell_type": "code",
   "execution_count": 113,
   "id": "25234ef0-c863-40ad-9dc3-35eba9c0d5a1",
   "metadata": {},
   "outputs": [],
   "source": [
    "df = beanDF.copy()"
   ]
  },
  {
   "cell_type": "code",
   "execution_count": 114,
   "id": "c41b63b6-0c53-4992-aabf-72ba043968e9",
   "metadata": {},
   "outputs": [],
   "source": [
    "# Group rows by values of column 'Class'. Calculate mean\n",
    "testDF_mean = df.groupby('Class').mean()\n",
    "testDF_mean['Class'] = testDF_mean.index\n",
    "testDF_mean = testDF_mean.reset_index(drop=True)\n",
    "testDF_mean.iloc[:,:-1] = scaler.transform(testDF_mean.iloc[:,:-1]) \n",
    "testDF_mean"
   ]
  },
  {
   "cell_type": "code",
   "execution_count": 115,
   "id": "d01ee650-4167-4f9b-ac6a-b6911afd65b8",
   "metadata": {},
   "outputs": [],
   "source": [
    "# testDF.columns.identical(df.columns[:-1])"
   ]
  },
  {
   "cell_type": "code",
   "execution_count": 128,
   "id": "f6c37908-282e-4a4e-98ad-1f46831a12c7",
   "metadata": {},
   "outputs": [
    {
     "data": {
      "text/html": [
       "<div>\n",
       "<style scoped>\n",
       "    .dataframe tbody tr th:only-of-type {\n",
       "        vertical-align: middle;\n",
       "    }\n",
       "\n",
       "    .dataframe tbody tr th {\n",
       "        vertical-align: top;\n",
       "    }\n",
       "\n",
       "    .dataframe thead th {\n",
       "        text-align: right;\n",
       "    }\n",
       "</style>\n",
       "<table border=\"1\" class=\"dataframe\">\n",
       "  <thead>\n",
       "    <tr style=\"text-align: right;\">\n",
       "      <th></th>\n",
       "      <th>Area</th>\n",
       "      <th>Perimeter</th>\n",
       "      <th>MajorAxisLength</th>\n",
       "      <th>MinorAxisLength</th>\n",
       "      <th>AspectRation</th>\n",
       "      <th>Eccentricity</th>\n",
       "      <th>ConvexArea</th>\n",
       "      <th>EquivDiameter</th>\n",
       "      <th>Extent</th>\n",
       "      <th>Solidity</th>\n",
       "      <th>roundness</th>\n",
       "      <th>Compactness</th>\n",
       "      <th>ShapeFactor1</th>\n",
       "      <th>ShapeFactor2</th>\n",
       "      <th>ShapeFactor3</th>\n",
       "      <th>ShapeFactor4</th>\n",
       "      <th>Class</th>\n",
       "    </tr>\n",
       "  </thead>\n",
       "  <tbody>\n",
       "    <tr>\n",
       "      <th>0</th>\n",
       "      <td>0.564285</td>\n",
       "      <td>0.884683</td>\n",
       "      <td>0.575559</td>\n",
       "      <td>0.836562</td>\n",
       "      <td>-0.146923</td>\n",
       "      <td>0.130981</td>\n",
       "      <td>0.572583</td>\n",
       "      <td>0.753592</td>\n",
       "      <td>0.024162</td>\n",
       "      <td>-0.859122</td>\n",
       "      <td>-1.173040</td>\n",
       "      <td>0.043878</td>\n",
       "      <td>-1.091659</td>\n",
       "      <td>-0.581566</td>\n",
       "      <td>0.005413</td>\n",
       "      <td>0.298054</td>\n",
       "      <td>BARBUNYA</td>\n",
       "    </tr>\n",
       "    <tr>\n",
       "      <th>1</th>\n",
       "      <td>4.040807</td>\n",
       "      <td>3.408359</td>\n",
       "      <td>3.149915</td>\n",
       "      <td>3.776832</td>\n",
       "      <td>0.009662</td>\n",
       "      <td>0.273226</td>\n",
       "      <td>4.026093</td>\n",
       "      <td>3.619275</td>\n",
       "      <td>0.699262</td>\n",
       "      <td>0.217208</td>\n",
       "      <td>-0.138650</td>\n",
       "      <td>-0.139711</td>\n",
       "      <td>-2.758494</td>\n",
       "      <td>-1.492696</td>\n",
       "      <td>-0.177004</td>\n",
       "      <td>-0.581482</td>\n",
       "      <td>BOMBAY</td>\n",
       "    </tr>\n",
       "    <tr>\n",
       "      <th>2</th>\n",
       "      <td>0.741996</td>\n",
       "      <td>0.933240</td>\n",
       "      <td>1.031547</td>\n",
       "      <td>0.740483</td>\n",
       "      <td>0.608548</td>\n",
       "      <td>0.716999</td>\n",
       "      <td>0.745940</td>\n",
       "      <td>0.938424</td>\n",
       "      <td>0.333591</td>\n",
       "      <td>-0.188101</td>\n",
       "      <td>-0.443439</td>\n",
       "      <td>-0.717508</td>\n",
       "      <td>-0.974380</td>\n",
       "      <td>-1.044562</td>\n",
       "      <td>-0.734214</td>\n",
       "      <td>-0.862343</td>\n",
       "      <td>CALI</td>\n",
       "    </tr>\n",
       "    <tr>\n",
       "      <th>3</th>\n",
       "      <td>-0.721495</td>\n",
       "      <td>-0.889876</td>\n",
       "      <td>-0.857912</td>\n",
       "      <td>-0.811801</td>\n",
       "      <td>-0.402844</td>\n",
       "      <td>-0.132161</td>\n",
       "      <td>-0.722023</td>\n",
       "      <td>-0.870609</td>\n",
       "      <td>0.090098</td>\n",
       "      <td>0.340691</td>\n",
       "      <td>0.660493</td>\n",
       "      <td>0.322469</td>\n",
       "      <td>1.009033</td>\n",
       "      <td>0.703990</td>\n",
       "      <td>0.287175</td>\n",
       "      <td>0.523241</td>\n",
       "      <td>DERMASON</td>\n",
       "    </tr>\n",
       "    <tr>\n",
       "      <th>4</th>\n",
       "      <td>0.025934</td>\n",
       "      <td>0.307998</td>\n",
       "      <td>0.630711</td>\n",
       "      <td>-0.408953</td>\n",
       "      <td>1.836907</td>\n",
       "      <td>1.308902</td>\n",
       "      <td>0.027582</td>\n",
       "      <td>0.146761</td>\n",
       "      <td>-0.929392</td>\n",
       "      <td>-0.021255</td>\n",
       "      <td>-1.293937</td>\n",
       "      <td>-1.649386</td>\n",
       "      <td>0.363056</td>\n",
       "      <td>-1.161188</td>\n",
       "      <td>-1.578836</td>\n",
       "      <td>-0.276983</td>\n",
       "      <td>HOROZ</td>\n",
       "    </tr>\n",
       "    <tr>\n",
       "      <th>5</th>\n",
       "      <td>-0.472812</td>\n",
       "      <td>-0.625145</td>\n",
       "      <td>-0.827559</td>\n",
       "      <td>-0.039078</td>\n",
       "      <td>-1.411261</td>\n",
       "      <td>-1.783119</td>\n",
       "      <td>-0.477838</td>\n",
       "      <td>-0.501537</td>\n",
       "      <td>0.503824</td>\n",
       "      <td>0.813583</td>\n",
       "      <td>1.321892</td>\n",
       "      <td>1.608222</td>\n",
       "      <td>-0.180217</td>\n",
       "      <td>1.384012</td>\n",
       "      <td>1.664833</td>\n",
       "      <td>0.813061</td>\n",
       "      <td>SEKER</td>\n",
       "    </tr>\n",
       "    <tr>\n",
       "      <th>6</th>\n",
       "      <td>-0.288160</td>\n",
       "      <td>-0.281471</td>\n",
       "      <td>-0.251833</td>\n",
       "      <td>-0.250751</td>\n",
       "      <td>-0.087579</td>\n",
       "      <td>0.186418</td>\n",
       "      <td>-0.288959</td>\n",
       "      <td>-0.249325</td>\n",
       "      <td>0.061500</td>\n",
       "      <td>0.298017</td>\n",
       "      <td>0.227574</td>\n",
       "      <td>-0.022088</td>\n",
       "      <td>0.115422</td>\n",
       "      <td>-0.064821</td>\n",
       "      <td>-0.060430</td>\n",
       "      <td>0.210903</td>\n",
       "      <td>SIRA</td>\n",
       "    </tr>\n",
       "  </tbody>\n",
       "</table>\n",
       "</div>"
      ],
      "text/plain": [
       "       Area  Perimeter  MajorAxisLength  MinorAxisLength  AspectRation  \\\n",
       "0  0.564285   0.884683         0.575559         0.836562     -0.146923   \n",
       "1  4.040807   3.408359         3.149915         3.776832      0.009662   \n",
       "2  0.741996   0.933240         1.031547         0.740483      0.608548   \n",
       "3 -0.721495  -0.889876        -0.857912        -0.811801     -0.402844   \n",
       "4  0.025934   0.307998         0.630711        -0.408953      1.836907   \n",
       "5 -0.472812  -0.625145        -0.827559        -0.039078     -1.411261   \n",
       "6 -0.288160  -0.281471        -0.251833        -0.250751     -0.087579   \n",
       "\n",
       "   Eccentricity  ConvexArea  EquivDiameter    Extent  Solidity  roundness  \\\n",
       "0      0.130981    0.572583       0.753592  0.024162 -0.859122  -1.173040   \n",
       "1      0.273226    4.026093       3.619275  0.699262  0.217208  -0.138650   \n",
       "2      0.716999    0.745940       0.938424  0.333591 -0.188101  -0.443439   \n",
       "3     -0.132161   -0.722023      -0.870609  0.090098  0.340691   0.660493   \n",
       "4      1.308902    0.027582       0.146761 -0.929392 -0.021255  -1.293937   \n",
       "5     -1.783119   -0.477838      -0.501537  0.503824  0.813583   1.321892   \n",
       "6      0.186418   -0.288959      -0.249325  0.061500  0.298017   0.227574   \n",
       "\n",
       "   Compactness  ShapeFactor1  ShapeFactor2  ShapeFactor3  ShapeFactor4  \\\n",
       "0     0.043878     -1.091659     -0.581566      0.005413      0.298054   \n",
       "1    -0.139711     -2.758494     -1.492696     -0.177004     -0.581482   \n",
       "2    -0.717508     -0.974380     -1.044562     -0.734214     -0.862343   \n",
       "3     0.322469      1.009033      0.703990      0.287175      0.523241   \n",
       "4    -1.649386      0.363056     -1.161188     -1.578836     -0.276983   \n",
       "5     1.608222     -0.180217      1.384012      1.664833      0.813061   \n",
       "6    -0.022088      0.115422     -0.064821     -0.060430      0.210903   \n",
       "\n",
       "      Class  \n",
       "0  BARBUNYA  \n",
       "1    BOMBAY  \n",
       "2      CALI  \n",
       "3  DERMASON  \n",
       "4     HOROZ  \n",
       "5     SEKER  \n",
       "6      SIRA  "
      ]
     },
     "execution_count": 128,
     "metadata": {},
     "output_type": "execute_result"
    }
   ],
   "source": [
    "# Group rows by values of column 'Class'. Calculate median\n",
    "testDF_med = df.groupby('Class').median()\n",
    "testDF_med['Class'] = testDF_med.index\n",
    "testDF_med = testDF_med.reset_index(drop=True)\n",
    "testDF_med.iloc[:,:-1] = scaler.transform(testDF_med.iloc[:,:-1]) \n",
    "testDF_med"
   ]
  },
  {
   "cell_type": "code",
   "execution_count": 129,
   "id": "c24f7e43-fe01-44a1-971f-daebeddecccc",
   "metadata": {},
   "outputs": [],
   "source": [
    "testDF_mean_X = testDF_mean.iloc[:,:-1]\n",
    "testDF_mean_y = testDF_mean.Class"
   ]
  },
  {
   "cell_type": "code",
   "execution_count": 130,
   "id": "fe242e5e-b8c2-4709-9b4e-bd1922571749",
   "metadata": {},
   "outputs": [],
   "source": [
    "testDF_med_X = testDF_med.iloc[:,:-1]\n",
    "testDF_med_y = testDF_med.Class"
   ]
  },
  {
   "cell_type": "code",
   "execution_count": null,
   "id": "91b5b4d7-a7ab-46ef-94eb-60cb2ad65427",
   "metadata": {},
   "outputs": [],
   "source": []
  },
  {
   "cell_type": "code",
   "execution_count": 137,
   "id": "2388ed69-932e-4493-8ee6-00b8f1beeaf9",
   "metadata": {},
   "outputs": [],
   "source": [
    "# Get predictions\n",
    "predictions = grid_result.predict(testDF_mean_X)"
   ]
  },
  {
   "cell_type": "markdown",
   "id": "bd90d9db-a91c-4c0f-bc9d-18d2fb66fc8f",
   "metadata": {},
   "source": [
    "#### Confusion matrix"
   ]
  },
  {
   "cell_type": "code",
   "execution_count": 138,
   "id": "e1061396-9a48-4709-8557-0ac9160ee99b",
   "metadata": {},
   "outputs": [
    {
     "name": "stdout",
     "output_type": "stream",
     "text": [
      "[[1 0 0 0 0 0 0]\n",
      " [0 1 0 0 0 0 0]\n",
      " [0 0 1 0 0 0 0]\n",
      " [0 0 0 1 0 0 0]\n",
      " [0 0 0 0 1 0 0]\n",
      " [0 0 0 0 0 1 0]\n",
      " [0 0 0 0 0 0 1]]\n"
     ]
    }
   ],
   "source": [
    "# Print confusion matrix\n",
    "cm = confusion_matrix(testDF_mean_y, predictions)\n",
    "print(cm)"
   ]
  },
  {
   "cell_type": "markdown",
   "id": "3b6c6cde-c688-46f8-92c1-f818537c8592",
   "metadata": {},
   "source": [
    "#### Classification report"
   ]
  },
  {
   "cell_type": "code",
   "execution_count": 139,
   "id": "ffc6bd52-12a7-4f73-a34d-d13a0684451c",
   "metadata": {},
   "outputs": [
    {
     "name": "stdout",
     "output_type": "stream",
     "text": [
      "              precision    recall  f1-score   support\n",
      "\n",
      "    BARBUNYA       1.00      1.00      1.00         1\n",
      "      BOMBAY       1.00      1.00      1.00         1\n",
      "        CALI       1.00      1.00      1.00         1\n",
      "    DERMASON       1.00      1.00      1.00         1\n",
      "       HOROZ       1.00      1.00      1.00         1\n",
      "       SEKER       1.00      1.00      1.00         1\n",
      "        SIRA       1.00      1.00      1.00         1\n",
      "\n",
      "    accuracy                           1.00         7\n",
      "   macro avg       1.00      1.00      1.00         7\n",
      "weighted avg       1.00      1.00      1.00         7\n",
      "\n"
     ]
    }
   ],
   "source": [
    "# Print precision, recall, f1-score, and accuracy\n",
    "cr = classification_report(testDF_mean_y, predictions)\n",
    "print(cr)"
   ]
  },
  {
   "cell_type": "code",
   "execution_count": null,
   "id": "b1ee0bc6-e477-4b49-9e94-8e0f7597c7e3",
   "metadata": {},
   "outputs": [],
   "source": []
  },
  {
   "cell_type": "code",
   "execution_count": 140,
   "id": "5a0be9b6-522a-4203-b95a-315d30221861",
   "metadata": {},
   "outputs": [],
   "source": [
    "# Get predictions\n",
    "predictions = grid_result.predict(testDF_med_X)"
   ]
  },
  {
   "cell_type": "markdown",
   "id": "34d36c18-9c92-46c2-8e27-77f7791d345a",
   "metadata": {},
   "source": [
    "#### Confusion matrix"
   ]
  },
  {
   "cell_type": "code",
   "execution_count": 141,
   "id": "9d87913f-707d-442f-a334-d611b5ccfa57",
   "metadata": {},
   "outputs": [
    {
     "name": "stdout",
     "output_type": "stream",
     "text": [
      "[[1 0 0 0 0 0 0]\n",
      " [0 1 0 0 0 0 0]\n",
      " [0 0 1 0 0 0 0]\n",
      " [0 0 0 1 0 0 0]\n",
      " [0 0 0 0 1 0 0]\n",
      " [0 0 0 0 0 1 0]\n",
      " [0 0 0 0 0 0 1]]\n"
     ]
    }
   ],
   "source": [
    "# Print confusion matrix\n",
    "cm = confusion_matrix(testDF_med_y, predictions)\n",
    "print(cm)"
   ]
  },
  {
   "cell_type": "markdown",
   "id": "fe6ada91-6d3c-43a6-9f79-ff8abf5d668c",
   "metadata": {},
   "source": [
    "#### Classification report"
   ]
  },
  {
   "cell_type": "code",
   "execution_count": 142,
   "id": "a97e5c9a-da2f-4d37-b7a0-eba2285079be",
   "metadata": {},
   "outputs": [
    {
     "name": "stdout",
     "output_type": "stream",
     "text": [
      "              precision    recall  f1-score   support\n",
      "\n",
      "    BARBUNYA       1.00      1.00      1.00         1\n",
      "      BOMBAY       1.00      1.00      1.00         1\n",
      "        CALI       1.00      1.00      1.00         1\n",
      "    DERMASON       1.00      1.00      1.00         1\n",
      "       HOROZ       1.00      1.00      1.00         1\n",
      "       SEKER       1.00      1.00      1.00         1\n",
      "        SIRA       1.00      1.00      1.00         1\n",
      "\n",
      "    accuracy                           1.00         7\n",
      "   macro avg       1.00      1.00      1.00         7\n",
      "weighted avg       1.00      1.00      1.00         7\n",
      "\n"
     ]
    }
   ],
   "source": [
    "# Print precision, recall, f1-score, and accuracy\n",
    "cr = classification_report(testDF_med_y, predictions)\n",
    "print(cr)"
   ]
  },
  {
   "cell_type": "code",
   "execution_count": 143,
   "id": "58cb659a-9ad5-471f-a58d-a1eeb474dc80",
   "metadata": {},
   "outputs": [
    {
     "data": {
      "text/plain": [
       "{'C': 31.622776601683793,\n",
       " 'decision_function_shape': 'ovo',\n",
       " 'gamma': 'scale',\n",
       " 'kernel': 'rbf',\n",
       " 'shrinking': True}"
      ]
     },
     "execution_count": 143,
     "metadata": {},
     "output_type": "execute_result"
    }
   ],
   "source": [
    "grid.best_params_"
   ]
  },
  {
   "cell_type": "code",
   "execution_count": null,
   "id": "3fd6a68e-8c6d-4756-88a6-7e05a191c83f",
   "metadata": {},
   "outputs": [],
   "source": []
  },
  {
   "cell_type": "markdown",
   "id": "85ce4653-5280-45a8-9491-8c3de81f02cb",
   "metadata": {},
   "source": [
    "## Gaussian naive Bayes classifier"
   ]
  },
  {
   "cell_type": "code",
   "execution_count": 144,
   "id": "458c3bd6-7743-4ea4-93a6-a7451503b08e",
   "metadata": {},
   "outputs": [],
   "source": [
    "# Load libraries\n",
    "from sklearn.naive_bayes import GaussianNB"
   ]
  },
  {
   "cell_type": "code",
   "execution_count": 145,
   "id": "fc2d4170-0d03-4921-a494-00a682dc2fcb",
   "metadata": {},
   "outputs": [],
   "source": [
    "# Create Gaussian naive Bayes object\n",
    "nBayes = GaussianNB()"
   ]
  },
  {
   "cell_type": "code",
   "execution_count": 146,
   "id": "ba8d7b08-d7fe-4408-a534-02a9f32dcb9e",
   "metadata": {},
   "outputs": [
    {
     "name": "stdout",
     "output_type": "stream",
     "text": [
      "Wall time: 16 ms\n"
     ]
    }
   ],
   "source": [
    "%%time\n",
    "# Train model\n",
    "model = nBayes.fit(X_train, y_train)"
   ]
  },
  {
   "cell_type": "code",
   "execution_count": 147,
   "id": "1fc0d3d6-5bb3-4792-83e1-0a38cc310859",
   "metadata": {},
   "outputs": [
    {
     "data": {
      "text/plain": [
       "0.8998530852105778"
      ]
     },
     "execution_count": 147,
     "metadata": {},
     "output_type": "execute_result"
    }
   ],
   "source": [
    "model.score(X_test, y_test)"
   ]
  },
  {
   "cell_type": "markdown",
   "id": "b467dfe5-6faa-441c-8844-67994b9b109e",
   "metadata": {},
   "source": [
    "## KM Clustering using Meanshift"
   ]
  },
  {
   "cell_type": "code",
   "execution_count": 163,
   "id": "9a78bb83-ea2f-4233-b1c1-f6885c20f423",
   "metadata": {},
   "outputs": [],
   "source": [
    "# # Load libraries\n",
    "# from sklearn.cluster import MeanShift"
   ]
  },
  {
   "cell_type": "code",
   "execution_count": 164,
   "id": "e8ec2f94-70b4-4b42-a2e6-fa158c060dba",
   "metadata": {},
   "outputs": [],
   "source": [
    "# # Create meanshift object\n",
    "# clusterMS = MeanShift(n_jobs=-1)"
   ]
  },
  {
   "cell_type": "code",
   "execution_count": 157,
   "id": "bfacdb5a-1389-49cd-b6d3-bd34a41e1bb1",
   "metadata": {},
   "outputs": [],
   "source": [
    "X_scaled = scaler.transform(X)"
   ]
  },
  {
   "cell_type": "code",
   "execution_count": 165,
   "id": "7204788c-c536-4c1e-a76c-4c285dc5a0f2",
   "metadata": {},
   "outputs": [],
   "source": [
    "# %%time\n",
    "# # Train model\n",
    "# model = clusterMS.fit(X_scaled)"
   ]
  },
  {
   "cell_type": "code",
   "execution_count": 166,
   "id": "1c0083ad-c63f-4c9d-84e5-bef2e5044741",
   "metadata": {},
   "outputs": [],
   "source": [
    "# len(model.labels_ )"
   ]
  },
  {
   "cell_type": "code",
   "execution_count": null,
   "id": "89cca1f9-3a9f-4081-9745-49cccb912c36",
   "metadata": {},
   "outputs": [],
   "source": []
  },
  {
   "cell_type": "markdown",
   "id": "6d4023be-1cc1-46d5-8674-24fa42eee5a6",
   "metadata": {},
   "source": [
    "## 20.4 Training a Multiclass Classifier"
   ]
  },
  {
   "cell_type": "code",
   "execution_count": 197,
   "id": "675fc438-981b-455e-a53a-bcc61aa9ff13",
   "metadata": {},
   "outputs": [],
   "source": [
    "# Load libraries\n",
    "from keras.models import Sequential\n",
    "from keras.layers import Dense\n",
    "import tensorflow as tf\n",
    "\n",
    "np.random.seed(42)"
   ]
  },
  {
   "cell_type": "code",
   "execution_count": 220,
   "id": "a537ca81-3d5a-417f-b39f-a0a5f7243452",
   "metadata": {},
   "outputs": [],
   "source": [
    "# tf.config.run_functions_eagerly(False)"
   ]
  },
  {
   "cell_type": "code",
   "execution_count": 169,
   "id": "0ff1edaa-ce2e-407b-a94b-d47153108a02",
   "metadata": {},
   "outputs": [],
   "source": [
    "# Set the number of features\n",
    "number_of_features = 16"
   ]
  },
  {
   "cell_type": "code",
   "execution_count": 203,
   "id": "aa6e58ed-3cb1-4d2f-b4da-1d576795a0bd",
   "metadata": {},
   "outputs": [],
   "source": [
    "# Start neural network\n",
    "network = Sequential()\n",
    "\n",
    "# Add fully connected layer w/a ReLU activation function\n",
    "network.add(Dense(units=100, activation='relu', \n",
    "                  input_shape=(number_of_features,)))\n",
    "\n",
    "# Add fully connected layer w/a ReLU activation function\n",
    "network.add(Dense(units=100, activation='relu'))\n",
    "\n",
    "# Add fully connected layer w/a softmax activation function\n",
    "network.add(Dense(units=7, activation='softmax'))\n",
    "\n",
    "# Compile neural network\n",
    "network.compile(loss='categorical_crossentropy', \n",
    "                optimizer='rmsprop', \n",
    "                metrics=['accuracy'])"
   ]
  },
  {
   "cell_type": "code",
   "execution_count": 184,
   "id": "f0052c14-6dcb-4261-9971-bf2d74b5e6e8",
   "metadata": {},
   "outputs": [],
   "source": [
    "# Encode the target variables\n",
    "le = LabelEncoder()\n",
    "le.fit(y)\n",
    "\n",
    "le_y_train = le.transform(y_train)\n",
    "le_y_test  = le.transform(y_test)\n",
    "\n",
    "from keras.utils.np_utils import to_categorical\n",
    "cat_y_train = to_categorical(le_y_train)\n",
    "cat_y_test  = to_categorical(le_y_test)"
   ]
  },
  {
   "cell_type": "code",
   "execution_count": 221,
   "id": "33ed8d34-71a1-447b-bc22-a804631af024",
   "metadata": {},
   "outputs": [
    {
     "name": "stdout",
     "output_type": "stream",
     "text": [
      "Epoch 1/3\n",
      "96/96 [==============================] - 2s 20ms/step - loss: 0.2080 - accuracy: 0.9245 - val_loss: 0.2125 - val_accuracy: 0.9202\n",
      "Epoch 2/3\n",
      "96/96 [==============================] - 2s 20ms/step - loss: 0.2008 - accuracy: 0.9260 - val_loss: 0.2099 - val_accuracy: 0.9185\n",
      "Epoch 3/3\n",
      "96/96 [==============================] - 2s 20ms/step - loss: 0.1982 - accuracy: 0.9245 - val_loss: 0.1983 - val_accuracy: 0.9280\n",
      "Wall time: 5.82 s\n"
     ]
    }
   ],
   "source": [
    "%%time\n",
    "# Train neural network\n",
    "history = network.fit(X_train, cat_y_train, \n",
    "                      epochs=3, \n",
    "                      verbose=1, \n",
    "                      batch_size=100, \n",
    "                      validation_data=(X_test, cat_y_test))"
   ]
  },
  {
   "cell_type": "code",
   "execution_count": 222,
   "id": "99a66928-ee47-47f5-8bbf-7162eeb55c91",
   "metadata": {},
   "outputs": [],
   "source": [
    "# Predict classes of test set\n",
    "predictions = network.predict(X_test)"
   ]
  },
  {
   "cell_type": "code",
   "execution_count": 227,
   "id": "9c2098d1-ecfa-4531-a907-a2fe0f0af6c6",
   "metadata": {},
   "outputs": [
    {
     "data": {
      "text/plain": [
       "4084"
      ]
     },
     "execution_count": 227,
     "metadata": {},
     "output_type": "execute_result"
    }
   ],
   "source": [
    "len(predictions)"
   ]
  },
  {
   "cell_type": "code",
   "execution_count": 228,
   "id": "f6e8a395-3696-45e8-afc3-bedbfa13a791",
   "metadata": {},
   "outputs": [
    {
     "data": {
      "text/plain": [
       "array([2.7537337e-05, 3.9633039e-09, 1.6415303e-06, 2.1451100e-04,\n",
       "       5.6441572e-06, 9.9942774e-01, 3.2289588e-04], dtype=float32)"
      ]
     },
     "execution_count": 228,
     "metadata": {},
     "output_type": "execute_result"
    }
   ],
   "source": [
    "predictions[0]"
   ]
  },
  {
   "cell_type": "markdown",
   "id": "0129de33-810a-48d4-8b95-3225d838b798",
   "metadata": {},
   "source": [
    "99.9% SEKER"
   ]
  },
  {
   "cell_type": "code",
   "execution_count": 229,
   "id": "b9567dcb-0c8b-4e38-8277-e5a4af6825be",
   "metadata": {},
   "outputs": [
    {
     "data": {
      "text/plain": [
       "'SEKER'"
      ]
     },
     "execution_count": 229,
     "metadata": {},
     "output_type": "execute_result"
    }
   ],
   "source": [
    "y_test[0]"
   ]
  },
  {
   "cell_type": "code",
   "execution_count": 237,
   "id": "cbc9d607-62e8-43bd-8381-ec06ef2a2b10",
   "metadata": {},
   "outputs": [
    {
     "data": {
      "text/plain": [
       "array(['BARBUNYA', 'BOMBAY', 'CALI', 'DERMASON', 'HOROZ', 'SEKER', 'SIRA'],\n",
       "      dtype=object)"
      ]
     },
     "execution_count": 237,
     "metadata": {},
     "output_type": "execute_result"
    }
   ],
   "source": [
    "le.classes_"
   ]
  },
  {
   "cell_type": "code",
   "execution_count": null,
   "id": "2668d7ed-4b16-4265-b644-94586b735a90",
   "metadata": {},
   "outputs": [],
   "source": []
  },
  {
   "cell_type": "markdown",
   "id": "76a97401-0efa-49d2-a50c-6833c66629c1",
   "metadata": {},
   "source": [
    "## 20.13 Tuning Neural Networks"
   ]
  },
  {
   "cell_type": "code",
   "execution_count": 241,
   "id": "52ed9f9a-cddd-4b78-aa00-9528e6783c85",
   "metadata": {},
   "outputs": [],
   "source": [
    "# Load libraries\n",
    "import numpy as np\n",
    "from keras.models import Sequential\n",
    "from keras.layers import Dense\n",
    "from keras.wrappers.scikit_learn import KerasClassifier\n",
    "from sklearn.model_selection import GridSearchCV\n",
    "from sklearn.datasets import make_classification"
   ]
  },
  {
   "cell_type": "code",
   "execution_count": 254,
   "id": "2714bf40-187f-4962-b142-24757b366ac7",
   "metadata": {},
   "outputs": [
    {
     "name": "stdout",
     "output_type": "stream",
     "text": [
      "Wall time: 0 ns\n"
     ]
    }
   ],
   "source": [
    "%%time\n",
    "# Set random seed\n",
    "np.random.seed(42)\n",
    "\n",
    "# Number of features\n",
    "number_of_features = 16\n",
    "\n",
    "# Create function returning a compiled network\n",
    "def create_network(optimizer=\"rmsprop\"):\n",
    "\n",
    "    # Start neural network\n",
    "    network = Sequential()\n",
    "\n",
    "    # Add fully connected layer with a ReLU activation function\n",
    "    network.add(Dense(units=16, activation=\"relu\",\n",
    "                      input_shape=(number_of_features,)))\n",
    "\n",
    "    # Add fully connected layer with a ReLU activation function\n",
    "    network.add(Dense(units=16, activation=\"relu\"))\n",
    "\n",
    "    # Add fully connected layer with a sigmoid activation function\n",
    "    network.add(Dense(units=7, activation=\"softmax\"))\n",
    "\n",
    "    # Compile neural network\n",
    "    network.compile(loss=\"categorical_crossentropy\", # Cross-entropy\n",
    "                    optimizer=optimizer, # Optimizer\n",
    "                    metrics=[\"accuracy\"]) # Accuracy performance metric\n",
    "\n",
    "    # Return compiled network\n",
    "    return network\n",
    "\n",
    "# Wrap Keras model so it can be used by scikit-learn\n",
    "neural_network = KerasClassifier(build_fn=create_network, verbose=1)\n",
    "\n",
    "# Create hyperparameter space\n",
    "batches = [5, 30, 100]\n",
    "epochs = [5, 10, 15]\n",
    "optimizers = [\"rmsprop\", \"adam\"]\n",
    "\n",
    "# Create hyperparameter options\n",
    "hyperparameters = dict(optimizer=optimizers, epochs=epochs, batch_size=batches)\n",
    "\n",
    "# Create grid search\n",
    "grid = GridSearchCV(estimator=neural_network, param_grid=hyperparameters)"
   ]
  },
  {
   "cell_type": "code",
   "execution_count": 253,
   "id": "c3f74757-ffc6-4e5c-acab-89d96981676e",
   "metadata": {},
   "outputs": [
    {
     "data": {
      "text/plain": [
       "{'batch_size': 5, 'epochs': 10, 'optimizer': 'adam'}"
      ]
     },
     "execution_count": 253,
     "metadata": {},
     "output_type": "execute_result"
    }
   ],
   "source": [
    "# View hyperparameters of best neural network\n",
    "grid_result.best_params_"
   ]
  },
  {
   "cell_type": "markdown",
   "id": "c080131b-782b-464a-82e8-e7ad22228f39",
   "metadata": {},
   "source": [
    "##### View hyperparameters of best neural network\n",
    "grid_result.best_params_"
   ]
  },
  {
   "cell_type": "code",
   "execution_count": 255,
   "id": "6dc9265d-b62b-4edb-b4dc-80d6c2d731a3",
   "metadata": {},
   "outputs": [
    {
     "name": "stdout",
     "output_type": "stream",
     "text": [
      "Epoch 1/5\n",
      "1525/1525 [==============================] - 2s 1ms/step - loss: 1.0346 - accuracy: 0.6431\n",
      "Epoch 2/5\n",
      "1525/1525 [==============================] - 2s 1ms/step - loss: 0.2613 - accuracy: 0.9103\n",
      "Epoch 3/5\n",
      "1525/1525 [==============================] - 2s 1ms/step - loss: 0.2390 - accuracy: 0.9167\n",
      "Epoch 4/5\n",
      "1525/1525 [==============================] - 2s 1ms/step - loss: 0.2364 - accuracy: 0.9179\n",
      "Epoch 5/5\n",
      "1525/1525 [==============================] - 2s 1ms/step - loss: 0.2227 - accuracy: 0.9225\n",
      "382/382 [==============================] - 1s 879us/step - loss: 0.2109 - accuracy: 0.9302\n",
      "Epoch 1/5\n",
      "1525/1525 [==============================] - 2s 1ms/step - loss: 0.9661 - accuracy: 0.6460\n",
      "Epoch 2/5\n",
      "1525/1525 [==============================] - 2s 1ms/step - loss: 0.2532 - accuracy: 0.9119\n",
      "Epoch 3/5\n",
      "1525/1525 [==============================] - 2s 1ms/step - loss: 0.2314 - accuracy: 0.9173\n",
      "Epoch 4/5\n",
      "1525/1525 [==============================] - 2s 1ms/step - loss: 0.2166 - accuracy: 0.9209\n",
      "Epoch 5/5\n",
      "1525/1525 [==============================] - 2s 1ms/step - loss: 0.2134 - accuracy: 0.9234\n",
      "382/382 [==============================] - 0s 607us/step - loss: 0.2381 - accuracy: 0.9145\n",
      "Epoch 1/5\n",
      "1525/1525 [==============================] - 2s 845us/step - loss: 1.0697 - accuracy: 0.6219\n",
      "Epoch 2/5\n",
      "1525/1525 [==============================] - 1s 836us/step - loss: 0.2638 - accuracy: 0.9063\n",
      "Epoch 3/5\n",
      "1525/1525 [==============================] - 1s 980us/step - loss: 0.2431 - accuracy: 0.9181\n",
      "Epoch 4/5\n",
      "1525/1525 [==============================] - 1s 833us/step - loss: 0.2396 - accuracy: 0.9163\n",
      "Epoch 5/5\n",
      "1525/1525 [==============================] - 1s 821us/step - loss: 0.2228 - accuracy: 0.9235\n",
      "381/381 [==============================] - 0s 642us/step - loss: 0.2407 - accuracy: 0.9234\n",
      "Epoch 1/5\n",
      "1525/1525 [==============================] - 2s 839us/step - loss: 0.9021 - accuracy: 0.6996\n",
      "Epoch 2/5\n",
      "1525/1525 [==============================] - 1s 962us/step - loss: 0.2495 - accuracy: 0.9096\n",
      "Epoch 3/5\n",
      "1525/1525 [==============================] - 2s 1ms/step - loss: 0.2327 - accuracy: 0.9236\n",
      "Epoch 4/5\n",
      "1525/1525 [==============================] - 2s 1ms/step - loss: 0.2302 - accuracy: 0.9201\n",
      "Epoch 5/5\n",
      "1525/1525 [==============================] - 2s 1ms/step - loss: 0.2213 - accuracy: 0.9257\n",
      "381/381 [==============================] - 0s 715us/step - loss: 0.2132 - accuracy: 0.9207\n",
      "Epoch 1/5\n",
      "1525/1525 [==============================] - 3s 1ms/step - loss: 1.1024 - accuracy: 0.5747\n",
      "Epoch 2/5\n",
      "1525/1525 [==============================] - 2s 1ms/step - loss: 0.2695 - accuracy: 0.9067\n",
      "Epoch 3/5\n",
      "1525/1525 [==============================] - 2s 1ms/step - loss: 0.2230 - accuracy: 0.9183\n",
      "Epoch 4/5\n",
      "1525/1525 [==============================] - 2s 1ms/step - loss: 0.2187 - accuracy: 0.9218\n",
      "Epoch 5/5\n",
      "1525/1525 [==============================] - 1s 853us/step - loss: 0.1965 - accuracy: 0.9292\n",
      "381/381 [==============================] - 0s 643us/step - loss: 0.2408 - accuracy: 0.9255\n",
      "Epoch 1/5\n",
      "1525/1525 [==============================] - 2s 1ms/step - loss: 0.9898 - accuracy: 0.6301\n",
      "Epoch 2/5\n",
      "1525/1525 [==============================] - 2s 1ms/step - loss: 0.2488 - accuracy: 0.9130\n",
      "Epoch 3/5\n",
      "1525/1525 [==============================] - 2s 1ms/step - loss: 0.2380 - accuracy: 0.9169\n",
      "Epoch 4/5\n",
      "1525/1525 [==============================] - 2s 1ms/step - loss: 0.2062 - accuracy: 0.9262\n",
      "Epoch 5/5\n",
      "1525/1525 [==============================] - 2s 1ms/step - loss: 0.2061 - accuracy: 0.9271\n",
      "382/382 [==============================] - 1s 839us/step - loss: 0.1984 - accuracy: 0.9250\n",
      "Epoch 1/5\n",
      "1525/1525 [==============================] - 2s 967us/step - loss: 0.9553 - accuracy: 0.6766\n",
      "Epoch 2/5\n",
      "1525/1525 [==============================] - 2s 1ms/step - loss: 0.2397 - accuracy: 0.9139\n",
      "Epoch 3/5\n",
      "1525/1525 [==============================] - 2s 1ms/step - loss: 0.2214 - accuracy: 0.9244\n",
      "Epoch 4/5\n",
      "1525/1525 [==============================] - 2s 1ms/step - loss: 0.2211 - accuracy: 0.9222\n",
      "Epoch 5/5\n",
      "1525/1525 [==============================] - 2s 994us/step - loss: 0.2040 - accuracy: 0.9228\n",
      "382/382 [==============================] - 0s 678us/step - loss: 0.2296 - accuracy: 0.9176\n",
      "Epoch 1/5\n",
      "1525/1525 [==============================] - 2s 907us/step - loss: 0.9740 - accuracy: 0.6564\n",
      "Epoch 2/5\n",
      "1525/1525 [==============================] - 1s 825us/step - loss: 0.2366 - accuracy: 0.9164\n",
      "Epoch 3/5\n",
      "1525/1525 [==============================] - 1s 950us/step - loss: 0.2131 - accuracy: 0.9248\n",
      "Epoch 4/5\n",
      "1525/1525 [==============================] - 2s 1ms/step - loss: 0.2127 - accuracy: 0.9237\n",
      "Epoch 5/5\n",
      "1525/1525 [==============================] - 2s 1ms/step - loss: 0.2198 - accuracy: 0.9171\n",
      "381/381 [==============================] - 1s 961us/step - loss: 0.2079 - accuracy: 0.9265\n",
      "Epoch 1/5\n",
      "1525/1525 [==============================] - 2s 890us/step - loss: 0.9938 - accuracy: 0.6305\n",
      "Epoch 2/5\n",
      "1525/1525 [==============================] - 1s 939us/step - loss: 0.2686 - accuracy: 0.9098\n",
      "Epoch 3/5\n",
      "1525/1525 [==============================] - 3s 2ms/step - loss: 0.2305 - accuracy: 0.9161\n",
      "Epoch 4/5\n",
      "1525/1525 [==============================] - 2s 1ms/step - loss: 0.2207 - accuracy: 0.9229\n",
      "Epoch 5/5\n",
      "1525/1525 [==============================] - 3s 2ms/step - loss: 0.2217 - accuracy: 0.9188\n",
      "381/381 [==============================] - 1s 990us/step - loss: 0.1970 - accuracy: 0.9218\n",
      "Epoch 1/5\n",
      "1525/1525 [==============================] - 2s 835us/step - loss: 0.8914 - accuracy: 0.6683\n",
      "Epoch 2/5\n",
      "1525/1525 [==============================] - 1s 798us/step - loss: 0.2319 - accuracy: 0.9209\n",
      "Epoch 3/5\n",
      "1525/1525 [==============================] - 1s 978us/step - loss: 0.2202 - accuracy: 0.9169\n",
      "Epoch 4/5\n",
      "1525/1525 [==============================] - 1s 861us/step - loss: 0.2027 - accuracy: 0.9239\n",
      "Epoch 5/5\n",
      "1525/1525 [==============================] - 1s 818us/step - loss: 0.2113 - accuracy: 0.9192\n",
      "381/381 [==============================] - 0s 619us/step - loss: 0.2205 - accuracy: 0.9255\n",
      "Epoch 1/10\n",
      "1525/1525 [==============================] - 2s 881us/step - loss: 0.7821 - accuracy: 0.7541\n",
      "Epoch 2/10\n",
      "1525/1525 [==============================] - 1s 900us/step - loss: 0.2552 - accuracy: 0.9124\n",
      "Epoch 3/10\n",
      "1525/1525 [==============================] - 1s 880us/step - loss: 0.2494 - accuracy: 0.9187\n",
      "Epoch 4/10\n",
      "1525/1525 [==============================] - 2s 1ms/step - loss: 0.2263 - accuracy: 0.9192\n",
      "Epoch 5/10\n",
      "1525/1525 [==============================] - 1s 935us/step - loss: 0.2284 - accuracy: 0.9197\n",
      "Epoch 6/10\n",
      "1525/1525 [==============================] - 1s 967us/step - loss: 0.2226 - accuracy: 0.9227\n",
      "Epoch 7/10\n",
      "1525/1525 [==============================] - 1s 968us/step - loss: 0.2093 - accuracy: 0.9277\n",
      "Epoch 8/10\n",
      "1525/1525 [==============================] - 1s 914us/step - loss: 0.2140 - accuracy: 0.9236\n",
      "Epoch 9/10\n",
      "1525/1525 [==============================] - 1s 879us/step - loss: 0.2258 - accuracy: 0.9245\n",
      "Epoch 10/10\n",
      "1525/1525 [==============================] - 1s 883us/step - loss: 0.2263 - accuracy: 0.9201\n",
      "382/382 [==============================] - 0s 611us/step - loss: 0.2117 - accuracy: 0.9281\n",
      "Epoch 1/10\n",
      "1525/1525 [==============================] - 2s 831us/step - loss: 0.9123 - accuracy: 0.6719\n",
      "Epoch 2/10\n",
      "1525/1525 [==============================] - 1s 833us/step - loss: 0.2346 - accuracy: 0.9229\n",
      "Epoch 3/10\n",
      "1525/1525 [==============================] - 1s 810us/step - loss: 0.2270 - accuracy: 0.9201\n",
      "Epoch 4/10\n",
      "1525/1525 [==============================] - 1s 962us/step - loss: 0.2217 - accuracy: 0.9256\n",
      "Epoch 5/10\n",
      "1525/1525 [==============================] - 1s 944us/step - loss: 0.2264 - accuracy: 0.9216\n",
      "Epoch 6/10\n",
      "1525/1525 [==============================] - 1s 841us/step - loss: 0.2166 - accuracy: 0.9261\n",
      "Epoch 7/10\n",
      "1525/1525 [==============================] - 1s 838us/step - loss: 0.2208 - accuracy: 0.9282\n",
      "Epoch 8/10\n",
      "1525/1525 [==============================] - 1s 846us/step - loss: 0.2393 - accuracy: 0.9171\n",
      "Epoch 9/10\n",
      "1525/1525 [==============================] - 1s 846us/step - loss: 0.2073 - accuracy: 0.9303\n",
      "Epoch 10/10\n",
      "1525/1525 [==============================] - 1s 844us/step - loss: 0.2127 - accuracy: 0.9254\n",
      "382/382 [==============================] - 0s 621us/step - loss: 0.2352 - accuracy: 0.9192\n",
      "Epoch 1/10\n",
      "1525/1525 [==============================] - 2s 830us/step - loss: 1.0698 - accuracy: 0.6195\n",
      "Epoch 2/10\n",
      "1525/1525 [==============================] - 1s 841us/step - loss: 0.2386 - accuracy: 0.9166\n",
      "Epoch 3/10\n",
      "1525/1525 [==============================] - 1s 829us/step - loss: 0.2423 - accuracy: 0.9187\n",
      "Epoch 4/10\n",
      "1525/1525 [==============================] - 1s 858us/step - loss: 0.2181 - accuracy: 0.9195\n",
      "Epoch 5/10\n",
      "1525/1525 [==============================] - 1s 896us/step - loss: 0.2186 - accuracy: 0.9200\n",
      "Epoch 6/10\n",
      "1525/1525 [==============================] - 2s 1ms/step - loss: 0.2363 - accuracy: 0.9167\n",
      "Epoch 7/10\n",
      "1525/1525 [==============================] - 1s 915us/step - loss: 0.2061 - accuracy: 0.9275\n",
      "Epoch 8/10\n",
      "1525/1525 [==============================] - 1s 975us/step - loss: 0.2075 - accuracy: 0.9284\n",
      "Epoch 9/10\n",
      "1525/1525 [==============================] - 1s 941us/step - loss: 0.2259 - accuracy: 0.9235\n",
      "Epoch 10/10\n",
      "1525/1525 [==============================] - 1s 937us/step - loss: 0.2029 - accuracy: 0.9248\n",
      "381/381 [==============================] - 0s 680us/step - loss: 0.2140 - accuracy: 0.9270\n",
      "Epoch 1/10\n",
      "1525/1525 [==============================] - 2s 929us/step - loss: 0.9979 - accuracy: 0.6832\n",
      "Epoch 2/10\n",
      "1525/1525 [==============================] - 2s 1ms/step - loss: 0.2818 - accuracy: 0.9020\n",
      "Epoch 3/10\n",
      "1525/1525 [==============================] - 2s 1ms/step - loss: 0.2294 - accuracy: 0.9256\n",
      "Epoch 4/10\n",
      "1525/1525 [==============================] - 1s 897us/step - loss: 0.2276 - accuracy: 0.9223\n",
      "Epoch 5/10\n",
      "1525/1525 [==============================] - 2s 1ms/step - loss: 0.2251 - accuracy: 0.9243\n",
      "Epoch 6/10\n",
      "1525/1525 [==============================] - 3s 2ms/step - loss: 0.2174 - accuracy: 0.9216\n",
      "Epoch 7/10\n",
      "1525/1525 [==============================] - 3s 2ms/step - loss: 0.2175 - accuracy: 0.9268\n",
      "Epoch 8/10\n",
      "1525/1525 [==============================] - 5s 3ms/step - loss: 0.2223 - accuracy: 0.9255\n",
      "Epoch 9/10\n",
      "1525/1525 [==============================] - 7s 4ms/step - loss: 0.2042 - accuracy: 0.9327: 0s - loss: 0.2020 \n",
      "Epoch 10/10\n",
      "1525/1525 [==============================] - 3s 2ms/step - loss: 0.2107 - accuracy: 0.9303\n",
      "381/381 [==============================] - 1s 743us/step - loss: 0.1967 - accuracy: 0.9276\n",
      "Epoch 1/10\n",
      "1525/1525 [==============================] - 2s 935us/step - loss: 0.9978 - accuracy: 0.6807\n",
      "Epoch 2/10\n",
      "1525/1525 [==============================] - 2s 1ms/step - loss: 0.2612 - accuracy: 0.9083\n",
      "Epoch 3/10\n",
      "1525/1525 [==============================] - 2s 1ms/step - loss: 0.2372 - accuracy: 0.9190\n",
      "Epoch 4/10\n",
      "1525/1525 [==============================] - 3s 2ms/step - loss: 0.2057 - accuracy: 0.9241\n",
      "Epoch 5/10\n",
      "1525/1525 [==============================] - 2s 1ms/step - loss: 0.2112 - accuracy: 0.9231\n",
      "Epoch 6/10\n",
      "1525/1525 [==============================] - 2s 1ms/step - loss: 0.2103 - accuracy: 0.9243\n",
      "Epoch 7/10\n",
      "1525/1525 [==============================] - 1s 929us/step - loss: 0.2081 - accuracy: 0.9250\n",
      "Epoch 8/10\n",
      "1525/1525 [==============================] - 2s 1ms/step - loss: 0.2119 - accuracy: 0.9243\n",
      "Epoch 9/10\n",
      "1525/1525 [==============================] - 2s 1ms/step - loss: 0.1849 - accuracy: 0.9324\n",
      "Epoch 10/10\n",
      "1525/1525 [==============================] - 2s 989us/step - loss: 0.2086 - accuracy: 0.9235\n",
      "381/381 [==============================] - 1s 717us/step - loss: 0.2496 - accuracy: 0.9207\n",
      "Epoch 1/10\n",
      "1525/1525 [==============================] - 2s 995us/step - loss: 0.9025 - accuracy: 0.6807\n",
      "Epoch 2/10\n",
      "1525/1525 [==============================] - 2s 1ms/step - loss: 0.2489 - accuracy: 0.9205\n",
      "Epoch 3/10\n",
      "1525/1525 [==============================] - 1s 961us/step - loss: 0.2176 - accuracy: 0.9262\n",
      "Epoch 4/10\n",
      "1525/1525 [==============================] - 2s 1ms/step - loss: 0.2061 - accuracy: 0.9268\n",
      "Epoch 5/10\n",
      "1525/1525 [==============================] - 2s 1ms/step - loss: 0.2052 - accuracy: 0.9282\n",
      "Epoch 6/10\n",
      "1525/1525 [==============================] - 1s 943us/step - loss: 0.2273 - accuracy: 0.9177\n",
      "Epoch 7/10\n",
      "1525/1525 [==============================] - 2s 1ms/step - loss: 0.2163 - accuracy: 0.9232\n",
      "Epoch 8/10\n",
      "1525/1525 [==============================] - 2s 1ms/step - loss: 0.2079 - accuracy: 0.9243\n",
      "Epoch 9/10\n",
      "1525/1525 [==============================] - 2s 2ms/step - loss: 0.1967 - accuracy: 0.9269\n",
      "Epoch 10/10\n",
      "1525/1525 [==============================] - 2s 1ms/step - loss: 0.2038 - accuracy: 0.9253\n",
      "382/382 [==============================] - 1s 839us/step - loss: 0.1905 - accuracy: 0.9344\n",
      "Epoch 1/10\n",
      "1525/1525 [==============================] - 2s 947us/step - loss: 0.8613 - accuracy: 0.6948\n",
      "Epoch 2/10\n",
      "1525/1525 [==============================] - 2s 1ms/step - loss: 0.2603 - accuracy: 0.9126\n",
      "Epoch 3/10\n",
      "1525/1525 [==============================] - 2s 1ms/step - loss: 0.2262 - accuracy: 0.9213\n",
      "Epoch 4/10\n",
      "1525/1525 [==============================] - 2s 1ms/step - loss: 0.2144 - accuracy: 0.9254\n",
      "Epoch 5/10\n",
      "1525/1525 [==============================] - 1s 973us/step - loss: 0.2061 - accuracy: 0.9223\n",
      "Epoch 6/10\n",
      "1525/1525 [==============================] - 1s 981us/step - loss: 0.1933 - accuracy: 0.93150s - loss: 0.1921 - accura\n",
      "Epoch 7/10\n",
      "1525/1525 [==============================] - 2s 993us/step - loss: 0.1966 - accuracy: 0.9265\n",
      "Epoch 8/10\n",
      "1525/1525 [==============================] - 2s 1ms/step - loss: 0.1986 - accuracy: 0.9250\n",
      "Epoch 9/10\n",
      "1525/1525 [==============================] - 2s 1ms/step - loss: 0.1880 - accuracy: 0.9271\n",
      "Epoch 10/10\n",
      "1525/1525 [==============================] - 2s 2ms/step - loss: 0.1948 - accuracy: 0.9323\n",
      "382/382 [==============================] - 1s 1ms/step - loss: 0.2082 - accuracy: 0.9203\n",
      "Epoch 1/10\n",
      "1525/1525 [==============================] - 4s 2ms/step - loss: 0.9363 - accuracy: 0.6686\n",
      "Epoch 2/10\n",
      "1525/1525 [==============================] - 2s 1ms/step - loss: 0.2458 - accuracy: 0.9203\n",
      "Epoch 3/10\n",
      "1525/1525 [==============================] - 2s 1ms/step - loss: 0.2242 - accuracy: 0.9218\n",
      "Epoch 4/10\n",
      "1525/1525 [==============================] - 2s 1ms/step - loss: 0.2051 - accuracy: 0.9236\n",
      "Epoch 5/10\n",
      "1525/1525 [==============================] - 3s 2ms/step - loss: 0.2119 - accuracy: 0.9233: 0s - loss: 0\n",
      "Epoch 6/10\n",
      "1525/1525 [==============================] - 3s 2ms/step - loss: 0.2042 - accuracy: 0.9228: 0s - loss: 0.204\n",
      "Epoch 7/10\n",
      "1525/1525 [==============================] - 3s 2ms/step - loss: 0.2093 - accuracy: 0.9204\n",
      "Epoch 8/10\n",
      "1525/1525 [==============================] - 4s 2ms/step - loss: 0.2067 - accuracy: 0.9223\n",
      "Epoch 9/10\n",
      "1525/1525 [==============================] - 1s 981us/step - loss: 0.2004 - accuracy: 0.9269\n",
      "Epoch 10/10\n",
      "1525/1525 [==============================] - 1s 932us/step - loss: 0.2001 - accuracy: 0.9261\n",
      "381/381 [==============================] - 0s 730us/step - loss: 0.2157 - accuracy: 0.9202\n",
      "Epoch 1/10\n",
      "1525/1525 [==============================] - 2s 892us/step - loss: 0.9380 - accuracy: 0.6534\n",
      "Epoch 2/10\n",
      "1525/1525 [==============================] - 1s 935us/step - loss: 0.2490 - accuracy: 0.9159\n",
      "Epoch 3/10\n",
      "1525/1525 [==============================] - 1s 945us/step - loss: 0.2238 - accuracy: 0.92200s - loss: 0.2238 - \n",
      "Epoch 4/10\n",
      "1525/1525 [==============================] - 2s 1ms/step - loss: 0.2161 - accuracy: 0.9228\n",
      "Epoch 5/10\n",
      "1525/1525 [==============================] - 1s 957us/step - loss: 0.2073 - accuracy: 0.9231\n",
      "Epoch 6/10\n",
      "1525/1525 [==============================] - 2s 1ms/step - loss: 0.2102 - accuracy: 0.9229\n",
      "Epoch 7/10\n",
      "1525/1525 [==============================] - 2s 1ms/step - loss: 0.1952 - accuracy: 0.9271: 1s - loss: 0.1826 - \n",
      "Epoch 8/10\n",
      "1525/1525 [==============================] - 3s 2ms/step - loss: 0.1998 - accuracy: 0.9285\n",
      "Epoch 9/10\n",
      "1525/1525 [==============================] - 2s 2ms/step - loss: 0.1939 - accuracy: 0.9291: 2s - loss: 0.189 - E\n",
      "Epoch 10/10\n",
      "1525/1525 [==============================] - 1s 951us/step - loss: 0.2029 - accuracy: 0.9211\n",
      "381/381 [==============================] - 1s 706us/step - loss: 0.1830 - accuracy: 0.9312\n",
      "Epoch 1/10\n",
      "1525/1525 [==============================] - 2s 906us/step - loss: 1.0474 - accuracy: 0.6096\n",
      "Epoch 2/10\n",
      "1525/1525 [==============================] - 2s 984us/step - loss: 0.2607 - accuracy: 0.9075\n",
      "Epoch 3/10\n",
      "1525/1525 [==============================] - 2s 1ms/step - loss: 0.2306 - accuracy: 0.9140\n",
      "Epoch 4/10\n",
      "1525/1525 [==============================] - 2s 1ms/step - loss: 0.2057 - accuracy: 0.9274\n",
      "Epoch 5/10\n",
      "1525/1525 [==============================] - 2s 1ms/step - loss: 0.2073 - accuracy: 0.9250\n",
      "Epoch 6/10\n",
      "1525/1525 [==============================] - 2s 1ms/step - loss: 0.2053 - accuracy: 0.9226\n",
      "Epoch 7/10\n",
      "1525/1525 [==============================] - 2s 987us/step - loss: 0.2071 - accuracy: 0.9247\n",
      "Epoch 8/10\n",
      "1525/1525 [==============================] - 2s 1ms/step - loss: 0.1894 - accuracy: 0.9279\n",
      "Epoch 9/10\n",
      "1525/1525 [==============================] - 3s 2ms/step - loss: 0.1940 - accuracy: 0.9290\n",
      "Epoch 10/10\n",
      "1525/1525 [==============================] - 2s 1ms/step - loss: 0.1957 - accuracy: 0.9246\n",
      "381/381 [==============================] - 1s 867us/step - loss: 0.2290 - accuracy: 0.9207\n",
      "Epoch 1/15\n",
      "1525/1525 [==============================] - 2s 950us/step - loss: 1.0383 - accuracy: 0.6430\n",
      "Epoch 2/15\n",
      "1525/1525 [==============================] - 2s 1ms/step - loss: 0.2747 - accuracy: 0.9047\n",
      "Epoch 3/15\n",
      "1525/1525 [==============================] - 2s 1ms/step - loss: 0.2217 - accuracy: 0.9202\n",
      "Epoch 4/15\n",
      "1525/1525 [==============================] - 2s 1ms/step - loss: 0.2597 - accuracy: 0.9152\n",
      "Epoch 5/15\n",
      "1525/1525 [==============================] - 2s 1ms/step - loss: 0.2332 - accuracy: 0.9182\n",
      "Epoch 6/15\n",
      "1525/1525 [==============================] - 2s 1ms/step - loss: 0.2239 - accuracy: 0.9235: 0s - los\n",
      "Epoch 7/15\n",
      "1525/1525 [==============================] - 2s 1ms/step - loss: 0.2216 - accuracy: 0.9206\n",
      "Epoch 8/15\n",
      "1525/1525 [==============================] - 2s 1ms/step - loss: 0.2109 - accuracy: 0.9216\n",
      "Epoch 9/15\n",
      "1525/1525 [==============================] - 3s 2ms/step - loss: 0.2201 - accuracy: 0.9207\n",
      "Epoch 10/15\n",
      "1525/1525 [==============================] - 1s 982us/step - loss: 0.2219 - accuracy: 0.9241\n",
      "Epoch 11/15\n",
      "1525/1525 [==============================] - 3s 2ms/step - loss: 0.2144 - accuracy: 0.9277\n",
      "Epoch 12/15\n",
      "1525/1525 [==============================] - 2s 1ms/step - loss: 0.2104 - accuracy: 0.9244\n",
      "Epoch 13/15\n",
      "1525/1525 [==============================] - 2s 1ms/step - loss: 0.2062 - accuracy: 0.9290\n",
      "Epoch 14/15\n",
      "1525/1525 [==============================] - 2s 1ms/step - loss: 0.2152 - accuracy: 0.9237: 0s - loss: 0.2149 - accuracy\n",
      "Epoch 15/15\n",
      "1525/1525 [==============================] - 2s 1ms/step - loss: 0.2341 - accuracy: 0.9232\n",
      "382/382 [==============================] - 1s 857us/step - loss: 0.2280 - accuracy: 0.9313\n",
      "Epoch 1/15\n",
      "1525/1525 [==============================] - 2s 1ms/step - loss: 0.9488 - accuracy: 0.6605\n",
      "Epoch 2/15\n",
      "1525/1525 [==============================] - 2s 1ms/step - loss: 0.2455 - accuracy: 0.9111\n",
      "Epoch 3/15\n",
      "1525/1525 [==============================] - 4s 3ms/step - loss: 0.2393 - accuracy: 0.9112\n",
      "Epoch 4/15\n",
      "1525/1525 [==============================] - 3s 2ms/step - loss: 0.2228 - accuracy: 0.9230\n",
      "Epoch 5/15\n",
      "1525/1525 [==============================] - 2s 2ms/step - loss: 0.2183 - accuracy: 0.9218: 0s - loss: 0.219\n",
      "Epoch 6/15\n",
      "1525/1525 [==============================] - 2s 1ms/step - loss: 0.2175 - accuracy: 0.9249\n",
      "Epoch 7/15\n",
      "1525/1525 [==============================] - 2s 1ms/step - loss: 0.2027 - accuracy: 0.9268\n",
      "Epoch 8/15\n",
      "1525/1525 [==============================] - 2s 1ms/step - loss: 0.2003 - accuracy: 0.9299\n",
      "Epoch 9/15\n",
      "1525/1525 [==============================] - 2s 1ms/step - loss: 0.2074 - accuracy: 0.9282\n",
      "Epoch 10/15\n",
      "1525/1525 [==============================] - 3s 2ms/step - loss: 0.1945 - accuracy: 0.9343\n",
      "Epoch 11/15\n",
      "1525/1525 [==============================] - 2s 2ms/step - loss: 0.2006 - accuracy: 0.9301\n",
      "Epoch 12/15\n",
      "1525/1525 [==============================] - 1s 977us/step - loss: 0.2048 - accuracy: 0.9281\n",
      "Epoch 13/15\n",
      "1525/1525 [==============================] - 2s 1ms/step - loss: 0.1875 - accuracy: 0.9361\n",
      "Epoch 14/15\n",
      "1525/1525 [==============================] - 2s 1ms/step - loss: 0.2023 - accuracy: 0.9297\n",
      "Epoch 15/15\n",
      "1525/1525 [==============================] - 2s 1ms/step - loss: 0.1988 - accuracy: 0.9272\n",
      "382/382 [==============================] - 1s 874us/step - loss: 0.2541 - accuracy: 0.9203\n",
      "Epoch 1/15\n",
      "1525/1525 [==============================] - 2s 925us/step - loss: 0.8961 - accuracy: 0.7080\n",
      "Epoch 2/15\n",
      "1525/1525 [==============================] - 2s 1ms/step - loss: 0.2404 - accuracy: 0.9193\n",
      "Epoch 3/15\n",
      "1525/1525 [==============================] - 2s 1ms/step - loss: 0.2322 - accuracy: 0.9188\n",
      "Epoch 4/15\n",
      "1525/1525 [==============================] - 2s 1ms/step - loss: 0.2248 - accuracy: 0.9218\n",
      "Epoch 5/15\n",
      "1525/1525 [==============================] - 2s 1ms/step - loss: 0.2218 - accuracy: 0.9201\n",
      "Epoch 6/15\n",
      "1525/1525 [==============================] - 2s 1ms/step - loss: 0.2114 - accuracy: 0.9239: 0s - los\n",
      "Epoch 7/15\n",
      "1525/1525 [==============================] - 3s 2ms/step - loss: 0.2188 - accuracy: 0.9223: 1s - loss: 0.2323 - accuracy: 0.92 - ETA: 1s - ETA: 0s\n",
      "Epoch 8/15\n",
      "1525/1525 [==============================] - 2s 2ms/step - loss: 0.2198 - accuracy: 0.9239\n",
      "Epoch 9/15\n",
      "1525/1525 [==============================] - 2s 1ms/step - loss: 0.2126 - accuracy: 0.9276\n",
      "Epoch 10/15\n",
      "1525/1525 [==============================] - 2s 1ms/step - loss: 0.2099 - accuracy: 0.9243\n",
      "Epoch 11/15\n",
      "1525/1525 [==============================] - 3s 2ms/step - loss: 0.2016 - accuracy: 0.9284\n",
      "Epoch 12/15\n",
      "1525/1525 [==============================] - 2s 1ms/step - loss: 0.2099 - accuracy: 0.9236\n",
      "Epoch 13/15\n",
      "1525/1525 [==============================] - 2s 1ms/step - loss: 0.2137 - accuracy: 0.9263\n",
      "Epoch 14/15\n",
      "1525/1525 [==============================] - 2s 2ms/step - loss: 0.2026 - accuracy: 0.9263\n",
      "Epoch 15/15\n",
      "1525/1525 [==============================] - 2s 1ms/step - loss: 0.2034 - accuracy: 0.9297\n",
      "381/381 [==============================] - 1s 2ms/step - loss: 0.2156 - accuracy: 0.9286\n",
      "Epoch 1/15\n",
      "1525/1525 [==============================] - 4s 2ms/step - loss: 0.9192 - accuracy: 0.6674\n",
      "Epoch 2/15\n",
      "1525/1525 [==============================] - 2s 2ms/step - loss: 0.2809 - accuracy: 0.9057: 1s - ETA: 0s\n",
      "Epoch 3/15\n",
      "1525/1525 [==============================] - 2s 1ms/step - loss: 0.2467 - accuracy: 0.9120\n",
      "Epoch 4/15\n",
      "1525/1525 [==============================] - 2s 2ms/step - loss: 0.2195 - accuracy: 0.9263\n",
      "Epoch 5/15\n",
      "1525/1525 [==============================] - 2s 1ms/step - loss: 0.2222 - accuracy: 0.9276\n",
      "Epoch 6/15\n",
      "1525/1525 [==============================] - 2s 1ms/step - loss: 0.2405 - accuracy: 0.9166\n",
      "Epoch 7/15\n",
      "1525/1525 [==============================] - 2s 1ms/step - loss: 0.2083 - accuracy: 0.9284\n",
      "Epoch 8/15\n",
      "1525/1525 [==============================] - 2s 1ms/step - loss: 0.2345 - accuracy: 0.9189\n",
      "Epoch 9/15\n",
      "1525/1525 [==============================] - 2s 1ms/step - loss: 0.2062 - accuracy: 0.9290\n",
      "Epoch 10/15\n",
      "1525/1525 [==============================] - 2s 2ms/step - loss: 0.2231 - accuracy: 0.9238\n",
      "Epoch 11/15\n",
      "1525/1525 [==============================] - 2s 1ms/step - loss: 0.2173 - accuracy: 0.9246\n",
      "Epoch 12/15\n",
      "1525/1525 [==============================] - 2s 1ms/step - loss: 0.2208 - accuracy: 0.9240: 0s - loss: 0.2209 - accuracy: 0.92\n",
      "Epoch 13/15\n",
      "1525/1525 [==============================] - 2s 1ms/step - loss: 0.2244 - accuracy: 0.9267\n",
      "Epoch 14/15\n",
      "1525/1525 [==============================] - 2s 1ms/step - loss: 0.2124 - accuracy: 0.9259\n",
      "Epoch 15/15\n",
      "1525/1525 [==============================] - 2s 1ms/step - loss: 0.2207 - accuracy: 0.9285\n",
      "381/381 [==============================] - 0s 699us/step - loss: 0.2129 - accuracy: 0.9197\n",
      "Epoch 1/15\n",
      "1525/1525 [==============================] - 2s 938us/step - loss: 0.8521 - accuracy: 0.6869\n",
      "Epoch 2/15\n",
      "1525/1525 [==============================] - 2s 1ms/step - loss: 0.2550 - accuracy: 0.9123\n",
      "Epoch 3/15\n",
      "1525/1525 [==============================] - 2s 1ms/step - loss: 0.2486 - accuracy: 0.9058\n",
      "Epoch 4/15\n",
      "1525/1525 [==============================] - 2s 1ms/step - loss: 0.2247 - accuracy: 0.9195\n",
      "Epoch 5/15\n",
      "1525/1525 [==============================] - 4s 3ms/step - loss: 0.2130 - accuracy: 0.9229\n",
      "Epoch 6/15\n",
      "1525/1525 [==============================] - 2s 1ms/step - loss: 0.2170 - accuracy: 0.9263\n",
      "Epoch 7/15\n",
      "1525/1525 [==============================] - 2s 1ms/step - loss: 0.2183 - accuracy: 0.9230\n",
      "Epoch 8/15\n",
      "1525/1525 [==============================] - 2s 1ms/step - loss: 0.2224 - accuracy: 0.9248\n",
      "Epoch 9/15\n",
      "1525/1525 [==============================] - 2s 1ms/step - loss: 0.2101 - accuracy: 0.9271\n",
      "Epoch 10/15\n",
      "1525/1525 [==============================] - 2s 1ms/step - loss: 0.2155 - accuracy: 0.9293\n",
      "Epoch 11/15\n",
      "1525/1525 [==============================] - 2s 1ms/step - loss: 0.2077 - accuracy: 0.9275\n",
      "Epoch 12/15\n",
      "1525/1525 [==============================] - 2s 1ms/step - loss: 0.2034 - accuracy: 0.9299\n",
      "Epoch 13/15\n",
      "1525/1525 [==============================] - 2s 1ms/step - loss: 0.2104 - accuracy: 0.9267\n",
      "Epoch 14/15\n",
      "1525/1525 [==============================] - 2s 1ms/step - loss: 0.2177 - accuracy: 0.9254\n",
      "Epoch 15/15\n",
      "1525/1525 [==============================] - 3s 2ms/step - loss: 0.2037 - accuracy: 0.9316\n",
      "381/381 [==============================] - 1s 729us/step - loss: 0.2571 - accuracy: 0.9265\n",
      "Epoch 1/15\n",
      "1525/1525 [==============================] - 2s 1ms/step - loss: 0.9264 - accuracy: 0.6954\n",
      "Epoch 2/15\n",
      "1525/1525 [==============================] - 2s 1ms/step - loss: 0.2647 - accuracy: 0.9116\n",
      "Epoch 3/15\n",
      "1525/1525 [==============================] - 2s 1ms/step - loss: 0.2212 - accuracy: 0.9183\n",
      "Epoch 4/15\n",
      "1525/1525 [==============================] - 2s 1ms/step - loss: 0.2231 - accuracy: 0.9177\n",
      "Epoch 5/15\n",
      "1525/1525 [==============================] - 2s 1ms/step - loss: 0.2131 - accuracy: 0.9202: 0s - loss: 0\n",
      "Epoch 6/15\n",
      "1525/1525 [==============================] - 2s 1ms/step - loss: 0.1998 - accuracy: 0.9268\n",
      "Epoch 7/15\n",
      "1525/1525 [==============================] - 2s 1ms/step - loss: 0.2038 - accuracy: 0.9206\n",
      "Epoch 8/15\n",
      "1525/1525 [==============================] - 2s 1ms/step - loss: 0.2098 - accuracy: 0.9237: \n",
      "Epoch 9/15\n",
      "1525/1525 [==============================] - 2s 1ms/step - loss: 0.2009 - accuracy: 0.9248\n",
      "Epoch 10/15\n",
      "1525/1525 [==============================] - 3s 2ms/step - loss: 0.1946 - accuracy: 0.9247\n",
      "Epoch 11/15\n",
      "1525/1525 [==============================] - 4s 2ms/step - loss: 0.1853 - accuracy: 0.9337\n",
      "Epoch 12/15\n",
      "1525/1525 [==============================] - 2s 1ms/step - loss: 0.1990 - accuracy: 0.9255\n",
      "Epoch 13/15\n",
      "1525/1525 [==============================] - 2s 1ms/step - loss: 0.2061 - accuracy: 0.9254\n",
      "Epoch 14/15\n",
      "1525/1525 [==============================] - 2s 1ms/step - loss: 0.1894 - accuracy: 0.9285\n",
      "Epoch 15/15\n",
      "1525/1525 [==============================] - 2s 2ms/step - loss: 0.1914 - accuracy: 0.9313\n",
      "382/382 [==============================] - 1s 872us/step - loss: 0.1852 - accuracy: 0.9323\n",
      "Epoch 1/15\n",
      "1525/1525 [==============================] - 2s 1ms/step - loss: 1.0116 - accuracy: 0.6331\n",
      "Epoch 2/15\n",
      "1525/1525 [==============================] - 2s 1ms/step - loss: 0.2414 - accuracy: 0.9115\n",
      "Epoch 3/15\n",
      "1525/1525 [==============================] - 3s 2ms/step - loss: 0.2037 - accuracy: 0.9275\n",
      "Epoch 4/15\n",
      "1525/1525 [==============================] - 3s 2ms/step - loss: 0.2039 - accuracy: 0.9238\n",
      "Epoch 5/15\n",
      "1525/1525 [==============================] - 3s 2ms/step - loss: 0.2024 - accuracy: 0.9228: 0s - loss: 0.2027 - accuracy - ETA: 0s - loss: 0.2025 - accuracy: \n",
      "Epoch 6/15\n",
      "1525/1525 [==============================] - 2s 1ms/step - loss: 0.1896 - accuracy: 0.9260\n",
      "Epoch 7/15\n",
      "1525/1525 [==============================] - 2s 1ms/step - loss: 0.1900 - accuracy: 0.9253: 0s - loss: 0.1885 \n",
      "Epoch 8/15\n",
      "1525/1525 [==============================] - 2s 1ms/step - loss: 0.1878 - accuracy: 0.9305\n",
      "Epoch 9/15\n",
      "1525/1525 [==============================] - 2s 1ms/step - loss: 0.1850 - accuracy: 0.9317\n",
      "Epoch 10/15\n",
      "1525/1525 [==============================] - 2s 1ms/step - loss: 0.1983 - accuracy: 0.9283\n",
      "Epoch 11/15\n",
      "1525/1525 [==============================] - 2s 2ms/step - loss: 0.1789 - accuracy: 0.9342\n",
      "Epoch 12/15\n",
      "1525/1525 [==============================] - 4s 2ms/step - loss: 0.1846 - accuracy: 0.9304\n",
      "Epoch 13/15\n",
      "1525/1525 [==============================] - 3s 2ms/step - loss: 0.1750 - accuracy: 0.9340\n",
      "Epoch 14/15\n",
      "1525/1525 [==============================] - 2s 1ms/step - loss: 0.1924 - accuracy: 0.9281\n",
      "Epoch 15/15\n",
      "1525/1525 [==============================] - 2s 1ms/step - loss: 0.1967 - accuracy: 0.9352\n",
      "382/382 [==============================] - 1s 743us/step - loss: 0.2165 - accuracy: 0.9166\n",
      "Epoch 1/15\n",
      "1525/1525 [==============================] - 3s 1ms/step - loss: 0.9349 - accuracy: 0.6799\n",
      "Epoch 2/15\n",
      "1525/1525 [==============================] - 2s 1ms/step - loss: 0.2520 - accuracy: 0.9109: 0s - loss: 0.2532 - accuracy\n",
      "Epoch 3/15\n",
      "1525/1525 [==============================] - 2s 1ms/step - loss: 0.2276 - accuracy: 0.9180\n",
      "Epoch 4/15\n",
      "1525/1525 [==============================] - 2s 1ms/step - loss: 0.2026 - accuracy: 0.9223\n",
      "Epoch 5/15\n",
      "1525/1525 [==============================] - 3s 2ms/step - loss: 0.2097 - accuracy: 0.9214: 0s - loss: 0\n",
      "Epoch 6/15\n",
      "1525/1525 [==============================] - 3s 2ms/step - loss: 0.1975 - accuracy: 0.9231 ETA: 1s - ETA: 0s - loss: 0.1952 - ac - ETA: 0s - loss: 0.1967 - accuracy: \n",
      "Epoch 7/15\n",
      "1525/1525 [==============================] - 2s 1ms/step - loss: 0.1917 - accuracy: 0.9313\n",
      "Epoch 8/15\n",
      "1525/1525 [==============================] - 2s 1ms/step - loss: 0.1918 - accuracy: 0.9287\n",
      "Epoch 9/15\n",
      "1525/1525 [==============================] - 2s 1ms/step - loss: 0.1888 - accuracy: 0.9293\n",
      "Epoch 10/15\n",
      "1525/1525 [==============================] - 2s 1ms/step - loss: 0.2036 - accuracy: 0.9208\n",
      "Epoch 11/15\n",
      "1525/1525 [==============================] - 2s 1ms/step - loss: 0.1938 - accuracy: 0.9305\n",
      "Epoch 12/15\n",
      "1525/1525 [==============================] - 2s 1ms/step - loss: 0.1837 - accuracy: 0.9308\n",
      "Epoch 13/15\n",
      "1525/1525 [==============================] - 2s 1ms/step - loss: 0.1942 - accuracy: 0.9226\n",
      "Epoch 14/15\n",
      "1525/1525 [==============================] - 2s 1ms/step - loss: 0.1962 - accuracy: 0.9234\n",
      "Epoch 15/15\n",
      "1525/1525 [==============================] - 3s 2ms/step - loss: 0.1982 - accuracy: 0.9272: 1s - loss:\n",
      "381/381 [==============================] - 1s 1ms/step - loss: 0.2013 - accuracy: 0.9323\n",
      "Epoch 1/15\n",
      "1525/1525 [==============================] - 3s 1ms/step - loss: 0.9439 - accuracy: 0.6408\n",
      "Epoch 2/15\n",
      "1525/1525 [==============================] - 2s 2ms/step - loss: 0.2395 - accuracy: 0.9181\n",
      "Epoch 3/15\n",
      "1525/1525 [==============================] - 4s 3ms/step - loss: 0.2219 - accuracy: 0.9252\n",
      "Epoch 4/15\n",
      "1525/1525 [==============================] - 3s 2ms/step - loss: 0.2231 - accuracy: 0.9194\n",
      "Epoch 5/15\n",
      "1525/1525 [==============================] - 2s 2ms/step - loss: 0.2127 - accuracy: 0.9203\n",
      "Epoch 6/15\n",
      "1525/1525 [==============================] - 2s 2ms/step - loss: 0.2106 - accuracy: 0.9252\n",
      "Epoch 7/15\n",
      "1525/1525 [==============================] - 2s 2ms/step - loss: 0.2141 - accuracy: 0.9228\n",
      "Epoch 8/15\n",
      "1525/1525 [==============================] - 2s 1ms/step - loss: 0.2223 - accuracy: 0.9192\n",
      "Epoch 9/15\n",
      "1525/1525 [==============================] - 2s 1ms/step - loss: 0.1966 - accuracy: 0.9304\n",
      "Epoch 10/15\n",
      "1525/1525 [==============================] - 2s 1ms/step - loss: 0.2042 - accuracy: 0.9247\n",
      "Epoch 11/15\n",
      "1525/1525 [==============================] - 2s 1ms/step - loss: 0.2022 - accuracy: 0.9254\n",
      "Epoch 12/15\n",
      "1525/1525 [==============================] - 2s 1ms/step - loss: 0.1903 - accuracy: 0.9295\n",
      "Epoch 13/15\n",
      "1525/1525 [==============================] - 2s 1ms/step - loss: 0.1925 - accuracy: 0.9288\n",
      "Epoch 14/15\n",
      "1525/1525 [==============================] - 2s 1ms/step - loss: 0.1987 - accuracy: 0.9279\n",
      "Epoch 15/15\n",
      "1525/1525 [==============================] - 2s 1ms/step - loss: 0.1961 - accuracy: 0.9268\n",
      "381/381 [==============================] - 1s 952us/step - loss: 0.1820 - accuracy: 0.9297\n",
      "Epoch 1/15\n",
      "1525/1525 [==============================] - 2s 1ms/step - loss: 1.0198 - accuracy: 0.6130\n",
      "Epoch 2/15\n",
      "1525/1525 [==============================] - 3s 2ms/step - loss: 0.2567 - accuracy: 0.9171\n",
      "Epoch 3/15\n",
      "1525/1525 [==============================] - 2s 2ms/step - loss: 0.2200 - accuracy: 0.9177: 2s - - E\n",
      "Epoch 4/15\n",
      "1525/1525 [==============================] - 2s 2ms/step - loss: 0.2112 - accuracy: 0.9229\n",
      "Epoch 5/15\n",
      "1525/1525 [==============================] - 2s 2ms/step - loss: 0.1999 - accuracy: 0.9215: 0s - loss: 0.1995 - accuracy: 0.92 - ETA: 0s - loss: 0.199\n",
      "Epoch 6/15\n",
      "1525/1525 [==============================] - 3s 2ms/step - loss: 0.2033 - accuracy: 0.9245\n",
      "Epoch 7/15\n",
      "1525/1525 [==============================] - 2s 2ms/step - loss: 0.2009 - accuracy: 0.9280\n",
      "Epoch 8/15\n",
      "1525/1525 [==============================] - 2s 2ms/step - loss: 0.1954 - accuracy: 0.9294\n",
      "Epoch 9/15\n",
      "1525/1525 [==============================] - 2s 1ms/step - loss: 0.1974 - accuracy: 0.9254\n",
      "Epoch 10/15\n",
      "1525/1525 [==============================] - 2s 1ms/step - loss: 0.1907 - accuracy: 0.9328\n",
      "Epoch 11/15\n",
      "1525/1525 [==============================] - 2s 1ms/step - loss: 0.1887 - accuracy: 0.9314\n",
      "Epoch 12/15\n",
      "1525/1525 [==============================] - 2s 1ms/step - loss: 0.1814 - accuracy: 0.9343\n",
      "Epoch 13/15\n",
      "1525/1525 [==============================] - 2s 2ms/step - loss: 0.1935 - accuracy: 0.9280\n",
      "Epoch 14/15\n",
      "1525/1525 [==============================] - 2s 1ms/step - loss: 0.1895 - accuracy: 0.9258\n",
      "Epoch 15/15\n",
      "1525/1525 [==============================] - 2s 1ms/step - loss: 0.1871 - accuracy: 0.9262\n",
      "381/381 [==============================] - 1s 888us/step - loss: 0.2228 - accuracy: 0.9234\n",
      "Epoch 1/5\n",
      "255/255 [==============================] - 1s 1ms/step - loss: 1.5782 - accuracy: 0.4990\n",
      "Epoch 2/5\n",
      "255/255 [==============================] - 0s 1ms/step - loss: 0.5074 - accuracy: 0.8555\n",
      "Epoch 3/5\n",
      "255/255 [==============================] - 0s 1ms/step - loss: 0.3163 - accuracy: 0.9032\n",
      "Epoch 4/5\n",
      "255/255 [==============================] - 0s 1ms/step - loss: 0.2523 - accuracy: 0.9135\n",
      "Epoch 5/5\n",
      "255/255 [==============================] - 0s 1ms/step - loss: 0.2548 - accuracy: 0.9125\n",
      "64/64 [==============================] - 0s 861us/step - loss: 0.2345 - accuracy: 0.9187\n",
      "Epoch 1/5\n",
      "255/255 [==============================] - 1s 1ms/step - loss: 1.5391 - accuracy: 0.4494\n",
      "Epoch 2/5\n",
      "255/255 [==============================] - 0s 1ms/step - loss: 0.5043 - accuracy: 0.8506\n",
      "Epoch 3/5\n",
      "255/255 [==============================] - 0s 1ms/step - loss: 0.2925 - accuracy: 0.9112\n",
      "Epoch 4/5\n",
      "255/255 [==============================] - 0s 1ms/step - loss: 0.2472 - accuracy: 0.9196\n",
      "Epoch 5/5\n",
      "255/255 [==============================] - 0s 1ms/step - loss: 0.2277 - accuracy: 0.9253\n",
      "64/64 [==============================] - 0s 779us/step - loss: 0.2487 - accuracy: 0.9092\n",
      "Epoch 1/5\n",
      "255/255 [==============================] - 1s 1ms/step - loss: 1.5276 - accuracy: 0.4666\n",
      "Epoch 2/5\n",
      "255/255 [==============================] - 0s 1ms/step - loss: 0.4413 - accuracy: 0.8638\n",
      "Epoch 3/5\n",
      "255/255 [==============================] - 0s 1ms/step - loss: 0.2915 - accuracy: 0.9039\n",
      "Epoch 4/5\n",
      "255/255 [==============================] - 0s 1ms/step - loss: 0.2373 - accuracy: 0.9120\n",
      "Epoch 5/5\n",
      "255/255 [==============================] - 0s 1ms/step - loss: 0.2134 - accuracy: 0.9238\n",
      "64/64 [==============================] - 0s 788us/step - loss: 0.2269 - accuracy: 0.9207\n",
      "Epoch 1/5\n",
      "255/255 [==============================] - 1s 1ms/step - loss: 1.4186 - accuracy: 0.5576\n",
      "Epoch 2/5\n",
      "255/255 [==============================] - 0s 1ms/step - loss: 0.5345 - accuracy: 0.8418\n",
      "Epoch 3/5\n",
      "255/255 [==============================] - 0s 1ms/step - loss: 0.2994 - accuracy: 0.9038\n",
      "Epoch 4/5\n",
      "255/255 [==============================] - 0s 1ms/step - loss: 0.2585 - accuracy: 0.9118\n",
      "Epoch 5/5\n",
      "255/255 [==============================] - 0s 1ms/step - loss: 0.2327 - accuracy: 0.9216\n",
      "64/64 [==============================] - 0s 791us/step - loss: 0.2223 - accuracy: 0.9186\n",
      "Epoch 1/5\n",
      "255/255 [==============================] - 1s 1ms/step - loss: 1.5255 - accuracy: 0.4386\n",
      "Epoch 2/5\n",
      "255/255 [==============================] - 0s 1ms/step - loss: 0.4877 - accuracy: 0.8678\n",
      "Epoch 3/5\n",
      "255/255 [==============================] - 0s 2ms/step - loss: 0.2875 - accuracy: 0.9104\n",
      "Epoch 4/5\n",
      "255/255 [==============================] - 0s 1ms/step - loss: 0.2461 - accuracy: 0.9144\n",
      "Epoch 5/5\n",
      "255/255 [==============================] - 0s 1ms/step - loss: 0.2431 - accuracy: 0.9174\n",
      "64/64 [==============================] - 0s 904us/step - loss: 0.2435 - accuracy: 0.9234\n",
      "Epoch 1/5\n",
      "255/255 [==============================] - 1s 1ms/step - loss: 1.4943 - accuracy: 0.4721\n",
      "Epoch 2/5\n",
      "255/255 [==============================] - 0s 1ms/step - loss: 0.4880 - accuracy: 0.8308\n",
      "Epoch 3/5\n",
      "255/255 [==============================] - 0s 1ms/step - loss: 0.3003 - accuracy: 0.9052\n",
      "Epoch 4/5\n",
      "255/255 [==============================] - 0s 1ms/step - loss: 0.2554 - accuracy: 0.9104\n",
      "Epoch 5/5\n",
      "255/255 [==============================] - 0s 1ms/step - loss: 0.2334 - accuracy: 0.9194\n",
      "64/64 [==============================] - 0s 760us/step - loss: 0.2194 - accuracy: 0.9260\n",
      "Epoch 1/5\n",
      "255/255 [==============================] - 1s 1ms/step - loss: 1.4432 - accuracy: 0.4641\n",
      "Epoch 2/5\n",
      "255/255 [==============================] - 0s 1ms/step - loss: 0.4306 - accuracy: 0.8630\n",
      "Epoch 3/5\n",
      "255/255 [==============================] - 0s 1ms/step - loss: 0.2795 - accuracy: 0.9072\n",
      "Epoch 4/5\n",
      "255/255 [==============================] - 0s 1ms/step - loss: 0.2358 - accuracy: 0.9169\n",
      "Epoch 5/5\n",
      "255/255 [==============================] - 0s 1ms/step - loss: 0.2091 - accuracy: 0.9290\n",
      "64/64 [==============================] - 0s 851us/step - loss: 0.2275 - accuracy: 0.9166\n",
      "Epoch 1/5\n",
      "255/255 [==============================] - 1s 1ms/step - loss: 1.4787 - accuracy: 0.4269\n",
      "Epoch 2/5\n",
      "255/255 [==============================] - 0s 1ms/step - loss: 0.5109 - accuracy: 0.8137\n",
      "Epoch 3/5\n",
      "255/255 [==============================] - 0s 1ms/step - loss: 0.3577 - accuracy: 0.8765\n",
      "Epoch 4/5\n",
      "255/255 [==============================] - 0s 1ms/step - loss: 0.2633 - accuracy: 0.9136\n",
      "Epoch 5/5\n",
      "255/255 [==============================] - 0s 1ms/step - loss: 0.2514 - accuracy: 0.9150\n",
      "64/64 [==============================] - 0s 904us/step - loss: 0.2417 - accuracy: 0.9239\n",
      "Epoch 1/5\n",
      "255/255 [==============================] - 1s 1ms/step - loss: 1.5669 - accuracy: 0.3554\n",
      "Epoch 2/5\n",
      "255/255 [==============================] - 0s 1ms/step - loss: 0.5253 - accuracy: 0.8590\n",
      "Epoch 3/5\n",
      "255/255 [==============================] - 0s 1ms/step - loss: 0.3003 - accuracy: 0.9039: 0s - loss: 0.3117 - accuracy\n",
      "Epoch 4/5\n",
      "255/255 [==============================] - 0s 1ms/step - loss: 0.2499 - accuracy: 0.9152\n",
      "Epoch 5/5\n",
      "255/255 [==============================] - 0s 2ms/step - loss: 0.2303 - accuracy: 0.9189\n",
      "64/64 [==============================] - 0s 1ms/step - loss: 0.2238 - accuracy: 0.9160\n",
      "Epoch 1/5\n",
      "255/255 [==============================] - 1s 1ms/step - loss: 1.4000 - accuracy: 0.5491\n",
      "Epoch 2/5\n",
      "255/255 [==============================] - 0s 1ms/step - loss: 0.4524 - accuracy: 0.8756\n",
      "Epoch 3/5\n",
      "255/255 [==============================] - 0s 1ms/step - loss: 0.2886 - accuracy: 0.9036\n",
      "Epoch 4/5\n",
      "255/255 [==============================] - 0s 1ms/step - loss: 0.2361 - accuracy: 0.9187\n",
      "Epoch 5/5\n",
      "255/255 [==============================] - 0s 1ms/step - loss: 0.2174 - accuracy: 0.9201\n",
      "64/64 [==============================] - 0s 984us/step - loss: 0.2332 - accuracy: 0.9228\n",
      "Epoch 1/10\n",
      "255/255 [==============================] - 1s 1ms/step - loss: 1.5159 - accuracy: 0.4585\n",
      "Epoch 2/10\n",
      "255/255 [==============================] - 0s 1ms/step - loss: 0.4168 - accuracy: 0.8840\n",
      "Epoch 3/10\n",
      "255/255 [==============================] - 0s 1ms/step - loss: 0.2804 - accuracy: 0.9082\n",
      "Epoch 4/10\n",
      "255/255 [==============================] - 0s 1ms/step - loss: 0.2449 - accuracy: 0.9187\n",
      "Epoch 5/10\n",
      "255/255 [==============================] - 0s 1ms/step - loss: 0.2312 - accuracy: 0.9203\n",
      "Epoch 6/10\n",
      "255/255 [==============================] - 0s 1ms/step - loss: 0.2351 - accuracy: 0.9148\n",
      "Epoch 7/10\n",
      "255/255 [==============================] - 0s 1ms/step - loss: 0.2164 - accuracy: 0.9236\n",
      "Epoch 8/10\n",
      "255/255 [==============================] - 0s 1ms/step - loss: 0.2252 - accuracy: 0.9217\n",
      "Epoch 9/10\n",
      "255/255 [==============================] - 0s 1ms/step - loss: 0.1994 - accuracy: 0.9329\n",
      "Epoch 10/10\n",
      "255/255 [==============================] - 0s 1ms/step - loss: 0.2094 - accuracy: 0.9235\n",
      "64/64 [==============================] - 0s 816us/step - loss: 0.2151 - accuracy: 0.9250\n",
      "Epoch 1/10\n",
      "255/255 [==============================] - 1s 1ms/step - loss: 1.4709 - accuracy: 0.4732\n",
      "Epoch 2/10\n",
      "255/255 [==============================] - 0s 1ms/step - loss: 0.4557 - accuracy: 0.8667\n",
      "Epoch 3/10\n",
      "255/255 [==============================] - 0s 1ms/step - loss: 0.2839 - accuracy: 0.9097\n",
      "Epoch 4/10\n",
      "255/255 [==============================] - 0s 1ms/step - loss: 0.2374 - accuracy: 0.9177\n",
      "Epoch 5/10\n",
      "255/255 [==============================] - 0s 1ms/step - loss: 0.2311 - accuracy: 0.9203\n",
      "Epoch 6/10\n",
      "255/255 [==============================] - 0s 1ms/step - loss: 0.2141 - accuracy: 0.9202\n",
      "Epoch 7/10\n",
      "255/255 [==============================] - 0s 1ms/step - loss: 0.2088 - accuracy: 0.9260\n",
      "Epoch 8/10\n",
      "255/255 [==============================] - 0s 1ms/step - loss: 0.2095 - accuracy: 0.9245\n",
      "Epoch 9/10\n",
      "255/255 [==============================] - 0s 1ms/step - loss: 0.2029 - accuracy: 0.9222\n",
      "Epoch 10/10\n",
      "255/255 [==============================] - 0s 1ms/step - loss: 0.2007 - accuracy: 0.9307\n",
      "64/64 [==============================] - 0s 775us/step - loss: 0.2200 - accuracy: 0.9187\n",
      "Epoch 1/10\n",
      "255/255 [==============================] - 1s 1ms/step - loss: 1.6544 - accuracy: 0.3630\n",
      "Epoch 2/10\n",
      "255/255 [==============================] - 0s 1ms/step - loss: 0.4838 - accuracy: 0.8570\n",
      "Epoch 3/10\n",
      "255/255 [==============================] - 0s 1ms/step - loss: 0.2970 - accuracy: 0.9046\n",
      "Epoch 4/10\n",
      "255/255 [==============================] - 0s 1ms/step - loss: 0.2523 - accuracy: 0.9124\n",
      "Epoch 5/10\n",
      "255/255 [==============================] - 0s 2ms/step - loss: 0.2295 - accuracy: 0.9195\n",
      "Epoch 6/10\n",
      "255/255 [==============================] - 0s 2ms/step - loss: 0.2241 - accuracy: 0.9195\n",
      "Epoch 7/10\n",
      "255/255 [==============================] - 1s 2ms/step - loss: 0.2220 - accuracy: 0.9189\n",
      "Epoch 8/10\n",
      "255/255 [==============================] - 0s 2ms/step - loss: 0.2163 - accuracy: 0.9253\n",
      "Epoch 9/10\n",
      "255/255 [==============================] - 0s 2ms/step - loss: 0.2157 - accuracy: 0.9195\n",
      "Epoch 10/10\n",
      "255/255 [==============================] - 0s 1ms/step - loss: 0.2027 - accuracy: 0.9217\n",
      "64/64 [==============================] - 0s 775us/step - loss: 0.2165 - accuracy: 0.9244\n",
      "Epoch 1/10\n",
      "255/255 [==============================] - 1s 1ms/step - loss: 1.5122 - accuracy: 0.5057\n",
      "Epoch 2/10\n",
      "255/255 [==============================] - 0s 1ms/step - loss: 0.4946 - accuracy: 0.8546\n",
      "Epoch 3/10\n",
      "255/255 [==============================] - 0s 1ms/step - loss: 0.3135 - accuracy: 0.9018\n",
      "Epoch 4/10\n",
      "255/255 [==============================] - 0s 1ms/step - loss: 0.2567 - accuracy: 0.9106\n",
      "Epoch 5/10\n",
      "255/255 [==============================] - 0s 1ms/step - loss: 0.2300 - accuracy: 0.9191\n",
      "Epoch 6/10\n",
      "255/255 [==============================] - 0s 1ms/step - loss: 0.2207 - accuracy: 0.9196\n",
      "Epoch 7/10\n",
      "255/255 [==============================] - 0s 2ms/step - loss: 0.2148 - accuracy: 0.9223\n",
      "Epoch 8/10\n",
      "255/255 [==============================] - 0s 1ms/step - loss: 0.2239 - accuracy: 0.9176\n",
      "Epoch 9/10\n",
      "255/255 [==============================] - 0s 1ms/step - loss: 0.2214 - accuracy: 0.9234\n",
      "Epoch 10/10\n",
      "255/255 [==============================] - 0s 1ms/step - loss: 0.2133 - accuracy: 0.9242\n",
      "64/64 [==============================] - 0s 781us/step - loss: 0.1945 - accuracy: 0.9234\n",
      "Epoch 1/10\n",
      "255/255 [==============================] - 1s 1ms/step - loss: 1.3743 - accuracy: 0.4669\n",
      "Epoch 2/10\n",
      "255/255 [==============================] - 0s 1ms/step - loss: 0.4422 - accuracy: 0.8882\n",
      "Epoch 3/10\n",
      "255/255 [==============================] - 0s 1ms/step - loss: 0.2574 - accuracy: 0.9087\n",
      "Epoch 4/10\n",
      "255/255 [==============================] - 0s 1ms/step - loss: 0.2296 - accuracy: 0.9171\n",
      "Epoch 5/10\n",
      "255/255 [==============================] - 0s 1ms/step - loss: 0.2113 - accuracy: 0.9236\n",
      "Epoch 6/10\n",
      "255/255 [==============================] - 0s 2ms/step - loss: 0.2037 - accuracy: 0.9250\n",
      "Epoch 7/10\n",
      "255/255 [==============================] - 0s 1ms/step - loss: 0.2115 - accuracy: 0.9234\n",
      "Epoch 8/10\n",
      "255/255 [==============================] - 0s 1ms/step - loss: 0.1866 - accuracy: 0.9308\n",
      "Epoch 9/10\n",
      "255/255 [==============================] - 0s 1ms/step - loss: 0.1952 - accuracy: 0.9189\n",
      "Epoch 10/10\n",
      "255/255 [==============================] - 0s 1ms/step - loss: 0.1942 - accuracy: 0.9262\n",
      "64/64 [==============================] - 0s 744us/step - loss: 0.2304 - accuracy: 0.9228\n",
      "Epoch 1/10\n",
      "255/255 [==============================] - 1s 1ms/step - loss: 1.4907 - accuracy: 0.4823\n",
      "Epoch 2/10\n",
      "255/255 [==============================] - 0s 1ms/step - loss: 0.4710 - accuracy: 0.8532\n",
      "Epoch 3/10\n",
      "255/255 [==============================] - 0s 1ms/step - loss: 0.2968 - accuracy: 0.9012\n",
      "Epoch 4/10\n",
      "255/255 [==============================] - 0s 1ms/step - loss: 0.2406 - accuracy: 0.9222\n",
      "Epoch 5/10\n",
      "255/255 [==============================] - 0s 1ms/step - loss: 0.2299 - accuracy: 0.9229\n",
      "Epoch 6/10\n",
      "255/255 [==============================] - 0s 1ms/step - loss: 0.2446 - accuracy: 0.9135\n",
      "Epoch 7/10\n",
      "255/255 [==============================] - 0s 1ms/step - loss: 0.2114 - accuracy: 0.9219\n",
      "Epoch 8/10\n",
      "255/255 [==============================] - 0s 1ms/step - loss: 0.2136 - accuracy: 0.9235\n",
      "Epoch 9/10\n",
      "255/255 [==============================] - 0s 1ms/step - loss: 0.2080 - accuracy: 0.9259\n",
      "Epoch 10/10\n",
      "255/255 [==============================] - 0s 1ms/step - loss: 0.2034 - accuracy: 0.9228\n",
      "64/64 [==============================] - 0s 1ms/step - loss: 0.2081 - accuracy: 0.9255\n",
      "Epoch 1/10\n",
      "255/255 [==============================] - 1s 1ms/step - loss: 1.4289 - accuracy: 0.4784\n",
      "Epoch 2/10\n",
      "255/255 [==============================] - 0s 1ms/step - loss: 0.4160 - accuracy: 0.8784\n",
      "Epoch 3/10\n",
      "255/255 [==============================] - 0s 1ms/step - loss: 0.2756 - accuracy: 0.9154\n",
      "Epoch 4/10\n",
      "255/255 [==============================] - 0s 1ms/step - loss: 0.2513 - accuracy: 0.9176\n",
      "Epoch 5/10\n",
      "255/255 [==============================] - 0s 1ms/step - loss: 0.2393 - accuracy: 0.9179\n",
      "Epoch 6/10\n",
      "255/255 [==============================] - 0s 1ms/step - loss: 0.2170 - accuracy: 0.9248\n",
      "Epoch 7/10\n",
      "255/255 [==============================] - 0s 1ms/step - loss: 0.2013 - accuracy: 0.9318\n",
      "Epoch 8/10\n",
      "255/255 [==============================] - 0s 1ms/step - loss: 0.2039 - accuracy: 0.9244\n",
      "Epoch 9/10\n",
      "255/255 [==============================] - 0s 1ms/step - loss: 0.2174 - accuracy: 0.9205\n",
      "Epoch 10/10\n",
      "255/255 [==============================] - 0s 1ms/step - loss: 0.1973 - accuracy: 0.9283\n",
      "64/64 [==============================] - 0s 1ms/step - loss: 0.2143 - accuracy: 0.9187\n",
      "Epoch 1/10\n",
      "255/255 [==============================] - 1s 1ms/step - loss: 1.5155 - accuracy: 0.4223\n",
      "Epoch 2/10\n",
      "255/255 [==============================] - 0s 1ms/step - loss: 0.4577 - accuracy: 0.8611\n",
      "Epoch 3/10\n",
      "255/255 [==============================] - 1s 2ms/step - loss: 0.2890 - accuracy: 0.9078\n",
      "Epoch 4/10\n",
      "255/255 [==============================] - 0s 1ms/step - loss: 0.2419 - accuracy: 0.9195\n",
      "Epoch 5/10\n",
      "255/255 [==============================] - 0s 1ms/step - loss: 0.2254 - accuracy: 0.9206: 0s - loss: 0.2261 - accuracy: 0.\n",
      "Epoch 6/10\n",
      "255/255 [==============================] - 0s 1ms/step - loss: 0.2148 - accuracy: 0.9264\n",
      "Epoch 7/10\n",
      "255/255 [==============================] - 0s 1ms/step - loss: 0.1914 - accuracy: 0.9300\n",
      "Epoch 8/10\n",
      "255/255 [==============================] - 0s 1ms/step - loss: 0.2065 - accuracy: 0.9215\n",
      "Epoch 9/10\n",
      "255/255 [==============================] - 0s 1ms/step - loss: 0.2044 - accuracy: 0.9263\n",
      "Epoch 10/10\n",
      "255/255 [==============================] - 0s 1ms/step - loss: 0.1963 - accuracy: 0.9240\n",
      "64/64 [==============================] - 0s 764us/step - loss: 0.2066 - accuracy: 0.9276\n",
      "Epoch 1/10\n",
      "255/255 [==============================] - 1s 1ms/step - loss: 1.7072 - accuracy: 0.3906\n",
      "Epoch 2/10\n",
      "255/255 [==============================] - 0s 1ms/step - loss: 0.4858 - accuracy: 0.8477\n",
      "Epoch 3/10\n",
      "255/255 [==============================] - 0s 2ms/step - loss: 0.3088 - accuracy: 0.9037\n",
      "Epoch 4/10\n",
      "255/255 [==============================] - 0s 2ms/step - loss: 0.2605 - accuracy: 0.9138\n",
      "Epoch 5/10\n",
      "255/255 [==============================] - 0s 1ms/step - loss: 0.2250 - accuracy: 0.9207\n",
      "Epoch 6/10\n",
      "255/255 [==============================] - 0s 1ms/step - loss: 0.2197 - accuracy: 0.9221\n",
      "Epoch 7/10\n",
      "255/255 [==============================] - 0s 1ms/step - loss: 0.2134 - accuracy: 0.9222\n",
      "Epoch 8/10\n",
      "255/255 [==============================] - 0s 1ms/step - loss: 0.2215 - accuracy: 0.9208\n",
      "Epoch 9/10\n",
      "255/255 [==============================] - 0s 1ms/step - loss: 0.2074 - accuracy: 0.9231\n",
      "Epoch 10/10\n",
      "255/255 [==============================] - 0s 1ms/step - loss: 0.2141 - accuracy: 0.9243\n",
      "64/64 [==============================] - 0s 815us/step - loss: 0.1967 - accuracy: 0.9260\n",
      "Epoch 1/10\n",
      "255/255 [==============================] - 1s 1ms/step - loss: 1.5655 - accuracy: 0.4833\n",
      "Epoch 2/10\n",
      "255/255 [==============================] - 0s 1ms/step - loss: 0.4713 - accuracy: 0.8751\n",
      "Epoch 3/10\n",
      "255/255 [==============================] - 0s 1ms/step - loss: 0.2923 - accuracy: 0.9113\n",
      "Epoch 4/10\n",
      "255/255 [==============================] - 0s 2ms/step - loss: 0.2492 - accuracy: 0.9147\n",
      "Epoch 5/10\n",
      "255/255 [==============================] - 0s 2ms/step - loss: 0.2319 - accuracy: 0.9182\n",
      "Epoch 6/10\n",
      "255/255 [==============================] - 0s 2ms/step - loss: 0.2017 - accuracy: 0.9257\n",
      "Epoch 7/10\n",
      "255/255 [==============================] - 0s 1ms/step - loss: 0.2154 - accuracy: 0.9191\n",
      "Epoch 8/10\n",
      "255/255 [==============================] - 0s 1ms/step - loss: 0.2136 - accuracy: 0.9253\n",
      "Epoch 9/10\n",
      "255/255 [==============================] - 0s 1ms/step - loss: 0.2061 - accuracy: 0.9262\n",
      "Epoch 10/10\n",
      "255/255 [==============================] - 0s 1ms/step - loss: 0.1965 - accuracy: 0.9280\n",
      "64/64 [==============================] - 0s 759us/step - loss: 0.2225 - accuracy: 0.9244\n",
      "Epoch 1/15\n",
      "255/255 [==============================] - 1s 1ms/step - loss: 1.4761 - accuracy: 0.4571\n",
      "Epoch 2/15\n",
      "255/255 [==============================] - 0s 1ms/step - loss: 0.4834 - accuracy: 0.8551\n",
      "Epoch 3/15\n",
      "255/255 [==============================] - 0s 1ms/step - loss: 0.2836 - accuracy: 0.9117\n",
      "Epoch 4/15\n",
      "255/255 [==============================] - 0s 1ms/step - loss: 0.2428 - accuracy: 0.9160\n",
      "Epoch 5/15\n",
      "255/255 [==============================] - 0s 1ms/step - loss: 0.2241 - accuracy: 0.9181\n",
      "Epoch 6/15\n",
      "255/255 [==============================] - 0s 1ms/step - loss: 0.2129 - accuracy: 0.9217\n",
      "Epoch 7/15\n",
      "255/255 [==============================] - 0s 1ms/step - loss: 0.2199 - accuracy: 0.9235\n",
      "Epoch 8/15\n",
      "255/255 [==============================] - 0s 1ms/step - loss: 0.2112 - accuracy: 0.9250\n",
      "Epoch 9/15\n",
      "255/255 [==============================] - 0s 1ms/step - loss: 0.2107 - accuracy: 0.9260\n",
      "Epoch 10/15\n",
      "255/255 [==============================] - 0s 1ms/step - loss: 0.2081 - accuracy: 0.9248\n",
      "Epoch 11/15\n",
      "255/255 [==============================] - 0s 1ms/step - loss: 0.2210 - accuracy: 0.9205\n",
      "Epoch 12/15\n",
      "255/255 [==============================] - 0s 1ms/step - loss: 0.2115 - accuracy: 0.9242\n",
      "Epoch 13/15\n",
      "255/255 [==============================] - 0s 1ms/step - loss: 0.2035 - accuracy: 0.9236\n",
      "Epoch 14/15\n",
      "255/255 [==============================] - 0s 1ms/step - loss: 0.1957 - accuracy: 0.9308\n",
      "Epoch 15/15\n",
      "255/255 [==============================] - 0s 1ms/step - loss: 0.2097 - accuracy: 0.9237\n",
      "64/64 [==============================] - 0s 782us/step - loss: 0.1911 - accuracy: 0.9292\n",
      "Epoch 1/15\n",
      "255/255 [==============================] - 1s 1ms/step - loss: 1.4501 - accuracy: 0.4859\n",
      "Epoch 2/15\n",
      "255/255 [==============================] - 0s 1ms/step - loss: 0.4757 - accuracy: 0.8405\n",
      "Epoch 3/15\n",
      "255/255 [==============================] - 0s 1ms/step - loss: 0.3051 - accuracy: 0.8980\n",
      "Epoch 4/15\n",
      "255/255 [==============================] - 0s 1ms/step - loss: 0.2408 - accuracy: 0.9186\n",
      "Epoch 5/15\n",
      "255/255 [==============================] - 0s 1ms/step - loss: 0.2236 - accuracy: 0.9211\n",
      "Epoch 6/15\n",
      "255/255 [==============================] - 0s 1ms/step - loss: 0.2110 - accuracy: 0.9264\n",
      "Epoch 7/15\n",
      "255/255 [==============================] - 0s 1ms/step - loss: 0.2114 - accuracy: 0.9235\n",
      "Epoch 8/15\n",
      "255/255 [==============================] - 0s 1ms/step - loss: 0.1991 - accuracy: 0.9270\n",
      "Epoch 9/15\n",
      "255/255 [==============================] - 0s 1ms/step - loss: 0.2072 - accuracy: 0.9252\n",
      "Epoch 10/15\n",
      "255/255 [==============================] - 0s 1ms/step - loss: 0.2128 - accuracy: 0.9253\n",
      "Epoch 11/15\n",
      "255/255 [==============================] - 0s 1ms/step - loss: 0.1895 - accuracy: 0.9266\n",
      "Epoch 12/15\n",
      "255/255 [==============================] - 0s 1ms/step - loss: 0.2143 - accuracy: 0.9205\n",
      "Epoch 13/15\n",
      "255/255 [==============================] - 0s 1ms/step - loss: 0.1885 - accuracy: 0.9282\n",
      "Epoch 14/15\n",
      "255/255 [==============================] - 0s 1ms/step - loss: 0.2037 - accuracy: 0.9280\n",
      "Epoch 15/15\n",
      "255/255 [==============================] - 0s 1ms/step - loss: 0.2092 - accuracy: 0.9235\n",
      "64/64 [==============================] - 0s 933us/step - loss: 0.2226 - accuracy: 0.9197\n",
      "Epoch 1/15\n",
      "255/255 [==============================] - 2s 2ms/step - loss: 1.5734 - accuracy: 0.3444\n",
      "Epoch 2/15\n",
      "255/255 [==============================] - 0s 2ms/step - loss: 0.5272 - accuracy: 0.8136\n",
      "Epoch 3/15\n",
      "255/255 [==============================] - 0s 2ms/step - loss: 0.3325 - accuracy: 0.8873\n",
      "Epoch 4/15\n",
      "255/255 [==============================] - 0s 1ms/step - loss: 0.2814 - accuracy: 0.9035\n",
      "Epoch 5/15\n",
      "255/255 [==============================] - 0s 1ms/step - loss: 0.2405 - accuracy: 0.9188\n",
      "Epoch 6/15\n",
      "255/255 [==============================] - 0s 1ms/step - loss: 0.2263 - accuracy: 0.9188\n",
      "Epoch 7/15\n",
      "255/255 [==============================] - 0s 1ms/step - loss: 0.2295 - accuracy: 0.9191\n",
      "Epoch 8/15\n",
      "255/255 [==============================] - 0s 1ms/step - loss: 0.2225 - accuracy: 0.9228\n",
      "Epoch 9/15\n",
      "255/255 [==============================] - 0s 1ms/step - loss: 0.2290 - accuracy: 0.9199\n",
      "Epoch 10/15\n",
      "255/255 [==============================] - 0s 1ms/step - loss: 0.2096 - accuracy: 0.9224\n",
      "Epoch 11/15\n",
      "255/255 [==============================] - 0s 1ms/step - loss: 0.2111 - accuracy: 0.9211\n",
      "Epoch 12/15\n",
      "255/255 [==============================] - 0s 1ms/step - loss: 0.2170 - accuracy: 0.9196\n",
      "Epoch 13/15\n",
      "255/255 [==============================] - 0s 1ms/step - loss: 0.2099 - accuracy: 0.9218\n",
      "Epoch 14/15\n",
      "255/255 [==============================] - 0s 1ms/step - loss: 0.2050 - accuracy: 0.9240\n",
      "Epoch 15/15\n",
      "255/255 [==============================] - 0s 2ms/step - loss: 0.2170 - accuracy: 0.9209\n",
      "64/64 [==============================] - 0s 863us/step - loss: 0.2138 - accuracy: 0.9239\n",
      "Epoch 1/15\n",
      "255/255 [==============================] - 1s 1ms/step - loss: 1.3987 - accuracy: 0.4991\n",
      "Epoch 2/15\n",
      "255/255 [==============================] - 0s 1ms/step - loss: 0.4760 - accuracy: 0.8541\n",
      "Epoch 3/15\n",
      "255/255 [==============================] - 0s 1ms/step - loss: 0.2917 - accuracy: 0.9114\n",
      "Epoch 4/15\n",
      "255/255 [==============================] - 0s 1ms/step - loss: 0.2491 - accuracy: 0.9193\n",
      "Epoch 5/15\n",
      "255/255 [==============================] - 0s 1ms/step - loss: 0.2285 - accuracy: 0.9207\n",
      "Epoch 6/15\n",
      "255/255 [==============================] - 0s 1ms/step - loss: 0.2175 - accuracy: 0.9218\n",
      "Epoch 7/15\n",
      "255/255 [==============================] - 0s 1ms/step - loss: 0.2119 - accuracy: 0.9248\n",
      "Epoch 8/15\n",
      "255/255 [==============================] - 0s 1ms/step - loss: 0.2109 - accuracy: 0.9266\n",
      "Epoch 9/15\n",
      "255/255 [==============================] - 0s 1ms/step - loss: 0.1943 - accuracy: 0.9283\n",
      "Epoch 10/15\n",
      "255/255 [==============================] - 0s 1ms/step - loss: 0.2065 - accuracy: 0.9236\n",
      "Epoch 11/15\n",
      "255/255 [==============================] - 0s 1ms/step - loss: 0.2065 - accuracy: 0.9288\n",
      "Epoch 12/15\n",
      "255/255 [==============================] - 0s 1ms/step - loss: 0.1944 - accuracy: 0.9326\n",
      "Epoch 13/15\n",
      "255/255 [==============================] - 0s 1ms/step - loss: 0.2044 - accuracy: 0.9246\n",
      "Epoch 14/15\n",
      "255/255 [==============================] - 0s 1ms/step - loss: 0.1993 - accuracy: 0.9302\n",
      "Epoch 15/15\n",
      "255/255 [==============================] - 0s 1ms/step - loss: 0.1989 - accuracy: 0.9257\n",
      "64/64 [==============================] - 0s 738us/step - loss: 0.1897 - accuracy: 0.9286\n",
      "Epoch 1/15\n",
      "255/255 [==============================] - 1s 1ms/step - loss: 1.3025 - accuracy: 0.5078\n",
      "Epoch 2/15\n",
      "255/255 [==============================] - 0s 1ms/step - loss: 0.4139 - accuracy: 0.8901\n",
      "Epoch 3/15\n",
      "255/255 [==============================] - 0s 1ms/step - loss: 0.2859 - accuracy: 0.9122\n",
      "Epoch 4/15\n",
      "255/255 [==============================] - 0s 1ms/step - loss: 0.2554 - accuracy: 0.9167\n",
      "Epoch 5/15\n",
      "255/255 [==============================] - 0s 1ms/step - loss: 0.2230 - accuracy: 0.9230\n",
      "Epoch 6/15\n",
      "255/255 [==============================] - 0s 2ms/step - loss: 0.2124 - accuracy: 0.9262\n",
      "Epoch 7/15\n",
      "255/255 [==============================] - 0s 2ms/step - loss: 0.2046 - accuracy: 0.9295\n",
      "Epoch 8/15\n",
      "255/255 [==============================] - 0s 2ms/step - loss: 0.2242 - accuracy: 0.9178\n",
      "Epoch 9/15\n",
      "255/255 [==============================] - 0s 1ms/step - loss: 0.2019 - accuracy: 0.9260\n",
      "Epoch 10/15\n",
      "255/255 [==============================] - 0s 1ms/step - loss: 0.2022 - accuracy: 0.9262\n",
      "Epoch 11/15\n",
      "255/255 [==============================] - 0s 1ms/step - loss: 0.1914 - accuracy: 0.9322\n",
      "Epoch 12/15\n",
      "255/255 [==============================] - 0s 1ms/step - loss: 0.2076 - accuracy: 0.9250\n",
      "Epoch 13/15\n",
      "255/255 [==============================] - 0s 1ms/step - loss: 0.1992 - accuracy: 0.9279\n",
      "Epoch 14/15\n",
      "255/255 [==============================] - 0s 2ms/step - loss: 0.1972 - accuracy: 0.9245\n",
      "Epoch 15/15\n",
      "255/255 [==============================] - 0s 2ms/step - loss: 0.2012 - accuracy: 0.9260\n",
      "64/64 [==============================] - 0s 759us/step - loss: 0.2262 - accuracy: 0.9265\n",
      "Epoch 1/15\n",
      "255/255 [==============================] - 1s 979us/step - loss: 1.6604 - accuracy: 0.3879\n",
      "Epoch 2/15\n",
      "255/255 [==============================] - 0s 1ms/step - loss: 0.6025 - accuracy: 0.8167\n",
      "Epoch 3/15\n",
      "255/255 [==============================] - 0s 1ms/step - loss: 0.3434 - accuracy: 0.8972\n",
      "Epoch 4/15\n",
      "255/255 [==============================] - 0s 1ms/step - loss: 0.2813 - accuracy: 0.9078\n",
      "Epoch 5/15\n",
      "255/255 [==============================] - 0s 1ms/step - loss: 0.2329 - accuracy: 0.9209\n",
      "Epoch 6/15\n",
      "255/255 [==============================] - 0s 1ms/step - loss: 0.2189 - accuracy: 0.9209\n",
      "Epoch 7/15\n",
      "255/255 [==============================] - 0s 1ms/step - loss: 0.2252 - accuracy: 0.9211\n",
      "Epoch 8/15\n",
      "255/255 [==============================] - 0s 1ms/step - loss: 0.2162 - accuracy: 0.9233\n",
      "Epoch 9/15\n",
      "255/255 [==============================] - 0s 1ms/step - loss: 0.2117 - accuracy: 0.9239\n",
      "Epoch 10/15\n",
      "255/255 [==============================] - 0s 1ms/step - loss: 0.2048 - accuracy: 0.9226\n",
      "Epoch 11/15\n",
      "255/255 [==============================] - 0s 1ms/step - loss: 0.2099 - accuracy: 0.9199\n",
      "Epoch 12/15\n",
      "255/255 [==============================] - 0s 1ms/step - loss: 0.2111 - accuracy: 0.9238\n",
      "Epoch 13/15\n",
      "255/255 [==============================] - 0s 1ms/step - loss: 0.2114 - accuracy: 0.9235\n",
      "Epoch 14/15\n",
      "255/255 [==============================] - 0s 1ms/step - loss: 0.1955 - accuracy: 0.9274\n",
      "Epoch 15/15\n",
      "255/255 [==============================] - 0s 1ms/step - loss: 0.2010 - accuracy: 0.9257\n",
      "64/64 [==============================] - 0s 759us/step - loss: 0.1914 - accuracy: 0.9318\n",
      "Epoch 1/15\n",
      "255/255 [==============================] - 1s 1ms/step - loss: 1.3627 - accuracy: 0.5324\n",
      "Epoch 2/15\n",
      "255/255 [==============================] - 0s 1ms/step - loss: 0.4419 - accuracy: 0.8527\n",
      "Epoch 3/15\n",
      "255/255 [==============================] - 0s 1ms/step - loss: 0.3039 - accuracy: 0.9009\n",
      "Epoch 4/15\n",
      "255/255 [==============================] - 0s 1ms/step - loss: 0.2527 - accuracy: 0.9153\n",
      "Epoch 5/15\n",
      "255/255 [==============================] - 0s 1ms/step - loss: 0.2439 - accuracy: 0.9152\n",
      "Epoch 6/15\n",
      "255/255 [==============================] - 0s 1ms/step - loss: 0.2091 - accuracy: 0.9287\n",
      "Epoch 7/15\n",
      "255/255 [==============================] - 0s 1ms/step - loss: 0.2205 - accuracy: 0.9234\n",
      "Epoch 8/15\n",
      "255/255 [==============================] - 0s 1ms/step - loss: 0.2060 - accuracy: 0.9248\n",
      "Epoch 9/15\n",
      "255/255 [==============================] - 0s 1ms/step - loss: 0.2041 - accuracy: 0.9238\n",
      "Epoch 10/15\n",
      "255/255 [==============================] - 0s 1ms/step - loss: 0.1975 - accuracy: 0.9276\n",
      "Epoch 11/15\n",
      "255/255 [==============================] - 0s 1ms/step - loss: 0.1993 - accuracy: 0.9314\n",
      "Epoch 12/15\n",
      "255/255 [==============================] - 0s 1ms/step - loss: 0.1972 - accuracy: 0.9277\n",
      "Epoch 13/15\n",
      "255/255 [==============================] - 0s 1ms/step - loss: 0.1993 - accuracy: 0.9312\n",
      "Epoch 14/15\n",
      "255/255 [==============================] - 0s 1ms/step - loss: 0.1998 - accuracy: 0.9282\n",
      "Epoch 15/15\n",
      "255/255 [==============================] - 0s 1ms/step - loss: 0.2091 - accuracy: 0.9258\n",
      "64/64 [==============================] - 0s 1ms/step - loss: 0.2150 - accuracy: 0.9218\n",
      "Epoch 1/15\n",
      "255/255 [==============================] - 1s 1ms/step - loss: 1.6428 - accuracy: 0.4425\n",
      "Epoch 2/15\n",
      "255/255 [==============================] - 0s 1ms/step - loss: 0.4709 - accuracy: 0.8629\n",
      "Epoch 3/15\n",
      "255/255 [==============================] - 0s 1ms/step - loss: 0.2841 - accuracy: 0.9114\n",
      "Epoch 4/15\n",
      "255/255 [==============================] - 0s 2ms/step - loss: 0.2406 - accuracy: 0.9157\n",
      "Epoch 5/15\n",
      "255/255 [==============================] - 0s 2ms/step - loss: 0.2387 - accuracy: 0.9148\n",
      "Epoch 6/15\n",
      "255/255 [==============================] - 0s 1ms/step - loss: 0.2206 - accuracy: 0.9260\n",
      "Epoch 7/15\n",
      "255/255 [==============================] - 0s 1ms/step - loss: 0.2186 - accuracy: 0.9212\n",
      "Epoch 8/15\n",
      "255/255 [==============================] - 0s 1ms/step - loss: 0.2021 - accuracy: 0.9297\n",
      "Epoch 9/15\n",
      "255/255 [==============================] - 0s 1ms/step - loss: 0.2159 - accuracy: 0.9233\n",
      "Epoch 10/15\n",
      "255/255 [==============================] - 0s 1ms/step - loss: 0.1992 - accuracy: 0.9258\n",
      "Epoch 11/15\n",
      "255/255 [==============================] - 0s 1ms/step - loss: 0.1955 - accuracy: 0.9258\n",
      "Epoch 12/15\n",
      "255/255 [==============================] - 0s 1ms/step - loss: 0.1861 - accuracy: 0.9307\n",
      "Epoch 13/15\n",
      "255/255 [==============================] - 0s 1ms/step - loss: 0.2122 - accuracy: 0.9221\n",
      "Epoch 14/15\n",
      "255/255 [==============================] - 0s 1ms/step - loss: 0.1973 - accuracy: 0.9257\n",
      "Epoch 15/15\n",
      "255/255 [==============================] - 0s 1ms/step - loss: 0.1889 - accuracy: 0.9265\n",
      "64/64 [==============================] - 0s 744us/step - loss: 0.2017 - accuracy: 0.9312\n",
      "Epoch 1/15\n",
      "255/255 [==============================] - 1s 985us/step - loss: 1.4308 - accuracy: 0.4423\n",
      "Epoch 2/15\n",
      "255/255 [==============================] - 0s 1ms/step - loss: 0.5006 - accuracy: 0.8308\n",
      "Epoch 3/15\n",
      "255/255 [==============================] - 0s 1ms/step - loss: 0.3402 - accuracy: 0.8882\n",
      "Epoch 4/15\n",
      "255/255 [==============================] - 0s 1ms/step - loss: 0.2672 - accuracy: 0.9123\n",
      "Epoch 5/15\n",
      "255/255 [==============================] - 0s 1ms/step - loss: 0.2453 - accuracy: 0.9173\n",
      "Epoch 6/15\n",
      "255/255 [==============================] - 0s 1ms/step - loss: 0.2256 - accuracy: 0.9240\n",
      "Epoch 7/15\n",
      "255/255 [==============================] - 0s 1ms/step - loss: 0.2134 - accuracy: 0.9254\n",
      "Epoch 8/15\n",
      "255/255 [==============================] - 0s 1ms/step - loss: 0.2083 - accuracy: 0.9285\n",
      "Epoch 9/15\n",
      "255/255 [==============================] - 0s 1ms/step - loss: 0.2183 - accuracy: 0.9232\n",
      "Epoch 10/15\n",
      "255/255 [==============================] - 0s 1ms/step - loss: 0.2182 - accuracy: 0.9189\n",
      "Epoch 11/15\n",
      "255/255 [==============================] - 0s 1ms/step - loss: 0.2266 - accuracy: 0.9207: 0s - loss: 0.2309 - accuracy: 0.\n",
      "Epoch 12/15\n",
      "255/255 [==============================] - 0s 1ms/step - loss: 0.2031 - accuracy: 0.9261\n",
      "Epoch 13/15\n",
      "255/255 [==============================] - 0s 1ms/step - loss: 0.1990 - accuracy: 0.9286\n",
      "Epoch 14/15\n",
      "255/255 [==============================] - 0s 1ms/step - loss: 0.1954 - accuracy: 0.9294\n",
      "Epoch 15/15\n",
      "255/255 [==============================] - 0s 2ms/step - loss: 0.1978 - accuracy: 0.9304\n",
      "64/64 [==============================] - 0s 879us/step - loss: 0.1893 - accuracy: 0.9255\n",
      "Epoch 1/15\n",
      "255/255 [==============================] - 1s 975us/step - loss: 1.5482 - accuracy: 0.4109\n",
      "Epoch 2/15\n",
      "255/255 [==============================] - 0s 1ms/step - loss: 0.6071 - accuracy: 0.8312\n",
      "Epoch 3/15\n",
      "255/255 [==============================] - 0s 1ms/step - loss: 0.2971 - accuracy: 0.9165\n",
      "Epoch 4/15\n",
      "255/255 [==============================] - 0s 1ms/step - loss: 0.2409 - accuracy: 0.9225\n",
      "Epoch 5/15\n",
      "255/255 [==============================] - 0s 1ms/step - loss: 0.2241 - accuracy: 0.9200\n",
      "Epoch 6/15\n",
      "255/255 [==============================] - 0s 1ms/step - loss: 0.2239 - accuracy: 0.9186\n",
      "Epoch 7/15\n",
      "255/255 [==============================] - 0s 1ms/step - loss: 0.2110 - accuracy: 0.9233\n",
      "Epoch 8/15\n",
      "255/255 [==============================] - 0s 2ms/step - loss: 0.2047 - accuracy: 0.9234\n",
      "Epoch 9/15\n",
      "255/255 [==============================] - 0s 2ms/step - loss: 0.2015 - accuracy: 0.9213\n",
      "Epoch 10/15\n",
      "255/255 [==============================] - 0s 2ms/step - loss: 0.2032 - accuracy: 0.9233\n",
      "Epoch 11/15\n",
      "255/255 [==============================] - 0s 1ms/step - loss: 0.2045 - accuracy: 0.9189\n",
      "Epoch 12/15\n",
      "255/255 [==============================] - 0s 1ms/step - loss: 0.2036 - accuracy: 0.9237\n",
      "Epoch 13/15\n",
      "255/255 [==============================] - 0s 1ms/step - loss: 0.1915 - accuracy: 0.9291\n",
      "Epoch 14/15\n",
      "255/255 [==============================] - 0s 1ms/step - loss: 0.1903 - accuracy: 0.9279\n",
      "Epoch 15/15\n",
      "255/255 [==============================] - 0s 1ms/step - loss: 0.1851 - accuracy: 0.9308\n",
      "64/64 [==============================] - 0s 763us/step - loss: 0.2225 - accuracy: 0.9176\n",
      "Epoch 1/5\n",
      "77/77 [==============================] - 1s 1ms/step - loss: 1.7852 - accuracy: 0.3102\n",
      "Epoch 2/5\n",
      "77/77 [==============================] - 0s 1ms/step - loss: 1.0892 - accuracy: 0.5651\n",
      "Epoch 3/5\n",
      "77/77 [==============================] - 0s 1ms/step - loss: 0.7094 - accuracy: 0.7852\n",
      "Epoch 4/5\n",
      "77/77 [==============================] - 0s 1ms/step - loss: 0.4803 - accuracy: 0.8728\n",
      "Epoch 5/5\n",
      "77/77 [==============================] - 0s 1ms/step - loss: 0.3579 - accuracy: 0.8911\n",
      "20/20 [==============================] - 0s 892us/step - loss: 0.3095 - accuracy: 0.9019\n",
      "Epoch 1/5\n",
      "77/77 [==============================] - 1s 1ms/step - loss: 1.8024 - accuracy: 0.2135\n",
      "Epoch 2/5\n",
      "77/77 [==============================] - 0s 1ms/step - loss: 1.0690 - accuracy: 0.7313\n",
      "Epoch 3/5\n",
      "77/77 [==============================] - 0s 1ms/step - loss: 0.6239 - accuracy: 0.8487\n",
      "Epoch 4/5\n",
      "77/77 [==============================] - 0s 1ms/step - loss: 0.4163 - accuracy: 0.8813\n",
      "Epoch 5/5\n",
      "77/77 [==============================] - 0s 1ms/step - loss: 0.3295 - accuracy: 0.8952\n",
      "20/20 [==============================] - 0s 1ms/step - loss: 0.3125 - accuracy: 0.8987\n",
      "Epoch 1/5\n",
      "77/77 [==============================] - 1s 1ms/step - loss: 1.6565 - accuracy: 0.3445\n",
      "Epoch 2/5\n",
      "77/77 [==============================] - 0s 1ms/step - loss: 0.9420 - accuracy: 0.6964\n",
      "Epoch 3/5\n",
      "77/77 [==============================] - 0s 1ms/step - loss: 0.5549 - accuracy: 0.8291\n",
      "Epoch 4/5\n",
      "77/77 [==============================] - 0s 1ms/step - loss: 0.3955 - accuracy: 0.8841\n",
      "Epoch 5/5\n",
      "77/77 [==============================] - 0s 1ms/step - loss: 0.2914 - accuracy: 0.9137\n",
      "20/20 [==============================] - 0s 924us/step - loss: 0.2783 - accuracy: 0.9129\n",
      "Epoch 1/5\n",
      "77/77 [==============================] - 1s 1ms/step - loss: 1.7759 - accuracy: 0.3048\n",
      "Epoch 2/5\n",
      "77/77 [==============================] - 0s 1ms/step - loss: 0.9901 - accuracy: 0.6940\n",
      "Epoch 3/5\n",
      "77/77 [==============================] - 0s 1ms/step - loss: 0.6089 - accuracy: 0.7997\n",
      "Epoch 4/5\n",
      "77/77 [==============================] - 0s 1ms/step - loss: 0.4193 - accuracy: 0.8625\n",
      "Epoch 5/5\n",
      "77/77 [==============================] - 0s 1ms/step - loss: 0.3335 - accuracy: 0.8899\n",
      "20/20 [==============================] - 0s 943us/step - loss: 0.3005 - accuracy: 0.8945\n",
      "Epoch 1/5\n",
      "77/77 [==============================] - 1s 1ms/step - loss: 1.8150 - accuracy: 0.2714\n",
      "Epoch 2/5\n",
      "77/77 [==============================] - 0s 1ms/step - loss: 1.1010 - accuracy: 0.6129\n",
      "Epoch 3/5\n",
      "77/77 [==============================] - 0s 1ms/step - loss: 0.6958 - accuracy: 0.8208\n",
      "Epoch 4/5\n",
      "77/77 [==============================] - 0s 1ms/step - loss: 0.4471 - accuracy: 0.8901\n",
      "Epoch 5/5\n",
      "77/77 [==============================] - 0s 1ms/step - loss: 0.3072 - accuracy: 0.9117\n",
      "20/20 [==============================] - 0s 869us/step - loss: 0.2842 - accuracy: 0.9081\n",
      "Epoch 1/5\n",
      "77/77 [==============================] - 1s 1ms/step - loss: 1.8252 - accuracy: 0.3649\n",
      "Epoch 2/5\n",
      "77/77 [==============================] - 0s 1ms/step - loss: 1.1572 - accuracy: 0.7312\n",
      "Epoch 3/5\n",
      "77/77 [==============================] - 0s 1ms/step - loss: 0.6334 - accuracy: 0.8370\n",
      "Epoch 4/5\n",
      "77/77 [==============================] - 0s 1ms/step - loss: 0.4246 - accuracy: 0.8804\n",
      "Epoch 5/5\n",
      "77/77 [==============================] - 0s 1ms/step - loss: 0.3249 - accuracy: 0.8991\n",
      "20/20 [==============================] - 0s 924us/step - loss: 0.2924 - accuracy: 0.9134\n",
      "Epoch 1/5\n",
      "77/77 [==============================] - 1s 1ms/step - loss: 1.9865 - accuracy: 0.2499\n",
      "Epoch 2/5\n",
      "77/77 [==============================] - 0s 1ms/step - loss: 1.1810 - accuracy: 0.6827\n",
      "Epoch 3/5\n",
      "77/77 [==============================] - 0s 1ms/step - loss: 0.6619 - accuracy: 0.8196\n",
      "Epoch 4/5\n",
      "77/77 [==============================] - 0s 1ms/step - loss: 0.4480 - accuracy: 0.8735\n",
      "Epoch 5/5\n",
      "77/77 [==============================] - 0s 1ms/step - loss: 0.3626 - accuracy: 0.8923\n",
      "20/20 [==============================] - 0s 923us/step - loss: 0.3319 - accuracy: 0.8966\n",
      "Epoch 1/5\n",
      "77/77 [==============================] - 1s 1ms/step - loss: 1.8025 - accuracy: 0.3519\n",
      "Epoch 2/5\n",
      "77/77 [==============================] - 0s 1ms/step - loss: 1.1210 - accuracy: 0.6421\n",
      "Epoch 3/5\n",
      "77/77 [==============================] - 0s 1ms/step - loss: 0.6232 - accuracy: 0.8343\n",
      "Epoch 4/5\n",
      "77/77 [==============================] - 0s 1ms/step - loss: 0.4266 - accuracy: 0.8709\n",
      "Epoch 5/5\n",
      "77/77 [==============================] - 0s 2ms/step - loss: 0.3409 - accuracy: 0.8886\n",
      "20/20 [==============================] - 0s 1ms/step - loss: 0.3074 - accuracy: 0.9008\n",
      "Epoch 1/5\n",
      "77/77 [==============================] - 1s 1ms/step - loss: 1.8338 - accuracy: 0.3016\n",
      "Epoch 2/5\n",
      "77/77 [==============================] - 0s 1ms/step - loss: 1.1123 - accuracy: 0.6605\n",
      "Epoch 3/5\n",
      "77/77 [==============================] - 0s 1ms/step - loss: 0.6299 - accuracy: 0.7912\n",
      "Epoch 4/5\n",
      "77/77 [==============================] - 0s 1ms/step - loss: 0.4513 - accuracy: 0.8719\n",
      "Epoch 5/5\n",
      "77/77 [==============================] - 0s 1ms/step - loss: 0.3505 - accuracy: 0.8968\n",
      "20/20 [==============================] - 0s 994us/step - loss: 0.2892 - accuracy: 0.9113\n",
      "Epoch 1/5\n",
      "77/77 [==============================] - 1s 1ms/step - loss: 1.7795 - accuracy: 0.4704\n",
      "Epoch 2/5\n",
      "77/77 [==============================] - 0s 1ms/step - loss: 1.0085 - accuracy: 0.6742\n",
      "Epoch 3/5\n",
      "77/77 [==============================] - 0s 2ms/step - loss: 0.5739 - accuracy: 0.8065\n",
      "Epoch 4/5\n",
      "77/77 [==============================] - 0s 1ms/step - loss: 0.4158 - accuracy: 0.8669\n",
      "Epoch 5/5\n",
      "77/77 [==============================] - 0s 2ms/step - loss: 0.3203 - accuracy: 0.9003\n",
      "20/20 [==============================] - 0s 944us/step - loss: 0.3094 - accuracy: 0.8987\n",
      "Epoch 1/10\n",
      "77/77 [==============================] - 1s 1ms/step - loss: 1.6941 - accuracy: 0.3531\n",
      "Epoch 2/10\n",
      "77/77 [==============================] - 0s 1ms/step - loss: 1.0343 - accuracy: 0.6871\n",
      "Epoch 3/10\n",
      "77/77 [==============================] - 0s 1ms/step - loss: 0.6801 - accuracy: 0.7885\n",
      "Epoch 4/10\n",
      "77/77 [==============================] - 0s 1ms/step - loss: 0.4640 - accuracy: 0.8608\n",
      "Epoch 5/10\n",
      "77/77 [==============================] - 0s 1ms/step - loss: 0.3640 - accuracy: 0.8896\n",
      "Epoch 6/10\n",
      "77/77 [==============================] - 0s 1ms/step - loss: 0.3091 - accuracy: 0.8986\n",
      "Epoch 7/10\n",
      "77/77 [==============================] - 0s 1ms/step - loss: 0.2557 - accuracy: 0.9174\n",
      "Epoch 8/10\n",
      "77/77 [==============================] - 0s 2ms/step - loss: 0.2623 - accuracy: 0.9129\n",
      "Epoch 9/10\n",
      "77/77 [==============================] - 0s 2ms/step - loss: 0.2278 - accuracy: 0.9232\n",
      "Epoch 10/10\n",
      "77/77 [==============================] - 0s 1ms/step - loss: 0.2278 - accuracy: 0.9206\n",
      "20/20 [==============================] - 0s 997us/step - loss: 0.2254 - accuracy: 0.9229\n",
      "Epoch 1/10\n",
      "77/77 [==============================] - 1s 1ms/step - loss: 1.7326 - accuracy: 0.3711\n",
      "Epoch 2/10\n",
      "77/77 [==============================] - 0s 1ms/step - loss: 1.0361 - accuracy: 0.7372\n",
      "Epoch 3/10\n",
      "77/77 [==============================] - 0s 1ms/step - loss: 0.6019 - accuracy: 0.7758\n",
      "Epoch 4/10\n",
      "77/77 [==============================] - 0s 1ms/step - loss: 0.4393 - accuracy: 0.8190\n",
      "Epoch 5/10\n",
      "77/77 [==============================] - 0s 1ms/step - loss: 0.3667 - accuracy: 0.8668\n",
      "Epoch 6/10\n",
      "77/77 [==============================] - 0s 1ms/step - loss: 0.3149 - accuracy: 0.8910\n",
      "Epoch 7/10\n",
      "77/77 [==============================] - 0s 1ms/step - loss: 0.2679 - accuracy: 0.9048\n",
      "Epoch 8/10\n",
      "77/77 [==============================] - 0s 2ms/step - loss: 0.2558 - accuracy: 0.9101\n",
      "Epoch 9/10\n",
      "77/77 [==============================] - 0s 2ms/step - loss: 0.2342 - accuracy: 0.9156\n",
      "Epoch 10/10\n",
      "77/77 [==============================] - 0s 2ms/step - loss: 0.2257 - accuracy: 0.9193\n",
      "20/20 [==============================] - 0s 974us/step - loss: 0.2324 - accuracy: 0.9150\n",
      "Epoch 1/10\n",
      "77/77 [==============================] - 1s 1ms/step - loss: 1.7472 - accuracy: 0.2692\n",
      "Epoch 2/10\n",
      "77/77 [==============================] - 0s 1ms/step - loss: 0.9331 - accuracy: 0.6874\n",
      "Epoch 3/10\n",
      "77/77 [==============================] - 0s 1ms/step - loss: 0.5484 - accuracy: 0.8319\n",
      "Epoch 4/10\n",
      "77/77 [==============================] - 0s 1ms/step - loss: 0.3921 - accuracy: 0.8883\n",
      "Epoch 5/10\n",
      "77/77 [==============================] - 0s 1ms/step - loss: 0.2935 - accuracy: 0.9052\n",
      "Epoch 6/10\n",
      "77/77 [==============================] - 0s 1ms/step - loss: 0.2728 - accuracy: 0.9054\n",
      "Epoch 7/10\n",
      "77/77 [==============================] - 0s 1ms/step - loss: 0.2353 - accuracy: 0.9206\n",
      "Epoch 8/10\n",
      "77/77 [==============================] - 0s 1ms/step - loss: 0.2310 - accuracy: 0.9214\n",
      "Epoch 9/10\n",
      "77/77 [==============================] - 0s 2ms/step - loss: 0.2165 - accuracy: 0.9239\n",
      "Epoch 10/10\n",
      "77/77 [==============================] - 0s 1ms/step - loss: 0.2195 - accuracy: 0.9214\n",
      "20/20 [==============================] - 0s 997us/step - loss: 0.2277 - accuracy: 0.9244\n",
      "Epoch 1/10\n",
      "77/77 [==============================] - 1s 1ms/step - loss: 1.6296 - accuracy: 0.3710\n",
      "Epoch 2/10\n",
      "77/77 [==============================] - 0s 1ms/step - loss: 1.0150 - accuracy: 0.6851\n",
      "Epoch 3/10\n",
      "77/77 [==============================] - 0s 1ms/step - loss: 0.6767 - accuracy: 0.7701\n",
      "Epoch 4/10\n",
      "77/77 [==============================] - 0s 2ms/step - loss: 0.4712 - accuracy: 0.8471\n",
      "Epoch 5/10\n",
      "77/77 [==============================] - 0s 2ms/step - loss: 0.3802 - accuracy: 0.8750\n",
      "Epoch 6/10\n",
      "77/77 [==============================] - 0s 1ms/step - loss: 0.3144 - accuracy: 0.8926\n",
      "Epoch 7/10\n",
      "77/77 [==============================] - 0s 1ms/step - loss: 0.2830 - accuracy: 0.9030\n",
      "Epoch 8/10\n",
      "77/77 [==============================] - 0s 1ms/step - loss: 0.2548 - accuracy: 0.9089\n",
      "Epoch 9/10\n",
      "77/77 [==============================] - 0s 2ms/step - loss: 0.2427 - accuracy: 0.9194\n",
      "Epoch 10/10\n",
      "77/77 [==============================] - 0s 2ms/step - loss: 0.2352 - accuracy: 0.9173\n",
      "20/20 [==============================] - 1s 944us/step - loss: 0.2182 - accuracy: 0.9186\n",
      "Epoch 1/10\n",
      "77/77 [==============================] - 1s 1ms/step - loss: 1.8400 - accuracy: 0.2254\n",
      "Epoch 2/10\n",
      "77/77 [==============================] - 0s 1ms/step - loss: 0.9512 - accuracy: 0.7322\n",
      "Epoch 3/10\n",
      "77/77 [==============================] - 0s 1ms/step - loss: 0.5862 - accuracy: 0.8010\n",
      "Epoch 4/10\n",
      "77/77 [==============================] - 0s 1ms/step - loss: 0.4193 - accuracy: 0.8477\n",
      "Epoch 5/10\n",
      "77/77 [==============================] - 0s 1ms/step - loss: 0.3362 - accuracy: 0.8878\n",
      "Epoch 6/10\n",
      "77/77 [==============================] - 0s 1ms/step - loss: 0.3060 - accuracy: 0.8975\n",
      "Epoch 7/10\n",
      "77/77 [==============================] - 0s 1ms/step - loss: 0.2657 - accuracy: 0.9073\n",
      "Epoch 8/10\n",
      "77/77 [==============================] - 0s 1ms/step - loss: 0.2542 - accuracy: 0.9096\n",
      "Epoch 9/10\n",
      "77/77 [==============================] - 0s 1ms/step - loss: 0.2397 - accuracy: 0.9152\n",
      "Epoch 10/10\n",
      "77/77 [==============================] - 0s 2ms/step - loss: 0.2297 - accuracy: 0.9199\n",
      "20/20 [==============================] - 0s 1ms/step - loss: 0.2443 - accuracy: 0.9239\n",
      "Epoch 1/10\n",
      "77/77 [==============================] - 1s 1ms/step - loss: 1.7559 - accuracy: 0.3267\n",
      "Epoch 2/10\n",
      "77/77 [==============================] - 0s 2ms/step - loss: 1.0536 - accuracy: 0.6255\n",
      "Epoch 3/10\n",
      "77/77 [==============================] - 0s 2ms/step - loss: 0.5772 - accuracy: 0.8642\n",
      "Epoch 4/10\n",
      "77/77 [==============================] - 0s 2ms/step - loss: 0.4047 - accuracy: 0.8932\n",
      "Epoch 5/10\n",
      "77/77 [==============================] - 0s 2ms/step - loss: 0.3229 - accuracy: 0.9016\n",
      "Epoch 6/10\n",
      "77/77 [==============================] - 0s 1ms/step - loss: 0.2734 - accuracy: 0.9156\n",
      "Epoch 7/10\n",
      "77/77 [==============================] - 0s 2ms/step - loss: 0.2478 - accuracy: 0.9186\n",
      "Epoch 8/10\n",
      "77/77 [==============================] - 0s 1ms/step - loss: 0.2470 - accuracy: 0.9175\n",
      "Epoch 9/10\n",
      "77/77 [==============================] - 0s 2ms/step - loss: 0.2376 - accuracy: 0.9159\n",
      "Epoch 10/10\n",
      "77/77 [==============================] - 0s 2ms/step - loss: 0.2393 - accuracy: 0.9144\n",
      "20/20 [==============================] - 0s 990us/step - loss: 0.2218 - accuracy: 0.9260\n",
      "Epoch 1/10\n",
      "77/77 [==============================] - 1s 1ms/step - loss: 1.7357 - accuracy: 0.3303\n",
      "Epoch 2/10\n",
      "77/77 [==============================] - 0s 1ms/step - loss: 0.9527 - accuracy: 0.7552\n",
      "Epoch 3/10\n",
      "77/77 [==============================] - 0s 1ms/step - loss: 0.5409 - accuracy: 0.8558\n",
      "Epoch 4/10\n",
      "77/77 [==============================] - 0s 1ms/step - loss: 0.3773 - accuracy: 0.8999\n",
      "Epoch 5/10\n",
      "77/77 [==============================] - 0s 1ms/step - loss: 0.3214 - accuracy: 0.9010\n",
      "Epoch 6/10\n",
      "77/77 [==============================] - 0s 1ms/step - loss: 0.2780 - accuracy: 0.9137\n",
      "Epoch 7/10\n",
      "77/77 [==============================] - 0s 1ms/step - loss: 0.2463 - accuracy: 0.9145\n",
      "Epoch 8/10\n",
      "77/77 [==============================] - 0s 1ms/step - loss: 0.2372 - accuracy: 0.9215\n",
      "Epoch 9/10\n",
      "77/77 [==============================] - 0s 1ms/step - loss: 0.2297 - accuracy: 0.9199\n",
      "Epoch 10/10\n",
      "77/77 [==============================] - 0s 2ms/step - loss: 0.2455 - accuracy: 0.9181\n",
      "20/20 [==============================] - 0s 947us/step - loss: 0.2365 - accuracy: 0.9161\n",
      "Epoch 1/10\n",
      "77/77 [==============================] - 1s 1ms/step - loss: 1.6730 - accuracy: 0.3435\n",
      "Epoch 2/10\n",
      "77/77 [==============================] - 0s 1ms/step - loss: 1.0167 - accuracy: 0.6975\n",
      "Epoch 3/10\n",
      "77/77 [==============================] - 0s 1ms/step - loss: 0.6576 - accuracy: 0.8160\n",
      "Epoch 4/10\n",
      "77/77 [==============================] - 0s 1ms/step - loss: 0.4411 - accuracy: 0.8899\n",
      "Epoch 5/10\n",
      "77/77 [==============================] - 0s 1ms/step - loss: 0.3255 - accuracy: 0.9091\n",
      "Epoch 6/10\n",
      "77/77 [==============================] - 0s 1ms/step - loss: 0.2831 - accuracy: 0.9134\n",
      "Epoch 7/10\n",
      "77/77 [==============================] - 0s 1ms/step - loss: 0.2615 - accuracy: 0.9171\n",
      "Epoch 8/10\n",
      "77/77 [==============================] - 0s 2ms/step - loss: 0.2386 - accuracy: 0.9231\n",
      "Epoch 9/10\n",
      "77/77 [==============================] - 0s 1ms/step - loss: 0.2245 - accuracy: 0.9236\n",
      "Epoch 10/10\n",
      "77/77 [==============================] - 0s 1ms/step - loss: 0.2434 - accuracy: 0.9170\n",
      "20/20 [==============================] - 0s 1ms/step - loss: 0.2263 - accuracy: 0.9260\n",
      "Epoch 1/10\n",
      "77/77 [==============================] - 1s 1ms/step - loss: 1.8581 - accuracy: 0.2322\n",
      "Epoch 2/10\n",
      "77/77 [==============================] - 0s 1ms/step - loss: 1.1536 - accuracy: 0.5988\n",
      "Epoch 3/10\n",
      "77/77 [==============================] - 0s 1ms/step - loss: 0.7508 - accuracy: 0.7804\n",
      "Epoch 4/10\n",
      "77/77 [==============================] - 0s 1ms/step - loss: 0.5472 - accuracy: 0.8336\n",
      "Epoch 5/10\n",
      "77/77 [==============================] - 0s 1ms/step - loss: 0.4421 - accuracy: 0.8642\n",
      "Epoch 6/10\n",
      "77/77 [==============================] - 0s 1ms/step - loss: 0.3740 - accuracy: 0.8860\n",
      "Epoch 7/10\n",
      "77/77 [==============================] - 0s 1ms/step - loss: 0.3292 - accuracy: 0.8985\n",
      "Epoch 8/10\n",
      "77/77 [==============================] - 0s 2ms/step - loss: 0.3036 - accuracy: 0.9054\n",
      "Epoch 9/10\n",
      "77/77 [==============================] - 0s 1ms/step - loss: 0.2904 - accuracy: 0.9062\n",
      "Epoch 10/10\n",
      "77/77 [==============================] - 0s 1ms/step - loss: 0.2691 - accuracy: 0.9127\n",
      "20/20 [==============================] - 0s 944us/step - loss: 0.2435 - accuracy: 0.9144\n",
      "Epoch 1/10\n",
      "77/77 [==============================] - 1s 1ms/step - loss: 1.9524 - accuracy: 0.2204\n",
      "Epoch 2/10\n",
      "77/77 [==============================] - 0s 1ms/step - loss: 1.1738 - accuracy: 0.5515\n",
      "Epoch 3/10\n",
      "77/77 [==============================] - 0s 1ms/step - loss: 0.8076 - accuracy: 0.7057\n",
      "Epoch 4/10\n",
      "77/77 [==============================] - 0s 1ms/step - loss: 0.5786 - accuracy: 0.8188\n",
      "Epoch 5/10\n",
      "77/77 [==============================] - 0s 1ms/step - loss: 0.4269 - accuracy: 0.8638\n",
      "Epoch 6/10\n",
      "77/77 [==============================] - 0s 1ms/step - loss: 0.3639 - accuracy: 0.8930\n",
      "Epoch 7/10\n",
      "77/77 [==============================] - 0s 1ms/step - loss: 0.3092 - accuracy: 0.9052\n",
      "Epoch 8/10\n",
      "77/77 [==============================] - 0s 1ms/step - loss: 0.2732 - accuracy: 0.9101\n",
      "Epoch 9/10\n",
      "77/77 [==============================] - 0s 1ms/step - loss: 0.2575 - accuracy: 0.9153\n",
      "Epoch 10/10\n",
      "77/77 [==============================] - 0s 1ms/step - loss: 0.2415 - accuracy: 0.9192\n",
      "20/20 [==============================] - 1s 892us/step - loss: 0.2513 - accuracy: 0.9197\n",
      "Epoch 1/15\n",
      "77/77 [==============================] - 1s 1ms/step - loss: 1.8599 - accuracy: 0.2570\n",
      "Epoch 2/15\n",
      "77/77 [==============================] - 0s 1ms/step - loss: 1.1238 - accuracy: 0.6901\n",
      "Epoch 3/15\n",
      "77/77 [==============================] - 0s 1ms/step - loss: 0.7178 - accuracy: 0.7920\n",
      "Epoch 4/15\n",
      "77/77 [==============================] - 0s 1ms/step - loss: 0.4759 - accuracy: 0.8694\n",
      "Epoch 5/15\n",
      "77/77 [==============================] - 0s 1ms/step - loss: 0.3539 - accuracy: 0.8982\n",
      "Epoch 6/15\n",
      "77/77 [==============================] - 0s 1ms/step - loss: 0.2969 - accuracy: 0.9062\n",
      "Epoch 7/15\n",
      "77/77 [==============================] - 0s 1ms/step - loss: 0.2574 - accuracy: 0.9174\n",
      "Epoch 8/15\n",
      "77/77 [==============================] - 0s 2ms/step - loss: 0.2459 - accuracy: 0.9171\n",
      "Epoch 9/15\n",
      "77/77 [==============================] - 0s 1ms/step - loss: 0.2377 - accuracy: 0.9162\n",
      "Epoch 10/15\n",
      "77/77 [==============================] - 0s 2ms/step - loss: 0.2186 - accuracy: 0.9207\n",
      "Epoch 11/15\n",
      "77/77 [==============================] - 0s 2ms/step - loss: 0.2233 - accuracy: 0.9193\n",
      "Epoch 12/15\n",
      "77/77 [==============================] - 0s 2ms/step - loss: 0.2162 - accuracy: 0.9207\n",
      "Epoch 13/15\n",
      "77/77 [==============================] - 0s 2ms/step - loss: 0.2166 - accuracy: 0.9187\n",
      "Epoch 14/15\n",
      "77/77 [==============================] - 0s 2ms/step - loss: 0.2147 - accuracy: 0.9220\n",
      "Epoch 15/15\n",
      "77/77 [==============================] - 0s 1ms/step - loss: 0.2090 - accuracy: 0.9236\n",
      "20/20 [==============================] - 0s 997us/step - loss: 0.2038 - accuracy: 0.9234\n",
      "Epoch 1/15\n",
      "77/77 [==============================] - 1s 1ms/step - loss: 1.7806 - accuracy: 0.2802\n",
      "Epoch 2/15\n",
      "77/77 [==============================] - 0s 1ms/step - loss: 1.0734 - accuracy: 0.6955\n",
      "Epoch 3/15\n",
      "77/77 [==============================] - 0s 1ms/step - loss: 0.6360 - accuracy: 0.8272\n",
      "Epoch 4/15\n",
      "77/77 [==============================] - 0s 3ms/step - loss: 0.4237 - accuracy: 0.8739\n",
      "Epoch 5/15\n",
      "77/77 [==============================] - 0s 2ms/step - loss: 0.3395 - accuracy: 0.8868\n",
      "Epoch 6/15\n",
      "77/77 [==============================] - 0s 2ms/step - loss: 0.2861 - accuracy: 0.9004\n",
      "Epoch 7/15\n",
      "77/77 [==============================] - 0s 2ms/step - loss: 0.2692 - accuracy: 0.9038\n",
      "Epoch 8/15\n",
      "77/77 [==============================] - 0s 1ms/step - loss: 0.2587 - accuracy: 0.9084\n",
      "Epoch 9/15\n",
      "77/77 [==============================] - 0s 2ms/step - loss: 0.2404 - accuracy: 0.9149\n",
      "Epoch 10/15\n",
      "77/77 [==============================] - 0s 1ms/step - loss: 0.2320 - accuracy: 0.9213\n",
      "Epoch 11/15\n",
      "77/77 [==============================] - 0s 2ms/step - loss: 0.2167 - accuracy: 0.9241\n",
      "Epoch 12/15\n",
      "77/77 [==============================] - 0s 1ms/step - loss: 0.2159 - accuracy: 0.9214\n",
      "Epoch 13/15\n",
      "77/77 [==============================] - 0s 2ms/step - loss: 0.2182 - accuracy: 0.9205\n",
      "Epoch 14/15\n",
      "77/77 [==============================] - 0s 2ms/step - loss: 0.2011 - accuracy: 0.9280\n",
      "Epoch 15/15\n",
      "77/77 [==============================] - 0s 2ms/step - loss: 0.2170 - accuracy: 0.9240\n",
      "20/20 [==============================] - 0s 1ms/step - loss: 0.2359 - accuracy: 0.9161\n",
      "Epoch 1/15\n",
      "77/77 [==============================] - 1s 1ms/step - loss: 1.8966 - accuracy: 0.2086\n",
      "Epoch 2/15\n",
      "77/77 [==============================] - 0s 1ms/step - loss: 1.2359 - accuracy: 0.6545\n",
      "Epoch 3/15\n",
      "77/77 [==============================] - 0s 1ms/step - loss: 0.7240 - accuracy: 0.7745\n",
      "Epoch 4/15\n",
      "77/77 [==============================] - 0s 1ms/step - loss: 0.5105 - accuracy: 0.8429\n",
      "Epoch 5/15\n",
      "77/77 [==============================] - 0s 1ms/step - loss: 0.3853 - accuracy: 0.8778\n",
      "Epoch 6/15\n",
      "77/77 [==============================] - 0s 1ms/step - loss: 0.3267 - accuracy: 0.8991\n",
      "Epoch 7/15\n",
      "77/77 [==============================] - 0s 1ms/step - loss: 0.2912 - accuracy: 0.9029\n",
      "Epoch 8/15\n",
      "77/77 [==============================] - 0s 1ms/step - loss: 0.2550 - accuracy: 0.9161\n",
      "Epoch 9/15\n",
      "77/77 [==============================] - 0s 1ms/step - loss: 0.2560 - accuracy: 0.9134\n",
      "Epoch 10/15\n",
      "77/77 [==============================] - 0s 2ms/step - loss: 0.2215 - accuracy: 0.9236\n",
      "Epoch 11/15\n",
      "77/77 [==============================] - 0s 1ms/step - loss: 0.2236 - accuracy: 0.9216\n",
      "Epoch 12/15\n",
      "77/77 [==============================] - 0s 2ms/step - loss: 0.2172 - accuracy: 0.9229\n",
      "Epoch 13/15\n",
      "77/77 [==============================] - 0s 1ms/step - loss: 0.2105 - accuracy: 0.9234\n",
      "Epoch 14/15\n",
      "77/77 [==============================] - 0s 2ms/step - loss: 0.2195 - accuracy: 0.9235\n",
      "Epoch 15/15\n",
      "77/77 [==============================] - 0s 2ms/step - loss: 0.2086 - accuracy: 0.9204\n",
      "20/20 [==============================] - 0s 944us/step - loss: 0.2158 - accuracy: 0.9276\n",
      "Epoch 1/15\n",
      "77/77 [==============================] - 1s 1ms/step - loss: 1.7203 - accuracy: 0.3592\n",
      "Epoch 2/15\n",
      "77/77 [==============================] - 0s 1ms/step - loss: 0.9854 - accuracy: 0.6837\n",
      "Epoch 3/15\n",
      "77/77 [==============================] - 0s 1ms/step - loss: 0.6266 - accuracy: 0.8282\n",
      "Epoch 4/15\n",
      "77/77 [==============================] - 0s 1ms/step - loss: 0.4473 - accuracy: 0.8753\n",
      "Epoch 5/15\n",
      "77/77 [==============================] - 0s 1ms/step - loss: 0.3614 - accuracy: 0.8927\n",
      "Epoch 6/15\n",
      "77/77 [==============================] - 0s 1ms/step - loss: 0.3106 - accuracy: 0.9039\n",
      "Epoch 7/15\n",
      "77/77 [==============================] - 0s 1ms/step - loss: 0.2936 - accuracy: 0.9063\n",
      "Epoch 8/15\n",
      "77/77 [==============================] - 0s 1ms/step - loss: 0.2745 - accuracy: 0.9089\n",
      "Epoch 9/15\n",
      "77/77 [==============================] - 0s 1ms/step - loss: 0.2514 - accuracy: 0.9178\n",
      "Epoch 10/15\n",
      "77/77 [==============================] - 0s 2ms/step - loss: 0.2475 - accuracy: 0.9063\n",
      "Epoch 11/15\n",
      "77/77 [==============================] - 0s 2ms/step - loss: 0.2373 - accuracy: 0.9177\n",
      "Epoch 12/15\n",
      "77/77 [==============================] - 0s 2ms/step - loss: 0.2363 - accuracy: 0.9190\n",
      "Epoch 13/15\n",
      "77/77 [==============================] - 0s 2ms/step - loss: 0.2426 - accuracy: 0.9118\n",
      "Epoch 14/15\n",
      "77/77 [==============================] - 0s 1ms/step - loss: 0.2240 - accuracy: 0.9279\n",
      "Epoch 15/15\n",
      "77/77 [==============================] - 0s 2ms/step - loss: 0.2237 - accuracy: 0.9211\n",
      "20/20 [==============================] - 0s 997us/step - loss: 0.2057 - accuracy: 0.9202\n",
      "Epoch 1/15\n",
      "77/77 [==============================] - 1s 1ms/step - loss: 1.7081 - accuracy: 0.3170\n",
      "Epoch 2/15\n",
      "77/77 [==============================] - 0s 1ms/step - loss: 1.0389 - accuracy: 0.6566\n",
      "Epoch 3/15\n",
      "77/77 [==============================] - 0s 1ms/step - loss: 0.6645 - accuracy: 0.8108\n",
      "Epoch 4/15\n",
      "77/77 [==============================] - 0s 1ms/step - loss: 0.4554 - accuracy: 0.8712\n",
      "Epoch 5/15\n",
      "77/77 [==============================] - 0s 1ms/step - loss: 0.3487 - accuracy: 0.8973\n",
      "Epoch 6/15\n",
      "77/77 [==============================] - 0s 1ms/step - loss: 0.3015 - accuracy: 0.9061\n",
      "Epoch 7/15\n",
      "77/77 [==============================] - 0s 1ms/step - loss: 0.2716 - accuracy: 0.9079\n",
      "Epoch 8/15\n",
      "77/77 [==============================] - 0s 1ms/step - loss: 0.2406 - accuracy: 0.9174\n",
      "Epoch 9/15\n",
      "77/77 [==============================] - 0s 1ms/step - loss: 0.2345 - accuracy: 0.9165\n",
      "Epoch 10/15\n",
      "77/77 [==============================] - 0s 1ms/step - loss: 0.2290 - accuracy: 0.9161\n",
      "Epoch 11/15\n",
      "77/77 [==============================] - 0s 1ms/step - loss: 0.2202 - accuracy: 0.9202\n",
      "Epoch 12/15\n",
      "77/77 [==============================] - 0s 2ms/step - loss: 0.2197 - accuracy: 0.9196\n",
      "Epoch 13/15\n",
      "77/77 [==============================] - 0s 2ms/step - loss: 0.2138 - accuracy: 0.9168\n",
      "Epoch 14/15\n",
      "77/77 [==============================] - 0s 1ms/step - loss: 0.2161 - accuracy: 0.9182\n",
      "Epoch 15/15\n",
      "77/77 [==============================] - 0s 2ms/step - loss: 0.1958 - accuracy: 0.9231\n",
      "20/20 [==============================] - 1s 896us/step - loss: 0.2348 - accuracy: 0.9234\n",
      "Epoch 1/15\n",
      "77/77 [==============================] - 1s 1ms/step - loss: 1.8390 - accuracy: 0.2557\n",
      "Epoch 2/15\n",
      "77/77 [==============================] - 0s 1ms/step - loss: 1.1039 - accuracy: 0.6819\n",
      "Epoch 3/15\n",
      "77/77 [==============================] - 0s 1ms/step - loss: 0.6558 - accuracy: 0.8233\n",
      "Epoch 4/15\n",
      "77/77 [==============================] - 0s 1ms/step - loss: 0.4432 - accuracy: 0.8760\n",
      "Epoch 5/15\n",
      "77/77 [==============================] - 0s 1ms/step - loss: 0.3462 - accuracy: 0.8966\n",
      "Epoch 6/15\n",
      "77/77 [==============================] - 0s 1ms/step - loss: 0.2840 - accuracy: 0.9115\n",
      "Epoch 7/15\n",
      "77/77 [==============================] - 0s 1ms/step - loss: 0.2625 - accuracy: 0.9146\n",
      "Epoch 8/15\n",
      "77/77 [==============================] - 0s 1ms/step - loss: 0.2571 - accuracy: 0.9113\n",
      "Epoch 9/15\n",
      "77/77 [==============================] - 0s 1ms/step - loss: 0.2301 - accuracy: 0.9209\n",
      "Epoch 10/15\n",
      "77/77 [==============================] - 0s 1ms/step - loss: 0.2120 - accuracy: 0.9265\n",
      "Epoch 11/15\n",
      "77/77 [==============================] - 0s 1ms/step - loss: 0.2196 - accuracy: 0.9206\n",
      "Epoch 12/15\n",
      "77/77 [==============================] - 0s 2ms/step - loss: 0.2127 - accuracy: 0.9250\n",
      "Epoch 13/15\n",
      "77/77 [==============================] - 0s 2ms/step - loss: 0.2066 - accuracy: 0.9258\n",
      "Epoch 14/15\n",
      "77/77 [==============================] - 0s 1ms/step - loss: 0.2202 - accuracy: 0.9207\n",
      "Epoch 15/15\n",
      "77/77 [==============================] - 0s 1ms/step - loss: 0.2081 - accuracy: 0.9249\n",
      "20/20 [==============================] - 0s 1ms/step - loss: 0.2047 - accuracy: 0.9281\n",
      "Epoch 1/15\n",
      "77/77 [==============================] - 1s 979us/step - loss: 1.7525 - accuracy: 0.3704\n",
      "Epoch 2/15\n",
      "77/77 [==============================] - 0s 1ms/step - loss: 1.0596 - accuracy: 0.6229\n",
      "Epoch 3/15\n",
      "77/77 [==============================] - 0s 1ms/step - loss: 0.6478 - accuracy: 0.8314\n",
      "Epoch 4/15\n",
      "77/77 [==============================] - 0s 1ms/step - loss: 0.4335 - accuracy: 0.8812\n",
      "Epoch 5/15\n",
      "77/77 [==============================] - 0s 1ms/step - loss: 0.3310 - accuracy: 0.9051\n",
      "Epoch 6/15\n",
      "77/77 [==============================] - 0s 1ms/step - loss: 0.2806 - accuracy: 0.9132\n",
      "Epoch 7/15\n",
      "77/77 [==============================] - 0s 2ms/step - loss: 0.2413 - accuracy: 0.9239\n",
      "Epoch 8/15\n",
      "77/77 [==============================] - 0s 1ms/step - loss: 0.2319 - accuracy: 0.9206\n",
      "Epoch 9/15\n",
      "77/77 [==============================] - 0s 1ms/step - loss: 0.2327 - accuracy: 0.9192\n",
      "Epoch 10/15\n",
      "77/77 [==============================] - 0s 1ms/step - loss: 0.2216 - accuracy: 0.9222\n",
      "Epoch 11/15\n",
      "77/77 [==============================] - 0s 1ms/step - loss: 0.2174 - accuracy: 0.9244\n",
      "Epoch 12/15\n",
      "77/77 [==============================] - 0s 1ms/step - loss: 0.2216 - accuracy: 0.9190\n",
      "Epoch 13/15\n",
      "77/77 [==============================] - 0s 1ms/step - loss: 0.2054 - accuracy: 0.9261\n",
      "Epoch 14/15\n",
      "77/77 [==============================] - 0s 1ms/step - loss: 0.2001 - accuracy: 0.9260\n",
      "Epoch 15/15\n",
      "77/77 [==============================] - 0s 1ms/step - loss: 0.2047 - accuracy: 0.9253\n",
      "20/20 [==============================] - 0s 1ms/step - loss: 0.2229 - accuracy: 0.9176\n",
      "Epoch 1/15\n",
      "77/77 [==============================] - 1s 1ms/step - loss: 1.7246 - accuracy: 0.3836\n",
      "Epoch 2/15\n",
      "77/77 [==============================] - 0s 1ms/step - loss: 1.1522 - accuracy: 0.6135\n",
      "Epoch 3/15\n",
      "77/77 [==============================] - 0s 1ms/step - loss: 0.7977 - accuracy: 0.7948\n",
      "Epoch 4/15\n",
      "77/77 [==============================] - 0s 1ms/step - loss: 0.5097 - accuracy: 0.8734\n",
      "Epoch 5/15\n",
      "77/77 [==============================] - 0s 2ms/step - loss: 0.3460 - accuracy: 0.9030\n",
      "Epoch 6/15\n",
      "77/77 [==============================] - 0s 2ms/step - loss: 0.2924 - accuracy: 0.9080\n",
      "Epoch 7/15\n",
      "77/77 [==============================] - 0s 2ms/step - loss: 0.2418 - accuracy: 0.9216\n",
      "Epoch 8/15\n",
      "77/77 [==============================] - 0s 2ms/step - loss: 0.2293 - accuracy: 0.9249\n",
      "Epoch 9/15\n",
      "77/77 [==============================] - 0s 2ms/step - loss: 0.2276 - accuracy: 0.9207\n",
      "Epoch 10/15\n",
      "77/77 [==============================] - 0s 2ms/step - loss: 0.2163 - accuracy: 0.9238\n",
      "Epoch 11/15\n",
      "77/77 [==============================] - 0s 2ms/step - loss: 0.2195 - accuracy: 0.9227\n",
      "Epoch 12/15\n",
      "77/77 [==============================] - 0s 2ms/step - loss: 0.2106 - accuracy: 0.9238\n",
      "Epoch 13/15\n",
      "77/77 [==============================] - 0s 2ms/step - loss: 0.2064 - accuracy: 0.9275\n",
      "Epoch 14/15\n",
      "77/77 [==============================] - 0s 2ms/step - loss: 0.2119 - accuracy: 0.9241\n",
      "Epoch 15/15\n",
      "77/77 [==============================] - 0s 2ms/step - loss: 0.2036 - accuracy: 0.9223\n",
      "20/20 [==============================] - 0s 1ms/step - loss: 0.2071 - accuracy: 0.9249\n",
      "Epoch 1/15\n",
      "77/77 [==============================] - 1s 1ms/step - loss: 1.7473 - accuracy: 0.2999\n",
      "Epoch 2/15\n",
      "77/77 [==============================] - 0s 1ms/step - loss: 1.1046 - accuracy: 0.5913\n",
      "Epoch 3/15\n",
      "77/77 [==============================] - 0s 1ms/step - loss: 0.8141 - accuracy: 0.6884\n",
      "Epoch 4/15\n",
      "77/77 [==============================] - 0s 1ms/step - loss: 0.6050 - accuracy: 0.7980\n",
      "Epoch 5/15\n",
      "77/77 [==============================] - 0s 1ms/step - loss: 0.4824 - accuracy: 0.8460\n",
      "Epoch 6/15\n",
      "77/77 [==============================] - 0s 1ms/step - loss: 0.3792 - accuracy: 0.8872\n",
      "Epoch 7/15\n",
      "77/77 [==============================] - 0s 1ms/step - loss: 0.3162 - accuracy: 0.9001\n",
      "Epoch 8/15\n",
      "77/77 [==============================] - 0s 1ms/step - loss: 0.2784 - accuracy: 0.9102\n",
      "Epoch 9/15\n",
      "77/77 [==============================] - 0s 1ms/step - loss: 0.2556 - accuracy: 0.9112\n",
      "Epoch 10/15\n",
      "77/77 [==============================] - 0s 1ms/step - loss: 0.2367 - accuracy: 0.9200\n",
      "Epoch 11/15\n",
      "77/77 [==============================] - 0s 1ms/step - loss: 0.2317 - accuracy: 0.9224\n",
      "Epoch 12/15\n",
      "77/77 [==============================] - 0s 1ms/step - loss: 0.2244 - accuracy: 0.9244\n",
      "Epoch 13/15\n",
      "77/77 [==============================] - 0s 1ms/step - loss: 0.2259 - accuracy: 0.9249\n",
      "Epoch 14/15\n",
      "77/77 [==============================] - 0s 1ms/step - loss: 0.2183 - accuracy: 0.9254\n",
      "Epoch 15/15\n",
      "77/77 [==============================] - 0s 1ms/step - loss: 0.2131 - accuracy: 0.9249\n",
      "20/20 [==============================] - 0s 892us/step - loss: 0.2098 - accuracy: 0.9186\n",
      "Epoch 1/15\n",
      "77/77 [==============================] - 1s 1ms/step - loss: 1.9084 - accuracy: 0.2445\n",
      "Epoch 2/15\n",
      "77/77 [==============================] - 0s 1ms/step - loss: 1.2512 - accuracy: 0.6198\n",
      "Epoch 3/15\n",
      "77/77 [==============================] - 0s 1ms/step - loss: 0.7438 - accuracy: 0.7577\n",
      "Epoch 4/15\n",
      "77/77 [==============================] - 0s 1ms/step - loss: 0.4999 - accuracy: 0.8398\n",
      "Epoch 5/15\n",
      "77/77 [==============================] - 0s 2ms/step - loss: 0.3840 - accuracy: 0.8811\n",
      "Epoch 6/15\n",
      "77/77 [==============================] - 0s 1ms/step - loss: 0.3204 - accuracy: 0.8968\n",
      "Epoch 7/15\n",
      "77/77 [==============================] - 0s 1ms/step - loss: 0.2846 - accuracy: 0.9025\n",
      "Epoch 8/15\n",
      "77/77 [==============================] - 0s 1ms/step - loss: 0.2567 - accuracy: 0.9108\n",
      "Epoch 9/15\n",
      "77/77 [==============================] - 0s 1ms/step - loss: 0.2374 - accuracy: 0.9214\n",
      "Epoch 10/15\n",
      "77/77 [==============================] - 0s 1ms/step - loss: 0.2200 - accuracy: 0.9218\n",
      "Epoch 11/15\n",
      "77/77 [==============================] - 0s 1ms/step - loss: 0.2070 - accuracy: 0.9260\n",
      "Epoch 12/15\n",
      "77/77 [==============================] - 0s 1ms/step - loss: 0.2166 - accuracy: 0.9184\n",
      "Epoch 13/15\n",
      "77/77 [==============================] - 0s 2ms/step - loss: 0.1999 - accuracy: 0.9283\n",
      "Epoch 14/15\n",
      "77/77 [==============================] - 0s 1ms/step - loss: 0.2152 - accuracy: 0.9164\n",
      "Epoch 15/15\n",
      "77/77 [==============================] - 0s 1ms/step - loss: 0.2008 - accuracy: 0.9251\n",
      "20/20 [==============================] - 0s 997us/step - loss: 0.2247 - accuracy: 0.9213\n",
      "Epoch 1/15\n",
      "1906/1906 [==============================] - 3s 1ms/step - loss: 0.8388 - accuracy: 0.7439\n",
      "Epoch 2/15\n",
      "1906/1906 [==============================] - 2s 1ms/step - loss: 0.2203 - accuracy: 0.9230\n",
      "Epoch 3/15\n",
      "1906/1906 [==============================] - 2s 1ms/step - loss: 0.2094 - accuracy: 0.9242\n",
      "Epoch 4/15\n",
      "1906/1906 [==============================] - 3s 2ms/step - loss: 0.2071 - accuracy: 0.9236\n",
      "Epoch 5/15\n",
      "1906/1906 [==============================] - 3s 1ms/step - loss: 0.2045 - accuracy: 0.9224\n",
      "Epoch 6/15\n",
      "1906/1906 [==============================] - 2s 1ms/step - loss: 0.1940 - accuracy: 0.9269\n",
      "Epoch 7/15\n",
      "1906/1906 [==============================] - 2s 1ms/step - loss: 0.2073 - accuracy: 0.9262\n",
      "Epoch 8/15\n",
      "1906/1906 [==============================] - 2s 1ms/step - loss: 0.1970 - accuracy: 0.9316\n",
      "Epoch 9/15\n",
      "1906/1906 [==============================] - 2s 1ms/step - loss: 0.1952 - accuracy: 0.9247\n",
      "Epoch 10/15\n",
      "1906/1906 [==============================] - 3s 1ms/step - loss: 0.2042 - accuracy: 0.9244\n",
      "Epoch 11/15\n",
      "1906/1906 [==============================] - 3s 1ms/step - loss: 0.1905 - accuracy: 0.9332\n",
      "Epoch 12/15\n",
      "1906/1906 [==============================] - 3s 1ms/step - loss: 0.1997 - accuracy: 0.9250\n",
      "Epoch 13/15\n",
      "1906/1906 [==============================] - 2s 1ms/step - loss: 0.1787 - accuracy: 0.9332: 0s - loss:\n",
      "Epoch 14/15\n",
      "1906/1906 [==============================] - 3s 2ms/step - loss: 0.1808 - accuracy: 0.9344\n",
      "Epoch 15/15\n",
      "1906/1906 [==============================] - 2s 1ms/step - loss: 0.1846 - accuracy: 0.9315\n",
      "Wall time: 14min 25s\n"
     ]
    }
   ],
   "source": [
    "%%time \n",
    "# Fit grid search\n",
    "grid_result = grid.fit(X_train, cat_y_train)"
   ]
  },
  {
   "cell_type": "markdown",
   "id": "6360c828-4663-4b87-8633-cade0b5b5a79",
   "metadata": {},
   "source": [
    "grid_result"
   ]
  },
  {
   "cell_type": "code",
   "execution_count": null,
   "id": "9fb9e8f5-047f-4b1d-bdb6-93bb253372c2",
   "metadata": {},
   "outputs": [],
   "source": []
  },
  {
   "cell_type": "code",
   "execution_count": 256,
   "id": "f565c89f-536a-430c-9903-b7e591af240c",
   "metadata": {},
   "outputs": [
    {
     "data": {
      "text/plain": [
       "{'batch_size': 5, 'epochs': 15, 'optimizer': 'adam'}"
      ]
     },
     "execution_count": 256,
     "metadata": {},
     "output_type": "execute_result"
    }
   ],
   "source": [
    "# View hyperparameters of best neural network\n",
    "grid_result.best_params_"
   ]
  },
  {
   "cell_type": "code",
   "execution_count": null,
   "id": "f3ef2e93-902e-4776-a57c-7089077cb585",
   "metadata": {},
   "outputs": [],
   "source": []
  }
 ],
 "metadata": {
  "kernelspec": {
   "display_name": "Python 3",
   "language": "python",
   "name": "python3"
  },
  "language_info": {
   "codemirror_mode": {
    "name": "ipython",
    "version": 3
   },
   "file_extension": ".py",
   "mimetype": "text/x-python",
   "name": "python",
   "nbconvert_exporter": "python",
   "pygments_lexer": "ipython3",
   "version": "3.8.8"
  }
 },
 "nbformat": 4,
 "nbformat_minor": 5
}
