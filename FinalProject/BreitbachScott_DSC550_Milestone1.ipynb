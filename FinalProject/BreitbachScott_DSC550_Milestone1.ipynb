{
 "cells": [
  {
   "cell_type": "markdown",
   "metadata": {},
   "source": [
    "## 1) Begin Milestone 1 with a 250-500-word narrative describing an original idea for an analysis/model building business problem. "
   ]
  },
  {
   "cell_type": "markdown",
   "metadata": {},
   "source": [
    "I work in Research & Development for a company that makes animal vaccines. My job is, in part, to scale up the process from benchtop / lab scale to full production / manufacturing scale. For the past few years, I have been working on a particular microorganism that has proved to be finicky and not always predictable and, while they can be overlapped, each batch takes about 2 months, start to finish.   \n",
    "\n",
    "Through a series of setbacks, I have now produced 12 batches between 2019 and I would like to see if I can find any insights in my data that might be helpful in maximizing the final yield, as quantified by ELISA testing for the target antigen.   \n",
    "\n",
    "The scale up initially involves roller bottles and flasks in the clean lab, then goes through several vessels, ultimately finishing in a 1000 liter SUB (single-use bioreactor). The majority of my data comes from sampling the vessels at different timepoints, usually more spaced out early in each vessel, then daily as we hit log-phase growth and get ready to transfer to the next vessel. Because sampling isn’t always daily, there are a lot of days that we will have missing data.   \n",
    "\n",
    "In addition to optimizing yield, there is another issue we’re trying to solve in that we currently use a piece of analytical equipment (MPbio_TotCt in the data) which correlates nicely with our ELISA results, which is helpful in determining when to harvest our final vessel. This equipment is no longer supported by the vendor and so we need to find a replacement. For several of these recent runs, we have been pulling additional samples to try out different analytical methods and equipment that correlates, hopefully with the old equipment, and preferably with the ELISA results.   \n",
    "\n",
    "I should also note that we do pull in-process samples from our final vessel for ELISA testing, but the ELISA is a longer (overnight) test and we need a much faster method for in-process testing. For reference, the analytical equipment we are replacing could provide a result in just a couple of hours."
   ]
  },
  {
   "cell_type": "markdown",
   "metadata": {},
   "source": [
    "## 2) Then, do a graphical analysis creating a minimum of four graphs.\n",
    "Label your graphs appropriately and explain/analyze the information provided by each graph. Keep in mind that your analysis may look very different from the Titanic tutorial graphical analysis."
   ]
  },
  {
   "cell_type": "markdown",
   "metadata": {},
   "source": [
    "### Load and clean up the data"
   ]
  },
  {
   "cell_type": "code",
   "execution_count": 1,
   "metadata": {},
   "outputs": [],
   "source": [
    "# Load libraries\n",
    "import pandas as pd\n",
    "import matplotlib.pyplot as plt\n",
    "import numpy as np"
   ]
  },
  {
   "cell_type": "code",
   "execution_count": 2,
   "metadata": {},
   "outputs": [],
   "source": [
    "# Load data to a DataFrame\n",
    "vessel_data = pd.read_excel('Compiled_Lawsonia.xlsx')"
   ]
  },
  {
   "cell_type": "code",
   "execution_count": 3,
   "metadata": {},
   "outputs": [
    {
     "name": "stdout",
     "output_type": "stream",
     "text": [
      "The table is 465 rows x 39 columns.\n"
     ]
    }
   ],
   "source": [
    "# Check the dimensions of the table\n",
    "print(f\"The table is {vessel_data.shape[0]} rows x {vessel_data.shape[1]} columns.\")"
   ]
  },
  {
   "cell_type": "code",
   "execution_count": 4,
   "metadata": {},
   "outputs": [
    {
     "data": {
      "text/html": [
       "<div>\n",
       "<style scoped>\n",
       "    .dataframe tbody tr th:only-of-type {\n",
       "        vertical-align: middle;\n",
       "    }\n",
       "\n",
       "    .dataframe tbody tr th {\n",
       "        vertical-align: top;\n",
       "    }\n",
       "\n",
       "    .dataframe thead th {\n",
       "        text-align: right;\n",
       "    }\n",
       "</style>\n",
       "<table border=\"1\" class=\"dataframe\">\n",
       "  <thead>\n",
       "    <tr style=\"text-align: right;\">\n",
       "      <th></th>\n",
       "      <th>Batch</th>\n",
       "      <th>Vessel</th>\n",
       "      <th>DPI</th>\n",
       "      <th>Date</th>\n",
       "      <th>Time</th>\n",
       "      <th>Temp_C</th>\n",
       "      <th>Agitation</th>\n",
       "      <th>DO_pct</th>\n",
       "      <th>pH_online</th>\n",
       "      <th>pH_offline</th>\n",
       "      <th>...</th>\n",
       "      <th>Micro_Comments</th>\n",
       "      <th>Intra_Code</th>\n",
       "      <th>Extra_Code</th>\n",
       "      <th>ELISA_KZO</th>\n",
       "      <th>ELISA_LNK</th>\n",
       "      <th>Live_Titer</th>\n",
       "      <th>VCD_OD</th>\n",
       "      <th>RNA</th>\n",
       "      <th>gDNA/1mL</th>\n",
       "      <th>Antifoam</th>\n",
       "    </tr>\n",
       "  </thead>\n",
       "  <tbody>\n",
       "    <tr>\n",
       "      <th>0</th>\n",
       "      <td>369697PV</td>\n",
       "      <td>Flasks</td>\n",
       "      <td>3</td>\n",
       "      <td>2019-07-12</td>\n",
       "      <td>NaN</td>\n",
       "      <td>NaN</td>\n",
       "      <td>NaN</td>\n",
       "      <td>NaN</td>\n",
       "      <td>NaN</td>\n",
       "      <td>NaN</td>\n",
       "      <td>...</td>\n",
       "      <td>NaN</td>\n",
       "      <td>NaN</td>\n",
       "      <td>NaN</td>\n",
       "      <td>NaN</td>\n",
       "      <td>NaN</td>\n",
       "      <td>NaN</td>\n",
       "      <td>NaN</td>\n",
       "      <td>NaN</td>\n",
       "      <td>NaN</td>\n",
       "      <td>NaN</td>\n",
       "    </tr>\n",
       "    <tr>\n",
       "      <th>1</th>\n",
       "      <td>369697PV</td>\n",
       "      <td>5L BLU</td>\n",
       "      <td>M</td>\n",
       "      <td>2019-07-12</td>\n",
       "      <td>09:25:00</td>\n",
       "      <td>36.0</td>\n",
       "      <td>40.0</td>\n",
       "      <td>7.37</td>\n",
       "      <td>7.035</td>\n",
       "      <td>6.783</td>\n",
       "      <td>...</td>\n",
       "      <td>NaN</td>\n",
       "      <td>NaN</td>\n",
       "      <td>NaN</td>\n",
       "      <td>NaN</td>\n",
       "      <td>NaN</td>\n",
       "      <td>NaN</td>\n",
       "      <td>NaN</td>\n",
       "      <td>NaN</td>\n",
       "      <td>NaN</td>\n",
       "      <td>NaN</td>\n",
       "    </tr>\n",
       "    <tr>\n",
       "      <th>2</th>\n",
       "      <td>369697PV</td>\n",
       "      <td>5L BLU</td>\n",
       "      <td>0</td>\n",
       "      <td>2019-07-12</td>\n",
       "      <td>10:53:00</td>\n",
       "      <td>35.8</td>\n",
       "      <td>40.0</td>\n",
       "      <td>15.39</td>\n",
       "      <td>6.983</td>\n",
       "      <td>7.118</td>\n",
       "      <td>...</td>\n",
       "      <td>NaN</td>\n",
       "      <td>NaN</td>\n",
       "      <td>NaN</td>\n",
       "      <td>NaN</td>\n",
       "      <td>NaN</td>\n",
       "      <td>NaN</td>\n",
       "      <td>NaN</td>\n",
       "      <td>NaN</td>\n",
       "      <td>NaN</td>\n",
       "      <td>NaN</td>\n",
       "    </tr>\n",
       "    <tr>\n",
       "      <th>3</th>\n",
       "      <td>369697PV</td>\n",
       "      <td>5L BLU</td>\n",
       "      <td>1</td>\n",
       "      <td>2019-07-13</td>\n",
       "      <td>NaN</td>\n",
       "      <td>NaN</td>\n",
       "      <td>NaN</td>\n",
       "      <td>NaN</td>\n",
       "      <td>NaN</td>\n",
       "      <td>NaN</td>\n",
       "      <td>...</td>\n",
       "      <td>NaN</td>\n",
       "      <td>NaN</td>\n",
       "      <td>NaN</td>\n",
       "      <td>NaN</td>\n",
       "      <td>NaN</td>\n",
       "      <td>NaN</td>\n",
       "      <td>NaN</td>\n",
       "      <td>NaN</td>\n",
       "      <td>NaN</td>\n",
       "      <td>NaN</td>\n",
       "    </tr>\n",
       "    <tr>\n",
       "      <th>4</th>\n",
       "      <td>369697PV</td>\n",
       "      <td>5L BLU</td>\n",
       "      <td>2</td>\n",
       "      <td>2019-07-14</td>\n",
       "      <td>NaN</td>\n",
       "      <td>NaN</td>\n",
       "      <td>NaN</td>\n",
       "      <td>NaN</td>\n",
       "      <td>NaN</td>\n",
       "      <td>NaN</td>\n",
       "      <td>...</td>\n",
       "      <td>NaN</td>\n",
       "      <td>NaN</td>\n",
       "      <td>NaN</td>\n",
       "      <td>NaN</td>\n",
       "      <td>NaN</td>\n",
       "      <td>NaN</td>\n",
       "      <td>NaN</td>\n",
       "      <td>NaN</td>\n",
       "      <td>NaN</td>\n",
       "      <td>NaN</td>\n",
       "    </tr>\n",
       "  </tbody>\n",
       "</table>\n",
       "<p>5 rows × 39 columns</p>\n",
       "</div>"
      ],
      "text/plain": [
       "      Batch  Vessel DPI       Date      Time  Temp_C  Agitation  DO_pct  \\\n",
       "0  369697PV  Flasks   3 2019-07-12       NaN     NaN        NaN     NaN   \n",
       "1  369697PV  5L BLU   M 2019-07-12  09:25:00    36.0       40.0    7.37   \n",
       "2  369697PV  5L BLU   0 2019-07-12  10:53:00    35.8       40.0   15.39   \n",
       "3  369697PV  5L BLU   1 2019-07-13       NaN     NaN        NaN     NaN   \n",
       "4  369697PV  5L BLU   2 2019-07-14       NaN     NaN        NaN     NaN   \n",
       "\n",
       "   pH_online  pH_offline  ...  Micro_Comments  Intra_Code  Extra_Code  \\\n",
       "0        NaN         NaN  ...             NaN         NaN         NaN   \n",
       "1      7.035       6.783  ...             NaN         NaN         NaN   \n",
       "2      6.983       7.118  ...             NaN         NaN         NaN   \n",
       "3        NaN         NaN  ...             NaN         NaN         NaN   \n",
       "4        NaN         NaN  ...             NaN         NaN         NaN   \n",
       "\n",
       "   ELISA_KZO  ELISA_LNK  Live_Titer VCD_OD  RNA  gDNA/1mL  Antifoam  \n",
       "0        NaN        NaN         NaN    NaN  NaN       NaN       NaN  \n",
       "1        NaN        NaN         NaN    NaN  NaN       NaN       NaN  \n",
       "2        NaN        NaN         NaN    NaN  NaN       NaN       NaN  \n",
       "3        NaN        NaN         NaN    NaN  NaN       NaN       NaN  \n",
       "4        NaN        NaN         NaN    NaN  NaN       NaN       NaN  \n",
       "\n",
       "[5 rows x 39 columns]"
      ]
     },
     "execution_count": 4,
     "metadata": {},
     "output_type": "execute_result"
    }
   ],
   "source": [
    "# Get an initial look at the data\n",
    "vessel_data.head()"
   ]
  },
  {
   "cell_type": "markdown",
   "metadata": {},
   "source": [
    "There are a lot of NaNs that will need to be dealt with.  \n",
    "DPI is days post inoculation and that column contains several 'M's, which are just the media, prior to inoculation, and can also be removed."
   ]
  },
  {
   "cell_type": "code",
   "execution_count": 5,
   "metadata": {},
   "outputs": [],
   "source": [
    "# Remove rows from 'DPI' column which are 'M'\n",
    "vessel_data = vessel_data[vessel_data.DPI!='M']"
   ]
  },
  {
   "cell_type": "code",
   "execution_count": 6,
   "metadata": {},
   "outputs": [
    {
     "data": {
      "text/plain": [
       "Batch             False\n",
       "Vessel            False\n",
       "DPI                True\n",
       "Date               True\n",
       "Time               True\n",
       "Temp_C             True\n",
       "Agitation          True\n",
       "DO_pct             True\n",
       "pH_online          True\n",
       "pH_offline         True\n",
       "O₂_%sat            True\n",
       "CO₂_%sat           True\n",
       "L_Glut             True\n",
       "Gluc               True\n",
       "Lact               True\n",
       "Ammon              True\n",
       "Nuc_NonVi          True\n",
       "Nuc_TotCt          True\n",
       "Nuc_LiveCt         True\n",
       "Nuc_Viab           True\n",
       "MPbio_Blank        True\n",
       "MPbio_Area         True\n",
       "MPbio_TotCt        True\n",
       "MPtvo_Blank        True\n",
       "MPtvo_Area         True\n",
       "MPtvo_TotCt        True\n",
       "Intra_Ct           True\n",
       "Micro_Intra        True\n",
       "Micro_Extra        True\n",
       "Micro_Comments     True\n",
       "Intra_Code         True\n",
       "Extra_Code         True\n",
       "ELISA_KZO          True\n",
       "ELISA_LNK          True\n",
       "Live_Titer         True\n",
       "VCD_OD             True\n",
       "RNA                True\n",
       "gDNA/1mL           True\n",
       "Antifoam           True\n",
       "dtype: bool"
      ]
     },
     "execution_count": 6,
     "metadata": {},
     "output_type": "execute_result"
    }
   ],
   "source": [
    "# Check each column for NaNs\n",
    "pd.isnull(vessel_data).any()"
   ]
  },
  {
   "cell_type": "markdown",
   "metadata": {},
   "source": [
    "DPI shouldn't have any null values."
   ]
  },
  {
   "cell_type": "code",
   "execution_count": 7,
   "metadata": {},
   "outputs": [],
   "source": [
    "# Remove rows from 'DPI' which are NaN\n",
    "vessel_data = vessel_data[vessel_data['DPI'].notnull()]"
   ]
  },
  {
   "cell_type": "code",
   "execution_count": 8,
   "metadata": {},
   "outputs": [
    {
     "data": {
      "text/plain": [
       "Batch                     object\n",
       "Vessel                    object\n",
       "DPI                       object\n",
       "Date              datetime64[ns]\n",
       "Time                      object\n",
       "Temp_C                   float64\n",
       "Agitation                float64\n",
       "DO_pct                   float64\n",
       "pH_online                float64\n",
       "pH_offline               float64\n",
       "O₂_%sat                  float64\n",
       "CO₂_%sat                 float64\n",
       "L_Glut                   float64\n",
       "Gluc                     float64\n",
       "Lact                     float64\n",
       "Ammon                    float64\n",
       "Nuc_NonVi                 object\n",
       "Nuc_TotCt                float64\n",
       "Nuc_LiveCt               float64\n",
       "Nuc_Viab                 float64\n",
       "MPbio_Blank              float64\n",
       "MPbio_Area               float64\n",
       "MPbio_TotCt              float64\n",
       "MPtvo_Blank              float64\n",
       "MPtvo_Area               float64\n",
       "MPtvo_TotCt              float64\n",
       "Intra_Ct                 float64\n",
       "Micro_Intra               object\n",
       "Micro_Extra               object\n",
       "Micro_Comments            object\n",
       "Intra_Code               float64\n",
       "Extra_Code               float64\n",
       "ELISA_KZO                float64\n",
       "ELISA_LNK                float64\n",
       "Live_Titer               float64\n",
       "VCD_OD                   float64\n",
       "RNA                      float64\n",
       "gDNA/1mL                 float64\n",
       "Antifoam                 float64\n",
       "dtype: object"
      ]
     },
     "execution_count": 8,
     "metadata": {},
     "output_type": "execute_result"
    }
   ],
   "source": [
    "# Check the types of data\n",
    "vessel_data.dtypes"
   ]
  },
  {
   "cell_type": "markdown",
   "metadata": {},
   "source": [
    "Now that we romoved 'M' from the 'DPI' column the variable should be numeric, so we'll convert to integers."
   ]
  },
  {
   "cell_type": "code",
   "execution_count": 9,
   "metadata": {},
   "outputs": [],
   "source": [
    "# Convert 'DPI' column to numeric\n",
    "vessel_data['DPI'] = vessel_data['DPI'].astype(int)"
   ]
  },
  {
   "cell_type": "markdown",
   "metadata": {},
   "source": [
    "The 'Nuc_NonVi' should be numeric and I know what the issue is: there is a lower limit of detection of 5000 on that piece of equipment and if the value falls below that, we record as '<5k'. I will replace all of these with 2500 (half the lower limit)."
   ]
  },
  {
   "cell_type": "code",
   "execution_count": 10,
   "metadata": {},
   "outputs": [],
   "source": [
    "# Replace '<5k' in 'Nuc_NonVi' column with 1/2 lower limit\n",
    "vessel_data.Nuc_NonVi = vessel_data.Nuc_NonVi.replace('<5k', 5000/2)"
   ]
  },
  {
   "cell_type": "markdown",
   "metadata": {},
   "source": [
    "The 'Micro_Intra' and 'Micro_Extra' are ordered categorical descriptions used when looking at the organism under the microscope. These are standardized, so I will create new columns 'Extra_Coded' and 'Intra_Coded' to code them into numeric values."
   ]
  },
  {
   "cell_type": "code",
   "execution_count": 11,
   "metadata": {},
   "outputs": [
    {
     "data": {
      "text/plain": [
       "array([nan, 'Light, 1+', 'Some, 2+', 'Heavy, 3+', 'Very Light, <1+',\n",
       "       'Very Heavy, 4+'], dtype=object)"
      ]
     },
     "execution_count": 11,
     "metadata": {},
     "output_type": "execute_result"
    }
   ],
   "source": [
    "# Check the standard descriptions for microscopy\n",
    "vessel_data.Micro_Intra.unique()"
   ]
  },
  {
   "cell_type": "code",
   "execution_count": 12,
   "metadata": {},
   "outputs": [],
   "source": [
    "# Map values to new columns based on descriptions\n",
    "dict = {'Very Light, <1+': 1, 'Light, 1+': 2, 'Some, 2+': 3, 'Heavy, 3+': 4, 'Very Heavy, 4+': 5}\n",
    "vessel_data['Intra_Code'] = vessel_data['Micro_Intra'].map(dict)\n",
    "vessel_data['Extra_Code'] = vessel_data['Micro_Extra'].map(dict)"
   ]
  },
  {
   "cell_type": "markdown",
   "metadata": {},
   "source": [
    "The 'VCD_OD' column has data for a probe that I used on two runs, but was not working correctly for one of the runs and provided inaccurate data, which will need to be removed."
   ]
  },
  {
   "cell_type": "code",
   "execution_count": 13,
   "metadata": {},
   "outputs": [],
   "source": [
    "# Remove inaccurate data\n",
    "vessel_data.loc[(vessel_data.Batch == '471341PV'), 'VCD_OD'] = np.nan"
   ]
  },
  {
   "cell_type": "markdown",
   "metadata": {},
   "source": [
    "Many of the NaN values in the data set are days with no sampling and those can be removed completely. "
   ]
  },
  {
   "cell_type": "code",
   "execution_count": 20,
   "metadata": {},
   "outputs": [
    {
     "name": "stdout",
     "output_type": "stream",
     "text": [
      "352 rows before removing non-sampling days\n"
     ]
    }
   ],
   "source": [
    "print(f\"{vessel_data.shape[0]} rows before removing non-sampling days\")"
   ]
  },
  {
   "cell_type": "code",
   "execution_count": 18,
   "metadata": {},
   "outputs": [],
   "source": [
    "# Remove rows that contain no data beyond the batch/vessel identifiers and day/date/time info\n",
    "colList = vessel_data.columns[5:]\n",
    "vessel_data.dropna(axis=0, subset=colList, how=\"all\", inplace=True)"
   ]
  },
  {
   "cell_type": "code",
   "execution_count": 21,
   "metadata": {},
   "outputs": [
    {
     "name": "stdout",
     "output_type": "stream",
     "text": [
      "352 rows after removing non-sampling days\n"
     ]
    }
   ],
   "source": [
    "print(f\"{vessel_data.shape[0]} rows after removing non-sampling days\")"
   ]
  },
  {
   "cell_type": "code",
   "execution_count": null,
   "metadata": {},
   "outputs": [],
   "source": []
  },
  {
   "cell_type": "code",
   "execution_count": null,
   "metadata": {},
   "outputs": [],
   "source": []
  },
  {
   "cell_type": "markdown",
   "metadata": {},
   "source": [
    "## 3) Write a short overview/conclusion of the insights gained from your graphical analysis."
   ]
  }
 ],
 "metadata": {
  "kernelspec": {
   "display_name": "Python 3",
   "language": "python",
   "name": "python3"
  },
  "language_info": {
   "codemirror_mode": {
    "name": "ipython",
    "version": 3
   },
   "file_extension": ".py",
   "mimetype": "text/x-python",
   "name": "python",
   "nbconvert_exporter": "python",
   "pygments_lexer": "ipython3",
   "version": "3.8.5"
  }
 },
 "nbformat": 4,
 "nbformat_minor": 4
}
