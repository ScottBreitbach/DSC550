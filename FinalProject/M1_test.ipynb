{
 "cells": [
  {
   "cell_type": "markdown",
   "metadata": {},
   "source": [
    "It is now time to start using everything you have learned in the first half of this class. The project for this course is to develop your own original analysis case study, and you will be working through and updating this project for the remainder of the term. The work you are doing on the Titanic case study in parallel is a guide for your original project, but you will need to adapt the analysis for your data/project."
   ]
  },
  {
   "cell_type": "markdown",
   "metadata": {},
   "source": [
    "The first step is coming up with an idea – arguably one of the hardest steps! Identify an original business problem for your project. There are lots of ideas available online through Kaggle and other sources, but your idea should have a unique spin on it. The second step is locating your data. This can come from a variety of sources, e.g., Kaggle, your job, a website, API, etc. Feel free to reach out to your instructor if you are not sure if your idea and data are suitable."
   ]
  },
  {
   "cell_type": "markdown",
   "metadata": {},
   "source": [
    "Begin Milestone 1 with a 250-500-word narrative describing an original idea for an analysis/model building business problem. Then, do a graphical analysis creating a minimum of four graphs. Label your graphs appropriately and explain/analyze the information provided by each graph. Keep in mind that your analysis may look very different from the Titanic tutorial graphical analysis. Write a short overview/conclusion of the insights gained from your graphical analysis."
   ]
  },
  {
   "cell_type": "markdown",
   "metadata": {},
   "source": [
    "As a reminder – Teams is a great place to discuss your project with your peers. Feel free to solicit feedback/input (without creating a group project!) and collaborate on your projects with your peers.  \n",
    "Each milestone will build on top of each other, so make sure you do not fall behind.  \n",
    "Submit Milestone 1 as a PDF or Jupyter Notebook, along with any applicable code to the submission link."
   ]
  },
  {
   "cell_type": "markdown",
   "metadata": {},
   "source": [
    "## 1) Begin Milestone 1 with a 250-500-word narrative describing an original idea for an analysis/model building business problem. "
   ]
  },
  {
   "cell_type": "markdown",
   "metadata": {},
   "source": [
    "## 2) Then, do a graphical analysis creating a minimum of four graphs.\n",
    "Label your graphs appropriately and explain/analyze the information provided by each graph. Keep in mind that your analysis may look very different from the Titanic tutorial graphical analysis."
   ]
  },
  {
   "cell_type": "markdown",
   "metadata": {},
   "source": [
    "## 3) Write a short overview/conclusion of the insights gained from your graphical analysis."
   ]
  },
  {
   "cell_type": "code",
   "execution_count": 1,
   "metadata": {},
   "outputs": [],
   "source": [
    "import pandas as pd\n",
    "import matplotlib.pyplot as plt\n",
    "import numpy as np"
   ]
  },
  {
   "cell_type": "code",
   "execution_count": 2,
   "metadata": {},
   "outputs": [],
   "source": [
    "data = pd.read_excel('Compiled_Lawsonia.xlsx')"
   ]
  },
  {
   "cell_type": "code",
   "execution_count": 3,
   "metadata": {},
   "outputs": [
    {
     "data": {
      "text/plain": [
       "(465, 39)"
      ]
     },
     "execution_count": 3,
     "metadata": {},
     "output_type": "execute_result"
    }
   ],
   "source": [
    "data.shape"
   ]
  },
  {
   "cell_type": "code",
   "execution_count": 4,
   "metadata": {},
   "outputs": [],
   "source": [
    "save = data.copy()"
   ]
  },
  {
   "cell_type": "code",
   "execution_count": 5,
   "metadata": {},
   "outputs": [
    {
     "data": {
      "text/html": [
       "<div>\n",
       "<style scoped>\n",
       "    .dataframe tbody tr th:only-of-type {\n",
       "        vertical-align: middle;\n",
       "    }\n",
       "\n",
       "    .dataframe tbody tr th {\n",
       "        vertical-align: top;\n",
       "    }\n",
       "\n",
       "    .dataframe thead th {\n",
       "        text-align: right;\n",
       "    }\n",
       "</style>\n",
       "<table border=\"1\" class=\"dataframe\">\n",
       "  <thead>\n",
       "    <tr style=\"text-align: right;\">\n",
       "      <th></th>\n",
       "      <th>Batch</th>\n",
       "      <th>Vessel</th>\n",
       "      <th>DPI</th>\n",
       "      <th>Date</th>\n",
       "      <th>Time</th>\n",
       "      <th>Temp_C</th>\n",
       "      <th>Agitation</th>\n",
       "      <th>DO_pct</th>\n",
       "      <th>pH_online</th>\n",
       "      <th>pH_offline</th>\n",
       "      <th>...</th>\n",
       "      <th>Micro_Comments</th>\n",
       "      <th>Intra_Code</th>\n",
       "      <th>Extra_Code</th>\n",
       "      <th>ELISA_KZO</th>\n",
       "      <th>ELISA_LNK</th>\n",
       "      <th>Live_Titer</th>\n",
       "      <th>VCD_OD</th>\n",
       "      <th>RNA</th>\n",
       "      <th>gDNA/1mL</th>\n",
       "      <th>Antifoam</th>\n",
       "    </tr>\n",
       "  </thead>\n",
       "  <tbody>\n",
       "    <tr>\n",
       "      <th>0</th>\n",
       "      <td>369697PV</td>\n",
       "      <td>Flasks</td>\n",
       "      <td>3</td>\n",
       "      <td>2019-07-12</td>\n",
       "      <td>NaN</td>\n",
       "      <td>NaN</td>\n",
       "      <td>NaN</td>\n",
       "      <td>NaN</td>\n",
       "      <td>NaN</td>\n",
       "      <td>NaN</td>\n",
       "      <td>...</td>\n",
       "      <td>NaN</td>\n",
       "      <td>NaN</td>\n",
       "      <td>NaN</td>\n",
       "      <td>NaN</td>\n",
       "      <td>NaN</td>\n",
       "      <td>NaN</td>\n",
       "      <td>NaN</td>\n",
       "      <td>NaN</td>\n",
       "      <td>NaN</td>\n",
       "      <td>NaN</td>\n",
       "    </tr>\n",
       "    <tr>\n",
       "      <th>1</th>\n",
       "      <td>369697PV</td>\n",
       "      <td>5L BLU</td>\n",
       "      <td>M</td>\n",
       "      <td>2019-07-12</td>\n",
       "      <td>09:25:00</td>\n",
       "      <td>36.0</td>\n",
       "      <td>40.0</td>\n",
       "      <td>7.37</td>\n",
       "      <td>7.035</td>\n",
       "      <td>6.783</td>\n",
       "      <td>...</td>\n",
       "      <td>NaN</td>\n",
       "      <td>NaN</td>\n",
       "      <td>NaN</td>\n",
       "      <td>NaN</td>\n",
       "      <td>NaN</td>\n",
       "      <td>NaN</td>\n",
       "      <td>NaN</td>\n",
       "      <td>NaN</td>\n",
       "      <td>NaN</td>\n",
       "      <td>NaN</td>\n",
       "    </tr>\n",
       "    <tr>\n",
       "      <th>2</th>\n",
       "      <td>369697PV</td>\n",
       "      <td>5L BLU</td>\n",
       "      <td>0</td>\n",
       "      <td>2019-07-12</td>\n",
       "      <td>10:53:00</td>\n",
       "      <td>35.8</td>\n",
       "      <td>40.0</td>\n",
       "      <td>15.39</td>\n",
       "      <td>6.983</td>\n",
       "      <td>7.118</td>\n",
       "      <td>...</td>\n",
       "      <td>NaN</td>\n",
       "      <td>NaN</td>\n",
       "      <td>NaN</td>\n",
       "      <td>NaN</td>\n",
       "      <td>NaN</td>\n",
       "      <td>NaN</td>\n",
       "      <td>NaN</td>\n",
       "      <td>NaN</td>\n",
       "      <td>NaN</td>\n",
       "      <td>NaN</td>\n",
       "    </tr>\n",
       "    <tr>\n",
       "      <th>3</th>\n",
       "      <td>369697PV</td>\n",
       "      <td>5L BLU</td>\n",
       "      <td>1</td>\n",
       "      <td>2019-07-13</td>\n",
       "      <td>NaN</td>\n",
       "      <td>NaN</td>\n",
       "      <td>NaN</td>\n",
       "      <td>NaN</td>\n",
       "      <td>NaN</td>\n",
       "      <td>NaN</td>\n",
       "      <td>...</td>\n",
       "      <td>NaN</td>\n",
       "      <td>NaN</td>\n",
       "      <td>NaN</td>\n",
       "      <td>NaN</td>\n",
       "      <td>NaN</td>\n",
       "      <td>NaN</td>\n",
       "      <td>NaN</td>\n",
       "      <td>NaN</td>\n",
       "      <td>NaN</td>\n",
       "      <td>NaN</td>\n",
       "    </tr>\n",
       "    <tr>\n",
       "      <th>4</th>\n",
       "      <td>369697PV</td>\n",
       "      <td>5L BLU</td>\n",
       "      <td>2</td>\n",
       "      <td>2019-07-14</td>\n",
       "      <td>NaN</td>\n",
       "      <td>NaN</td>\n",
       "      <td>NaN</td>\n",
       "      <td>NaN</td>\n",
       "      <td>NaN</td>\n",
       "      <td>NaN</td>\n",
       "      <td>...</td>\n",
       "      <td>NaN</td>\n",
       "      <td>NaN</td>\n",
       "      <td>NaN</td>\n",
       "      <td>NaN</td>\n",
       "      <td>NaN</td>\n",
       "      <td>NaN</td>\n",
       "      <td>NaN</td>\n",
       "      <td>NaN</td>\n",
       "      <td>NaN</td>\n",
       "      <td>NaN</td>\n",
       "    </tr>\n",
       "  </tbody>\n",
       "</table>\n",
       "<p>5 rows × 39 columns</p>\n",
       "</div>"
      ],
      "text/plain": [
       "      Batch  Vessel DPI       Date      Time  Temp_C  Agitation  DO_pct  \\\n",
       "0  369697PV  Flasks   3 2019-07-12       NaN     NaN        NaN     NaN   \n",
       "1  369697PV  5L BLU   M 2019-07-12  09:25:00    36.0       40.0    7.37   \n",
       "2  369697PV  5L BLU   0 2019-07-12  10:53:00    35.8       40.0   15.39   \n",
       "3  369697PV  5L BLU   1 2019-07-13       NaN     NaN        NaN     NaN   \n",
       "4  369697PV  5L BLU   2 2019-07-14       NaN     NaN        NaN     NaN   \n",
       "\n",
       "   pH_online  pH_offline  ...  Micro_Comments  Intra_Code  Extra_Code  \\\n",
       "0        NaN         NaN  ...             NaN         NaN         NaN   \n",
       "1      7.035       6.783  ...             NaN         NaN         NaN   \n",
       "2      6.983       7.118  ...             NaN         NaN         NaN   \n",
       "3        NaN         NaN  ...             NaN         NaN         NaN   \n",
       "4        NaN         NaN  ...             NaN         NaN         NaN   \n",
       "\n",
       "   ELISA_KZO  ELISA_LNK  Live_Titer VCD_OD  RNA  gDNA/1mL  Antifoam  \n",
       "0        NaN        NaN         NaN    NaN  NaN       NaN       NaN  \n",
       "1        NaN        NaN         NaN    NaN  NaN       NaN       NaN  \n",
       "2        NaN        NaN         NaN    NaN  NaN       NaN       NaN  \n",
       "3        NaN        NaN         NaN    NaN  NaN       NaN       NaN  \n",
       "4        NaN        NaN         NaN    NaN  NaN       NaN       NaN  \n",
       "\n",
       "[5 rows x 39 columns]"
      ]
     },
     "execution_count": 5,
     "metadata": {},
     "output_type": "execute_result"
    }
   ],
   "source": [
    "data.head()"
   ]
  },
  {
   "cell_type": "code",
   "execution_count": 6,
   "metadata": {},
   "outputs": [
    {
     "data": {
      "text/plain": [
       "Batch                     object\n",
       "Vessel                    object\n",
       "DPI                       object\n",
       "Date              datetime64[ns]\n",
       "Time                      object\n",
       "Temp_C                   float64\n",
       "Agitation                float64\n",
       "DO_pct                   float64\n",
       "pH_online                float64\n",
       "pH_offline               float64\n",
       "O₂_%sat                  float64\n",
       "CO₂_%sat                 float64\n",
       "L_Glut                   float64\n",
       "Gluc                     float64\n",
       "Lact                     float64\n",
       "Ammon                    float64\n",
       "Nuc_NonVi                 object\n",
       "Nuc_TotCt                float64\n",
       "Nuc_LiveCt               float64\n",
       "Nuc_Viab                 float64\n",
       "MPbio_Blank              float64\n",
       "MPbio_Area               float64\n",
       "MPbio_TotCt              float64\n",
       "MPtvo_Blank              float64\n",
       "MPtvo_Area               float64\n",
       "MPtvo_TotCt              float64\n",
       "Intra_Ct                 float64\n",
       "Micro_Intra               object\n",
       "Micro_Extra               object\n",
       "Micro_Comments            object\n",
       "Intra_Code               float64\n",
       "Extra_Code               float64\n",
       "ELISA_KZO                float64\n",
       "ELISA_LNK                float64\n",
       "Live_Titer               float64\n",
       "VCD_OD                   float64\n",
       "RNA                      float64\n",
       "gDNA/1mL                 float64\n",
       "Antifoam                 float64\n",
       "dtype: object"
      ]
     },
     "execution_count": 6,
     "metadata": {},
     "output_type": "execute_result"
    }
   ],
   "source": [
    "data.dtypes"
   ]
  },
  {
   "cell_type": "code",
   "execution_count": 7,
   "metadata": {},
   "outputs": [
    {
     "data": {
      "text/plain": [
       "True"
      ]
     },
     "execution_count": 7,
     "metadata": {},
     "output_type": "execute_result"
    }
   ],
   "source": [
    "data['DPI'].isnull().any()"
   ]
  },
  {
   "cell_type": "code",
   "execution_count": 8,
   "metadata": {},
   "outputs": [
    {
     "data": {
      "text/plain": [
       "Batch             False\n",
       "Vessel            False\n",
       "DPI                True\n",
       "Date               True\n",
       "Time               True\n",
       "Temp_C             True\n",
       "Agitation          True\n",
       "DO_pct             True\n",
       "pH_online          True\n",
       "pH_offline         True\n",
       "O₂_%sat            True\n",
       "CO₂_%sat           True\n",
       "L_Glut             True\n",
       "Gluc               True\n",
       "Lact               True\n",
       "Ammon              True\n",
       "Nuc_NonVi          True\n",
       "Nuc_TotCt          True\n",
       "Nuc_LiveCt         True\n",
       "Nuc_Viab           True\n",
       "MPbio_Blank        True\n",
       "MPbio_Area         True\n",
       "MPbio_TotCt        True\n",
       "MPtvo_Blank        True\n",
       "MPtvo_Area         True\n",
       "MPtvo_TotCt        True\n",
       "Intra_Ct           True\n",
       "Micro_Intra        True\n",
       "Micro_Extra        True\n",
       "Micro_Comments     True\n",
       "Intra_Code         True\n",
       "Extra_Code         True\n",
       "ELISA_KZO          True\n",
       "ELISA_LNK          True\n",
       "Live_Titer         True\n",
       "VCD_OD             True\n",
       "RNA                True\n",
       "gDNA/1mL           True\n",
       "Antifoam           True\n",
       "dtype: bool"
      ]
     },
     "execution_count": 8,
     "metadata": {},
     "output_type": "execute_result"
    }
   ],
   "source": [
    "# Check each column for NaNs\n",
    "pd.isnull(data).any()"
   ]
  },
  {
   "cell_type": "code",
   "execution_count": 9,
   "metadata": {},
   "outputs": [],
   "source": [
    "# data[data['DPI'].notnull()]"
   ]
  },
  {
   "cell_type": "code",
   "execution_count": 10,
   "metadata": {},
   "outputs": [],
   "source": [
    "data = data[data['DPI'].notnull()]"
   ]
  },
  {
   "cell_type": "code",
   "execution_count": 11,
   "metadata": {},
   "outputs": [
    {
     "data": {
      "text/plain": [
       "(464, 39)"
      ]
     },
     "execution_count": 11,
     "metadata": {},
     "output_type": "execute_result"
    }
   ],
   "source": [
    "data.shape"
   ]
  },
  {
   "cell_type": "code",
   "execution_count": 12,
   "metadata": {},
   "outputs": [
    {
     "data": {
      "text/plain": [
       "Index(['Batch', 'Vessel', 'DPI', 'Date', 'Time', 'Temp_C', 'Agitation',\n",
       "       'DO_pct', 'pH_online', 'pH_offline', 'O₂_%sat', 'CO₂_%sat', 'L_Glut',\n",
       "       'Gluc', 'Lact', 'Ammon', 'Nuc_NonVi', 'Nuc_TotCt', 'Nuc_LiveCt',\n",
       "       'Nuc_Viab', 'MPbio_Blank', 'MPbio_Area', 'MPbio_TotCt', 'MPtvo_Blank',\n",
       "       'MPtvo_Area', 'MPtvo_TotCt', 'Intra_Ct', 'Micro_Intra', 'Micro_Extra',\n",
       "       'Micro_Comments', 'Intra_Code', 'Extra_Code', 'ELISA_KZO', 'ELISA_LNK',\n",
       "       'Live_Titer', 'VCD_OD', 'RNA', 'gDNA/1mL', 'Antifoam'],\n",
       "      dtype='object')"
      ]
     },
     "execution_count": 12,
     "metadata": {},
     "output_type": "execute_result"
    }
   ],
   "source": [
    "data.columns"
   ]
  },
  {
   "cell_type": "code",
   "execution_count": 13,
   "metadata": {},
   "outputs": [
    {
     "data": {
      "text/plain": [
       "Batch                        369697PV\n",
       "Vessel                         Flasks\n",
       "DPI                                 3\n",
       "Date              2019-07-12 00:00:00\n",
       "Time                              NaN\n",
       "Temp_C                            NaN\n",
       "Agitation                         NaN\n",
       "DO_pct                            NaN\n",
       "pH_online                         NaN\n",
       "pH_offline                        NaN\n",
       "O₂_%sat                           NaN\n",
       "CO₂_%sat                          NaN\n",
       "L_Glut                            NaN\n",
       "Gluc                              NaN\n",
       "Lact                              NaN\n",
       "Ammon                             NaN\n",
       "Nuc_NonVi                         <5k\n",
       "Nuc_TotCt                      648000\n",
       "Nuc_LiveCt                     643000\n",
       "Nuc_Viab                        0.992\n",
       "MPbio_Blank                      3596\n",
       "MPbio_Area                      55686\n",
       "MPbio_TotCt                   1.3e+07\n",
       "MPtvo_Blank                        21\n",
       "MPtvo_Area                      10645\n",
       "MPtvo_TotCt                  2.66e+06\n",
       "Intra_Ct                          NaN\n",
       "Micro_Intra                       NaN\n",
       "Micro_Extra                       NaN\n",
       "Micro_Comments                    NaN\n",
       "Intra_Code                        NaN\n",
       "Extra_Code                        NaN\n",
       "ELISA_KZO                         NaN\n",
       "ELISA_LNK                         NaN\n",
       "Live_Titer                        NaN\n",
       "VCD_OD                            NaN\n",
       "RNA                               NaN\n",
       "gDNA/1mL                          NaN\n",
       "Antifoam                          NaN\n",
       "Name: 0, dtype: object"
      ]
     },
     "execution_count": 13,
     "metadata": {},
     "output_type": "execute_result"
    }
   ],
   "source": [
    "data.iloc[0]"
   ]
  },
  {
   "cell_type": "code",
   "execution_count": 14,
   "metadata": {},
   "outputs": [],
   "source": [
    "data = data[data.DPI!='M']"
   ]
  },
  {
   "cell_type": "code",
   "execution_count": 15,
   "metadata": {},
   "outputs": [],
   "source": [
    "data['DPI'] = data['DPI'].astype(float)"
   ]
  },
  {
   "cell_type": "code",
   "execution_count": 16,
   "metadata": {},
   "outputs": [],
   "source": [
    "data.Nuc_NonVi = data.Nuc_NonVi.replace('<5k', 5000/2) # Replacing with value 1/2 of lower limit"
   ]
  },
  {
   "cell_type": "code",
   "execution_count": 17,
   "metadata": {},
   "outputs": [
    {
     "data": {
      "text/plain": [
       "array([nan, 'Light, 1+', 'Some, 2+', 'Heavy, 3+', 'Very Light, <1+',\n",
       "       'Very Heavy, 4+'], dtype=object)"
      ]
     },
     "execution_count": 17,
     "metadata": {},
     "output_type": "execute_result"
    }
   ],
   "source": [
    "data.Micro_Intra.unique()"
   ]
  },
  {
   "cell_type": "code",
   "execution_count": 18,
   "metadata": {},
   "outputs": [],
   "source": [
    "dict = {'Very Light, <1+': 1, 'Light, 1+': 2, 'Some, 2+': 3, 'Heavy, 3+': 4, 'Very Heavy, 4+': 5}"
   ]
  },
  {
   "cell_type": "markdown",
   "metadata": {},
   "source": [
    "Add new columns coded for ordered categorical value:"
   ]
  },
  {
   "cell_type": "code",
   "execution_count": 19,
   "metadata": {},
   "outputs": [],
   "source": [
    "data['Intra_Code'] = data['Micro_Intra'].map(dict)"
   ]
  },
  {
   "cell_type": "code",
   "execution_count": 20,
   "metadata": {},
   "outputs": [],
   "source": [
    "data['Extra_Code'] = data['Micro_Extra'].map(dict)"
   ]
  },
  {
   "cell_type": "code",
   "execution_count": 21,
   "metadata": {},
   "outputs": [
    {
     "data": {
      "text/html": [
       "<div>\n",
       "<style scoped>\n",
       "    .dataframe tbody tr th:only-of-type {\n",
       "        vertical-align: middle;\n",
       "    }\n",
       "\n",
       "    .dataframe tbody tr th {\n",
       "        vertical-align: top;\n",
       "    }\n",
       "\n",
       "    .dataframe thead th {\n",
       "        text-align: right;\n",
       "    }\n",
       "</style>\n",
       "<table border=\"1\" class=\"dataframe\">\n",
       "  <thead>\n",
       "    <tr style=\"text-align: right;\">\n",
       "      <th></th>\n",
       "      <th>DPI</th>\n",
       "      <th>Temp_C</th>\n",
       "      <th>Agitation</th>\n",
       "      <th>DO_pct</th>\n",
       "      <th>pH_online</th>\n",
       "      <th>pH_offline</th>\n",
       "      <th>O₂_%sat</th>\n",
       "      <th>CO₂_%sat</th>\n",
       "      <th>L_Glut</th>\n",
       "      <th>Gluc</th>\n",
       "      <th>...</th>\n",
       "      <th>Intra_Ct</th>\n",
       "      <th>Intra_Code</th>\n",
       "      <th>Extra_Code</th>\n",
       "      <th>ELISA_KZO</th>\n",
       "      <th>ELISA_LNK</th>\n",
       "      <th>Live_Titer</th>\n",
       "      <th>VCD_OD</th>\n",
       "      <th>RNA</th>\n",
       "      <th>gDNA/1mL</th>\n",
       "      <th>Antifoam</th>\n",
       "    </tr>\n",
       "  </thead>\n",
       "  <tbody>\n",
       "    <tr>\n",
       "      <th>count</th>\n",
       "      <td>422.00</td>\n",
       "      <td>339.00</td>\n",
       "      <td>339.00</td>\n",
       "      <td>339.00</td>\n",
       "      <td>339.00</td>\n",
       "      <td>262.00</td>\n",
       "      <td>241.00</td>\n",
       "      <td>246.00</td>\n",
       "      <td>195.00</td>\n",
       "      <td>249.00</td>\n",
       "      <td>...</td>\n",
       "      <td>76.00</td>\n",
       "      <td>247.00</td>\n",
       "      <td>246.00</td>\n",
       "      <td>82.00</td>\n",
       "      <td>21.00</td>\n",
       "      <td>5.00</td>\n",
       "      <td>22.00</td>\n",
       "      <td>47.00</td>\n",
       "      <td>5.600000e+01</td>\n",
       "      <td>7.0</td>\n",
       "    </tr>\n",
       "    <tr>\n",
       "      <th>mean</th>\n",
       "      <td>4.95</td>\n",
       "      <td>35.99</td>\n",
       "      <td>49.73</td>\n",
       "      <td>6.42</td>\n",
       "      <td>7.05</td>\n",
       "      <td>7.05</td>\n",
       "      <td>1.33</td>\n",
       "      <td>0.08</td>\n",
       "      <td>0.88</td>\n",
       "      <td>3.89</td>\n",
       "      <td>...</td>\n",
       "      <td>15.89</td>\n",
       "      <td>2.66</td>\n",
       "      <td>3.89</td>\n",
       "      <td>9263.34</td>\n",
       "      <td>6926.57</td>\n",
       "      <td>4.53</td>\n",
       "      <td>1.11</td>\n",
       "      <td>15827.86</td>\n",
       "      <td>1.960579e+08</td>\n",
       "      <td>1.0</td>\n",
       "    </tr>\n",
       "    <tr>\n",
       "      <th>std</th>\n",
       "      <td>3.70</td>\n",
       "      <td>0.11</td>\n",
       "      <td>10.18</td>\n",
       "      <td>3.23</td>\n",
       "      <td>0.04</td>\n",
       "      <td>0.09</td>\n",
       "      <td>9.05</td>\n",
       "      <td>0.13</td>\n",
       "      <td>0.85</td>\n",
       "      <td>0.70</td>\n",
       "      <td>...</td>\n",
       "      <td>23.29</td>\n",
       "      <td>1.05</td>\n",
       "      <td>1.18</td>\n",
       "      <td>3295.63</td>\n",
       "      <td>2853.12</td>\n",
       "      <td>0.71</td>\n",
       "      <td>1.02</td>\n",
       "      <td>22378.75</td>\n",
       "      <td>1.507412e+08</td>\n",
       "      <td>0.0</td>\n",
       "    </tr>\n",
       "    <tr>\n",
       "      <th>min</th>\n",
       "      <td>0.00</td>\n",
       "      <td>34.78</td>\n",
       "      <td>40.00</td>\n",
       "      <td>0.16</td>\n",
       "      <td>6.61</td>\n",
       "      <td>6.66</td>\n",
       "      <td>0.03</td>\n",
       "      <td>0.01</td>\n",
       "      <td>0.00</td>\n",
       "      <td>1.08</td>\n",
       "      <td>...</td>\n",
       "      <td>0.00</td>\n",
       "      <td>1.00</td>\n",
       "      <td>1.00</td>\n",
       "      <td>1630.00</td>\n",
       "      <td>3156.00</td>\n",
       "      <td>3.50</td>\n",
       "      <td>-0.40</td>\n",
       "      <td>170.00</td>\n",
       "      <td>2.545546e+06</td>\n",
       "      <td>1.0</td>\n",
       "    </tr>\n",
       "    <tr>\n",
       "      <th>25%</th>\n",
       "      <td>2.00</td>\n",
       "      <td>36.00</td>\n",
       "      <td>42.00</td>\n",
       "      <td>5.59</td>\n",
       "      <td>7.05</td>\n",
       "      <td>7.01</td>\n",
       "      <td>0.38</td>\n",
       "      <td>0.06</td>\n",
       "      <td>0.05</td>\n",
       "      <td>3.60</td>\n",
       "      <td>...</td>\n",
       "      <td>2.75</td>\n",
       "      <td>2.00</td>\n",
       "      <td>3.00</td>\n",
       "      <td>6617.25</td>\n",
       "      <td>4889.00</td>\n",
       "      <td>4.50</td>\n",
       "      <td>0.15</td>\n",
       "      <td>1478.96</td>\n",
       "      <td>7.661384e+07</td>\n",
       "      <td>1.0</td>\n",
       "    </tr>\n",
       "    <tr>\n",
       "      <th>50%</th>\n",
       "      <td>4.00</td>\n",
       "      <td>36.00</td>\n",
       "      <td>48.90</td>\n",
       "      <td>5.98</td>\n",
       "      <td>7.05</td>\n",
       "      <td>7.05</td>\n",
       "      <td>0.48</td>\n",
       "      <td>0.07</td>\n",
       "      <td>0.66</td>\n",
       "      <td>4.12</td>\n",
       "      <td>...</td>\n",
       "      <td>7.50</td>\n",
       "      <td>3.00</td>\n",
       "      <td>4.00</td>\n",
       "      <td>9670.25</td>\n",
       "      <td>5549.00</td>\n",
       "      <td>4.50</td>\n",
       "      <td>1.25</td>\n",
       "      <td>7378.63</td>\n",
       "      <td>1.359994e+08</td>\n",
       "      <td>1.0</td>\n",
       "    </tr>\n",
       "    <tr>\n",
       "      <th>75%</th>\n",
       "      <td>7.00</td>\n",
       "      <td>36.00</td>\n",
       "      <td>49.20</td>\n",
       "      <td>6.30</td>\n",
       "      <td>7.06</td>\n",
       "      <td>7.09</td>\n",
       "      <td>0.61</td>\n",
       "      <td>0.09</td>\n",
       "      <td>1.52</td>\n",
       "      <td>4.39</td>\n",
       "      <td>...</td>\n",
       "      <td>20.00</td>\n",
       "      <td>3.00</td>\n",
       "      <td>5.00</td>\n",
       "      <td>11124.50</td>\n",
       "      <td>9758.00</td>\n",
       "      <td>4.65</td>\n",
       "      <td>2.09</td>\n",
       "      <td>23748.48</td>\n",
       "      <td>2.879057e+08</td>\n",
       "      <td>1.0</td>\n",
       "    </tr>\n",
       "    <tr>\n",
       "      <th>max</th>\n",
       "      <td>15.00</td>\n",
       "      <td>36.40</td>\n",
       "      <td>67.30</td>\n",
       "      <td>41.74</td>\n",
       "      <td>7.14</td>\n",
       "      <td>7.52</td>\n",
       "      <td>100.00</td>\n",
       "      <td>1.90</td>\n",
       "      <td>3.27</td>\n",
       "      <td>4.90</td>\n",
       "      <td>...</td>\n",
       "      <td>127.00</td>\n",
       "      <td>5.00</td>\n",
       "      <td>5.00</td>\n",
       "      <td>17020.00</td>\n",
       "      <td>11965.00</td>\n",
       "      <td>5.50</td>\n",
       "      <td>2.58</td>\n",
       "      <td>103762.66</td>\n",
       "      <td>6.374318e+08</td>\n",
       "      <td>1.0</td>\n",
       "    </tr>\n",
       "  </tbody>\n",
       "</table>\n",
       "<p>8 rows × 32 columns</p>\n",
       "</div>"
      ],
      "text/plain": [
       "          DPI  Temp_C  Agitation  DO_pct  pH_online  pH_offline  O₂_%sat  \\\n",
       "count  422.00  339.00     339.00  339.00     339.00      262.00   241.00   \n",
       "mean     4.95   35.99      49.73    6.42       7.05        7.05     1.33   \n",
       "std      3.70    0.11      10.18    3.23       0.04        0.09     9.05   \n",
       "min      0.00   34.78      40.00    0.16       6.61        6.66     0.03   \n",
       "25%      2.00   36.00      42.00    5.59       7.05        7.01     0.38   \n",
       "50%      4.00   36.00      48.90    5.98       7.05        7.05     0.48   \n",
       "75%      7.00   36.00      49.20    6.30       7.06        7.09     0.61   \n",
       "max     15.00   36.40      67.30   41.74       7.14        7.52   100.00   \n",
       "\n",
       "       CO₂_%sat  L_Glut    Gluc  ...  Intra_Ct  Intra_Code  Extra_Code  \\\n",
       "count    246.00  195.00  249.00  ...     76.00      247.00      246.00   \n",
       "mean       0.08    0.88    3.89  ...     15.89        2.66        3.89   \n",
       "std        0.13    0.85    0.70  ...     23.29        1.05        1.18   \n",
       "min        0.01    0.00    1.08  ...      0.00        1.00        1.00   \n",
       "25%        0.06    0.05    3.60  ...      2.75        2.00        3.00   \n",
       "50%        0.07    0.66    4.12  ...      7.50        3.00        4.00   \n",
       "75%        0.09    1.52    4.39  ...     20.00        3.00        5.00   \n",
       "max        1.90    3.27    4.90  ...    127.00        5.00        5.00   \n",
       "\n",
       "       ELISA_KZO  ELISA_LNK  Live_Titer  VCD_OD        RNA      gDNA/1mL  \\\n",
       "count      82.00      21.00        5.00   22.00      47.00  5.600000e+01   \n",
       "mean     9263.34    6926.57        4.53    1.11   15827.86  1.960579e+08   \n",
       "std      3295.63    2853.12        0.71    1.02   22378.75  1.507412e+08   \n",
       "min      1630.00    3156.00        3.50   -0.40     170.00  2.545546e+06   \n",
       "25%      6617.25    4889.00        4.50    0.15    1478.96  7.661384e+07   \n",
       "50%      9670.25    5549.00        4.50    1.25    7378.63  1.359994e+08   \n",
       "75%     11124.50    9758.00        4.65    2.09   23748.48  2.879057e+08   \n",
       "max     17020.00   11965.00        5.50    2.58  103762.66  6.374318e+08   \n",
       "\n",
       "       Antifoam  \n",
       "count       7.0  \n",
       "mean        1.0  \n",
       "std         0.0  \n",
       "min         1.0  \n",
       "25%         1.0  \n",
       "50%         1.0  \n",
       "75%         1.0  \n",
       "max         1.0  \n",
       "\n",
       "[8 rows x 32 columns]"
      ]
     },
     "execution_count": 21,
     "metadata": {},
     "output_type": "execute_result"
    }
   ],
   "source": [
    "round(data.describe(), 2)"
   ]
  },
  {
   "cell_type": "code",
   "execution_count": 22,
   "metadata": {},
   "outputs": [
    {
     "data": {
      "text/html": [
       "<div>\n",
       "<style scoped>\n",
       "    .dataframe tbody tr th:only-of-type {\n",
       "        vertical-align: middle;\n",
       "    }\n",
       "\n",
       "    .dataframe tbody tr th {\n",
       "        vertical-align: top;\n",
       "    }\n",
       "\n",
       "    .dataframe thead th {\n",
       "        text-align: right;\n",
       "    }\n",
       "</style>\n",
       "<table border=\"1\" class=\"dataframe\">\n",
       "  <thead>\n",
       "    <tr style=\"text-align: right;\">\n",
       "      <th></th>\n",
       "      <th>Batch</th>\n",
       "      <th>Vessel</th>\n",
       "      <th>Time</th>\n",
       "      <th>Micro_Intra</th>\n",
       "      <th>Micro_Extra</th>\n",
       "      <th>Micro_Comments</th>\n",
       "    </tr>\n",
       "  </thead>\n",
       "  <tbody>\n",
       "    <tr>\n",
       "      <th>count</th>\n",
       "      <td>422</td>\n",
       "      <td>422</td>\n",
       "      <td>341</td>\n",
       "      <td>247</td>\n",
       "      <td>247</td>\n",
       "      <td>248</td>\n",
       "    </tr>\n",
       "    <tr>\n",
       "      <th>unique</th>\n",
       "      <td>12</td>\n",
       "      <td>5</td>\n",
       "      <td>162</td>\n",
       "      <td>5</td>\n",
       "      <td>6</td>\n",
       "      <td>23</td>\n",
       "    </tr>\n",
       "    <tr>\n",
       "      <th>top</th>\n",
       "      <td>484263PV</td>\n",
       "      <td>1000L SUB</td>\n",
       "      <td>09:00:00</td>\n",
       "      <td>Some, 2+</td>\n",
       "      <td>Very Heavy, 4+</td>\n",
       "      <td>None</td>\n",
       "    </tr>\n",
       "    <tr>\n",
       "      <th>freq</th>\n",
       "      <td>42</td>\n",
       "      <td>132</td>\n",
       "      <td>7</td>\n",
       "      <td>97</td>\n",
       "      <td>105</td>\n",
       "      <td>225</td>\n",
       "    </tr>\n",
       "  </tbody>\n",
       "</table>\n",
       "</div>"
      ],
      "text/plain": [
       "           Batch     Vessel      Time Micro_Intra     Micro_Extra  \\\n",
       "count        422        422       341         247             247   \n",
       "unique        12          5       162           5               6   \n",
       "top     484263PV  1000L SUB  09:00:00    Some, 2+  Very Heavy, 4+   \n",
       "freq          42        132         7          97             105   \n",
       "\n",
       "       Micro_Comments  \n",
       "count             248  \n",
       "unique             23  \n",
       "top              None  \n",
       "freq              225  "
      ]
     },
     "execution_count": 22,
     "metadata": {},
     "output_type": "execute_result"
    }
   ],
   "source": [
    "data.describe(include=['O'])"
   ]
  },
  {
   "cell_type": "markdown",
   "metadata": {},
   "source": [
    "Remove VCD_OD data for 471341PV"
   ]
  },
  {
   "cell_type": "code",
   "execution_count": 23,
   "metadata": {},
   "outputs": [],
   "source": [
    "import numpy as np"
   ]
  },
  {
   "cell_type": "code",
   "execution_count": 24,
   "metadata": {},
   "outputs": [],
   "source": [
    "data.loc[(data.Batch == '471341PV'), 'VCD_OD'] = np.nan"
   ]
  },
  {
   "cell_type": "code",
   "execution_count": 25,
   "metadata": {},
   "outputs": [],
   "source": [
    "keepCols = ['Batch', 'Vessel', 'DPI', \n",
    "       'DO_pct', 'pH_online', 'pH_offline', 'O₂_%sat', 'CO₂_%sat', 'L_Glut',\n",
    "       'Gluc', 'Lact', 'Ammon', 'Nuc_NonVi', 'Nuc_TotCt', 'Nuc_LiveCt',\n",
    "       'Nuc_Viab', 'MPbio_TotCt',\n",
    "       'MPtvo_TotCt', 'Intra_Ct', 'Micro_Intra', 'Micro_Extra',\n",
    "       'Intra_Code', 'Extra_Code', 'ELISA_KZO',\n",
    "       'Live_Titer', 'VCD_OD', 'RNA', 'gDNA/1mL', 'Antifoam']"
   ]
  },
  {
   "cell_type": "code",
   "execution_count": 26,
   "metadata": {},
   "outputs": [],
   "source": [
    "newDF = data[keepCols]"
   ]
  },
  {
   "cell_type": "code",
   "execution_count": 27,
   "metadata": {},
   "outputs": [
    {
     "data": {
      "text/html": [
       "<div>\n",
       "<style scoped>\n",
       "    .dataframe tbody tr th:only-of-type {\n",
       "        vertical-align: middle;\n",
       "    }\n",
       "\n",
       "    .dataframe tbody tr th {\n",
       "        vertical-align: top;\n",
       "    }\n",
       "\n",
       "    .dataframe thead th {\n",
       "        text-align: right;\n",
       "    }\n",
       "</style>\n",
       "<table border=\"1\" class=\"dataframe\">\n",
       "  <thead>\n",
       "    <tr style=\"text-align: right;\">\n",
       "      <th></th>\n",
       "      <th>Batch</th>\n",
       "      <th>Vessel</th>\n",
       "      <th>DPI</th>\n",
       "      <th>DO_pct</th>\n",
       "      <th>pH_online</th>\n",
       "      <th>pH_offline</th>\n",
       "      <th>O₂_%sat</th>\n",
       "      <th>CO₂_%sat</th>\n",
       "      <th>L_Glut</th>\n",
       "      <th>Gluc</th>\n",
       "      <th>...</th>\n",
       "      <th>Micro_Intra</th>\n",
       "      <th>Micro_Extra</th>\n",
       "      <th>Intra_Code</th>\n",
       "      <th>Extra_Code</th>\n",
       "      <th>ELISA_KZO</th>\n",
       "      <th>Live_Titer</th>\n",
       "      <th>VCD_OD</th>\n",
       "      <th>RNA</th>\n",
       "      <th>gDNA/1mL</th>\n",
       "      <th>Antifoam</th>\n",
       "    </tr>\n",
       "  </thead>\n",
       "  <tbody>\n",
       "    <tr>\n",
       "      <th>0</th>\n",
       "      <td>369697PV</td>\n",
       "      <td>Flasks</td>\n",
       "      <td>3.0</td>\n",
       "      <td>NaN</td>\n",
       "      <td>NaN</td>\n",
       "      <td>NaN</td>\n",
       "      <td>NaN</td>\n",
       "      <td>NaN</td>\n",
       "      <td>NaN</td>\n",
       "      <td>NaN</td>\n",
       "      <td>...</td>\n",
       "      <td>NaN</td>\n",
       "      <td>NaN</td>\n",
       "      <td>NaN</td>\n",
       "      <td>NaN</td>\n",
       "      <td>NaN</td>\n",
       "      <td>NaN</td>\n",
       "      <td>NaN</td>\n",
       "      <td>NaN</td>\n",
       "      <td>NaN</td>\n",
       "      <td>NaN</td>\n",
       "    </tr>\n",
       "    <tr>\n",
       "      <th>2</th>\n",
       "      <td>369697PV</td>\n",
       "      <td>5L BLU</td>\n",
       "      <td>0.0</td>\n",
       "      <td>15.39</td>\n",
       "      <td>6.983</td>\n",
       "      <td>7.118</td>\n",
       "      <td>0.586</td>\n",
       "      <td>0.084</td>\n",
       "      <td>NaN</td>\n",
       "      <td>NaN</td>\n",
       "      <td>...</td>\n",
       "      <td>NaN</td>\n",
       "      <td>NaN</td>\n",
       "      <td>NaN</td>\n",
       "      <td>NaN</td>\n",
       "      <td>NaN</td>\n",
       "      <td>NaN</td>\n",
       "      <td>NaN</td>\n",
       "      <td>NaN</td>\n",
       "      <td>NaN</td>\n",
       "      <td>NaN</td>\n",
       "    </tr>\n",
       "    <tr>\n",
       "      <th>3</th>\n",
       "      <td>369697PV</td>\n",
       "      <td>5L BLU</td>\n",
       "      <td>1.0</td>\n",
       "      <td>NaN</td>\n",
       "      <td>NaN</td>\n",
       "      <td>NaN</td>\n",
       "      <td>NaN</td>\n",
       "      <td>NaN</td>\n",
       "      <td>NaN</td>\n",
       "      <td>NaN</td>\n",
       "      <td>...</td>\n",
       "      <td>NaN</td>\n",
       "      <td>NaN</td>\n",
       "      <td>NaN</td>\n",
       "      <td>NaN</td>\n",
       "      <td>NaN</td>\n",
       "      <td>NaN</td>\n",
       "      <td>NaN</td>\n",
       "      <td>NaN</td>\n",
       "      <td>NaN</td>\n",
       "      <td>NaN</td>\n",
       "    </tr>\n",
       "    <tr>\n",
       "      <th>4</th>\n",
       "      <td>369697PV</td>\n",
       "      <td>5L BLU</td>\n",
       "      <td>2.0</td>\n",
       "      <td>NaN</td>\n",
       "      <td>NaN</td>\n",
       "      <td>NaN</td>\n",
       "      <td>NaN</td>\n",
       "      <td>NaN</td>\n",
       "      <td>NaN</td>\n",
       "      <td>NaN</td>\n",
       "      <td>...</td>\n",
       "      <td>NaN</td>\n",
       "      <td>NaN</td>\n",
       "      <td>NaN</td>\n",
       "      <td>NaN</td>\n",
       "      <td>NaN</td>\n",
       "      <td>NaN</td>\n",
       "      <td>NaN</td>\n",
       "      <td>NaN</td>\n",
       "      <td>NaN</td>\n",
       "      <td>NaN</td>\n",
       "    </tr>\n",
       "    <tr>\n",
       "      <th>5</th>\n",
       "      <td>369697PV</td>\n",
       "      <td>5L BLU</td>\n",
       "      <td>3.0</td>\n",
       "      <td>NaN</td>\n",
       "      <td>NaN</td>\n",
       "      <td>NaN</td>\n",
       "      <td>NaN</td>\n",
       "      <td>NaN</td>\n",
       "      <td>NaN</td>\n",
       "      <td>NaN</td>\n",
       "      <td>...</td>\n",
       "      <td>NaN</td>\n",
       "      <td>NaN</td>\n",
       "      <td>NaN</td>\n",
       "      <td>NaN</td>\n",
       "      <td>NaN</td>\n",
       "      <td>NaN</td>\n",
       "      <td>NaN</td>\n",
       "      <td>NaN</td>\n",
       "      <td>NaN</td>\n",
       "      <td>NaN</td>\n",
       "    </tr>\n",
       "  </tbody>\n",
       "</table>\n",
       "<p>5 rows × 29 columns</p>\n",
       "</div>"
      ],
      "text/plain": [
       "      Batch  Vessel  DPI  DO_pct  pH_online  pH_offline  O₂_%sat  CO₂_%sat  \\\n",
       "0  369697PV  Flasks  3.0     NaN        NaN         NaN      NaN       NaN   \n",
       "2  369697PV  5L BLU  0.0   15.39      6.983       7.118    0.586     0.084   \n",
       "3  369697PV  5L BLU  1.0     NaN        NaN         NaN      NaN       NaN   \n",
       "4  369697PV  5L BLU  2.0     NaN        NaN         NaN      NaN       NaN   \n",
       "5  369697PV  5L BLU  3.0     NaN        NaN         NaN      NaN       NaN   \n",
       "\n",
       "   L_Glut  Gluc  ...  Micro_Intra  Micro_Extra  Intra_Code  Extra_Code  \\\n",
       "0     NaN   NaN  ...          NaN          NaN         NaN         NaN   \n",
       "2     NaN   NaN  ...          NaN          NaN         NaN         NaN   \n",
       "3     NaN   NaN  ...          NaN          NaN         NaN         NaN   \n",
       "4     NaN   NaN  ...          NaN          NaN         NaN         NaN   \n",
       "5     NaN   NaN  ...          NaN          NaN         NaN         NaN   \n",
       "\n",
       "   ELISA_KZO  Live_Titer  VCD_OD  RNA  gDNA/1mL Antifoam  \n",
       "0        NaN         NaN     NaN  NaN       NaN      NaN  \n",
       "2        NaN         NaN     NaN  NaN       NaN      NaN  \n",
       "3        NaN         NaN     NaN  NaN       NaN      NaN  \n",
       "4        NaN         NaN     NaN  NaN       NaN      NaN  \n",
       "5        NaN         NaN     NaN  NaN       NaN      NaN  \n",
       "\n",
       "[5 rows x 29 columns]"
      ]
     },
     "execution_count": 27,
     "metadata": {},
     "output_type": "execute_result"
    }
   ],
   "source": [
    "newDF.head()"
   ]
  },
  {
   "cell_type": "code",
   "execution_count": 28,
   "metadata": {},
   "outputs": [
    {
     "data": {
      "text/html": [
       "<div>\n",
       "<style scoped>\n",
       "    .dataframe tbody tr th:only-of-type {\n",
       "        vertical-align: middle;\n",
       "    }\n",
       "\n",
       "    .dataframe tbody tr th {\n",
       "        vertical-align: top;\n",
       "    }\n",
       "\n",
       "    .dataframe thead th {\n",
       "        text-align: right;\n",
       "    }\n",
       "</style>\n",
       "<table border=\"1\" class=\"dataframe\">\n",
       "  <thead>\n",
       "    <tr style=\"text-align: right;\">\n",
       "      <th></th>\n",
       "      <th>DO_pct</th>\n",
       "      <th>pH_online</th>\n",
       "      <th>pH_offline</th>\n",
       "      <th>O₂_%sat</th>\n",
       "      <th>CO₂_%sat</th>\n",
       "      <th>L_Glut</th>\n",
       "      <th>Gluc</th>\n",
       "      <th>Lact</th>\n",
       "      <th>Ammon</th>\n",
       "      <th>Nuc_NonVi</th>\n",
       "      <th>...</th>\n",
       "      <th>Micro_Intra</th>\n",
       "      <th>Micro_Extra</th>\n",
       "      <th>Intra_Code</th>\n",
       "      <th>Extra_Code</th>\n",
       "      <th>ELISA_KZO</th>\n",
       "      <th>Live_Titer</th>\n",
       "      <th>VCD_OD</th>\n",
       "      <th>RNA</th>\n",
       "      <th>gDNA/1mL</th>\n",
       "      <th>Antifoam</th>\n",
       "    </tr>\n",
       "  </thead>\n",
       "  <tbody>\n",
       "    <tr>\n",
       "      <th>0</th>\n",
       "      <td>NaN</td>\n",
       "      <td>NaN</td>\n",
       "      <td>NaN</td>\n",
       "      <td>NaN</td>\n",
       "      <td>NaN</td>\n",
       "      <td>NaN</td>\n",
       "      <td>NaN</td>\n",
       "      <td>NaN</td>\n",
       "      <td>NaN</td>\n",
       "      <td>2500.0</td>\n",
       "      <td>...</td>\n",
       "      <td>NaN</td>\n",
       "      <td>NaN</td>\n",
       "      <td>NaN</td>\n",
       "      <td>NaN</td>\n",
       "      <td>NaN</td>\n",
       "      <td>NaN</td>\n",
       "      <td>NaN</td>\n",
       "      <td>NaN</td>\n",
       "      <td>NaN</td>\n",
       "      <td>NaN</td>\n",
       "    </tr>\n",
       "    <tr>\n",
       "      <th>2</th>\n",
       "      <td>15.39</td>\n",
       "      <td>6.983</td>\n",
       "      <td>7.118</td>\n",
       "      <td>0.586</td>\n",
       "      <td>0.084</td>\n",
       "      <td>NaN</td>\n",
       "      <td>NaN</td>\n",
       "      <td>NaN</td>\n",
       "      <td>0.57</td>\n",
       "      <td>2500.0</td>\n",
       "      <td>...</td>\n",
       "      <td>NaN</td>\n",
       "      <td>NaN</td>\n",
       "      <td>NaN</td>\n",
       "      <td>NaN</td>\n",
       "      <td>NaN</td>\n",
       "      <td>NaN</td>\n",
       "      <td>NaN</td>\n",
       "      <td>NaN</td>\n",
       "      <td>NaN</td>\n",
       "      <td>NaN</td>\n",
       "    </tr>\n",
       "    <tr>\n",
       "      <th>3</th>\n",
       "      <td>NaN</td>\n",
       "      <td>NaN</td>\n",
       "      <td>NaN</td>\n",
       "      <td>NaN</td>\n",
       "      <td>NaN</td>\n",
       "      <td>NaN</td>\n",
       "      <td>NaN</td>\n",
       "      <td>NaN</td>\n",
       "      <td>NaN</td>\n",
       "      <td>NaN</td>\n",
       "      <td>...</td>\n",
       "      <td>NaN</td>\n",
       "      <td>NaN</td>\n",
       "      <td>NaN</td>\n",
       "      <td>NaN</td>\n",
       "      <td>NaN</td>\n",
       "      <td>NaN</td>\n",
       "      <td>NaN</td>\n",
       "      <td>NaN</td>\n",
       "      <td>NaN</td>\n",
       "      <td>NaN</td>\n",
       "    </tr>\n",
       "    <tr>\n",
       "      <th>4</th>\n",
       "      <td>NaN</td>\n",
       "      <td>NaN</td>\n",
       "      <td>NaN</td>\n",
       "      <td>NaN</td>\n",
       "      <td>NaN</td>\n",
       "      <td>NaN</td>\n",
       "      <td>NaN</td>\n",
       "      <td>NaN</td>\n",
       "      <td>NaN</td>\n",
       "      <td>NaN</td>\n",
       "      <td>...</td>\n",
       "      <td>NaN</td>\n",
       "      <td>NaN</td>\n",
       "      <td>NaN</td>\n",
       "      <td>NaN</td>\n",
       "      <td>NaN</td>\n",
       "      <td>NaN</td>\n",
       "      <td>NaN</td>\n",
       "      <td>NaN</td>\n",
       "      <td>NaN</td>\n",
       "      <td>NaN</td>\n",
       "    </tr>\n",
       "    <tr>\n",
       "      <th>5</th>\n",
       "      <td>NaN</td>\n",
       "      <td>NaN</td>\n",
       "      <td>NaN</td>\n",
       "      <td>NaN</td>\n",
       "      <td>NaN</td>\n",
       "      <td>NaN</td>\n",
       "      <td>NaN</td>\n",
       "      <td>NaN</td>\n",
       "      <td>NaN</td>\n",
       "      <td>NaN</td>\n",
       "      <td>...</td>\n",
       "      <td>NaN</td>\n",
       "      <td>NaN</td>\n",
       "      <td>NaN</td>\n",
       "      <td>NaN</td>\n",
       "      <td>NaN</td>\n",
       "      <td>NaN</td>\n",
       "      <td>NaN</td>\n",
       "      <td>NaN</td>\n",
       "      <td>NaN</td>\n",
       "      <td>NaN</td>\n",
       "    </tr>\n",
       "    <tr>\n",
       "      <th>...</th>\n",
       "      <td>...</td>\n",
       "      <td>...</td>\n",
       "      <td>...</td>\n",
       "      <td>...</td>\n",
       "      <td>...</td>\n",
       "      <td>...</td>\n",
       "      <td>...</td>\n",
       "      <td>...</td>\n",
       "      <td>...</td>\n",
       "      <td>...</td>\n",
       "      <td>...</td>\n",
       "      <td>...</td>\n",
       "      <td>...</td>\n",
       "      <td>...</td>\n",
       "      <td>...</td>\n",
       "      <td>...</td>\n",
       "      <td>...</td>\n",
       "      <td>...</td>\n",
       "      <td>...</td>\n",
       "      <td>...</td>\n",
       "      <td>...</td>\n",
       "    </tr>\n",
       "    <tr>\n",
       "      <th>460</th>\n",
       "      <td>5.44</td>\n",
       "      <td>7.050</td>\n",
       "      <td>6.951</td>\n",
       "      <td>0.390</td>\n",
       "      <td>0.069</td>\n",
       "      <td>0.0</td>\n",
       "      <td>2.91</td>\n",
       "      <td>0.24</td>\n",
       "      <td>5.90</td>\n",
       "      <td>90000.0</td>\n",
       "      <td>...</td>\n",
       "      <td>Some, 2+</td>\n",
       "      <td>Very Heavy, 4+</td>\n",
       "      <td>3.0</td>\n",
       "      <td>5.0</td>\n",
       "      <td>NaN</td>\n",
       "      <td>NaN</td>\n",
       "      <td>NaN</td>\n",
       "      <td>NaN</td>\n",
       "      <td>NaN</td>\n",
       "      <td>NaN</td>\n",
       "    </tr>\n",
       "    <tr>\n",
       "      <th>461</th>\n",
       "      <td>6.07</td>\n",
       "      <td>7.050</td>\n",
       "      <td>7.103</td>\n",
       "      <td>0.480</td>\n",
       "      <td>0.044</td>\n",
       "      <td>0.0</td>\n",
       "      <td>2.67</td>\n",
       "      <td>0.30</td>\n",
       "      <td>5.91</td>\n",
       "      <td>69000.0</td>\n",
       "      <td>...</td>\n",
       "      <td>Some, 2+</td>\n",
       "      <td>Very Heavy, 4+</td>\n",
       "      <td>3.0</td>\n",
       "      <td>5.0</td>\n",
       "      <td>NaN</td>\n",
       "      <td>NaN</td>\n",
       "      <td>NaN</td>\n",
       "      <td>NaN</td>\n",
       "      <td>NaN</td>\n",
       "      <td>NaN</td>\n",
       "    </tr>\n",
       "    <tr>\n",
       "      <th>462</th>\n",
       "      <td>6.14</td>\n",
       "      <td>7.050</td>\n",
       "      <td>7.072</td>\n",
       "      <td>0.384</td>\n",
       "      <td>0.047</td>\n",
       "      <td>0.0</td>\n",
       "      <td>2.54</td>\n",
       "      <td>0.25</td>\n",
       "      <td>5.93</td>\n",
       "      <td>124000.0</td>\n",
       "      <td>...</td>\n",
       "      <td>Some, 2+</td>\n",
       "      <td>Very Heavy, 4+</td>\n",
       "      <td>3.0</td>\n",
       "      <td>5.0</td>\n",
       "      <td>NaN</td>\n",
       "      <td>NaN</td>\n",
       "      <td>NaN</td>\n",
       "      <td>NaN</td>\n",
       "      <td>NaN</td>\n",
       "      <td>NaN</td>\n",
       "    </tr>\n",
       "    <tr>\n",
       "      <th>463</th>\n",
       "      <td>5.73</td>\n",
       "      <td>7.050</td>\n",
       "      <td>7.024</td>\n",
       "      <td>0.386</td>\n",
       "      <td>0.055</td>\n",
       "      <td>0.0</td>\n",
       "      <td>2.44</td>\n",
       "      <td>0.19</td>\n",
       "      <td>5.75</td>\n",
       "      <td>192000.0</td>\n",
       "      <td>...</td>\n",
       "      <td>Some, 2+</td>\n",
       "      <td>Very Heavy, 4+</td>\n",
       "      <td>3.0</td>\n",
       "      <td>5.0</td>\n",
       "      <td>NaN</td>\n",
       "      <td>NaN</td>\n",
       "      <td>NaN</td>\n",
       "      <td>NaN</td>\n",
       "      <td>NaN</td>\n",
       "      <td>NaN</td>\n",
       "    </tr>\n",
       "    <tr>\n",
       "      <th>464</th>\n",
       "      <td>3.49</td>\n",
       "      <td>7.060</td>\n",
       "      <td>7.078</td>\n",
       "      <td>0.404</td>\n",
       "      <td>0.044</td>\n",
       "      <td>0.0</td>\n",
       "      <td>2.40</td>\n",
       "      <td>0.10</td>\n",
       "      <td>NaN</td>\n",
       "      <td>195000.0</td>\n",
       "      <td>...</td>\n",
       "      <td>Some, 2+</td>\n",
       "      <td>Very Heavy, 4+</td>\n",
       "      <td>3.0</td>\n",
       "      <td>5.0</td>\n",
       "      <td>NaN</td>\n",
       "      <td>NaN</td>\n",
       "      <td>NaN</td>\n",
       "      <td>NaN</td>\n",
       "      <td>NaN</td>\n",
       "      <td>NaN</td>\n",
       "    </tr>\n",
       "  </tbody>\n",
       "</table>\n",
       "<p>422 rows × 26 columns</p>\n",
       "</div>"
      ],
      "text/plain": [
       "     DO_pct  pH_online  pH_offline  O₂_%sat  CO₂_%sat  L_Glut  Gluc  Lact  \\\n",
       "0       NaN        NaN         NaN      NaN       NaN     NaN   NaN   NaN   \n",
       "2     15.39      6.983       7.118    0.586     0.084     NaN   NaN   NaN   \n",
       "3       NaN        NaN         NaN      NaN       NaN     NaN   NaN   NaN   \n",
       "4       NaN        NaN         NaN      NaN       NaN     NaN   NaN   NaN   \n",
       "5       NaN        NaN         NaN      NaN       NaN     NaN   NaN   NaN   \n",
       "..      ...        ...         ...      ...       ...     ...   ...   ...   \n",
       "460    5.44      7.050       6.951    0.390     0.069     0.0  2.91  0.24   \n",
       "461    6.07      7.050       7.103    0.480     0.044     0.0  2.67  0.30   \n",
       "462    6.14      7.050       7.072    0.384     0.047     0.0  2.54  0.25   \n",
       "463    5.73      7.050       7.024    0.386     0.055     0.0  2.44  0.19   \n",
       "464    3.49      7.060       7.078    0.404     0.044     0.0  2.40  0.10   \n",
       "\n",
       "     Ammon  Nuc_NonVi  ...  Micro_Intra     Micro_Extra  Intra_Code  \\\n",
       "0      NaN     2500.0  ...          NaN             NaN         NaN   \n",
       "2     0.57     2500.0  ...          NaN             NaN         NaN   \n",
       "3      NaN        NaN  ...          NaN             NaN         NaN   \n",
       "4      NaN        NaN  ...          NaN             NaN         NaN   \n",
       "5      NaN        NaN  ...          NaN             NaN         NaN   \n",
       "..     ...        ...  ...          ...             ...         ...   \n",
       "460   5.90    90000.0  ...     Some, 2+  Very Heavy, 4+         3.0   \n",
       "461   5.91    69000.0  ...     Some, 2+  Very Heavy, 4+         3.0   \n",
       "462   5.93   124000.0  ...     Some, 2+  Very Heavy, 4+         3.0   \n",
       "463   5.75   192000.0  ...     Some, 2+  Very Heavy, 4+         3.0   \n",
       "464    NaN   195000.0  ...     Some, 2+  Very Heavy, 4+         3.0   \n",
       "\n",
       "     Extra_Code  ELISA_KZO  Live_Titer VCD_OD RNA  gDNA/1mL  Antifoam  \n",
       "0           NaN        NaN         NaN    NaN NaN       NaN       NaN  \n",
       "2           NaN        NaN         NaN    NaN NaN       NaN       NaN  \n",
       "3           NaN        NaN         NaN    NaN NaN       NaN       NaN  \n",
       "4           NaN        NaN         NaN    NaN NaN       NaN       NaN  \n",
       "5           NaN        NaN         NaN    NaN NaN       NaN       NaN  \n",
       "..          ...        ...         ...    ...  ..       ...       ...  \n",
       "460         5.0        NaN         NaN    NaN NaN       NaN       NaN  \n",
       "461         5.0        NaN         NaN    NaN NaN       NaN       NaN  \n",
       "462         5.0        NaN         NaN    NaN NaN       NaN       NaN  \n",
       "463         5.0        NaN         NaN    NaN NaN       NaN       NaN  \n",
       "464         5.0        NaN         NaN    NaN NaN       NaN       NaN  \n",
       "\n",
       "[422 rows x 26 columns]"
      ]
     },
     "execution_count": 28,
     "metadata": {},
     "output_type": "execute_result"
    }
   ],
   "source": [
    "newDF.iloc[:,3:]"
   ]
  },
  {
   "cell_type": "code",
   "execution_count": 29,
   "metadata": {},
   "outputs": [
    {
     "data": {
      "text/plain": [
       "Batch          369697PV\n",
       "Vessel           5L BLU\n",
       "DPI                   1\n",
       "DO_pct              NaN\n",
       "pH_online           NaN\n",
       "pH_offline          NaN\n",
       "O₂_%sat             NaN\n",
       "CO₂_%sat            NaN\n",
       "L_Glut              NaN\n",
       "Gluc                NaN\n",
       "Lact                NaN\n",
       "Ammon               NaN\n",
       "Nuc_NonVi           NaN\n",
       "Nuc_TotCt           NaN\n",
       "Nuc_LiveCt          NaN\n",
       "Nuc_Viab            NaN\n",
       "MPbio_TotCt         NaN\n",
       "MPtvo_TotCt         NaN\n",
       "Intra_Ct            NaN\n",
       "Micro_Intra         NaN\n",
       "Micro_Extra         NaN\n",
       "Intra_Code          NaN\n",
       "Extra_Code          NaN\n",
       "ELISA_KZO           NaN\n",
       "Live_Titer          NaN\n",
       "VCD_OD              NaN\n",
       "RNA                 NaN\n",
       "gDNA/1mL            NaN\n",
       "Antifoam            NaN\n",
       "Name: 3, dtype: object"
      ]
     },
     "execution_count": 29,
     "metadata": {},
     "output_type": "execute_result"
    }
   ],
   "source": [
    "newDF.iloc[2]"
   ]
  },
  {
   "cell_type": "code",
   "execution_count": 30,
   "metadata": {},
   "outputs": [],
   "source": [
    "testDF = newDF.copy()"
   ]
  },
  {
   "cell_type": "code",
   "execution_count": 31,
   "metadata": {},
   "outputs": [
    {
     "data": {
      "text/plain": [
       "(422, 29)"
      ]
     },
     "execution_count": 31,
     "metadata": {},
     "output_type": "execute_result"
    }
   ],
   "source": [
    "testDF.shape"
   ]
  },
  {
   "cell_type": "code",
   "execution_count": 32,
   "metadata": {},
   "outputs": [],
   "source": [
    "# testDF.dropna(thresh=20)"
   ]
  },
  {
   "cell_type": "code",
   "execution_count": 33,
   "metadata": {},
   "outputs": [],
   "source": [
    "# testDF.dropna(thresh=1)"
   ]
  },
  {
   "cell_type": "markdown",
   "metadata": {},
   "source": [
    "#### Remove rows without data"
   ]
  },
  {
   "cell_type": "code",
   "execution_count": 34,
   "metadata": {},
   "outputs": [],
   "source": [
    "colList = testDF.columns[3:]"
   ]
  },
  {
   "cell_type": "code",
   "execution_count": 35,
   "metadata": {},
   "outputs": [],
   "source": [
    "testDF.dropna(axis=0, subset=colList, how=\"all\", inplace=True)"
   ]
  },
  {
   "cell_type": "code",
   "execution_count": 36,
   "metadata": {},
   "outputs": [
    {
     "data": {
      "text/plain": [
       "Batch          369697PV\n",
       "Vessel           Flasks\n",
       "DPI                   3\n",
       "DO_pct              NaN\n",
       "pH_online           NaN\n",
       "pH_offline          NaN\n",
       "O₂_%sat             NaN\n",
       "CO₂_%sat            NaN\n",
       "L_Glut              NaN\n",
       "Gluc                NaN\n",
       "Lact                NaN\n",
       "Ammon               NaN\n",
       "Nuc_NonVi          2500\n",
       "Nuc_TotCt        648000\n",
       "Nuc_LiveCt       643000\n",
       "Nuc_Viab          0.992\n",
       "MPbio_TotCt     1.3e+07\n",
       "MPtvo_TotCt    2.66e+06\n",
       "Intra_Ct            NaN\n",
       "Micro_Intra         NaN\n",
       "Micro_Extra         NaN\n",
       "Intra_Code          NaN\n",
       "Extra_Code          NaN\n",
       "ELISA_KZO           NaN\n",
       "Live_Titer          NaN\n",
       "VCD_OD              NaN\n",
       "RNA                 NaN\n",
       "gDNA/1mL            NaN\n",
       "Antifoam            NaN\n",
       "Name: 0, dtype: object"
      ]
     },
     "execution_count": 36,
     "metadata": {},
     "output_type": "execute_result"
    }
   ],
   "source": [
    "testDF.loc[0]"
   ]
  },
  {
   "cell_type": "code",
   "execution_count": 37,
   "metadata": {},
   "outputs": [
    {
     "data": {
      "text/plain": [
       "(352, 29)"
      ]
     },
     "execution_count": 37,
     "metadata": {},
     "output_type": "execute_result"
    }
   ],
   "source": [
    "testDF.shape"
   ]
  },
  {
   "cell_type": "code",
   "execution_count": null,
   "metadata": {},
   "outputs": [],
   "source": []
  },
  {
   "cell_type": "code",
   "execution_count": 38,
   "metadata": {},
   "outputs": [],
   "source": [
    "y = data.MPbio_TotCt"
   ]
  },
  {
   "cell_type": "code",
   "execution_count": 39,
   "metadata": {},
   "outputs": [],
   "source": [
    "x = data.DPI"
   ]
  },
  {
   "cell_type": "code",
   "execution_count": 40,
   "metadata": {},
   "outputs": [],
   "source": [
    "import numpy as np"
   ]
  },
  {
   "cell_type": "code",
   "execution_count": 41,
   "metadata": {},
   "outputs": [
    {
     "data": {
      "text/plain": [
       "<matplotlib.collections.PathCollection at 0x1a54ad29e80>"
      ]
     },
     "execution_count": 41,
     "metadata": {},
     "output_type": "execute_result"
    },
    {
     "data": {
      "image/png": "[encoded data removed]",
      "text/plain": [
       "<Figure size 432x288 with 1 Axes>"
      ]
     },
     "metadata": {
      "needs_background": "light"
     },
     "output_type": "display_data"
    }
   ],
   "source": [
    "plt.scatter(x, y)"
   ]
  },
  {
   "cell_type": "code",
   "execution_count": 42,
   "metadata": {},
   "outputs": [],
   "source": [
    "# plt.scatter(x, y)\n",
    "# m, b = np.polyfit(x, y, 1)\n",
    "# plt.plot(x, m*x+b)"
   ]
  },
  {
   "cell_type": "code",
   "execution_count": 43,
   "metadata": {},
   "outputs": [],
   "source": [
    "import seaborn as sns"
   ]
  },
  {
   "cell_type": "code",
   "execution_count": 44,
   "metadata": {},
   "outputs": [
    {
     "data": {
      "text/plain": [
       "<AxesSubplot:xlabel='DPI', ylabel='MPbio_TotCt'>"
      ]
     },
     "execution_count": 44,
     "metadata": {},
     "output_type": "execute_result"
    },
    {
     "data": {
      "image/png": "[encoded data removed]",
      "text/plain": [
       "<Figure size 432x288 with 1 Axes>"
      ]
     },
     "metadata": {
      "needs_background": "light"
     },
     "output_type": "display_data"
    }
   ],
   "source": [
    "sns.stripplot(x=\"DPI\", y=\"MPbio_TotCt\", data=data, jitter=0.5)"
   ]
  },
  {
   "cell_type": "code",
   "execution_count": 45,
   "metadata": {},
   "outputs": [
    {
     "data": {
      "text/plain": [
       "<AxesSubplot:xlabel='DPI', ylabel='MPbio_TotCt'>"
      ]
     },
     "execution_count": 45,
     "metadata": {},
     "output_type": "execute_result"
    },
    {
     "data": {
      "image/png": "[encoded data removed]",
      "text/plain": [
       "<Figure size 432x288 with 1 Axes>"
      ]
     },
     "metadata": {
      "needs_background": "light"
     },
     "output_type": "display_data"
    }
   ],
   "source": [
    "sns.scatterplot(x=\"DPI\", y=\"MPbio_TotCt\", data=data, x_jitter=0.5)"
   ]
  },
  {
   "cell_type": "code",
   "execution_count": 46,
   "metadata": {},
   "outputs": [],
   "source": [
    "import statsmodels.api as sm"
   ]
  },
  {
   "cell_type": "code",
   "execution_count": 47,
   "metadata": {},
   "outputs": [],
   "source": [
    "df = data.copy()"
   ]
  },
  {
   "cell_type": "code",
   "execution_count": 48,
   "metadata": {},
   "outputs": [],
   "source": [
    "# df = df.astype('float')"
   ]
  },
  {
   "cell_type": "code",
   "execution_count": 49,
   "metadata": {},
   "outputs": [],
   "source": [
    "# for i in df.columns:\n",
    "#     if not pd.isnull(df[i]).any():\n",
    "#         for j in df.columns:\n",
    "#             if j != i and not pd.isnull(df[j]).any():\n",
    "#                 model = sm.OLS(df[j], df[i]).fit()\n",
    "#                 if model.rsquared > 0.40:\n",
    "#                     df.plot.scatter(x=i, y=j)\n",
    "#                     sns.regplot(x=i, y=j, data=df)\n",
    "#                     fig = plt.gcf()\n",
    "# #                     fig.suptitle(\"\")"
   ]
  },
  {
   "cell_type": "code",
   "execution_count": 50,
   "metadata": {},
   "outputs": [
    {
     "data": {
      "text/html": [
       "<div>\n",
       "<style scoped>\n",
       "    .dataframe tbody tr th:only-of-type {\n",
       "        vertical-align: middle;\n",
       "    }\n",
       "\n",
       "    .dataframe tbody tr th {\n",
       "        vertical-align: top;\n",
       "    }\n",
       "\n",
       "    .dataframe thead th {\n",
       "        text-align: right;\n",
       "    }\n",
       "</style>\n",
       "<table border=\"1\" class=\"dataframe\">\n",
       "  <thead>\n",
       "    <tr style=\"text-align: right;\">\n",
       "      <th></th>\n",
       "      <th>Batch</th>\n",
       "      <th>Vessel</th>\n",
       "      <th>DPI</th>\n",
       "      <th>Date</th>\n",
       "      <th>Time</th>\n",
       "      <th>Temp_C</th>\n",
       "      <th>Agitation</th>\n",
       "      <th>DO_pct</th>\n",
       "      <th>pH_online</th>\n",
       "      <th>pH_offline</th>\n",
       "      <th>...</th>\n",
       "      <th>Micro_Comments</th>\n",
       "      <th>Intra_Code</th>\n",
       "      <th>Extra_Code</th>\n",
       "      <th>ELISA_KZO</th>\n",
       "      <th>ELISA_LNK</th>\n",
       "      <th>Live_Titer</th>\n",
       "      <th>VCD_OD</th>\n",
       "      <th>RNA</th>\n",
       "      <th>gDNA/1mL</th>\n",
       "      <th>Antifoam</th>\n",
       "    </tr>\n",
       "  </thead>\n",
       "  <tbody>\n",
       "  </tbody>\n",
       "</table>\n",
       "<p>0 rows × 39 columns</p>\n",
       "</div>"
      ],
      "text/plain": [
       "Empty DataFrame\n",
       "Columns: [Batch, Vessel, DPI, Date, Time, Temp_C, Agitation, DO_pct, pH_online, pH_offline, O₂_%sat, CO₂_%sat, L_Glut, Gluc, Lact, Ammon, Nuc_NonVi, Nuc_TotCt, Nuc_LiveCt, Nuc_Viab, MPbio_Blank, MPbio_Area, MPbio_TotCt, MPtvo_Blank, MPtvo_Area, MPtvo_TotCt, Intra_Ct, Micro_Intra, Micro_Extra, Micro_Comments, Intra_Code, Extra_Code, ELISA_KZO, ELISA_LNK, Live_Titer, VCD_OD, RNA, gDNA/1mL, Antifoam]\n",
       "Index: []\n",
       "\n",
       "[0 rows x 39 columns]"
      ]
     },
     "execution_count": 50,
     "metadata": {},
     "output_type": "execute_result"
    }
   ],
   "source": [
    "df[pd.isnull(df.DPI)]#.any()"
   ]
  },
  {
   "cell_type": "code",
   "execution_count": 51,
   "metadata": {},
   "outputs": [],
   "source": [
    "df = df[df['DPI'].notnull()]"
   ]
  },
  {
   "cell_type": "code",
   "execution_count": 52,
   "metadata": {},
   "outputs": [
    {
     "data": {
      "text/html": [
       "<div>\n",
       "<style scoped>\n",
       "    .dataframe tbody tr th:only-of-type {\n",
       "        vertical-align: middle;\n",
       "    }\n",
       "\n",
       "    .dataframe tbody tr th {\n",
       "        vertical-align: top;\n",
       "    }\n",
       "\n",
       "    .dataframe thead th {\n",
       "        text-align: right;\n",
       "    }\n",
       "</style>\n",
       "<table border=\"1\" class=\"dataframe\">\n",
       "  <thead>\n",
       "    <tr style=\"text-align: right;\">\n",
       "      <th></th>\n",
       "      <th>Batch</th>\n",
       "      <th>Vessel</th>\n",
       "      <th>DPI</th>\n",
       "      <th>Date</th>\n",
       "      <th>Time</th>\n",
       "      <th>Temp_C</th>\n",
       "      <th>Agitation</th>\n",
       "      <th>DO_pct</th>\n",
       "      <th>pH_online</th>\n",
       "      <th>pH_offline</th>\n",
       "      <th>...</th>\n",
       "      <th>Micro_Comments</th>\n",
       "      <th>Intra_Code</th>\n",
       "      <th>Extra_Code</th>\n",
       "      <th>ELISA_KZO</th>\n",
       "      <th>ELISA_LNK</th>\n",
       "      <th>Live_Titer</th>\n",
       "      <th>VCD_OD</th>\n",
       "      <th>RNA</th>\n",
       "      <th>gDNA/1mL</th>\n",
       "      <th>Antifoam</th>\n",
       "    </tr>\n",
       "  </thead>\n",
       "  <tbody>\n",
       "    <tr>\n",
       "      <th>215</th>\n",
       "      <td>458161PV</td>\n",
       "      <td>50L BLU</td>\n",
       "      <td>6.0</td>\n",
       "      <td>2020-09-08</td>\n",
       "      <td>08:54:00</td>\n",
       "      <td>36.01</td>\n",
       "      <td>42.0</td>\n",
       "      <td>5.98</td>\n",
       "      <td>7.05</td>\n",
       "      <td>7.048</td>\n",
       "      <td>...</td>\n",
       "      <td>More intra than previous day</td>\n",
       "      <td>3.0</td>\n",
       "      <td>4.0</td>\n",
       "      <td>NaN</td>\n",
       "      <td>NaN</td>\n",
       "      <td>NaN</td>\n",
       "      <td>NaN</td>\n",
       "      <td>NaN</td>\n",
       "      <td>NaN</td>\n",
       "      <td>NaN</td>\n",
       "    </tr>\n",
       "    <tr>\n",
       "      <th>216</th>\n",
       "      <td>458161PV</td>\n",
       "      <td>50L BLU</td>\n",
       "      <td>7.0</td>\n",
       "      <td>2020-09-09</td>\n",
       "      <td>09:09:00</td>\n",
       "      <td>36.00</td>\n",
       "      <td>42.0</td>\n",
       "      <td>5.86</td>\n",
       "      <td>7.05</td>\n",
       "      <td>7.043</td>\n",
       "      <td>...</td>\n",
       "      <td>None</td>\n",
       "      <td>3.0</td>\n",
       "      <td>5.0</td>\n",
       "      <td>NaN</td>\n",
       "      <td>NaN</td>\n",
       "      <td>NaN</td>\n",
       "      <td>NaN</td>\n",
       "      <td>NaN</td>\n",
       "      <td>NaN</td>\n",
       "      <td>NaN</td>\n",
       "    </tr>\n",
       "    <tr>\n",
       "      <th>217</th>\n",
       "      <td>458161PV</td>\n",
       "      <td>50L BLU</td>\n",
       "      <td>8.0</td>\n",
       "      <td>2020-09-10</td>\n",
       "      <td>08:39:00</td>\n",
       "      <td>36.00</td>\n",
       "      <td>42.0</td>\n",
       "      <td>6.06</td>\n",
       "      <td>7.05</td>\n",
       "      <td>7.000</td>\n",
       "      <td>...</td>\n",
       "      <td>None</td>\n",
       "      <td>3.0</td>\n",
       "      <td>5.0</td>\n",
       "      <td>NaN</td>\n",
       "      <td>NaN</td>\n",
       "      <td>NaN</td>\n",
       "      <td>NaN</td>\n",
       "      <td>NaN</td>\n",
       "      <td>NaN</td>\n",
       "      <td>NaN</td>\n",
       "    </tr>\n",
       "    <tr>\n",
       "      <th>220</th>\n",
       "      <td>458161PV</td>\n",
       "      <td>250L SUB</td>\n",
       "      <td>0.0</td>\n",
       "      <td>2020-09-10</td>\n",
       "      <td>09:31:00</td>\n",
       "      <td>35.91</td>\n",
       "      <td>67.0</td>\n",
       "      <td>3.96</td>\n",
       "      <td>7.06</td>\n",
       "      <td>7.011</td>\n",
       "      <td>...</td>\n",
       "      <td>None</td>\n",
       "      <td>2.0</td>\n",
       "      <td>2.0</td>\n",
       "      <td>NaN</td>\n",
       "      <td>NaN</td>\n",
       "      <td>NaN</td>\n",
       "      <td>NaN</td>\n",
       "      <td>NaN</td>\n",
       "      <td>NaN</td>\n",
       "      <td>NaN</td>\n",
       "    </tr>\n",
       "    <tr>\n",
       "      <th>221</th>\n",
       "      <td>458161PV</td>\n",
       "      <td>250L SUB</td>\n",
       "      <td>1.0</td>\n",
       "      <td>2020-09-11</td>\n",
       "      <td>14:07:00</td>\n",
       "      <td>36.01</td>\n",
       "      <td>66.9</td>\n",
       "      <td>4.63</td>\n",
       "      <td>7.06</td>\n",
       "      <td>NaN</td>\n",
       "      <td>...</td>\n",
       "      <td>NaN</td>\n",
       "      <td>NaN</td>\n",
       "      <td>NaN</td>\n",
       "      <td>NaN</td>\n",
       "      <td>NaN</td>\n",
       "      <td>NaN</td>\n",
       "      <td>NaN</td>\n",
       "      <td>NaN</td>\n",
       "      <td>NaN</td>\n",
       "      <td>NaN</td>\n",
       "    </tr>\n",
       "    <tr>\n",
       "      <th>222</th>\n",
       "      <td>458161PV</td>\n",
       "      <td>250L SUB</td>\n",
       "      <td>2.0</td>\n",
       "      <td>2020-09-12</td>\n",
       "      <td>10:02:00</td>\n",
       "      <td>35.98</td>\n",
       "      <td>66.9</td>\n",
       "      <td>6.19</td>\n",
       "      <td>7.06</td>\n",
       "      <td>NaN</td>\n",
       "      <td>...</td>\n",
       "      <td>NaN</td>\n",
       "      <td>NaN</td>\n",
       "      <td>NaN</td>\n",
       "      <td>NaN</td>\n",
       "      <td>NaN</td>\n",
       "      <td>NaN</td>\n",
       "      <td>NaN</td>\n",
       "      <td>NaN</td>\n",
       "      <td>NaN</td>\n",
       "      <td>NaN</td>\n",
       "    </tr>\n",
       "    <tr>\n",
       "      <th>223</th>\n",
       "      <td>458161PV</td>\n",
       "      <td>250L SUB</td>\n",
       "      <td>3.0</td>\n",
       "      <td>2020-09-13</td>\n",
       "      <td>09:08:00</td>\n",
       "      <td>36.01</td>\n",
       "      <td>66.9</td>\n",
       "      <td>5.92</td>\n",
       "      <td>7.06</td>\n",
       "      <td>7.324</td>\n",
       "      <td>...</td>\n",
       "      <td>None</td>\n",
       "      <td>3.0</td>\n",
       "      <td>5.0</td>\n",
       "      <td>NaN</td>\n",
       "      <td>NaN</td>\n",
       "      <td>NaN</td>\n",
       "      <td>NaN</td>\n",
       "      <td>NaN</td>\n",
       "      <td>NaN</td>\n",
       "      <td>NaN</td>\n",
       "    </tr>\n",
       "  </tbody>\n",
       "</table>\n",
       "<p>7 rows × 39 columns</p>\n",
       "</div>"
      ],
      "text/plain": [
       "        Batch    Vessel  DPI       Date      Time  Temp_C  Agitation  DO_pct  \\\n",
       "215  458161PV   50L BLU  6.0 2020-09-08  08:54:00   36.01       42.0    5.98   \n",
       "216  458161PV   50L BLU  7.0 2020-09-09  09:09:00   36.00       42.0    5.86   \n",
       "217  458161PV   50L BLU  8.0 2020-09-10  08:39:00   36.00       42.0    6.06   \n",
       "220  458161PV  250L SUB  0.0 2020-09-10  09:31:00   35.91       67.0    3.96   \n",
       "221  458161PV  250L SUB  1.0 2020-09-11  14:07:00   36.01       66.9    4.63   \n",
       "222  458161PV  250L SUB  2.0 2020-09-12  10:02:00   35.98       66.9    6.19   \n",
       "223  458161PV  250L SUB  3.0 2020-09-13  09:08:00   36.01       66.9    5.92   \n",
       "\n",
       "     pH_online  pH_offline  ...                Micro_Comments  Intra_Code  \\\n",
       "215       7.05       7.048  ...  More intra than previous day         3.0   \n",
       "216       7.05       7.043  ...                          None         3.0   \n",
       "217       7.05       7.000  ...                          None         3.0   \n",
       "220       7.06       7.011  ...                          None         2.0   \n",
       "221       7.06         NaN  ...                           NaN         NaN   \n",
       "222       7.06         NaN  ...                           NaN         NaN   \n",
       "223       7.06       7.324  ...                          None         3.0   \n",
       "\n",
       "     Extra_Code  ELISA_KZO  ELISA_LNK  Live_Titer  VCD_OD  RNA  gDNA/1mL  \\\n",
       "215         4.0        NaN        NaN         NaN     NaN  NaN       NaN   \n",
       "216         5.0        NaN        NaN         NaN     NaN  NaN       NaN   \n",
       "217         5.0        NaN        NaN         NaN     NaN  NaN       NaN   \n",
       "220         2.0        NaN        NaN         NaN     NaN  NaN       NaN   \n",
       "221         NaN        NaN        NaN         NaN     NaN  NaN       NaN   \n",
       "222         NaN        NaN        NaN         NaN     NaN  NaN       NaN   \n",
       "223         5.0        NaN        NaN         NaN     NaN  NaN       NaN   \n",
       "\n",
       "     Antifoam  \n",
       "215       NaN  \n",
       "216       NaN  \n",
       "217       NaN  \n",
       "220       NaN  \n",
       "221       NaN  \n",
       "222       NaN  \n",
       "223       NaN  \n",
       "\n",
       "[7 rows x 39 columns]"
      ]
     },
     "execution_count": 52,
     "metadata": {},
     "output_type": "execute_result"
    }
   ],
   "source": [
    "df.iloc[196:203]"
   ]
  },
  {
   "cell_type": "code",
   "execution_count": 53,
   "metadata": {},
   "outputs": [
    {
     "data": {
      "text/plain": [
       "422"
      ]
     },
     "execution_count": 53,
     "metadata": {},
     "output_type": "execute_result"
    }
   ],
   "source": [
    "len(df)"
   ]
  },
  {
   "cell_type": "code",
   "execution_count": 54,
   "metadata": {},
   "outputs": [],
   "source": [
    "# df[df['MPbio_TotCt'].isnull()]"
   ]
  },
  {
   "cell_type": "code",
   "execution_count": 55,
   "metadata": {},
   "outputs": [],
   "source": [
    "MPBdf = df[pd.notnull(df.MPbio_TotCt)]\n",
    "# df['MPbio_TotCt'].isnull()"
   ]
  },
  {
   "cell_type": "code",
   "execution_count": 56,
   "metadata": {},
   "outputs": [],
   "source": [
    "# data.plot.scatter(x, y)"
   ]
  },
  {
   "cell_type": "code",
   "execution_count": 57,
   "metadata": {},
   "outputs": [
    {
     "data": {
      "text/plain": [
       "<AxesSubplot:xlabel='DPI', ylabel='MPbio_TotCt'>"
      ]
     },
     "execution_count": 57,
     "metadata": {},
     "output_type": "execute_result"
    },
    {
     "data": {
      "image/png": "[encoded data removed]",
      "text/plain": [
       "<Figure size 432x288 with 1 Axes>"
      ]
     },
     "metadata": {
      "needs_background": "light"
     },
     "output_type": "display_data"
    }
   ],
   "source": [
    "sns.scatterplot(x=\"DPI\", y=\"MPbio_TotCt\", data=MPBdf)"
   ]
  },
  {
   "cell_type": "code",
   "execution_count": 58,
   "metadata": {},
   "outputs": [
    {
     "name": "stderr",
     "output_type": "stream",
     "text": [
      "<ipython-input-58-90e4d5f0d662>:1: SettingWithCopyWarning: \n",
      "A value is trying to be set on a copy of a slice from a DataFrame.\n",
      "Try using .loc[row_indexer,col_indexer] = value instead\n",
      "\n",
      "See the caveats in the documentation: https://pandas.pydata.org/pandas-docs/stable/user_guide/indexing.html#returning-a-view-versus-a-copy\n",
      "  MPBdf['DPI'] = MPBdf['DPI'].astype(float)\n"
     ]
    }
   ],
   "source": [
    "MPBdf['DPI'] = MPBdf['DPI'].astype(float)"
   ]
  },
  {
   "cell_type": "code",
   "execution_count": 59,
   "metadata": {},
   "outputs": [
    {
     "data": {
      "text/plain": [
       "<AxesSubplot:xlabel='DPI', ylabel='MPbio_TotCt'>"
      ]
     },
     "execution_count": 59,
     "metadata": {},
     "output_type": "execute_result"
    },
    {
     "data": {
      "image/png": "[encoded data removed]",
      "text/plain": [
       "<Figure size 432x288 with 1 Axes>"
      ]
     },
     "metadata": {
      "needs_background": "light"
     },
     "output_type": "display_data"
    }
   ],
   "source": [
    "MPBdf.plot.scatter(x='DPI', y='MPbio_TotCt')"
   ]
  },
  {
   "cell_type": "code",
   "execution_count": 60,
   "metadata": {},
   "outputs": [
    {
     "data": {
      "text/plain": [
       "<AxesSubplot:xlabel='DPI', ylabel='MPbio_TotCt'>"
      ]
     },
     "execution_count": 60,
     "metadata": {},
     "output_type": "execute_result"
    },
    {
     "data": {
      "image/png": "[encoded data removed]",
      "text/plain": [
       "<Figure size 432x288 with 1 Axes>"
      ]
     },
     "metadata": {
      "needs_background": "light"
     },
     "output_type": "display_data"
    }
   ],
   "source": [
    "df.plot.scatter(x='DPI', y='MPbio_TotCt')"
   ]
  },
  {
   "cell_type": "code",
   "execution_count": 61,
   "metadata": {},
   "outputs": [
    {
     "data": {
      "text/plain": [
       "Batch                     object\n",
       "Vessel                    object\n",
       "DPI                      float64\n",
       "Date              datetime64[ns]\n",
       "Time                      object\n",
       "Temp_C                   float64\n",
       "Agitation                float64\n",
       "DO_pct                   float64\n",
       "pH_online                float64\n",
       "pH_offline               float64\n",
       "O₂_%sat                  float64\n",
       "CO₂_%sat                 float64\n",
       "L_Glut                   float64\n",
       "Gluc                     float64\n",
       "Lact                     float64\n",
       "Ammon                    float64\n",
       "Nuc_NonVi                float64\n",
       "Nuc_TotCt                float64\n",
       "Nuc_LiveCt               float64\n",
       "Nuc_Viab                 float64\n",
       "MPbio_Blank              float64\n",
       "MPbio_Area               float64\n",
       "MPbio_TotCt              float64\n",
       "MPtvo_Blank              float64\n",
       "MPtvo_Area               float64\n",
       "MPtvo_TotCt              float64\n",
       "Intra_Ct                 float64\n",
       "Micro_Intra               object\n",
       "Micro_Extra               object\n",
       "Micro_Comments            object\n",
       "Intra_Code               float64\n",
       "Extra_Code               float64\n",
       "ELISA_KZO                float64\n",
       "ELISA_LNK                float64\n",
       "Live_Titer               float64\n",
       "VCD_OD                   float64\n",
       "RNA                      float64\n",
       "gDNA/1mL                 float64\n",
       "Antifoam                 float64\n",
       "dtype: object"
      ]
     },
     "execution_count": 61,
     "metadata": {},
     "output_type": "execute_result"
    }
   ],
   "source": [
    "MPBdf.dtypes"
   ]
  },
  {
   "cell_type": "code",
   "execution_count": 183,
   "metadata": {},
   "outputs": [
    {
     "data": {
      "text/plain": [
       "<AxesSubplot:xlabel='DPI', ylabel='MPbio_TotCt'>"
      ]
     },
     "execution_count": 183,
     "metadata": {},
     "output_type": "execute_result"
    },
    {
     "data": {
      "image/png": "[encoded data removed]",
      "text/plain": [
       "<Figure size 1080x504 with 1 Axes>"
      ]
     },
     "metadata": {
      "needs_background": "light"
     },
     "output_type": "display_data"
    }
   ],
   "source": [
    "sns.regplot(x=\"DPI\", y=\"MPbio_TotCt\", data=MPBdf)#, dropna=True)"
   ]
  },
  {
   "cell_type": "code",
   "execution_count": 63,
   "metadata": {},
   "outputs": [],
   "source": [
    "# df.dtypes"
   ]
  },
  {
   "cell_type": "code",
   "execution_count": 187,
   "metadata": {},
   "outputs": [
    {
     "data": {
      "text/plain": [
       "<seaborn.axisgrid.FacetGrid at 0x1a558a566d0>"
      ]
     },
     "execution_count": 187,
     "metadata": {},
     "output_type": "execute_result"
    },
    {
     "data": {
      "image/png": "[encoded data removed]",
      "text/plain": [
       "<Figure size 360x360 with 1 Axes>"
      ]
     },
     "metadata": {
      "needs_background": "light"
     },
     "output_type": "display_data"
    }
   ],
   "source": [
    "sns.lmplot(x=\"DPI\", y=\"MPbio_TotCt\", data=MPBdf, x_jitter=0.5, order=3, ci=None)"
   ]
  },
  {
   "cell_type": "code",
   "execution_count": 65,
   "metadata": {},
   "outputs": [],
   "source": [
    "df['DPI'] = df['DPI'].astype(float)"
   ]
  },
  {
   "cell_type": "code",
   "execution_count": 66,
   "metadata": {},
   "outputs": [
    {
     "data": {
      "text/plain": [
       "<seaborn.axisgrid.FacetGrid at 0x1a54fc905b0>"
      ]
     },
     "execution_count": 66,
     "metadata": {},
     "output_type": "execute_result"
    },
    {
     "data": {
      "image/png": "[encoded data removed]",
      "text/plain": [
       "<Figure size 360x360 with 1 Axes>"
      ]
     },
     "metadata": {
      "needs_background": "light"
     },
     "output_type": "display_data"
    }
   ],
   "source": [
    "sns.lmplot(x=\"DPI\", y=\"MPbio_TotCt\", data=df, x_jitter=0.5, order=1)# , ci=None)"
   ]
  },
  {
   "cell_type": "code",
   "execution_count": 67,
   "metadata": {},
   "outputs": [
    {
     "data": {
      "text/plain": [
       "<AxesSubplot:xlabel='DPI', ylabel='MPbio_TotCt'>"
      ]
     },
     "execution_count": 67,
     "metadata": {},
     "output_type": "execute_result"
    },
    {
     "data": {
      "image/png": "[encoded data removed]",
      "text/plain": [
       "<Figure size 432x288 with 1 Axes>"
      ]
     },
     "metadata": {
      "needs_background": "light"
     },
     "output_type": "display_data"
    }
   ],
   "source": [
    "sns.regplot(x=\"DPI\", y=\"MPbio_TotCt\", data=df, x_jitter=0.5)"
   ]
  },
  {
   "cell_type": "code",
   "execution_count": 68,
   "metadata": {},
   "outputs": [
    {
     "data": {
      "text/plain": [
       "<AxesSubplot:xlabel='DPI', ylabel='MPbio_TotCt'>"
      ]
     },
     "execution_count": 68,
     "metadata": {},
     "output_type": "execute_result"
    },
    {
     "data": {
      "image/png": "[encoded data removed]",
      "text/plain": [
       "<Figure size 432x288 with 1 Axes>"
      ]
     },
     "metadata": {
      "needs_background": "light"
     },
     "output_type": "display_data"
    }
   ],
   "source": [
    "sns.stripplot(x=\"DPI\", y=\"MPbio_TotCt\", data=df, jitter=0.5)"
   ]
  },
  {
   "cell_type": "code",
   "execution_count": 69,
   "metadata": {},
   "outputs": [
    {
     "data": {
      "text/plain": [
       "<matplotlib.collections.PathCollection at 0x1a550e00460>"
      ]
     },
     "execution_count": 69,
     "metadata": {},
     "output_type": "execute_result"
    },
    {
     "data": {
      "image/png": "[encoded data removed]",
      "text/plain": [
       "<Figure size 432x288 with 1 Axes>"
      ]
     },
     "metadata": {
      "needs_background": "light"
     },
     "output_type": "display_data"
    }
   ],
   "source": [
    "y = data.MPtvo_TotCt\n",
    "plt.scatter(x, y)"
   ]
  },
  {
   "cell_type": "markdown",
   "metadata": {},
   "source": [
    "#### Remove or fix that crazy outlier"
   ]
  },
  {
   "cell_type": "code",
   "execution_count": 70,
   "metadata": {},
   "outputs": [
    {
     "data": {
      "text/html": [
       "<div>\n",
       "<style scoped>\n",
       "    .dataframe tbody tr th:only-of-type {\n",
       "        vertical-align: middle;\n",
       "    }\n",
       "\n",
       "    .dataframe tbody tr th {\n",
       "        vertical-align: top;\n",
       "    }\n",
       "\n",
       "    .dataframe thead th {\n",
       "        text-align: right;\n",
       "    }\n",
       "</style>\n",
       "<table border=\"1\" class=\"dataframe\">\n",
       "  <thead>\n",
       "    <tr style=\"text-align: right;\">\n",
       "      <th></th>\n",
       "      <th>Batch</th>\n",
       "      <th>Vessel</th>\n",
       "      <th>DPI</th>\n",
       "      <th>Date</th>\n",
       "      <th>Time</th>\n",
       "      <th>Temp_C</th>\n",
       "      <th>Agitation</th>\n",
       "      <th>DO_pct</th>\n",
       "      <th>pH_online</th>\n",
       "      <th>pH_offline</th>\n",
       "      <th>...</th>\n",
       "      <th>Micro_Comments</th>\n",
       "      <th>Intra_Code</th>\n",
       "      <th>Extra_Code</th>\n",
       "      <th>ELISA_KZO</th>\n",
       "      <th>ELISA_LNK</th>\n",
       "      <th>Live_Titer</th>\n",
       "      <th>VCD_OD</th>\n",
       "      <th>RNA</th>\n",
       "      <th>gDNA/1mL</th>\n",
       "      <th>Antifoam</th>\n",
       "    </tr>\n",
       "  </thead>\n",
       "  <tbody>\n",
       "    <tr>\n",
       "      <th>179</th>\n",
       "      <td>457597PV</td>\n",
       "      <td>50L BLU</td>\n",
       "      <td>3.0</td>\n",
       "      <td>2020-08-17</td>\n",
       "      <td>09:25:00</td>\n",
       "      <td>36.0</td>\n",
       "      <td>42.0</td>\n",
       "      <td>5.59</td>\n",
       "      <td>7.05</td>\n",
       "      <td>6.983</td>\n",
       "      <td>...</td>\n",
       "      <td>None</td>\n",
       "      <td>2.0</td>\n",
       "      <td>3.0</td>\n",
       "      <td>NaN</td>\n",
       "      <td>NaN</td>\n",
       "      <td>NaN</td>\n",
       "      <td>NaN</td>\n",
       "      <td>NaN</td>\n",
       "      <td>NaN</td>\n",
       "      <td>NaN</td>\n",
       "    </tr>\n",
       "  </tbody>\n",
       "</table>\n",
       "<p>1 rows × 39 columns</p>\n",
       "</div>"
      ],
      "text/plain": [
       "        Batch   Vessel  DPI       Date      Time  Temp_C  Agitation  DO_pct  \\\n",
       "179  457597PV  50L BLU  3.0 2020-08-17  09:25:00    36.0       42.0    5.59   \n",
       "\n",
       "     pH_online  pH_offline  ...  Micro_Comments  Intra_Code  Extra_Code  \\\n",
       "179       7.05       6.983  ...            None         2.0         3.0   \n",
       "\n",
       "     ELISA_KZO  ELISA_LNK  Live_Titer  VCD_OD  RNA  gDNA/1mL  Antifoam  \n",
       "179        NaN        NaN         NaN     NaN  NaN       NaN       NaN  \n",
       "\n",
       "[1 rows x 39 columns]"
      ]
     },
     "execution_count": 70,
     "metadata": {},
     "output_type": "execute_result"
    }
   ],
   "source": [
    "data[data.MPtvo_TotCt>8e9]"
   ]
  },
  {
   "cell_type": "code",
   "execution_count": 71,
   "metadata": {},
   "outputs": [
    {
     "data": {
      "text/plain": [
       "Batch                        457597PV\n",
       "Vessel                        50L BLU\n",
       "DPI                                 3\n",
       "Date              2020-08-17 00:00:00\n",
       "Time                         09:25:00\n",
       "Temp_C                             36\n",
       "Agitation                          42\n",
       "DO_pct                           5.59\n",
       "pH_online                        7.05\n",
       "pH_offline                      6.983\n",
       "O₂_%sat                         0.491\n",
       "CO₂_%sat                        0.092\n",
       "L_Glut                           0.58\n",
       "Gluc                             4.21\n",
       "Lact                             0.07\n",
       "Ammon                             NaN\n",
       "Nuc_NonVi                        2500\n",
       "Nuc_TotCt                       57000\n",
       "Nuc_LiveCt                      52000\n",
       "Nuc_Viab                     0.912281\n",
       "MPbio_Blank                       413\n",
       "MPbio_Area                     149110\n",
       "MPbio_TotCt                  3.72e+07\n",
       "MPtvo_Blank                        11\n",
       "MPtvo_Area                      39381\n",
       "MPtvo_TotCt                 9.384e+09\n",
       "Intra_Ct                          NaN\n",
       "Micro_Intra                 Light, 1+\n",
       "Micro_Extra                  Some, 2+\n",
       "Micro_Comments                   None\n",
       "Intra_Code                          2\n",
       "Extra_Code                          3\n",
       "ELISA_KZO                         NaN\n",
       "ELISA_LNK                         NaN\n",
       "Live_Titer                        NaN\n",
       "VCD_OD                            NaN\n",
       "RNA                               NaN\n",
       "gDNA/1mL                          NaN\n",
       "Antifoam                          NaN\n",
       "Name: 179, dtype: object"
      ]
     },
     "execution_count": 71,
     "metadata": {},
     "output_type": "execute_result"
    }
   ],
   "source": [
    "data[data.MPtvo_TotCt>8e9].iloc[0]"
   ]
  },
  {
   "cell_type": "code",
   "execution_count": 72,
   "metadata": {},
   "outputs": [
    {
     "data": {
      "text/plain": [
       "9384000000.0"
      ]
     },
     "execution_count": 72,
     "metadata": {},
     "output_type": "execute_result"
    }
   ],
   "source": [
    "data[data.MPtvo_TotCt>8e9].iloc[0,25]"
   ]
  },
  {
   "cell_type": "markdown",
   "metadata": {},
   "source": [
    "##### 457597PV, 50L BLU, D3, TVO should be 9.84E+06, not 9.384E+09"
   ]
  },
  {
   "cell_type": "code",
   "execution_count": 73,
   "metadata": {},
   "outputs": [],
   "source": [
    "# data[data.MPtvo_TotCt>8e9].iloc[0,25] = 9.84e6"
   ]
  },
  {
   "cell_type": "code",
   "execution_count": 74,
   "metadata": {},
   "outputs": [],
   "source": [
    "# data.loc[179, 'MPtvo_TotCt']"
   ]
  },
  {
   "cell_type": "code",
   "execution_count": 75,
   "metadata": {},
   "outputs": [],
   "source": [
    "# data.loc[179, 'MPtvo_TotCt'] = 9.84e6"
   ]
  },
  {
   "cell_type": "code",
   "execution_count": 76,
   "metadata": {},
   "outputs": [
    {
     "data": {
      "text/html": [
       "<div>\n",
       "<style scoped>\n",
       "    .dataframe tbody tr th:only-of-type {\n",
       "        vertical-align: middle;\n",
       "    }\n",
       "\n",
       "    .dataframe tbody tr th {\n",
       "        vertical-align: top;\n",
       "    }\n",
       "\n",
       "    .dataframe thead th {\n",
       "        text-align: right;\n",
       "    }\n",
       "</style>\n",
       "<table border=\"1\" class=\"dataframe\">\n",
       "  <thead>\n",
       "    <tr style=\"text-align: right;\">\n",
       "      <th></th>\n",
       "      <th>Batch</th>\n",
       "      <th>Vessel</th>\n",
       "      <th>DPI</th>\n",
       "      <th>Date</th>\n",
       "      <th>Time</th>\n",
       "      <th>Temp_C</th>\n",
       "      <th>Agitation</th>\n",
       "      <th>DO_pct</th>\n",
       "      <th>pH_online</th>\n",
       "      <th>pH_offline</th>\n",
       "      <th>...</th>\n",
       "      <th>Micro_Comments</th>\n",
       "      <th>Intra_Code</th>\n",
       "      <th>Extra_Code</th>\n",
       "      <th>ELISA_KZO</th>\n",
       "      <th>ELISA_LNK</th>\n",
       "      <th>Live_Titer</th>\n",
       "      <th>VCD_OD</th>\n",
       "      <th>RNA</th>\n",
       "      <th>gDNA/1mL</th>\n",
       "      <th>Antifoam</th>\n",
       "    </tr>\n",
       "  </thead>\n",
       "  <tbody>\n",
       "    <tr>\n",
       "      <th>0</th>\n",
       "      <td>369697PV</td>\n",
       "      <td>Flasks</td>\n",
       "      <td>3.0</td>\n",
       "      <td>2019-07-12</td>\n",
       "      <td>NaN</td>\n",
       "      <td>NaN</td>\n",
       "      <td>NaN</td>\n",
       "      <td>NaN</td>\n",
       "      <td>NaN</td>\n",
       "      <td>NaN</td>\n",
       "      <td>...</td>\n",
       "      <td>NaN</td>\n",
       "      <td>NaN</td>\n",
       "      <td>NaN</td>\n",
       "      <td>NaN</td>\n",
       "      <td>NaN</td>\n",
       "      <td>NaN</td>\n",
       "      <td>NaN</td>\n",
       "      <td>NaN</td>\n",
       "      <td>NaN</td>\n",
       "      <td>NaN</td>\n",
       "    </tr>\n",
       "    <tr>\n",
       "      <th>2</th>\n",
       "      <td>369697PV</td>\n",
       "      <td>5L BLU</td>\n",
       "      <td>0.0</td>\n",
       "      <td>2019-07-12</td>\n",
       "      <td>10:53:00</td>\n",
       "      <td>35.8</td>\n",
       "      <td>40.0</td>\n",
       "      <td>15.39</td>\n",
       "      <td>6.983</td>\n",
       "      <td>7.118</td>\n",
       "      <td>...</td>\n",
       "      <td>NaN</td>\n",
       "      <td>NaN</td>\n",
       "      <td>NaN</td>\n",
       "      <td>NaN</td>\n",
       "      <td>NaN</td>\n",
       "      <td>NaN</td>\n",
       "      <td>NaN</td>\n",
       "      <td>NaN</td>\n",
       "      <td>NaN</td>\n",
       "      <td>NaN</td>\n",
       "    </tr>\n",
       "    <tr>\n",
       "      <th>3</th>\n",
       "      <td>369697PV</td>\n",
       "      <td>5L BLU</td>\n",
       "      <td>1.0</td>\n",
       "      <td>2019-07-13</td>\n",
       "      <td>NaN</td>\n",
       "      <td>NaN</td>\n",
       "      <td>NaN</td>\n",
       "      <td>NaN</td>\n",
       "      <td>NaN</td>\n",
       "      <td>NaN</td>\n",
       "      <td>...</td>\n",
       "      <td>NaN</td>\n",
       "      <td>NaN</td>\n",
       "      <td>NaN</td>\n",
       "      <td>NaN</td>\n",
       "      <td>NaN</td>\n",
       "      <td>NaN</td>\n",
       "      <td>NaN</td>\n",
       "      <td>NaN</td>\n",
       "      <td>NaN</td>\n",
       "      <td>NaN</td>\n",
       "    </tr>\n",
       "    <tr>\n",
       "      <th>4</th>\n",
       "      <td>369697PV</td>\n",
       "      <td>5L BLU</td>\n",
       "      <td>2.0</td>\n",
       "      <td>2019-07-14</td>\n",
       "      <td>NaN</td>\n",
       "      <td>NaN</td>\n",
       "      <td>NaN</td>\n",
       "      <td>NaN</td>\n",
       "      <td>NaN</td>\n",
       "      <td>NaN</td>\n",
       "      <td>...</td>\n",
       "      <td>NaN</td>\n",
       "      <td>NaN</td>\n",
       "      <td>NaN</td>\n",
       "      <td>NaN</td>\n",
       "      <td>NaN</td>\n",
       "      <td>NaN</td>\n",
       "      <td>NaN</td>\n",
       "      <td>NaN</td>\n",
       "      <td>NaN</td>\n",
       "      <td>NaN</td>\n",
       "    </tr>\n",
       "    <tr>\n",
       "      <th>5</th>\n",
       "      <td>369697PV</td>\n",
       "      <td>5L BLU</td>\n",
       "      <td>3.0</td>\n",
       "      <td>2019-07-15</td>\n",
       "      <td>NaN</td>\n",
       "      <td>NaN</td>\n",
       "      <td>NaN</td>\n",
       "      <td>NaN</td>\n",
       "      <td>NaN</td>\n",
       "      <td>NaN</td>\n",
       "      <td>...</td>\n",
       "      <td>NaN</td>\n",
       "      <td>NaN</td>\n",
       "      <td>NaN</td>\n",
       "      <td>NaN</td>\n",
       "      <td>NaN</td>\n",
       "      <td>NaN</td>\n",
       "      <td>NaN</td>\n",
       "      <td>NaN</td>\n",
       "      <td>NaN</td>\n",
       "      <td>NaN</td>\n",
       "    </tr>\n",
       "    <tr>\n",
       "      <th>...</th>\n",
       "      <td>...</td>\n",
       "      <td>...</td>\n",
       "      <td>...</td>\n",
       "      <td>...</td>\n",
       "      <td>...</td>\n",
       "      <td>...</td>\n",
       "      <td>...</td>\n",
       "      <td>...</td>\n",
       "      <td>...</td>\n",
       "      <td>...</td>\n",
       "      <td>...</td>\n",
       "      <td>...</td>\n",
       "      <td>...</td>\n",
       "      <td>...</td>\n",
       "      <td>...</td>\n",
       "      <td>...</td>\n",
       "      <td>...</td>\n",
       "      <td>...</td>\n",
       "      <td>...</td>\n",
       "      <td>...</td>\n",
       "      <td>...</td>\n",
       "    </tr>\n",
       "    <tr>\n",
       "      <th>460</th>\n",
       "      <td>484263PV</td>\n",
       "      <td>1000L SUB</td>\n",
       "      <td>10.0</td>\n",
       "      <td>2021-04-17</td>\n",
       "      <td>08:24:00</td>\n",
       "      <td>36.0</td>\n",
       "      <td>49.0</td>\n",
       "      <td>5.44</td>\n",
       "      <td>7.050</td>\n",
       "      <td>6.951</td>\n",
       "      <td>...</td>\n",
       "      <td>Intra could be 1+</td>\n",
       "      <td>3.0</td>\n",
       "      <td>5.0</td>\n",
       "      <td>NaN</td>\n",
       "      <td>NaN</td>\n",
       "      <td>NaN</td>\n",
       "      <td>NaN</td>\n",
       "      <td>NaN</td>\n",
       "      <td>NaN</td>\n",
       "      <td>NaN</td>\n",
       "    </tr>\n",
       "    <tr>\n",
       "      <th>461</th>\n",
       "      <td>484263PV</td>\n",
       "      <td>1000L SUB</td>\n",
       "      <td>11.0</td>\n",
       "      <td>2021-04-18</td>\n",
       "      <td>08:12:00</td>\n",
       "      <td>36.0</td>\n",
       "      <td>49.0</td>\n",
       "      <td>6.07</td>\n",
       "      <td>7.050</td>\n",
       "      <td>7.103</td>\n",
       "      <td>...</td>\n",
       "      <td>None</td>\n",
       "      <td>3.0</td>\n",
       "      <td>5.0</td>\n",
       "      <td>NaN</td>\n",
       "      <td>NaN</td>\n",
       "      <td>NaN</td>\n",
       "      <td>NaN</td>\n",
       "      <td>NaN</td>\n",
       "      <td>NaN</td>\n",
       "      <td>NaN</td>\n",
       "    </tr>\n",
       "    <tr>\n",
       "      <th>462</th>\n",
       "      <td>484263PV</td>\n",
       "      <td>1000L SUB</td>\n",
       "      <td>12.0</td>\n",
       "      <td>2021-04-19</td>\n",
       "      <td>08:27:00</td>\n",
       "      <td>36.0</td>\n",
       "      <td>49.0</td>\n",
       "      <td>6.14</td>\n",
       "      <td>7.050</td>\n",
       "      <td>7.072</td>\n",
       "      <td>...</td>\n",
       "      <td>None</td>\n",
       "      <td>3.0</td>\n",
       "      <td>5.0</td>\n",
       "      <td>NaN</td>\n",
       "      <td>NaN</td>\n",
       "      <td>NaN</td>\n",
       "      <td>NaN</td>\n",
       "      <td>NaN</td>\n",
       "      <td>NaN</td>\n",
       "      <td>NaN</td>\n",
       "    </tr>\n",
       "    <tr>\n",
       "      <th>463</th>\n",
       "      <td>484263PV</td>\n",
       "      <td>1000L SUB</td>\n",
       "      <td>13.0</td>\n",
       "      <td>2021-04-20</td>\n",
       "      <td>08:48:00</td>\n",
       "      <td>36.0</td>\n",
       "      <td>49.0</td>\n",
       "      <td>5.73</td>\n",
       "      <td>7.050</td>\n",
       "      <td>7.024</td>\n",
       "      <td>...</td>\n",
       "      <td>None</td>\n",
       "      <td>3.0</td>\n",
       "      <td>5.0</td>\n",
       "      <td>NaN</td>\n",
       "      <td>NaN</td>\n",
       "      <td>NaN</td>\n",
       "      <td>NaN</td>\n",
       "      <td>NaN</td>\n",
       "      <td>NaN</td>\n",
       "      <td>NaN</td>\n",
       "    </tr>\n",
       "    <tr>\n",
       "      <th>464</th>\n",
       "      <td>484263PV</td>\n",
       "      <td>1000L SUB</td>\n",
       "      <td>14.0</td>\n",
       "      <td>2021-04-21</td>\n",
       "      <td>07:55:00</td>\n",
       "      <td>36.0</td>\n",
       "      <td>48.9</td>\n",
       "      <td>3.49</td>\n",
       "      <td>7.060</td>\n",
       "      <td>7.078</td>\n",
       "      <td>...</td>\n",
       "      <td>None</td>\n",
       "      <td>3.0</td>\n",
       "      <td>5.0</td>\n",
       "      <td>NaN</td>\n",
       "      <td>NaN</td>\n",
       "      <td>NaN</td>\n",
       "      <td>NaN</td>\n",
       "      <td>NaN</td>\n",
       "      <td>NaN</td>\n",
       "      <td>NaN</td>\n",
       "    </tr>\n",
       "  </tbody>\n",
       "</table>\n",
       "<p>422 rows × 39 columns</p>\n",
       "</div>"
      ],
      "text/plain": [
       "        Batch     Vessel   DPI       Date      Time  Temp_C  Agitation  \\\n",
       "0    369697PV     Flasks   3.0 2019-07-12       NaN     NaN        NaN   \n",
       "2    369697PV     5L BLU   0.0 2019-07-12  10:53:00    35.8       40.0   \n",
       "3    369697PV     5L BLU   1.0 2019-07-13       NaN     NaN        NaN   \n",
       "4    369697PV     5L BLU   2.0 2019-07-14       NaN     NaN        NaN   \n",
       "5    369697PV     5L BLU   3.0 2019-07-15       NaN     NaN        NaN   \n",
       "..        ...        ...   ...        ...       ...     ...        ...   \n",
       "460  484263PV  1000L SUB  10.0 2021-04-17  08:24:00    36.0       49.0   \n",
       "461  484263PV  1000L SUB  11.0 2021-04-18  08:12:00    36.0       49.0   \n",
       "462  484263PV  1000L SUB  12.0 2021-04-19  08:27:00    36.0       49.0   \n",
       "463  484263PV  1000L SUB  13.0 2021-04-20  08:48:00    36.0       49.0   \n",
       "464  484263PV  1000L SUB  14.0 2021-04-21  07:55:00    36.0       48.9   \n",
       "\n",
       "     DO_pct  pH_online  pH_offline  ...     Micro_Comments  Intra_Code  \\\n",
       "0       NaN        NaN         NaN  ...                NaN         NaN   \n",
       "2     15.39      6.983       7.118  ...                NaN         NaN   \n",
       "3       NaN        NaN         NaN  ...                NaN         NaN   \n",
       "4       NaN        NaN         NaN  ...                NaN         NaN   \n",
       "5       NaN        NaN         NaN  ...                NaN         NaN   \n",
       "..      ...        ...         ...  ...                ...         ...   \n",
       "460    5.44      7.050       6.951  ...  Intra could be 1+         3.0   \n",
       "461    6.07      7.050       7.103  ...               None         3.0   \n",
       "462    6.14      7.050       7.072  ...               None         3.0   \n",
       "463    5.73      7.050       7.024  ...               None         3.0   \n",
       "464    3.49      7.060       7.078  ...               None         3.0   \n",
       "\n",
       "     Extra_Code  ELISA_KZO  ELISA_LNK  Live_Titer  VCD_OD  RNA  gDNA/1mL  \\\n",
       "0           NaN        NaN        NaN         NaN     NaN  NaN       NaN   \n",
       "2           NaN        NaN        NaN         NaN     NaN  NaN       NaN   \n",
       "3           NaN        NaN        NaN         NaN     NaN  NaN       NaN   \n",
       "4           NaN        NaN        NaN         NaN     NaN  NaN       NaN   \n",
       "5           NaN        NaN        NaN         NaN     NaN  NaN       NaN   \n",
       "..          ...        ...        ...         ...     ...  ...       ...   \n",
       "460         5.0        NaN        NaN         NaN     NaN  NaN       NaN   \n",
       "461         5.0        NaN        NaN         NaN     NaN  NaN       NaN   \n",
       "462         5.0        NaN        NaN         NaN     NaN  NaN       NaN   \n",
       "463         5.0        NaN        NaN         NaN     NaN  NaN       NaN   \n",
       "464         5.0        NaN        NaN         NaN     NaN  NaN       NaN   \n",
       "\n",
       "     Antifoam  \n",
       "0         NaN  \n",
       "2         NaN  \n",
       "3         NaN  \n",
       "4         NaN  \n",
       "5         NaN  \n",
       "..        ...  \n",
       "460       NaN  \n",
       "461       NaN  \n",
       "462       NaN  \n",
       "463       NaN  \n",
       "464       NaN  \n",
       "\n",
       "[422 rows x 39 columns]"
      ]
     },
     "execution_count": 76,
     "metadata": {},
     "output_type": "execute_result"
    }
   ],
   "source": [
    "data.reindex()"
   ]
  },
  {
   "cell_type": "code",
   "execution_count": 77,
   "metadata": {},
   "outputs": [
    {
     "data": {
      "text/html": [
       "<div>\n",
       "<style scoped>\n",
       "    .dataframe tbody tr th:only-of-type {\n",
       "        vertical-align: middle;\n",
       "    }\n",
       "\n",
       "    .dataframe tbody tr th {\n",
       "        vertical-align: top;\n",
       "    }\n",
       "\n",
       "    .dataframe thead th {\n",
       "        text-align: right;\n",
       "    }\n",
       "</style>\n",
       "<table border=\"1\" class=\"dataframe\">\n",
       "  <thead>\n",
       "    <tr style=\"text-align: right;\">\n",
       "      <th></th>\n",
       "      <th>Batch</th>\n",
       "      <th>Vessel</th>\n",
       "      <th>Time</th>\n",
       "      <th>Micro_Intra</th>\n",
       "      <th>Micro_Extra</th>\n",
       "      <th>Micro_Comments</th>\n",
       "    </tr>\n",
       "  </thead>\n",
       "  <tbody>\n",
       "    <tr>\n",
       "      <th>count</th>\n",
       "      <td>422</td>\n",
       "      <td>422</td>\n",
       "      <td>341</td>\n",
       "      <td>247</td>\n",
       "      <td>247</td>\n",
       "      <td>248</td>\n",
       "    </tr>\n",
       "    <tr>\n",
       "      <th>unique</th>\n",
       "      <td>12</td>\n",
       "      <td>5</td>\n",
       "      <td>162</td>\n",
       "      <td>5</td>\n",
       "      <td>6</td>\n",
       "      <td>23</td>\n",
       "    </tr>\n",
       "    <tr>\n",
       "      <th>top</th>\n",
       "      <td>484263PV</td>\n",
       "      <td>1000L SUB</td>\n",
       "      <td>09:00:00</td>\n",
       "      <td>Some, 2+</td>\n",
       "      <td>Very Heavy, 4+</td>\n",
       "      <td>None</td>\n",
       "    </tr>\n",
       "    <tr>\n",
       "      <th>freq</th>\n",
       "      <td>42</td>\n",
       "      <td>132</td>\n",
       "      <td>7</td>\n",
       "      <td>97</td>\n",
       "      <td>105</td>\n",
       "      <td>225</td>\n",
       "    </tr>\n",
       "  </tbody>\n",
       "</table>\n",
       "</div>"
      ],
      "text/plain": [
       "           Batch     Vessel      Time Micro_Intra     Micro_Extra  \\\n",
       "count        422        422       341         247             247   \n",
       "unique        12          5       162           5               6   \n",
       "top     484263PV  1000L SUB  09:00:00    Some, 2+  Very Heavy, 4+   \n",
       "freq          42        132         7          97             105   \n",
       "\n",
       "       Micro_Comments  \n",
       "count             248  \n",
       "unique             23  \n",
       "top              None  \n",
       "freq              225  "
      ]
     },
     "execution_count": 77,
     "metadata": {},
     "output_type": "execute_result"
    }
   ],
   "source": [
    "data.describe(include=['O'])"
   ]
  },
  {
   "cell_type": "code",
   "execution_count": 78,
   "metadata": {},
   "outputs": [
    {
     "data": {
      "text/plain": [
       "Batch                        457597PV\n",
       "Vessel                        50L BLU\n",
       "DPI                                 3\n",
       "Date              2020-08-17 00:00:00\n",
       "Time                         09:25:00\n",
       "Temp_C                             36\n",
       "Agitation                          42\n",
       "DO_pct                           5.59\n",
       "pH_online                        7.05\n",
       "pH_offline                      6.983\n",
       "O₂_%sat                         0.491\n",
       "CO₂_%sat                        0.092\n",
       "L_Glut                           0.58\n",
       "Gluc                             4.21\n",
       "Lact                             0.07\n",
       "Ammon                             NaN\n",
       "Nuc_NonVi                        2500\n",
       "Nuc_TotCt                       57000\n",
       "Nuc_LiveCt                      52000\n",
       "Nuc_Viab                     0.912281\n",
       "MPbio_Blank                       413\n",
       "MPbio_Area                     149110\n",
       "MPbio_TotCt                  3.72e+07\n",
       "MPtvo_Blank                        11\n",
       "MPtvo_Area                      39381\n",
       "MPtvo_TotCt                 9.384e+09\n",
       "Intra_Ct                          NaN\n",
       "Micro_Intra                 Light, 1+\n",
       "Micro_Extra                  Some, 2+\n",
       "Micro_Comments                   None\n",
       "Intra_Code                          2\n",
       "Extra_Code                          3\n",
       "ELISA_KZO                         NaN\n",
       "ELISA_LNK                         NaN\n",
       "Live_Titer                        NaN\n",
       "VCD_OD                            NaN\n",
       "RNA                               NaN\n",
       "gDNA/1mL                          NaN\n",
       "Antifoam                          NaN\n",
       "Name: 179, dtype: object"
      ]
     },
     "execution_count": 78,
     "metadata": {},
     "output_type": "execute_result"
    }
   ],
   "source": [
    "data[data.MPtvo_TotCt>8e9].iloc[0]"
   ]
  },
  {
   "cell_type": "code",
   "execution_count": 79,
   "metadata": {},
   "outputs": [
    {
     "data": {
      "text/plain": [
       "9384000000.0"
      ]
     },
     "execution_count": 79,
     "metadata": {},
     "output_type": "execute_result"
    }
   ],
   "source": [
    "data.loc[179, 'MPtvo_TotCt']"
   ]
  },
  {
   "cell_type": "code",
   "execution_count": 80,
   "metadata": {},
   "outputs": [],
   "source": [
    "data.loc[179, 'MPtvo_TotCt'] = 9.84e6"
   ]
  },
  {
   "cell_type": "code",
   "execution_count": 81,
   "metadata": {},
   "outputs": [
    {
     "data": {
      "text/plain": [
       "9840000.0"
      ]
     },
     "execution_count": 81,
     "metadata": {},
     "output_type": "execute_result"
    }
   ],
   "source": [
    "data.loc[179, 'MPtvo_TotCt']"
   ]
  },
  {
   "cell_type": "code",
   "execution_count": 82,
   "metadata": {},
   "outputs": [
    {
     "data": {
      "text/plain": [
       "<matplotlib.collections.PathCollection at 0x1a550e3cca0>"
      ]
     },
     "execution_count": 82,
     "metadata": {},
     "output_type": "execute_result"
    },
    {
     "data": {
      "image/png": "[encoded data removed]",
      "text/plain": [
       "<Figure size 432x288 with 1 Axes>"
      ]
     },
     "metadata": {
      "needs_background": "light"
     },
     "output_type": "display_data"
    }
   ],
   "source": [
    "y = data.MPtvo_TotCt\n",
    "plt.scatter(x, y)"
   ]
  },
  {
   "cell_type": "code",
   "execution_count": 83,
   "metadata": {},
   "outputs": [],
   "source": [
    "# sns.pairplot(data)"
   ]
  },
  {
   "cell_type": "code",
   "execution_count": 84,
   "metadata": {},
   "outputs": [],
   "source": [
    "# sns.pairplot(testDF)"
   ]
  },
  {
   "cell_type": "code",
   "execution_count": 85,
   "metadata": {},
   "outputs": [
    {
     "data": {
      "text/plain": [
       "Index(['Batch', 'Vessel', 'DPI', 'DO_pct', 'pH_online', 'pH_offline',\n",
       "       'O₂_%sat', 'CO₂_%sat', 'L_Glut', 'Gluc', 'Lact', 'Ammon', 'Nuc_NonVi',\n",
       "       'Nuc_TotCt', 'Nuc_LiveCt', 'Nuc_Viab', 'MPbio_TotCt', 'MPtvo_TotCt',\n",
       "       'Intra_Ct', 'Micro_Intra', 'Micro_Extra', 'Intra_Code', 'Extra_Code',\n",
       "       'ELISA_KZO', 'Live_Titer', 'VCD_OD', 'RNA', 'gDNA/1mL', 'Antifoam'],\n",
       "      dtype='object')"
      ]
     },
     "execution_count": 85,
     "metadata": {},
     "output_type": "execute_result"
    }
   ],
   "source": [
    "testDF.columns"
   ]
  },
  {
   "cell_type": "code",
   "execution_count": 86,
   "metadata": {},
   "outputs": [
    {
     "data": {
      "text/html": [
       "<div>\n",
       "<style scoped>\n",
       "    .dataframe tbody tr th:only-of-type {\n",
       "        vertical-align: middle;\n",
       "    }\n",
       "\n",
       "    .dataframe tbody tr th {\n",
       "        vertical-align: top;\n",
       "    }\n",
       "\n",
       "    .dataframe thead th {\n",
       "        text-align: right;\n",
       "    }\n",
       "</style>\n",
       "<table border=\"1\" class=\"dataframe\">\n",
       "  <thead>\n",
       "    <tr style=\"text-align: right;\">\n",
       "      <th></th>\n",
       "      <th>DPI</th>\n",
       "      <th>DO_pct</th>\n",
       "      <th>pH_online</th>\n",
       "      <th>pH_offline</th>\n",
       "      <th>O₂_%sat</th>\n",
       "      <th>CO₂_%sat</th>\n",
       "      <th>L_Glut</th>\n",
       "      <th>Gluc</th>\n",
       "      <th>Lact</th>\n",
       "      <th>Ammon</th>\n",
       "      <th>...</th>\n",
       "      <th>MPtvo_TotCt</th>\n",
       "      <th>Intra_Ct</th>\n",
       "      <th>Intra_Code</th>\n",
       "      <th>Extra_Code</th>\n",
       "      <th>ELISA_KZO</th>\n",
       "      <th>Live_Titer</th>\n",
       "      <th>VCD_OD</th>\n",
       "      <th>RNA</th>\n",
       "      <th>gDNA/1mL</th>\n",
       "      <th>Antifoam</th>\n",
       "    </tr>\n",
       "  </thead>\n",
       "  <tbody>\n",
       "    <tr>\n",
       "      <th>DPI</th>\n",
       "      <td>1.000000</td>\n",
       "      <td>-0.275326</td>\n",
       "      <td>-0.163296</td>\n",
       "      <td>-0.112365</td>\n",
       "      <td>-0.063865</td>\n",
       "      <td>-0.101220</td>\n",
       "      <td>-0.785802</td>\n",
       "      <td>-0.708295</td>\n",
       "      <td>0.220710</td>\n",
       "      <td>0.831815</td>\n",
       "      <td>...</td>\n",
       "      <td>-0.013744</td>\n",
       "      <td>0.288664</td>\n",
       "      <td>0.505777</td>\n",
       "      <td>0.829722</td>\n",
       "      <td>0.617539</td>\n",
       "      <td>0.619671</td>\n",
       "      <td>0.958727</td>\n",
       "      <td>-0.123444</td>\n",
       "      <td>0.702237</td>\n",
       "      <td>NaN</td>\n",
       "    </tr>\n",
       "    <tr>\n",
       "      <th>DO_pct</th>\n",
       "      <td>-0.275326</td>\n",
       "      <td>1.000000</td>\n",
       "      <td>0.105738</td>\n",
       "      <td>0.040839</td>\n",
       "      <td>0.001469</td>\n",
       "      <td>0.114967</td>\n",
       "      <td>0.299281</td>\n",
       "      <td>0.203165</td>\n",
       "      <td>-0.150793</td>\n",
       "      <td>-0.268858</td>\n",
       "      <td>...</td>\n",
       "      <td>-0.026365</td>\n",
       "      <td>-0.036068</td>\n",
       "      <td>-0.143880</td>\n",
       "      <td>-0.382558</td>\n",
       "      <td>0.073006</td>\n",
       "      <td>-0.857695</td>\n",
       "      <td>-0.644800</td>\n",
       "      <td>0.013532</td>\n",
       "      <td>-0.149384</td>\n",
       "      <td>NaN</td>\n",
       "    </tr>\n",
       "    <tr>\n",
       "      <th>pH_online</th>\n",
       "      <td>-0.163296</td>\n",
       "      <td>0.105738</td>\n",
       "      <td>1.000000</td>\n",
       "      <td>0.500569</td>\n",
       "      <td>0.044728</td>\n",
       "      <td>0.281500</td>\n",
       "      <td>0.088232</td>\n",
       "      <td>0.384183</td>\n",
       "      <td>-0.554909</td>\n",
       "      <td>-0.181785</td>\n",
       "      <td>...</td>\n",
       "      <td>-0.009550</td>\n",
       "      <td>0.004538</td>\n",
       "      <td>-0.060772</td>\n",
       "      <td>-0.129702</td>\n",
       "      <td>0.114055</td>\n",
       "      <td>-0.873483</td>\n",
       "      <td>-0.769757</td>\n",
       "      <td>0.085701</td>\n",
       "      <td>-0.496685</td>\n",
       "      <td>NaN</td>\n",
       "    </tr>\n",
       "    <tr>\n",
       "      <th>pH_offline</th>\n",
       "      <td>-0.112365</td>\n",
       "      <td>0.040839</td>\n",
       "      <td>0.500569</td>\n",
       "      <td>1.000000</td>\n",
       "      <td>0.397026</td>\n",
       "      <td>0.317669</td>\n",
       "      <td>0.062938</td>\n",
       "      <td>0.241264</td>\n",
       "      <td>-0.194310</td>\n",
       "      <td>-0.210453</td>\n",
       "      <td>...</td>\n",
       "      <td>-0.067020</td>\n",
       "      <td>-0.158694</td>\n",
       "      <td>-0.131722</td>\n",
       "      <td>-0.162616</td>\n",
       "      <td>0.028297</td>\n",
       "      <td>-0.701654</td>\n",
       "      <td>-0.753275</td>\n",
       "      <td>0.030460</td>\n",
       "      <td>-0.593829</td>\n",
       "      <td>NaN</td>\n",
       "    </tr>\n",
       "    <tr>\n",
       "      <th>O₂_%sat</th>\n",
       "      <td>-0.063865</td>\n",
       "      <td>0.001469</td>\n",
       "      <td>0.044728</td>\n",
       "      <td>0.397026</td>\n",
       "      <td>1.000000</td>\n",
       "      <td>0.900190</td>\n",
       "      <td>-0.079755</td>\n",
       "      <td>0.018089</td>\n",
       "      <td>0.089330</td>\n",
       "      <td>-0.027287</td>\n",
       "      <td>...</td>\n",
       "      <td>-0.008807</td>\n",
       "      <td>0.127375</td>\n",
       "      <td>-0.142562</td>\n",
       "      <td>-0.189061</td>\n",
       "      <td>-0.153240</td>\n",
       "      <td>0.060228</td>\n",
       "      <td>-0.407834</td>\n",
       "      <td>0.022853</td>\n",
       "      <td>-0.007434</td>\n",
       "      <td>NaN</td>\n",
       "    </tr>\n",
       "    <tr>\n",
       "      <th>CO₂_%sat</th>\n",
       "      <td>-0.101220</td>\n",
       "      <td>0.114967</td>\n",
       "      <td>0.281500</td>\n",
       "      <td>0.317669</td>\n",
       "      <td>0.900190</td>\n",
       "      <td>1.000000</td>\n",
       "      <td>-0.055923</td>\n",
       "      <td>0.098207</td>\n",
       "      <td>-0.021789</td>\n",
       "      <td>-0.068777</td>\n",
       "      <td>...</td>\n",
       "      <td>-0.000824</td>\n",
       "      <td>0.342571</td>\n",
       "      <td>-0.124757</td>\n",
       "      <td>-0.196837</td>\n",
       "      <td>-0.111561</td>\n",
       "      <td>-0.722276</td>\n",
       "      <td>-0.633033</td>\n",
       "      <td>0.139728</td>\n",
       "      <td>-0.008124</td>\n",
       "      <td>NaN</td>\n",
       "    </tr>\n",
       "    <tr>\n",
       "      <th>L_Glut</th>\n",
       "      <td>-0.785802</td>\n",
       "      <td>0.299281</td>\n",
       "      <td>0.088232</td>\n",
       "      <td>0.062938</td>\n",
       "      <td>-0.079755</td>\n",
       "      <td>-0.055923</td>\n",
       "      <td>1.000000</td>\n",
       "      <td>0.473042</td>\n",
       "      <td>-0.078229</td>\n",
       "      <td>-0.692741</td>\n",
       "      <td>...</td>\n",
       "      <td>-0.055354</td>\n",
       "      <td>-0.377039</td>\n",
       "      <td>-0.454554</td>\n",
       "      <td>-0.680833</td>\n",
       "      <td>-0.417699</td>\n",
       "      <td>NaN</td>\n",
       "      <td>-1.000000</td>\n",
       "      <td>-0.115538</td>\n",
       "      <td>-0.815734</td>\n",
       "      <td>NaN</td>\n",
       "    </tr>\n",
       "    <tr>\n",
       "      <th>Gluc</th>\n",
       "      <td>-0.708295</td>\n",
       "      <td>0.203165</td>\n",
       "      <td>0.384183</td>\n",
       "      <td>0.241264</td>\n",
       "      <td>0.018089</td>\n",
       "      <td>0.098207</td>\n",
       "      <td>0.473042</td>\n",
       "      <td>1.000000</td>\n",
       "      <td>-0.542684</td>\n",
       "      <td>-0.722307</td>\n",
       "      <td>...</td>\n",
       "      <td>-0.005337</td>\n",
       "      <td>-0.156796</td>\n",
       "      <td>-0.353557</td>\n",
       "      <td>-0.588454</td>\n",
       "      <td>-0.251983</td>\n",
       "      <td>-0.459863</td>\n",
       "      <td>-0.745869</td>\n",
       "      <td>0.129989</td>\n",
       "      <td>-0.671177</td>\n",
       "      <td>NaN</td>\n",
       "    </tr>\n",
       "    <tr>\n",
       "      <th>Lact</th>\n",
       "      <td>0.220710</td>\n",
       "      <td>-0.150793</td>\n",
       "      <td>-0.554909</td>\n",
       "      <td>-0.194310</td>\n",
       "      <td>0.089330</td>\n",
       "      <td>-0.021789</td>\n",
       "      <td>-0.078229</td>\n",
       "      <td>-0.542684</td>\n",
       "      <td>1.000000</td>\n",
       "      <td>0.201444</td>\n",
       "      <td>...</td>\n",
       "      <td>-0.030308</td>\n",
       "      <td>-0.117979</td>\n",
       "      <td>-0.005719</td>\n",
       "      <td>0.200190</td>\n",
       "      <td>-0.022650</td>\n",
       "      <td>0.536199</td>\n",
       "      <td>0.746643</td>\n",
       "      <td>-0.252464</td>\n",
       "      <td>0.406646</td>\n",
       "      <td>NaN</td>\n",
       "    </tr>\n",
       "    <tr>\n",
       "      <th>Ammon</th>\n",
       "      <td>0.831815</td>\n",
       "      <td>-0.268858</td>\n",
       "      <td>-0.181785</td>\n",
       "      <td>-0.210453</td>\n",
       "      <td>-0.027287</td>\n",
       "      <td>-0.068777</td>\n",
       "      <td>-0.692741</td>\n",
       "      <td>-0.722307</td>\n",
       "      <td>0.201444</td>\n",
       "      <td>1.000000</td>\n",
       "      <td>...</td>\n",
       "      <td>0.735405</td>\n",
       "      <td>0.413886</td>\n",
       "      <td>0.571546</td>\n",
       "      <td>0.790150</td>\n",
       "      <td>0.474429</td>\n",
       "      <td>0.202649</td>\n",
       "      <td>0.918370</td>\n",
       "      <td>0.181657</td>\n",
       "      <td>0.916097</td>\n",
       "      <td>NaN</td>\n",
       "    </tr>\n",
       "    <tr>\n",
       "      <th>Nuc_NonVi</th>\n",
       "      <td>0.631554</td>\n",
       "      <td>-0.154405</td>\n",
       "      <td>-0.034174</td>\n",
       "      <td>-0.071529</td>\n",
       "      <td>-0.036790</td>\n",
       "      <td>-0.049844</td>\n",
       "      <td>-0.509139</td>\n",
       "      <td>-0.592048</td>\n",
       "      <td>0.038856</td>\n",
       "      <td>0.797000</td>\n",
       "      <td>...</td>\n",
       "      <td>-0.009155</td>\n",
       "      <td>0.483248</td>\n",
       "      <td>0.481268</td>\n",
       "      <td>0.571579</td>\n",
       "      <td>0.441810</td>\n",
       "      <td>0.335174</td>\n",
       "      <td>0.868025</td>\n",
       "      <td>0.138365</td>\n",
       "      <td>0.806984</td>\n",
       "      <td>NaN</td>\n",
       "    </tr>\n",
       "    <tr>\n",
       "      <th>Nuc_TotCt</th>\n",
       "      <td>0.754690</td>\n",
       "      <td>-0.228572</td>\n",
       "      <td>-0.136057</td>\n",
       "      <td>-0.093308</td>\n",
       "      <td>0.062701</td>\n",
       "      <td>0.022326</td>\n",
       "      <td>-0.669726</td>\n",
       "      <td>-0.767876</td>\n",
       "      <td>0.160751</td>\n",
       "      <td>0.869880</td>\n",
       "      <td>...</td>\n",
       "      <td>-0.041669</td>\n",
       "      <td>0.365082</td>\n",
       "      <td>0.544708</td>\n",
       "      <td>0.685699</td>\n",
       "      <td>0.130641</td>\n",
       "      <td>0.398842</td>\n",
       "      <td>0.839233</td>\n",
       "      <td>0.404341</td>\n",
       "      <td>0.724789</td>\n",
       "      <td>NaN</td>\n",
       "    </tr>\n",
       "    <tr>\n",
       "      <th>Nuc_LiveCt</th>\n",
       "      <td>0.742815</td>\n",
       "      <td>-0.230029</td>\n",
       "      <td>-0.142651</td>\n",
       "      <td>-0.092107</td>\n",
       "      <td>0.072353</td>\n",
       "      <td>0.031986</td>\n",
       "      <td>-0.666627</td>\n",
       "      <td>-0.761372</td>\n",
       "      <td>0.170051</td>\n",
       "      <td>0.849824</td>\n",
       "      <td>...</td>\n",
       "      <td>-0.043829</td>\n",
       "      <td>0.336474</td>\n",
       "      <td>0.535186</td>\n",
       "      <td>0.676244</td>\n",
       "      <td>0.081237</td>\n",
       "      <td>0.275217</td>\n",
       "      <td>0.799744</td>\n",
       "      <td>0.417410</td>\n",
       "      <td>0.695121</td>\n",
       "      <td>NaN</td>\n",
       "    </tr>\n",
       "    <tr>\n",
       "      <th>Nuc_Viab</th>\n",
       "      <td>-0.139409</td>\n",
       "      <td>-0.027544</td>\n",
       "      <td>-0.056642</td>\n",
       "      <td>0.052466</td>\n",
       "      <td>0.071793</td>\n",
       "      <td>0.067230</td>\n",
       "      <td>0.068839</td>\n",
       "      <td>0.167223</td>\n",
       "      <td>0.025887</td>\n",
       "      <td>-0.181778</td>\n",
       "      <td>...</td>\n",
       "      <td>-0.054391</td>\n",
       "      <td>-0.282185</td>\n",
       "      <td>-0.105158</td>\n",
       "      <td>-0.109831</td>\n",
       "      <td>-0.387428</td>\n",
       "      <td>-0.208168</td>\n",
       "      <td>-0.587653</td>\n",
       "      <td>0.051129</td>\n",
       "      <td>-0.122846</td>\n",
       "      <td>NaN</td>\n",
       "    </tr>\n",
       "    <tr>\n",
       "      <th>MPbio_TotCt</th>\n",
       "      <td>0.858668</td>\n",
       "      <td>-0.241108</td>\n",
       "      <td>-0.084109</td>\n",
       "      <td>-0.092102</td>\n",
       "      <td>-0.073564</td>\n",
       "      <td>-0.111012</td>\n",
       "      <td>-0.688426</td>\n",
       "      <td>-0.691065</td>\n",
       "      <td>0.165469</td>\n",
       "      <td>0.876583</td>\n",
       "      <td>...</td>\n",
       "      <td>-0.010303</td>\n",
       "      <td>0.461748</td>\n",
       "      <td>0.541130</td>\n",
       "      <td>0.798070</td>\n",
       "      <td>0.746065</td>\n",
       "      <td>0.682768</td>\n",
       "      <td>0.956162</td>\n",
       "      <td>-0.075884</td>\n",
       "      <td>0.851490</td>\n",
       "      <td>NaN</td>\n",
       "    </tr>\n",
       "    <tr>\n",
       "      <th>MPtvo_TotCt</th>\n",
       "      <td>-0.013744</td>\n",
       "      <td>-0.026365</td>\n",
       "      <td>-0.009550</td>\n",
       "      <td>-0.067020</td>\n",
       "      <td>-0.008807</td>\n",
       "      <td>-0.000824</td>\n",
       "      <td>-0.055354</td>\n",
       "      <td>-0.005337</td>\n",
       "      <td>-0.030308</td>\n",
       "      <td>0.735405</td>\n",
       "      <td>...</td>\n",
       "      <td>1.000000</td>\n",
       "      <td>0.631786</td>\n",
       "      <td>-0.010620</td>\n",
       "      <td>-0.011564</td>\n",
       "      <td>0.194619</td>\n",
       "      <td>-0.830734</td>\n",
       "      <td>0.489553</td>\n",
       "      <td>-0.146718</td>\n",
       "      <td>0.877935</td>\n",
       "      <td>NaN</td>\n",
       "    </tr>\n",
       "    <tr>\n",
       "      <th>Intra_Ct</th>\n",
       "      <td>0.288664</td>\n",
       "      <td>-0.036068</td>\n",
       "      <td>0.004538</td>\n",
       "      <td>-0.158694</td>\n",
       "      <td>0.127375</td>\n",
       "      <td>0.342571</td>\n",
       "      <td>-0.377039</td>\n",
       "      <td>-0.156796</td>\n",
       "      <td>-0.117979</td>\n",
       "      <td>0.413886</td>\n",
       "      <td>...</td>\n",
       "      <td>0.631786</td>\n",
       "      <td>1.000000</td>\n",
       "      <td>0.787797</td>\n",
       "      <td>0.489033</td>\n",
       "      <td>-0.678686</td>\n",
       "      <td>NaN</td>\n",
       "      <td>NaN</td>\n",
       "      <td>-0.167157</td>\n",
       "      <td>0.672781</td>\n",
       "      <td>NaN</td>\n",
       "    </tr>\n",
       "    <tr>\n",
       "      <th>Intra_Code</th>\n",
       "      <td>0.505777</td>\n",
       "      <td>-0.143880</td>\n",
       "      <td>-0.060772</td>\n",
       "      <td>-0.131722</td>\n",
       "      <td>-0.142562</td>\n",
       "      <td>-0.124757</td>\n",
       "      <td>-0.454554</td>\n",
       "      <td>-0.353557</td>\n",
       "      <td>-0.005719</td>\n",
       "      <td>0.571546</td>\n",
       "      <td>...</td>\n",
       "      <td>-0.010620</td>\n",
       "      <td>0.787797</td>\n",
       "      <td>1.000000</td>\n",
       "      <td>0.691899</td>\n",
       "      <td>-0.039128</td>\n",
       "      <td>-0.433309</td>\n",
       "      <td>0.253008</td>\n",
       "      <td>0.381751</td>\n",
       "      <td>0.749367</td>\n",
       "      <td>NaN</td>\n",
       "    </tr>\n",
       "    <tr>\n",
       "      <th>Extra_Code</th>\n",
       "      <td>0.829722</td>\n",
       "      <td>-0.382558</td>\n",
       "      <td>-0.129702</td>\n",
       "      <td>-0.162616</td>\n",
       "      <td>-0.189061</td>\n",
       "      <td>-0.196837</td>\n",
       "      <td>-0.680833</td>\n",
       "      <td>-0.588454</td>\n",
       "      <td>0.200190</td>\n",
       "      <td>0.790150</td>\n",
       "      <td>...</td>\n",
       "      <td>-0.011564</td>\n",
       "      <td>0.489033</td>\n",
       "      <td>0.691899</td>\n",
       "      <td>1.000000</td>\n",
       "      <td>0.433506</td>\n",
       "      <td>NaN</td>\n",
       "      <td>0.929353</td>\n",
       "      <td>0.095494</td>\n",
       "      <td>0.744304</td>\n",
       "      <td>NaN</td>\n",
       "    </tr>\n",
       "    <tr>\n",
       "      <th>ELISA_KZO</th>\n",
       "      <td>0.617539</td>\n",
       "      <td>0.073006</td>\n",
       "      <td>0.114055</td>\n",
       "      <td>0.028297</td>\n",
       "      <td>-0.153240</td>\n",
       "      <td>-0.111561</td>\n",
       "      <td>-0.417699</td>\n",
       "      <td>-0.251983</td>\n",
       "      <td>-0.022650</td>\n",
       "      <td>0.474429</td>\n",
       "      <td>...</td>\n",
       "      <td>0.194619</td>\n",
       "      <td>-0.678686</td>\n",
       "      <td>-0.039128</td>\n",
       "      <td>0.433506</td>\n",
       "      <td>1.000000</td>\n",
       "      <td>0.620955</td>\n",
       "      <td>0.822339</td>\n",
       "      <td>-0.195724</td>\n",
       "      <td>-0.805817</td>\n",
       "      <td>NaN</td>\n",
       "    </tr>\n",
       "    <tr>\n",
       "      <th>Live_Titer</th>\n",
       "      <td>0.619671</td>\n",
       "      <td>-0.857695</td>\n",
       "      <td>-0.873483</td>\n",
       "      <td>-0.701654</td>\n",
       "      <td>0.060228</td>\n",
       "      <td>-0.722276</td>\n",
       "      <td>NaN</td>\n",
       "      <td>-0.459863</td>\n",
       "      <td>0.536199</td>\n",
       "      <td>0.202649</td>\n",
       "      <td>...</td>\n",
       "      <td>-0.830734</td>\n",
       "      <td>NaN</td>\n",
       "      <td>-0.433309</td>\n",
       "      <td>NaN</td>\n",
       "      <td>0.620955</td>\n",
       "      <td>1.000000</td>\n",
       "      <td>0.866064</td>\n",
       "      <td>NaN</td>\n",
       "      <td>NaN</td>\n",
       "      <td>NaN</td>\n",
       "    </tr>\n",
       "    <tr>\n",
       "      <th>VCD_OD</th>\n",
       "      <td>0.958727</td>\n",
       "      <td>-0.644800</td>\n",
       "      <td>-0.769757</td>\n",
       "      <td>-0.753275</td>\n",
       "      <td>-0.407834</td>\n",
       "      <td>-0.633033</td>\n",
       "      <td>-1.000000</td>\n",
       "      <td>-0.745869</td>\n",
       "      <td>0.746643</td>\n",
       "      <td>0.918370</td>\n",
       "      <td>...</td>\n",
       "      <td>0.489553</td>\n",
       "      <td>NaN</td>\n",
       "      <td>0.253008</td>\n",
       "      <td>0.929353</td>\n",
       "      <td>0.822339</td>\n",
       "      <td>0.866064</td>\n",
       "      <td>1.000000</td>\n",
       "      <td>NaN</td>\n",
       "      <td>NaN</td>\n",
       "      <td>NaN</td>\n",
       "    </tr>\n",
       "    <tr>\n",
       "      <th>RNA</th>\n",
       "      <td>-0.123444</td>\n",
       "      <td>0.013532</td>\n",
       "      <td>0.085701</td>\n",
       "      <td>0.030460</td>\n",
       "      <td>0.022853</td>\n",
       "      <td>0.139728</td>\n",
       "      <td>-0.115538</td>\n",
       "      <td>0.129989</td>\n",
       "      <td>-0.252464</td>\n",
       "      <td>0.181657</td>\n",
       "      <td>...</td>\n",
       "      <td>-0.146718</td>\n",
       "      <td>-0.167157</td>\n",
       "      <td>0.381751</td>\n",
       "      <td>0.095494</td>\n",
       "      <td>-0.195724</td>\n",
       "      <td>NaN</td>\n",
       "      <td>NaN</td>\n",
       "      <td>1.000000</td>\n",
       "      <td>-0.327823</td>\n",
       "      <td>NaN</td>\n",
       "    </tr>\n",
       "    <tr>\n",
       "      <th>gDNA/1mL</th>\n",
       "      <td>0.702237</td>\n",
       "      <td>-0.149384</td>\n",
       "      <td>-0.496685</td>\n",
       "      <td>-0.593829</td>\n",
       "      <td>-0.007434</td>\n",
       "      <td>-0.008124</td>\n",
       "      <td>-0.815734</td>\n",
       "      <td>-0.671177</td>\n",
       "      <td>0.406646</td>\n",
       "      <td>0.916097</td>\n",
       "      <td>...</td>\n",
       "      <td>0.877935</td>\n",
       "      <td>0.672781</td>\n",
       "      <td>0.749367</td>\n",
       "      <td>0.744304</td>\n",
       "      <td>-0.805817</td>\n",
       "      <td>NaN</td>\n",
       "      <td>NaN</td>\n",
       "      <td>-0.327823</td>\n",
       "      <td>1.000000</td>\n",
       "      <td>NaN</td>\n",
       "    </tr>\n",
       "    <tr>\n",
       "      <th>Antifoam</th>\n",
       "      <td>NaN</td>\n",
       "      <td>NaN</td>\n",
       "      <td>NaN</td>\n",
       "      <td>NaN</td>\n",
       "      <td>NaN</td>\n",
       "      <td>NaN</td>\n",
       "      <td>NaN</td>\n",
       "      <td>NaN</td>\n",
       "      <td>NaN</td>\n",
       "      <td>NaN</td>\n",
       "      <td>...</td>\n",
       "      <td>NaN</td>\n",
       "      <td>NaN</td>\n",
       "      <td>NaN</td>\n",
       "      <td>NaN</td>\n",
       "      <td>NaN</td>\n",
       "      <td>NaN</td>\n",
       "      <td>NaN</td>\n",
       "      <td>NaN</td>\n",
       "      <td>NaN</td>\n",
       "      <td>NaN</td>\n",
       "    </tr>\n",
       "  </tbody>\n",
       "</table>\n",
       "<p>25 rows × 25 columns</p>\n",
       "</div>"
      ],
      "text/plain": [
       "                  DPI    DO_pct  pH_online  pH_offline   O₂_%sat  CO₂_%sat  \\\n",
       "DPI          1.000000 -0.275326  -0.163296   -0.112365 -0.063865 -0.101220   \n",
       "DO_pct      -0.275326  1.000000   0.105738    0.040839  0.001469  0.114967   \n",
       "pH_online   -0.163296  0.105738   1.000000    0.500569  0.044728  0.281500   \n",
       "pH_offline  -0.112365  0.040839   0.500569    1.000000  0.397026  0.317669   \n",
       "O₂_%sat     -0.063865  0.001469   0.044728    0.397026  1.000000  0.900190   \n",
       "CO₂_%sat    -0.101220  0.114967   0.281500    0.317669  0.900190  1.000000   \n",
       "L_Glut      -0.785802  0.299281   0.088232    0.062938 -0.079755 -0.055923   \n",
       "Gluc        -0.708295  0.203165   0.384183    0.241264  0.018089  0.098207   \n",
       "Lact         0.220710 -0.150793  -0.554909   -0.194310  0.089330 -0.021789   \n",
       "Ammon        0.831815 -0.268858  -0.181785   -0.210453 -0.027287 -0.068777   \n",
       "Nuc_NonVi    0.631554 -0.154405  -0.034174   -0.071529 -0.036790 -0.049844   \n",
       "Nuc_TotCt    0.754690 -0.228572  -0.136057   -0.093308  0.062701  0.022326   \n",
       "Nuc_LiveCt   0.742815 -0.230029  -0.142651   -0.092107  0.072353  0.031986   \n",
       "Nuc_Viab    -0.139409 -0.027544  -0.056642    0.052466  0.071793  0.067230   \n",
       "MPbio_TotCt  0.858668 -0.241108  -0.084109   -0.092102 -0.073564 -0.111012   \n",
       "MPtvo_TotCt -0.013744 -0.026365  -0.009550   -0.067020 -0.008807 -0.000824   \n",
       "Intra_Ct     0.288664 -0.036068   0.004538   -0.158694  0.127375  0.342571   \n",
       "Intra_Code   0.505777 -0.143880  -0.060772   -0.131722 -0.142562 -0.124757   \n",
       "Extra_Code   0.829722 -0.382558  -0.129702   -0.162616 -0.189061 -0.196837   \n",
       "ELISA_KZO    0.617539  0.073006   0.114055    0.028297 -0.153240 -0.111561   \n",
       "Live_Titer   0.619671 -0.857695  -0.873483   -0.701654  0.060228 -0.722276   \n",
       "VCD_OD       0.958727 -0.644800  -0.769757   -0.753275 -0.407834 -0.633033   \n",
       "RNA         -0.123444  0.013532   0.085701    0.030460  0.022853  0.139728   \n",
       "gDNA/1mL     0.702237 -0.149384  -0.496685   -0.593829 -0.007434 -0.008124   \n",
       "Antifoam          NaN       NaN        NaN         NaN       NaN       NaN   \n",
       "\n",
       "               L_Glut      Gluc      Lact     Ammon  ...  MPtvo_TotCt  \\\n",
       "DPI         -0.785802 -0.708295  0.220710  0.831815  ...    -0.013744   \n",
       "DO_pct       0.299281  0.203165 -0.150793 -0.268858  ...    -0.026365   \n",
       "pH_online    0.088232  0.384183 -0.554909 -0.181785  ...    -0.009550   \n",
       "pH_offline   0.062938  0.241264 -0.194310 -0.210453  ...    -0.067020   \n",
       "O₂_%sat     -0.079755  0.018089  0.089330 -0.027287  ...    -0.008807   \n",
       "CO₂_%sat    -0.055923  0.098207 -0.021789 -0.068777  ...    -0.000824   \n",
       "L_Glut       1.000000  0.473042 -0.078229 -0.692741  ...    -0.055354   \n",
       "Gluc         0.473042  1.000000 -0.542684 -0.722307  ...    -0.005337   \n",
       "Lact        -0.078229 -0.542684  1.000000  0.201444  ...    -0.030308   \n",
       "Ammon       -0.692741 -0.722307  0.201444  1.000000  ...     0.735405   \n",
       "Nuc_NonVi   -0.509139 -0.592048  0.038856  0.797000  ...    -0.009155   \n",
       "Nuc_TotCt   -0.669726 -0.767876  0.160751  0.869880  ...    -0.041669   \n",
       "Nuc_LiveCt  -0.666627 -0.761372  0.170051  0.849824  ...    -0.043829   \n",
       "Nuc_Viab     0.068839  0.167223  0.025887 -0.181778  ...    -0.054391   \n",
       "MPbio_TotCt -0.688426 -0.691065  0.165469  0.876583  ...    -0.010303   \n",
       "MPtvo_TotCt -0.055354 -0.005337 -0.030308  0.735405  ...     1.000000   \n",
       "Intra_Ct    -0.377039 -0.156796 -0.117979  0.413886  ...     0.631786   \n",
       "Intra_Code  -0.454554 -0.353557 -0.005719  0.571546  ...    -0.010620   \n",
       "Extra_Code  -0.680833 -0.588454  0.200190  0.790150  ...    -0.011564   \n",
       "ELISA_KZO   -0.417699 -0.251983 -0.022650  0.474429  ...     0.194619   \n",
       "Live_Titer        NaN -0.459863  0.536199  0.202649  ...    -0.830734   \n",
       "VCD_OD      -1.000000 -0.745869  0.746643  0.918370  ...     0.489553   \n",
       "RNA         -0.115538  0.129989 -0.252464  0.181657  ...    -0.146718   \n",
       "gDNA/1mL    -0.815734 -0.671177  0.406646  0.916097  ...     0.877935   \n",
       "Antifoam          NaN       NaN       NaN       NaN  ...          NaN   \n",
       "\n",
       "             Intra_Ct  Intra_Code  Extra_Code  ELISA_KZO  Live_Titer  \\\n",
       "DPI          0.288664    0.505777    0.829722   0.617539    0.619671   \n",
       "DO_pct      -0.036068   -0.143880   -0.382558   0.073006   -0.857695   \n",
       "pH_online    0.004538   -0.060772   -0.129702   0.114055   -0.873483   \n",
       "pH_offline  -0.158694   -0.131722   -0.162616   0.028297   -0.701654   \n",
       "O₂_%sat      0.127375   -0.142562   -0.189061  -0.153240    0.060228   \n",
       "CO₂_%sat     0.342571   -0.124757   -0.196837  -0.111561   -0.722276   \n",
       "L_Glut      -0.377039   -0.454554   -0.680833  -0.417699         NaN   \n",
       "Gluc        -0.156796   -0.353557   -0.588454  -0.251983   -0.459863   \n",
       "Lact        -0.117979   -0.005719    0.200190  -0.022650    0.536199   \n",
       "Ammon        0.413886    0.571546    0.790150   0.474429    0.202649   \n",
       "Nuc_NonVi    0.483248    0.481268    0.571579   0.441810    0.335174   \n",
       "Nuc_TotCt    0.365082    0.544708    0.685699   0.130641    0.398842   \n",
       "Nuc_LiveCt   0.336474    0.535186    0.676244   0.081237    0.275217   \n",
       "Nuc_Viab    -0.282185   -0.105158   -0.109831  -0.387428   -0.208168   \n",
       "MPbio_TotCt  0.461748    0.541130    0.798070   0.746065    0.682768   \n",
       "MPtvo_TotCt  0.631786   -0.010620   -0.011564   0.194619   -0.830734   \n",
       "Intra_Ct     1.000000    0.787797    0.489033  -0.678686         NaN   \n",
       "Intra_Code   0.787797    1.000000    0.691899  -0.039128   -0.433309   \n",
       "Extra_Code   0.489033    0.691899    1.000000   0.433506         NaN   \n",
       "ELISA_KZO   -0.678686   -0.039128    0.433506   1.000000    0.620955   \n",
       "Live_Titer        NaN   -0.433309         NaN   0.620955    1.000000   \n",
       "VCD_OD            NaN    0.253008    0.929353   0.822339    0.866064   \n",
       "RNA         -0.167157    0.381751    0.095494  -0.195724         NaN   \n",
       "gDNA/1mL     0.672781    0.749367    0.744304  -0.805817         NaN   \n",
       "Antifoam          NaN         NaN         NaN        NaN         NaN   \n",
       "\n",
       "               VCD_OD       RNA  gDNA/1mL  Antifoam  \n",
       "DPI          0.958727 -0.123444  0.702237       NaN  \n",
       "DO_pct      -0.644800  0.013532 -0.149384       NaN  \n",
       "pH_online   -0.769757  0.085701 -0.496685       NaN  \n",
       "pH_offline  -0.753275  0.030460 -0.593829       NaN  \n",
       "O₂_%sat     -0.407834  0.022853 -0.007434       NaN  \n",
       "CO₂_%sat    -0.633033  0.139728 -0.008124       NaN  \n",
       "L_Glut      -1.000000 -0.115538 -0.815734       NaN  \n",
       "Gluc        -0.745869  0.129989 -0.671177       NaN  \n",
       "Lact         0.746643 -0.252464  0.406646       NaN  \n",
       "Ammon        0.918370  0.181657  0.916097       NaN  \n",
       "Nuc_NonVi    0.868025  0.138365  0.806984       NaN  \n",
       "Nuc_TotCt    0.839233  0.404341  0.724789       NaN  \n",
       "Nuc_LiveCt   0.799744  0.417410  0.695121       NaN  \n",
       "Nuc_Viab    -0.587653  0.051129 -0.122846       NaN  \n",
       "MPbio_TotCt  0.956162 -0.075884  0.851490       NaN  \n",
       "MPtvo_TotCt  0.489553 -0.146718  0.877935       NaN  \n",
       "Intra_Ct          NaN -0.167157  0.672781       NaN  \n",
       "Intra_Code   0.253008  0.381751  0.749367       NaN  \n",
       "Extra_Code   0.929353  0.095494  0.744304       NaN  \n",
       "ELISA_KZO    0.822339 -0.195724 -0.805817       NaN  \n",
       "Live_Titer   0.866064       NaN       NaN       NaN  \n",
       "VCD_OD       1.000000       NaN       NaN       NaN  \n",
       "RNA               NaN  1.000000 -0.327823       NaN  \n",
       "gDNA/1mL          NaN -0.327823  1.000000       NaN  \n",
       "Antifoam          NaN       NaN       NaN       NaN  \n",
       "\n",
       "[25 rows x 25 columns]"
      ]
     },
     "execution_count": 86,
     "metadata": {},
     "output_type": "execute_result"
    }
   ],
   "source": [
    "corrDF = testDF.corr()\n",
    "corrDF"
   ]
  },
  {
   "cell_type": "code",
   "execution_count": 87,
   "metadata": {},
   "outputs": [
    {
     "data": {
      "text/plain": [
       "MPbio_TotCt    1.000000\n",
       "VCD_OD         0.956162\n",
       "Ammon          0.876583\n",
       "DPI            0.858668\n",
       "gDNA/1mL       0.851490\n",
       "Extra_Code     0.798070\n",
       "Nuc_NonVi      0.763418\n",
       "Nuc_TotCt      0.746729\n",
       "ELISA_KZO      0.746065\n",
       "Nuc_LiveCt     0.720506\n",
       "Live_Titer     0.682768\n",
       "Intra_Code     0.541130\n",
       "Intra_Ct       0.461748\n",
       "Lact           0.165469\n",
       "MPtvo_TotCt   -0.010303\n",
       "O₂_%sat       -0.073564\n",
       "RNA           -0.075884\n",
       "pH_online     -0.084109\n",
       "pH_offline    -0.092102\n",
       "CO₂_%sat      -0.111012\n",
       "DO_pct        -0.241108\n",
       "Nuc_Viab      -0.343780\n",
       "L_Glut        -0.688426\n",
       "Gluc          -0.691065\n",
       "Antifoam            NaN\n",
       "dtype: float64"
      ]
     },
     "execution_count": 87,
     "metadata": {},
     "output_type": "execute_result"
    }
   ],
   "source": [
    "testDF.corrwith(testDF.MPbio_TotCt).sort_values(ascending=False)"
   ]
  },
  {
   "cell_type": "code",
   "execution_count": 88,
   "metadata": {},
   "outputs": [
    {
     "name": "stderr",
     "output_type": "stream",
     "text": [
      "C:\\ProgramData\\Anaconda3\\lib\\site-packages\\numpy\\lib\\function_base.py:2551: RuntimeWarning: Degrees of freedom <= 0 for slice\n",
      "  c = cov(x, y, rowvar)\n",
      "C:\\ProgramData\\Anaconda3\\lib\\site-packages\\numpy\\lib\\function_base.py:2480: RuntimeWarning: divide by zero encountered in true_divide\n",
      "  c *= np.true_divide(1, fact)\n"
     ]
    },
    {
     "data": {
      "text/plain": [
       "ELISA_KZO      1.000000\n",
       "VCD_OD         0.822339\n",
       "MPbio_TotCt    0.746065\n",
       "Live_Titer     0.620955\n",
       "DPI            0.617539\n",
       "Ammon          0.474429\n",
       "Nuc_NonVi      0.441810\n",
       "Extra_Code     0.433506\n",
       "MPtvo_TotCt    0.194619\n",
       "Nuc_TotCt      0.130641\n",
       "pH_online      0.114055\n",
       "Nuc_LiveCt     0.081237\n",
       "DO_pct         0.073006\n",
       "pH_offline     0.028297\n",
       "Lact          -0.022650\n",
       "Intra_Code    -0.039128\n",
       "CO₂_%sat      -0.111561\n",
       "O₂_%sat       -0.153240\n",
       "RNA           -0.195724\n",
       "Gluc          -0.251983\n",
       "Nuc_Viab      -0.387428\n",
       "L_Glut        -0.417699\n",
       "Intra_Ct      -0.678686\n",
       "gDNA/1mL      -0.805817\n",
       "Antifoam            NaN\n",
       "dtype: float64"
      ]
     },
     "execution_count": 88,
     "metadata": {},
     "output_type": "execute_result"
    }
   ],
   "source": [
    "testDF.corrwith(testDF.ELISA_KZO).sort_values(ascending=False)"
   ]
  },
  {
   "cell_type": "code",
   "execution_count": 89,
   "metadata": {},
   "outputs": [
    {
     "data": {
      "text/plain": [
       "VCD_OD         1.000000\n",
       "DPI            0.958727\n",
       "MPbio_TotCt    0.956162\n",
       "Extra_Code     0.929353\n",
       "Ammon          0.918370\n",
       "Nuc_NonVi      0.868025\n",
       "Live_Titer     0.866064\n",
       "Nuc_TotCt      0.839233\n",
       "ELISA_KZO      0.822339\n",
       "Nuc_LiveCt     0.799744\n",
       "Lact           0.746643\n",
       "MPtvo_TotCt    0.489553\n",
       "Intra_Code     0.253008\n",
       "O₂_%sat       -0.407834\n",
       "Nuc_Viab      -0.587653\n",
       "CO₂_%sat      -0.633033\n",
       "DO_pct        -0.644800\n",
       "Gluc          -0.745869\n",
       "pH_offline    -0.753275\n",
       "pH_online     -0.769757\n",
       "L_Glut        -1.000000\n",
       "Intra_Ct            NaN\n",
       "RNA                 NaN\n",
       "gDNA/1mL            NaN\n",
       "Antifoam            NaN\n",
       "dtype: float64"
      ]
     },
     "execution_count": 89,
     "metadata": {},
     "output_type": "execute_result"
    }
   ],
   "source": [
    "testDF.corrwith(testDF.VCD_OD).sort_values(ascending=False)"
   ]
  },
  {
   "cell_type": "code",
   "execution_count": 90,
   "metadata": {},
   "outputs": [],
   "source": [
    "# testDF.dtypes"
   ]
  },
  {
   "cell_type": "code",
   "execution_count": 91,
   "metadata": {},
   "outputs": [
    {
     "data": {
      "text/html": [
       "<div>\n",
       "<style scoped>\n",
       "    .dataframe tbody tr th:only-of-type {\n",
       "        vertical-align: middle;\n",
       "    }\n",
       "\n",
       "    .dataframe tbody tr th {\n",
       "        vertical-align: top;\n",
       "    }\n",
       "\n",
       "    .dataframe thead th {\n",
       "        text-align: right;\n",
       "    }\n",
       "</style>\n",
       "<table border=\"1\" class=\"dataframe\">\n",
       "  <thead>\n",
       "    <tr style=\"text-align: right;\">\n",
       "      <th></th>\n",
       "      <th>Batch</th>\n",
       "      <th>Vessel</th>\n",
       "      <th>DPI</th>\n",
       "      <th>DO_pct</th>\n",
       "      <th>pH_online</th>\n",
       "      <th>pH_offline</th>\n",
       "      <th>O₂_%sat</th>\n",
       "      <th>CO₂_%sat</th>\n",
       "      <th>L_Glut</th>\n",
       "      <th>Gluc</th>\n",
       "      <th>...</th>\n",
       "      <th>Micro_Intra</th>\n",
       "      <th>Micro_Extra</th>\n",
       "      <th>Intra_Code</th>\n",
       "      <th>Extra_Code</th>\n",
       "      <th>ELISA_KZO</th>\n",
       "      <th>Live_Titer</th>\n",
       "      <th>VCD_OD</th>\n",
       "      <th>RNA</th>\n",
       "      <th>gDNA/1mL</th>\n",
       "      <th>Antifoam</th>\n",
       "    </tr>\n",
       "  </thead>\n",
       "  <tbody>\n",
       "    <tr>\n",
       "      <th>194</th>\n",
       "      <td>457597PV</td>\n",
       "      <td>1000L SUB</td>\n",
       "      <td>0.0</td>\n",
       "      <td>41.74</td>\n",
       "      <td>7.09</td>\n",
       "      <td>7.086</td>\n",
       "      <td>0.805</td>\n",
       "      <td>0.080</td>\n",
       "      <td>2.76</td>\n",
       "      <td>NaN</td>\n",
       "      <td>...</td>\n",
       "      <td>Light, 1+</td>\n",
       "      <td>Light, 1+</td>\n",
       "      <td>2.0</td>\n",
       "      <td>2.0</td>\n",
       "      <td>NaN</td>\n",
       "      <td>NaN</td>\n",
       "      <td>0.05</td>\n",
       "      <td>NaN</td>\n",
       "      <td>NaN</td>\n",
       "      <td>NaN</td>\n",
       "    </tr>\n",
       "    <tr>\n",
       "      <th>197</th>\n",
       "      <td>457597PV</td>\n",
       "      <td>1000L SUB</td>\n",
       "      <td>3.0</td>\n",
       "      <td>6.16</td>\n",
       "      <td>7.06</td>\n",
       "      <td>7.197</td>\n",
       "      <td>NaN</td>\n",
       "      <td>0.060</td>\n",
       "      <td>1.80</td>\n",
       "      <td>NaN</td>\n",
       "      <td>...</td>\n",
       "      <td>Some, 2+</td>\n",
       "      <td>Some, 2+</td>\n",
       "      <td>3.0</td>\n",
       "      <td>3.0</td>\n",
       "      <td>NaN</td>\n",
       "      <td>NaN</td>\n",
       "      <td>0.45</td>\n",
       "      <td>NaN</td>\n",
       "      <td>NaN</td>\n",
       "      <td>NaN</td>\n",
       "    </tr>\n",
       "    <tr>\n",
       "      <th>198</th>\n",
       "      <td>457597PV</td>\n",
       "      <td>1000L SUB</td>\n",
       "      <td>4.0</td>\n",
       "      <td>5.93</td>\n",
       "      <td>7.05</td>\n",
       "      <td>NaN</td>\n",
       "      <td>NaN</td>\n",
       "      <td>NaN</td>\n",
       "      <td>NaN</td>\n",
       "      <td>NaN</td>\n",
       "      <td>...</td>\n",
       "      <td>NaN</td>\n",
       "      <td>NaN</td>\n",
       "      <td>NaN</td>\n",
       "      <td>NaN</td>\n",
       "      <td>NaN</td>\n",
       "      <td>NaN</td>\n",
       "      <td>0.60</td>\n",
       "      <td>NaN</td>\n",
       "      <td>NaN</td>\n",
       "      <td>NaN</td>\n",
       "    </tr>\n",
       "    <tr>\n",
       "      <th>199</th>\n",
       "      <td>457597PV</td>\n",
       "      <td>1000L SUB</td>\n",
       "      <td>5.0</td>\n",
       "      <td>6.08</td>\n",
       "      <td>7.06</td>\n",
       "      <td>7.035</td>\n",
       "      <td>0.688</td>\n",
       "      <td>0.083</td>\n",
       "      <td>NaN</td>\n",
       "      <td>4.00</td>\n",
       "      <td>...</td>\n",
       "      <td>Heavy, 3+</td>\n",
       "      <td>Heavy, 3+</td>\n",
       "      <td>4.0</td>\n",
       "      <td>4.0</td>\n",
       "      <td>NaN</td>\n",
       "      <td>NaN</td>\n",
       "      <td>0.93</td>\n",
       "      <td>NaN</td>\n",
       "      <td>NaN</td>\n",
       "      <td>NaN</td>\n",
       "    </tr>\n",
       "    <tr>\n",
       "      <th>200</th>\n",
       "      <td>457597PV</td>\n",
       "      <td>1000L SUB</td>\n",
       "      <td>6.0</td>\n",
       "      <td>5.93</td>\n",
       "      <td>7.06</td>\n",
       "      <td>NaN</td>\n",
       "      <td>NaN</td>\n",
       "      <td>NaN</td>\n",
       "      <td>NaN</td>\n",
       "      <td>NaN</td>\n",
       "      <td>...</td>\n",
       "      <td>NaN</td>\n",
       "      <td>NaN</td>\n",
       "      <td>NaN</td>\n",
       "      <td>NaN</td>\n",
       "      <td>NaN</td>\n",
       "      <td>NaN</td>\n",
       "      <td>1.17</td>\n",
       "      <td>NaN</td>\n",
       "      <td>NaN</td>\n",
       "      <td>NaN</td>\n",
       "    </tr>\n",
       "    <tr>\n",
       "      <th>201</th>\n",
       "      <td>457597PV</td>\n",
       "      <td>1000L SUB</td>\n",
       "      <td>7.0</td>\n",
       "      <td>6.08</td>\n",
       "      <td>7.06</td>\n",
       "      <td>6.962</td>\n",
       "      <td>0.635</td>\n",
       "      <td>0.093</td>\n",
       "      <td>NaN</td>\n",
       "      <td>3.94</td>\n",
       "      <td>...</td>\n",
       "      <td>Heavy, 3+</td>\n",
       "      <td>Very Heavy, 4+</td>\n",
       "      <td>4.0</td>\n",
       "      <td>5.0</td>\n",
       "      <td>4827.0</td>\n",
       "      <td>3.50</td>\n",
       "      <td>1.56</td>\n",
       "      <td>NaN</td>\n",
       "      <td>NaN</td>\n",
       "      <td>NaN</td>\n",
       "    </tr>\n",
       "    <tr>\n",
       "      <th>203</th>\n",
       "      <td>457597PV</td>\n",
       "      <td>1000L SUB</td>\n",
       "      <td>9.0</td>\n",
       "      <td>3.47</td>\n",
       "      <td>6.78</td>\n",
       "      <td>6.836</td>\n",
       "      <td>0.625</td>\n",
       "      <td>0.062</td>\n",
       "      <td>NaN</td>\n",
       "      <td>2.91</td>\n",
       "      <td>...</td>\n",
       "      <td>Heavy, 3+</td>\n",
       "      <td>Very Heavy, 4+</td>\n",
       "      <td>4.0</td>\n",
       "      <td>5.0</td>\n",
       "      <td>5570.0</td>\n",
       "      <td>4.50</td>\n",
       "      <td>2.26</td>\n",
       "      <td>NaN</td>\n",
       "      <td>NaN</td>\n",
       "      <td>NaN</td>\n",
       "    </tr>\n",
       "    <tr>\n",
       "      <th>204</th>\n",
       "      <td>457597PV</td>\n",
       "      <td>1000L SUB</td>\n",
       "      <td>10.0</td>\n",
       "      <td>0.82</td>\n",
       "      <td>6.69</td>\n",
       "      <td>6.691</td>\n",
       "      <td>0.514</td>\n",
       "      <td>0.060</td>\n",
       "      <td>NaN</td>\n",
       "      <td>2.41</td>\n",
       "      <td>...</td>\n",
       "      <td>Heavy, 3+</td>\n",
       "      <td>Very Heavy, 4+</td>\n",
       "      <td>4.0</td>\n",
       "      <td>5.0</td>\n",
       "      <td>6663.0</td>\n",
       "      <td>NaN</td>\n",
       "      <td>2.45</td>\n",
       "      <td>NaN</td>\n",
       "      <td>NaN</td>\n",
       "      <td>NaN</td>\n",
       "    </tr>\n",
       "    <tr>\n",
       "      <th>205</th>\n",
       "      <td>457597PV</td>\n",
       "      <td>1000L SUB</td>\n",
       "      <td>11.0</td>\n",
       "      <td>2.47</td>\n",
       "      <td>6.61</td>\n",
       "      <td>6.658</td>\n",
       "      <td>0.673</td>\n",
       "      <td>0.027</td>\n",
       "      <td>NaN</td>\n",
       "      <td>2.62</td>\n",
       "      <td>...</td>\n",
       "      <td>Some, 2+</td>\n",
       "      <td>Very Heavy, 4+</td>\n",
       "      <td>3.0</td>\n",
       "      <td>5.0</td>\n",
       "      <td>6044.0</td>\n",
       "      <td>5.50</td>\n",
       "      <td>2.49</td>\n",
       "      <td>NaN</td>\n",
       "      <td>NaN</td>\n",
       "      <td>NaN</td>\n",
       "    </tr>\n",
       "    <tr>\n",
       "      <th>206</th>\n",
       "      <td>457597PV</td>\n",
       "      <td>1000L SUB</td>\n",
       "      <td>12.0</td>\n",
       "      <td>2.08</td>\n",
       "      <td>6.95</td>\n",
       "      <td>6.968</td>\n",
       "      <td>0.586</td>\n",
       "      <td>0.017</td>\n",
       "      <td>NaN</td>\n",
       "      <td>1.86</td>\n",
       "      <td>...</td>\n",
       "      <td>Some, 2+</td>\n",
       "      <td>Very Heavy, 4+</td>\n",
       "      <td>3.0</td>\n",
       "      <td>5.0</td>\n",
       "      <td>6602.0</td>\n",
       "      <td>4.65</td>\n",
       "      <td>2.58</td>\n",
       "      <td>NaN</td>\n",
       "      <td>NaN</td>\n",
       "      <td>NaN</td>\n",
       "    </tr>\n",
       "    <tr>\n",
       "      <th>207</th>\n",
       "      <td>457597PV</td>\n",
       "      <td>1000L SUB</td>\n",
       "      <td>13.0</td>\n",
       "      <td>4.04</td>\n",
       "      <td>6.95</td>\n",
       "      <td>7.024</td>\n",
       "      <td>0.919</td>\n",
       "      <td>0.014</td>\n",
       "      <td>NaN</td>\n",
       "      <td>1.08</td>\n",
       "      <td>...</td>\n",
       "      <td>Light, 1+</td>\n",
       "      <td>Very Heavy, 4+</td>\n",
       "      <td>2.0</td>\n",
       "      <td>5.0</td>\n",
       "      <td>6581.0</td>\n",
       "      <td>4.50</td>\n",
       "      <td>2.20</td>\n",
       "      <td>NaN</td>\n",
       "      <td>NaN</td>\n",
       "      <td>NaN</td>\n",
       "    </tr>\n",
       "  </tbody>\n",
       "</table>\n",
       "<p>11 rows × 29 columns</p>\n",
       "</div>"
      ],
      "text/plain": [
       "        Batch     Vessel   DPI  DO_pct  pH_online  pH_offline  O₂_%sat  \\\n",
       "194  457597PV  1000L SUB   0.0   41.74       7.09       7.086    0.805   \n",
       "197  457597PV  1000L SUB   3.0    6.16       7.06       7.197      NaN   \n",
       "198  457597PV  1000L SUB   4.0    5.93       7.05         NaN      NaN   \n",
       "199  457597PV  1000L SUB   5.0    6.08       7.06       7.035    0.688   \n",
       "200  457597PV  1000L SUB   6.0    5.93       7.06         NaN      NaN   \n",
       "201  457597PV  1000L SUB   7.0    6.08       7.06       6.962    0.635   \n",
       "203  457597PV  1000L SUB   9.0    3.47       6.78       6.836    0.625   \n",
       "204  457597PV  1000L SUB  10.0    0.82       6.69       6.691    0.514   \n",
       "205  457597PV  1000L SUB  11.0    2.47       6.61       6.658    0.673   \n",
       "206  457597PV  1000L SUB  12.0    2.08       6.95       6.968    0.586   \n",
       "207  457597PV  1000L SUB  13.0    4.04       6.95       7.024    0.919   \n",
       "\n",
       "     CO₂_%sat  L_Glut  Gluc  ...  Micro_Intra     Micro_Extra  Intra_Code  \\\n",
       "194     0.080    2.76   NaN  ...    Light, 1+       Light, 1+         2.0   \n",
       "197     0.060    1.80   NaN  ...     Some, 2+        Some, 2+         3.0   \n",
       "198       NaN     NaN   NaN  ...          NaN             NaN         NaN   \n",
       "199     0.083     NaN  4.00  ...    Heavy, 3+       Heavy, 3+         4.0   \n",
       "200       NaN     NaN   NaN  ...          NaN             NaN         NaN   \n",
       "201     0.093     NaN  3.94  ...    Heavy, 3+  Very Heavy, 4+         4.0   \n",
       "203     0.062     NaN  2.91  ...    Heavy, 3+  Very Heavy, 4+         4.0   \n",
       "204     0.060     NaN  2.41  ...    Heavy, 3+  Very Heavy, 4+         4.0   \n",
       "205     0.027     NaN  2.62  ...     Some, 2+  Very Heavy, 4+         3.0   \n",
       "206     0.017     NaN  1.86  ...     Some, 2+  Very Heavy, 4+         3.0   \n",
       "207     0.014     NaN  1.08  ...    Light, 1+  Very Heavy, 4+         2.0   \n",
       "\n",
       "     Extra_Code  ELISA_KZO  Live_Titer  VCD_OD  RNA  gDNA/1mL Antifoam  \n",
       "194         2.0        NaN         NaN    0.05  NaN       NaN      NaN  \n",
       "197         3.0        NaN         NaN    0.45  NaN       NaN      NaN  \n",
       "198         NaN        NaN         NaN    0.60  NaN       NaN      NaN  \n",
       "199         4.0        NaN         NaN    0.93  NaN       NaN      NaN  \n",
       "200         NaN        NaN         NaN    1.17  NaN       NaN      NaN  \n",
       "201         5.0     4827.0        3.50    1.56  NaN       NaN      NaN  \n",
       "203         5.0     5570.0        4.50    2.26  NaN       NaN      NaN  \n",
       "204         5.0     6663.0         NaN    2.45  NaN       NaN      NaN  \n",
       "205         5.0     6044.0        5.50    2.49  NaN       NaN      NaN  \n",
       "206         5.0     6602.0        4.65    2.58  NaN       NaN      NaN  \n",
       "207         5.0     6581.0        4.50    2.20  NaN       NaN      NaN  \n",
       "\n",
       "[11 rows x 29 columns]"
      ]
     },
     "execution_count": 91,
     "metadata": {},
     "output_type": "execute_result"
    }
   ],
   "source": [
    "testDF[testDF.VCD_OD.notnull()]"
   ]
  },
  {
   "cell_type": "markdown",
   "metadata": {},
   "source": [
    "### Pearson Ranking"
   ]
  },
  {
   "cell_type": "code",
   "execution_count": 92,
   "metadata": {},
   "outputs": [],
   "source": [
    "from yellowbrick.features import Rank2D"
   ]
  },
  {
   "cell_type": "code",
   "execution_count": 93,
   "metadata": {},
   "outputs": [],
   "source": [
    "# # Set up figure size\n",
    "# %matplotlib inline\n",
    "# plt.rcParams['figure.figsize'] = (15, 7)"
   ]
  },
  {
   "cell_type": "code",
   "execution_count": 94,
   "metadata": {},
   "outputs": [],
   "source": [
    "# num_features = ['Batch', 'Vessel', 'DPI', 'DO_pct', 'pH_online', 'pH_offline',\n",
    "#        'O₂_%sat', 'CO₂_%sat', 'L_Glut', 'Gluc', 'Lact', 'Ammon', 'Nuc_NonVi',\n",
    "#        'Nuc_TotCt', 'Nuc_LiveCt', 'Nuc_Viab', 'MPbio_TotCt', 'MPtvo_TotCt',\n",
    "#        'Intra_Ct', 'Micro_Intra', 'Micro_Extra', 'Intra_Code', 'Extra_Code',\n",
    "#        'ELISA_KZO', 'Live_Titer', 'VCD_OD', 'RNA', 'gDNA/1mL', 'Antifoam']"
   ]
  },
  {
   "cell_type": "code",
   "execution_count": 95,
   "metadata": {},
   "outputs": [
    {
     "data": {
      "text/plain": [
       "pandas.core.indexes.base.Index"
      ]
     },
     "execution_count": 95,
     "metadata": {},
     "output_type": "execute_result"
    }
   ],
   "source": [
    "type(testDF.columns)"
   ]
  },
  {
   "cell_type": "code",
   "execution_count": 96,
   "metadata": {},
   "outputs": [
    {
     "data": {
      "text/plain": [
       "Index(['Batch', 'Vessel', 'DPI', 'DO_pct', 'pH_online', 'pH_offline',\n",
       "       'O₂_%sat', 'CO₂_%sat', 'L_Glut', 'Gluc', 'Lact', 'Ammon', 'Nuc_NonVi',\n",
       "       'Nuc_TotCt', 'Nuc_LiveCt', 'Nuc_Viab', 'MPbio_TotCt', 'MPtvo_TotCt',\n",
       "       'Intra_Ct', 'Micro_Intra', 'Micro_Extra', 'Intra_Code', 'Extra_Code',\n",
       "       'ELISA_KZO', 'Live_Titer', 'VCD_OD', 'RNA', 'gDNA/1mL', 'Antifoam'],\n",
       "      dtype='object')"
      ]
     },
     "execution_count": 96,
     "metadata": {},
     "output_type": "execute_result"
    }
   ],
   "source": [
    "testDF.columns"
   ]
  },
  {
   "cell_type": "code",
   "execution_count": 97,
   "metadata": {},
   "outputs": [
    {
     "data": {
      "text/plain": [
       "Batch           object\n",
       "Vessel          object\n",
       "DPI            float64\n",
       "DO_pct         float64\n",
       "pH_online      float64\n",
       "pH_offline     float64\n",
       "O₂_%sat        float64\n",
       "CO₂_%sat       float64\n",
       "L_Glut         float64\n",
       "Gluc           float64\n",
       "Lact           float64\n",
       "Ammon          float64\n",
       "Nuc_NonVi      float64\n",
       "Nuc_TotCt      float64\n",
       "Nuc_LiveCt     float64\n",
       "Nuc_Viab       float64\n",
       "MPbio_TotCt    float64\n",
       "MPtvo_TotCt    float64\n",
       "Intra_Ct       float64\n",
       "Micro_Intra     object\n",
       "Micro_Extra     object\n",
       "Intra_Code     float64\n",
       "Extra_Code     float64\n",
       "ELISA_KZO      float64\n",
       "Live_Titer     float64\n",
       "VCD_OD         float64\n",
       "RNA            float64\n",
       "gDNA/1mL       float64\n",
       "Antifoam       float64\n",
       "dtype: object"
      ]
     },
     "execution_count": 97,
     "metadata": {},
     "output_type": "execute_result"
    }
   ],
   "source": [
    "testDF.dtypes"
   ]
  },
  {
   "cell_type": "code",
   "execution_count": 98,
   "metadata": {},
   "outputs": [],
   "source": [
    "# types = testDF.dtypes.tolist()"
   ]
  },
  {
   "cell_type": "code",
   "execution_count": 99,
   "metadata": {},
   "outputs": [],
   "source": [
    "# cols = testDF.columns.tolist()"
   ]
  },
  {
   "cell_type": "code",
   "execution_count": 100,
   "metadata": {},
   "outputs": [],
   "source": [
    "# newDict = dict(zip(cols, types))"
   ]
  },
  {
   "cell_type": "code",
   "execution_count": 101,
   "metadata": {},
   "outputs": [],
   "source": [
    "# zip(cols, types)"
   ]
  },
  {
   "cell_type": "code",
   "execution_count": 102,
   "metadata": {},
   "outputs": [],
   "source": [
    "# colsTypes = list(zip(cols, types))"
   ]
  },
  {
   "cell_type": "code",
   "execution_count": 103,
   "metadata": {},
   "outputs": [],
   "source": [
    "# Generate list of num type columns:\n",
    "colsTypes = list(zip(testDF.columns, testDF.dtypes))\n",
    "num_features = []\n",
    "for col, typ in colsTypes:\n",
    "    if typ == 'float64':\n",
    "        num_features.append(col)"
   ]
  },
  {
   "cell_type": "code",
   "execution_count": 104,
   "metadata": {},
   "outputs": [],
   "source": [
    "# Set up figure size\n",
    "%matplotlib inline\n",
    "plt.rcParams['figure.figsize'] = (15, 7)"
   ]
  },
  {
   "cell_type": "code",
   "execution_count": 105,
   "metadata": {},
   "outputs": [],
   "source": [
    "X = testDF[num_features].values"
   ]
  },
  {
   "cell_type": "code",
   "execution_count": 106,
   "metadata": {},
   "outputs": [
    {
     "name": "stderr",
     "output_type": "stream",
     "text": [
      "C:\\ProgramData\\Anaconda3\\lib\\site-packages\\matplotlib\\backends\\backend_agg.py:238: RuntimeWarning: Glyph 8322 missing from current font.\n",
      "  font.set_text(s, 0.0, flags=flags)\n",
      "C:\\ProgramData\\Anaconda3\\lib\\site-packages\\matplotlib\\backends\\backend_agg.py:201: RuntimeWarning: Glyph 8322 missing from current font.\n",
      "  font.set_text(s, 0, flags=flags)\n"
     ]
    },
    {
     "data": {
      "image/png": "[encoded data removed]",
      "text/plain": [
       "<Figure size 1080x504 with 2 Axes>"
      ]
     },
     "metadata": {
      "needs_background": "light"
     },
     "output_type": "display_data"
    },
    {
     "data": {
      "text/plain": [
       "<AxesSubplot:title={'center':'Pearson Ranking of 25 Features'}>"
      ]
     },
     "execution_count": 106,
     "metadata": {},
     "output_type": "execute_result"
    }
   ],
   "source": [
    "# Instantiate the visualizer with the Covariance ranking algorithm\n",
    "visualizer = Rank2D(features=num_features, algorithm='pearson') # ‘pearson’, ‘covariance’, ‘spearman’, or ‘kendalltau’\n",
    "visualizer.fit(X)  # Fit the data to the visualizer\n",
    "visualizer.transform(X)  # Transform the data\n",
    "# visualizer.poof()  # Draw/show/poof the data\n",
    "visualizer.poof()#outpath='pcoords1.png') # Draw/show/poof the data\n",
    "# plt.show()"
   ]
  },
  {
   "cell_type": "code",
   "execution_count": 107,
   "metadata": {},
   "outputs": [
    {
     "data": {
      "text/plain": [
       "array([[ 3.   ,    nan,    nan, ...,    nan,    nan,    nan],\n",
       "       [ 0.   , 15.39 ,  6.983, ...,    nan,    nan,    nan],\n",
       "       [ 4.   ,  6.14 ,  7.038, ...,    nan,    nan,    nan],\n",
       "       ...,\n",
       "       [12.   ,  6.14 ,  7.05 , ...,    nan,    nan,    nan],\n",
       "       [13.   ,  5.73 ,  7.05 , ...,    nan,    nan,    nan],\n",
       "       [14.   ,  3.49 ,  7.06 , ...,    nan,    nan,    nan]])"
      ]
     },
     "execution_count": 107,
     "metadata": {},
     "output_type": "execute_result"
    }
   ],
   "source": [
    "X"
   ]
  },
  {
   "cell_type": "code",
   "execution_count": 108,
   "metadata": {},
   "outputs": [
    {
     "data": {
      "text/plain": [
       "Batch          False\n",
       "Vessel         False\n",
       "DPI            False\n",
       "DO_pct          True\n",
       "pH_online       True\n",
       "pH_offline      True\n",
       "O₂_%sat         True\n",
       "CO₂_%sat        True\n",
       "L_Glut          True\n",
       "Gluc            True\n",
       "Lact            True\n",
       "Ammon           True\n",
       "Nuc_NonVi       True\n",
       "Nuc_TotCt       True\n",
       "Nuc_LiveCt      True\n",
       "Nuc_Viab        True\n",
       "MPbio_TotCt     True\n",
       "MPtvo_TotCt     True\n",
       "Intra_Ct        True\n",
       "Micro_Intra     True\n",
       "Micro_Extra     True\n",
       "Intra_Code      True\n",
       "Extra_Code      True\n",
       "ELISA_KZO       True\n",
       "Live_Titer      True\n",
       "VCD_OD          True\n",
       "RNA             True\n",
       "gDNA/1mL        True\n",
       "Antifoam        True\n",
       "dtype: bool"
      ]
     },
     "execution_count": 108,
     "metadata": {},
     "output_type": "execute_result"
    }
   ],
   "source": [
    "testDF.isnull().any()"
   ]
  },
  {
   "cell_type": "code",
   "execution_count": 109,
   "metadata": {},
   "outputs": [],
   "source": [
    "pearsDF = testDF.copy()"
   ]
  },
  {
   "cell_type": "code",
   "execution_count": 110,
   "metadata": {},
   "outputs": [],
   "source": [
    "pearsDF = pearsDF[pearsDF.MPbio_TotCt.notnull()]"
   ]
  },
  {
   "cell_type": "code",
   "execution_count": 111,
   "metadata": {},
   "outputs": [],
   "source": [
    "pearsDF = pearsDF[pearsDF.Extra_Code.notnull()]"
   ]
  },
  {
   "cell_type": "code",
   "execution_count": 112,
   "metadata": {},
   "outputs": [],
   "source": [
    "pearsDF = pearsDF[pearsDF.Intra_Code.notnull()]"
   ]
  },
  {
   "cell_type": "code",
   "execution_count": 113,
   "metadata": {},
   "outputs": [],
   "source": [
    "pearsDF = pearsDF[pearsDF.Nuc_NonVi.notnull()]"
   ]
  },
  {
   "cell_type": "code",
   "execution_count": 114,
   "metadata": {},
   "outputs": [],
   "source": [
    "pearsDF = pearsDF[pearsDF.ELISA_KZO.notnull()]"
   ]
  },
  {
   "cell_type": "code",
   "execution_count": 115,
   "metadata": {},
   "outputs": [
    {
     "data": {
      "text/plain": [
       "(73, 29)"
      ]
     },
     "execution_count": 115,
     "metadata": {},
     "output_type": "execute_result"
    }
   ],
   "source": [
    "pearsDF.shape"
   ]
  },
  {
   "cell_type": "code",
   "execution_count": 118,
   "metadata": {},
   "outputs": [
    {
     "data": {
      "text/plain": [
       "['DPI',\n",
       " 'DO_pct',\n",
       " 'pH_online',\n",
       " 'pH_offline',\n",
       " 'O₂_%sat',\n",
       " 'CO₂_%sat',\n",
       " 'L_Glut',\n",
       " 'Gluc',\n",
       " 'Lact',\n",
       " 'Ammon',\n",
       " 'Nuc_NonVi',\n",
       " 'Nuc_TotCt',\n",
       " 'Nuc_LiveCt',\n",
       " 'Nuc_Viab',\n",
       " 'MPbio_TotCt',\n",
       " 'MPtvo_TotCt',\n",
       " 'Intra_Ct',\n",
       " 'Intra_Code',\n",
       " 'Extra_Code',\n",
       " 'ELISA_KZO',\n",
       " 'Live_Titer',\n",
       " 'VCD_OD',\n",
       " 'RNA',\n",
       " 'gDNA/1mL',\n",
       " 'Antifoam']"
      ]
     },
     "execution_count": 118,
     "metadata": {},
     "output_type": "execute_result"
    }
   ],
   "source": [
    "num_features"
   ]
  },
  {
   "cell_type": "code",
   "execution_count": 119,
   "metadata": {},
   "outputs": [],
   "source": [
    "features = ['DPI',\n",
    " 'DO_pct',\n",
    " 'pH_online',\n",
    " 'pH_offline',\n",
    " 'Nuc_NonVi',\n",
    " 'Nuc_TotCt',\n",
    " 'Nuc_LiveCt',\n",
    " 'Nuc_Viab',\n",
    " 'MPbio_TotCt',\n",
    " 'MPtvo_TotCt',\n",
    " 'Intra_Code',\n",
    " 'Extra_Code',\n",
    " 'ELISA_KZO']"
   ]
  },
  {
   "cell_type": "code",
   "execution_count": 120,
   "metadata": {},
   "outputs": [],
   "source": [
    "X = pearsDF[features].values"
   ]
  },
  {
   "cell_type": "code",
   "execution_count": 121,
   "metadata": {},
   "outputs": [
    {
     "data": {
      "image/png": "[encoded data removed]",
      "text/plain": [
       "<Figure size 1080x504 with 2 Axes>"
      ]
     },
     "metadata": {
      "needs_background": "light"
     },
     "output_type": "display_data"
    },
    {
     "data": {
      "text/plain": [
       "<AxesSubplot:title={'center':'Pearson Ranking of 13 Features'}>"
      ]
     },
     "execution_count": 121,
     "metadata": {},
     "output_type": "execute_result"
    }
   ],
   "source": [
    "# Instantiate the visualizer with the Covariance ranking algorithm\n",
    "visualizer = Rank2D(features=features, algorithm='pearson') # ‘pearson’, ‘covariance’, ‘spearman’, or ‘kendalltau’\n",
    "visualizer.fit(X)  # Fit the data to the visualizer\n",
    "visualizer.transform(X)  # Transform the data\n",
    "# visualizer.poof()  # Draw/show/poof the data\n",
    "visualizer.poof()#outpath='pcoords1.png') # Draw/show/poof the data\n",
    "# plt.show()"
   ]
  },
  {
   "cell_type": "markdown",
   "metadata": {},
   "source": [
    "# REFRESH"
   ]
  },
  {
   "cell_type": "code",
   "execution_count": 122,
   "metadata": {},
   "outputs": [],
   "source": [
    "# Load libraries\n",
    "import pandas as pd\n",
    "import matplotlib.pyplot as plt\n",
    "import numpy as np"
   ]
  },
  {
   "cell_type": "code",
   "execution_count": 123,
   "metadata": {},
   "outputs": [],
   "source": [
    "# Load data to a DataFrame\n",
    "vessel_data = pd.read_excel('Compiled_Lawsonia.xlsx')"
   ]
  },
  {
   "cell_type": "code",
   "execution_count": 124,
   "metadata": {},
   "outputs": [
    {
     "name": "stdout",
     "output_type": "stream",
     "text": [
      "The table is 465 rows x 39 columns.\n"
     ]
    }
   ],
   "source": [
    "# Check the dimensions of the table\n",
    "print(f\"The table is {vessel_data.shape[0]} rows x {vessel_data.shape[1]} columns.\")"
   ]
  },
  {
   "cell_type": "code",
   "execution_count": 125,
   "metadata": {},
   "outputs": [
    {
     "data": {
      "text/html": [
       "<div>\n",
       "<style scoped>\n",
       "    .dataframe tbody tr th:only-of-type {\n",
       "        vertical-align: middle;\n",
       "    }\n",
       "\n",
       "    .dataframe tbody tr th {\n",
       "        vertical-align: top;\n",
       "    }\n",
       "\n",
       "    .dataframe thead th {\n",
       "        text-align: right;\n",
       "    }\n",
       "</style>\n",
       "<table border=\"1\" class=\"dataframe\">\n",
       "  <thead>\n",
       "    <tr style=\"text-align: right;\">\n",
       "      <th></th>\n",
       "      <th>Batch</th>\n",
       "      <th>Vessel</th>\n",
       "      <th>DPI</th>\n",
       "      <th>Date</th>\n",
       "      <th>Time</th>\n",
       "      <th>Temp_C</th>\n",
       "      <th>Agitation</th>\n",
       "      <th>DO_pct</th>\n",
       "      <th>pH_online</th>\n",
       "      <th>pH_offline</th>\n",
       "      <th>...</th>\n",
       "      <th>Micro_Comments</th>\n",
       "      <th>Intra_Code</th>\n",
       "      <th>Extra_Code</th>\n",
       "      <th>ELISA_KZO</th>\n",
       "      <th>ELISA_LNK</th>\n",
       "      <th>Live_Titer</th>\n",
       "      <th>VCD_OD</th>\n",
       "      <th>RNA</th>\n",
       "      <th>gDNA/1mL</th>\n",
       "      <th>Antifoam</th>\n",
       "    </tr>\n",
       "  </thead>\n",
       "  <tbody>\n",
       "    <tr>\n",
       "      <th>0</th>\n",
       "      <td>369697PV</td>\n",
       "      <td>Flasks</td>\n",
       "      <td>3</td>\n",
       "      <td>2019-07-12</td>\n",
       "      <td>NaN</td>\n",
       "      <td>NaN</td>\n",
       "      <td>NaN</td>\n",
       "      <td>NaN</td>\n",
       "      <td>NaN</td>\n",
       "      <td>NaN</td>\n",
       "      <td>...</td>\n",
       "      <td>NaN</td>\n",
       "      <td>NaN</td>\n",
       "      <td>NaN</td>\n",
       "      <td>NaN</td>\n",
       "      <td>NaN</td>\n",
       "      <td>NaN</td>\n",
       "      <td>NaN</td>\n",
       "      <td>NaN</td>\n",
       "      <td>NaN</td>\n",
       "      <td>NaN</td>\n",
       "    </tr>\n",
       "    <tr>\n",
       "      <th>1</th>\n",
       "      <td>369697PV</td>\n",
       "      <td>5L BLU</td>\n",
       "      <td>M</td>\n",
       "      <td>2019-07-12</td>\n",
       "      <td>09:25:00</td>\n",
       "      <td>36.0</td>\n",
       "      <td>40.0</td>\n",
       "      <td>7.37</td>\n",
       "      <td>7.035</td>\n",
       "      <td>6.783</td>\n",
       "      <td>...</td>\n",
       "      <td>NaN</td>\n",
       "      <td>NaN</td>\n",
       "      <td>NaN</td>\n",
       "      <td>NaN</td>\n",
       "      <td>NaN</td>\n",
       "      <td>NaN</td>\n",
       "      <td>NaN</td>\n",
       "      <td>NaN</td>\n",
       "      <td>NaN</td>\n",
       "      <td>NaN</td>\n",
       "    </tr>\n",
       "    <tr>\n",
       "      <th>2</th>\n",
       "      <td>369697PV</td>\n",
       "      <td>5L BLU</td>\n",
       "      <td>0</td>\n",
       "      <td>2019-07-12</td>\n",
       "      <td>10:53:00</td>\n",
       "      <td>35.8</td>\n",
       "      <td>40.0</td>\n",
       "      <td>15.39</td>\n",
       "      <td>6.983</td>\n",
       "      <td>7.118</td>\n",
       "      <td>...</td>\n",
       "      <td>NaN</td>\n",
       "      <td>NaN</td>\n",
       "      <td>NaN</td>\n",
       "      <td>NaN</td>\n",
       "      <td>NaN</td>\n",
       "      <td>NaN</td>\n",
       "      <td>NaN</td>\n",
       "      <td>NaN</td>\n",
       "      <td>NaN</td>\n",
       "      <td>NaN</td>\n",
       "    </tr>\n",
       "    <tr>\n",
       "      <th>3</th>\n",
       "      <td>369697PV</td>\n",
       "      <td>5L BLU</td>\n",
       "      <td>1</td>\n",
       "      <td>2019-07-13</td>\n",
       "      <td>NaN</td>\n",
       "      <td>NaN</td>\n",
       "      <td>NaN</td>\n",
       "      <td>NaN</td>\n",
       "      <td>NaN</td>\n",
       "      <td>NaN</td>\n",
       "      <td>...</td>\n",
       "      <td>NaN</td>\n",
       "      <td>NaN</td>\n",
       "      <td>NaN</td>\n",
       "      <td>NaN</td>\n",
       "      <td>NaN</td>\n",
       "      <td>NaN</td>\n",
       "      <td>NaN</td>\n",
       "      <td>NaN</td>\n",
       "      <td>NaN</td>\n",
       "      <td>NaN</td>\n",
       "    </tr>\n",
       "    <tr>\n",
       "      <th>4</th>\n",
       "      <td>369697PV</td>\n",
       "      <td>5L BLU</td>\n",
       "      <td>2</td>\n",
       "      <td>2019-07-14</td>\n",
       "      <td>NaN</td>\n",
       "      <td>NaN</td>\n",
       "      <td>NaN</td>\n",
       "      <td>NaN</td>\n",
       "      <td>NaN</td>\n",
       "      <td>NaN</td>\n",
       "      <td>...</td>\n",
       "      <td>NaN</td>\n",
       "      <td>NaN</td>\n",
       "      <td>NaN</td>\n",
       "      <td>NaN</td>\n",
       "      <td>NaN</td>\n",
       "      <td>NaN</td>\n",
       "      <td>NaN</td>\n",
       "      <td>NaN</td>\n",
       "      <td>NaN</td>\n",
       "      <td>NaN</td>\n",
       "    </tr>\n",
       "  </tbody>\n",
       "</table>\n",
       "<p>5 rows × 39 columns</p>\n",
       "</div>"
      ],
      "text/plain": [
       "      Batch  Vessel DPI       Date      Time  Temp_C  Agitation  DO_pct  \\\n",
       "0  369697PV  Flasks   3 2019-07-12       NaN     NaN        NaN     NaN   \n",
       "1  369697PV  5L BLU   M 2019-07-12  09:25:00    36.0       40.0    7.37   \n",
       "2  369697PV  5L BLU   0 2019-07-12  10:53:00    35.8       40.0   15.39   \n",
       "3  369697PV  5L BLU   1 2019-07-13       NaN     NaN        NaN     NaN   \n",
       "4  369697PV  5L BLU   2 2019-07-14       NaN     NaN        NaN     NaN   \n",
       "\n",
       "   pH_online  pH_offline  ...  Micro_Comments  Intra_Code  Extra_Code  \\\n",
       "0        NaN         NaN  ...             NaN         NaN         NaN   \n",
       "1      7.035       6.783  ...             NaN         NaN         NaN   \n",
       "2      6.983       7.118  ...             NaN         NaN         NaN   \n",
       "3        NaN         NaN  ...             NaN         NaN         NaN   \n",
       "4        NaN         NaN  ...             NaN         NaN         NaN   \n",
       "\n",
       "   ELISA_KZO  ELISA_LNK  Live_Titer VCD_OD  RNA  gDNA/1mL  Antifoam  \n",
       "0        NaN        NaN         NaN    NaN  NaN       NaN       NaN  \n",
       "1        NaN        NaN         NaN    NaN  NaN       NaN       NaN  \n",
       "2        NaN        NaN         NaN    NaN  NaN       NaN       NaN  \n",
       "3        NaN        NaN         NaN    NaN  NaN       NaN       NaN  \n",
       "4        NaN        NaN         NaN    NaN  NaN       NaN       NaN  \n",
       "\n",
       "[5 rows x 39 columns]"
      ]
     },
     "execution_count": 125,
     "metadata": {},
     "output_type": "execute_result"
    }
   ],
   "source": [
    "# Get an initial look at the data\n",
    "vessel_data.head()"
   ]
  },
  {
   "cell_type": "markdown",
   "metadata": {},
   "source": [
    "There are a lot of NaNs that will need to be dealt with.  \n",
    "DPI is days post inoculation and that column contains several 'M's, which are just the media, prior to inoculation, and can also be removed."
   ]
  },
  {
   "cell_type": "code",
   "execution_count": 126,
   "metadata": {},
   "outputs": [],
   "source": [
    "# Remove rows from 'DPI' column which are 'M'\n",
    "vessel_data = vessel_data[vessel_data.DPI!='M']"
   ]
  },
  {
   "cell_type": "code",
   "execution_count": 127,
   "metadata": {},
   "outputs": [
    {
     "data": {
      "text/plain": [
       "Batch             False\n",
       "Vessel            False\n",
       "DPI                True\n",
       "Date               True\n",
       "Time               True\n",
       "Temp_C             True\n",
       "Agitation          True\n",
       "DO_pct             True\n",
       "pH_online          True\n",
       "pH_offline         True\n",
       "O₂_%sat            True\n",
       "CO₂_%sat           True\n",
       "L_Glut             True\n",
       "Gluc               True\n",
       "Lact               True\n",
       "Ammon              True\n",
       "Nuc_NonVi          True\n",
       "Nuc_TotCt          True\n",
       "Nuc_LiveCt         True\n",
       "Nuc_Viab           True\n",
       "MPbio_Blank        True\n",
       "MPbio_Area         True\n",
       "MPbio_TotCt        True\n",
       "MPtvo_Blank        True\n",
       "MPtvo_Area         True\n",
       "MPtvo_TotCt        True\n",
       "Intra_Ct           True\n",
       "Micro_Intra        True\n",
       "Micro_Extra        True\n",
       "Micro_Comments     True\n",
       "Intra_Code         True\n",
       "Extra_Code         True\n",
       "ELISA_KZO          True\n",
       "ELISA_LNK          True\n",
       "Live_Titer         True\n",
       "VCD_OD             True\n",
       "RNA                True\n",
       "gDNA/1mL           True\n",
       "Antifoam           True\n",
       "dtype: bool"
      ]
     },
     "execution_count": 127,
     "metadata": {},
     "output_type": "execute_result"
    }
   ],
   "source": [
    "# Check each column for NaNs\n",
    "pd.isnull(vessel_data).any()"
   ]
  },
  {
   "cell_type": "markdown",
   "metadata": {},
   "source": [
    "DPI shouldn't have any null values."
   ]
  },
  {
   "cell_type": "code",
   "execution_count": 128,
   "metadata": {},
   "outputs": [],
   "source": [
    "# Remove rows from 'DPI' which are NaN\n",
    "vessel_data = vessel_data[vessel_data['DPI'].notnull()]"
   ]
  },
  {
   "cell_type": "code",
   "execution_count": 129,
   "metadata": {},
   "outputs": [
    {
     "data": {
      "text/plain": [
       "Batch                     object\n",
       "Vessel                    object\n",
       "DPI                       object\n",
       "Date              datetime64[ns]\n",
       "Time                      object\n",
       "Temp_C                   float64\n",
       "Agitation                float64\n",
       "DO_pct                   float64\n",
       "pH_online                float64\n",
       "pH_offline               float64\n",
       "O₂_%sat                  float64\n",
       "CO₂_%sat                 float64\n",
       "L_Glut                   float64\n",
       "Gluc                     float64\n",
       "Lact                     float64\n",
       "Ammon                    float64\n",
       "Nuc_NonVi                 object\n",
       "Nuc_TotCt                float64\n",
       "Nuc_LiveCt               float64\n",
       "Nuc_Viab                 float64\n",
       "MPbio_Blank              float64\n",
       "MPbio_Area               float64\n",
       "MPbio_TotCt              float64\n",
       "MPtvo_Blank              float64\n",
       "MPtvo_Area               float64\n",
       "MPtvo_TotCt              float64\n",
       "Intra_Ct                 float64\n",
       "Micro_Intra               object\n",
       "Micro_Extra               object\n",
       "Micro_Comments            object\n",
       "Intra_Code               float64\n",
       "Extra_Code               float64\n",
       "ELISA_KZO                float64\n",
       "ELISA_LNK                float64\n",
       "Live_Titer               float64\n",
       "VCD_OD                   float64\n",
       "RNA                      float64\n",
       "gDNA/1mL                 float64\n",
       "Antifoam                 float64\n",
       "dtype: object"
      ]
     },
     "execution_count": 129,
     "metadata": {},
     "output_type": "execute_result"
    }
   ],
   "source": [
    "# Check the types of data\n",
    "vessel_data.dtypes"
   ]
  },
  {
   "cell_type": "markdown",
   "metadata": {},
   "source": [
    "Now that we romoved 'M' from the 'DPI' column the variable should be numeric, so we'll convert to integers."
   ]
  },
  {
   "cell_type": "code",
   "execution_count": 130,
   "metadata": {},
   "outputs": [],
   "source": [
    "# Convert 'DPI' column to numeric\n",
    "vessel_data['DPI'] = vessel_data['DPI'].astype(int)"
   ]
  },
  {
   "cell_type": "markdown",
   "metadata": {},
   "source": [
    "The 'Nuc_NonVi' should be numeric and I know what the issue is: there is a lower limit of detection of 5000 on that piece of equipment and if the value falls below that, we record as '<5k'. I will replace all of these with 2500 (half the lower limit)."
   ]
  },
  {
   "cell_type": "code",
   "execution_count": 131,
   "metadata": {},
   "outputs": [],
   "source": [
    "# Replace '<5k' in 'Nuc_NonVi' column with 1/2 lower limit\n",
    "vessel_data.Nuc_NonVi = vessel_data.Nuc_NonVi.replace('<5k', 5000/2)"
   ]
  },
  {
   "cell_type": "markdown",
   "metadata": {},
   "source": [
    "The 'Micro_Intra' and 'Micro_Extra' are ordered categorical descriptions used when looking at the organism under the microscope. These are standardized, so I will create new columns 'Extra_Coded' and 'Intra_Coded' to code them into numeric values."
   ]
  },
  {
   "cell_type": "code",
   "execution_count": 132,
   "metadata": {},
   "outputs": [
    {
     "name": "stdout",
     "output_type": "stream",
     "text": [
      "[nan 'Light, 1+' 'Some, 2+' 'Heavy, 3+' 'Very Light, <1+' 'Very Heavy, 4+']\n",
      "[nan 'Some, 2+' 'Heavy, 3+' 'Very Heavy, 4+' 'Light, 1+' 'Very Light, <1+'\n",
      " 'Heavy, 3+ ']\n"
     ]
    }
   ],
   "source": [
    "# Check the standard descriptions for microscopy\n",
    "print(vessel_data.Micro_Intra.unique())\n",
    "print(vessel_data.Micro_Extra.unique())"
   ]
  },
  {
   "cell_type": "markdown",
   "metadata": {},
   "source": [
    "'Micro_Extra' appears to have an extra space in at least one of the fields, which will need to be stripped first."
   ]
  },
  {
   "cell_type": "code",
   "execution_count": 133,
   "metadata": {},
   "outputs": [],
   "source": [
    "# Strip whitespace from 'Micro_Extra' column\n",
    "vessel_data['Micro_Extra'] = vessel_data.Micro_Extra.str.strip()"
   ]
  },
  {
   "cell_type": "code",
   "execution_count": 134,
   "metadata": {},
   "outputs": [],
   "source": [
    "# Map values to new columns based on descriptions\n",
    "dict = {'Very Light, <1+': 1, 'Light, 1+': 2, 'Some, 2+': 3, 'Heavy, 3+': 4, 'Very Heavy, 4+': 5}\n",
    "vessel_data['Intra_Code'] = vessel_data['Micro_Intra'].map(dict)\n",
    "vessel_data['Extra_Code'] = vessel_data['Micro_Extra'].map(dict)"
   ]
  },
  {
   "cell_type": "markdown",
   "metadata": {},
   "source": [
    "The 'VCD_OD' column has data for a probe that I used on two runs, but was not working correctly for one of the runs and provided inaccurate data, which will need to be removed."
   ]
  },
  {
   "cell_type": "code",
   "execution_count": 135,
   "metadata": {},
   "outputs": [],
   "source": [
    "# Remove inaccurate data\n",
    "vessel_data.loc[(vessel_data.Batch == '471341PV'), 'VCD_OD'] = np.nan"
   ]
  },
  {
   "cell_type": "markdown",
   "metadata": {},
   "source": [
    "Many of the NaN values in the data set are days with no sampling and those can be removed completely. "
   ]
  },
  {
   "cell_type": "code",
   "execution_count": 136,
   "metadata": {},
   "outputs": [
    {
     "name": "stdout",
     "output_type": "stream",
     "text": [
      "422 rows before removing non-sampling days.\n"
     ]
    }
   ],
   "source": [
    "print(f\"{vessel_data.shape[0]} rows before removing non-sampling days.\")"
   ]
  },
  {
   "cell_type": "code",
   "execution_count": 137,
   "metadata": {},
   "outputs": [],
   "source": [
    "# Remove rows that contain no data beyond the batch/vessel identifiers and day/date/time info\n",
    "colList = vessel_data.columns[5:]\n",
    "vessel_data.dropna(axis=0, subset=colList, how=\"all\", inplace=True)"
   ]
  },
  {
   "cell_type": "code",
   "execution_count": 138,
   "metadata": {},
   "outputs": [
    {
     "name": "stdout",
     "output_type": "stream",
     "text": [
      "352 rows after removing non-sampling days.\n"
     ]
    }
   ],
   "source": [
    "print(f\"{vessel_data.shape[0]} rows after removing non-sampling days.\")"
   ]
  },
  {
   "cell_type": "markdown",
   "metadata": {},
   "source": [
    "### Take another look at the data"
   ]
  },
  {
   "cell_type": "code",
   "execution_count": 139,
   "metadata": {},
   "outputs": [
    {
     "data": {
      "text/html": [
       "<div>\n",
       "<style scoped>\n",
       "    .dataframe tbody tr th:only-of-type {\n",
       "        vertical-align: middle;\n",
       "    }\n",
       "\n",
       "    .dataframe tbody tr th {\n",
       "        vertical-align: top;\n",
       "    }\n",
       "\n",
       "    .dataframe thead th {\n",
       "        text-align: right;\n",
       "    }\n",
       "</style>\n",
       "<table border=\"1\" class=\"dataframe\">\n",
       "  <thead>\n",
       "    <tr style=\"text-align: right;\">\n",
       "      <th></th>\n",
       "      <th>Batch</th>\n",
       "      <th>Vessel</th>\n",
       "      <th>DPI</th>\n",
       "      <th>Date</th>\n",
       "      <th>Time</th>\n",
       "      <th>Temp_C</th>\n",
       "      <th>Agitation</th>\n",
       "      <th>DO_pct</th>\n",
       "      <th>pH_online</th>\n",
       "      <th>pH_offline</th>\n",
       "      <th>...</th>\n",
       "      <th>Micro_Comments</th>\n",
       "      <th>Intra_Code</th>\n",
       "      <th>Extra_Code</th>\n",
       "      <th>ELISA_KZO</th>\n",
       "      <th>ELISA_LNK</th>\n",
       "      <th>Live_Titer</th>\n",
       "      <th>VCD_OD</th>\n",
       "      <th>RNA</th>\n",
       "      <th>gDNA/1mL</th>\n",
       "      <th>Antifoam</th>\n",
       "    </tr>\n",
       "  </thead>\n",
       "  <tbody>\n",
       "    <tr>\n",
       "      <th>0</th>\n",
       "      <td>369697PV</td>\n",
       "      <td>Flasks</td>\n",
       "      <td>3</td>\n",
       "      <td>2019-07-12</td>\n",
       "      <td>NaN</td>\n",
       "      <td>NaN</td>\n",
       "      <td>NaN</td>\n",
       "      <td>NaN</td>\n",
       "      <td>NaN</td>\n",
       "      <td>NaN</td>\n",
       "      <td>...</td>\n",
       "      <td>NaN</td>\n",
       "      <td>NaN</td>\n",
       "      <td>NaN</td>\n",
       "      <td>NaN</td>\n",
       "      <td>NaN</td>\n",
       "      <td>NaN</td>\n",
       "      <td>NaN</td>\n",
       "      <td>NaN</td>\n",
       "      <td>NaN</td>\n",
       "      <td>NaN</td>\n",
       "    </tr>\n",
       "    <tr>\n",
       "      <th>2</th>\n",
       "      <td>369697PV</td>\n",
       "      <td>5L BLU</td>\n",
       "      <td>0</td>\n",
       "      <td>2019-07-12</td>\n",
       "      <td>10:53:00</td>\n",
       "      <td>35.8</td>\n",
       "      <td>40.0</td>\n",
       "      <td>15.39</td>\n",
       "      <td>6.983</td>\n",
       "      <td>7.118</td>\n",
       "      <td>...</td>\n",
       "      <td>NaN</td>\n",
       "      <td>NaN</td>\n",
       "      <td>NaN</td>\n",
       "      <td>NaN</td>\n",
       "      <td>NaN</td>\n",
       "      <td>NaN</td>\n",
       "      <td>NaN</td>\n",
       "      <td>NaN</td>\n",
       "      <td>NaN</td>\n",
       "      <td>NaN</td>\n",
       "    </tr>\n",
       "    <tr>\n",
       "      <th>6</th>\n",
       "      <td>369697PV</td>\n",
       "      <td>5L BLU</td>\n",
       "      <td>4</td>\n",
       "      <td>2019-07-16</td>\n",
       "      <td>08:47:00</td>\n",
       "      <td>36.0</td>\n",
       "      <td>40.0</td>\n",
       "      <td>6.14</td>\n",
       "      <td>7.038</td>\n",
       "      <td>6.978</td>\n",
       "      <td>...</td>\n",
       "      <td>NaN</td>\n",
       "      <td>NaN</td>\n",
       "      <td>NaN</td>\n",
       "      <td>NaN</td>\n",
       "      <td>NaN</td>\n",
       "      <td>NaN</td>\n",
       "      <td>NaN</td>\n",
       "      <td>NaN</td>\n",
       "      <td>NaN</td>\n",
       "      <td>NaN</td>\n",
       "    </tr>\n",
       "    <tr>\n",
       "      <th>9</th>\n",
       "      <td>369697PV</td>\n",
       "      <td>5L BLU</td>\n",
       "      <td>7</td>\n",
       "      <td>2019-07-19</td>\n",
       "      <td>08:35:00</td>\n",
       "      <td>36.0</td>\n",
       "      <td>40.0</td>\n",
       "      <td>5.77</td>\n",
       "      <td>7.028</td>\n",
       "      <td>6.947</td>\n",
       "      <td>...</td>\n",
       "      <td>NaN</td>\n",
       "      <td>NaN</td>\n",
       "      <td>NaN</td>\n",
       "      <td>NaN</td>\n",
       "      <td>NaN</td>\n",
       "      <td>NaN</td>\n",
       "      <td>NaN</td>\n",
       "      <td>NaN</td>\n",
       "      <td>NaN</td>\n",
       "      <td>NaN</td>\n",
       "    </tr>\n",
       "    <tr>\n",
       "      <th>11</th>\n",
       "      <td>369697PV</td>\n",
       "      <td>50L BLU</td>\n",
       "      <td>0</td>\n",
       "      <td>2019-07-19</td>\n",
       "      <td>09:00:00</td>\n",
       "      <td>36.0</td>\n",
       "      <td>42.0</td>\n",
       "      <td>6.26</td>\n",
       "      <td>7.034</td>\n",
       "      <td>7.003</td>\n",
       "      <td>...</td>\n",
       "      <td>None</td>\n",
       "      <td>2.0</td>\n",
       "      <td>3.0</td>\n",
       "      <td>NaN</td>\n",
       "      <td>NaN</td>\n",
       "      <td>NaN</td>\n",
       "      <td>NaN</td>\n",
       "      <td>NaN</td>\n",
       "      <td>NaN</td>\n",
       "      <td>NaN</td>\n",
       "    </tr>\n",
       "  </tbody>\n",
       "</table>\n",
       "<p>5 rows × 39 columns</p>\n",
       "</div>"
      ],
      "text/plain": [
       "       Batch   Vessel  DPI       Date      Time  Temp_C  Agitation  DO_pct  \\\n",
       "0   369697PV   Flasks    3 2019-07-12       NaN     NaN        NaN     NaN   \n",
       "2   369697PV   5L BLU    0 2019-07-12  10:53:00    35.8       40.0   15.39   \n",
       "6   369697PV   5L BLU    4 2019-07-16  08:47:00    36.0       40.0    6.14   \n",
       "9   369697PV   5L BLU    7 2019-07-19  08:35:00    36.0       40.0    5.77   \n",
       "11  369697PV  50L BLU    0 2019-07-19  09:00:00    36.0       42.0    6.26   \n",
       "\n",
       "    pH_online  pH_offline  ...  Micro_Comments  Intra_Code  Extra_Code  \\\n",
       "0         NaN         NaN  ...             NaN         NaN         NaN   \n",
       "2       6.983       7.118  ...             NaN         NaN         NaN   \n",
       "6       7.038       6.978  ...             NaN         NaN         NaN   \n",
       "9       7.028       6.947  ...             NaN         NaN         NaN   \n",
       "11      7.034       7.003  ...            None         2.0         3.0   \n",
       "\n",
       "    ELISA_KZO  ELISA_LNK  Live_Titer  VCD_OD  RNA  gDNA/1mL  Antifoam  \n",
       "0         NaN        NaN         NaN     NaN  NaN       NaN       NaN  \n",
       "2         NaN        NaN         NaN     NaN  NaN       NaN       NaN  \n",
       "6         NaN        NaN         NaN     NaN  NaN       NaN       NaN  \n",
       "9         NaN        NaN         NaN     NaN  NaN       NaN       NaN  \n",
       "11        NaN        NaN         NaN     NaN  NaN       NaN       NaN  \n",
       "\n",
       "[5 rows x 39 columns]"
      ]
     },
     "execution_count": 139,
     "metadata": {},
     "output_type": "execute_result"
    }
   ],
   "source": [
    "vessel_data.head()"
   ]
  },
  {
   "cell_type": "code",
   "execution_count": 140,
   "metadata": {},
   "outputs": [
    {
     "name": "stdout",
     "output_type": "stream",
     "text": [
      "Describe Data:\n"
     ]
    }
   ],
   "source": [
    "print(\"Describe Data:\")"
   ]
  },
  {
   "cell_type": "code",
   "execution_count": 141,
   "metadata": {},
   "outputs": [
    {
     "name": "stdout",
     "output_type": "stream",
     "text": [
      "\tColumns 1-11:\n"
     ]
    },
    {
     "data": {
      "text/html": [
       "<div>\n",
       "<style scoped>\n",
       "    .dataframe tbody tr th:only-of-type {\n",
       "        vertical-align: middle;\n",
       "    }\n",
       "\n",
       "    .dataframe tbody tr th {\n",
       "        vertical-align: top;\n",
       "    }\n",
       "\n",
       "    .dataframe thead th {\n",
       "        text-align: right;\n",
       "    }\n",
       "</style>\n",
       "<table border=\"1\" class=\"dataframe\">\n",
       "  <thead>\n",
       "    <tr style=\"text-align: right;\">\n",
       "      <th></th>\n",
       "      <th>DPI</th>\n",
       "      <th>Temp_C</th>\n",
       "      <th>Agitation</th>\n",
       "      <th>DO_pct</th>\n",
       "      <th>pH_online</th>\n",
       "      <th>pH_offline</th>\n",
       "      <th>O₂_%sat</th>\n",
       "      <th>CO₂_%sat</th>\n",
       "      <th>L_Glut</th>\n",
       "      <th>Gluc</th>\n",
       "      <th>Lact</th>\n",
       "    </tr>\n",
       "  </thead>\n",
       "  <tbody>\n",
       "    <tr>\n",
       "      <th>count</th>\n",
       "      <td>352.000000</td>\n",
       "      <td>339.000000</td>\n",
       "      <td>339.000000</td>\n",
       "      <td>339.000000</td>\n",
       "      <td>339.000000</td>\n",
       "      <td>262.000000</td>\n",
       "      <td>241.000000</td>\n",
       "      <td>246.000000</td>\n",
       "      <td>195.000000</td>\n",
       "      <td>249.000000</td>\n",
       "      <td>216.000000</td>\n",
       "    </tr>\n",
       "    <tr>\n",
       "      <th>mean</th>\n",
       "      <td>5.315341</td>\n",
       "      <td>35.986667</td>\n",
       "      <td>49.731711</td>\n",
       "      <td>6.416254</td>\n",
       "      <td>7.046743</td>\n",
       "      <td>7.052683</td>\n",
       "      <td>1.327440</td>\n",
       "      <td>0.082272</td>\n",
       "      <td>0.877846</td>\n",
       "      <td>3.892048</td>\n",
       "      <td>0.256074</td>\n",
       "    </tr>\n",
       "    <tr>\n",
       "      <th>std</th>\n",
       "      <td>3.858611</td>\n",
       "      <td>0.110077</td>\n",
       "      <td>10.182909</td>\n",
       "      <td>3.231918</td>\n",
       "      <td>0.042150</td>\n",
       "      <td>0.094749</td>\n",
       "      <td>9.046905</td>\n",
       "      <td>0.127859</td>\n",
       "      <td>0.846720</td>\n",
       "      <td>0.696477</td>\n",
       "      <td>0.278071</td>\n",
       "    </tr>\n",
       "    <tr>\n",
       "      <th>min</th>\n",
       "      <td>0.000000</td>\n",
       "      <td>34.780000</td>\n",
       "      <td>40.000000</td>\n",
       "      <td>0.160000</td>\n",
       "      <td>6.610000</td>\n",
       "      <td>6.658000</td>\n",
       "      <td>0.034000</td>\n",
       "      <td>0.008000</td>\n",
       "      <td>0.000000</td>\n",
       "      <td>1.080000</td>\n",
       "      <td>0.000000</td>\n",
       "    </tr>\n",
       "    <tr>\n",
       "      <th>25%</th>\n",
       "      <td>2.000000</td>\n",
       "      <td>36.000000</td>\n",
       "      <td>42.000000</td>\n",
       "      <td>5.590000</td>\n",
       "      <td>7.050000</td>\n",
       "      <td>7.006000</td>\n",
       "      <td>0.377000</td>\n",
       "      <td>0.055000</td>\n",
       "      <td>0.050000</td>\n",
       "      <td>3.600000</td>\n",
       "      <td>0.090000</td>\n",
       "    </tr>\n",
       "    <tr>\n",
       "      <th>50%</th>\n",
       "      <td>5.000000</td>\n",
       "      <td>36.000000</td>\n",
       "      <td>48.900000</td>\n",
       "      <td>5.980000</td>\n",
       "      <td>7.050000</td>\n",
       "      <td>7.050500</td>\n",
       "      <td>0.475000</td>\n",
       "      <td>0.073000</td>\n",
       "      <td>0.660000</td>\n",
       "      <td>4.120000</td>\n",
       "      <td>0.185979</td>\n",
       "    </tr>\n",
       "    <tr>\n",
       "      <th>75%</th>\n",
       "      <td>8.000000</td>\n",
       "      <td>36.000000</td>\n",
       "      <td>49.200000</td>\n",
       "      <td>6.300000</td>\n",
       "      <td>7.060000</td>\n",
       "      <td>7.091000</td>\n",
       "      <td>0.614000</td>\n",
       "      <td>0.089000</td>\n",
       "      <td>1.515000</td>\n",
       "      <td>4.390000</td>\n",
       "      <td>0.310000</td>\n",
       "    </tr>\n",
       "    <tr>\n",
       "      <th>max</th>\n",
       "      <td>15.000000</td>\n",
       "      <td>36.400000</td>\n",
       "      <td>67.300000</td>\n",
       "      <td>41.740000</td>\n",
       "      <td>7.140000</td>\n",
       "      <td>7.525000</td>\n",
       "      <td>100.000000</td>\n",
       "      <td>1.900000</td>\n",
       "      <td>3.270000</td>\n",
       "      <td>4.900000</td>\n",
       "      <td>1.760000</td>\n",
       "    </tr>\n",
       "  </tbody>\n",
       "</table>\n",
       "</div>"
      ],
      "text/plain": [
       "              DPI      Temp_C   Agitation      DO_pct   pH_online  pH_offline  \\\n",
       "count  352.000000  339.000000  339.000000  339.000000  339.000000  262.000000   \n",
       "mean     5.315341   35.986667   49.731711    6.416254    7.046743    7.052683   \n",
       "std      3.858611    0.110077   10.182909    3.231918    0.042150    0.094749   \n",
       "min      0.000000   34.780000   40.000000    0.160000    6.610000    6.658000   \n",
       "25%      2.000000   36.000000   42.000000    5.590000    7.050000    7.006000   \n",
       "50%      5.000000   36.000000   48.900000    5.980000    7.050000    7.050500   \n",
       "75%      8.000000   36.000000   49.200000    6.300000    7.060000    7.091000   \n",
       "max     15.000000   36.400000   67.300000   41.740000    7.140000    7.525000   \n",
       "\n",
       "          O₂_%sat    CO₂_%sat      L_Glut        Gluc        Lact  \n",
       "count  241.000000  246.000000  195.000000  249.000000  216.000000  \n",
       "mean     1.327440    0.082272    0.877846    3.892048    0.256074  \n",
       "std      9.046905    0.127859    0.846720    0.696477    0.278071  \n",
       "min      0.034000    0.008000    0.000000    1.080000    0.000000  \n",
       "25%      0.377000    0.055000    0.050000    3.600000    0.090000  \n",
       "50%      0.475000    0.073000    0.660000    4.120000    0.185979  \n",
       "75%      0.614000    0.089000    1.515000    4.390000    0.310000  \n",
       "max    100.000000    1.900000    3.270000    4.900000    1.760000  "
      ]
     },
     "execution_count": 141,
     "metadata": {},
     "output_type": "execute_result"
    }
   ],
   "source": [
    "print(\"\\tColumns 1-11:\")\n",
    "vessel_data.describe().iloc[:,:11]"
   ]
  },
  {
   "cell_type": "code",
   "execution_count": 142,
   "metadata": {},
   "outputs": [
    {
     "name": "stdout",
     "output_type": "stream",
     "text": [
      "\tColumns 12-22:\n"
     ]
    },
    {
     "data": {
      "text/html": [
       "<div>\n",
       "<style scoped>\n",
       "    .dataframe tbody tr th:only-of-type {\n",
       "        vertical-align: middle;\n",
       "    }\n",
       "\n",
       "    .dataframe tbody tr th {\n",
       "        vertical-align: top;\n",
       "    }\n",
       "\n",
       "    .dataframe thead th {\n",
       "        text-align: right;\n",
       "    }\n",
       "</style>\n",
       "<table border=\"1\" class=\"dataframe\">\n",
       "  <thead>\n",
       "    <tr style=\"text-align: right;\">\n",
       "      <th></th>\n",
       "      <th>Ammon</th>\n",
       "      <th>Nuc_NonVi</th>\n",
       "      <th>Nuc_TotCt</th>\n",
       "      <th>Nuc_LiveCt</th>\n",
       "      <th>Nuc_Viab</th>\n",
       "      <th>MPbio_Blank</th>\n",
       "      <th>MPbio_Area</th>\n",
       "      <th>MPbio_TotCt</th>\n",
       "      <th>MPtvo_Blank</th>\n",
       "      <th>MPtvo_Area</th>\n",
       "      <th>MPtvo_TotCt</th>\n",
       "    </tr>\n",
       "  </thead>\n",
       "  <tbody>\n",
       "    <tr>\n",
       "      <th>count</th>\n",
       "      <td>226.000000</td>\n",
       "      <td>269.000000</td>\n",
       "      <td>2.690000e+02</td>\n",
       "      <td>2.690000e+02</td>\n",
       "      <td>269.000000</td>\n",
       "      <td>240.000000</td>\n",
       "      <td>2.400000e+02</td>\n",
       "      <td>2.410000e+02</td>\n",
       "      <td>240.000000</td>\n",
       "      <td>240.000000</td>\n",
       "      <td>2.410000e+02</td>\n",
       "    </tr>\n",
       "    <tr>\n",
       "      <th>mean</th>\n",
       "      <td>1.924248</td>\n",
       "      <td>29711.895911</td>\n",
       "      <td>5.642305e+05</td>\n",
       "      <td>5.335465e+05</td>\n",
       "      <td>0.946986</td>\n",
       "      <td>1105.387500</td>\n",
       "      <td>4.740820e+05</td>\n",
       "      <td>1.207705e+08</td>\n",
       "      <td>289.845833</td>\n",
       "      <td>153250.683333</td>\n",
       "      <td>7.745817e+07</td>\n",
       "    </tr>\n",
       "    <tr>\n",
       "      <th>std</th>\n",
       "      <td>1.160151</td>\n",
       "      <td>42916.459196</td>\n",
       "      <td>4.361427e+05</td>\n",
       "      <td>4.072878e+05</td>\n",
       "      <td>0.050340</td>\n",
       "      <td>1404.196599</td>\n",
       "      <td>3.759511e+05</td>\n",
       "      <td>9.880619e+07</td>\n",
       "      <td>1363.298865</td>\n",
       "      <td>154588.907064</td>\n",
       "      <td>6.032180e+08</td>\n",
       "    </tr>\n",
       "    <tr>\n",
       "      <th>min</th>\n",
       "      <td>0.280000</td>\n",
       "      <td>2500.000000</td>\n",
       "      <td>1.500000e+04</td>\n",
       "      <td>1.000000e+04</td>\n",
       "      <td>0.561905</td>\n",
       "      <td>21.000000</td>\n",
       "      <td>2.790000e+03</td>\n",
       "      <td>6.690000e+05</td>\n",
       "      <td>0.000000</td>\n",
       "      <td>917.000000</td>\n",
       "      <td>2.190000e+05</td>\n",
       "    </tr>\n",
       "    <tr>\n",
       "      <th>25%</th>\n",
       "      <td>0.962500</td>\n",
       "      <td>2500.000000</td>\n",
       "      <td>1.890000e+05</td>\n",
       "      <td>1.840000e+05</td>\n",
       "      <td>0.928244</td>\n",
       "      <td>348.500000</td>\n",
       "      <td>1.376765e+05</td>\n",
       "      <td>3.430000e+07</td>\n",
       "      <td>11.000000</td>\n",
       "      <td>39264.000000</td>\n",
       "      <td>9.741250e+06</td>\n",
       "    </tr>\n",
       "    <tr>\n",
       "      <th>50%</th>\n",
       "      <td>1.800000</td>\n",
       "      <td>8000.000000</td>\n",
       "      <td>4.230000e+05</td>\n",
       "      <td>4.130000e+05</td>\n",
       "      <td>0.962121</td>\n",
       "      <td>568.000000</td>\n",
       "      <td>4.228810e+05</td>\n",
       "      <td>1.054670e+08</td>\n",
       "      <td>32.000000</td>\n",
       "      <td>113248.000000</td>\n",
       "      <td>2.940000e+07</td>\n",
       "    </tr>\n",
       "    <tr>\n",
       "      <th>75%</th>\n",
       "      <td>2.850000</td>\n",
       "      <td>42000.000000</td>\n",
       "      <td>8.550000e+05</td>\n",
       "      <td>8.230000e+05</td>\n",
       "      <td>0.980769</td>\n",
       "      <td>1111.000000</td>\n",
       "      <td>7.553715e+05</td>\n",
       "      <td>2.018952e+08</td>\n",
       "      <td>53.000000</td>\n",
       "      <td>200863.750000</td>\n",
       "      <td>5.370000e+07</td>\n",
       "    </tr>\n",
       "    <tr>\n",
       "      <th>max</th>\n",
       "      <td>5.930000</td>\n",
       "      <td>212000.000000</td>\n",
       "      <td>1.880000e+06</td>\n",
       "      <td>1.835000e+06</td>\n",
       "      <td>0.994111</td>\n",
       "      <td>7275.000000</td>\n",
       "      <td>1.400818e+06</td>\n",
       "      <td>3.940000e+08</td>\n",
       "      <td>16757.000000</td>\n",
       "      <td>716160.000000</td>\n",
       "      <td>9.384000e+09</td>\n",
       "    </tr>\n",
       "  </tbody>\n",
       "</table>\n",
       "</div>"
      ],
      "text/plain": [
       "            Ammon      Nuc_NonVi     Nuc_TotCt    Nuc_LiveCt    Nuc_Viab  \\\n",
       "count  226.000000     269.000000  2.690000e+02  2.690000e+02  269.000000   \n",
       "mean     1.924248   29711.895911  5.642305e+05  5.335465e+05    0.946986   \n",
       "std      1.160151   42916.459196  4.361427e+05  4.072878e+05    0.050340   \n",
       "min      0.280000    2500.000000  1.500000e+04  1.000000e+04    0.561905   \n",
       "25%      0.962500    2500.000000  1.890000e+05  1.840000e+05    0.928244   \n",
       "50%      1.800000    8000.000000  4.230000e+05  4.130000e+05    0.962121   \n",
       "75%      2.850000   42000.000000  8.550000e+05  8.230000e+05    0.980769   \n",
       "max      5.930000  212000.000000  1.880000e+06  1.835000e+06    0.994111   \n",
       "\n",
       "       MPbio_Blank    MPbio_Area   MPbio_TotCt   MPtvo_Blank     MPtvo_Area  \\\n",
       "count   240.000000  2.400000e+02  2.410000e+02    240.000000     240.000000   \n",
       "mean   1105.387500  4.740820e+05  1.207705e+08    289.845833  153250.683333   \n",
       "std    1404.196599  3.759511e+05  9.880619e+07   1363.298865  154588.907064   \n",
       "min      21.000000  2.790000e+03  6.690000e+05      0.000000     917.000000   \n",
       "25%     348.500000  1.376765e+05  3.430000e+07     11.000000   39264.000000   \n",
       "50%     568.000000  4.228810e+05  1.054670e+08     32.000000  113248.000000   \n",
       "75%    1111.000000  7.553715e+05  2.018952e+08     53.000000  200863.750000   \n",
       "max    7275.000000  1.400818e+06  3.940000e+08  16757.000000  716160.000000   \n",
       "\n",
       "        MPtvo_TotCt  \n",
       "count  2.410000e+02  \n",
       "mean   7.745817e+07  \n",
       "std    6.032180e+08  \n",
       "min    2.190000e+05  \n",
       "25%    9.741250e+06  \n",
       "50%    2.940000e+07  \n",
       "75%    5.370000e+07  \n",
       "max    9.384000e+09  "
      ]
     },
     "execution_count": 142,
     "metadata": {},
     "output_type": "execute_result"
    }
   ],
   "source": [
    "print(\"\\tColumns 12-22:\")\n",
    "vessel_data.describe().iloc[:,11:22]"
   ]
  },
  {
   "cell_type": "code",
   "execution_count": 143,
   "metadata": {},
   "outputs": [
    {
     "name": "stdout",
     "output_type": "stream",
     "text": [
      "\tColumns 23-32:\n"
     ]
    },
    {
     "data": {
      "text/html": [
       "<div>\n",
       "<style scoped>\n",
       "    .dataframe tbody tr th:only-of-type {\n",
       "        vertical-align: middle;\n",
       "    }\n",
       "\n",
       "    .dataframe tbody tr th {\n",
       "        vertical-align: top;\n",
       "    }\n",
       "\n",
       "    .dataframe thead th {\n",
       "        text-align: right;\n",
       "    }\n",
       "</style>\n",
       "<table border=\"1\" class=\"dataframe\">\n",
       "  <thead>\n",
       "    <tr style=\"text-align: right;\">\n",
       "      <th></th>\n",
       "      <th>Intra_Ct</th>\n",
       "      <th>Intra_Code</th>\n",
       "      <th>Extra_Code</th>\n",
       "      <th>ELISA_KZO</th>\n",
       "      <th>ELISA_LNK</th>\n",
       "      <th>Live_Titer</th>\n",
       "      <th>VCD_OD</th>\n",
       "      <th>RNA</th>\n",
       "      <th>gDNA/1mL</th>\n",
       "      <th>Antifoam</th>\n",
       "    </tr>\n",
       "  </thead>\n",
       "  <tbody>\n",
       "    <tr>\n",
       "      <th>count</th>\n",
       "      <td>76.000000</td>\n",
       "      <td>247.000000</td>\n",
       "      <td>247.000000</td>\n",
       "      <td>82.000000</td>\n",
       "      <td>21.000000</td>\n",
       "      <td>5.000000</td>\n",
       "      <td>11.000000</td>\n",
       "      <td>47.000000</td>\n",
       "      <td>5.600000e+01</td>\n",
       "      <td>7.0</td>\n",
       "    </tr>\n",
       "    <tr>\n",
       "      <th>mean</th>\n",
       "      <td>15.894737</td>\n",
       "      <td>2.655870</td>\n",
       "      <td>3.890688</td>\n",
       "      <td>9263.341463</td>\n",
       "      <td>6926.571429</td>\n",
       "      <td>4.530000</td>\n",
       "      <td>1.521818</td>\n",
       "      <td>15827.859284</td>\n",
       "      <td>1.960579e+08</td>\n",
       "      <td>1.0</td>\n",
       "    </tr>\n",
       "    <tr>\n",
       "      <th>std</th>\n",
       "      <td>23.289242</td>\n",
       "      <td>1.054894</td>\n",
       "      <td>1.179170</td>\n",
       "      <td>3295.625088</td>\n",
       "      <td>2853.117638</td>\n",
       "      <td>0.710282</td>\n",
       "      <td>0.925406</td>\n",
       "      <td>22378.752738</td>\n",
       "      <td>1.507412e+08</td>\n",
       "      <td>0.0</td>\n",
       "    </tr>\n",
       "    <tr>\n",
       "      <th>min</th>\n",
       "      <td>0.000000</td>\n",
       "      <td>1.000000</td>\n",
       "      <td>1.000000</td>\n",
       "      <td>1630.000000</td>\n",
       "      <td>3156.000000</td>\n",
       "      <td>3.500000</td>\n",
       "      <td>0.050000</td>\n",
       "      <td>170.000000</td>\n",
       "      <td>2.545546e+06</td>\n",
       "      <td>1.0</td>\n",
       "    </tr>\n",
       "    <tr>\n",
       "      <th>25%</th>\n",
       "      <td>2.750000</td>\n",
       "      <td>2.000000</td>\n",
       "      <td>3.000000</td>\n",
       "      <td>6617.250000</td>\n",
       "      <td>4889.000000</td>\n",
       "      <td>4.500000</td>\n",
       "      <td>0.765000</td>\n",
       "      <td>1478.957764</td>\n",
       "      <td>7.661384e+07</td>\n",
       "      <td>1.0</td>\n",
       "    </tr>\n",
       "    <tr>\n",
       "      <th>50%</th>\n",
       "      <td>7.500000</td>\n",
       "      <td>3.000000</td>\n",
       "      <td>4.000000</td>\n",
       "      <td>9670.250000</td>\n",
       "      <td>5549.000000</td>\n",
       "      <td>4.500000</td>\n",
       "      <td>1.560000</td>\n",
       "      <td>7378.627930</td>\n",
       "      <td>1.359994e+08</td>\n",
       "      <td>1.0</td>\n",
       "    </tr>\n",
       "    <tr>\n",
       "      <th>75%</th>\n",
       "      <td>20.000000</td>\n",
       "      <td>3.000000</td>\n",
       "      <td>5.000000</td>\n",
       "      <td>11124.500000</td>\n",
       "      <td>9758.000000</td>\n",
       "      <td>4.650000</td>\n",
       "      <td>2.355000</td>\n",
       "      <td>23748.478516</td>\n",
       "      <td>2.879057e+08</td>\n",
       "      <td>1.0</td>\n",
       "    </tr>\n",
       "    <tr>\n",
       "      <th>max</th>\n",
       "      <td>127.000000</td>\n",
       "      <td>5.000000</td>\n",
       "      <td>5.000000</td>\n",
       "      <td>17020.000000</td>\n",
       "      <td>11965.000000</td>\n",
       "      <td>5.500000</td>\n",
       "      <td>2.580000</td>\n",
       "      <td>103762.656250</td>\n",
       "      <td>6.374318e+08</td>\n",
       "      <td>1.0</td>\n",
       "    </tr>\n",
       "  </tbody>\n",
       "</table>\n",
       "</div>"
      ],
      "text/plain": [
       "         Intra_Ct  Intra_Code  Extra_Code     ELISA_KZO     ELISA_LNK  \\\n",
       "count   76.000000  247.000000  247.000000     82.000000     21.000000   \n",
       "mean    15.894737    2.655870    3.890688   9263.341463   6926.571429   \n",
       "std     23.289242    1.054894    1.179170   3295.625088   2853.117638   \n",
       "min      0.000000    1.000000    1.000000   1630.000000   3156.000000   \n",
       "25%      2.750000    2.000000    3.000000   6617.250000   4889.000000   \n",
       "50%      7.500000    3.000000    4.000000   9670.250000   5549.000000   \n",
       "75%     20.000000    3.000000    5.000000  11124.500000   9758.000000   \n",
       "max    127.000000    5.000000    5.000000  17020.000000  11965.000000   \n",
       "\n",
       "       Live_Titer     VCD_OD            RNA      gDNA/1mL  Antifoam  \n",
       "count    5.000000  11.000000      47.000000  5.600000e+01       7.0  \n",
       "mean     4.530000   1.521818   15827.859284  1.960579e+08       1.0  \n",
       "std      0.710282   0.925406   22378.752738  1.507412e+08       0.0  \n",
       "min      3.500000   0.050000     170.000000  2.545546e+06       1.0  \n",
       "25%      4.500000   0.765000    1478.957764  7.661384e+07       1.0  \n",
       "50%      4.500000   1.560000    7378.627930  1.359994e+08       1.0  \n",
       "75%      4.650000   2.355000   23748.478516  2.879057e+08       1.0  \n",
       "max      5.500000   2.580000  103762.656250  6.374318e+08       1.0  "
      ]
     },
     "execution_count": 143,
     "metadata": {},
     "output_type": "execute_result"
    }
   ],
   "source": [
    "print(\"\\tColumns 23-32:\")\n",
    "vessel_data.describe().iloc[:,22:33]"
   ]
  },
  {
   "cell_type": "code",
   "execution_count": 144,
   "metadata": {},
   "outputs": [
    {
     "name": "stdout",
     "output_type": "stream",
     "text": [
      "Summarized Data:\n"
     ]
    },
    {
     "data": {
      "text/html": [
       "<div>\n",
       "<style scoped>\n",
       "    .dataframe tbody tr th:only-of-type {\n",
       "        vertical-align: middle;\n",
       "    }\n",
       "\n",
       "    .dataframe tbody tr th {\n",
       "        vertical-align: top;\n",
       "    }\n",
       "\n",
       "    .dataframe thead th {\n",
       "        text-align: right;\n",
       "    }\n",
       "</style>\n",
       "<table border=\"1\" class=\"dataframe\">\n",
       "  <thead>\n",
       "    <tr style=\"text-align: right;\">\n",
       "      <th></th>\n",
       "      <th>Batch</th>\n",
       "      <th>Vessel</th>\n",
       "      <th>Time</th>\n",
       "      <th>Micro_Intra</th>\n",
       "      <th>Micro_Extra</th>\n",
       "      <th>Micro_Comments</th>\n",
       "    </tr>\n",
       "  </thead>\n",
       "  <tbody>\n",
       "    <tr>\n",
       "      <th>count</th>\n",
       "      <td>352</td>\n",
       "      <td>352</td>\n",
       "      <td>341</td>\n",
       "      <td>247</td>\n",
       "      <td>247</td>\n",
       "      <td>248</td>\n",
       "    </tr>\n",
       "    <tr>\n",
       "      <th>unique</th>\n",
       "      <td>12</td>\n",
       "      <td>5</td>\n",
       "      <td>162</td>\n",
       "      <td>5</td>\n",
       "      <td>5</td>\n",
       "      <td>23</td>\n",
       "    </tr>\n",
       "    <tr>\n",
       "      <th>top</th>\n",
       "      <td>381550PV</td>\n",
       "      <td>1000L SUB</td>\n",
       "      <td>09:00:00</td>\n",
       "      <td>Some, 2+</td>\n",
       "      <td>Very Heavy, 4+</td>\n",
       "      <td>None</td>\n",
       "    </tr>\n",
       "    <tr>\n",
       "      <th>freq</th>\n",
       "      <td>38</td>\n",
       "      <td>109</td>\n",
       "      <td>7</td>\n",
       "      <td>97</td>\n",
       "      <td>105</td>\n",
       "      <td>225</td>\n",
       "    </tr>\n",
       "  </tbody>\n",
       "</table>\n",
       "</div>"
      ],
      "text/plain": [
       "           Batch     Vessel      Time Micro_Intra     Micro_Extra  \\\n",
       "count        352        352       341         247             247   \n",
       "unique        12          5       162           5               5   \n",
       "top     381550PV  1000L SUB  09:00:00    Some, 2+  Very Heavy, 4+   \n",
       "freq          38        109         7          97             105   \n",
       "\n",
       "       Micro_Comments  \n",
       "count             248  \n",
       "unique             23  \n",
       "top              None  \n",
       "freq              225  "
      ]
     },
     "execution_count": 144,
     "metadata": {},
     "output_type": "execute_result"
    }
   ],
   "source": [
    "print(\"Summarized Data:\")\n",
    "vessel_data.describe(include=['O'])"
   ]
  },
  {
   "cell_type": "markdown",
   "metadata": {},
   "source": [
    "### Think about the data"
   ]
  },
  {
   "cell_type": "markdown",
   "metadata": {},
   "source": [
    "* **ELISA** results will be the target variable. There are two columns for this because testing was sometimes performed at two locations, for comparison. The 'ELISA_KZO' variable was used consistently throughout and so 'ELISA_LNK' is not needed.  \n",
    "* Many of the results from the daily sampling are either nutrients that are consumed during growth (L-Glut, Gluc) or are by-products of growth (Lact, Ammon). While these correspond with growth kinetics, they may not be good indicators as passage or harvest criteria.  \n",
    "* I plan to look for correlations of the target 'ELISA_KZO' variable with different analytical methods as well as correlations with the 'MPbio_TotCt' variable to find a viable replacement for the analytical method.  \n",
    "* I would also like to split the batches based on the final ELISA result into \"good\" and \"bad\" runs to see if I can find any differences that might explain why some are better than others."
   ]
  },
  {
   "cell_type": "code",
   "execution_count": 145,
   "metadata": {},
   "outputs": [
    {
     "data": {
      "text/html": [
       "<div>\n",
       "<style scoped>\n",
       "    .dataframe tbody tr th:only-of-type {\n",
       "        vertical-align: middle;\n",
       "    }\n",
       "\n",
       "    .dataframe tbody tr th {\n",
       "        vertical-align: top;\n",
       "    }\n",
       "\n",
       "    .dataframe thead th {\n",
       "        text-align: right;\n",
       "    }\n",
       "</style>\n",
       "<table border=\"1\" class=\"dataframe\">\n",
       "  <thead>\n",
       "    <tr style=\"text-align: right;\">\n",
       "      <th></th>\n",
       "      <th>DPI</th>\n",
       "      <th>Temp_C</th>\n",
       "      <th>Agitation</th>\n",
       "      <th>DO_pct</th>\n",
       "      <th>pH_online</th>\n",
       "      <th>pH_offline</th>\n",
       "      <th>O₂_%sat</th>\n",
       "      <th>CO₂_%sat</th>\n",
       "      <th>L_Glut</th>\n",
       "      <th>Gluc</th>\n",
       "      <th>...</th>\n",
       "      <th>Intra_Ct</th>\n",
       "      <th>Intra_Code</th>\n",
       "      <th>Extra_Code</th>\n",
       "      <th>ELISA_KZO</th>\n",
       "      <th>ELISA_LNK</th>\n",
       "      <th>Live_Titer</th>\n",
       "      <th>VCD_OD</th>\n",
       "      <th>RNA</th>\n",
       "      <th>gDNA/1mL</th>\n",
       "      <th>Antifoam</th>\n",
       "    </tr>\n",
       "  </thead>\n",
       "  <tbody>\n",
       "    <tr>\n",
       "      <th>DPI</th>\n",
       "      <td>1.000000</td>\n",
       "      <td>0.100553</td>\n",
       "      <td>0.016790</td>\n",
       "      <td>-0.275326</td>\n",
       "      <td>-0.163296</td>\n",
       "      <td>-0.112365</td>\n",
       "      <td>-0.063865</td>\n",
       "      <td>-0.101220</td>\n",
       "      <td>-0.785802</td>\n",
       "      <td>-0.708295</td>\n",
       "      <td>...</td>\n",
       "      <td>0.288664</td>\n",
       "      <td>0.505777</td>\n",
       "      <td>0.829476</td>\n",
       "      <td>0.617539</td>\n",
       "      <td>0.337400</td>\n",
       "      <td>0.619671</td>\n",
       "      <td>0.958727</td>\n",
       "      <td>-0.123444</td>\n",
       "      <td>0.702237</td>\n",
       "      <td>NaN</td>\n",
       "    </tr>\n",
       "    <tr>\n",
       "      <th>Temp_C</th>\n",
       "      <td>0.100553</td>\n",
       "      <td>1.000000</td>\n",
       "      <td>-0.021115</td>\n",
       "      <td>-0.192914</td>\n",
       "      <td>-0.020775</td>\n",
       "      <td>0.030124</td>\n",
       "      <td>0.086086</td>\n",
       "      <td>0.080981</td>\n",
       "      <td>-0.019335</td>\n",
       "      <td>-0.065916</td>\n",
       "      <td>...</td>\n",
       "      <td>0.084120</td>\n",
       "      <td>0.081274</td>\n",
       "      <td>0.177272</td>\n",
       "      <td>0.073257</td>\n",
       "      <td>0.213345</td>\n",
       "      <td>0.810647</td>\n",
       "      <td>-0.364863</td>\n",
       "      <td>0.130016</td>\n",
       "      <td>0.164139</td>\n",
       "      <td>NaN</td>\n",
       "    </tr>\n",
       "    <tr>\n",
       "      <th>Agitation</th>\n",
       "      <td>0.016790</td>\n",
       "      <td>-0.021115</td>\n",
       "      <td>1.000000</td>\n",
       "      <td>-0.234914</td>\n",
       "      <td>0.205581</td>\n",
       "      <td>0.244603</td>\n",
       "      <td>0.228620</td>\n",
       "      <td>-0.050011</td>\n",
       "      <td>-0.084685</td>\n",
       "      <td>0.019647</td>\n",
       "      <td>...</td>\n",
       "      <td>-0.166989</td>\n",
       "      <td>-0.053710</td>\n",
       "      <td>0.117080</td>\n",
       "      <td>-0.037613</td>\n",
       "      <td>0.213592</td>\n",
       "      <td>-0.763425</td>\n",
       "      <td>-0.360764</td>\n",
       "      <td>-0.089946</td>\n",
       "      <td>-0.269026</td>\n",
       "      <td>NaN</td>\n",
       "    </tr>\n",
       "    <tr>\n",
       "      <th>DO_pct</th>\n",
       "      <td>-0.275326</td>\n",
       "      <td>-0.192914</td>\n",
       "      <td>-0.234914</td>\n",
       "      <td>1.000000</td>\n",
       "      <td>0.105738</td>\n",
       "      <td>0.040839</td>\n",
       "      <td>0.001469</td>\n",
       "      <td>0.114967</td>\n",
       "      <td>0.299281</td>\n",
       "      <td>0.203165</td>\n",
       "      <td>...</td>\n",
       "      <td>-0.036068</td>\n",
       "      <td>-0.143880</td>\n",
       "      <td>-0.382579</td>\n",
       "      <td>0.073006</td>\n",
       "      <td>0.220922</td>\n",
       "      <td>-0.857695</td>\n",
       "      <td>-0.644800</td>\n",
       "      <td>0.013532</td>\n",
       "      <td>-0.149384</td>\n",
       "      <td>NaN</td>\n",
       "    </tr>\n",
       "    <tr>\n",
       "      <th>pH_online</th>\n",
       "      <td>-0.163296</td>\n",
       "      <td>-0.020775</td>\n",
       "      <td>0.205581</td>\n",
       "      <td>0.105738</td>\n",
       "      <td>1.000000</td>\n",
       "      <td>0.500569</td>\n",
       "      <td>0.044728</td>\n",
       "      <td>0.281500</td>\n",
       "      <td>0.088232</td>\n",
       "      <td>0.384183</td>\n",
       "      <td>...</td>\n",
       "      <td>0.004538</td>\n",
       "      <td>-0.060772</td>\n",
       "      <td>-0.129673</td>\n",
       "      <td>0.114055</td>\n",
       "      <td>0.178015</td>\n",
       "      <td>-0.873483</td>\n",
       "      <td>-0.769757</td>\n",
       "      <td>0.085701</td>\n",
       "      <td>-0.496685</td>\n",
       "      <td>NaN</td>\n",
       "    </tr>\n",
       "    <tr>\n",
       "      <th>pH_offline</th>\n",
       "      <td>-0.112365</td>\n",
       "      <td>0.030124</td>\n",
       "      <td>0.244603</td>\n",
       "      <td>0.040839</td>\n",
       "      <td>0.500569</td>\n",
       "      <td>1.000000</td>\n",
       "      <td>0.397026</td>\n",
       "      <td>0.317669</td>\n",
       "      <td>0.062938</td>\n",
       "      <td>0.241264</td>\n",
       "      <td>...</td>\n",
       "      <td>-0.158694</td>\n",
       "      <td>-0.131722</td>\n",
       "      <td>-0.162685</td>\n",
       "      <td>0.028297</td>\n",
       "      <td>0.351691</td>\n",
       "      <td>-0.701654</td>\n",
       "      <td>-0.753275</td>\n",
       "      <td>0.030460</td>\n",
       "      <td>-0.593829</td>\n",
       "      <td>NaN</td>\n",
       "    </tr>\n",
       "    <tr>\n",
       "      <th>O₂_%sat</th>\n",
       "      <td>-0.063865</td>\n",
       "      <td>0.086086</td>\n",
       "      <td>0.228620</td>\n",
       "      <td>0.001469</td>\n",
       "      <td>0.044728</td>\n",
       "      <td>0.397026</td>\n",
       "      <td>1.000000</td>\n",
       "      <td>0.900190</td>\n",
       "      <td>-0.079755</td>\n",
       "      <td>0.018089</td>\n",
       "      <td>...</td>\n",
       "      <td>0.127375</td>\n",
       "      <td>-0.142562</td>\n",
       "      <td>-0.189104</td>\n",
       "      <td>-0.153240</td>\n",
       "      <td>-0.215291</td>\n",
       "      <td>0.060228</td>\n",
       "      <td>-0.407834</td>\n",
       "      <td>0.022853</td>\n",
       "      <td>-0.007434</td>\n",
       "      <td>NaN</td>\n",
       "    </tr>\n",
       "    <tr>\n",
       "      <th>CO₂_%sat</th>\n",
       "      <td>-0.101220</td>\n",
       "      <td>0.080981</td>\n",
       "      <td>-0.050011</td>\n",
       "      <td>0.114967</td>\n",
       "      <td>0.281500</td>\n",
       "      <td>0.317669</td>\n",
       "      <td>0.900190</td>\n",
       "      <td>1.000000</td>\n",
       "      <td>-0.055923</td>\n",
       "      <td>0.098207</td>\n",
       "      <td>...</td>\n",
       "      <td>0.342571</td>\n",
       "      <td>-0.124757</td>\n",
       "      <td>-0.196744</td>\n",
       "      <td>-0.111561</td>\n",
       "      <td>-0.126113</td>\n",
       "      <td>-0.722276</td>\n",
       "      <td>-0.633033</td>\n",
       "      <td>0.139728</td>\n",
       "      <td>-0.008124</td>\n",
       "      <td>NaN</td>\n",
       "    </tr>\n",
       "    <tr>\n",
       "      <th>L_Glut</th>\n",
       "      <td>-0.785802</td>\n",
       "      <td>-0.019335</td>\n",
       "      <td>-0.084685</td>\n",
       "      <td>0.299281</td>\n",
       "      <td>0.088232</td>\n",
       "      <td>0.062938</td>\n",
       "      <td>-0.079755</td>\n",
       "      <td>-0.055923</td>\n",
       "      <td>1.000000</td>\n",
       "      <td>0.473042</td>\n",
       "      <td>...</td>\n",
       "      <td>-0.377039</td>\n",
       "      <td>-0.454554</td>\n",
       "      <td>-0.680830</td>\n",
       "      <td>-0.417699</td>\n",
       "      <td>NaN</td>\n",
       "      <td>NaN</td>\n",
       "      <td>-1.000000</td>\n",
       "      <td>-0.115538</td>\n",
       "      <td>-0.815734</td>\n",
       "      <td>NaN</td>\n",
       "    </tr>\n",
       "    <tr>\n",
       "      <th>Gluc</th>\n",
       "      <td>-0.708295</td>\n",
       "      <td>-0.065916</td>\n",
       "      <td>0.019647</td>\n",
       "      <td>0.203165</td>\n",
       "      <td>0.384183</td>\n",
       "      <td>0.241264</td>\n",
       "      <td>0.018089</td>\n",
       "      <td>0.098207</td>\n",
       "      <td>0.473042</td>\n",
       "      <td>1.000000</td>\n",
       "      <td>...</td>\n",
       "      <td>-0.156796</td>\n",
       "      <td>-0.353557</td>\n",
       "      <td>-0.587348</td>\n",
       "      <td>-0.251983</td>\n",
       "      <td>-0.433567</td>\n",
       "      <td>-0.459863</td>\n",
       "      <td>-0.745869</td>\n",
       "      <td>0.129989</td>\n",
       "      <td>-0.671177</td>\n",
       "      <td>NaN</td>\n",
       "    </tr>\n",
       "    <tr>\n",
       "      <th>Lact</th>\n",
       "      <td>0.220710</td>\n",
       "      <td>-0.002039</td>\n",
       "      <td>-0.096691</td>\n",
       "      <td>-0.150793</td>\n",
       "      <td>-0.554909</td>\n",
       "      <td>-0.194310</td>\n",
       "      <td>0.089330</td>\n",
       "      <td>-0.021789</td>\n",
       "      <td>-0.078229</td>\n",
       "      <td>-0.542684</td>\n",
       "      <td>...</td>\n",
       "      <td>-0.117979</td>\n",
       "      <td>-0.005719</td>\n",
       "      <td>0.199104</td>\n",
       "      <td>-0.022650</td>\n",
       "      <td>-0.434522</td>\n",
       "      <td>0.536199</td>\n",
       "      <td>0.746643</td>\n",
       "      <td>-0.252464</td>\n",
       "      <td>0.406646</td>\n",
       "      <td>NaN</td>\n",
       "    </tr>\n",
       "    <tr>\n",
       "      <th>Ammon</th>\n",
       "      <td>0.831815</td>\n",
       "      <td>0.115860</td>\n",
       "      <td>-0.018613</td>\n",
       "      <td>-0.268858</td>\n",
       "      <td>-0.181785</td>\n",
       "      <td>-0.210453</td>\n",
       "      <td>-0.027287</td>\n",
       "      <td>-0.068777</td>\n",
       "      <td>-0.692741</td>\n",
       "      <td>-0.722307</td>\n",
       "      <td>...</td>\n",
       "      <td>0.413886</td>\n",
       "      <td>0.571546</td>\n",
       "      <td>0.790154</td>\n",
       "      <td>0.474429</td>\n",
       "      <td>0.536026</td>\n",
       "      <td>0.202649</td>\n",
       "      <td>0.918370</td>\n",
       "      <td>0.181657</td>\n",
       "      <td>0.916097</td>\n",
       "      <td>NaN</td>\n",
       "    </tr>\n",
       "    <tr>\n",
       "      <th>Nuc_NonVi</th>\n",
       "      <td>0.631554</td>\n",
       "      <td>0.088251</td>\n",
       "      <td>0.050524</td>\n",
       "      <td>-0.154405</td>\n",
       "      <td>-0.034174</td>\n",
       "      <td>-0.071529</td>\n",
       "      <td>-0.036790</td>\n",
       "      <td>-0.049844</td>\n",
       "      <td>-0.509139</td>\n",
       "      <td>-0.592048</td>\n",
       "      <td>...</td>\n",
       "      <td>0.483248</td>\n",
       "      <td>0.481268</td>\n",
       "      <td>0.571053</td>\n",
       "      <td>0.441810</td>\n",
       "      <td>0.267732</td>\n",
       "      <td>0.335174</td>\n",
       "      <td>0.868025</td>\n",
       "      <td>0.138365</td>\n",
       "      <td>0.806984</td>\n",
       "      <td>NaN</td>\n",
       "    </tr>\n",
       "    <tr>\n",
       "      <th>Nuc_TotCt</th>\n",
       "      <td>0.754690</td>\n",
       "      <td>0.109952</td>\n",
       "      <td>0.045834</td>\n",
       "      <td>-0.228572</td>\n",
       "      <td>-0.136057</td>\n",
       "      <td>-0.093308</td>\n",
       "      <td>0.062701</td>\n",
       "      <td>0.022326</td>\n",
       "      <td>-0.669726</td>\n",
       "      <td>-0.767876</td>\n",
       "      <td>...</td>\n",
       "      <td>0.365082</td>\n",
       "      <td>0.544708</td>\n",
       "      <td>0.685392</td>\n",
       "      <td>0.130641</td>\n",
       "      <td>0.191692</td>\n",
       "      <td>0.398842</td>\n",
       "      <td>0.839233</td>\n",
       "      <td>0.404341</td>\n",
       "      <td>0.724789</td>\n",
       "      <td>NaN</td>\n",
       "    </tr>\n",
       "    <tr>\n",
       "      <th>Nuc_LiveCt</th>\n",
       "      <td>0.742815</td>\n",
       "      <td>0.109097</td>\n",
       "      <td>0.043607</td>\n",
       "      <td>-0.230029</td>\n",
       "      <td>-0.142651</td>\n",
       "      <td>-0.092107</td>\n",
       "      <td>0.072353</td>\n",
       "      <td>0.031986</td>\n",
       "      <td>-0.666627</td>\n",
       "      <td>-0.761372</td>\n",
       "      <td>...</td>\n",
       "      <td>0.336474</td>\n",
       "      <td>0.535186</td>\n",
       "      <td>0.675798</td>\n",
       "      <td>0.081237</td>\n",
       "      <td>0.158150</td>\n",
       "      <td>0.275217</td>\n",
       "      <td>0.799744</td>\n",
       "      <td>0.417410</td>\n",
       "      <td>0.695121</td>\n",
       "      <td>NaN</td>\n",
       "    </tr>\n",
       "    <tr>\n",
       "      <th>Nuc_Viab</th>\n",
       "      <td>-0.139409</td>\n",
       "      <td>-0.024148</td>\n",
       "      <td>-0.029225</td>\n",
       "      <td>-0.027544</td>\n",
       "      <td>-0.056642</td>\n",
       "      <td>0.052466</td>\n",
       "      <td>0.071793</td>\n",
       "      <td>0.067230</td>\n",
       "      <td>0.068839</td>\n",
       "      <td>0.167223</td>\n",
       "      <td>...</td>\n",
       "      <td>-0.282185</td>\n",
       "      <td>-0.105158</td>\n",
       "      <td>-0.109322</td>\n",
       "      <td>-0.387428</td>\n",
       "      <td>-0.183882</td>\n",
       "      <td>-0.208168</td>\n",
       "      <td>-0.587653</td>\n",
       "      <td>0.051129</td>\n",
       "      <td>-0.122846</td>\n",
       "      <td>NaN</td>\n",
       "    </tr>\n",
       "    <tr>\n",
       "      <th>MPbio_Blank</th>\n",
       "      <td>-0.087722</td>\n",
       "      <td>-0.051129</td>\n",
       "      <td>-0.065871</td>\n",
       "      <td>-0.037491</td>\n",
       "      <td>-0.012619</td>\n",
       "      <td>0.094731</td>\n",
       "      <td>-0.005802</td>\n",
       "      <td>-0.052320</td>\n",
       "      <td>0.007504</td>\n",
       "      <td>0.123636</td>\n",
       "      <td>...</td>\n",
       "      <td>0.068187</td>\n",
       "      <td>-0.053564</td>\n",
       "      <td>0.025161</td>\n",
       "      <td>-0.042698</td>\n",
       "      <td>-0.031114</td>\n",
       "      <td>0.325410</td>\n",
       "      <td>-0.284832</td>\n",
       "      <td>-0.071535</td>\n",
       "      <td>-0.159191</td>\n",
       "      <td>NaN</td>\n",
       "    </tr>\n",
       "    <tr>\n",
       "      <th>MPbio_Area</th>\n",
       "      <td>0.852096</td>\n",
       "      <td>0.132905</td>\n",
       "      <td>0.134739</td>\n",
       "      <td>-0.252846</td>\n",
       "      <td>-0.090018</td>\n",
       "      <td>-0.148795</td>\n",
       "      <td>-0.075264</td>\n",
       "      <td>-0.111535</td>\n",
       "      <td>-0.700280</td>\n",
       "      <td>-0.690155</td>\n",
       "      <td>...</td>\n",
       "      <td>0.462505</td>\n",
       "      <td>0.572184</td>\n",
       "      <td>0.814236</td>\n",
       "      <td>0.746802</td>\n",
       "      <td>0.890982</td>\n",
       "      <td>0.682413</td>\n",
       "      <td>0.956205</td>\n",
       "      <td>0.036493</td>\n",
       "      <td>0.850855</td>\n",
       "      <td>NaN</td>\n",
       "    </tr>\n",
       "    <tr>\n",
       "      <th>MPbio_TotCt</th>\n",
       "      <td>0.858668</td>\n",
       "      <td>0.129190</td>\n",
       "      <td>0.113821</td>\n",
       "      <td>-0.241108</td>\n",
       "      <td>-0.084109</td>\n",
       "      <td>-0.092102</td>\n",
       "      <td>-0.073564</td>\n",
       "      <td>-0.111012</td>\n",
       "      <td>-0.688426</td>\n",
       "      <td>-0.691065</td>\n",
       "      <td>...</td>\n",
       "      <td>0.461748</td>\n",
       "      <td>0.541130</td>\n",
       "      <td>0.798078</td>\n",
       "      <td>0.746065</td>\n",
       "      <td>0.888229</td>\n",
       "      <td>0.682768</td>\n",
       "      <td>0.956162</td>\n",
       "      <td>-0.075884</td>\n",
       "      <td>0.851490</td>\n",
       "      <td>NaN</td>\n",
       "    </tr>\n",
       "    <tr>\n",
       "      <th>MPtvo_Blank</th>\n",
       "      <td>0.067487</td>\n",
       "      <td>0.001562</td>\n",
       "      <td>-0.057411</td>\n",
       "      <td>-0.022103</td>\n",
       "      <td>-0.169981</td>\n",
       "      <td>-0.226025</td>\n",
       "      <td>-0.013698</td>\n",
       "      <td>-0.054825</td>\n",
       "      <td>-0.132474</td>\n",
       "      <td>-0.097691</td>\n",
       "      <td>...</td>\n",
       "      <td>0.070722</td>\n",
       "      <td>0.039309</td>\n",
       "      <td>0.056768</td>\n",
       "      <td>0.025527</td>\n",
       "      <td>-0.270677</td>\n",
       "      <td>0.030490</td>\n",
       "      <td>0.065759</td>\n",
       "      <td>-0.253025</td>\n",
       "      <td>0.330845</td>\n",
       "      <td>NaN</td>\n",
       "    </tr>\n",
       "    <tr>\n",
       "      <th>MPtvo_Area</th>\n",
       "      <td>0.534342</td>\n",
       "      <td>0.083178</td>\n",
       "      <td>-0.096070</td>\n",
       "      <td>-0.176055</td>\n",
       "      <td>-0.208365</td>\n",
       "      <td>-0.253757</td>\n",
       "      <td>-0.066420</td>\n",
       "      <td>-0.124183</td>\n",
       "      <td>-0.500657</td>\n",
       "      <td>-0.574515</td>\n",
       "      <td>...</td>\n",
       "      <td>0.630290</td>\n",
       "      <td>0.490850</td>\n",
       "      <td>0.622152</td>\n",
       "      <td>0.165877</td>\n",
       "      <td>0.505766</td>\n",
       "      <td>-0.829889</td>\n",
       "      <td>0.489257</td>\n",
       "      <td>-0.103596</td>\n",
       "      <td>0.878662</td>\n",
       "      <td>NaN</td>\n",
       "    </tr>\n",
       "    <tr>\n",
       "      <th>MPtvo_TotCt</th>\n",
       "      <td>-0.013744</td>\n",
       "      <td>0.013842</td>\n",
       "      <td>-0.062915</td>\n",
       "      <td>-0.026365</td>\n",
       "      <td>-0.009550</td>\n",
       "      <td>-0.067020</td>\n",
       "      <td>-0.008807</td>\n",
       "      <td>-0.000824</td>\n",
       "      <td>-0.055354</td>\n",
       "      <td>-0.005337</td>\n",
       "      <td>...</td>\n",
       "      <td>0.631786</td>\n",
       "      <td>-0.010620</td>\n",
       "      <td>-0.011598</td>\n",
       "      <td>0.194619</td>\n",
       "      <td>0.506762</td>\n",
       "      <td>-0.830734</td>\n",
       "      <td>0.489553</td>\n",
       "      <td>-0.146718</td>\n",
       "      <td>0.877935</td>\n",
       "      <td>NaN</td>\n",
       "    </tr>\n",
       "    <tr>\n",
       "      <th>Intra_Ct</th>\n",
       "      <td>0.288664</td>\n",
       "      <td>0.084120</td>\n",
       "      <td>-0.166989</td>\n",
       "      <td>-0.036068</td>\n",
       "      <td>0.004538</td>\n",
       "      <td>-0.158694</td>\n",
       "      <td>0.127375</td>\n",
       "      <td>0.342571</td>\n",
       "      <td>-0.377039</td>\n",
       "      <td>-0.156796</td>\n",
       "      <td>...</td>\n",
       "      <td>1.000000</td>\n",
       "      <td>0.787797</td>\n",
       "      <td>0.489033</td>\n",
       "      <td>-0.678686</td>\n",
       "      <td>NaN</td>\n",
       "      <td>NaN</td>\n",
       "      <td>NaN</td>\n",
       "      <td>-0.167157</td>\n",
       "      <td>0.672781</td>\n",
       "      <td>NaN</td>\n",
       "    </tr>\n",
       "    <tr>\n",
       "      <th>Intra_Code</th>\n",
       "      <td>0.505777</td>\n",
       "      <td>0.081274</td>\n",
       "      <td>-0.053710</td>\n",
       "      <td>-0.143880</td>\n",
       "      <td>-0.060772</td>\n",
       "      <td>-0.131722</td>\n",
       "      <td>-0.142562</td>\n",
       "      <td>-0.124757</td>\n",
       "      <td>-0.454554</td>\n",
       "      <td>-0.353557</td>\n",
       "      <td>...</td>\n",
       "      <td>0.787797</td>\n",
       "      <td>1.000000</td>\n",
       "      <td>0.691860</td>\n",
       "      <td>-0.039128</td>\n",
       "      <td>-0.170465</td>\n",
       "      <td>-0.433309</td>\n",
       "      <td>0.253008</td>\n",
       "      <td>0.381751</td>\n",
       "      <td>0.749367</td>\n",
       "      <td>NaN</td>\n",
       "    </tr>\n",
       "    <tr>\n",
       "      <th>Extra_Code</th>\n",
       "      <td>0.829476</td>\n",
       "      <td>0.177272</td>\n",
       "      <td>0.117080</td>\n",
       "      <td>-0.382579</td>\n",
       "      <td>-0.129673</td>\n",
       "      <td>-0.162685</td>\n",
       "      <td>-0.189104</td>\n",
       "      <td>-0.196744</td>\n",
       "      <td>-0.680830</td>\n",
       "      <td>-0.587348</td>\n",
       "      <td>...</td>\n",
       "      <td>0.489033</td>\n",
       "      <td>0.691860</td>\n",
       "      <td>1.000000</td>\n",
       "      <td>0.463693</td>\n",
       "      <td>NaN</td>\n",
       "      <td>NaN</td>\n",
       "      <td>0.929353</td>\n",
       "      <td>0.089894</td>\n",
       "      <td>0.744304</td>\n",
       "      <td>NaN</td>\n",
       "    </tr>\n",
       "    <tr>\n",
       "      <th>ELISA_KZO</th>\n",
       "      <td>0.617539</td>\n",
       "      <td>0.073257</td>\n",
       "      <td>-0.037613</td>\n",
       "      <td>0.073006</td>\n",
       "      <td>0.114055</td>\n",
       "      <td>0.028297</td>\n",
       "      <td>-0.153240</td>\n",
       "      <td>-0.111561</td>\n",
       "      <td>-0.417699</td>\n",
       "      <td>-0.251983</td>\n",
       "      <td>...</td>\n",
       "      <td>-0.678686</td>\n",
       "      <td>-0.039128</td>\n",
       "      <td>0.463693</td>\n",
       "      <td>1.000000</td>\n",
       "      <td>0.963900</td>\n",
       "      <td>0.620955</td>\n",
       "      <td>0.822339</td>\n",
       "      <td>-0.195724</td>\n",
       "      <td>-0.805817</td>\n",
       "      <td>NaN</td>\n",
       "    </tr>\n",
       "    <tr>\n",
       "      <th>ELISA_LNK</th>\n",
       "      <td>0.337400</td>\n",
       "      <td>0.213345</td>\n",
       "      <td>0.213592</td>\n",
       "      <td>0.220922</td>\n",
       "      <td>0.178015</td>\n",
       "      <td>0.351691</td>\n",
       "      <td>-0.215291</td>\n",
       "      <td>-0.126113</td>\n",
       "      <td>NaN</td>\n",
       "      <td>-0.433567</td>\n",
       "      <td>...</td>\n",
       "      <td>NaN</td>\n",
       "      <td>-0.170465</td>\n",
       "      <td>NaN</td>\n",
       "      <td>0.963900</td>\n",
       "      <td>1.000000</td>\n",
       "      <td>0.706071</td>\n",
       "      <td>0.790089</td>\n",
       "      <td>NaN</td>\n",
       "      <td>NaN</td>\n",
       "      <td>NaN</td>\n",
       "    </tr>\n",
       "    <tr>\n",
       "      <th>Live_Titer</th>\n",
       "      <td>0.619671</td>\n",
       "      <td>0.810647</td>\n",
       "      <td>-0.763425</td>\n",
       "      <td>-0.857695</td>\n",
       "      <td>-0.873483</td>\n",
       "      <td>-0.701654</td>\n",
       "      <td>0.060228</td>\n",
       "      <td>-0.722276</td>\n",
       "      <td>NaN</td>\n",
       "      <td>-0.459863</td>\n",
       "      <td>...</td>\n",
       "      <td>NaN</td>\n",
       "      <td>-0.433309</td>\n",
       "      <td>NaN</td>\n",
       "      <td>0.620955</td>\n",
       "      <td>0.706071</td>\n",
       "      <td>1.000000</td>\n",
       "      <td>0.866064</td>\n",
       "      <td>NaN</td>\n",
       "      <td>NaN</td>\n",
       "      <td>NaN</td>\n",
       "    </tr>\n",
       "    <tr>\n",
       "      <th>VCD_OD</th>\n",
       "      <td>0.958727</td>\n",
       "      <td>-0.364863</td>\n",
       "      <td>-0.360764</td>\n",
       "      <td>-0.644800</td>\n",
       "      <td>-0.769757</td>\n",
       "      <td>-0.753275</td>\n",
       "      <td>-0.407834</td>\n",
       "      <td>-0.633033</td>\n",
       "      <td>-1.000000</td>\n",
       "      <td>-0.745869</td>\n",
       "      <td>...</td>\n",
       "      <td>NaN</td>\n",
       "      <td>0.253008</td>\n",
       "      <td>0.929353</td>\n",
       "      <td>0.822339</td>\n",
       "      <td>0.790089</td>\n",
       "      <td>0.866064</td>\n",
       "      <td>1.000000</td>\n",
       "      <td>NaN</td>\n",
       "      <td>NaN</td>\n",
       "      <td>NaN</td>\n",
       "    </tr>\n",
       "    <tr>\n",
       "      <th>RNA</th>\n",
       "      <td>-0.123444</td>\n",
       "      <td>0.130016</td>\n",
       "      <td>-0.089946</td>\n",
       "      <td>0.013532</td>\n",
       "      <td>0.085701</td>\n",
       "      <td>0.030460</td>\n",
       "      <td>0.022853</td>\n",
       "      <td>0.139728</td>\n",
       "      <td>-0.115538</td>\n",
       "      <td>0.129989</td>\n",
       "      <td>...</td>\n",
       "      <td>-0.167157</td>\n",
       "      <td>0.381751</td>\n",
       "      <td>0.089894</td>\n",
       "      <td>-0.195724</td>\n",
       "      <td>NaN</td>\n",
       "      <td>NaN</td>\n",
       "      <td>NaN</td>\n",
       "      <td>1.000000</td>\n",
       "      <td>-0.327823</td>\n",
       "      <td>NaN</td>\n",
       "    </tr>\n",
       "    <tr>\n",
       "      <th>gDNA/1mL</th>\n",
       "      <td>0.702237</td>\n",
       "      <td>0.164139</td>\n",
       "      <td>-0.269026</td>\n",
       "      <td>-0.149384</td>\n",
       "      <td>-0.496685</td>\n",
       "      <td>-0.593829</td>\n",
       "      <td>-0.007434</td>\n",
       "      <td>-0.008124</td>\n",
       "      <td>-0.815734</td>\n",
       "      <td>-0.671177</td>\n",
       "      <td>...</td>\n",
       "      <td>0.672781</td>\n",
       "      <td>0.749367</td>\n",
       "      <td>0.744304</td>\n",
       "      <td>-0.805817</td>\n",
       "      <td>NaN</td>\n",
       "      <td>NaN</td>\n",
       "      <td>NaN</td>\n",
       "      <td>-0.327823</td>\n",
       "      <td>1.000000</td>\n",
       "      <td>NaN</td>\n",
       "    </tr>\n",
       "    <tr>\n",
       "      <th>Antifoam</th>\n",
       "      <td>NaN</td>\n",
       "      <td>NaN</td>\n",
       "      <td>NaN</td>\n",
       "      <td>NaN</td>\n",
       "      <td>NaN</td>\n",
       "      <td>NaN</td>\n",
       "      <td>NaN</td>\n",
       "      <td>NaN</td>\n",
       "      <td>NaN</td>\n",
       "      <td>NaN</td>\n",
       "      <td>...</td>\n",
       "      <td>NaN</td>\n",
       "      <td>NaN</td>\n",
       "      <td>NaN</td>\n",
       "      <td>NaN</td>\n",
       "      <td>NaN</td>\n",
       "      <td>NaN</td>\n",
       "      <td>NaN</td>\n",
       "      <td>NaN</td>\n",
       "      <td>NaN</td>\n",
       "      <td>NaN</td>\n",
       "    </tr>\n",
       "  </tbody>\n",
       "</table>\n",
       "<p>32 rows × 32 columns</p>\n",
       "</div>"
      ],
      "text/plain": [
       "                  DPI    Temp_C  Agitation    DO_pct  pH_online  pH_offline  \\\n",
       "DPI          1.000000  0.100553   0.016790 -0.275326  -0.163296   -0.112365   \n",
       "Temp_C       0.100553  1.000000  -0.021115 -0.192914  -0.020775    0.030124   \n",
       "Agitation    0.016790 -0.021115   1.000000 -0.234914   0.205581    0.244603   \n",
       "DO_pct      -0.275326 -0.192914  -0.234914  1.000000   0.105738    0.040839   \n",
       "pH_online   -0.163296 -0.020775   0.205581  0.105738   1.000000    0.500569   \n",
       "pH_offline  -0.112365  0.030124   0.244603  0.040839   0.500569    1.000000   \n",
       "O₂_%sat     -0.063865  0.086086   0.228620  0.001469   0.044728    0.397026   \n",
       "CO₂_%sat    -0.101220  0.080981  -0.050011  0.114967   0.281500    0.317669   \n",
       "L_Glut      -0.785802 -0.019335  -0.084685  0.299281   0.088232    0.062938   \n",
       "Gluc        -0.708295 -0.065916   0.019647  0.203165   0.384183    0.241264   \n",
       "Lact         0.220710 -0.002039  -0.096691 -0.150793  -0.554909   -0.194310   \n",
       "Ammon        0.831815  0.115860  -0.018613 -0.268858  -0.181785   -0.210453   \n",
       "Nuc_NonVi    0.631554  0.088251   0.050524 -0.154405  -0.034174   -0.071529   \n",
       "Nuc_TotCt    0.754690  0.109952   0.045834 -0.228572  -0.136057   -0.093308   \n",
       "Nuc_LiveCt   0.742815  0.109097   0.043607 -0.230029  -0.142651   -0.092107   \n",
       "Nuc_Viab    -0.139409 -0.024148  -0.029225 -0.027544  -0.056642    0.052466   \n",
       "MPbio_Blank -0.087722 -0.051129  -0.065871 -0.037491  -0.012619    0.094731   \n",
       "MPbio_Area   0.852096  0.132905   0.134739 -0.252846  -0.090018   -0.148795   \n",
       "MPbio_TotCt  0.858668  0.129190   0.113821 -0.241108  -0.084109   -0.092102   \n",
       "MPtvo_Blank  0.067487  0.001562  -0.057411 -0.022103  -0.169981   -0.226025   \n",
       "MPtvo_Area   0.534342  0.083178  -0.096070 -0.176055  -0.208365   -0.253757   \n",
       "MPtvo_TotCt -0.013744  0.013842  -0.062915 -0.026365  -0.009550   -0.067020   \n",
       "Intra_Ct     0.288664  0.084120  -0.166989 -0.036068   0.004538   -0.158694   \n",
       "Intra_Code   0.505777  0.081274  -0.053710 -0.143880  -0.060772   -0.131722   \n",
       "Extra_Code   0.829476  0.177272   0.117080 -0.382579  -0.129673   -0.162685   \n",
       "ELISA_KZO    0.617539  0.073257  -0.037613  0.073006   0.114055    0.028297   \n",
       "ELISA_LNK    0.337400  0.213345   0.213592  0.220922   0.178015    0.351691   \n",
       "Live_Titer   0.619671  0.810647  -0.763425 -0.857695  -0.873483   -0.701654   \n",
       "VCD_OD       0.958727 -0.364863  -0.360764 -0.644800  -0.769757   -0.753275   \n",
       "RNA         -0.123444  0.130016  -0.089946  0.013532   0.085701    0.030460   \n",
       "gDNA/1mL     0.702237  0.164139  -0.269026 -0.149384  -0.496685   -0.593829   \n",
       "Antifoam          NaN       NaN        NaN       NaN        NaN         NaN   \n",
       "\n",
       "              O₂_%sat  CO₂_%sat    L_Glut      Gluc  ...  Intra_Ct  \\\n",
       "DPI         -0.063865 -0.101220 -0.785802 -0.708295  ...  0.288664   \n",
       "Temp_C       0.086086  0.080981 -0.019335 -0.065916  ...  0.084120   \n",
       "Agitation    0.228620 -0.050011 -0.084685  0.019647  ... -0.166989   \n",
       "DO_pct       0.001469  0.114967  0.299281  0.203165  ... -0.036068   \n",
       "pH_online    0.044728  0.281500  0.088232  0.384183  ...  0.004538   \n",
       "pH_offline   0.397026  0.317669  0.062938  0.241264  ... -0.158694   \n",
       "O₂_%sat      1.000000  0.900190 -0.079755  0.018089  ...  0.127375   \n",
       "CO₂_%sat     0.900190  1.000000 -0.055923  0.098207  ...  0.342571   \n",
       "L_Glut      -0.079755 -0.055923  1.000000  0.473042  ... -0.377039   \n",
       "Gluc         0.018089  0.098207  0.473042  1.000000  ... -0.156796   \n",
       "Lact         0.089330 -0.021789 -0.078229 -0.542684  ... -0.117979   \n",
       "Ammon       -0.027287 -0.068777 -0.692741 -0.722307  ...  0.413886   \n",
       "Nuc_NonVi   -0.036790 -0.049844 -0.509139 -0.592048  ...  0.483248   \n",
       "Nuc_TotCt    0.062701  0.022326 -0.669726 -0.767876  ...  0.365082   \n",
       "Nuc_LiveCt   0.072353  0.031986 -0.666627 -0.761372  ...  0.336474   \n",
       "Nuc_Viab     0.071793  0.067230  0.068839  0.167223  ... -0.282185   \n",
       "MPbio_Blank -0.005802 -0.052320  0.007504  0.123636  ...  0.068187   \n",
       "MPbio_Area  -0.075264 -0.111535 -0.700280 -0.690155  ...  0.462505   \n",
       "MPbio_TotCt -0.073564 -0.111012 -0.688426 -0.691065  ...  0.461748   \n",
       "MPtvo_Blank -0.013698 -0.054825 -0.132474 -0.097691  ...  0.070722   \n",
       "MPtvo_Area  -0.066420 -0.124183 -0.500657 -0.574515  ...  0.630290   \n",
       "MPtvo_TotCt -0.008807 -0.000824 -0.055354 -0.005337  ...  0.631786   \n",
       "Intra_Ct     0.127375  0.342571 -0.377039 -0.156796  ...  1.000000   \n",
       "Intra_Code  -0.142562 -0.124757 -0.454554 -0.353557  ...  0.787797   \n",
       "Extra_Code  -0.189104 -0.196744 -0.680830 -0.587348  ...  0.489033   \n",
       "ELISA_KZO   -0.153240 -0.111561 -0.417699 -0.251983  ... -0.678686   \n",
       "ELISA_LNK   -0.215291 -0.126113       NaN -0.433567  ...       NaN   \n",
       "Live_Titer   0.060228 -0.722276       NaN -0.459863  ...       NaN   \n",
       "VCD_OD      -0.407834 -0.633033 -1.000000 -0.745869  ...       NaN   \n",
       "RNA          0.022853  0.139728 -0.115538  0.129989  ... -0.167157   \n",
       "gDNA/1mL    -0.007434 -0.008124 -0.815734 -0.671177  ...  0.672781   \n",
       "Antifoam          NaN       NaN       NaN       NaN  ...       NaN   \n",
       "\n",
       "             Intra_Code  Extra_Code  ELISA_KZO  ELISA_LNK  Live_Titer  \\\n",
       "DPI            0.505777    0.829476   0.617539   0.337400    0.619671   \n",
       "Temp_C         0.081274    0.177272   0.073257   0.213345    0.810647   \n",
       "Agitation     -0.053710    0.117080  -0.037613   0.213592   -0.763425   \n",
       "DO_pct        -0.143880   -0.382579   0.073006   0.220922   -0.857695   \n",
       "pH_online     -0.060772   -0.129673   0.114055   0.178015   -0.873483   \n",
       "pH_offline    -0.131722   -0.162685   0.028297   0.351691   -0.701654   \n",
       "O₂_%sat       -0.142562   -0.189104  -0.153240  -0.215291    0.060228   \n",
       "CO₂_%sat      -0.124757   -0.196744  -0.111561  -0.126113   -0.722276   \n",
       "L_Glut        -0.454554   -0.680830  -0.417699        NaN         NaN   \n",
       "Gluc          -0.353557   -0.587348  -0.251983  -0.433567   -0.459863   \n",
       "Lact          -0.005719    0.199104  -0.022650  -0.434522    0.536199   \n",
       "Ammon          0.571546    0.790154   0.474429   0.536026    0.202649   \n",
       "Nuc_NonVi      0.481268    0.571053   0.441810   0.267732    0.335174   \n",
       "Nuc_TotCt      0.544708    0.685392   0.130641   0.191692    0.398842   \n",
       "Nuc_LiveCt     0.535186    0.675798   0.081237   0.158150    0.275217   \n",
       "Nuc_Viab      -0.105158   -0.109322  -0.387428  -0.183882   -0.208168   \n",
       "MPbio_Blank   -0.053564    0.025161  -0.042698  -0.031114    0.325410   \n",
       "MPbio_Area     0.572184    0.814236   0.746802   0.890982    0.682413   \n",
       "MPbio_TotCt    0.541130    0.798078   0.746065   0.888229    0.682768   \n",
       "MPtvo_Blank    0.039309    0.056768   0.025527  -0.270677    0.030490   \n",
       "MPtvo_Area     0.490850    0.622152   0.165877   0.505766   -0.829889   \n",
       "MPtvo_TotCt   -0.010620   -0.011598   0.194619   0.506762   -0.830734   \n",
       "Intra_Ct       0.787797    0.489033  -0.678686        NaN         NaN   \n",
       "Intra_Code     1.000000    0.691860  -0.039128  -0.170465   -0.433309   \n",
       "Extra_Code     0.691860    1.000000   0.463693        NaN         NaN   \n",
       "ELISA_KZO     -0.039128    0.463693   1.000000   0.963900    0.620955   \n",
       "ELISA_LNK     -0.170465         NaN   0.963900   1.000000    0.706071   \n",
       "Live_Titer    -0.433309         NaN   0.620955   0.706071    1.000000   \n",
       "VCD_OD         0.253008    0.929353   0.822339   0.790089    0.866064   \n",
       "RNA            0.381751    0.089894  -0.195724        NaN         NaN   \n",
       "gDNA/1mL       0.749367    0.744304  -0.805817        NaN         NaN   \n",
       "Antifoam            NaN         NaN        NaN        NaN         NaN   \n",
       "\n",
       "               VCD_OD       RNA  gDNA/1mL  Antifoam  \n",
       "DPI          0.958727 -0.123444  0.702237       NaN  \n",
       "Temp_C      -0.364863  0.130016  0.164139       NaN  \n",
       "Agitation   -0.360764 -0.089946 -0.269026       NaN  \n",
       "DO_pct      -0.644800  0.013532 -0.149384       NaN  \n",
       "pH_online   -0.769757  0.085701 -0.496685       NaN  \n",
       "pH_offline  -0.753275  0.030460 -0.593829       NaN  \n",
       "O₂_%sat     -0.407834  0.022853 -0.007434       NaN  \n",
       "CO₂_%sat    -0.633033  0.139728 -0.008124       NaN  \n",
       "L_Glut      -1.000000 -0.115538 -0.815734       NaN  \n",
       "Gluc        -0.745869  0.129989 -0.671177       NaN  \n",
       "Lact         0.746643 -0.252464  0.406646       NaN  \n",
       "Ammon        0.918370  0.181657  0.916097       NaN  \n",
       "Nuc_NonVi    0.868025  0.138365  0.806984       NaN  \n",
       "Nuc_TotCt    0.839233  0.404341  0.724789       NaN  \n",
       "Nuc_LiveCt   0.799744  0.417410  0.695121       NaN  \n",
       "Nuc_Viab    -0.587653  0.051129 -0.122846       NaN  \n",
       "MPbio_Blank -0.284832 -0.071535 -0.159191       NaN  \n",
       "MPbio_Area   0.956205  0.036493  0.850855       NaN  \n",
       "MPbio_TotCt  0.956162 -0.075884  0.851490       NaN  \n",
       "MPtvo_Blank  0.065759 -0.253025  0.330845       NaN  \n",
       "MPtvo_Area   0.489257 -0.103596  0.878662       NaN  \n",
       "MPtvo_TotCt  0.489553 -0.146718  0.877935       NaN  \n",
       "Intra_Ct          NaN -0.167157  0.672781       NaN  \n",
       "Intra_Code   0.253008  0.381751  0.749367       NaN  \n",
       "Extra_Code   0.929353  0.089894  0.744304       NaN  \n",
       "ELISA_KZO    0.822339 -0.195724 -0.805817       NaN  \n",
       "ELISA_LNK    0.790089       NaN       NaN       NaN  \n",
       "Live_Titer   0.866064       NaN       NaN       NaN  \n",
       "VCD_OD       1.000000       NaN       NaN       NaN  \n",
       "RNA               NaN  1.000000 -0.327823       NaN  \n",
       "gDNA/1mL          NaN -0.327823  1.000000       NaN  \n",
       "Antifoam          NaN       NaN       NaN       NaN  \n",
       "\n",
       "[32 rows x 32 columns]"
      ]
     },
     "execution_count": 145,
     "metadata": {},
     "output_type": "execute_result"
    }
   ],
   "source": [
    "# Look for correlations \n",
    "corrDF = vessel_data.corr()\n",
    "corrDF"
   ]
  },
  {
   "cell_type": "markdown",
   "metadata": {},
   "source": [
    "There are too many correlations to look through, so I will look specifically at the variables of interest:"
   ]
  },
  {
   "cell_type": "code",
   "execution_count": 146,
   "metadata": {},
   "outputs": [
    {
     "name": "stderr",
     "output_type": "stream",
     "text": [
      "C:\\ProgramData\\Anaconda3\\lib\\site-packages\\numpy\\lib\\function_base.py:2551: RuntimeWarning: Degrees of freedom <= 0 for slice\n",
      "  c = cov(x, y, rowvar)\n",
      "C:\\ProgramData\\Anaconda3\\lib\\site-packages\\numpy\\lib\\function_base.py:2480: RuntimeWarning: divide by zero encountered in true_divide\n",
      "  c *= np.true_divide(1, fact)\n"
     ]
    },
    {
     "data": {
      "text/plain": [
       "ELISA_KZO      1.000000\n",
       "ELISA_LNK      0.963900\n",
       "VCD_OD         0.822339\n",
       "MPbio_Area     0.746802\n",
       "MPbio_TotCt    0.746065\n",
       "Live_Titer     0.620955\n",
       "DPI            0.617539\n",
       "Intra_Ct      -0.678686\n",
       "gDNA/1mL      -0.805817\n",
       "dtype: float64"
      ]
     },
     "execution_count": 146,
     "metadata": {},
     "output_type": "execute_result"
    }
   ],
   "source": [
    "# Variables with ELISA_KZO correlation >0.5 (positive or negative)\n",
    "vessel_data.corrwith(vessel_data.ELISA_KZO)[abs(vessel_data.corrwith(vessel_data.ELISA_KZO)) > 0.5].sort_values(ascending=False)"
   ]
  },
  {
   "cell_type": "code",
   "execution_count": 147,
   "metadata": {},
   "outputs": [
    {
     "data": {
      "text/plain": [
       "MPbio_TotCt    1.000000\n",
       "MPbio_Area     0.972173\n",
       "VCD_OD         0.956162\n",
       "ELISA_LNK      0.888229\n",
       "Ammon          0.876583\n",
       "DPI            0.858668\n",
       "gDNA/1mL       0.851490\n",
       "Extra_Code     0.798078\n",
       "Nuc_NonVi      0.763418\n",
       "Nuc_TotCt      0.746729\n",
       "ELISA_KZO      0.746065\n",
       "Nuc_LiveCt     0.720506\n",
       "Live_Titer     0.682768\n",
       "MPtvo_Area     0.663341\n",
       "Intra_Code     0.541130\n",
       "L_Glut        -0.688426\n",
       "Gluc          -0.691065\n",
       "dtype: float64"
      ]
     },
     "execution_count": 147,
     "metadata": {},
     "output_type": "execute_result"
    }
   ],
   "source": [
    "# Variables with MPbio_TotCt correlation >0.5 (positive or negative)\n",
    "vessel_data.corrwith(vessel_data.MPbio_TotCt)[abs(vessel_data.corrwith(vessel_data.MPbio_TotCt)) > 0.5].sort_values(ascending=False)"
   ]
  },
  {
   "cell_type": "markdown",
   "metadata": {},
   "source": [
    "We've already determined that the ELISA_LNK variable is redundant and I know the MBbio_Area is used to calculate MPbio_TotCt, so it won't provide any additional information. I'll add the rest of the variables to a list for comparison. "
   ]
  },
  {
   "cell_type": "code",
   "execution_count": 148,
   "metadata": {},
   "outputs": [],
   "source": [
    "num_features = ['DPI', 'L_Glut', 'Gluc', 'Ammon', 'Nuc_NonVi', 'Nuc_TotCt', \n",
    "                'Nuc_LiveCt', 'MPbio_TotCt', 'MPtvo_TotCt', 'Intra_Ct', \n",
    "                'Intra_Code', 'Extra_Code', 'ELISA_KZO', 'Live_Titer', \n",
    "                'VCD_OD', 'RNA', 'gDNA/1mL']"
   ]
  },
  {
   "cell_type": "markdown",
   "metadata": {},
   "source": [
    "### Visualize Data"
   ]
  },
  {
   "cell_type": "code",
   "execution_count": 149,
   "metadata": {},
   "outputs": [],
   "source": [
    "from yellowbrick.features import Rank2D"
   ]
  },
  {
   "cell_type": "code",
   "execution_count": 150,
   "metadata": {},
   "outputs": [],
   "source": [
    "# Set up figure size\n",
    "%matplotlib inline\n",
    "plt.rcParams['figure.figsize'] = (15, 7)"
   ]
  },
  {
   "cell_type": "code",
   "execution_count": 151,
   "metadata": {},
   "outputs": [],
   "source": [
    "# Generate list of num type columns:\n",
    "colsTypes = list(zip(pearsDF.columns, pearsDF.dtypes))\n",
    "num_features = []\n",
    "for col, typ in colsTypes:\n",
    "    if typ == 'float64':\n",
    "        num_features.append(col)"
   ]
  },
  {
   "cell_type": "code",
   "execution_count": 152,
   "metadata": {},
   "outputs": [
    {
     "data": {
      "text/plain": [
       "(74, 39)"
      ]
     },
     "execution_count": 152,
     "metadata": {},
     "output_type": "execute_result"
    }
   ],
   "source": [
    "# Most features are missing some data, which doesn't work with the Pearson\n",
    "# calculation. Remove NaN's from some of the variables of interest\n",
    "pearsDF = vessel_data.copy()\n",
    "pearsDF = pearsDF[pearsDF.ELISA_KZO.notnull()]\n",
    "pearsDF = pearsDF[pearsDF.MPbio_TotCt.notnull()]\n",
    "pearsDF = pearsDF[pearsDF.Extra_Code.notnull()]\n",
    "pearsDF = pearsDF[pearsDF.Nuc_NonVi.notnull()]\n",
    "# See how much data is left\n",
    "pearsDF.shape"
   ]
  },
  {
   "cell_type": "code",
   "execution_count": 153,
   "metadata": {},
   "outputs": [
    {
     "name": "stderr",
     "output_type": "stream",
     "text": [
      "C:\\ProgramData\\Anaconda3\\lib\\site-packages\\matplotlib\\backends\\backend_agg.py:238: RuntimeWarning: Glyph 8322 missing from current font.\n",
      "  font.set_text(s, 0.0, flags=flags)\n",
      "C:\\ProgramData\\Anaconda3\\lib\\site-packages\\matplotlib\\backends\\backend_agg.py:201: RuntimeWarning: Glyph 8322 missing from current font.\n",
      "  font.set_text(s, 0, flags=flags)\n"
     ]
    },
    {
     "data": {
      "image/png": "[encoded data removed]",
      "text/plain": [
       "<Figure size 1080x504 with 2 Axes>"
      ]
     },
     "metadata": {
      "needs_background": "light"
     },
     "output_type": "display_data"
    },
    {
     "data": {
      "text/plain": [
       "<AxesSubplot:title={'center':'Pearson Ranking of 25 Features'}>"
      ]
     },
     "execution_count": 153,
     "metadata": {},
     "output_type": "execute_result"
    }
   ],
   "source": [
    "X = pearsDF[num_features].values\n",
    "\n",
    "# Instantiate the visualizer with the Covariance ranking algorithm\n",
    "visualizer = Rank2D(features=num_features, algorithm='pearson') # ‘pearson’, ‘covariance’, ‘spearman’, or ‘kendalltau’\n",
    "visualizer.fit(X)  # Fit the data to the visualizer\n",
    "visualizer.transform(X)  # Transform the data\n",
    "# visualizer.poof()  # Draw/show/poof the data\n",
    "visualizer.poof()#outpath='pcoords1.png') # Draw/show/poof the data\n",
    "# plt.show()"
   ]
  },
  {
   "cell_type": "code",
   "execution_count": 154,
   "metadata": {},
   "outputs": [],
   "source": [
    "# Remove blank columns from Pearson ranking chart\n",
    "num_features = ['Temp_C', 'Agitation', 'DO_pct', 'pH_online', 'pH_offline', \n",
    "                'Nuc_NonVi', 'Nuc_TotCt', 'Nuc_LiveCt', 'Nuc_Viab', \n",
    "                'MPbio_Blank', 'MPbio_Area', 'MPbio_TotCt', 'MPtvo_Blank', \n",
    "                'MPtvo_Area', 'MPtvo_TotCt', 'Intra_Code', 'Extra_Code', 'ELISA_KZO',]"
   ]
  },
  {
   "cell_type": "code",
   "execution_count": 155,
   "metadata": {},
   "outputs": [
    {
     "data": {
      "image/png": "[encoded data removed]",
      "text/plain": [
       "<Figure size 1080x504 with 2 Axes>"
      ]
     },
     "metadata": {
      "needs_background": "light"
     },
     "output_type": "display_data"
    },
    {
     "data": {
      "text/plain": [
       "<AxesSubplot:title={'center':'Pearson Ranking of 18 Features'}>"
      ]
     },
     "execution_count": 155,
     "metadata": {},
     "output_type": "execute_result"
    }
   ],
   "source": [
    "X = pearsDF[num_features].values\n",
    "\n",
    "# Instantiate the visualizer with the Covariance ranking algorithm\n",
    "visualizer = Rank2D(features=num_features, algorithm='pearson') # ‘pearson’, ‘covariance’, ‘spearman’, or ‘kendalltau’\n",
    "visualizer.fit(X)  # Fit the data to the visualizer\n",
    "visualizer.transform(X)  # Transform the data\n",
    "# visualizer.poof()  # Draw/show/poof the data\n",
    "visualizer.poof()#outpath='pcoords1.png') # Draw/show/poof the data\n",
    "# plt.show()"
   ]
  },
  {
   "cell_type": "markdown",
   "metadata": {},
   "source": [
    "### Good Batches Bad Batches"
   ]
  },
  {
   "cell_type": "code",
   "execution_count": 160,
   "metadata": {},
   "outputs": [
    {
     "data": {
      "text/plain": [
       "Batch\n",
       "381550PV    17020.0\n",
       "369697PV    15328.0\n",
       "476587PV    13182.0\n",
       "382576PV    12935.0\n",
       "484262PV    11367.0\n",
       "484261PV    11336.0\n",
       "375221PV    10686.0\n",
       "458161PV    10356.0\n",
       "471341PV     6746.0\n",
       "457597PV     6663.0\n",
       "459820PV        NaN\n",
       "484263PV        NaN\n",
       "Name: ELISA_KZO, dtype: float64"
      ]
     },
     "execution_count": 160,
     "metadata": {},
     "output_type": "execute_result"
    }
   ],
   "source": [
    "vessel_data.groupby('Batch')['ELISA_KZO'].max().sort_values(ascending=False)"
   ]
  },
  {
   "cell_type": "code",
   "execution_count": 161,
   "metadata": {},
   "outputs": [],
   "source": [
    "good_batches = ['381550PV', '369697PV', '476587PV', '382576PV']\n",
    "bad_batches = ['484262PV', '484261PV', '375221PV', '458161PV', '471341PV', '457597PV']"
   ]
  },
  {
   "cell_type": "code",
   "execution_count": null,
   "metadata": {},
   "outputs": [],
   "source": []
  },
  {
   "cell_type": "markdown",
   "metadata": {},
   "source": [
    "### Histograms"
   ]
  },
  {
   "cell_type": "code",
   "execution_count": 163,
   "metadata": {},
   "outputs": [
    {
     "name": "stdout",
     "output_type": "stream",
     "text": [
      "Batch\n",
      "Vessel\n",
      "DPI\n",
      "Date\n",
      "Time\n",
      "Temp_C\n",
      "Agitation\n",
      "DO_pct\n",
      "pH_online\n",
      "pH_offline\n",
      "O₂_%sat\n",
      "CO₂_%sat\n",
      "L_Glut\n",
      "Gluc\n",
      "Lact\n",
      "Ammon\n",
      "Nuc_NonVi\n",
      "Nuc_TotCt\n",
      "Nuc_LiveCt\n",
      "Nuc_Viab\n",
      "MPbio_Blank\n",
      "MPbio_Area\n",
      "MPbio_TotCt\n",
      "MPtvo_Blank\n",
      "MPtvo_Area\n",
      "MPtvo_TotCt\n",
      "Intra_Ct\n",
      "Micro_Intra\n",
      "Micro_Extra\n",
      "Micro_Comments\n",
      "Intra_Code\n",
      "Extra_Code\n",
      "ELISA_KZO\n",
      "ELISA_LNK\n",
      "Live_Titer\n",
      "VCD_OD\n",
      "RNA\n",
      "gDNA/1mL\n",
      "Antifoam\n"
     ]
    }
   ],
   "source": [
    "for i in vessel_data.columns:\n",
    "    "
   ]
  },
  {
   "cell_type": "code",
   "execution_count": 164,
   "metadata": {},
   "outputs": [
    {
     "data": {
      "text/plain": [
       "array([[<AxesSubplot:title={'center':'DPI'}>,\n",
       "        <AxesSubplot:title={'center':'Temp_C'}>,\n",
       "        <AxesSubplot:title={'center':'Agitation'}>,\n",
       "        <AxesSubplot:title={'center':'DO_pct'}>,\n",
       "        <AxesSubplot:title={'center':'pH_online'}>,\n",
       "        <AxesSubplot:title={'center':'pH_offline'}>],\n",
       "       [<AxesSubplot:title={'center':'O₂_%sat'}>,\n",
       "        <AxesSubplot:title={'center':'CO₂_%sat'}>,\n",
       "        <AxesSubplot:title={'center':'L_Glut'}>,\n",
       "        <AxesSubplot:title={'center':'Gluc'}>,\n",
       "        <AxesSubplot:title={'center':'Lact'}>,\n",
       "        <AxesSubplot:title={'center':'Ammon'}>],\n",
       "       [<AxesSubplot:title={'center':'Nuc_NonVi'}>,\n",
       "        <AxesSubplot:title={'center':'Nuc_TotCt'}>,\n",
       "        <AxesSubplot:title={'center':'Nuc_LiveCt'}>,\n",
       "        <AxesSubplot:title={'center':'Nuc_Viab'}>,\n",
       "        <AxesSubplot:title={'center':'MPbio_Blank'}>,\n",
       "        <AxesSubplot:title={'center':'MPbio_Area'}>],\n",
       "       [<AxesSubplot:title={'center':'MPbio_TotCt'}>,\n",
       "        <AxesSubplot:title={'center':'MPtvo_Blank'}>,\n",
       "        <AxesSubplot:title={'center':'MPtvo_Area'}>,\n",
       "        <AxesSubplot:title={'center':'MPtvo_TotCt'}>,\n",
       "        <AxesSubplot:title={'center':'Intra_Ct'}>,\n",
       "        <AxesSubplot:title={'center':'Intra_Code'}>],\n",
       "       [<AxesSubplot:title={'center':'Extra_Code'}>,\n",
       "        <AxesSubplot:title={'center':'ELISA_KZO'}>,\n",
       "        <AxesSubplot:title={'center':'ELISA_LNK'}>,\n",
       "        <AxesSubplot:title={'center':'Live_Titer'}>,\n",
       "        <AxesSubplot:title={'center':'VCD_OD'}>,\n",
       "        <AxesSubplot:title={'center':'RNA'}>],\n",
       "       [<AxesSubplot:title={'center':'gDNA/1mL'}>,\n",
       "        <AxesSubplot:title={'center':'Antifoam'}>, <AxesSubplot:>,\n",
       "        <AxesSubplot:>, <AxesSubplot:>, <AxesSubplot:>]], dtype=object)"
      ]
     },
     "execution_count": 164,
     "metadata": {},
     "output_type": "execute_result"
    },
    {
     "name": "stderr",
     "output_type": "stream",
     "text": [
      "C:\\ProgramData\\Anaconda3\\lib\\site-packages\\matplotlib\\backends\\backend_agg.py:238: RuntimeWarning: Glyph 8322 missing from current font.\n",
      "  font.set_text(s, 0.0, flags=flags)\n",
      "C:\\ProgramData\\Anaconda3\\lib\\site-packages\\matplotlib\\backends\\backend_agg.py:201: RuntimeWarning: Glyph 8322 missing from current font.\n",
      "  font.set_text(s, 0, flags=flags)\n"
     ]
    },
    {
     "data": {
      "image/png": "[encoded data removed]",
      "text/plain": [
       "<Figure size 1080x504 with 36 Axes>"
      ]
     },
     "metadata": {
      "needs_background": "light"
     },
     "output_type": "display_data"
    }
   ],
   "source": [
    "vessel_data.hist()"
   ]
  },
  {
   "cell_type": "code",
   "execution_count": null,
   "metadata": {},
   "outputs": [],
   "source": []
  },
  {
   "cell_type": "code",
   "execution_count": 170,
   "metadata": {},
   "outputs": [],
   "source": [
    "def make_histograms():\n",
    "    # Make subplots\n",
    "    fig, axes = plt.subplots(nrows=2, ncols=2)\n",
    "\n",
    "    # Draw histrograms\n",
    "    axes = axes.ravel()\n",
    "    for idx, ax in enumerate(axes):\n",
    "        ax.hist(df[num_features[idx]].dropna(), bins=20)\n",
    "        ax.set_xlabel(xAxes[idx], fontsize=15)\n",
    "        ax.set_ylabel(yAxes[idx], fontsize=15)\n",
    "        ax.tick_params(axis='both', labelsize=10)\n",
    "\n",
    "    plt.show()"
   ]
  },
  {
   "cell_type": "code",
   "execution_count": 191,
   "metadata": {},
   "outputs": [
    {
     "data": {
      "text/plain": [
       "Text(0.5, 1.0, 'Sampling Days')"
      ]
     },
     "execution_count": 191,
     "metadata": {},
     "output_type": "execute_result"
    },
    {
     "data": {
      "image/png": "[encoded data removed]",
      "text/plain": [
       "<Figure size 1080x504 with 1 Axes>"
      ]
     },
     "metadata": {
      "needs_background": "light"
     },
     "output_type": "display_data"
    }
   ],
   "source": [
    "vessel_data.DPI.hist()\n",
    "plt.xlabel(\"Days Post Inoculation (DPI)\", fontsize=20)\n",
    "plt.ylabel(\"Counts\", fontsize=20)\n",
    "plt.title(\"Sampling Days\", fontsize=30)"
   ]
  },
  {
   "cell_type": "code",
   "execution_count": 171,
   "metadata": {},
   "outputs": [
    {
     "data": {
      "image/png": "[encoded data removed]",
      "text/plain": [
       "<Figure size 1080x504 with 4 Axes>"
      ]
     },
     "metadata": {
      "needs_background": "light"
     },
     "output_type": "display_data"
    }
   ],
   "source": [
    "# Specify the features of interest\n",
    "num_features = ['Nuc_NonVi', 'Nuc_TotCt', 'Nuc_LiveCt', 'Nuc_Viab']\n",
    "xAxes = ['Non-Viable Nucleocounts', 'Total Nucleocounts', 'Live Nucleocounts', 'Percent Viability']\n",
    "yAxes = ['Counts'] * 4\n",
    "\n",
    "make_histograms()"
   ]
  },
  {
   "cell_type": "code",
   "execution_count": 172,
   "metadata": {},
   "outputs": [
    {
     "data": {
      "image/png": "[encoded data removed]",
      "text/plain": [
       "<Figure size 1080x504 with 4 Axes>"
      ]
     },
     "metadata": {
      "needs_background": "light"
     },
     "output_type": "display_data"
    }
   ],
   "source": [
    "# Specify the features of interest\n",
    "num_features = ['MPbio_TotCt', 'MPtvo_TotCt', 'Intra_Code', 'Extra_Code']\n",
    "xAxes = ['Total Biomass', 'Total Viable Organisms', 'Microscope: Intracellular', 'Microscope: Extracellular']\n",
    "yAxes = ['Counts'] * 4\n",
    "\n",
    "make_histograms()"
   ]
  },
  {
   "cell_type": "code",
   "execution_count": 178,
   "metadata": {},
   "outputs": [
    {
     "data": {
      "text/plain": [
       "Text(0, 0.5, 'Counts')"
      ]
     },
     "execution_count": 178,
     "metadata": {},
     "output_type": "execute_result"
    },
    {
     "data": {
      "image/png": "[encoded data removed]",
      "text/plain": [
       "<Figure size 1080x504 with 1 Axes>"
      ]
     },
     "metadata": {
      "needs_background": "light"
     },
     "output_type": "display_data"
    }
   ],
   "source": [
    "vessel_data.ELISA_KZO.hist()\n",
    "plt.xlabel(\"ELISA Values\", fontsize=20)\n",
    "plt.ylabel(\"Counts\", fontsize=20)"
   ]
  },
  {
   "cell_type": "code",
   "execution_count": 180,
   "metadata": {},
   "outputs": [
    {
     "data": {
      "image/png": "[encoded data removed]",
      "text/plain": [
       "<Figure size 1080x504 with 4 Axes>"
      ]
     },
     "metadata": {
      "needs_background": "light"
     },
     "output_type": "display_data"
    }
   ],
   "source": [
    "# Specify the features of interest\n",
    "num_features = ['Live_Titer', 'VCD_OD', 'RNA', 'gDNA/1mL']\n",
    "xAxes = ['Live Titer', 'Capacitance (OD)', 'RNA', 'gDNA / mL']\n",
    "yAxes = ['Counts'] * 4\n",
    "\n",
    "make_histograms()"
   ]
  },
  {
   "cell_type": "code",
   "execution_count": 173,
   "metadata": {},
   "outputs": [
    {
     "data": {
      "text/plain": [
       "Index(['Batch', 'Vessel', 'DPI', 'Date', 'Time', 'Temp_C', 'Agitation',\n",
       "       'DO_pct', 'pH_online', 'pH_offline', 'O₂_%sat', 'CO₂_%sat', 'L_Glut',\n",
       "       'Gluc', 'Lact', 'Ammon', 'Nuc_NonVi', 'Nuc_TotCt', 'Nuc_LiveCt',\n",
       "       'Nuc_Viab', 'MPbio_Blank', 'MPbio_Area', 'MPbio_TotCt', 'MPtvo_Blank',\n",
       "       'MPtvo_Area', 'MPtvo_TotCt', 'Intra_Ct', 'Micro_Intra', 'Micro_Extra',\n",
       "       'Micro_Comments', 'Intra_Code', 'Extra_Code', 'ELISA_KZO', 'ELISA_LNK',\n",
       "       'Live_Titer', 'VCD_OD', 'RNA', 'gDNA/1mL', 'Antifoam'],\n",
       "      dtype='object')"
      ]
     },
     "execution_count": 173,
     "metadata": {},
     "output_type": "execute_result"
    }
   ],
   "source": [
    "vessel_data.columns"
   ]
  },
  {
   "cell_type": "markdown",
   "metadata": {},
   "source": [
    "### Scatterplots"
   ]
  },
  {
   "cell_type": "code",
   "execution_count": 196,
   "metadata": {},
   "outputs": [
    {
     "data": {
      "text/plain": [
       "<seaborn.axisgrid.FacetGrid at 0x1a55591deb0>"
      ]
     },
     "execution_count": 196,
     "metadata": {},
     "output_type": "execute_result"
    },
    {
     "data": {
      "image/png": "[encoded data removed]",
      "text/plain": [
       "<Figure size 360x360 with 1 Axes>"
      ]
     },
     "metadata": {
      "needs_background": "light"
     },
     "output_type": "display_data"
    }
   ],
   "source": [
    "x = 'DPI' \n",
    "y = 'ELISA_KZO'\n",
    "data = vessel_data\n",
    "sns.lmplot(x=x, y=y, data=data, x_jitter=0.5)"
   ]
  },
  {
   "cell_type": "code",
   "execution_count": 197,
   "metadata": {},
   "outputs": [
    {
     "data": {
      "text/plain": [
       "<seaborn.axisgrid.FacetGrid at 0x1a556ae8790>"
      ]
     },
     "execution_count": 197,
     "metadata": {},
     "output_type": "execute_result"
    },
    {
     "data": {
      "image/png": "[encoded data removed]",
      "text/plain": [
       "<Figure size 360x360 with 1 Axes>"
      ]
     },
     "metadata": {
      "needs_background": "light"
     },
     "output_type": "display_data"
    }
   ],
   "source": [
    "x = 'DPI' \n",
    "y = 'MPbio_TotCt'\n",
    "data = vessel_data\n",
    "sns.lmplot(x=x, y=y, data=data, x_jitter=0.5)"
   ]
  },
  {
   "cell_type": "code",
   "execution_count": 235,
   "metadata": {},
   "outputs": [
    {
     "data": {
      "text/plain": [
       "Text(0, 0.5, 'gDNA/mL')"
      ]
     },
     "execution_count": 235,
     "metadata": {},
     "output_type": "execute_result"
    },
    {
     "data": {
      "image/png": "[encoded data removed]",
      "text/plain": [
       "<Figure size 1080x504 with 6 Axes>"
      ]
     },
     "metadata": {
      "needs_background": "light"
     },
     "output_type": "display_data"
    }
   ],
   "source": [
    "# Make subplots\n",
    "fig, axes = plt.subplots(nrows=3, ncols=2, sharex=True)\n",
    "fig.suptitle(\"Variables over Time\", fontsize=25)\n",
    "\n",
    "data = vessel_data\n",
    "x = 'DPI'\n",
    "\n",
    "# Plot 1\n",
    "sns.scatterplot(ax=axes[0, 0], x=x, y='Intra_Ct', data=data, x_jitter=0.5)\n",
    "axes[0, 0].set_ylabel(\"Intracellular\", fontsize=15)\n",
    "\n",
    "# Plot 2\n",
    "sns.scatterplot(ax=axes[0, 1], x=x, y='MPbio_TotCt', data=data, x_jitter=0.5)\n",
    "axes[0, 1].set_ylabel(\"Biomass\", fontsize=15)\n",
    "\n",
    "# Plot 3\n",
    "sns.scatterplot(ax=axes[1, 0], x=x, y='VCD_OD', data=data, x_jitter=0.5)\n",
    "axes[1, 0].set_ylabel(\"Capacitance (OD)\", fontsize=15)\n",
    "\n",
    "# Plot 4\n",
    "sns.scatterplot(ax=axes[1, 1], x=x, y='Live_Titer', data=data, x_jitter=0.5)\n",
    "axes[1, 1].set_ylabel(\"Live Titer\", fontsize=15)\n",
    "\n",
    "# Plot 4\n",
    "sns.scatterplot(ax=axes[2, 0], x=x, y='RNA', data=data, x_jitter=0.5)\n",
    "axes[2, 0].set_ylabel(\"RNA\", fontsize=15)\n",
    "\n",
    "# Plot 5\n",
    "sns.scatterplot(ax=axes[2, 1], x=x, y='gDNA/1mL', data=data, x_jitter=0.5)\n",
    "axes[2, 1].set_ylabel(\"gDNA/mL\", fontsize=15)\n"
   ]
  },
  {
   "cell_type": "code",
   "execution_count": null,
   "metadata": {},
   "outputs": [],
   "source": []
  },
  {
   "cell_type": "code",
   "execution_count": 229,
   "metadata": {},
   "outputs": [
    {
     "data": {
      "text/plain": [
       "RNA            1.000000\n",
       "Nuc_LiveCt     0.417410\n",
       "Nuc_TotCt      0.404341\n",
       "Intra_Code     0.381751\n",
       "Ammon          0.181657\n",
       "CO₂_%sat       0.139728\n",
       "Nuc_NonVi      0.138365\n",
       "Temp_C         0.130016\n",
       "Gluc           0.129989\n",
       "Extra_Code     0.089894\n",
       "pH_online      0.085701\n",
       "Nuc_Viab       0.051129\n",
       "MPbio_Area     0.036493\n",
       "pH_offline     0.030460\n",
       "O₂_%sat        0.022853\n",
       "DO_pct         0.013532\n",
       "MPbio_Blank   -0.071535\n",
       "MPbio_TotCt   -0.075884\n",
       "Agitation     -0.089946\n",
       "MPtvo_Area    -0.103596\n",
       "L_Glut        -0.115538\n",
       "DPI           -0.123444\n",
       "MPtvo_TotCt   -0.146718\n",
       "Intra_Ct      -0.167157\n",
       "ELISA_KZO     -0.195724\n",
       "Lact          -0.252464\n",
       "MPtvo_Blank   -0.253025\n",
       "gDNA/1mL      -0.327823\n",
       "ELISA_LNK           NaN\n",
       "Live_Titer          NaN\n",
       "VCD_OD              NaN\n",
       "Antifoam            NaN\n",
       "dtype: float64"
      ]
     },
     "execution_count": 229,
     "metadata": {},
     "output_type": "execute_result"
    }
   ],
   "source": [
    "vessel_data.corrwith(vessel_data.RNA).sort_values(ascending=False)"
   ]
  },
  {
   "cell_type": "code",
   "execution_count": 236,
   "metadata": {},
   "outputs": [
    {
     "name": "stderr",
     "output_type": "stream",
     "text": [
      "C:\\ProgramData\\Anaconda3\\lib\\site-packages\\numpy\\lib\\function_base.py:2551: RuntimeWarning: Degrees of freedom <= 0 for slice\n",
      "  c = cov(x, y, rowvar)\n",
      "C:\\ProgramData\\Anaconda3\\lib\\site-packages\\numpy\\lib\\function_base.py:2480: RuntimeWarning: divide by zero encountered in true_divide\n",
      "  c *= np.true_divide(1, fact)\n"
     ]
    },
    {
     "data": {
      "text/plain": [
       "ELISA_KZO      1.000000\n",
       "ELISA_LNK      0.963900\n",
       "VCD_OD         0.822339\n",
       "MPbio_Area     0.746802\n",
       "MPbio_TotCt    0.746065\n",
       "Live_Titer     0.620955\n",
       "DPI            0.617539\n",
       "Ammon          0.474429\n",
       "Extra_Code     0.463693\n",
       "Nuc_NonVi      0.441810\n",
       "MPtvo_TotCt    0.194619\n",
       "MPtvo_Area     0.165877\n",
       "Nuc_TotCt      0.130641\n",
       "pH_online      0.114055\n",
       "Nuc_LiveCt     0.081237\n",
       "Temp_C         0.073257\n",
       "DO_pct         0.073006\n",
       "pH_offline     0.028297\n",
       "MPtvo_Blank    0.025527\n",
       "Lact          -0.022650\n",
       "Agitation     -0.037613\n",
       "Intra_Code    -0.039128\n",
       "MPbio_Blank   -0.042698\n",
       "CO₂_%sat      -0.111561\n",
       "O₂_%sat       -0.153240\n",
       "RNA           -0.195724\n",
       "Gluc          -0.251983\n",
       "Nuc_Viab      -0.387428\n",
       "L_Glut        -0.417699\n",
       "Intra_Ct      -0.678686\n",
       "gDNA/1mL      -0.805817\n",
       "Antifoam            NaN\n",
       "dtype: float64"
      ]
     },
     "execution_count": 236,
     "metadata": {},
     "output_type": "execute_result"
    }
   ],
   "source": [
    "vessel_data.corrwith(vessel_data['ELISA_KZO']).sort_values(ascending=False)"
   ]
  },
  {
   "cell_type": "code",
   "execution_count": null,
   "metadata": {},
   "outputs": [],
   "source": []
  }
 ],
 "metadata": {
  "kernelspec": {
   "display_name": "Python 3",
   "language": "python",
   "name": "python3"
  },
  "language_info": {
   "codemirror_mode": {
    "name": "ipython",
    "version": 3
   },
   "file_extension": ".py",
   "mimetype": "text/x-python",
   "name": "python",
   "nbconvert_exporter": "python",
   "pygments_lexer": "ipython3",
   "version": "3.8.5"
  }
 },
 "nbformat": 4,
 "nbformat_minor": 4
}
