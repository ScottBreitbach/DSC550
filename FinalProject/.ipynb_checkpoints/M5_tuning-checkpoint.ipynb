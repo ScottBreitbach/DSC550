{
 "cells": [
  {
   "cell_type": "code",
   "execution_count": null,
   "id": "9fbc622d-09de-44ee-80d6-9ea036dac4b9",
   "metadata": {},
   "outputs": [],
   "source": []
  },
  {
   "cell_type": "code",
   "execution_count": 1,
   "id": "df5ac69b-d25b-4bb6-860c-979aa53943be",
   "metadata": {},
   "outputs": [
    {
     "name": "stderr",
     "output_type": "stream",
     "text": [
      "C:\\ProgramData\\Anaconda3\\lib\\site-packages\\numpy\\_distributor_init.py:30: UserWarning: loaded more than 1 DLL from .libs:\n",
      "C:\\ProgramData\\Anaconda3\\lib\\site-packages\\numpy\\.libs\\libopenblas.NOIJJG62EMASZI6NYURL6JBKM4EVBGM7.gfortran-win_amd64.dll\n",
      "C:\\ProgramData\\Anaconda3\\lib\\site-packages\\numpy\\.libs\\libopenblas.WCDJNK7YVMPZQ2ME2ZZHJJRJ3JIKNDB7.gfortran-win_amd64.dll\n",
      "  warnings.warn(\"loaded more than 1 DLL from .libs:\"\n"
     ]
    }
   ],
   "source": [
    "# Load Libraries\n",
    "import pandas as pd\n",
    "import numpy as np\n",
    "\n",
    "# Set random seed\n",
    "np.random.seed(42)"
   ]
  },
  {
   "cell_type": "markdown",
   "id": "8222dfd6-0143-458a-848b-c1ea40d2f788",
   "metadata": {},
   "source": [
    "### Load Data"
   ]
  },
  {
   "cell_type": "code",
   "execution_count": 2,
   "id": "8cbb1a98-af34-4e45-90f0-17fba03ad656",
   "metadata": {},
   "outputs": [],
   "source": [
    "# Load data to a DataFrame\n",
    "beanDF = pd.read_excel('DryBeanDataset/Dry_Bean_Dataset.xlsx')"
   ]
  },
  {
   "cell_type": "code",
   "execution_count": 29,
   "id": "344f571e-2bae-4d39-a728-fc649d04a7ea",
   "metadata": {},
   "outputs": [],
   "source": [
    "# Drop least useful features\n",
    "beanDF.drop(columns=['Extent', 'Solidity', 'Eccentricity', 'ShapeFactor3'], inplace=True)"
   ]
  },
  {
   "cell_type": "markdown",
   "id": "a8dcfb84-adc0-4f3b-8f8c-84e0bc041471",
   "metadata": {},
   "source": [
    "## Model Selection & Evaluation\n",
    "Used GridSearchCV or RandomizedSearchCV to find the best hyperparameters for each modeling type"
   ]
  },
  {
   "cell_type": "markdown",
   "id": "0cf9f25d-e839-4b2b-9303-88be348d2b02",
   "metadata": {},
   "source": [
    "### Split Training and Testing Data"
   ]
  },
  {
   "cell_type": "code",
   "execution_count": 35,
   "id": "9ba0b605-f32e-4668-abd1-edbc8c93800d",
   "metadata": {},
   "outputs": [],
   "source": [
    "# Set up features target sets\n",
    "X = beanDF[beanDF.columns[:-1]]\n",
    "y = beanDF.Class\n",
    "\n",
    "# Split the data\n",
    "X_train, X_test, y_train, y_test = train_test_split(X, y, test_size =0.3, \n",
    "                                                    random_state=42)\n",
    "\n",
    "# Standardize Features\n",
    "scaler = StandardScaler()\n",
    "X_train = scaler.fit_transform(X_train) \n",
    "X_test  = scaler.transform(X_test)"
   ]
  },
  {
   "cell_type": "code",
   "execution_count": 37,
   "id": "5bb12856-88a1-41d0-8b83-f2f3d85ba978",
   "metadata": {},
   "outputs": [],
   "source": [
    "# Set up dictionary for model results\n",
    "models_dict = {}"
   ]
  },
  {
   "cell_type": "markdown",
   "id": "0db1e1ff-1497-44c3-bf7e-da10a7c86c55",
   "metadata": {},
   "source": [
    "### Logistic Regression"
   ]
  },
  {
   "cell_type": "code",
   "execution_count": 38,
   "id": "347306d1-1c53-4bbb-ab1e-e50e49a5a9b8",
   "metadata": {},
   "outputs": [],
   "source": [
    "# Load libraries\n",
    "from sklearn.linear_model import LogisticRegression\n",
    "\n",
    "# Create classification model\n",
    "logistic = LogisticRegression(C=100000, \n",
    "                              multi_class='ovr', \n",
    "                              penalty='l2', \n",
    "                              solver='liblinear', \n",
    "                              class_weight='balanced', \n",
    "                              random_state=42, \n",
    "                              max_iter=200)"
   ]
  },
  {
   "cell_type": "code",
   "execution_count": 39,
   "id": "4672ff31-ede0-4045-8c49-39a36429706e",
   "metadata": {},
   "outputs": [],
   "source": [
    "# Fit model\n",
    "models_dict['Logistic'] = logistic.fit(X_train, y_train)"
   ]
  },
  {
   "cell_type": "markdown",
   "id": "1f5f2936-1a61-4739-8467-6baa2a4a92b5",
   "metadata": {},
   "source": [
    "### Random Forest"
   ]
  },
  {
   "cell_type": "code",
   "execution_count": 40,
   "id": "0cbb75f4-360d-495b-a87b-b1bba6f41b39",
   "metadata": {},
   "outputs": [],
   "source": [
    "# Load libraries\n",
    "from sklearn.ensemble import RandomForestClassifier\n",
    "\n",
    "# Create classification model\n",
    "rfclassifier = RandomForestClassifier(criterion='entropy', \n",
    "                                      max_features='sqrt', \n",
    "                                      n_estimators=100, \n",
    "                                      random_state=42,\n",
    "                                      class_weight='balanced', \n",
    "                                      n_jobs=-1)"
   ]
  },
  {
   "cell_type": "code",
   "execution_count": 41,
   "id": "4dd31c23-f652-492b-b4bb-3e2140c79179",
   "metadata": {},
   "outputs": [],
   "source": [
    "# Fit model\n",
    "models_dict['RandomForest'] = rfclassifier.fit(X_train, y_train)"
   ]
  },
  {
   "cell_type": "markdown",
   "id": "577098f5-21a8-4949-bc7c-494628f40d9a",
   "metadata": {},
   "source": [
    "### Decision Tree"
   ]
  },
  {
   "cell_type": "code",
   "execution_count": 42,
   "id": "618bf8ec-7531-4108-9a30-633f38c88b32",
   "metadata": {},
   "outputs": [],
   "source": [
    "# Load libraries\n",
    "from sklearn.tree import DecisionTreeClassifier\n",
    "\n",
    "# Create classification model\n",
    "decisiontree = DecisionTreeClassifier(criterion='entropy', \n",
    "                                      max_features='sqrt', \n",
    "                                      splitter='best', \n",
    "                                      random_state=42, \n",
    "                                      class_weight='balanced')"
   ]
  },
  {
   "cell_type": "code",
   "execution_count": 43,
   "id": "07056142-b041-40b4-a6cf-d5dd70f5f666",
   "metadata": {},
   "outputs": [],
   "source": [
    "# Fit model\n",
    "models_dict['DecisionTree'] = decisiontree.fit(X_train, y_train)"
   ]
  },
  {
   "cell_type": "markdown",
   "id": "1c9b63cf-685a-4016-94a9-b54c28418d68",
   "metadata": {},
   "source": [
    "### AdaBoost"
   ]
  },
  {
   "cell_type": "code",
   "execution_count": 44,
   "id": "7b16351f-990b-4ef6-8dd4-e6a20bd410ae",
   "metadata": {},
   "outputs": [],
   "source": [
    "# Load libraries\n",
    "from sklearn.ensemble import AdaBoostClassifier\n",
    "\n",
    "# Create classification model\n",
    "adaboost = AdaBoostClassifier(algorithm='SAMME', \n",
    "                              n_estimators=100, \n",
    "                              random_state=42)"
   ]
  },
  {
   "cell_type": "code",
   "execution_count": 45,
   "id": "6916435e-6ec3-428b-a9c4-0f91b55c638c",
   "metadata": {},
   "outputs": [],
   "source": [
    "# Fit model\n",
    "models_dict['AdaBoost'] = adaboost.fit(X_train, y_train)"
   ]
  },
  {
   "cell_type": "markdown",
   "id": "9b816732-79e6-4cca-9a42-6fc4dbbc62df",
   "metadata": {},
   "source": [
    "### Support Vector Classifier (Linear)"
   ]
  },
  {
   "cell_type": "code",
   "execution_count": 46,
   "id": "00898f58-b980-4585-baab-90544e4cefc7",
   "metadata": {},
   "outputs": [],
   "source": [
    "# Load libraries\n",
    "from sklearn.svm import LinearSVC\n",
    "\n",
    "# Create classification model\n",
    "linSVC = LinearSVC(C=178, \n",
    "                   loss='hinge', \n",
    "                   multi_class='crammer_singer', \n",
    "                   penalty='l1', \n",
    "                   random_state=42, \n",
    "                   dual=False, \n",
    "                   class_weight='balanced', \n",
    "                   max_iter=1000000)"
   ]
  },
  {
   "cell_type": "code",
   "execution_count": 47,
   "id": "6216f532-4390-49a2-ae2d-1d5a9d15f734",
   "metadata": {},
   "outputs": [],
   "source": [
    "# Fit model\n",
    "models_dict['LinearSVC'] = linSVC.fit(X_train, y_train)"
   ]
  },
  {
   "cell_type": "markdown",
   "id": "7e31905a-884e-4c95-9711-88742dac2dcf",
   "metadata": {},
   "source": [
    "### Support Vector Classifier (SVC)"
   ]
  },
  {
   "cell_type": "code",
   "execution_count": 48,
   "id": "0314b48f-8cce-4613-b975-ce6c46e889fa",
   "metadata": {},
   "outputs": [],
   "source": [
    "# Load libraries\n",
    "from sklearn.svm import SVC\n",
    "\n",
    "# Create classification model\n",
    "svc = SVC(C=32, \n",
    "          decision_function_shape='ovo', \n",
    "          gamma='scale', \n",
    "          kernel='rbf', \n",
    "          shrinking=True, \n",
    "          random_state=42, \n",
    "          class_weight='balanced', \n",
    "          max_iter=5000)"
   ]
  },
  {
   "cell_type": "code",
   "execution_count": 49,
   "id": "34d9b559-037b-4e1b-9f69-8e1ff5e59031",
   "metadata": {},
   "outputs": [],
   "source": [
    "# Fit model\n",
    "models_dict['SVC'] = svc.fit(X_train, y_train)"
   ]
  },
  {
   "cell_type": "markdown",
   "id": "a9749d95-6c1c-44b1-b936-db91b3341007",
   "metadata": {},
   "source": [
    "### MLPClassifier"
   ]
  },
  {
   "cell_type": "code",
   "execution_count": 54,
   "id": "a97b9ae7-fb4c-487d-b66b-f3c664333812",
   "metadata": {},
   "outputs": [],
   "source": [
    "# Load libraries\n",
    "from sklearn.neural_network import MLPClassifier\n",
    "\n",
    "# Create classification model\n",
    "mlp = MLPClassifier(max_iter=5000, \n",
    "                    activation='relu', \n",
    "                    alpha=0.00025,\n",
    "                    hidden_layer_sizes=(77, 73, 54),\n",
    "                    learning_rate='constant', \n",
    "                    solver='adam')"
   ]
  },
  {
   "cell_type": "code",
   "execution_count": 55,
   "id": "aff3f16d-7efd-42ea-8638-c91397cca8d3",
   "metadata": {},
   "outputs": [],
   "source": [
    "# Fit model\n",
    "models_dict['MLP'] = mlp.fit(X_train, y_train)"
   ]
  },
  {
   "cell_type": "markdown",
   "id": "7c08df29-6425-451d-b9d1-bae5a0616b7f",
   "metadata": {},
   "source": [
    "## Neural Network - Keras"
   ]
  },
  {
   "cell_type": "code",
   "execution_count": 50,
   "id": "fe21bb0b-7a16-4ec9-8a51-bda87e9fb5cc",
   "metadata": {},
   "outputs": [],
   "source": [
    "# Load libraries\n",
    "import numpy as np\n",
    "from keras.models import Sequential\n",
    "from keras.layers import Dense"
   ]
  },
  {
   "cell_type": "code",
   "execution_count": 51,
   "id": "11146a8b-7f28-4ce2-888e-cb21393cfddc",
   "metadata": {},
   "outputs": [],
   "source": [
    "# Encode the target variables\n",
    "le = LabelEncoder()\n",
    "le.fit(y)\n",
    "\n",
    "le_y_train = le.transform(y_train)\n",
    "le_y_test  = le.transform(y_test)\n",
    "\n",
    "from keras.utils.np_utils import to_categorical\n",
    "cat_y_train = to_categorical(le_y_train)\n",
    "cat_y_test  = to_categorical(le_y_test)"
   ]
  },
  {
   "cell_type": "markdown",
   "id": "bd34ff22-2755-4138-b9a5-df43a11b581e",
   "metadata": {},
   "source": [
    "# NOTE: Add dropout? (see M5_test2) "
   ]
  },
  {
   "cell_type": "code",
   "execution_count": 52,
   "id": "9ace0396-902c-4c74-b02f-46f48712f245",
   "metadata": {},
   "outputs": [],
   "source": [
    "# Set the number of features\n",
    "number_of_features = X.shape[1]\n",
    "\n",
    "# Start neural network\n",
    "network = Sequential()\n",
    "\n",
    "# Add fully connected layer w/a ReLU activation function\n",
    "network.add(Dense(units=100, activation='relu', \n",
    "                  input_shape=(number_of_features,)))\n",
    "\n",
    "# Add fully connected layer w/a ReLU activation function\n",
    "network.add(Dense(units=100, activation='relu'))\n",
    "\n",
    "# Add fully connected layer w/a softmax activation function\n",
    "network.add(Dense(units=7, activation='softmax'))\n",
    "\n",
    "# Compile neural network\n",
    "network.compile(loss='categorical_crossentropy', \n",
    "                optimizer='adam', \n",
    "                metrics=['accuracy'])"
   ]
  },
  {
   "cell_type": "code",
   "execution_count": 53,
   "id": "c3fa91ee-435f-4f8d-99b3-54c315c0427e",
   "metadata": {},
   "outputs": [
    {
     "name": "stdout",
     "output_type": "stream",
     "text": [
      "Epoch 1/3\n",
      "96/96 [==============================] - 2s 10ms/step - loss: 1.1955 - accuracy: 0.6447 - val_loss: 0.2876 - val_accuracy: 0.9148\n",
      "Epoch 2/3\n",
      "96/96 [==============================] - 0s 3ms/step - loss: 0.2717 - accuracy: 0.9134 - val_loss: 0.2173 - val_accuracy: 0.9216\n",
      "Epoch 3/3\n",
      "96/96 [==============================] - 0s 3ms/step - loss: 0.2228 - accuracy: 0.9201 - val_loss: 0.2080 - val_accuracy: 0.9238\n"
     ]
    }
   ],
   "source": [
    "# Fit model\n",
    "history = network.fit(X_train, cat_y_train, \n",
    "                      epochs=3, \n",
    "                      batch_size=100, \n",
    "                      validation_data=(X_test, cat_y_test))"
   ]
  },
  {
   "cell_type": "markdown",
   "id": "31044e47-ca70-4ff4-a8dd-ffaed6104d18",
   "metadata": {},
   "source": [
    "Note: I'm not adding this one to the dictionary of methods because I had to categorize my target variable."
   ]
  },
  {
   "cell_type": "code",
   "execution_count": null,
   "id": "8c116543-8d31-424c-8e15-6e09a42aa4f4",
   "metadata": {},
   "outputs": [],
   "source": []
  },
  {
   "cell_type": "markdown",
   "id": "1bf60846-bce0-4e0c-906c-ba116c74c45b",
   "metadata": {},
   "source": [
    "## Compare Accuracies"
   ]
  },
  {
   "cell_type": "code",
   "execution_count": 93,
   "id": "7cab9ca6-763b-4469-9715-ed81af9a5bf1",
   "metadata": {},
   "outputs": [
    {
     "data": {
      "text/html": [
       "<div>\n",
       "<style scoped>\n",
       "    .dataframe tbody tr th:only-of-type {\n",
       "        vertical-align: middle;\n",
       "    }\n",
       "\n",
       "    .dataframe tbody tr th {\n",
       "        vertical-align: top;\n",
       "    }\n",
       "\n",
       "    .dataframe thead th {\n",
       "        text-align: right;\n",
       "    }\n",
       "</style>\n",
       "<table border=\"1\" class=\"dataframe\">\n",
       "  <thead>\n",
       "    <tr style=\"text-align: right;\">\n",
       "      <th></th>\n",
       "      <th>Model</th>\n",
       "      <th>Accuracy</th>\n",
       "    </tr>\n",
       "  </thead>\n",
       "  <tbody>\n",
       "    <tr>\n",
       "      <th>5</th>\n",
       "      <td>SVC</td>\n",
       "      <td>93.00</td>\n",
       "    </tr>\n",
       "    <tr>\n",
       "      <th>6</th>\n",
       "      <td>MLP</td>\n",
       "      <td>92.92</td>\n",
       "    </tr>\n",
       "    <tr>\n",
       "      <th>4</th>\n",
       "      <td>LinearSVC</td>\n",
       "      <td>92.38</td>\n",
       "    </tr>\n",
       "    <tr>\n",
       "      <th>1</th>\n",
       "      <td>RandomForest</td>\n",
       "      <td>92.26</td>\n",
       "    </tr>\n",
       "    <tr>\n",
       "      <th>0</th>\n",
       "      <td>Logistic</td>\n",
       "      <td>92.21</td>\n",
       "    </tr>\n",
       "    <tr>\n",
       "      <th>7</th>\n",
       "      <td>Keras</td>\n",
       "      <td>92.04</td>\n",
       "    </tr>\n",
       "    <tr>\n",
       "      <th>2</th>\n",
       "      <td>DecisionTree</td>\n",
       "      <td>89.03</td>\n",
       "    </tr>\n",
       "    <tr>\n",
       "      <th>3</th>\n",
       "      <td>AdaBoost</td>\n",
       "      <td>86.29</td>\n",
       "    </tr>\n",
       "  </tbody>\n",
       "</table>\n",
       "</div>"
      ],
      "text/plain": [
       "          Model  Accuracy\n",
       "5           SVC     93.00\n",
       "6           MLP     92.92\n",
       "4     LinearSVC     92.38\n",
       "1  RandomForest     92.26\n",
       "0      Logistic     92.21\n",
       "7         Keras     92.04\n",
       "2  DecisionTree     89.03\n",
       "3      AdaBoost     86.29"
      ]
     },
     "execution_count": 93,
     "metadata": {},
     "output_type": "execute_result"
    }
   ],
   "source": [
    "# Create lists of models and accuracy scores\n",
    "modelName = []\n",
    "score = []\n",
    "for key in models_dict:\n",
    "    modelName += [key]\n",
    "    model = models_dict[key]\n",
    "    value = model.score(X_test, y_test)*100\n",
    "    score += [round(value, 2)]\n",
    "\n",
    "# Add Keras accuracy\n",
    "modelName += ['Keras']\n",
    "kerasAcc = history.history['accuracy'][np.argmin(history.history['loss'])]*100\n",
    "score += [round(kerasAcc, 2)]\n",
    "\n",
    "# Create DataFrame of results\n",
    "d = {'Model': modelName, 'Accuracy': score}\n",
    "results = pd.DataFrame(d).sort_values(by=['Accuracy'], ascending=False)\n",
    "results"
   ]
  }
 ],
 "metadata": {
  "kernelspec": {
   "display_name": "Python 3",
   "language": "python",
   "name": "python3"
  },
  "language_info": {
   "codemirror_mode": {
    "name": "ipython",
    "version": 3
   },
   "file_extension": ".py",
   "mimetype": "text/x-python",
   "name": "python",
   "nbconvert_exporter": "python",
   "pygments_lexer": "ipython3",
   "version": "3.8.8"
  }
 },
 "nbformat": 4,
 "nbformat_minor": 5
}
