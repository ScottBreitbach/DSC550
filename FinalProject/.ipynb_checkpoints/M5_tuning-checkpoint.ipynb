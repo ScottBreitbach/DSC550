{
 "cells": [
  {
   "cell_type": "code",
   "execution_count": null,
   "id": "9fbc622d-09de-44ee-80d6-9ea036dac4b9",
   "metadata": {},
   "outputs": [],
   "source": []
  },
  {
   "cell_type": "code",
   "execution_count": 16,
   "id": "df5ac69b-d25b-4bb6-860c-979aa53943be",
   "metadata": {},
   "outputs": [],
   "source": [
    "# Load Libraries\n",
    "import pandas as pd\n",
    "import numpy as np\n",
    "\n",
    "# Set random seed\n",
    "np.random.seed(42)"
   ]
  },
  {
   "cell_type": "markdown",
   "id": "8222dfd6-0143-458a-848b-c1ea40d2f788",
   "metadata": {},
   "source": [
    "### Load Data"
   ]
  },
  {
   "cell_type": "code",
   "execution_count": 17,
   "id": "8cbb1a98-af34-4e45-90f0-17fba03ad656",
   "metadata": {},
   "outputs": [],
   "source": [
    "# Load data to a DataFrame\n",
    "beanDF = pd.read_excel('DryBeanDataset/Dry_Bean_Dataset.xlsx')"
   ]
  },
  {
   "cell_type": "code",
   "execution_count": 18,
   "id": "344f571e-2bae-4d39-a728-fc649d04a7ea",
   "metadata": {},
   "outputs": [],
   "source": [
    "# Drop least useful features\n",
    "beanDF.drop(columns=['Extent', 'Solidity', 'Eccentricity', 'ShapeFactor3'], inplace=True)"
   ]
  },
  {
   "cell_type": "markdown",
   "id": "a8dcfb84-adc0-4f3b-8f8c-84e0bc041471",
   "metadata": {},
   "source": [
    "## Model Selection & Evaluation\n",
    "Used GridSearchCV or RandomizedSearchCV to find the best hyperparameters for each modeling type"
   ]
  },
  {
   "cell_type": "code",
   "execution_count": 19,
   "id": "75ef2c42-6d75-4a00-a273-477cfaf7e0dd",
   "metadata": {},
   "outputs": [],
   "source": [
    "# Load libraries\n",
    "from sklearn.model_selection import train_test_split\n",
    "from sklearn.preprocessing import StandardScaler\n",
    "from sklearn.model_selection import GridSearchCV, RandomizedSearchCV"
   ]
  },
  {
   "cell_type": "markdown",
   "id": "0cf9f25d-e839-4b2b-9303-88be348d2b02",
   "metadata": {},
   "source": [
    "### Split Training and Testing Data"
   ]
  },
  {
   "cell_type": "code",
   "execution_count": 20,
   "id": "9ba0b605-f32e-4668-abd1-edbc8c93800d",
   "metadata": {},
   "outputs": [],
   "source": [
    "# Set up features target sets\n",
    "X = beanDF[beanDF.columns[:-1]]\n",
    "y = beanDF.Class\n",
    "\n",
    "# Split the data\n",
    "X_train, X_test, y_train, y_test = train_test_split(X, y, test_size =0.3, \n",
    "                                                    random_state=42)\n",
    "\n",
    "# Standardize Features\n",
    "scaler = StandardScaler()\n",
    "X_train = scaler.fit_transform(X_train) \n",
    "X_test  = scaler.transform(X_test)"
   ]
  },
  {
   "cell_type": "code",
   "execution_count": 21,
   "id": "5bb12856-88a1-41d0-8b83-f2f3d85ba978",
   "metadata": {},
   "outputs": [],
   "source": [
    "# Set up dictionary for model results\n",
    "models_dict = {}"
   ]
  },
  {
   "cell_type": "markdown",
   "id": "0db1e1ff-1497-44c3-bf7e-da10a7c86c55",
   "metadata": {},
   "source": [
    "### Logistic Regression"
   ]
  },
  {
   "cell_type": "code",
   "execution_count": 24,
   "id": "89889236-c134-49f2-b4a8-6a4d98f9babd",
   "metadata": {},
   "outputs": [],
   "source": [
    "# Load libraries\n",
    "from sklearn.linear_model import LogisticRegression\n",
    "\n",
    "# Create logistic regression\n",
    "logistic = LogisticRegression(class_weight='balanced', \n",
    "                              random_state=42, \n",
    "                              max_iter=200, \n",
    "                              n_jobs=-1)\n",
    "\n",
    "# Create range of candidate penalty hyperparameter values\n",
    "parameter_space = {\n",
    "    'penalty': ['l1', 'l2', 'elasticnet'], \n",
    "    'C': np.logspace(0, 5, 6), \n",
    "    'solver': ['newton-cg', 'lbfgs', 'liblinear', 'sag', 'saga'], \n",
    "    'multi_class': ['ovr', 'multinomial'],\n",
    "}\n",
    "grid = GridSearchCV(logistic, parameter_space, n_jobs=-1, cv=5)"
   ]
  },
  {
   "cell_type": "code",
   "execution_count": 25,
   "id": "2628c55a-38d9-4d36-9e90-6efe7ed2cfc8",
   "metadata": {},
   "outputs": [
    {
     "name": "stderr",
     "output_type": "stream",
     "text": [
      "C:\\ProgramData\\Anaconda3\\lib\\site-packages\\sklearn\\model_selection\\_search.py:922: UserWarning: One or more of the test scores are non-finite: [       nan        nan 0.91802166        nan 0.91518746 0.91466319\n",
      " 0.91466319 0.91329874 0.91466319 0.91434828        nan        nan\n",
      "        nan        nan        nan        nan        nan        nan\n",
      "        nan 0.91476801 0.91466297 0.91455803        nan 0.91455803\n",
      " 0.91466297        nan        nan        nan        nan        nan\n",
      "        nan        nan 0.91938633        nan 0.91487266 0.91728676\n",
      " 0.91728676 0.91728676 0.91581738 0.91508253        nan        nan\n",
      "        nan        nan        nan        nan        nan        nan\n",
      "        nan 0.91539771 0.91623744 0.91623738        nan 0.91508286\n",
      " 0.9151879         nan        nan        nan        nan        nan\n",
      "        nan        nan 0.92022606        nan 0.91508258 0.91812665\n",
      " 0.91812665 0.91812654 0.91707711 0.9149776         nan        nan\n",
      "        nan        nan        nan        nan        nan        nan\n",
      "        nan 0.91529278 0.91749695 0.91749684        nan 0.91550275\n",
      " 0.91529278        nan        nan        nan        nan        nan\n",
      "        nan        nan 0.92054102        nan 0.91508258 0.91917624\n",
      " 0.91907126 0.91991093 0.91707711 0.91508258        nan        nan\n",
      "        nan        nan        nan        nan        nan        nan\n",
      "        nan 0.91539771 0.92043609 0.91707717        nan 0.91560768\n",
      " 0.91539771        nan        nan        nan        nan        nan\n",
      "        nan        nan 0.92054102        nan 0.91508258 0.91938616\n",
      " 0.91854638 0.91970123 0.91707711 0.91508258        nan        nan\n",
      "        nan        nan        nan        nan        nan        nan\n",
      "        nan 0.91539771 0.91980606 0.91749723        nan 0.91560768\n",
      " 0.91539771        nan        nan        nan        nan        nan\n",
      "        nan        nan 0.92064595        nan 0.91508258 0.91959608\n",
      " 0.91928123 0.91959625 0.91707711 0.91508258        nan        nan\n",
      "        nan        nan        nan        nan        nan        nan\n",
      "        nan 0.91539771 0.919806   0.91676221        nan 0.91560768\n",
      " 0.91539771        nan        nan        nan        nan        nan]\n",
      "  warnings.warn(\n",
      "C:\\ProgramData\\Anaconda3\\lib\\site-packages\\sklearn\\linear_model\\_logistic.py:1355: UserWarning: 'n_jobs' > 1 does not have any effect when 'solver' is set to 'liblinear'. Got 'n_jobs' = 8.\n",
      "  warnings.warn(\"'n_jobs' > 1 does not have any effect when\"\n"
     ]
    },
    {
     "name": "stdout",
     "output_type": "stream",
     "text": [
      "Wall time: 11min 6s\n"
     ]
    },
    {
     "name": "stderr",
     "output_type": "stream",
     "text": [
      "C:\\ProgramData\\Anaconda3\\lib\\site-packages\\sklearn\\svm\\_base.py:985: ConvergenceWarning: Liblinear failed to converge, increase the number of iterations.\n",
      "  warnings.warn(\"Liblinear failed to converge, increase \"\n"
     ]
    }
   ],
   "source": [
    "%%time\n",
    "# Fit models\n",
    "grid_result = grid.fit(X_train, y_train)"
   ]
  },
  {
   "cell_type": "code",
   "execution_count": 26,
   "id": "efaa3489-1e89-45d2-9aa6-7f207bd21172",
   "metadata": {},
   "outputs": [
    {
     "name": "stdout",
     "output_type": "stream",
     "text": [
      "Best parameters found:\n",
      " {'C': 100000.0, 'multi_class': 'ovr', 'penalty': 'l1', 'solver': 'liblinear'}\n",
      "Accuracy:  92.14\n"
     ]
    }
   ],
   "source": [
    "# Show best parameters\n",
    "print('Best parameters found:\\n', grid_result.best_params_)\n",
    "# Get accuracy score\n",
    "score = round(grid_result.score(X_test, y_test)*100, 2)\n",
    "print(f\"Accuracy:  {score}\")"
   ]
  },
  {
   "cell_type": "code",
   "execution_count": null,
   "id": "6fa40f2e-1e5f-4200-902f-4deda16d592b",
   "metadata": {},
   "outputs": [],
   "source": []
  },
  {
   "cell_type": "markdown",
   "id": "1f5f2936-1a61-4739-8467-6baa2a4a92b5",
   "metadata": {},
   "source": [
    "### Random Forest"
   ]
  },
  {
   "cell_type": "code",
   "execution_count": 29,
   "id": "47373ca8-a80b-4822-8c2f-e4c6bdbea8f6",
   "metadata": {},
   "outputs": [],
   "source": [
    "# Load libraries\n",
    "from sklearn.ensemble import RandomForestClassifier\n",
    "\n",
    "# Create classifier\n",
    "rfc = RandomForestClassifier(random_state=42,\n",
    "                                    class_weight='balanced', \n",
    "                                    n_jobs=-1)\n",
    "\n",
    "# Create range of candidate penalty hyperparameter values\n",
    "parameter_space = {\n",
    "    'n_estimators': [10, 30, 100, 300, 1000], \n",
    "    'criterion': ['gini', 'entropy'], \n",
    "    'max_features': ['sqrt', 'log2'], \n",
    "}\n",
    "grid = GridSearchCV(rfc, parameter_space, n_jobs=-1, cv=5)"
   ]
  },
  {
   "cell_type": "code",
   "execution_count": 30,
   "id": "b08df66a-5a9b-4f1f-90ec-36e25ad54ba7",
   "metadata": {},
   "outputs": [
    {
     "name": "stdout",
     "output_type": "stream",
     "text": [
      "Wall time: 4min 37s\n"
     ]
    }
   ],
   "source": [
    "%%time\n",
    "# Fit models\n",
    "grid_result = grid.fit(X_train, y_train)"
   ]
  },
  {
   "cell_type": "code",
   "execution_count": 31,
   "id": "e709ba36-47ca-4161-b7b6-5c34719c12e8",
   "metadata": {},
   "outputs": [
    {
     "name": "stdout",
     "output_type": "stream",
     "text": [
      "Best parameters found:\n",
      " {'criterion': 'entropy', 'max_features': 'sqrt', 'n_estimators': 300}\n",
      "Accuracy:  92.19\n"
     ]
    }
   ],
   "source": [
    "# Show best parameters\n",
    "print('Best parameters found:\\n', grid_result.best_params_)\n",
    "# Get accuracy score\n",
    "score = round(grid_result.score(X_test, y_test)*100, 2)\n",
    "print(f\"Accuracy:  {score}\")"
   ]
  },
  {
   "cell_type": "code",
   "execution_count": null,
   "id": "878805f3-cae3-46a9-ae68-735b3a4eae04",
   "metadata": {},
   "outputs": [],
   "source": []
  },
  {
   "cell_type": "markdown",
   "id": "577098f5-21a8-4949-bc7c-494628f40d9a",
   "metadata": {},
   "source": [
    "### Decision Tree"
   ]
  },
  {
   "cell_type": "code",
   "execution_count": 34,
   "id": "061910e1-4ea0-44ee-a8fc-2628580a7677",
   "metadata": {},
   "outputs": [],
   "source": [
    "# Load libraries\n",
    "from sklearn.tree import DecisionTreeClassifier\n",
    "\n",
    "# Create decision tree regressor object\n",
    "decisiontree = DecisionTreeClassifier(random_state=42, class_weight='balanced')\n",
    "\n",
    "# Create range of candidate penalty hyperparameter values\n",
    "parameter_space = {\n",
    "    'criterion': ['gini', 'entropy'], \n",
    "    'splitter': ['best', 'random'], \n",
    "    'max_features': ['sqrt', 'log2'], \n",
    "}\n",
    "grid = GridSearchCV(decisiontree, parameter_space, verbose=2, n_jobs=-1, cv=5)"
   ]
  },
  {
   "cell_type": "code",
   "execution_count": 35,
   "id": "edd24d11-9e72-4d32-8277-fc0c16c97961",
   "metadata": {},
   "outputs": [
    {
     "name": "stdout",
     "output_type": "stream",
     "text": [
      "Fitting 5 folds for each of 8 candidates, totalling 40 fits\n",
      "Wall time: 845 ms\n"
     ]
    }
   ],
   "source": [
    "%%time\n",
    "# Fit models\n",
    "grid_result = grid.fit(X_train, y_train)"
   ]
  },
  {
   "cell_type": "code",
   "execution_count": 36,
   "id": "34814c41-9961-4f29-b53e-a5658375a604",
   "metadata": {},
   "outputs": [
    {
     "name": "stdout",
     "output_type": "stream",
     "text": [
      "Best parameters found:\n",
      " {'criterion': 'entropy', 'max_features': 'sqrt', 'splitter': 'best'}\n",
      "Accuracy:  89.03\n"
     ]
    }
   ],
   "source": [
    "# Show best parameters\n",
    "print('Best parameters found:\\n', grid_result.best_params_)\n",
    "# Get accuracy score\n",
    "score = round(grid_result.score(X_test, y_test)*100, 2)\n",
    "print(f\"Accuracy:  {score}\")"
   ]
  },
  {
   "cell_type": "code",
   "execution_count": null,
   "id": "e5482eeb-1f67-49be-baef-31683a3511d1",
   "metadata": {},
   "outputs": [],
   "source": []
  },
  {
   "cell_type": "markdown",
   "id": "1c9b63cf-685a-4016-94a9-b54c28418d68",
   "metadata": {},
   "source": [
    "### AdaBoost"
   ]
  },
  {
   "cell_type": "code",
   "execution_count": 42,
   "id": "17845a5f-ad8a-4b52-8b1b-bea5fe5d8198",
   "metadata": {},
   "outputs": [],
   "source": [
    "# Load libraries\n",
    "from sklearn.ensemble import AdaBoostClassifier\n",
    "\n",
    "# Create classifier\n",
    "adaboost = AdaBoostClassifier(random_state=42)\n",
    "\n",
    "# Create range of candidate penalty hyperparameter values\n",
    "parameter_space = {\n",
    "    'n_estimators': [10, 30, 100, 300, 1000], \n",
    "    'algorithm': ['SAMME', 'SAMME.R'], \n",
    "}\n",
    "grid = GridSearchCV(adaboost, parameter_space, n_jobs=-1, cv=5)"
   ]
  },
  {
   "cell_type": "code",
   "execution_count": 43,
   "id": "b46cfac3-4a0e-4224-bf53-777f8e967f65",
   "metadata": {},
   "outputs": [
    {
     "name": "stdout",
     "output_type": "stream",
     "text": [
      "Wall time: 2min 38s\n"
     ]
    }
   ],
   "source": [
    "%%time\n",
    "# Fit models\n",
    "grid_result = grid.fit(X_train, y_train)"
   ]
  },
  {
   "cell_type": "code",
   "execution_count": 44,
   "id": "ec03ed89-aacc-43a4-8876-e4f325972456",
   "metadata": {},
   "outputs": [
    {
     "name": "stdout",
     "output_type": "stream",
     "text": [
      "Best parameters found:\n",
      " {'algorithm': 'SAMME', 'n_estimators': 100}\n",
      "Accuracy:  86.29\n"
     ]
    }
   ],
   "source": [
    "# Show best parameters\n",
    "print('Best parameters found:\\n', grid_result.best_params_)\n",
    "# Get accuracy score\n",
    "score = round(grid_result.score(X_test, y_test)*100, 2)\n",
    "print(f\"Accuracy:  {score}\")"
   ]
  },
  {
   "cell_type": "code",
   "execution_count": null,
   "id": "d004a2ab-b132-456c-bd8c-6ad6b85864d9",
   "metadata": {},
   "outputs": [],
   "source": []
  },
  {
   "cell_type": "markdown",
   "id": "9b816732-79e6-4cca-9a42-6fc4dbbc62df",
   "metadata": {},
   "source": [
    "### Support Vector Classifier (Linear)"
   ]
  },
  {
   "cell_type": "code",
   "execution_count": 45,
   "id": "7e2e23d3-3696-45bc-818b-1bf5ab71680f",
   "metadata": {},
   "outputs": [
    {
     "data": {
      "text/plain": [
       "array([   1.        ,    5.62341325,   31.6227766 ,  177.827941  ,\n",
       "       1000.        ])"
      ]
     },
     "execution_count": 45,
     "metadata": {},
     "output_type": "execute_result"
    }
   ],
   "source": [
    "np.logspace(0,3,5)"
   ]
  },
  {
   "cell_type": "code",
   "execution_count": 47,
   "id": "ee9d362e-0dba-4d65-b3bf-d4eb49e188ff",
   "metadata": {},
   "outputs": [],
   "source": [
    "# Load libraries\n",
    "from sklearn.svm import LinearSVC\n",
    "\n",
    "# Create support vector classifier\n",
    "svc = LinearSVC(random_state=42, dual=False, class_weight='balanced', max_iter=100000)\n",
    "\n",
    "# Create range of candidate penalty hyperparameter values\n",
    "parameter_space = {\n",
    "    'penalty': ['l1', 'l2'], \n",
    "    'loss': ['hinge', 'squared_hinge'], \n",
    "    'C': [1, 5, 30, 200, 1000], \n",
    "    'multi_class': ['ovr', 'crammer_singer'], \n",
    "}\n",
    "grid = GridSearchCV(svc, parameter_space, n_jobs=-1, cv=5)"
   ]
  },
  {
   "cell_type": "code",
   "execution_count": 48,
   "id": "a07b891c-f607-4223-a3a0-0fa7a4d5358d",
   "metadata": {},
   "outputs": [
    {
     "name": "stderr",
     "output_type": "stream",
     "text": [
      "C:\\ProgramData\\Anaconda3\\lib\\site-packages\\sklearn\\model_selection\\_search.py:922: UserWarning: One or more of the test scores are non-finite: [       nan        nan 0.91508308 0.91508308 0.91707673 0.9159222\n",
      " 0.91508308 0.91508308        nan        nan 0.91644747 0.91644747\n",
      " 0.91844123 0.91697163 0.91644747 0.91644747        nan        nan\n",
      " 0.91812676 0.91812676 0.9183364  0.91802161 0.91812676 0.91812676\n",
      "        nan        nan 0.91970123 0.91970123 0.9186512  0.91844134\n",
      " 0.91970123 0.91970123        nan        nan 0.90805006 0.90805006\n",
      " 0.9186512  0.91928101 0.90805006 0.90805006]\n",
      "  warnings.warn(\n"
     ]
    },
    {
     "name": "stdout",
     "output_type": "stream",
     "text": [
      "Wall time: 18min 4s\n"
     ]
    },
    {
     "name": "stderr",
     "output_type": "stream",
     "text": [
      "C:\\ProgramData\\Anaconda3\\lib\\site-packages\\sklearn\\svm\\_base.py:985: ConvergenceWarning: Liblinear failed to converge, increase the number of iterations.\n",
      "  warnings.warn(\"Liblinear failed to converge, increase \"\n"
     ]
    }
   ],
   "source": [
    "%%time\n",
    "# Fit models\n",
    "grid_result = grid.fit(X_train, y_train)"
   ]
  },
  {
   "cell_type": "code",
   "execution_count": 49,
   "id": "bb978133-4b93-43ea-be6f-72c436a7683f",
   "metadata": {},
   "outputs": [
    {
     "name": "stdout",
     "output_type": "stream",
     "text": [
      "Best parameters found:\n",
      " {'C': 200, 'loss': 'hinge', 'multi_class': 'crammer_singer', 'penalty': 'l1'}\n",
      "Accuracy:  92.38\n"
     ]
    }
   ],
   "source": [
    "# Show best parameters\n",
    "print('Best parameters found:\\n', grid_result.best_params_)\n",
    "# Get accuracy score\n",
    "score = round(grid_result.score(X_test, y_test)*100, 2)\n",
    "print(f\"Accuracy:  {score}\")"
   ]
  },
  {
   "cell_type": "code",
   "execution_count": null,
   "id": "d8395064-a1de-4fa9-824e-9f7ae6d81448",
   "metadata": {},
   "outputs": [],
   "source": []
  },
  {
   "cell_type": "markdown",
   "id": "7e31905a-884e-4c95-9711-88742dac2dcf",
   "metadata": {},
   "source": [
    "### Support Vector Classifier (SVC)"
   ]
  },
  {
   "cell_type": "code",
   "execution_count": 46,
   "id": "53b4c3ec-4bb0-487d-935c-f5862734770e",
   "metadata": {},
   "outputs": [
    {
     "data": {
      "text/plain": [
       "array([  1.        ,   3.16227766,  10.        ,  31.6227766 ,\n",
       "       100.        ])"
      ]
     },
     "execution_count": 46,
     "metadata": {},
     "output_type": "execute_result"
    }
   ],
   "source": [
    "np.logspace(0, 2, 5)"
   ]
  },
  {
   "cell_type": "code",
   "execution_count": 50,
   "id": "975a629e-11fe-4ddb-aea2-475163d81e13",
   "metadata": {},
   "outputs": [],
   "source": [
    "# Load libraries\n",
    "from sklearn.svm import SVC\n",
    "\n",
    "# Create support vector classifier\n",
    "svc = SVC(random_state=42, class_weight='balanced', max_iter=5000)\n",
    "\n",
    "# Create range of candidate penalty hyperparameter values\n",
    "parameter_space = {\n",
    "    'kernel': ['linear', 'poly', 'rbf', 'sigmoid'],\n",
    "    'gamma': ['scale', 'auto'], \n",
    "    'C': [1, 3, 10, 30, 100], \n",
    "    'shrinking': [True, False], \n",
    "    'decision_function_shape': ['ovo', 'ovr'],\n",
    "}\n",
    "grid = GridSearchCV(svc, parameter_space, n_jobs=-1, cv=5)"
   ]
  },
  {
   "cell_type": "code",
   "execution_count": null,
   "id": "f52d4fd5-26cb-4b96-a8d8-33fc18bbf6bd",
   "metadata": {},
   "outputs": [],
   "source": [
    "%%time\n",
    "# Fit models\n",
    "grid_result = grid.fit(X_train, y_train)"
   ]
  },
  {
   "cell_type": "code",
   "execution_count": null,
   "id": "1c66f6ac-dad2-4cae-8468-d13e46f87f53",
   "metadata": {},
   "outputs": [],
   "source": [
    "# Show best parameters\n",
    "print('Best parameters found:\\n', grid_result.best_params_)\n",
    "# Get accuracy score\n",
    "score = round(grid_result.score(X_test, y_test)*100, 2)\n",
    "print(f\"Accuracy:  {score}\")"
   ]
  },
  {
   "cell_type": "code",
   "execution_count": null,
   "id": "241327a9-0389-4677-bcc7-52bf065b9eb8",
   "metadata": {},
   "outputs": [],
   "source": []
  },
  {
   "cell_type": "markdown",
   "id": "76dc209a-b0fc-46d7-80f6-14d9859ff488",
   "metadata": {},
   "source": [
    "### Gaussian Naive Bayes Classifier"
   ]
  },
  {
   "cell_type": "code",
   "execution_count": null,
   "id": "43f3efd5-f477-400a-aef2-b4b958c16951",
   "metadata": {},
   "outputs": [],
   "source": [
    "# Load libraries\n",
    "from sklearn.naive_bayes import GaussianNB\n",
    "\n",
    "# Create Gaussian naive Bayes object\n",
    "nBayes = GaussianNB()\n",
    "\n",
    "# Create range of candidate hyperparameter values\n",
    "parameter_space = {\n",
    "    'var_smoothing': [1e-7, 1e-8, 1e-9, 1e-10]\n",
    "}\n",
    "grid = GridSearchCV(nBayes, parameter_space, n_jobs=-1, cv=5)"
   ]
  },
  {
   "cell_type": "code",
   "execution_count": null,
   "id": "e0cda614-f8bd-4d87-8aba-5d0271080b85",
   "metadata": {},
   "outputs": [],
   "source": [
    "%%time\n",
    "# Fit models\n",
    "grid_result = grid.fit(X_train, y_train)"
   ]
  },
  {
   "cell_type": "code",
   "execution_count": null,
   "id": "0ef8836d-557e-4378-8ffd-ef2f91835319",
   "metadata": {},
   "outputs": [],
   "source": [
    "# Show best parameters\n",
    "print('Best parameters found:\\n', grid_result.best_params_)\n",
    "# Get accuracy score\n",
    "score = round(grid_result.score(X_test, y_test)*100, 2)\n",
    "print(f\"Accuracy:  {score}\")"
   ]
  },
  {
   "cell_type": "code",
   "execution_count": null,
   "id": "5621a17f-62e1-4db0-bf9b-af9612856a49",
   "metadata": {},
   "outputs": [],
   "source": []
  },
  {
   "cell_type": "code",
   "execution_count": null,
   "id": "839ffd6f-6cc5-4ee5-b4a9-0bd5e3ea8f43",
   "metadata": {},
   "outputs": [],
   "source": []
  },
  {
   "cell_type": "markdown",
   "id": "a9749d95-6c1c-44b1-b936-db91b3341007",
   "metadata": {},
   "source": [
    "### MLPClassifier"
   ]
  },
  {
   "cell_type": "code",
   "execution_count": null,
   "id": "671a152c-019f-4f95-a9fc-0b163048219c",
   "metadata": {},
   "outputs": [],
   "source": [
    "# Load libraries\n",
    "from sklearn.neural_network import MLPClassifier\n",
    "\n",
    "# Create classifier\n",
    "mlp = MLPClassifier(max_iter=5000)\n",
    "\n",
    "# Create range of candidate hyperparameter values\n",
    "parameter_space = {\n",
    "    'hidden_layer_sizes': [(rd.randint(10,100), rd.randint(10,100), rd.randint(10,100))],\n",
    "    'activation': ['relu', 'tanh', 'identity', 'logistic'], \n",
    "    'solver': ['adam', 'sgd', 'lbfgs'], \n",
    "    'alpha': [0.001, 0.0001, 0.00001],\n",
    "    'learning_rate': ['constant', 'adaptive', 'invscaling'],\n",
    "    'early_stopping': [True],\n",
    "}\n",
    "rand = RandomizedSearchCV(mlp, parameter_space, random_state=42, n_iter=1000, n_jobs=-1, cv=5)"
   ]
  },
  {
   "cell_type": "code",
   "execution_count": null,
   "id": "14f1d78c-04c0-4f89-858e-a773e91adf5d",
   "metadata": {},
   "outputs": [],
   "source": [
    "%%time\n",
    "# Fit models\n",
    "rand_result = rand.fit(X_train, y_train)"
   ]
  },
  {
   "cell_type": "code",
   "execution_count": null,
   "id": "b3b57325-d1c8-46fa-a817-6f6a738f70dc",
   "metadata": {},
   "outputs": [],
   "source": [
    "# Show best parameters\n",
    "print('Best parameters found:\\n', rand_result.best_params_)\n",
    "# Get accuracy score\n",
    "score = round(rand_result.score(X_test, y_test)*100, 2)\n",
    "print(f\"Accuracy:  {score}\")"
   ]
  },
  {
   "cell_type": "code",
   "execution_count": null,
   "id": "e7cf3073-c1e5-4968-8ed4-df0140e70d6a",
   "metadata": {},
   "outputs": [],
   "source": []
  },
  {
   "cell_type": "code",
   "execution_count": null,
   "id": "b64d67a3-99ca-416f-b8e5-d7a75fb77d32",
   "metadata": {},
   "outputs": [],
   "source": []
  },
  {
   "cell_type": "markdown",
   "id": "7c08df29-6425-451d-b9d1-bae5a0616b7f",
   "metadata": {},
   "source": [
    "## Neural Network - Keras"
   ]
  },
  {
   "cell_type": "code",
   "execution_count": 50,
   "id": "fe21bb0b-7a16-4ec9-8a51-bda87e9fb5cc",
   "metadata": {},
   "outputs": [],
   "source": [
    "# Load libraries\n",
    "import numpy as np\n",
    "from keras.models import Sequential\n",
    "from keras.layers import Dense"
   ]
  },
  {
   "cell_type": "code",
   "execution_count": 51,
   "id": "11146a8b-7f28-4ce2-888e-cb21393cfddc",
   "metadata": {},
   "outputs": [],
   "source": [
    "# Encode the target variables\n",
    "le = LabelEncoder()\n",
    "le.fit(y)\n",
    "\n",
    "le_y_train = le.transform(y_train)\n",
    "le_y_test  = le.transform(y_test)\n",
    "\n",
    "from keras.utils.np_utils import to_categorical\n",
    "cat_y_train = to_categorical(le_y_train)\n",
    "cat_y_test  = to_categorical(le_y_test)"
   ]
  },
  {
   "cell_type": "markdown",
   "id": "bd34ff22-2755-4138-b9a5-df43a11b581e",
   "metadata": {},
   "source": [
    "# NOTE: Add dropout? (see M5_test2) "
   ]
  },
  {
   "cell_type": "code",
   "execution_count": 52,
   "id": "9ace0396-902c-4c74-b02f-46f48712f245",
   "metadata": {},
   "outputs": [],
   "source": [
    "# Set the number of features\n",
    "number_of_features = X.shape[1]\n",
    "\n",
    "# Start neural network\n",
    "network = Sequential()\n",
    "\n",
    "# Add fully connected layer w/a ReLU activation function\n",
    "network.add(Dense(units=100, activation='relu', \n",
    "                  input_shape=(number_of_features,)))\n",
    "\n",
    "# Add fully connected layer w/a ReLU activation function\n",
    "network.add(Dense(units=100, activation='relu'))\n",
    "\n",
    "# Add fully connected layer w/a softmax activation function\n",
    "network.add(Dense(units=7, activation='softmax'))\n",
    "\n",
    "# Compile neural network\n",
    "network.compile(loss='categorical_crossentropy', \n",
    "                optimizer='adam', \n",
    "                metrics=['accuracy'])"
   ]
  },
  {
   "cell_type": "code",
   "execution_count": 53,
   "id": "c3fa91ee-435f-4f8d-99b3-54c315c0427e",
   "metadata": {},
   "outputs": [
    {
     "name": "stdout",
     "output_type": "stream",
     "text": [
      "Epoch 1/3\n",
      "96/96 [==============================] - 2s 10ms/step - loss: 1.1955 - accuracy: 0.6447 - val_loss: 0.2876 - val_accuracy: 0.9148\n",
      "Epoch 2/3\n",
      "96/96 [==============================] - 0s 3ms/step - loss: 0.2717 - accuracy: 0.9134 - val_loss: 0.2173 - val_accuracy: 0.9216\n",
      "Epoch 3/3\n",
      "96/96 [==============================] - 0s 3ms/step - loss: 0.2228 - accuracy: 0.9201 - val_loss: 0.2080 - val_accuracy: 0.9238\n"
     ]
    }
   ],
   "source": [
    "# Fit model\n",
    "history = network.fit(X_train, cat_y_train, \n",
    "                      epochs=3, \n",
    "                      batch_size=100, \n",
    "                      validation_data=(X_test, cat_y_test))"
   ]
  },
  {
   "cell_type": "markdown",
   "id": "31044e47-ca70-4ff4-a8dd-ffaed6104d18",
   "metadata": {},
   "source": [
    "Note: I'm not adding this one to the dictionary of methods because I had to categorize my target variable."
   ]
  },
  {
   "cell_type": "code",
   "execution_count": null,
   "id": "8c116543-8d31-424c-8e15-6e09a42aa4f4",
   "metadata": {},
   "outputs": [],
   "source": []
  },
  {
   "cell_type": "markdown",
   "id": "1bf60846-bce0-4e0c-906c-ba116c74c45b",
   "metadata": {},
   "source": [
    "## Compare Accuracies"
   ]
  },
  {
   "cell_type": "code",
   "execution_count": 93,
   "id": "7cab9ca6-763b-4469-9715-ed81af9a5bf1",
   "metadata": {},
   "outputs": [
    {
     "data": {
      "text/html": [
       "<div>\n",
       "<style scoped>\n",
       "    .dataframe tbody tr th:only-of-type {\n",
       "        vertical-align: middle;\n",
       "    }\n",
       "\n",
       "    .dataframe tbody tr th {\n",
       "        vertical-align: top;\n",
       "    }\n",
       "\n",
       "    .dataframe thead th {\n",
       "        text-align: right;\n",
       "    }\n",
       "</style>\n",
       "<table border=\"1\" class=\"dataframe\">\n",
       "  <thead>\n",
       "    <tr style=\"text-align: right;\">\n",
       "      <th></th>\n",
       "      <th>Model</th>\n",
       "      <th>Accuracy</th>\n",
       "    </tr>\n",
       "  </thead>\n",
       "  <tbody>\n",
       "    <tr>\n",
       "      <th>5</th>\n",
       "      <td>SVC</td>\n",
       "      <td>93.00</td>\n",
       "    </tr>\n",
       "    <tr>\n",
       "      <th>6</th>\n",
       "      <td>MLP</td>\n",
       "      <td>92.92</td>\n",
       "    </tr>\n",
       "    <tr>\n",
       "      <th>4</th>\n",
       "      <td>LinearSVC</td>\n",
       "      <td>92.38</td>\n",
       "    </tr>\n",
       "    <tr>\n",
       "      <th>1</th>\n",
       "      <td>RandomForest</td>\n",
       "      <td>92.26</td>\n",
       "    </tr>\n",
       "    <tr>\n",
       "      <th>0</th>\n",
       "      <td>Logistic</td>\n",
       "      <td>92.21</td>\n",
       "    </tr>\n",
       "    <tr>\n",
       "      <th>7</th>\n",
       "      <td>Keras</td>\n",
       "      <td>92.04</td>\n",
       "    </tr>\n",
       "    <tr>\n",
       "      <th>2</th>\n",
       "      <td>DecisionTree</td>\n",
       "      <td>89.03</td>\n",
       "    </tr>\n",
       "    <tr>\n",
       "      <th>3</th>\n",
       "      <td>AdaBoost</td>\n",
       "      <td>86.29</td>\n",
       "    </tr>\n",
       "  </tbody>\n",
       "</table>\n",
       "</div>"
      ],
      "text/plain": [
       "          Model  Accuracy\n",
       "5           SVC     93.00\n",
       "6           MLP     92.92\n",
       "4     LinearSVC     92.38\n",
       "1  RandomForest     92.26\n",
       "0      Logistic     92.21\n",
       "7         Keras     92.04\n",
       "2  DecisionTree     89.03\n",
       "3      AdaBoost     86.29"
      ]
     },
     "execution_count": 93,
     "metadata": {},
     "output_type": "execute_result"
    }
   ],
   "source": [
    "# Create lists of models and accuracy scores\n",
    "modelName = []\n",
    "score = []\n",
    "for key in models_dict:\n",
    "    modelName += [key]\n",
    "    model = models_dict[key]\n",
    "    value = model.score(X_test, y_test)*100\n",
    "    score += [round(value, 2)]\n",
    "\n",
    "# Add Keras accuracy\n",
    "modelName += ['Keras']\n",
    "kerasAcc = history.history['accuracy'][np.argmin(history.history['loss'])]*100\n",
    "score += [round(kerasAcc, 2)]\n",
    "\n",
    "# Create DataFrame of results\n",
    "d = {'Model': modelName, 'Accuracy': score}\n",
    "results = pd.DataFrame(d).sort_values(by=['Accuracy'], ascending=False)\n",
    "results"
   ]
  }
 ],
 "metadata": {
  "kernelspec": {
   "display_name": "Python 3",
   "language": "python",
   "name": "python3"
  },
  "language_info": {
   "codemirror_mode": {
    "name": "ipython",
    "version": 3
   },
   "file_extension": ".py",
   "mimetype": "text/x-python",
   "name": "python",
   "nbconvert_exporter": "python",
   "pygments_lexer": "ipython3",
   "version": "3.8.8"
  }
 },
 "nbformat": 4,
 "nbformat_minor": 5
}
