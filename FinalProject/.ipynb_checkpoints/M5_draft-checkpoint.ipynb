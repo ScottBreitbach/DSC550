{
 "cells": [
  {
   "cell_type": "markdown",
   "id": "5de107b1-5130-43b9-b510-7ab4240c202b",
   "metadata": {},
   "source": [
    "# Scott Breitbach\n",
    "## 31-May-2021\n",
    "## DSC550, Milestone 5: Final Project"
   ]
  },
  {
   "cell_type": "markdown",
   "id": "4daa1548-ad3c-46e3-8481-9d37ae297ca0",
   "metadata": {},
   "source": [
    "# Case Study: Beans"
   ]
  },
  {
   "cell_type": "markdown",
   "id": "17718114-e876-4d40-bb94-14d4b00d543a",
   "metadata": {},
   "source": [
    "## Introduction"
   ]
  },
  {
   "cell_type": "markdown",
   "id": "9d499cc9-d480-4e96-bd1b-6a13b8370242",
   "metadata": {},
   "source": [
    "My initial intention with this project was to utilize a data set from a project I’ve been working on in my job in the hopes of getting not just a better understanding of the process, but hopefully gaining some insights into how the process could be improved. Unfortunately, I quickly realized that the data set I was using was maybe not ideal for applying the topics covered in this class. There is lots of missing data and by the time the useful data gets sorted out, there really wasn’t enough left to work with.  \n",
    "\n",
    "Following this minor setback, I was able to find another data set about dry beans that was not just a better fit for this class, but also appealed to some of my interests. I grew up farming and considered going into plant genetics before falling into the field of microbiology.  So a data set about a food crop felt like a good option with which to proceed.\n"
   ]
  },
  {
   "cell_type": "markdown",
   "id": "133590b1-5b14-45e6-93d8-095a8b6bb89e",
   "metadata": {},
   "source": [
    "## Business Problem / Data"
   ]
  },
  {
   "cell_type": "markdown",
   "id": "413b580f-d066-416a-ad86-3ab4c963886d",
   "metadata": {},
   "source": [
    "Dry beans are an important food crop worldwide. There is a lot of diversity in bean varieties and both classification and seed quality are important factors in the agricultural industry for maximizing production in order to feed the growing world population.  \n",
    "\n",
    "This data set was created utilizing computer vision to automatically generate 16 features based on high resolution images of 13,611 individuals from 7 different kinds of beans. These features are based on various measurements of the beans on 12 form dimensions (such as area, length, and perimeter) and 4 shape factors.  \n",
    "\n",
    "With an effective method to classify beans, the agricultural needs of bean uniformity can be met, both in regards to sorting beans as well as quality and consistency within bean varieties.  \n",
    "\n",
    "Data source: https://archive.ics.uci.edu/ml/datasets/Dry+Bean+Dataset"
   ]
  },
  {
   "cell_type": "code",
   "execution_count": 1,
   "id": "2bc9cb21-0d74-42af-a164-8b9be32ab416",
   "metadata": {},
   "outputs": [
    {
     "name": "stderr",
     "output_type": "stream",
     "text": [
      "C:\\ProgramData\\Anaconda3\\lib\\site-packages\\numpy\\_distributor_init.py:30: UserWarning: loaded more than 1 DLL from .libs:\n",
      "C:\\ProgramData\\Anaconda3\\lib\\site-packages\\numpy\\.libs\\libopenblas.NOIJJG62EMASZI6NYURL6JBKM4EVBGM7.gfortran-win_amd64.dll\n",
      "C:\\ProgramData\\Anaconda3\\lib\\site-packages\\numpy\\.libs\\libopenblas.WCDJNK7YVMPZQ2ME2ZZHJJRJ3JIKNDB7.gfortran-win_amd64.dll\n",
      "  warnings.warn(\"loaded more than 1 DLL from .libs:\"\n"
     ]
    }
   ],
   "source": [
    "# Load Libraries\n",
    "import pandas as pd\n",
    "import numpy as np\n",
    "\n",
    "# Set random seed\n",
    "np.random.seed(42)"
   ]
  },
  {
   "cell_type": "markdown",
   "id": "937569b6-9dac-4ce2-9b19-d446fd66fdac",
   "metadata": {},
   "source": [
    "### Load Data"
   ]
  },
  {
   "cell_type": "code",
   "execution_count": 2,
   "id": "c3a4c223-cdd3-4bde-a24e-c888fb3a7ead",
   "metadata": {},
   "outputs": [],
   "source": [
    "# Load data to a DataFrame\n",
    "beanDF = pd.read_excel('DryBeanDataset/Dry_Bean_Dataset.xlsx')"
   ]
  },
  {
   "cell_type": "code",
   "execution_count": 3,
   "id": "2a32ba66-c2c4-440c-86e6-7f367f3e9a16",
   "metadata": {},
   "outputs": [
    {
     "data": {
      "text/html": [
       "<div>\n",
       "<style scoped>\n",
       "    .dataframe tbody tr th:only-of-type {\n",
       "        vertical-align: middle;\n",
       "    }\n",
       "\n",
       "    .dataframe tbody tr th {\n",
       "        vertical-align: top;\n",
       "    }\n",
       "\n",
       "    .dataframe thead th {\n",
       "        text-align: right;\n",
       "    }\n",
       "</style>\n",
       "<table border=\"1\" class=\"dataframe\">\n",
       "  <thead>\n",
       "    <tr style=\"text-align: right;\">\n",
       "      <th></th>\n",
       "      <th>Area</th>\n",
       "      <th>Perimeter</th>\n",
       "      <th>MajorAxisLength</th>\n",
       "      <th>MinorAxisLength</th>\n",
       "      <th>AspectRation</th>\n",
       "      <th>Eccentricity</th>\n",
       "      <th>ConvexArea</th>\n",
       "      <th>EquivDiameter</th>\n",
       "      <th>Extent</th>\n",
       "      <th>Solidity</th>\n",
       "      <th>roundness</th>\n",
       "      <th>Compactness</th>\n",
       "      <th>ShapeFactor1</th>\n",
       "      <th>ShapeFactor2</th>\n",
       "      <th>ShapeFactor3</th>\n",
       "      <th>ShapeFactor4</th>\n",
       "      <th>Class</th>\n",
       "    </tr>\n",
       "  </thead>\n",
       "  <tbody>\n",
       "    <tr>\n",
       "      <th>0</th>\n",
       "      <td>28395</td>\n",
       "      <td>610.291</td>\n",
       "      <td>208.178117</td>\n",
       "      <td>173.888747</td>\n",
       "      <td>1.197191</td>\n",
       "      <td>0.549812</td>\n",
       "      <td>28715</td>\n",
       "      <td>190.141097</td>\n",
       "      <td>0.763923</td>\n",
       "      <td>0.988856</td>\n",
       "      <td>0.958027</td>\n",
       "      <td>0.913358</td>\n",
       "      <td>0.007332</td>\n",
       "      <td>0.003147</td>\n",
       "      <td>0.834222</td>\n",
       "      <td>0.998724</td>\n",
       "      <td>SEKER</td>\n",
       "    </tr>\n",
       "    <tr>\n",
       "      <th>1</th>\n",
       "      <td>28734</td>\n",
       "      <td>638.018</td>\n",
       "      <td>200.524796</td>\n",
       "      <td>182.734419</td>\n",
       "      <td>1.097356</td>\n",
       "      <td>0.411785</td>\n",
       "      <td>29172</td>\n",
       "      <td>191.272750</td>\n",
       "      <td>0.783968</td>\n",
       "      <td>0.984986</td>\n",
       "      <td>0.887034</td>\n",
       "      <td>0.953861</td>\n",
       "      <td>0.006979</td>\n",
       "      <td>0.003564</td>\n",
       "      <td>0.909851</td>\n",
       "      <td>0.998430</td>\n",
       "      <td>SEKER</td>\n",
       "    </tr>\n",
       "    <tr>\n",
       "      <th>2</th>\n",
       "      <td>29380</td>\n",
       "      <td>624.110</td>\n",
       "      <td>212.826130</td>\n",
       "      <td>175.931143</td>\n",
       "      <td>1.209713</td>\n",
       "      <td>0.562727</td>\n",
       "      <td>29690</td>\n",
       "      <td>193.410904</td>\n",
       "      <td>0.778113</td>\n",
       "      <td>0.989559</td>\n",
       "      <td>0.947849</td>\n",
       "      <td>0.908774</td>\n",
       "      <td>0.007244</td>\n",
       "      <td>0.003048</td>\n",
       "      <td>0.825871</td>\n",
       "      <td>0.999066</td>\n",
       "      <td>SEKER</td>\n",
       "    </tr>\n",
       "    <tr>\n",
       "      <th>3</th>\n",
       "      <td>30008</td>\n",
       "      <td>645.884</td>\n",
       "      <td>210.557999</td>\n",
       "      <td>182.516516</td>\n",
       "      <td>1.153638</td>\n",
       "      <td>0.498616</td>\n",
       "      <td>30724</td>\n",
       "      <td>195.467062</td>\n",
       "      <td>0.782681</td>\n",
       "      <td>0.976696</td>\n",
       "      <td>0.903936</td>\n",
       "      <td>0.928329</td>\n",
       "      <td>0.007017</td>\n",
       "      <td>0.003215</td>\n",
       "      <td>0.861794</td>\n",
       "      <td>0.994199</td>\n",
       "      <td>SEKER</td>\n",
       "    </tr>\n",
       "    <tr>\n",
       "      <th>4</th>\n",
       "      <td>30140</td>\n",
       "      <td>620.134</td>\n",
       "      <td>201.847882</td>\n",
       "      <td>190.279279</td>\n",
       "      <td>1.060798</td>\n",
       "      <td>0.333680</td>\n",
       "      <td>30417</td>\n",
       "      <td>195.896503</td>\n",
       "      <td>0.773098</td>\n",
       "      <td>0.990893</td>\n",
       "      <td>0.984877</td>\n",
       "      <td>0.970516</td>\n",
       "      <td>0.006697</td>\n",
       "      <td>0.003665</td>\n",
       "      <td>0.941900</td>\n",
       "      <td>0.999166</td>\n",
       "      <td>SEKER</td>\n",
       "    </tr>\n",
       "  </tbody>\n",
       "</table>\n",
       "</div>"
      ],
      "text/plain": [
       "    Area  Perimeter  MajorAxisLength  MinorAxisLength  AspectRation  \\\n",
       "0  28395    610.291       208.178117       173.888747      1.197191   \n",
       "1  28734    638.018       200.524796       182.734419      1.097356   \n",
       "2  29380    624.110       212.826130       175.931143      1.209713   \n",
       "3  30008    645.884       210.557999       182.516516      1.153638   \n",
       "4  30140    620.134       201.847882       190.279279      1.060798   \n",
       "\n",
       "   Eccentricity  ConvexArea  EquivDiameter    Extent  Solidity  roundness  \\\n",
       "0      0.549812       28715     190.141097  0.763923  0.988856   0.958027   \n",
       "1      0.411785       29172     191.272750  0.783968  0.984986   0.887034   \n",
       "2      0.562727       29690     193.410904  0.778113  0.989559   0.947849   \n",
       "3      0.498616       30724     195.467062  0.782681  0.976696   0.903936   \n",
       "4      0.333680       30417     195.896503  0.773098  0.990893   0.984877   \n",
       "\n",
       "   Compactness  ShapeFactor1  ShapeFactor2  ShapeFactor3  ShapeFactor4  Class  \n",
       "0     0.913358      0.007332      0.003147      0.834222      0.998724  SEKER  \n",
       "1     0.953861      0.006979      0.003564      0.909851      0.998430  SEKER  \n",
       "2     0.908774      0.007244      0.003048      0.825871      0.999066  SEKER  \n",
       "3     0.928329      0.007017      0.003215      0.861794      0.994199  SEKER  \n",
       "4     0.970516      0.006697      0.003665      0.941900      0.999166  SEKER  "
      ]
     },
     "execution_count": 3,
     "metadata": {},
     "output_type": "execute_result"
    }
   ],
   "source": [
    "# Get a look at the data\n",
    "beanDF.head()"
   ]
  },
  {
   "cell_type": "markdown",
   "id": "484ab08e-d8c2-4ead-97a0-f3902fd9666f",
   "metadata": {},
   "source": [
    "The values for different features vary by orders of magnitude, so these will need to be scaled prior to modeling. "
   ]
  },
  {
   "cell_type": "code",
   "execution_count": 4,
   "id": "7f399f2c-8cc9-462a-90c2-8054a39367db",
   "metadata": {},
   "outputs": [
    {
     "data": {
      "text/plain": [
       "(13611, 17)"
      ]
     },
     "execution_count": 4,
     "metadata": {},
     "output_type": "execute_result"
    }
   ],
   "source": [
    "# Look at the shape of the DataFrame\n",
    "beanDF.shape"
   ]
  },
  {
   "cell_type": "code",
   "execution_count": 5,
   "id": "e2dfa622-fd58-4532-81a0-65870e9481a7",
   "metadata": {},
   "outputs": [
    {
     "data": {
      "text/plain": [
       "Class\n",
       "DERMASON    3546\n",
       "SIRA        2636\n",
       "SEKER       2027\n",
       "HOROZ       1928\n",
       "CALI        1630\n",
       "BARBUNYA    1322\n",
       "BOMBAY       522\n",
       "dtype: int64"
      ]
     },
     "execution_count": 5,
     "metadata": {},
     "output_type": "execute_result"
    }
   ],
   "source": [
    "# See the relative numbers of each target category\n",
    "beanDF.value_counts('Class')"
   ]
  },
  {
   "cell_type": "markdown",
   "id": "17ca62bc-b4cf-48d6-aef4-7f85cd437f97",
   "metadata": {},
   "source": [
    "We can see here that an immediate improvement to the data set would be to increase the number of data points for beans like 'CALI', 'BARBUNYA', and particularly 'BOMBAY', or better yet make the entire data set more uniform by increasing the data points for each bean to around 3,500 in order to match 'DERMASON'. "
   ]
  },
  {
   "cell_type": "markdown",
   "id": "14668dd5-bbdc-4b71-b057-592c10ba415e",
   "metadata": {},
   "source": [
    "## Graphical Analysis"
   ]
  },
  {
   "cell_type": "code",
   "execution_count": 18,
   "id": "dcaafbaf-5d9f-4ce2-b72b-4f58748fff46",
   "metadata": {},
   "outputs": [],
   "source": [
    "# Load libraries\n",
    "import matplotlib.pyplot as plt\n",
    "\n",
    "# Set up figure size\n",
    "plt.rcParams['figure.figsize'] = (15, 10)"
   ]
  },
  {
   "cell_type": "markdown",
   "id": "3884a534-13df-40f6-9da1-81dc6bfc8368",
   "metadata": {},
   "source": [
    "### Visualize Relative Counts by Class (the target variable)"
   ]
  },
  {
   "cell_type": "code",
   "execution_count": 19,
   "id": "11f82b8c-be1b-44b8-9e19-593db46d2870",
   "metadata": {},
   "outputs": [
    {
     "data": {
      "image/png": "[encoded data removed]",
      "text/plain": [
       "<Figure size 1080x720 with 1 Axes>"
      ]
     },
     "metadata": {
      "needs_background": "light"
     },
     "output_type": "display_data"
    }
   ],
   "source": [
    "# Get the data ready to feed into the visualizer\n",
    "X_Class = beanDF.groupby('Class').size().reset_index(name='Counts')['Class']\n",
    "Y_Class = beanDF.groupby('Class').size().reset_index(name='Counts')['Counts']\n",
    "\n",
    "# Make the 1st bar plot\n",
    "plt.bar(X_Class, Y_Class)\n",
    "plt.title('Counts by Class', fontsize=30)\n",
    "plt.xlabel('Class of Bean', fontsize=20)\n",
    "plt.ylabel('Counts', fontsize=20)\n",
    "plt.tick_params(axis='both', labelsize=15)\n",
    "\n",
    "plt.show()"
   ]
  },
  {
   "cell_type": "code",
   "execution_count": 20,
   "id": "18ad8043-04a5-4cc1-8fe0-98400c64c8ea",
   "metadata": {},
   "outputs": [
    {
     "data": {
      "text/plain": [
       "<AxesSubplot:xlabel='Class'>"
      ]
     },
     "execution_count": 20,
     "metadata": {},
     "output_type": "execute_result"
    },
    {
     "data": {
      "image/png": "[encoded data removed]",
      "text/plain": [
       "<Figure size 1080x720 with 1 Axes>"
      ]
     },
     "metadata": {
      "needs_background": "light"
     },
     "output_type": "display_data"
    }
   ],
   "source": [
    "beanDF.groupby('Class').aggregate({'Area':'mean'}).plot(kind='bar')"
   ]
  },
  {
   "cell_type": "code",
   "execution_count": null,
   "id": "3be74afe-9204-4c1f-9449-8e75bbf32c77",
   "metadata": {},
   "outputs": [],
   "source": [
    "beanDF.groupby('Class').aggregate({'Area':'mean'}).plot(kind='bar')"
   ]
  },
  {
   "cell_type": "code",
   "execution_count": 28,
   "id": "b23606c1-f676-421e-a889-fe5103c40f92",
   "metadata": {},
   "outputs": [
    {
     "data": {
      "text/plain": [
       "0    BARBUNYA\n",
       "1      BOMBAY\n",
       "2        CALI\n",
       "3    DERMASON\n",
       "4       HOROZ\n",
       "5       SEKER\n",
       "6        SIRA\n",
       "Name: Class, dtype: object"
      ]
     },
     "execution_count": 28,
     "metadata": {},
     "output_type": "execute_result"
    }
   ],
   "source": [
    "beanDF.groupby('Class').aggregate({'Area':'mean'}).reset_index('Class')['Class']"
   ]
  },
  {
   "cell_type": "code",
   "execution_count": 29,
   "id": "90f073c6-1c3a-4f2e-80ea-d7bb69098e6a",
   "metadata": {},
   "outputs": [
    {
     "data": {
      "text/plain": [
       "0     69804.133132\n",
       "1    173485.059387\n",
       "2     75538.211043\n",
       "3     32118.710942\n",
       "4     53648.508817\n",
       "5     39881.299951\n",
       "6     44729.128604\n",
       "Name: Area, dtype: float64"
      ]
     },
     "execution_count": 29,
     "metadata": {},
     "output_type": "execute_result"
    }
   ],
   "source": [
    "beanDF.groupby('Class').aggregate({'Area':'mean'}).reset_index('Class')['Area']"
   ]
  },
  {
   "cell_type": "code",
   "execution_count": 55,
   "id": "855d985f-3432-4554-98e9-e561581a2a57",
   "metadata": {},
   "outputs": [
    {
     "data": {
      "text/plain": [
       "['BARBUNYA', 'BOMBAY', 'CALI', 'DERMASON', 'HOROZ', 'SEKER', 'SIRA']"
      ]
     },
     "execution_count": 55,
     "metadata": {},
     "output_type": "execute_result"
    }
   ],
   "source": [
    "sorted(beanDF.Class.unique())"
   ]
  },
  {
   "cell_type": "code",
   "execution_count": 78,
   "id": "dba0518f-5407-4b35-9c0a-8c09e50d2c54",
   "metadata": {},
   "outputs": [
    {
     "data": {
      "text/plain": [
       "Index(['Area', 'Perimeter', 'MajorAxisLength', 'MinorAxisLength',\n",
       "       'AspectRation', 'Eccentricity', 'ConvexArea', 'EquivDiameter', 'Extent',\n",
       "       'Solidity', 'roundness', 'Compactness', 'ShapeFactor1', 'ShapeFactor2',\n",
       "       'ShapeFactor3', 'ShapeFactor4', 'Class'],\n",
       "      dtype='object')"
      ]
     },
     "execution_count": 78,
     "metadata": {},
     "output_type": "execute_result"
    }
   ],
   "source": [
    "beanDF.columns"
   ]
  },
  {
   "cell_type": "code",
   "execution_count": 88,
   "id": "19e7b4fe-9edb-422f-aa10-87088bec03ff",
   "metadata": {},
   "outputs": [
    {
     "data": {
      "text/plain": [
       "Text(0.5, 1.0, 'Compactness')"
      ]
     },
     "execution_count": 88,
     "metadata": {},
     "output_type": "execute_result"
    },
    {
     "data": {
      "image/png": "[encoded data removed]",
      "text/plain": [
       "<Figure size 1440x1080 with 12 Axes>"
      ]
     },
     "metadata": {
      "needs_background": "light"
     },
     "output_type": "display_data"
    }
   ],
   "source": [
    "# Set up figure size\n",
    "plt.rcParams['figure.figsize'] = (20, 15)\n",
    "\n",
    "# Make subplots\n",
    "fig, axes = plt.subplots(nrows=4, ncols=3, sharex='col')\n",
    "\n",
    "# Set font sizes\n",
    "title  = 15\n",
    "yLabel = 12\n",
    "ticks  = 8\n",
    "# Set up axes / ticks\n",
    "for ax in fig.axes:\n",
    "    plt.sca(ax)\n",
    "    plt.xticks(rotation=45)\n",
    "    plt.ylabel('Mean', fontsize=yLabel)\n",
    "\n",
    "## PLOT 1 - AREA\n",
    "# Group by 'Class'\n",
    "X_Axis = beanDF.groupby('Class').aggregate({'Area':'mean'}).reset_index('Class')['Class']\n",
    "Y_Axis = beanDF.groupby('Class').aggregate({'Area':'mean'}).reset_index('Class')['Area']\n",
    "# Build chart\n",
    "axes[0, 0].bar(X_Axis, Y_Axis)\n",
    "axes[0, 0].set_title('Area', fontsize=title)\n",
    "# axes[0, 0].set_ylabel('Mean', fontsize=yLabel)\n",
    "# axes[0, 0].tick_params(axis='y', labelsize=ticks)\n",
    "# axes[0, 0].tick_params(axis='x', labelsize=ticks, labelrotation=-25)\n",
    "\n",
    "## PLOT 2 - PERIMETER\n",
    "# Group by 'Class'\n",
    "X_Axis = beanDF.groupby('Class').aggregate({'Perimeter':'mean'}).reset_index('Class')['Class']\n",
    "Y_Axis = beanDF.groupby('Class').aggregate({'Perimeter':'mean'}).reset_index('Class')['Perimeter']\n",
    "# Build chart\n",
    "axes[0, 1].bar(X_Axis, Y_Axis)\n",
    "axes[0, 1].set_title('Perimeter', fontsize=title)\n",
    "\n",
    "## PLOT 3 - MAJOR AXIS LENGTH\n",
    "# Group by 'Class'\n",
    "X_Axis = beanDF.groupby('Class').aggregate({'MajorAxisLength':'mean'}).reset_index('Class')['Class']\n",
    "Y_Axis = beanDF.groupby('Class').aggregate({'MajorAxisLength':'mean'}).reset_index('Class')['MajorAxisLength']\n",
    "# Build chart\n",
    "axes[0, 2].bar(X_Axis, Y_Axis)\n",
    "axes[0, 2].set_title('Major Axis Length', fontsize=title)\n",
    "\n",
    "## PLOT 4 - MINOR AXIS LENGTH\n",
    "# Group by 'Class'\n",
    "X_Axis = beanDF.groupby('Class').aggregate({'MinorAxisLength':'mean'}).reset_index('Class')['Class']\n",
    "Y_Axis = beanDF.groupby('Class').aggregate({'MinorAxisLength':'mean'}).reset_index('Class')['MinorAxisLength']\n",
    "# Build chart\n",
    "axes[1, 0].bar(X_Axis, Y_Axis)\n",
    "axes[1, 0].set_title('Minor Axis Length', fontsize=title)\n",
    "\n",
    "## PLOT 5 - ASPECT RATIO\n",
    "# Group by 'Class'\n",
    "X_Axis = beanDF.groupby('Class').aggregate({'AspectRation':'mean'}).reset_index('Class')['Class']\n",
    "Y_Axis = beanDF.groupby('Class').aggregate({'AspectRation':'mean'}).reset_index('Class')['AspectRation']\n",
    "# Build chart\n",
    "axes[1, 1].bar(X_Axis, Y_Axis)\n",
    "axes[1, 1].set_title('Aspect Ratio', fontsize=title)\n",
    "\n",
    "## PLOT 6 - ECCENTRICITY\n",
    "# Group by 'Class'\n",
    "X_Axis = beanDF.groupby('Class').aggregate({'Eccentricity':'mean'}).reset_index('Class')['Class']\n",
    "Y_Axis = beanDF.groupby('Class').aggregate({'Eccentricity':'mean'}).reset_index('Class')['Eccentricity']\n",
    "# Build chart\n",
    "axes[1, 2].bar(X_Axis, Y_Axis)\n",
    "axes[1, 2].set_title('Eccentricity', fontsize=title)\n",
    "\n",
    "## PLOT 7 - CONVEX AREA\n",
    "# Group by 'Class'\n",
    "X_Axis = beanDF.groupby('Class').aggregate({'ConvexArea':'mean'}).reset_index('Class')['Class']\n",
    "Y_Axis = beanDF.groupby('Class').aggregate({'ConvexArea':'mean'}).reset_index('Class')['ConvexArea']\n",
    "# Build chart\n",
    "axes[2, 0].bar(X_Axis, Y_Axis)\n",
    "axes[2, 0].set_title('Convex Area', fontsize=title)\n",
    "\n",
    "## PLOT 8 - EQUIV DIAMETER\n",
    "# Group by 'Class'\n",
    "X_Axis = beanDF.groupby('Class').aggregate({'EquivDiameter':'mean'}).reset_index('Class')['Class']\n",
    "Y_Axis = beanDF.groupby('Class').aggregate({'EquivDiameter':'mean'}).reset_index('Class')['EquivDiameter']\n",
    "# Build chart\n",
    "axes[2, 1].bar(X_Axis, Y_Axis)\n",
    "axes[2, 1].set_title('Equiv Diameter', fontsize=title)\n",
    "\n",
    "## PLOT 9 - EXTENT\n",
    "# Group by 'Class'\n",
    "X_Axis = beanDF.groupby('Class').aggregate({'Extent':'mean'}).reset_index('Class')['Class']\n",
    "Y_Axis = beanDF.groupby('Class').aggregate({'Extent':'mean'}).reset_index('Class')['Extent']\n",
    "# Build chart\n",
    "axes[2, 2].bar(X_Axis, Y_Axis)\n",
    "axes[2, 2].set_title('Extent', fontsize=title)\n",
    "\n",
    "## PLOT 10 - SOLIDITY\n",
    "# Group by 'Class'\n",
    "X_Axis = beanDF.groupby('Class').aggregate({'Solidity':'mean'}).reset_index('Class')['Class']\n",
    "Y_Axis = beanDF.groupby('Class').aggregate({'Solidity':'mean'}).reset_index('Class')['Solidity']\n",
    "# Build chart\n",
    "axes[3, 0].bar(X_Axis, Y_Axis)\n",
    "axes[3, 0].set_title('Solidity', fontsize=title)\n",
    "\n",
    "## PLOT 11 - ROUNDNESS\n",
    "# Group by 'Class'\n",
    "X_Axis = beanDF.groupby('Class').aggregate({'roundness':'mean'}).reset_index('Class')['Class']\n",
    "Y_Axis = beanDF.groupby('Class').aggregate({'roundness':'mean'}).reset_index('Class')['roundness']\n",
    "# Build chart\n",
    "axes[3, 1].bar(X_Axis, Y_Axis)\n",
    "axes[3, 1].set_title('Roundness', fontsize=title)\n",
    "\n",
    "## PLOT 12 - COMPACTNESS\n",
    "# Group by 'Class'\n",
    "X_Axis = beanDF.groupby('Class').aggregate({'Compactness':'mean'}).reset_index('Class')['Class']\n",
    "Y_Axis = beanDF.groupby('Class').aggregate({'Compactness':'mean'}).reset_index('Class')['Compactness']\n",
    "# Build chart\n",
    "axes[3, 2].bar(X_Axis, Y_Axis)\n",
    "axes[3, 2].set_title('Compactness', fontsize=title)"
   ]
  },
  {
   "cell_type": "markdown",
   "id": "03fe705c-ce80-4bb0-ae8b-dbfcbdc90a20",
   "metadata": {},
   "source": [
    "## Dimensionality & Feature Reduction / Engineering"
   ]
  },
  {
   "cell_type": "code",
   "execution_count": null,
   "id": "97f9b2f9-6b59-4040-a95e-ff668281c56a",
   "metadata": {},
   "outputs": [],
   "source": []
  },
  {
   "cell_type": "code",
   "execution_count": null,
   "id": "26f3ae41-2273-4c4c-a1f4-1beed3e76e8b",
   "metadata": {},
   "outputs": [],
   "source": []
  },
  {
   "cell_type": "markdown",
   "id": "1cf97d5e-6d6f-4af2-9750-d8b353c26564",
   "metadata": {},
   "source": [
    "## Model Selection & Evaluation"
   ]
  },
  {
   "cell_type": "code",
   "execution_count": null,
   "id": "9663116d-9662-4949-86c9-47ffc3d10d56",
   "metadata": {},
   "outputs": [],
   "source": []
  },
  {
   "cell_type": "code",
   "execution_count": null,
   "id": "d99451a3-abff-4e00-bb9e-45618368e420",
   "metadata": {},
   "outputs": [],
   "source": []
  },
  {
   "cell_type": "markdown",
   "id": "0eee79b5-ae70-4562-9b72-2324fc675233",
   "metadata": {},
   "source": [
    "## Conclusion"
   ]
  },
  {
   "cell_type": "code",
   "execution_count": null,
   "id": "cdc9da23-236f-4be9-83f1-12a92c1cfa43",
   "metadata": {},
   "outputs": [],
   "source": []
  }
 ],
 "metadata": {
  "kernelspec": {
   "display_name": "Python 3",
   "language": "python",
   "name": "python3"
  },
  "language_info": {
   "codemirror_mode": {
    "name": "ipython",
    "version": 3
   },
   "file_extension": ".py",
   "mimetype": "text/x-python",
   "name": "python",
   "nbconvert_exporter": "python",
   "pygments_lexer": "ipython3",
   "version": "3.8.8"
  }
 },
 "nbformat": 4,
 "nbformat_minor": 5
}
