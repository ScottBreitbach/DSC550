{
 "cells": [
  {
   "cell_type": "code",
   "execution_count": null,
   "metadata": {},
   "outputs": [],
   "source": []
  },
  {
   "cell_type": "code",
   "execution_count": 1,
   "metadata": {},
   "outputs": [],
   "source": [
    "# Load Libraries\n",
    "import pandas as pd\n",
    "import numpy as np"
   ]
  },
  {
   "cell_type": "markdown",
   "metadata": {},
   "source": [
    "### Load Data"
   ]
  },
  {
   "cell_type": "code",
   "execution_count": 2,
   "metadata": {},
   "outputs": [],
   "source": [
    "# Load data to a DataFrame\n",
    "beanDF = pd.read_excel('DryBeanDataset/Dry_Bean_Dataset.xlsx')"
   ]
  },
  {
   "cell_type": "code",
   "execution_count": 3,
   "metadata": {},
   "outputs": [
    {
     "data": {
      "text/plain": [
       "Class\n",
       "DERMASON    3546\n",
       "SIRA        2636\n",
       "SEKER       2027\n",
       "HOROZ       1928\n",
       "CALI        1630\n",
       "BARBUNYA    1322\n",
       "BOMBAY       522\n",
       "dtype: int64"
      ]
     },
     "execution_count": 3,
     "metadata": {},
     "output_type": "execute_result"
    }
   ],
   "source": [
    "# See the relative numbers of each target category\n",
    "beanDF.value_counts('Class')"
   ]
  },
  {
   "cell_type": "code",
   "execution_count": 4,
   "metadata": {},
   "outputs": [],
   "source": [
    "df = beanDF.copy()"
   ]
  },
  {
   "cell_type": "markdown",
   "metadata": {},
   "source": [
    "### Drop Features"
   ]
  },
  {
   "cell_type": "markdown",
   "metadata": {},
   "source": [
    "#### Lowest Variance"
   ]
  },
  {
   "cell_type": "code",
   "execution_count": 5,
   "metadata": {},
   "outputs": [
    {
     "data": {
      "text/html": [
       "<div>\n",
       "<style scoped>\n",
       "    .dataframe tbody tr th:only-of-type {\n",
       "        vertical-align: middle;\n",
       "    }\n",
       "\n",
       "    .dataframe tbody tr th {\n",
       "        vertical-align: top;\n",
       "    }\n",
       "\n",
       "    .dataframe thead th {\n",
       "        text-align: right;\n",
       "    }\n",
       "</style>\n",
       "<table border=\"1\" class=\"dataframe\">\n",
       "  <thead>\n",
       "    <tr style=\"text-align: right;\">\n",
       "      <th></th>\n",
       "      <th>Column</th>\n",
       "      <th>Variance</th>\n",
       "    </tr>\n",
       "  </thead>\n",
       "  <tbody>\n",
       "    <tr>\n",
       "      <th>6</th>\n",
       "      <td>ConvexArea</td>\n",
       "      <td>8.864805e+08</td>\n",
       "    </tr>\n",
       "    <tr>\n",
       "      <th>0</th>\n",
       "      <td>Area</td>\n",
       "      <td>8.598394e+08</td>\n",
       "    </tr>\n",
       "    <tr>\n",
       "      <th>1</th>\n",
       "      <td>Perimeter</td>\n",
       "      <td>4.591670e+04</td>\n",
       "    </tr>\n",
       "    <tr>\n",
       "      <th>2</th>\n",
       "      <td>MajorAxisLength</td>\n",
       "      <td>7.342954e+03</td>\n",
       "    </tr>\n",
       "    <tr>\n",
       "      <th>7</th>\n",
       "      <td>EquivDiameter</td>\n",
       "      <td>3.501674e+03</td>\n",
       "    </tr>\n",
       "    <tr>\n",
       "      <th>3</th>\n",
       "      <td>MinorAxisLength</td>\n",
       "      <td>2.022161e+03</td>\n",
       "    </tr>\n",
       "    <tr>\n",
       "      <th>4</th>\n",
       "      <td>AspectRation</td>\n",
       "      <td>6.084579e-02</td>\n",
       "    </tr>\n",
       "    <tr>\n",
       "      <th>14</th>\n",
       "      <td>ShapeFactor3</td>\n",
       "      <td>9.799518e-03</td>\n",
       "    </tr>\n",
       "    <tr>\n",
       "      <th>5</th>\n",
       "      <td>Eccentricity</td>\n",
       "      <td>8.463703e-03</td>\n",
       "    </tr>\n",
       "    <tr>\n",
       "      <th>11</th>\n",
       "      <td>Compactness</td>\n",
       "      <td>3.808272e-03</td>\n",
       "    </tr>\n",
       "    <tr>\n",
       "      <th>10</th>\n",
       "      <td>roundness</td>\n",
       "      <td>3.542357e-03</td>\n",
       "    </tr>\n",
       "    <tr>\n",
       "      <th>8</th>\n",
       "      <td>Extent</td>\n",
       "      <td>2.409294e-03</td>\n",
       "    </tr>\n",
       "    <tr>\n",
       "      <th>9</th>\n",
       "      <td>Solidity</td>\n",
       "      <td>2.171754e-05</td>\n",
       "    </tr>\n",
       "    <tr>\n",
       "      <th>15</th>\n",
       "      <td>ShapeFactor4</td>\n",
       "      <td>1.906455e-05</td>\n",
       "    </tr>\n",
       "    <tr>\n",
       "      <th>12</th>\n",
       "      <td>ShapeFactor1</td>\n",
       "      <td>1.272287e-06</td>\n",
       "    </tr>\n",
       "    <tr>\n",
       "      <th>13</th>\n",
       "      <td>ShapeFactor2</td>\n",
       "      <td>3.550408e-07</td>\n",
       "    </tr>\n",
       "  </tbody>\n",
       "</table>\n",
       "</div>"
      ],
      "text/plain": [
       "             Column      Variance\n",
       "6        ConvexArea  8.864805e+08\n",
       "0              Area  8.598394e+08\n",
       "1         Perimeter  4.591670e+04\n",
       "2   MajorAxisLength  7.342954e+03\n",
       "7     EquivDiameter  3.501674e+03\n",
       "3   MinorAxisLength  2.022161e+03\n",
       "4      AspectRation  6.084579e-02\n",
       "14     ShapeFactor3  9.799518e-03\n",
       "5      Eccentricity  8.463703e-03\n",
       "11      Compactness  3.808272e-03\n",
       "10        roundness  3.542357e-03\n",
       "8            Extent  2.409294e-03\n",
       "9          Solidity  2.171754e-05\n",
       "15     ShapeFactor4  1.906455e-05\n",
       "12     ShapeFactor1  1.272287e-06\n",
       "13     ShapeFactor2  3.550408e-07"
      ]
     },
     "execution_count": 5,
     "metadata": {},
     "output_type": "execute_result"
    }
   ],
   "source": [
    "## LOOK FOR FEATURES WITH LOW VARIANCE \n",
    "# (i.e. containing little information)\n",
    "\n",
    "# Load libraries\n",
    "from sklearn.feature_selection import VarianceThreshold\n",
    "\n",
    "# Create features and target\n",
    "features = beanDF.select_dtypes(include='number')\n",
    "target = beanDF.Class\n",
    "\n",
    "# Create thresholder\n",
    "thresholder = VarianceThreshold(threshold=0.5)\n",
    "\n",
    "# Create high-variance feature matrix\n",
    "features_high_variance = thresholder.fit_transform(features)\n",
    "\n",
    "# Look at features, sorted by variance (highest to lowest)\n",
    "d = {'Column': beanDF.columns[:-1], 'Variance': thresholder.fit(features).variances_}\n",
    "varianceDF = pd.DataFrame(d).sort_values('Variance', ascending=False)\n",
    "varianceDF"
   ]
  },
  {
   "cell_type": "code",
   "execution_count": 6,
   "metadata": {},
   "outputs": [
    {
     "data": {
      "text/plain": [
       "['Solidity', 'ShapeFactor4', 'ShapeFactor1', 'ShapeFactor2']"
      ]
     },
     "execution_count": 6,
     "metadata": {},
     "output_type": "execute_result"
    }
   ],
   "source": [
    "# Make a list of columns with variance less than 10e-4\n",
    "low_var = varianceDF['Column'][(varianceDF['Variance'] < 1e-4)].tolist()\n",
    "low_var"
   ]
  },
  {
   "cell_type": "code",
   "execution_count": 7,
   "metadata": {},
   "outputs": [
    {
     "data": {
      "text/plain": [
       "Index(['Area', 'Perimeter', 'MajorAxisLength', 'MinorAxisLength',\n",
       "       'AspectRation', 'Eccentricity', 'ConvexArea', 'EquivDiameter', 'Extent',\n",
       "       'roundness', 'Compactness', 'ShapeFactor3', 'Class'],\n",
       "      dtype='object')"
      ]
     },
     "execution_count": 7,
     "metadata": {},
     "output_type": "execute_result"
    }
   ],
   "source": [
    "beanDF.drop(columns=low_var, inplace=True)\n",
    "beanDF.columns"
   ]
  },
  {
   "cell_type": "markdown",
   "metadata": {},
   "source": [
    "#### Highly Correlated"
   ]
  },
  {
   "cell_type": "code",
   "execution_count": 8,
   "metadata": {},
   "outputs": [
    {
     "name": "stdout",
     "output_type": "stream",
     "text": [
      "Features with high correlation:\n",
      " ['ConvexArea', 'EquivDiameter', 'ShapeFactor3']\n"
     ]
    }
   ],
   "source": [
    "## LOOK AT HIGHLY CORRELATED FEATURES\n",
    "# (i.e. likely to be redundant)\n",
    "\n",
    "# Create features and target\n",
    "features = beanDF.select_dtypes(include='number')\n",
    "target = beanDF.Class\n",
    "\n",
    "# Create correlation matrix\n",
    "corr_matrix = features.corr().abs()\n",
    "\n",
    "# Select upper triangle of correlation matrix\n",
    "upper = corr_matrix.where(np.triu(np.ones(corr_matrix.shape),\n",
    "                                 k=1).astype(np.bool))\n",
    "\n",
    "# Find index of feature columns with high correlation\n",
    "to_drop = [column for column in upper.columns if any(upper[column] > 0.99)]\n",
    "\n",
    "# Features to drop\n",
    "print(\"Features with high correlation:\\n\", to_drop)"
   ]
  },
  {
   "cell_type": "code",
   "execution_count": 9,
   "metadata": {},
   "outputs": [
    {
     "data": {
      "text/plain": [
       "Index(['Area', 'Perimeter', 'MajorAxisLength', 'MinorAxisLength',\n",
       "       'AspectRation', 'Eccentricity', 'Extent', 'roundness', 'Compactness',\n",
       "       'Class'],\n",
       "      dtype='object')"
      ]
     },
     "execution_count": 9,
     "metadata": {},
     "output_type": "execute_result"
    }
   ],
   "source": [
    "beanDF.drop(columns=to_drop, inplace=True)\n",
    "beanDF.columns"
   ]
  },
  {
   "cell_type": "markdown",
   "metadata": {},
   "source": [
    "#### Most Informative"
   ]
  },
  {
   "cell_type": "code",
   "execution_count": 10,
   "metadata": {},
   "outputs": [
    {
     "data": {
      "text/plain": [
       "10"
      ]
     },
     "execution_count": 10,
     "metadata": {},
     "output_type": "execute_result"
    }
   ],
   "source": [
    "len(beanDF.columns)"
   ]
  },
  {
   "cell_type": "code",
   "execution_count": 11,
   "metadata": {},
   "outputs": [
    {
     "data": {
      "text/plain": [
       "array([2.83950000e+04, 6.10291000e+02, 2.08178117e+02, 1.73888747e+02,\n",
       "       1.19719142e+00, 5.49812187e-01, 9.13357755e-01])"
      ]
     },
     "execution_count": 11,
     "metadata": {},
     "output_type": "execute_result"
    }
   ],
   "source": [
    "## USE CHI-SQUARED TO FIND THE MOST INFORMATIVE FEATURES\n",
    "\n",
    "# Load libraries\n",
    "# from sklearn.feature_selection import SelectKBest\n",
    "from sklearn.feature_selection import chi2, f_classif\n",
    "from sklearn.feature_selection import SelectPercentile\n",
    "\n",
    "# Create features and target\n",
    "features = beanDF.select_dtypes(include='number')\n",
    "target = beanDF.Class\n",
    "\n",
    "# Select top 75% of features with highest F-values\n",
    "fvalue_selector = SelectPercentile(f_classif, percentile=80)\n",
    "features_kbest = fvalue_selector.fit_transform(features, target)\n",
    "\n",
    "# Look at first row of best features\n",
    "features_kbest[0]"
   ]
  },
  {
   "cell_type": "code",
   "execution_count": 12,
   "metadata": {},
   "outputs": [
    {
     "data": {
      "text/plain": [
       "RangeIndex(start=0, stop=13611, step=1)"
      ]
     },
     "execution_count": 12,
     "metadata": {},
     "output_type": "execute_result"
    }
   ],
   "source": [
    "features.index"
   ]
  },
  {
   "cell_type": "code",
   "execution_count": 13,
   "metadata": {},
   "outputs": [
    {
     "data": {
      "text/plain": [
       "Area               28395.000000\n",
       "Perimeter            610.291000\n",
       "MajorAxisLength      208.178117\n",
       "MinorAxisLength      173.888747\n",
       "AspectRation           1.197191\n",
       "Eccentricity           0.549812\n",
       "Extent                 0.763923\n",
       "roundness              0.958027\n",
       "Compactness            0.913358\n",
       "Name: 0, dtype: float64"
      ]
     },
     "execution_count": 13,
     "metadata": {},
     "output_type": "execute_result"
    }
   ],
   "source": [
    "# Compare to first row of all features\n",
    "features.iloc[0]"
   ]
  },
  {
   "cell_type": "code",
   "execution_count": 14,
   "metadata": {},
   "outputs": [
    {
     "data": {
      "text/plain": [
       "Area                True\n",
       "Perimeter           True\n",
       "MajorAxisLength     True\n",
       "MinorAxisLength     True\n",
       "AspectRation        True\n",
       "Eccentricity        True\n",
       "Extent             False\n",
       "roundness          False\n",
       "Compactness         True\n",
       "Name: 0, dtype: bool"
      ]
     },
     "execution_count": 14,
     "metadata": {},
     "output_type": "execute_result"
    }
   ],
   "source": [
    "# Check which features are in the kbest features\n",
    "features.iloc[0].isin(features_kbest[0])"
   ]
  },
  {
   "cell_type": "code",
   "execution_count": 15,
   "metadata": {},
   "outputs": [],
   "source": [
    "# Make a list of the low information features\n",
    "low_inf = ['Extent', 'roundness']"
   ]
  },
  {
   "cell_type": "code",
   "execution_count": 16,
   "metadata": {},
   "outputs": [
    {
     "data": {
      "text/plain": [
       "Index(['Area', 'Perimeter', 'MajorAxisLength', 'MinorAxisLength',\n",
       "       'AspectRation', 'Eccentricity', 'Compactness', 'Class'],\n",
       "      dtype='object')"
      ]
     },
     "execution_count": 16,
     "metadata": {},
     "output_type": "execute_result"
    }
   ],
   "source": [
    "# Drop low information features\n",
    "beanDF.drop(columns=low_inf, inplace=True)\n",
    "beanDF.columns"
   ]
  },
  {
   "cell_type": "markdown",
   "metadata": {},
   "source": [
    "### Histograms"
   ]
  },
  {
   "cell_type": "code",
   "execution_count": 17,
   "metadata": {},
   "outputs": [],
   "source": [
    "# Load libraries\n",
    "import matplotlib.pyplot as plt"
   ]
  },
  {
   "cell_type": "code",
   "execution_count": 18,
   "metadata": {},
   "outputs": [],
   "source": [
    "# Set up the figure size\n",
    "%matplotlib inline\n",
    "plt.rcParams['figure.figsize'] = (8, 4)"
   ]
  },
  {
   "cell_type": "code",
   "execution_count": 19,
   "metadata": {},
   "outputs": [],
   "source": [
    "def makeHistogram(var, df=beanDF):\n",
    "    # Create a histogram from a DataFrame variable\n",
    "    plt.hist(df[var], bins=40)\n",
    "    plt.xlabel(var, fontsize=20)\n",
    "    plt.ylabel('Counts', fontsize=20)\n",
    "    plt.tick_params(axis='both', labelsize=15)\n",
    "    plt.show()"
   ]
  },
  {
   "cell_type": "code",
   "execution_count": 20,
   "metadata": {},
   "outputs": [
    {
     "data": {
      "image/png": "[encoded data removed]",
      "text/plain": [
       "<Figure size 576x288 with 1 Axes>"
      ]
     },
     "metadata": {
      "needs_background": "light"
     },
     "output_type": "display_data"
    },
    {
     "data": {
      "image/png": "[encoded data removed]",
      "text/plain": [
       "<Figure size 576x288 with 1 Axes>"
      ]
     },
     "metadata": {
      "needs_background": "light"
     },
     "output_type": "display_data"
    },
    {
     "data": {
      "image/png": "[encoded data removed]",
      "text/plain": [
       "<Figure size 576x288 with 1 Axes>"
      ]
     },
     "metadata": {
      "needs_background": "light"
     },
     "output_type": "display_data"
    },
    {
     "data": {
      "image/png": "[encoded data removed]",
      "text/plain": [
       "<Figure size 576x288 with 1 Axes>"
      ]
     },
     "metadata": {
      "needs_background": "light"
     },
     "output_type": "display_data"
    },
    {
     "data": {
      "image/png": "[encoded data removed]",
      "text/plain": [
       "<Figure size 576x288 with 1 Axes>"
      ]
     },
     "metadata": {
      "needs_background": "light"
     },
     "output_type": "display_data"
    },
    {
     "data": {
      "image/png": "[encoded data removed]",
      "text/plain": [
       "<Figure size 576x288 with 1 Axes>"
      ]
     },
     "metadata": {
      "needs_background": "light"
     },
     "output_type": "display_data"
    },
    {
     "data": {
      "image/png": "[encoded data removed]",
      "text/plain": [
       "<Figure size 576x288 with 1 Axes>"
      ]
     },
     "metadata": {
      "needs_background": "light"
     },
     "output_type": "display_data"
    },
    {
     "data": {
      "image/png": "[encoded data removed]",
      "text/plain": [
       "<Figure size 576x288 with 1 Axes>"
      ]
     },
     "metadata": {
      "needs_background": "light"
     },
     "output_type": "display_data"
    }
   ],
   "source": [
    "# Iterate through columns to get a quick look\n",
    "# at the distribution of each variable\n",
    "for item in beanDF.columns:\n",
    "    makeHistogram(item)"
   ]
  },
  {
   "cell_type": "markdown",
   "metadata": {},
   "source": [
    "### Transformations"
   ]
  },
  {
   "cell_type": "markdown",
   "metadata": {},
   "source": [
    "#### Log(10)"
   ]
  },
  {
   "cell_type": "code",
   "execution_count": 21,
   "metadata": {},
   "outputs": [],
   "source": [
    "# Create a new DataFrame for data transformations\n",
    "transformDF = beanDF.copy()"
   ]
  },
  {
   "cell_type": "code",
   "execution_count": 22,
   "metadata": {},
   "outputs": [
    {
     "data": {
      "text/plain": [
       "Area               2.952931\n",
       "Perimeter          1.626124\n",
       "MajorAxisLength    1.357815\n",
       "MinorAxisLength    2.238211\n",
       "dtype: float64"
      ]
     },
     "execution_count": 22,
     "metadata": {},
     "output_type": "execute_result"
    }
   ],
   "source": [
    "# Features with large right skew (> 1)\n",
    "transformDF.skew()[transformDF.skew() > 1]"
   ]
  },
  {
   "cell_type": "code",
   "execution_count": 23,
   "metadata": {},
   "outputs": [
    {
     "data": {
      "text/plain": [
       "['Area', 'Perimeter', 'MajorAxisLength', 'MinorAxisLength']"
      ]
     },
     "execution_count": 23,
     "metadata": {},
     "output_type": "execute_result"
    }
   ],
   "source": [
    "# Get a list of the columns for log-transformation\n",
    "pos_skew = transformDF.skew()[transformDF.skew() > 1].index.tolist()\n",
    "pos_skew"
   ]
  },
  {
   "cell_type": "code",
   "execution_count": 24,
   "metadata": {},
   "outputs": [],
   "source": [
    "# Apply a log10-tranformation to right-skewed columns\n",
    "for item in pos_skew:\n",
    "    transformDF[item] = np.log10(transformDF[item])"
   ]
  },
  {
   "cell_type": "code",
   "execution_count": null,
   "metadata": {},
   "outputs": [],
   "source": []
  },
  {
   "cell_type": "markdown",
   "metadata": {},
   "source": [
    "#### 4th Power"
   ]
  },
  {
   "cell_type": "code",
   "execution_count": 25,
   "metadata": {},
   "outputs": [
    {
     "data": {
      "text/plain": [
       "Eccentricity   -1.062824\n",
       "dtype: float64"
      ]
     },
     "execution_count": 25,
     "metadata": {},
     "output_type": "execute_result"
    }
   ],
   "source": [
    "# Features with large left skew (< -1)\n",
    "transformDF.skew()[transformDF.skew() < -1]"
   ]
  },
  {
   "cell_type": "code",
   "execution_count": 26,
   "metadata": {},
   "outputs": [
    {
     "data": {
      "text/plain": [
       "['Eccentricity']"
      ]
     },
     "execution_count": 26,
     "metadata": {},
     "output_type": "execute_result"
    }
   ],
   "source": [
    "# Get a list of the columns for cube tranformation\n",
    "neg_skew = transformDF.skew()[transformDF.skew() < -1].index.tolist()\n",
    "neg_skew"
   ]
  },
  {
   "cell_type": "code",
   "execution_count": 27,
   "metadata": {},
   "outputs": [],
   "source": [
    "# Apply a cube-tranformation to left-skewed columns\n",
    "for item in neg_skew:\n",
    "    transformDF[item] = transformDF[item]**4"
   ]
  },
  {
   "cell_type": "code",
   "execution_count": null,
   "metadata": {},
   "outputs": [],
   "source": []
  },
  {
   "cell_type": "code",
   "execution_count": 28,
   "metadata": {},
   "outputs": [
    {
     "data": {
      "text/html": [
       "<div>\n",
       "<style scoped>\n",
       "    .dataframe tbody tr th:only-of-type {\n",
       "        vertical-align: middle;\n",
       "    }\n",
       "\n",
       "    .dataframe tbody tr th {\n",
       "        vertical-align: top;\n",
       "    }\n",
       "\n",
       "    .dataframe thead th {\n",
       "        text-align: right;\n",
       "    }\n",
       "</style>\n",
       "<table border=\"1\" class=\"dataframe\">\n",
       "  <thead>\n",
       "    <tr style=\"text-align: right;\">\n",
       "      <th></th>\n",
       "      <th>Area</th>\n",
       "      <th>Perimeter</th>\n",
       "      <th>MajorAxisLength</th>\n",
       "      <th>MinorAxisLength</th>\n",
       "      <th>AspectRation</th>\n",
       "      <th>Eccentricity</th>\n",
       "      <th>Compactness</th>\n",
       "      <th>Class</th>\n",
       "    </tr>\n",
       "  </thead>\n",
       "  <tbody>\n",
       "    <tr>\n",
       "      <th>0</th>\n",
       "      <td>4.453242</td>\n",
       "      <td>2.785537</td>\n",
       "      <td>2.318435</td>\n",
       "      <td>2.240271</td>\n",
       "      <td>1.197191</td>\n",
       "      <td>0.091381</td>\n",
       "      <td>0.913358</td>\n",
       "      <td>SEKER</td>\n",
       "    </tr>\n",
       "    <tr>\n",
       "      <th>1</th>\n",
       "      <td>4.458396</td>\n",
       "      <td>2.804833</td>\n",
       "      <td>2.302168</td>\n",
       "      <td>2.261820</td>\n",
       "      <td>1.097356</td>\n",
       "      <td>0.028753</td>\n",
       "      <td>0.953861</td>\n",
       "      <td>SEKER</td>\n",
       "    </tr>\n",
       "    <tr>\n",
       "      <th>2</th>\n",
       "      <td>4.468052</td>\n",
       "      <td>2.795261</td>\n",
       "      <td>2.328025</td>\n",
       "      <td>2.245343</td>\n",
       "      <td>1.209713</td>\n",
       "      <td>0.100275</td>\n",
       "      <td>0.908774</td>\n",
       "      <td>SEKER</td>\n",
       "    </tr>\n",
       "    <tr>\n",
       "      <th>3</th>\n",
       "      <td>4.477237</td>\n",
       "      <td>2.810155</td>\n",
       "      <td>2.323372</td>\n",
       "      <td>2.261302</td>\n",
       "      <td>1.153638</td>\n",
       "      <td>0.061811</td>\n",
       "      <td>0.928329</td>\n",
       "      <td>SEKER</td>\n",
       "    </tr>\n",
       "    <tr>\n",
       "      <th>4</th>\n",
       "      <td>4.479143</td>\n",
       "      <td>2.792486</td>\n",
       "      <td>2.305024</td>\n",
       "      <td>2.279391</td>\n",
       "      <td>1.060798</td>\n",
       "      <td>0.012397</td>\n",
       "      <td>0.970516</td>\n",
       "      <td>SEKER</td>\n",
       "    </tr>\n",
       "    <tr>\n",
       "      <th>...</th>\n",
       "      <td>...</td>\n",
       "      <td>...</td>\n",
       "      <td>...</td>\n",
       "      <td>...</td>\n",
       "      <td>...</td>\n",
       "      <td>...</td>\n",
       "      <td>...</td>\n",
       "      <td>...</td>\n",
       "    </tr>\n",
       "    <tr>\n",
       "      <th>13606</th>\n",
       "      <td>4.624251</td>\n",
       "      <td>2.880640</td>\n",
       "      <td>2.460479</td>\n",
       "      <td>2.269384</td>\n",
       "      <td>1.552728</td>\n",
       "      <td>0.342492</td>\n",
       "      <td>0.801865</td>\n",
       "      <td>DERMASON</td>\n",
       "    </tr>\n",
       "    <tr>\n",
       "      <th>13607</th>\n",
       "      <td>4.624292</td>\n",
       "      <td>2.879382</td>\n",
       "      <td>2.449596</td>\n",
       "      <td>2.280381</td>\n",
       "      <td>1.476439</td>\n",
       "      <td>0.292960</td>\n",
       "      <td>0.822252</td>\n",
       "      <td>DERMASON</td>\n",
       "    </tr>\n",
       "    <tr>\n",
       "      <th>13608</th>\n",
       "      <td>4.624684</td>\n",
       "      <td>2.880425</td>\n",
       "      <td>2.449540</td>\n",
       "      <td>2.281461</td>\n",
       "      <td>1.472582</td>\n",
       "      <td>0.290361</td>\n",
       "      <td>0.822730</td>\n",
       "      <td>DERMASON</td>\n",
       "    </tr>\n",
       "    <tr>\n",
       "      <th>13609</th>\n",
       "      <td>4.624767</td>\n",
       "      <td>2.882968</td>\n",
       "      <td>2.452373</td>\n",
       "      <td>2.279383</td>\n",
       "      <td>1.489326</td>\n",
       "      <td>0.301579</td>\n",
       "      <td>0.817457</td>\n",
       "      <td>DERMASON</td>\n",
       "    </tr>\n",
       "    <tr>\n",
       "      <th>13610</th>\n",
       "      <td>4.624890</td>\n",
       "      <td>2.887751</td>\n",
       "      <td>2.470032</td>\n",
       "      <td>2.260560</td>\n",
       "      <td>1.619841</td>\n",
       "      <td>0.383020</td>\n",
       "      <td>0.784997</td>\n",
       "      <td>DERMASON</td>\n",
       "    </tr>\n",
       "  </tbody>\n",
       "</table>\n",
       "<p>13611 rows × 8 columns</p>\n",
       "</div>"
      ],
      "text/plain": [
       "           Area  Perimeter  MajorAxisLength  MinorAxisLength  AspectRation  \\\n",
       "0      4.453242   2.785537         2.318435         2.240271      1.197191   \n",
       "1      4.458396   2.804833         2.302168         2.261820      1.097356   \n",
       "2      4.468052   2.795261         2.328025         2.245343      1.209713   \n",
       "3      4.477237   2.810155         2.323372         2.261302      1.153638   \n",
       "4      4.479143   2.792486         2.305024         2.279391      1.060798   \n",
       "...         ...        ...              ...              ...           ...   \n",
       "13606  4.624251   2.880640         2.460479         2.269384      1.552728   \n",
       "13607  4.624292   2.879382         2.449596         2.280381      1.476439   \n",
       "13608  4.624684   2.880425         2.449540         2.281461      1.472582   \n",
       "13609  4.624767   2.882968         2.452373         2.279383      1.489326   \n",
       "13610  4.624890   2.887751         2.470032         2.260560      1.619841   \n",
       "\n",
       "       Eccentricity  Compactness     Class  \n",
       "0          0.091381     0.913358     SEKER  \n",
       "1          0.028753     0.953861     SEKER  \n",
       "2          0.100275     0.908774     SEKER  \n",
       "3          0.061811     0.928329     SEKER  \n",
       "4          0.012397     0.970516     SEKER  \n",
       "...             ...          ...       ...  \n",
       "13606      0.342492     0.801865  DERMASON  \n",
       "13607      0.292960     0.822252  DERMASON  \n",
       "13608      0.290361     0.822730  DERMASON  \n",
       "13609      0.301579     0.817457  DERMASON  \n",
       "13610      0.383020     0.784997  DERMASON  \n",
       "\n",
       "[13611 rows x 8 columns]"
      ]
     },
     "execution_count": 28,
     "metadata": {},
     "output_type": "execute_result"
    }
   ],
   "source": [
    "transformDF"
   ]
  },
  {
   "cell_type": "code",
   "execution_count": null,
   "metadata": {},
   "outputs": [],
   "source": []
  },
  {
   "cell_type": "code",
   "execution_count": 29,
   "metadata": {},
   "outputs": [
    {
     "data": {
      "image/png": "[encoded data removed]",
      "text/plain": [
       "<Figure size 576x288 with 1 Axes>"
      ]
     },
     "metadata": {
      "needs_background": "light"
     },
     "output_type": "display_data"
    },
    {
     "data": {
      "image/png": "[encoded data removed]",
      "text/plain": [
       "<Figure size 576x288 with 1 Axes>"
      ]
     },
     "metadata": {
      "needs_background": "light"
     },
     "output_type": "display_data"
    },
    {
     "data": {
      "image/png": "[encoded data removed]",
      "text/plain": [
       "<Figure size 576x288 with 1 Axes>"
      ]
     },
     "metadata": {
      "needs_background": "light"
     },
     "output_type": "display_data"
    },
    {
     "data": {
      "image/png": "[encoded data removed]",
      "text/plain": [
       "<Figure size 576x288 with 1 Axes>"
      ]
     },
     "metadata": {
      "needs_background": "light"
     },
     "output_type": "display_data"
    },
    {
     "data": {
      "image/png": "[encoded data removed]",
      "text/plain": [
       "<Figure size 576x288 with 1 Axes>"
      ]
     },
     "metadata": {
      "needs_background": "light"
     },
     "output_type": "display_data"
    },
    {
     "data": {
      "image/png": "[encoded data removed]",
      "text/plain": [
       "<Figure size 576x288 with 1 Axes>"
      ]
     },
     "metadata": {
      "needs_background": "light"
     },
     "output_type": "display_data"
    },
    {
     "data": {
      "image/png": "[encoded data removed]",
      "text/plain": [
       "<Figure size 576x288 with 1 Axes>"
      ]
     },
     "metadata": {
      "needs_background": "light"
     },
     "output_type": "display_data"
    },
    {
     "data": {
      "image/png": "[encoded data removed]",
      "text/plain": [
       "<Figure size 576x288 with 1 Axes>"
      ]
     },
     "metadata": {
      "needs_background": "light"
     },
     "output_type": "display_data"
    }
   ],
   "source": [
    "# Iterate through columns to get a quick look\n",
    "# at the distribution of each variable\n",
    "for item in transformDF.columns:\n",
    "    makeHistogram(item, df=transformDF)"
   ]
  },
  {
   "cell_type": "code",
   "execution_count": null,
   "metadata": {},
   "outputs": [],
   "source": []
  }
 ],
 "metadata": {
  "kernelspec": {
   "display_name": "Python 3",
   "language": "python",
   "name": "python3"
  },
  "language_info": {
   "codemirror_mode": {
    "name": "ipython",
    "version": 3
   },
   "file_extension": ".py",
   "mimetype": "text/x-python",
   "name": "python",
   "nbconvert_exporter": "python",
   "pygments_lexer": "ipython3",
   "version": "3.8.5"
  }
 },
 "nbformat": 4,
 "nbformat_minor": 4
}
