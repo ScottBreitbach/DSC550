{
 "cells": [
  {
   "cell_type": "markdown",
   "metadata": {},
   "source": [
    "# How to Import CSV in Python\n",
    "https://www.youtube.com/watch?v=Kao4kk4vWa4"
   ]
  },
  {
   "cell_type": "code",
   "execution_count": 1,
   "metadata": {},
   "outputs": [],
   "source": [
    "import pandas as pd"
   ]
  },
  {
   "cell_type": "code",
   "execution_count": 3,
   "metadata": {},
   "outputs": [],
   "source": [
    "myDataset = pd.read_csv('all_data.csv')"
   ]
  },
  {
   "cell_type": "code",
   "execution_count": 4,
   "metadata": {},
   "outputs": [
    {
     "data": {
      "text/html": [
       "<div>\n",
       "<style scoped>\n",
       "    .dataframe tbody tr th:only-of-type {\n",
       "        vertical-align: middle;\n",
       "    }\n",
       "\n",
       "    .dataframe tbody tr th {\n",
       "        vertical-align: top;\n",
       "    }\n",
       "\n",
       "    .dataframe thead th {\n",
       "        text-align: right;\n",
       "    }\n",
       "</style>\n",
       "<table border=\"1\" class=\"dataframe\">\n",
       "  <thead>\n",
       "    <tr style=\"text-align: right;\">\n",
       "      <th></th>\n",
       "      <th>timestamp</th>\n",
       "      <th>total_addresses</th>\n",
       "      <th>blocksize</th>\n",
       "      <th>price_USD</th>\n",
       "      <th>hashrate</th>\n",
       "      <th>marketcap_USD</th>\n",
       "      <th>market-cap-value</th>\n",
       "      <th>transactions</th>\n",
       "    </tr>\n",
       "  </thead>\n",
       "  <tbody>\n",
       "    <tr>\n",
       "      <th>0</th>\n",
       "      <td>1438214400</td>\n",
       "      <td>9205</td>\n",
       "      <td>644</td>\n",
       "      <td>0.0</td>\n",
       "      <td>23.7569</td>\n",
       "      <td>0.0</td>\n",
       "      <td>72049306.59</td>\n",
       "      <td>8893</td>\n",
       "    </tr>\n",
       "    <tr>\n",
       "      <th>1</th>\n",
       "      <td>1438300800</td>\n",
       "      <td>9361</td>\n",
       "      <td>582</td>\n",
       "      <td>0.0</td>\n",
       "      <td>48.1584</td>\n",
       "      <td>0.0</td>\n",
       "      <td>72085498.31</td>\n",
       "      <td>0</td>\n",
       "    </tr>\n",
       "    <tr>\n",
       "      <th>2</th>\n",
       "      <td>1438387200</td>\n",
       "      <td>9476</td>\n",
       "      <td>575</td>\n",
       "      <td>0.0</td>\n",
       "      <td>55.2709</td>\n",
       "      <td>0.0</td>\n",
       "      <td>72113204.25</td>\n",
       "      <td>0</td>\n",
       "    </tr>\n",
       "    <tr>\n",
       "      <th>3</th>\n",
       "      <td>1438473600</td>\n",
       "      <td>9563</td>\n",
       "      <td>581</td>\n",
       "      <td>0.0</td>\n",
       "      <td>64.1779</td>\n",
       "      <td>0.0</td>\n",
       "      <td>72141427.69</td>\n",
       "      <td>0</td>\n",
       "    </tr>\n",
       "    <tr>\n",
       "      <th>4</th>\n",
       "      <td>1438560000</td>\n",
       "      <td>9639</td>\n",
       "      <td>587</td>\n",
       "      <td>0.0</td>\n",
       "      <td>69.8559</td>\n",
       "      <td>0.0</td>\n",
       "      <td>72169404.41</td>\n",
       "      <td>0</td>\n",
       "    </tr>\n",
       "  </tbody>\n",
       "</table>\n",
       "</div>"
      ],
      "text/plain": [
       "    timestamp  total_addresses  blocksize  price_USD  hashrate  marketcap_USD  \\\n",
       "0  1438214400             9205        644        0.0   23.7569            0.0   \n",
       "1  1438300800             9361        582        0.0   48.1584            0.0   \n",
       "2  1438387200             9476        575        0.0   55.2709            0.0   \n",
       "3  1438473600             9563        581        0.0   64.1779            0.0   \n",
       "4  1438560000             9639        587        0.0   69.8559            0.0   \n",
       "\n",
       "   market-cap-value  transactions  \n",
       "0       72049306.59          8893  \n",
       "1       72085498.31             0  \n",
       "2       72113204.25             0  \n",
       "3       72141427.69             0  \n",
       "4       72169404.41             0  "
      ]
     },
     "execution_count": 4,
     "metadata": {},
     "output_type": "execute_result"
    }
   ],
   "source": [
    "myDataset.head()"
   ]
  },
  {
   "cell_type": "code",
   "execution_count": 5,
   "metadata": {},
   "outputs": [],
   "source": [
    "x = myDataset.iloc[:,:].values"
   ]
  },
  {
   "cell_type": "code",
   "execution_count": 7,
   "metadata": {},
   "outputs": [
    {
     "data": {
      "text/plain": [
       "(684, 8)"
      ]
     },
     "execution_count": 7,
     "metadata": {},
     "output_type": "execute_result"
    }
   ],
   "source": [
    "x.shape"
   ]
  },
  {
   "cell_type": "code",
   "execution_count": 8,
   "metadata": {},
   "outputs": [],
   "source": [
    "y = myDataset.iloc[:,:-1].values # don't take the last column"
   ]
  },
  {
   "cell_type": "code",
   "execution_count": 9,
   "metadata": {},
   "outputs": [
    {
     "data": {
      "text/plain": [
       "(684, 7)"
      ]
     },
     "execution_count": 9,
     "metadata": {},
     "output_type": "execute_result"
    }
   ],
   "source": [
    "y.shape"
   ]
  },
  {
   "cell_type": "code",
   "execution_count": 10,
   "metadata": {},
   "outputs": [],
   "source": [
    "y = myDataset.iloc[:-1,:].values "
   ]
  },
  {
   "cell_type": "code",
   "execution_count": 11,
   "metadata": {},
   "outputs": [
    {
     "data": {
      "text/plain": [
       "(683, 8)"
      ]
     },
     "execution_count": 11,
     "metadata": {},
     "output_type": "execute_result"
    }
   ],
   "source": [
    "y.shape"
   ]
  },
  {
   "cell_type": "code",
   "execution_count": null,
   "metadata": {},
   "outputs": [],
   "source": []
  }
 ],
 "metadata": {
  "kernelspec": {
   "display_name": "Python 3",
   "language": "python",
   "name": "python3"
  },
  "language_info": {
   "codemirror_mode": {
    "name": "ipython",
    "version": 3
   },
   "file_extension": ".py",
   "mimetype": "text/x-python",
   "name": "python",
   "nbconvert_exporter": "python",
   "pygments_lexer": "ipython3",
   "version": "3.8.5"
  }
 },
 "nbformat": 4,
 "nbformat_minor": 4
}
