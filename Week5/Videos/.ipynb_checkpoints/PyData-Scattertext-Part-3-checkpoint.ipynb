{
 "cells": [
  {
   "cell_type": "markdown",
   "metadata": {},
   "source": [
    "# Topic-specific term associations through word representations\n",
    "## How do Democrats and Republicans talk different about jobs\n",
    "\n",
    "https://github.com/JasonKessler/scattertext\n",
    "\n",
    "Cite as:\n",
    "Jason S. Kessler. Scattertext: a Browser-Based Tool for Visualizing how Corpora Differ. Proceedings of the 54th Annual Meeting of the Association for Computational Linguistics (ACL): System Demonstrations. 2017.\n",
    "\n",
    "Link to preprint: https://arxiv.org/abs/1703.00565\n",
    "\n",
    "`\n",
    "@article{kessler2017scattertext,\n",
    "  author    = {Kessler, Jason S.},\n",
    "  title     = {Scattertext: a Browser-Based Tool for Visualizing how Corpora Differ},\n",
    "  booktitle = {ACL System Demonstrations},\n",
    "  year      = {2017},\n",
    "}\n",
    "`"
   ]
  },
  {
   "cell_type": "code",
   "execution_count": 4,
   "metadata": {},
   "outputs": [
    {
     "data": {
      "text/html": [
       "<style>.container { width:98% !important; }</style>"
      ],
      "text/plain": [
       "<IPython.core.display.HTML object>"
      ]
     },
     "metadata": {},
     "output_type": "display_data"
    }
   ],
   "source": [
    "%matplotlib inline\n",
    "import scattertext as st\n",
    "from gensim.models import word2vec\n",
    "import re, io, itertools\n",
    "from pprint import pprint\n",
    "import pandas as pd\n",
    "import numpy as np\n",
    "import spacy\n",
    "import os, pkgutil, json, urllib\n",
    "from urllib.request import urlopen\n",
    "from IPython.display import IFrame\n",
    "from IPython.core.display import display, HTML\n",
    "display(HTML(\"<style>.container { width:98% !important; }</style>\"))"
   ]
  },
  {
   "cell_type": "code",
   "execution_count": 5,
   "metadata": {},
   "outputs": [],
   "source": [
    "# nlp = spacy.load('en')\n",
    "# If this doesn't work, please uncomment the following line and use a regex-based parser instead\n",
    "nlp = st.whitespace_nlp_with_sentences"
   ]
  },
  {
   "cell_type": "markdown",
   "metadata": {},
   "source": [
    "## Load the 2012 Conventions Dataset\n",
    "### We'll limit the study to unigrams"
   ]
  },
  {
   "cell_type": "code",
   "execution_count": 6,
   "metadata": {},
   "outputs": [],
   "source": [
    "convention_df = st.SampleCorpora.ConventionData2012.get_data()\n",
    "convention_df['parsed'] = convention_df.text.apply(nlp)\n",
    "corpus = (st.CorpusFromParsedDocuments(convention_df, category_col='party', parsed_col='parsed')\n",
    "          .build()\n",
    "          .get_unigram_corpus())"
   ]
  },
  {
   "cell_type": "markdown",
   "metadata": {},
   "source": [
    "## Use Gensim to run Word2Vec on the corpus.\n",
    "### Word2Vec encodes each word in a dense K-dimensional vector space\n",
    "### Cosine distances between terms vectors correspond to semantic similarity "
   ]
  },
  {
   "cell_type": "code",
   "execution_count": 7,
   "metadata": {},
   "outputs": [
    {
     "data": {
      "text/plain": [
       "[('businesses', 0.8398184776306152),\n",
       " ('create', 0.8260375261306763),\n",
       " ('spending', 0.795708417892456),\n",
       " ('energy', 0.7936553955078125),\n",
       " ('debt', 0.765021562576294),\n",
       " ('created', 0.7505785226821899),\n",
       " ('creating', 0.7439010739326477),\n",
       " ('taxes', 0.7438827753067017),\n",
       " ('tax', 0.7356417179107666),\n",
       " ('000', 0.7315483689308167)]"
      ]
     },
     "execution_count": 7,
     "metadata": {},
     "output_type": "execute_result"
    }
   ],
   "source": [
    "# model = word2vec.Word2Vec(size=100, window=5, min_count=10, workers=4)\n",
    "model = word2vec.Word2Vec(vector_size=100, window=5, min_count=10, workers=4)\n",
    "model = st.Word2VecFromParsedCorpus(corpus, model).train(epochs=10000)\n",
    "model.wv.most_similar('jobs')"
   ]
  },
  {
   "cell_type": "code",
   "execution_count": 8,
   "metadata": {},
   "outputs": [
    {
     "data": {
      "text/plain": [
       "9125"
      ]
     },
     "execution_count": 8,
     "metadata": {},
     "output_type": "execute_result"
    }
   ],
   "source": [
    "corpus._df[corpus._parsed_col].apply(lambda x: len(list(x.sents))).sum()\n",
    "#model.corpus_count"
   ]
  },
  {
   "cell_type": "markdown",
   "metadata": {},
   "source": [
    "## Draw the Scattertext by only coloring points that have are associated with a category (p < 0.05 via log-odds w/ prior)\n",
    "### The top Democratic and Republican terms are raked by their similarity to \"jobs\"\n",
    "#### Only the terms associated to a category are considered. \n",
    "### On the far right, the most similar terms, regardless of category association, are listed."
   ]
  },
  {
   "cell_type": "code",
   "execution_count": 9,
   "metadata": {},
   "outputs": [
    {
     "name": "stderr",
     "output_type": "stream",
     "text": [
      "C:\\ProgramData\\Anaconda3\\lib\\site-packages\\scattertext\\Scalers.py:212: RuntimeWarning: invalid value encountered in true_divide\n",
      "  vec_ss = (vec_ss - vec_ss.min()) * 1. / (vec_ss.max() - vec_ss.min())\n"
     ]
    },
    {
     "data": {
      "text/html": [
       "\n",
       "        <iframe\n",
       "            width=\"1200\"\n",
       "            height=\"700\"\n",
       "            src=\"output/demo_similarity_gensim.html\"\n",
       "            frameborder=\"0\"\n",
       "            allowfullscreen\n",
       "        ></iframe>\n",
       "        "
      ],
      "text/plain": [
       "<IPython.lib.display.IFrame at 0x168a2d90250>"
      ]
     },
     "execution_count": 9,
     "metadata": {},
     "output_type": "execute_result"
    }
   ],
   "source": [
    "target_term = 'jobs'\n",
    "\n",
    "html = st.word_similarity_explorer_gensim(corpus,\n",
    "                                          category='democrat',\n",
    "                                          category_name='Democratic',\n",
    "                                          not_category_name='Republican',\n",
    "                                          target_term=target_term,\n",
    "                                          minimum_term_frequency=5,\n",
    "                                          width_in_pixels=1000,\n",
    "                                          word2vec=model,\n",
    "                                          metadata=convention_df['speaker'])\n",
    "file_name = 'output/demo_similarity_gensim.html'\n",
    "open(file_name, 'wb').write(html.encode('utf-8'))\n",
    "IFrame(src=file_name, width = 1200, height=700)"
   ]
  },
  {
   "cell_type": "markdown",
   "metadata": {},
   "source": [
    "## Instead of using vectors trained on the Corpus, we can use the spaCy-provided word vectors trained on the Common Crawl Corpus.\n",
    "### These are trained on a lot more data, but aren't specific to the corpus"
   ]
  },
  {
   "cell_type": "code",
   "execution_count": 11,
   "metadata": {},
   "outputs": [],
   "source": [
    "# Note: this will fail if you did not use spaCy as your parser.\n",
    "html = st.word_similarity_explorer(corpus,\n",
    "                                   category='democrat',\n",
    "                                   category_name='Democratic',\n",
    "                                   not_category_name='Republican',\n",
    "                                   target_term='jobs',\n",
    "                                   minimum_term_frequency=5,\n",
    "                                   width_in_pixels=1000,\n",
    "                                   metadata=convention_df['speaker'])\n",
    "file_name = 'output/demo_similarity.html'\n",
    "open(file_name, 'wb').write(html.encode('utf-8'))\n",
    "IFrame(src=file_name, width = 1200, height=700)"
   ]
  },
  {
   "cell_type": "code",
   "execution_count": null,
   "metadata": {},
   "outputs": [],
   "source": []
  }
 ],
 "metadata": {
  "anaconda-cloud": {},
  "kernelspec": {
   "display_name": "Python 3",
   "language": "python",
   "name": "python3"
  },
  "language_info": {
   "codemirror_mode": {
    "name": "ipython",
    "version": 3
   },
   "file_extension": ".py",
   "mimetype": "text/x-python",
   "name": "python",
   "nbconvert_exporter": "python",
   "pygments_lexer": "ipython3",
   "version": "3.8.5"
  }
 },
 "nbformat": 4,
 "nbformat_minor": 4
}
