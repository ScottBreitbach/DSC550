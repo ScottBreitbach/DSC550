{
 "cells": [
  {
   "cell_type": "markdown",
   "metadata": {},
   "source": [
    "# Linear Regression Machine Learning (tutorial)\n",
    "https://www.youtube.com/watch?v=uwwWVAgJBcM"
   ]
  },
  {
   "cell_type": "code",
   "execution_count": 1,
   "metadata": {},
   "outputs": [],
   "source": [
    "from numpy import *"
   ]
  },
  {
   "cell_type": "code",
   "execution_count": 7,
   "metadata": {},
   "outputs": [],
   "source": [
    "def compute_error_for_line_given_points(b, m, points):\n",
    "    #initialize it at 0\n",
    "    totalError = 0\n",
    "    #for every point\n",
    "    for i in range(0, len(points)):\n",
    "        #get the x value\n",
    "        x = points[i, 0]\n",
    "        #get the y value\n",
    "        y = points[i, 1]\n",
    "        #get the difference, square it, and add it to the total\n",
    "        totalError += (y - (m * x + b)) ** 2\n",
    "    \n",
    "    #get the average\n",
    "    return totalError / float(len(points))"
   ]
  },
  {
   "cell_type": "code",
   "execution_count": 3,
   "metadata": {},
   "outputs": [],
   "source": [
    "def gradient_descent_runner(points, starting_b, starting_m, learning_rate, num_iterations):\n",
    "    #starting b and m\n",
    "    b = starting_b\n",
    "    m = starting_m\n",
    "    \n",
    "    #gradient descent\n",
    "    for i in range(num_iterations):\n",
    "        #update b and m with the new, more accurate b and m\n",
    "        #by performing this gradient step\n",
    "        b, m = step_gradient(b, m, array(points), learning_rate)\n",
    "        \n",
    "    return [b, m]"
   ]
  },
  {
   "cell_type": "code",
   "execution_count": 4,
   "metadata": {},
   "outputs": [],
   "source": [
    "#magic, the greatest, the greatest\n",
    "def step_gradient(b_current, m_current, points, learning_rate):\n",
    "    #gradient means slope and it's going to act like a compass that points downhill, which direction we should be going\n",
    "    #the lowest point is where the error is the smallest, which will be the best fit\n",
    "    \n",
    "    #starting points for our gradients\n",
    "    b_gradient = 0\n",
    "    m_gradient = 0\n",
    "    \n",
    "    N = float(len(points))\n",
    "    \n",
    "    for i in range(0, len(points)):\n",
    "        x = points[i, 0]\n",
    "        y = points[i, 1]\n",
    "        #direction with respect to b and m\n",
    "        #computing partial derivatives of our error function\n",
    "        b_gradient +=    -(2/N) * (y - ((m_current * x) + b_current))\n",
    "        m_gradient += x * (2/N) * (y - ((m_current * x) + b_current)) \n",
    "        \n",
    "    #update our b and m values using our partial derivatives\n",
    "    new_b = b_current - (learning_rate * b_gradient)\n",
    "    new_m = m_current - (learning_rate * m_gradient)\n",
    "    return [new_b, new_m]"
   ]
  },
  {
   "cell_type": "code",
   "execution_count": 5,
   "metadata": {},
   "outputs": [],
   "source": [
    "def run():\n",
    "    #Step 1 - collect our data\n",
    "    points = genfromtxt('data.csv', delimiter=',')\n",
    "    \n",
    "    #Step 2 - define our hyperparameters\n",
    "    #how fast should our model converge?\n",
    "    learning_rate = 0.0001\n",
    "    #y = mx + b (slope formula)\n",
    "    initial_b = 0\n",
    "    initial_m = 0\n",
    "    num_iterations = 1000\n",
    "    #Step 3 - train our model\n",
    "    print('Starting gradient descent at b = {0}, m = {1}, error = {2}'.format(initial_b, initial_m, compute_error_for_line_given_points(initial_b, initial_m, points)))\n",
    "    [b, m] = gradient_descent_runner(points, initial_b, initial_m, learning_rate, num_iterations)\n",
    "    print('Ending point at b = {0}, m = {1}, error = {2}'.format(num_iterations, b, m, compute_error_for_line_given_points(b, m, points)))"
   ]
  },
  {
   "cell_type": "code",
   "execution_count": 8,
   "metadata": {},
   "outputs": [
    {
     "name": "stdout",
     "output_type": "stream",
     "text": [
      "Starting gradient descent at b = 0, m = 0, error = 5565.107834483211\n",
      "Ending point at b = 1000, m = 9.451159314734957e+173, error = -4.808747047443573e+175\n"
     ]
    },
    {
     "name": "stderr",
     "output_type": "stream",
     "text": [
      "<ipython-input-7-d5b13a05991d>:11: RuntimeWarning: overflow encountered in double_scalars\n",
      "  totalError += (y - (m * x + b)) ** 2\n"
     ]
    }
   ],
   "source": [
    "if __name__ == '__main__':\n",
    "    run()"
   ]
  },
  {
   "cell_type": "code",
   "execution_count": null,
   "metadata": {},
   "outputs": [],
   "source": []
  }
 ],
 "metadata": {
  "kernelspec": {
   "display_name": "Python 3",
   "language": "python",
   "name": "python3"
  },
  "language_info": {
   "codemirror_mode": {
    "name": "ipython",
    "version": 3
   },
   "file_extension": ".py",
   "mimetype": "text/x-python",
   "name": "python",
   "nbconvert_exporter": "python",
   "pygments_lexer": "ipython3",
   "version": "3.8.5"
  }
 },
 "nbformat": 4,
 "nbformat_minor": 4
}
