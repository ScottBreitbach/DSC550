{
 "cells": [
  {
   "cell_type": "markdown",
   "metadata": {},
   "source": [
    "# Machine Learning DataScience\n",
    "## How to Deal with non numeric categorical data?\n",
    "https://www.youtube.com/watch?v=EzxEZj-u_Ow"
   ]
  },
  {
   "cell_type": "markdown",
   "metadata": {},
   "source": [
    "### Label Encoding\n",
    "Male - Female : 1 - 0"
   ]
  },
  {
   "cell_type": "markdown",
   "metadata": {},
   "source": [
    "Can use sklearn library"
   ]
  },
  {
   "cell_type": "markdown",
   "metadata": {},
   "source": [
    "### Range Encoder\n",
    "For ordered data; Ex: height groups"
   ]
  },
  {
   "cell_type": "markdown",
   "metadata": {},
   "source": [
    "Groups 100-110, 110-120, 120-130, etc\n",
    "* Use averages: 105, 115, 125\n",
    "* Use upper height: 110, 120, 130\n",
    "* Use lower height: 100, 110, 120"
   ]
  },
  {
   "cell_type": "markdown",
   "metadata": {},
   "source": [
    "### One Hot Encoder\n",
    "Matrix of 1s and 0s "
   ]
  },
  {
   "cell_type": "markdown",
   "metadata": {},
   "source": [
    "List of cities, Mumbai, New York, Tokyo:  \n",
    "* Add 3 columns: city_mumbai, city_ny, city_tokyo\n",
    "* Add a 1 in the column that corresponds with the name"
   ]
  },
  {
   "cell_type": "code",
   "execution_count": null,
   "metadata": {},
   "outputs": [],
   "source": []
  }
 ],
 "metadata": {
  "kernelspec": {
   "display_name": "Python 3",
   "language": "python",
   "name": "python3"
  },
  "language_info": {
   "codemirror_mode": {
    "name": "ipython",
    "version": 3
   },
   "file_extension": ".py",
   "mimetype": "text/x-python",
   "name": "python",
   "nbconvert_exporter": "python",
   "pygments_lexer": "ipython3",
   "version": "3.8.5"
  }
 },
 "nbformat": 4,
 "nbformat_minor": 4
}
