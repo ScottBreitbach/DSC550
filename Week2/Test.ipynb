{
 "cells": [
  {
   "cell_type": "code",
   "execution_count": null,
   "metadata": {},
   "outputs": [],
   "source": []
  },
  {
   "cell_type": "code",
   "execution_count": 1,
   "metadata": {},
   "outputs": [],
   "source": [
    "import pandas as pd"
   ]
  },
  {
   "cell_type": "code",
   "execution_count": 126,
   "metadata": {},
   "outputs": [],
   "source": [
    "commentsDF = pd.read_json(\"controversial-comments\\controversial-comments.jsonl\", lines=True)"
   ]
  },
  {
   "cell_type": "code",
   "execution_count": 9,
   "metadata": {},
   "outputs": [],
   "source": [
    "# testDF = pd.DataFrame()"
   ]
  },
  {
   "cell_type": "code",
   "execution_count": 10,
   "metadata": {},
   "outputs": [],
   "source": [
    "# testDF['txt'] = commentsDF['txt'].str.lower()"
   ]
  },
  {
   "cell_type": "code",
   "execution_count": 11,
   "metadata": {},
   "outputs": [],
   "source": [
    "# testDF.head()"
   ]
  },
  {
   "cell_type": "code",
   "execution_count": 127,
   "metadata": {},
   "outputs": [],
   "source": [
    "commentsDF = commentsDF.sample(100)"
   ]
  },
  {
   "cell_type": "code",
   "execution_count": 128,
   "metadata": {},
   "outputs": [],
   "source": [
    "saveDF = commentsDF.copy()"
   ]
  },
  {
   "cell_type": "markdown",
   "metadata": {},
   "source": [
    "### Make lowercase"
   ]
  },
  {
   "cell_type": "code",
   "execution_count": 129,
   "metadata": {},
   "outputs": [],
   "source": [
    "commentsDF.txt = commentsDF['txt'].str.lower()"
   ]
  },
  {
   "cell_type": "code",
   "execution_count": 130,
   "metadata": {},
   "outputs": [
    {
     "data": {
      "text/html": [
       "<div>\n",
       "<style scoped>\n",
       "    .dataframe tbody tr th:only-of-type {\n",
       "        vertical-align: middle;\n",
       "    }\n",
       "\n",
       "    .dataframe tbody tr th {\n",
       "        vertical-align: top;\n",
       "    }\n",
       "\n",
       "    .dataframe thead th {\n",
       "        text-align: right;\n",
       "    }\n",
       "</style>\n",
       "<table border=\"1\" class=\"dataframe\">\n",
       "  <thead>\n",
       "    <tr style=\"text-align: right;\">\n",
       "      <th></th>\n",
       "      <th>con</th>\n",
       "      <th>txt</th>\n",
       "    </tr>\n",
       "  </thead>\n",
       "  <tbody>\n",
       "    <tr>\n",
       "      <th>90730</th>\n",
       "      <td>0</td>\n",
       "      <td>because specifically black-on-black homicide i...</td>\n",
       "    </tr>\n",
       "    <tr>\n",
       "      <th>616522</th>\n",
       "      <td>0</td>\n",
       "      <td>when i watched the second debate, all i heard ...</td>\n",
       "    </tr>\n",
       "    <tr>\n",
       "      <th>790246</th>\n",
       "      <td>0</td>\n",
       "      <td>op, trump is a russian tool</td>\n",
       "    </tr>\n",
       "    <tr>\n",
       "      <th>21463</th>\n",
       "      <td>0</td>\n",
       "      <td>don't quit your day job. comedy just isn't for...</td>\n",
       "    </tr>\n",
       "    <tr>\n",
       "      <th>291574</th>\n",
       "      <td>0</td>\n",
       "      <td>&amp;gt;privco, which provides financial and busin...</td>\n",
       "    </tr>\n",
       "  </tbody>\n",
       "</table>\n",
       "</div>"
      ],
      "text/plain": [
       "        con                                                txt\n",
       "90730     0  because specifically black-on-black homicide i...\n",
       "616522    0  when i watched the second debate, all i heard ...\n",
       "790246    0                        op, trump is a russian tool\n",
       "21463     0  don't quit your day job. comedy just isn't for...\n",
       "291574    0  &gt;privco, which provides financial and busin..."
      ]
     },
     "execution_count": 130,
     "metadata": {},
     "output_type": "execute_result"
    }
   ],
   "source": [
    "commentsDF.head()"
   ]
  },
  {
   "cell_type": "code",
   "execution_count": 16,
   "metadata": {},
   "outputs": [
    {
     "data": {
      "text/plain": [
       "array([0, 1], dtype=int64)"
      ]
     },
     "execution_count": 16,
     "metadata": {},
     "output_type": "execute_result"
    }
   ],
   "source": [
    "commentsDF.con.unique()"
   ]
  },
  {
   "cell_type": "markdown",
   "metadata": {},
   "source": [
    "### Remove Punctuation"
   ]
  },
  {
   "cell_type": "code",
   "execution_count": 18,
   "metadata": {},
   "outputs": [],
   "source": [
    "import unicodedata\n",
    "import sys"
   ]
  },
  {
   "cell_type": "code",
   "execution_count": 106,
   "metadata": {},
   "outputs": [],
   "source": [
    "punctuation = dict.fromkeys(i for i in range(sys.maxunicode) \n",
    "                            if unicodedata.category(chr(i)).startswith('P'))"
   ]
  },
  {
   "cell_type": "code",
   "execution_count": 107,
   "metadata": {},
   "outputs": [],
   "source": [
    "testDF = commentsDF.copy()"
   ]
  },
  {
   "cell_type": "code",
   "execution_count": 25,
   "metadata": {},
   "outputs": [],
   "source": [
    "test = [string.translate(punctuation) for string in testDF.txt]"
   ]
  },
  {
   "cell_type": "code",
   "execution_count": 26,
   "metadata": {},
   "outputs": [
    {
     "data": {
      "text/plain": [
       "list"
      ]
     },
     "execution_count": 26,
     "metadata": {},
     "output_type": "execute_result"
    }
   ],
   "source": [
    "type(test)"
   ]
  },
  {
   "cell_type": "code",
   "execution_count": 27,
   "metadata": {},
   "outputs": [
    {
     "data": {
      "text/plain": [
       "950000"
      ]
     },
     "execution_count": 27,
     "metadata": {},
     "output_type": "execute_result"
    }
   ],
   "source": [
    "len(test)"
   ]
  },
  {
   "cell_type": "code",
   "execution_count": 28,
   "metadata": {},
   "outputs": [
    {
     "data": {
      "text/plain": [
       "950000"
      ]
     },
     "execution_count": 28,
     "metadata": {},
     "output_type": "execute_result"
    }
   ],
   "source": [
    "len(testDF)"
   ]
  },
  {
   "cell_type": "code",
   "execution_count": 108,
   "metadata": {},
   "outputs": [],
   "source": [
    "testDF.txt = [string.translate(punctuation) for string in testDF.txt]"
   ]
  },
  {
   "cell_type": "code",
   "execution_count": 109,
   "metadata": {},
   "outputs": [
    {
     "data": {
      "text/html": [
       "<div>\n",
       "<style scoped>\n",
       "    .dataframe tbody tr th:only-of-type {\n",
       "        vertical-align: middle;\n",
       "    }\n",
       "\n",
       "    .dataframe tbody tr th {\n",
       "        vertical-align: top;\n",
       "    }\n",
       "\n",
       "    .dataframe thead th {\n",
       "        text-align: right;\n",
       "    }\n",
       "</style>\n",
       "<table border=\"1\" class=\"dataframe\">\n",
       "  <thead>\n",
       "    <tr style=\"text-align: right;\">\n",
       "      <th></th>\n",
       "      <th>con</th>\n",
       "      <th>txt</th>\n",
       "    </tr>\n",
       "  </thead>\n",
       "  <tbody>\n",
       "    <tr>\n",
       "      <th>813846</th>\n",
       "      <td>0</td>\n",
       "      <td>what an absolute fucking moron unbelievable</td>\n",
       "    </tr>\n",
       "    <tr>\n",
       "      <th>923674</th>\n",
       "      <td>0</td>\n",
       "      <td>you made me laugh on a very bleak news day tha...</td>\n",
       "    </tr>\n",
       "    <tr>\n",
       "      <th>76991</th>\n",
       "      <td>0</td>\n",
       "      <td>not every word has to he capitalised in a title</td>\n",
       "    </tr>\n",
       "    <tr>\n",
       "      <th>174968</th>\n",
       "      <td>0</td>\n",
       "      <td>thats even worse</td>\n",
       "    </tr>\n",
       "    <tr>\n",
       "      <th>442606</th>\n",
       "      <td>0</td>\n",
       "      <td>listen keep that realism to yourself no one wa...</td>\n",
       "    </tr>\n",
       "  </tbody>\n",
       "</table>\n",
       "</div>"
      ],
      "text/plain": [
       "        con                                                txt\n",
       "813846    0        what an absolute fucking moron unbelievable\n",
       "923674    0  you made me laugh on a very bleak news day tha...\n",
       "76991     0    not every word has to he capitalised in a title\n",
       "174968    0                                   thats even worse\n",
       "442606    0  listen keep that realism to yourself no one wa..."
      ]
     },
     "execution_count": 109,
     "metadata": {},
     "output_type": "execute_result"
    }
   ],
   "source": [
    "testDF.head()"
   ]
  },
  {
   "cell_type": "code",
   "execution_count": 131,
   "metadata": {},
   "outputs": [],
   "source": [
    "commentsDF.txt = [string.translate(punctuation) for string in commentsDF.txt]"
   ]
  },
  {
   "cell_type": "code",
   "execution_count": 110,
   "metadata": {},
   "outputs": [],
   "source": [
    "commentsDF = testDF.copy()"
   ]
  },
  {
   "cell_type": "markdown",
   "metadata": {},
   "source": [
    "### Remove Stop Words"
   ]
  },
  {
   "cell_type": "code",
   "execution_count": 32,
   "metadata": {},
   "outputs": [],
   "source": [
    "from nltk.corpus import stopwords"
   ]
  },
  {
   "cell_type": "code",
   "execution_count": 33,
   "metadata": {},
   "outputs": [],
   "source": [
    "# import nltk"
   ]
  },
  {
   "cell_type": "code",
   "execution_count": 35,
   "metadata": {},
   "outputs": [],
   "source": [
    "# nltk.download('stopwords')"
   ]
  },
  {
   "cell_type": "code",
   "execution_count": 36,
   "metadata": {},
   "outputs": [],
   "source": [
    "stop_words = stopwords.words('english')"
   ]
  },
  {
   "cell_type": "markdown",
   "metadata": {},
   "source": [
    "#### Remove stop words"
   ]
  },
  {
   "cell_type": "code",
   "execution_count": 43,
   "metadata": {},
   "outputs": [
    {
     "data": {
      "text/plain": [
       "['going', 'go', 'store', 'park']"
      ]
     },
     "execution_count": 43,
     "metadata": {},
     "output_type": "execute_result"
    }
   ],
   "source": [
    "[word for word in tokenized_words if word not in stop_words]"
   ]
  },
  {
   "cell_type": "code",
   "execution_count": 38,
   "metadata": {},
   "outputs": [
    {
     "data": {
      "text/plain": [
       "'well its great that he did something about those beliefs while he was in office i doubt trump would fight the un for it so im really really happy obama did something while he couldoh wait'"
      ]
     },
     "execution_count": 38,
     "metadata": {},
     "output_type": "execute_result"
    }
   ],
   "source": [
    "testDF.txt.iloc[0]"
   ]
  },
  {
   "cell_type": "code",
   "execution_count": 40,
   "metadata": {},
   "outputs": [
    {
     "data": {
      "text/plain": [
       "str"
      ]
     },
     "execution_count": 40,
     "metadata": {},
     "output_type": "execute_result"
    }
   ],
   "source": [
    "type(testDF.txt.iloc[0])"
   ]
  },
  {
   "cell_type": "code",
   "execution_count": 42,
   "metadata": {},
   "outputs": [],
   "source": [
    "from nltk.tokenize import word_tokenize"
   ]
  },
  {
   "cell_type": "code",
   "execution_count": 43,
   "metadata": {},
   "outputs": [],
   "source": [
    "string = testDF.txt.iloc[0]"
   ]
  },
  {
   "cell_type": "code",
   "execution_count": 47,
   "metadata": {},
   "outputs": [],
   "source": [
    "tokenized_words = word_tokenize(string)"
   ]
  },
  {
   "cell_type": "code",
   "execution_count": 48,
   "metadata": {},
   "outputs": [
    {
     "data": {
      "text/plain": [
       "36"
      ]
     },
     "execution_count": 48,
     "metadata": {},
     "output_type": "execute_result"
    }
   ],
   "source": [
    "len(tokenized_words)"
   ]
  },
  {
   "cell_type": "code",
   "execution_count": 51,
   "metadata": {},
   "outputs": [],
   "source": [
    "noStops = [word for word in tokenized_words if word not in stop_words]"
   ]
  },
  {
   "cell_type": "code",
   "execution_count": 59,
   "metadata": {},
   "outputs": [],
   "source": [
    "# noStops"
   ]
  },
  {
   "cell_type": "code",
   "execution_count": 53,
   "metadata": {},
   "outputs": [
    {
     "data": {
      "text/plain": [
       "18"
      ]
     },
     "execution_count": 53,
     "metadata": {},
     "output_type": "execute_result"
    }
   ],
   "source": [
    "len(noStops)"
   ]
  },
  {
   "cell_type": "code",
   "execution_count": 57,
   "metadata": {},
   "outputs": [],
   "source": [
    "def removeStopWords(string):\n",
    "    tokenized_words = word_tokenize(string)\n",
    "    return [word for word in tokenized_words if word not in stop_words]"
   ]
  },
  {
   "cell_type": "code",
   "execution_count": 55,
   "metadata": {},
   "outputs": [
    {
     "data": {
      "text/plain": [
       "'well its great that he did something about those beliefs while he was in office i doubt trump would fight the un for it so im really really happy obama did something while he couldoh wait'"
      ]
     },
     "execution_count": 55,
     "metadata": {},
     "output_type": "execute_result"
    }
   ],
   "source": [
    "string"
   ]
  },
  {
   "cell_type": "code",
   "execution_count": 58,
   "metadata": {},
   "outputs": [
    {
     "data": {
      "text/plain": [
       "['well',\n",
       " 'great',\n",
       " 'something',\n",
       " 'beliefs',\n",
       " 'office',\n",
       " 'doubt',\n",
       " 'trump',\n",
       " 'would',\n",
       " 'fight',\n",
       " 'un',\n",
       " 'im',\n",
       " 'really',\n",
       " 'really',\n",
       " 'happy',\n",
       " 'obama',\n",
       " 'something',\n",
       " 'couldoh',\n",
       " 'wait']"
      ]
     },
     "execution_count": 58,
     "metadata": {},
     "output_type": "execute_result"
    }
   ],
   "source": [
    "removeStopWords(string)"
   ]
  },
  {
   "cell_type": "code",
   "execution_count": 60,
   "metadata": {},
   "outputs": [
    {
     "data": {
      "text/html": [
       "<div>\n",
       "<style scoped>\n",
       "    .dataframe tbody tr th:only-of-type {\n",
       "        vertical-align: middle;\n",
       "    }\n",
       "\n",
       "    .dataframe tbody tr th {\n",
       "        vertical-align: top;\n",
       "    }\n",
       "\n",
       "    .dataframe thead th {\n",
       "        text-align: right;\n",
       "    }\n",
       "</style>\n",
       "<table border=\"1\" class=\"dataframe\">\n",
       "  <thead>\n",
       "    <tr style=\"text-align: right;\">\n",
       "      <th></th>\n",
       "      <th>con</th>\n",
       "      <th>txt</th>\n",
       "    </tr>\n",
       "  </thead>\n",
       "  <tbody>\n",
       "    <tr>\n",
       "      <th>0</th>\n",
       "      <td>0</td>\n",
       "      <td>well its great that he did something about tho...</td>\n",
       "    </tr>\n",
       "    <tr>\n",
       "      <th>1</th>\n",
       "      <td>0</td>\n",
       "      <td>you are right mr president</td>\n",
       "    </tr>\n",
       "    <tr>\n",
       "      <th>2</th>\n",
       "      <td>0</td>\n",
       "      <td>you have given no input apart from saying i am...</td>\n",
       "    </tr>\n",
       "    <tr>\n",
       "      <th>3</th>\n",
       "      <td>0</td>\n",
       "      <td>i get the frustration but the reason they want...</td>\n",
       "    </tr>\n",
       "    <tr>\n",
       "      <th>4</th>\n",
       "      <td>0</td>\n",
       "      <td>i am far from an expert on tpp and i would ten...</td>\n",
       "    </tr>\n",
       "  </tbody>\n",
       "</table>\n",
       "</div>"
      ],
      "text/plain": [
       "   con                                                txt\n",
       "0    0  well its great that he did something about tho...\n",
       "1    0                         you are right mr president\n",
       "2    0  you have given no input apart from saying i am...\n",
       "3    0  i get the frustration but the reason they want...\n",
       "4    0  i am far from an expert on tpp and i would ten..."
      ]
     },
     "execution_count": 60,
     "metadata": {},
     "output_type": "execute_result"
    }
   ],
   "source": [
    "testDF.head()"
   ]
  },
  {
   "cell_type": "code",
   "execution_count": 111,
   "metadata": {},
   "outputs": [
    {
     "data": {
      "text/plain": [
       "813846             [absolute, fucking, moron, unbelievable]\n",
       "923674    [made, laugh, bleak, news, day, thank, kind, s...\n",
       "76991                     [every, word, capitalised, title]\n",
       "174968                                 [thats, even, worse]\n",
       "442606      [listen, keep, realism, one, wants, hear, shit]\n",
       "                                ...                        \n",
       "864267    [would, better, dismantle, deep, state, everyo...\n",
       "24377     [oh, yeah, dont, mean, say, hes, completely, p...\n",
       "414327    [im, bergers, district, unopposed, democrats, ...\n",
       "888733    [youve, showed, dont, understand, google, even...\n",
       "886803                         [neither, shut, fuck, guess]\n",
       "Name: txt, Length: 100, dtype: object"
      ]
     },
     "execution_count": 111,
     "metadata": {},
     "output_type": "execute_result"
    }
   ],
   "source": [
    "testDF.txt.apply(lambda x: removeStopWords(x))"
   ]
  },
  {
   "cell_type": "code",
   "execution_count": 112,
   "metadata": {},
   "outputs": [
    {
     "data": {
      "text/html": [
       "<div>\n",
       "<style scoped>\n",
       "    .dataframe tbody tr th:only-of-type {\n",
       "        vertical-align: middle;\n",
       "    }\n",
       "\n",
       "    .dataframe tbody tr th {\n",
       "        vertical-align: top;\n",
       "    }\n",
       "\n",
       "    .dataframe thead th {\n",
       "        text-align: right;\n",
       "    }\n",
       "</style>\n",
       "<table border=\"1\" class=\"dataframe\">\n",
       "  <thead>\n",
       "    <tr style=\"text-align: right;\">\n",
       "      <th></th>\n",
       "      <th>con</th>\n",
       "      <th>txt</th>\n",
       "    </tr>\n",
       "  </thead>\n",
       "  <tbody>\n",
       "    <tr>\n",
       "      <th>813846</th>\n",
       "      <td>0</td>\n",
       "      <td>what an absolute fucking moron unbelievable</td>\n",
       "    </tr>\n",
       "    <tr>\n",
       "      <th>923674</th>\n",
       "      <td>0</td>\n",
       "      <td>you made me laugh on a very bleak news day tha...</td>\n",
       "    </tr>\n",
       "    <tr>\n",
       "      <th>76991</th>\n",
       "      <td>0</td>\n",
       "      <td>not every word has to he capitalised in a title</td>\n",
       "    </tr>\n",
       "    <tr>\n",
       "      <th>174968</th>\n",
       "      <td>0</td>\n",
       "      <td>thats even worse</td>\n",
       "    </tr>\n",
       "    <tr>\n",
       "      <th>442606</th>\n",
       "      <td>0</td>\n",
       "      <td>listen keep that realism to yourself no one wa...</td>\n",
       "    </tr>\n",
       "  </tbody>\n",
       "</table>\n",
       "</div>"
      ],
      "text/plain": [
       "        con                                                txt\n",
       "813846    0        what an absolute fucking moron unbelievable\n",
       "923674    0  you made me laugh on a very bleak news day tha...\n",
       "76991     0    not every word has to he capitalised in a title\n",
       "174968    0                                   thats even worse\n",
       "442606    0  listen keep that realism to yourself no one wa..."
      ]
     },
     "execution_count": 112,
     "metadata": {},
     "output_type": "execute_result"
    }
   ],
   "source": [
    "testDF.head()"
   ]
  },
  {
   "cell_type": "code",
   "execution_count": 63,
   "metadata": {},
   "outputs": [
    {
     "data": {
      "text/plain": [
       "187"
      ]
     },
     "execution_count": 63,
     "metadata": {},
     "output_type": "execute_result"
    }
   ],
   "source": [
    "len(testDF.txt.iloc[0])"
   ]
  },
  {
   "cell_type": "code",
   "execution_count": 64,
   "metadata": {},
   "outputs": [
    {
     "data": {
      "text/plain": [
       "187"
      ]
     },
     "execution_count": 64,
     "metadata": {},
     "output_type": "execute_result"
    }
   ],
   "source": [
    "len(commentsDF.txt.iloc[0])"
   ]
  },
  {
   "cell_type": "code",
   "execution_count": 66,
   "metadata": {},
   "outputs": [
    {
     "data": {
      "text/plain": [
       "950000"
      ]
     },
     "execution_count": 66,
     "metadata": {},
     "output_type": "execute_result"
    }
   ],
   "source": [
    "len(commentsDF)"
   ]
  },
  {
   "cell_type": "code",
   "execution_count": 95,
   "metadata": {},
   "outputs": [],
   "source": [
    "commentsDF = commentsDF.sample(10000)"
   ]
  },
  {
   "cell_type": "code",
   "execution_count": 70,
   "metadata": {},
   "outputs": [
    {
     "data": {
      "text/plain": [
       "10000"
      ]
     },
     "execution_count": 70,
     "metadata": {},
     "output_type": "execute_result"
    }
   ],
   "source": [
    "len(commentsDF)"
   ]
  },
  {
   "cell_type": "code",
   "execution_count": 132,
   "metadata": {},
   "outputs": [],
   "source": [
    "commentsDF.txt = commentsDF.txt.apply(lambda x: removeStopWords(x))"
   ]
  },
  {
   "cell_type": "code",
   "execution_count": 133,
   "metadata": {},
   "outputs": [],
   "source": [
    "saveDF = commentsDF.copy()"
   ]
  },
  {
   "cell_type": "code",
   "execution_count": 134,
   "metadata": {},
   "outputs": [
    {
     "data": {
      "text/html": [
       "<div>\n",
       "<style scoped>\n",
       "    .dataframe tbody tr th:only-of-type {\n",
       "        vertical-align: middle;\n",
       "    }\n",
       "\n",
       "    .dataframe tbody tr th {\n",
       "        vertical-align: top;\n",
       "    }\n",
       "\n",
       "    .dataframe thead th {\n",
       "        text-align: right;\n",
       "    }\n",
       "</style>\n",
       "<table border=\"1\" class=\"dataframe\">\n",
       "  <thead>\n",
       "    <tr style=\"text-align: right;\">\n",
       "      <th></th>\n",
       "      <th>con</th>\n",
       "      <th>txt</th>\n",
       "    </tr>\n",
       "  </thead>\n",
       "  <tbody>\n",
       "    <tr>\n",
       "      <th>90730</th>\n",
       "      <td>0</td>\n",
       "      <td>[specifically, blackonblack, homicide, complet...</td>\n",
       "    </tr>\n",
       "    <tr>\n",
       "      <th>616522</th>\n",
       "      <td>0</td>\n",
       "      <td>[watched, second, debate, heard, baldwin, trump]</td>\n",
       "    </tr>\n",
       "    <tr>\n",
       "      <th>790246</th>\n",
       "      <td>0</td>\n",
       "      <td>[op, trump, russian, tool]</td>\n",
       "    </tr>\n",
       "    <tr>\n",
       "      <th>21463</th>\n",
       "      <td>0</td>\n",
       "      <td>[dont, quit, day, job, comedy, isnt]</td>\n",
       "    </tr>\n",
       "    <tr>\n",
       "      <th>291574</th>\n",
       "      <td>0</td>\n",
       "      <td>[gtprivco, provides, financial, business, data...</td>\n",
       "    </tr>\n",
       "  </tbody>\n",
       "</table>\n",
       "</div>"
      ],
      "text/plain": [
       "        con                                                txt\n",
       "90730     0  [specifically, blackonblack, homicide, complet...\n",
       "616522    0   [watched, second, debate, heard, baldwin, trump]\n",
       "790246    0                         [op, trump, russian, tool]\n",
       "21463     0               [dont, quit, day, job, comedy, isnt]\n",
       "291574    0  [gtprivco, provides, financial, business, data..."
      ]
     },
     "execution_count": 134,
     "metadata": {},
     "output_type": "execute_result"
    }
   ],
   "source": [
    "commentsDF.head()"
   ]
  },
  {
   "cell_type": "code",
   "execution_count": 73,
   "metadata": {},
   "outputs": [
    {
     "data": {
      "text/plain": [
       "43"
      ]
     },
     "execution_count": 73,
     "metadata": {},
     "output_type": "execute_result"
    }
   ],
   "source": [
    "len(commentsDF.txt.iloc[0])"
   ]
  },
  {
   "cell_type": "markdown",
   "metadata": {},
   "source": [
    "### Apply PorterStemmer"
   ]
  },
  {
   "cell_type": "code",
   "execution_count": 74,
   "metadata": {},
   "outputs": [],
   "source": [
    "from nltk.stem.porter import PorterStemmer"
   ]
  },
  {
   "cell_type": "code",
   "execution_count": 75,
   "metadata": {},
   "outputs": [],
   "source": [
    "porter = PorterStemmer()"
   ]
  },
  {
   "cell_type": "code",
   "execution_count": 51,
   "metadata": {},
   "outputs": [
    {
     "data": {
      "text/plain": [
       "['i', 'am', 'humbl', 'by', 'thi', 'tradit', 'meet']"
      ]
     },
     "execution_count": 51,
     "metadata": {},
     "output_type": "execute_result"
    }
   ],
   "source": [
    "[porter.stem(word) for word in tokenized_words]"
   ]
  },
  {
   "cell_type": "code",
   "execution_count": 79,
   "metadata": {},
   "outputs": [
    {
     "data": {
      "text/plain": [
       "['good', 'chanc', 'two', 'parti', 'go']"
      ]
     },
     "execution_count": 79,
     "metadata": {},
     "output_type": "execute_result"
    }
   ],
   "source": [
    "[porter.stem(word) for word in commentsDF.txt.iloc[0]][:5]"
   ]
  },
  {
   "cell_type": "code",
   "execution_count": 135,
   "metadata": {},
   "outputs": [
    {
     "data": {
      "text/html": [
       "<div>\n",
       "<style scoped>\n",
       "    .dataframe tbody tr th:only-of-type {\n",
       "        vertical-align: middle;\n",
       "    }\n",
       "\n",
       "    .dataframe tbody tr th {\n",
       "        vertical-align: top;\n",
       "    }\n",
       "\n",
       "    .dataframe thead th {\n",
       "        text-align: right;\n",
       "    }\n",
       "</style>\n",
       "<table border=\"1\" class=\"dataframe\">\n",
       "  <thead>\n",
       "    <tr style=\"text-align: right;\">\n",
       "      <th></th>\n",
       "      <th>con</th>\n",
       "      <th>txt</th>\n",
       "    </tr>\n",
       "  </thead>\n",
       "  <tbody>\n",
       "    <tr>\n",
       "      <th>90730</th>\n",
       "      <td>0</td>\n",
       "      <td>[specifically, blackonblack, homicide, complet...</td>\n",
       "    </tr>\n",
       "    <tr>\n",
       "      <th>616522</th>\n",
       "      <td>0</td>\n",
       "      <td>[watched, second, debate, heard, baldwin, trump]</td>\n",
       "    </tr>\n",
       "    <tr>\n",
       "      <th>790246</th>\n",
       "      <td>0</td>\n",
       "      <td>[op, trump, russian, tool]</td>\n",
       "    </tr>\n",
       "    <tr>\n",
       "      <th>21463</th>\n",
       "      <td>0</td>\n",
       "      <td>[dont, quit, day, job, comedy, isnt]</td>\n",
       "    </tr>\n",
       "    <tr>\n",
       "      <th>291574</th>\n",
       "      <td>0</td>\n",
       "      <td>[gtprivco, provides, financial, business, data...</td>\n",
       "    </tr>\n",
       "  </tbody>\n",
       "</table>\n",
       "</div>"
      ],
      "text/plain": [
       "        con                                                txt\n",
       "90730     0  [specifically, blackonblack, homicide, complet...\n",
       "616522    0   [watched, second, debate, heard, baldwin, trump]\n",
       "790246    0                         [op, trump, russian, tool]\n",
       "21463     0               [dont, quit, day, job, comedy, isnt]\n",
       "291574    0  [gtprivco, provides, financial, business, data..."
      ]
     },
     "execution_count": 135,
     "metadata": {},
     "output_type": "execute_result"
    }
   ],
   "source": [
    "commentsDF.head()"
   ]
  },
  {
   "cell_type": "code",
   "execution_count": 136,
   "metadata": {},
   "outputs": [],
   "source": [
    "testDF = commentsDF[:10].copy()"
   ]
  },
  {
   "cell_type": "code",
   "execution_count": 137,
   "metadata": {},
   "outputs": [
    {
     "data": {
      "text/html": [
       "<div>\n",
       "<style scoped>\n",
       "    .dataframe tbody tr th:only-of-type {\n",
       "        vertical-align: middle;\n",
       "    }\n",
       "\n",
       "    .dataframe tbody tr th {\n",
       "        vertical-align: top;\n",
       "    }\n",
       "\n",
       "    .dataframe thead th {\n",
       "        text-align: right;\n",
       "    }\n",
       "</style>\n",
       "<table border=\"1\" class=\"dataframe\">\n",
       "  <thead>\n",
       "    <tr style=\"text-align: right;\">\n",
       "      <th></th>\n",
       "      <th>con</th>\n",
       "      <th>txt</th>\n",
       "    </tr>\n",
       "  </thead>\n",
       "  <tbody>\n",
       "    <tr>\n",
       "      <th>90730</th>\n",
       "      <td>0</td>\n",
       "      <td>[specifically, blackonblack, homicide, complet...</td>\n",
       "    </tr>\n",
       "    <tr>\n",
       "      <th>616522</th>\n",
       "      <td>0</td>\n",
       "      <td>[watched, second, debate, heard, baldwin, trump]</td>\n",
       "    </tr>\n",
       "    <tr>\n",
       "      <th>790246</th>\n",
       "      <td>0</td>\n",
       "      <td>[op, trump, russian, tool]</td>\n",
       "    </tr>\n",
       "    <tr>\n",
       "      <th>21463</th>\n",
       "      <td>0</td>\n",
       "      <td>[dont, quit, day, job, comedy, isnt]</td>\n",
       "    </tr>\n",
       "    <tr>\n",
       "      <th>291574</th>\n",
       "      <td>0</td>\n",
       "      <td>[gtprivco, provides, financial, business, data...</td>\n",
       "    </tr>\n",
       "  </tbody>\n",
       "</table>\n",
       "</div>"
      ],
      "text/plain": [
       "        con                                                txt\n",
       "90730     0  [specifically, blackonblack, homicide, complet...\n",
       "616522    0   [watched, second, debate, heard, baldwin, trump]\n",
       "790246    0                         [op, trump, russian, tool]\n",
       "21463     0               [dont, quit, day, job, comedy, isnt]\n",
       "291574    0  [gtprivco, provides, financial, business, data..."
      ]
     },
     "execution_count": 137,
     "metadata": {},
     "output_type": "execute_result"
    }
   ],
   "source": [
    "testDF.head()"
   ]
  },
  {
   "cell_type": "code",
   "execution_count": 138,
   "metadata": {},
   "outputs": [
    {
     "data": {
      "text/plain": [
       "90730     [specif, blackonblack, homicid, complet, contr...\n",
       "616522        [watch, second, debat, heard, baldwin, trump]\n",
       "790246                           [op, trump, russian, tool]\n",
       "21463                  [dont, quit, day, job, comedi, isnt]\n",
       "291574    [gtprivco, provid, financi, busi, data, major,...\n",
       "653580                              [right, wikileak, back]\n",
       "695602    [explain, think, harri, potter, satan, recruit...\n",
       "11663                                               [remov]\n",
       "58065     [would, give, essenti, liberti, purchas, littl...\n",
       "78815                                               [delet]\n",
       "Name: txt, dtype: object"
      ]
     },
     "execution_count": 138,
     "metadata": {},
     "output_type": "execute_result"
    }
   ],
   "source": [
    "testDF.txt.apply(lambda x: [porter.stem(word) for word in x])"
   ]
  },
  {
   "cell_type": "code",
   "execution_count": 140,
   "metadata": {},
   "outputs": [],
   "source": [
    "testDF.txt = testDF.txt.apply(lambda x: [porter.stem(word) for word in x])"
   ]
  },
  {
   "cell_type": "code",
   "execution_count": 141,
   "metadata": {},
   "outputs": [
    {
     "data": {
      "text/html": [
       "<div>\n",
       "<style scoped>\n",
       "    .dataframe tbody tr th:only-of-type {\n",
       "        vertical-align: middle;\n",
       "    }\n",
       "\n",
       "    .dataframe tbody tr th {\n",
       "        vertical-align: top;\n",
       "    }\n",
       "\n",
       "    .dataframe thead th {\n",
       "        text-align: right;\n",
       "    }\n",
       "</style>\n",
       "<table border=\"1\" class=\"dataframe\">\n",
       "  <thead>\n",
       "    <tr style=\"text-align: right;\">\n",
       "      <th></th>\n",
       "      <th>con</th>\n",
       "      <th>txt</th>\n",
       "    </tr>\n",
       "  </thead>\n",
       "  <tbody>\n",
       "    <tr>\n",
       "      <th>90730</th>\n",
       "      <td>0</td>\n",
       "      <td>[specif, blackonblack, homicid, complet, contr...</td>\n",
       "    </tr>\n",
       "    <tr>\n",
       "      <th>616522</th>\n",
       "      <td>0</td>\n",
       "      <td>[watch, second, debat, heard, baldwin, trump]</td>\n",
       "    </tr>\n",
       "    <tr>\n",
       "      <th>790246</th>\n",
       "      <td>0</td>\n",
       "      <td>[op, trump, russian, tool]</td>\n",
       "    </tr>\n",
       "    <tr>\n",
       "      <th>21463</th>\n",
       "      <td>0</td>\n",
       "      <td>[dont, quit, day, job, comedi, isnt]</td>\n",
       "    </tr>\n",
       "    <tr>\n",
       "      <th>291574</th>\n",
       "      <td>0</td>\n",
       "      <td>[gtprivco, provid, financi, busi, data, major,...</td>\n",
       "    </tr>\n",
       "  </tbody>\n",
       "</table>\n",
       "</div>"
      ],
      "text/plain": [
       "        con                                                txt\n",
       "90730     0  [specif, blackonblack, homicid, complet, contr...\n",
       "616522    0      [watch, second, debat, heard, baldwin, trump]\n",
       "790246    0                         [op, trump, russian, tool]\n",
       "21463     0               [dont, quit, day, job, comedi, isnt]\n",
       "291574    0  [gtprivco, provid, financi, busi, data, major,..."
      ]
     },
     "execution_count": 141,
     "metadata": {},
     "output_type": "execute_result"
    }
   ],
   "source": [
    "testDF.head()"
   ]
  },
  {
   "cell_type": "code",
   "execution_count": 142,
   "metadata": {},
   "outputs": [],
   "source": [
    "commentsDF.txt = commentsDF.txt.apply(lambda x: [porter.stem(word) for word in x])"
   ]
  },
  {
   "cell_type": "code",
   "execution_count": 143,
   "metadata": {},
   "outputs": [
    {
     "data": {
      "text/html": [
       "<div>\n",
       "<style scoped>\n",
       "    .dataframe tbody tr th:only-of-type {\n",
       "        vertical-align: middle;\n",
       "    }\n",
       "\n",
       "    .dataframe tbody tr th {\n",
       "        vertical-align: top;\n",
       "    }\n",
       "\n",
       "    .dataframe thead th {\n",
       "        text-align: right;\n",
       "    }\n",
       "</style>\n",
       "<table border=\"1\" class=\"dataframe\">\n",
       "  <thead>\n",
       "    <tr style=\"text-align: right;\">\n",
       "      <th></th>\n",
       "      <th>con</th>\n",
       "      <th>txt</th>\n",
       "    </tr>\n",
       "  </thead>\n",
       "  <tbody>\n",
       "    <tr>\n",
       "      <th>90730</th>\n",
       "      <td>0</td>\n",
       "      <td>[specif, blackonblack, homicid, complet, contr...</td>\n",
       "    </tr>\n",
       "    <tr>\n",
       "      <th>616522</th>\n",
       "      <td>0</td>\n",
       "      <td>[watch, second, debat, heard, baldwin, trump]</td>\n",
       "    </tr>\n",
       "    <tr>\n",
       "      <th>790246</th>\n",
       "      <td>0</td>\n",
       "      <td>[op, trump, russian, tool]</td>\n",
       "    </tr>\n",
       "    <tr>\n",
       "      <th>21463</th>\n",
       "      <td>0</td>\n",
       "      <td>[dont, quit, day, job, comedi, isnt]</td>\n",
       "    </tr>\n",
       "    <tr>\n",
       "      <th>291574</th>\n",
       "      <td>0</td>\n",
       "      <td>[gtprivco, provid, financi, busi, data, major,...</td>\n",
       "    </tr>\n",
       "  </tbody>\n",
       "</table>\n",
       "</div>"
      ],
      "text/plain": [
       "        con                                                txt\n",
       "90730     0  [specif, blackonblack, homicid, complet, contr...\n",
       "616522    0      [watch, second, debat, heard, baldwin, trump]\n",
       "790246    0                         [op, trump, russian, tool]\n",
       "21463     0               [dont, quit, day, job, comedi, isnt]\n",
       "291574    0  [gtprivco, provid, financi, busi, data, major,..."
      ]
     },
     "execution_count": 143,
     "metadata": {},
     "output_type": "execute_result"
    }
   ],
   "source": [
    "commentsDF.head()"
   ]
  },
  {
   "cell_type": "code",
   "execution_count": 144,
   "metadata": {},
   "outputs": [],
   "source": [
    "saveDF = commentsDF.copy()"
   ]
  },
  {
   "cell_type": "code",
   "execution_count": 145,
   "metadata": {},
   "outputs": [
    {
     "data": {
      "text/plain": [
       "100"
      ]
     },
     "execution_count": 145,
     "metadata": {},
     "output_type": "execute_result"
    }
   ],
   "source": [
    "len(saveDF)"
   ]
  },
  {
   "cell_type": "code",
   "execution_count": 185,
   "metadata": {},
   "outputs": [],
   "source": [
    "testDF = commentsDF[:10].copy()"
   ]
  },
  {
   "cell_type": "code",
   "execution_count": 186,
   "metadata": {},
   "outputs": [
    {
     "data": {
      "text/plain": [
       "10"
      ]
     },
     "execution_count": 186,
     "metadata": {},
     "output_type": "execute_result"
    }
   ],
   "source": [
    "len(testDF)"
   ]
  },
  {
   "cell_type": "code",
   "execution_count": 187,
   "metadata": {},
   "outputs": [
    {
     "data": {
      "text/html": [
       "<div>\n",
       "<style scoped>\n",
       "    .dataframe tbody tr th:only-of-type {\n",
       "        vertical-align: middle;\n",
       "    }\n",
       "\n",
       "    .dataframe tbody tr th {\n",
       "        vertical-align: top;\n",
       "    }\n",
       "\n",
       "    .dataframe thead th {\n",
       "        text-align: right;\n",
       "    }\n",
       "</style>\n",
       "<table border=\"1\" class=\"dataframe\">\n",
       "  <thead>\n",
       "    <tr style=\"text-align: right;\">\n",
       "      <th></th>\n",
       "      <th>con</th>\n",
       "      <th>txt</th>\n",
       "    </tr>\n",
       "  </thead>\n",
       "  <tbody>\n",
       "    <tr>\n",
       "      <th>90730</th>\n",
       "      <td>0</td>\n",
       "      <td>[specif, blackonblack, homicid, complet, contr...</td>\n",
       "    </tr>\n",
       "    <tr>\n",
       "      <th>616522</th>\n",
       "      <td>0</td>\n",
       "      <td>[watch, second, debat, heard, baldwin, trump]</td>\n",
       "    </tr>\n",
       "    <tr>\n",
       "      <th>790246</th>\n",
       "      <td>0</td>\n",
       "      <td>[op, trump, russian, tool]</td>\n",
       "    </tr>\n",
       "    <tr>\n",
       "      <th>21463</th>\n",
       "      <td>0</td>\n",
       "      <td>[dont, quit, day, job, comedi, isnt]</td>\n",
       "    </tr>\n",
       "    <tr>\n",
       "      <th>291574</th>\n",
       "      <td>0</td>\n",
       "      <td>[gtprivco, provid, financi, busi, data, major,...</td>\n",
       "    </tr>\n",
       "  </tbody>\n",
       "</table>\n",
       "</div>"
      ],
      "text/plain": [
       "        con                                                txt\n",
       "90730     0  [specif, blackonblack, homicid, complet, contr...\n",
       "616522    0      [watch, second, debat, heard, baldwin, trump]\n",
       "790246    0                         [op, trump, russian, tool]\n",
       "21463     0               [dont, quit, day, job, comedi, isnt]\n",
       "291574    0  [gtprivco, provid, financi, busi, data, major,..."
      ]
     },
     "execution_count": 187,
     "metadata": {},
     "output_type": "execute_result"
    }
   ],
   "source": [
    "testDF.head()"
   ]
  },
  {
   "cell_type": "code",
   "execution_count": 153,
   "metadata": {},
   "outputs": [
    {
     "data": {
      "text/plain": [
       "pandas.core.series.Series"
      ]
     },
     "execution_count": 153,
     "metadata": {},
     "output_type": "execute_result"
    }
   ],
   "source": [
    "type(testDF.txt)"
   ]
  },
  {
   "cell_type": "markdown",
   "metadata": {},
   "source": [
    "## 2)"
   ]
  },
  {
   "cell_type": "markdown",
   "metadata": {},
   "source": [
    "### Convert each text entry into a word-count vector"
   ]
  },
  {
   "cell_type": "code",
   "execution_count": 147,
   "metadata": {},
   "outputs": [],
   "source": [
    "from sklearn.feature_extraction.text import CountVectorizer"
   ]
  },
  {
   "cell_type": "code",
   "execution_count": 148,
   "metadata": {},
   "outputs": [],
   "source": [
    "count = CountVectorizer()"
   ]
  },
  {
   "cell_type": "code",
   "execution_count": 157,
   "metadata": {},
   "outputs": [],
   "source": [
    "text_data = testDF.txt.array"
   ]
  },
  {
   "cell_type": "code",
   "execution_count": 179,
   "metadata": {},
   "outputs": [
    {
     "data": {
      "text/plain": [
       "['specif',\n",
       " 'blackonblack',\n",
       " 'homicid',\n",
       " 'complet',\n",
       " 'control',\n",
       " 'problem',\n",
       " 'call',\n",
       " 'problem',\n",
       " 'commun',\n",
       " 'violenc',\n",
       " 'lol',\n",
       " 'commun']"
      ]
     },
     "execution_count": 179,
     "metadata": {},
     "output_type": "execute_result"
    }
   ],
   "source": [
    "testDF.txt.iloc[0]"
   ]
  },
  {
   "cell_type": "code",
   "execution_count": 159,
   "metadata": {},
   "outputs": [
    {
     "ename": "SyntaxError",
     "evalue": "invalid syntax (<ipython-input-159-cd20df489f38>, line 1)",
     "output_type": "error",
     "traceback": [
      "\u001b[1;36m  File \u001b[1;32m\"<ipython-input-159-cd20df489f38>\"\u001b[1;36m, line \u001b[1;32m1\u001b[0m\n\u001b[1;33m    bagOfWords = count.fit_transform(text_data)?\u001b[0m\n\u001b[1;37m                                               ^\u001b[0m\n\u001b[1;31mSyntaxError\u001b[0m\u001b[1;31m:\u001b[0m invalid syntax\n"
     ]
    }
   ],
   "source": [
    "bagOfWords = count.fit_transform(text_data)"
   ]
  },
  {
   "cell_type": "code",
   "execution_count": 160,
   "metadata": {},
   "outputs": [
    {
     "data": {
      "text/plain": [
       "<PandasArray>\n",
       "[                                                                                                                                                                                                                                   ['specif', 'blackonblack', 'homicid', 'complet', 'control', 'problem', 'call', 'problem', 'commun', 'violenc', 'lol', 'commun'],\n",
       "                                                                                                                                                                                                                                                                                                          ['watch', 'second', 'debat', 'heard', 'baldwin', 'trump'],\n",
       "                                                                                                                                                                                                                                                                                                                                 ['op', 'trump', 'russian', 'tool'],\n",
       "                                                                                                                                                                                                                                                                                                                   ['dont', 'quit', 'day', 'job', 'comedi', 'isnt'],\n",
       "                                                                                                                 ['gtprivco', 'provid', 'financi', 'busi', 'data', 'major', 'privatelyheld', 'compani', 'estim', 'trump', 'organ', 'worldwid', '22450', 'employe', 'factcheckorg', 'find', 'evid', '10', '000', 'illeg', 'worker', 'make', 'part', 'ill', 'believ'],\n",
       "                                                                                                                                                                                                                                                                                                                                      ['right', 'wikileak', 'back'],\n",
       "                                                                                                                                                            ['explain', 'think', 'harri', 'potter', 'satan', 'recruit', 'stuff', 'see', 'kid', 'learn', 'fight', 'evil', 'take', 'someon', 'want', 'kid', 'go', 'witchcraft', 'school', 'perform', 'dark', 'magic'],\n",
       "                                                                                                                                                                                                                                                                                                                                                          ['remov'],\n",
       " ['would', 'give', 'essenti', 'liberti', 'purchas', 'littl', 'temporari', 'safeti', 'deserv', 'neither', 'liberti', 'safeti', 'work', 'like', 'dont', 'know', 'code', 'gate', 'commun', 'kept', 'get', 'would', 'guess', 'would', 'go', 'someth', 'like', 'trayvon', 'martin', 'incid', 'come', 'get', 'suppos', 'crimin', 'lurk', 'outsid', 'neighborhood', 'lol'],\n",
       "                                                                                                                                                                                                                                                                                                                                                          ['delet']]\n",
       "Length: 10, dtype: object"
      ]
     },
     "execution_count": 160,
     "metadata": {},
     "output_type": "execute_result"
    }
   ],
   "source": [
    "testDF.txt.array"
   ]
  },
  {
   "cell_type": "code",
   "execution_count": 165,
   "metadata": {},
   "outputs": [],
   "source": [
    "listOfWords = []"
   ]
  },
  {
   "cell_type": "code",
   "execution_count": 166,
   "metadata": {},
   "outputs": [],
   "source": [
    "for text in testDF.txt:\n",
    "    for word in text:\n",
    "        listOfWords.append(word)"
   ]
  },
  {
   "cell_type": "code",
   "execution_count": 168,
   "metadata": {},
   "outputs": [],
   "source": [
    "# listOfWords"
   ]
  },
  {
   "cell_type": "code",
   "execution_count": 169,
   "metadata": {},
   "outputs": [],
   "source": [
    "text_data = listOfWords"
   ]
  },
  {
   "cell_type": "code",
   "execution_count": 170,
   "metadata": {},
   "outputs": [],
   "source": [
    "bagOfWords = count.fit_transform(text_data)"
   ]
  },
  {
   "cell_type": "code",
   "execution_count": 173,
   "metadata": {},
   "outputs": [
    {
     "data": {
      "text/plain": [
       "<118x103 sparse matrix of type '<class 'numpy.int64'>'\n",
       "\twith 118 stored elements in Compressed Sparse Row format>"
      ]
     },
     "execution_count": 173,
     "metadata": {},
     "output_type": "execute_result"
    }
   ],
   "source": [
    "bagOfWords"
   ]
  },
  {
   "cell_type": "code",
   "execution_count": 171,
   "metadata": {},
   "outputs": [
    {
     "data": {
      "text/plain": [
       "array([[0, 0, 0, ..., 0, 0, 0],\n",
       "       [0, 0, 0, ..., 0, 0, 0],\n",
       "       [0, 0, 0, ..., 0, 0, 0],\n",
       "       ...,\n",
       "       [0, 0, 0, ..., 0, 0, 0],\n",
       "       [0, 0, 0, ..., 0, 0, 0],\n",
       "       [0, 0, 0, ..., 0, 0, 0]], dtype=int64)"
      ]
     },
     "execution_count": 171,
     "metadata": {},
     "output_type": "execute_result"
    }
   ],
   "source": [
    "bagOfWords.toarray()"
   ]
  },
  {
   "cell_type": "code",
   "execution_count": 174,
   "metadata": {},
   "outputs": [],
   "source": [
    "# count.get_feature_names()"
   ]
  },
  {
   "cell_type": "code",
   "execution_count": 176,
   "metadata": {},
   "outputs": [
    {
     "data": {
      "text/html": [
       "<div>\n",
       "<style scoped>\n",
       "    .dataframe tbody tr th:only-of-type {\n",
       "        vertical-align: middle;\n",
       "    }\n",
       "\n",
       "    .dataframe tbody tr th {\n",
       "        vertical-align: top;\n",
       "    }\n",
       "\n",
       "    .dataframe thead th {\n",
       "        text-align: right;\n",
       "    }\n",
       "</style>\n",
       "<table border=\"1\" class=\"dataframe\">\n",
       "  <thead>\n",
       "    <tr style=\"text-align: right;\">\n",
       "      <th></th>\n",
       "      <th>000</th>\n",
       "      <th>10</th>\n",
       "      <th>22450</th>\n",
       "      <th>back</th>\n",
       "      <th>baldwin</th>\n",
       "      <th>believ</th>\n",
       "      <th>blackonblack</th>\n",
       "      <th>busi</th>\n",
       "      <th>call</th>\n",
       "      <th>code</th>\n",
       "      <th>...</th>\n",
       "      <th>trump</th>\n",
       "      <th>violenc</th>\n",
       "      <th>want</th>\n",
       "      <th>watch</th>\n",
       "      <th>wikileak</th>\n",
       "      <th>witchcraft</th>\n",
       "      <th>work</th>\n",
       "      <th>worker</th>\n",
       "      <th>worldwid</th>\n",
       "      <th>would</th>\n",
       "    </tr>\n",
       "  </thead>\n",
       "  <tbody>\n",
       "    <tr>\n",
       "      <th>0</th>\n",
       "      <td>0</td>\n",
       "      <td>0</td>\n",
       "      <td>0</td>\n",
       "      <td>0</td>\n",
       "      <td>0</td>\n",
       "      <td>0</td>\n",
       "      <td>0</td>\n",
       "      <td>0</td>\n",
       "      <td>0</td>\n",
       "      <td>0</td>\n",
       "      <td>...</td>\n",
       "      <td>0</td>\n",
       "      <td>0</td>\n",
       "      <td>0</td>\n",
       "      <td>0</td>\n",
       "      <td>0</td>\n",
       "      <td>0</td>\n",
       "      <td>0</td>\n",
       "      <td>0</td>\n",
       "      <td>0</td>\n",
       "      <td>0</td>\n",
       "    </tr>\n",
       "    <tr>\n",
       "      <th>1</th>\n",
       "      <td>0</td>\n",
       "      <td>0</td>\n",
       "      <td>0</td>\n",
       "      <td>0</td>\n",
       "      <td>0</td>\n",
       "      <td>0</td>\n",
       "      <td>1</td>\n",
       "      <td>0</td>\n",
       "      <td>0</td>\n",
       "      <td>0</td>\n",
       "      <td>...</td>\n",
       "      <td>0</td>\n",
       "      <td>0</td>\n",
       "      <td>0</td>\n",
       "      <td>0</td>\n",
       "      <td>0</td>\n",
       "      <td>0</td>\n",
       "      <td>0</td>\n",
       "      <td>0</td>\n",
       "      <td>0</td>\n",
       "      <td>0</td>\n",
       "    </tr>\n",
       "    <tr>\n",
       "      <th>2</th>\n",
       "      <td>0</td>\n",
       "      <td>0</td>\n",
       "      <td>0</td>\n",
       "      <td>0</td>\n",
       "      <td>0</td>\n",
       "      <td>0</td>\n",
       "      <td>0</td>\n",
       "      <td>0</td>\n",
       "      <td>0</td>\n",
       "      <td>0</td>\n",
       "      <td>...</td>\n",
       "      <td>0</td>\n",
       "      <td>0</td>\n",
       "      <td>0</td>\n",
       "      <td>0</td>\n",
       "      <td>0</td>\n",
       "      <td>0</td>\n",
       "      <td>0</td>\n",
       "      <td>0</td>\n",
       "      <td>0</td>\n",
       "      <td>0</td>\n",
       "    </tr>\n",
       "    <tr>\n",
       "      <th>3</th>\n",
       "      <td>0</td>\n",
       "      <td>0</td>\n",
       "      <td>0</td>\n",
       "      <td>0</td>\n",
       "      <td>0</td>\n",
       "      <td>0</td>\n",
       "      <td>0</td>\n",
       "      <td>0</td>\n",
       "      <td>0</td>\n",
       "      <td>0</td>\n",
       "      <td>...</td>\n",
       "      <td>0</td>\n",
       "      <td>0</td>\n",
       "      <td>0</td>\n",
       "      <td>0</td>\n",
       "      <td>0</td>\n",
       "      <td>0</td>\n",
       "      <td>0</td>\n",
       "      <td>0</td>\n",
       "      <td>0</td>\n",
       "      <td>0</td>\n",
       "    </tr>\n",
       "    <tr>\n",
       "      <th>4</th>\n",
       "      <td>0</td>\n",
       "      <td>0</td>\n",
       "      <td>0</td>\n",
       "      <td>0</td>\n",
       "      <td>0</td>\n",
       "      <td>0</td>\n",
       "      <td>0</td>\n",
       "      <td>0</td>\n",
       "      <td>0</td>\n",
       "      <td>0</td>\n",
       "      <td>...</td>\n",
       "      <td>0</td>\n",
       "      <td>0</td>\n",
       "      <td>0</td>\n",
       "      <td>0</td>\n",
       "      <td>0</td>\n",
       "      <td>0</td>\n",
       "      <td>0</td>\n",
       "      <td>0</td>\n",
       "      <td>0</td>\n",
       "      <td>0</td>\n",
       "    </tr>\n",
       "    <tr>\n",
       "      <th>...</th>\n",
       "      <td>...</td>\n",
       "      <td>...</td>\n",
       "      <td>...</td>\n",
       "      <td>...</td>\n",
       "      <td>...</td>\n",
       "      <td>...</td>\n",
       "      <td>...</td>\n",
       "      <td>...</td>\n",
       "      <td>...</td>\n",
       "      <td>...</td>\n",
       "      <td>...</td>\n",
       "      <td>...</td>\n",
       "      <td>...</td>\n",
       "      <td>...</td>\n",
       "      <td>...</td>\n",
       "      <td>...</td>\n",
       "      <td>...</td>\n",
       "      <td>...</td>\n",
       "      <td>...</td>\n",
       "      <td>...</td>\n",
       "      <td>...</td>\n",
       "    </tr>\n",
       "    <tr>\n",
       "      <th>113</th>\n",
       "      <td>0</td>\n",
       "      <td>0</td>\n",
       "      <td>0</td>\n",
       "      <td>0</td>\n",
       "      <td>0</td>\n",
       "      <td>0</td>\n",
       "      <td>0</td>\n",
       "      <td>0</td>\n",
       "      <td>0</td>\n",
       "      <td>0</td>\n",
       "      <td>...</td>\n",
       "      <td>0</td>\n",
       "      <td>0</td>\n",
       "      <td>0</td>\n",
       "      <td>0</td>\n",
       "      <td>0</td>\n",
       "      <td>0</td>\n",
       "      <td>0</td>\n",
       "      <td>0</td>\n",
       "      <td>0</td>\n",
       "      <td>0</td>\n",
       "    </tr>\n",
       "    <tr>\n",
       "      <th>114</th>\n",
       "      <td>0</td>\n",
       "      <td>0</td>\n",
       "      <td>0</td>\n",
       "      <td>0</td>\n",
       "      <td>0</td>\n",
       "      <td>0</td>\n",
       "      <td>0</td>\n",
       "      <td>0</td>\n",
       "      <td>0</td>\n",
       "      <td>0</td>\n",
       "      <td>...</td>\n",
       "      <td>0</td>\n",
       "      <td>0</td>\n",
       "      <td>0</td>\n",
       "      <td>0</td>\n",
       "      <td>0</td>\n",
       "      <td>0</td>\n",
       "      <td>0</td>\n",
       "      <td>0</td>\n",
       "      <td>0</td>\n",
       "      <td>0</td>\n",
       "    </tr>\n",
       "    <tr>\n",
       "      <th>115</th>\n",
       "      <td>0</td>\n",
       "      <td>0</td>\n",
       "      <td>0</td>\n",
       "      <td>0</td>\n",
       "      <td>0</td>\n",
       "      <td>0</td>\n",
       "      <td>0</td>\n",
       "      <td>0</td>\n",
       "      <td>0</td>\n",
       "      <td>0</td>\n",
       "      <td>...</td>\n",
       "      <td>0</td>\n",
       "      <td>0</td>\n",
       "      <td>0</td>\n",
       "      <td>0</td>\n",
       "      <td>0</td>\n",
       "      <td>0</td>\n",
       "      <td>0</td>\n",
       "      <td>0</td>\n",
       "      <td>0</td>\n",
       "      <td>0</td>\n",
       "    </tr>\n",
       "    <tr>\n",
       "      <th>116</th>\n",
       "      <td>0</td>\n",
       "      <td>0</td>\n",
       "      <td>0</td>\n",
       "      <td>0</td>\n",
       "      <td>0</td>\n",
       "      <td>0</td>\n",
       "      <td>0</td>\n",
       "      <td>0</td>\n",
       "      <td>0</td>\n",
       "      <td>0</td>\n",
       "      <td>...</td>\n",
       "      <td>0</td>\n",
       "      <td>0</td>\n",
       "      <td>0</td>\n",
       "      <td>0</td>\n",
       "      <td>0</td>\n",
       "      <td>0</td>\n",
       "      <td>0</td>\n",
       "      <td>0</td>\n",
       "      <td>0</td>\n",
       "      <td>0</td>\n",
       "    </tr>\n",
       "    <tr>\n",
       "      <th>117</th>\n",
       "      <td>0</td>\n",
       "      <td>0</td>\n",
       "      <td>0</td>\n",
       "      <td>0</td>\n",
       "      <td>0</td>\n",
       "      <td>0</td>\n",
       "      <td>0</td>\n",
       "      <td>0</td>\n",
       "      <td>0</td>\n",
       "      <td>0</td>\n",
       "      <td>...</td>\n",
       "      <td>0</td>\n",
       "      <td>0</td>\n",
       "      <td>0</td>\n",
       "      <td>0</td>\n",
       "      <td>0</td>\n",
       "      <td>0</td>\n",
       "      <td>0</td>\n",
       "      <td>0</td>\n",
       "      <td>0</td>\n",
       "      <td>0</td>\n",
       "    </tr>\n",
       "  </tbody>\n",
       "</table>\n",
       "<p>118 rows × 103 columns</p>\n",
       "</div>"
      ],
      "text/plain": [
       "     000  10  22450  back  baldwin  believ  blackonblack  busi  call  code  \\\n",
       "0      0   0      0     0        0       0             0     0     0     0   \n",
       "1      0   0      0     0        0       0             1     0     0     0   \n",
       "2      0   0      0     0        0       0             0     0     0     0   \n",
       "3      0   0      0     0        0       0             0     0     0     0   \n",
       "4      0   0      0     0        0       0             0     0     0     0   \n",
       "..   ...  ..    ...   ...      ...     ...           ...   ...   ...   ...   \n",
       "113    0   0      0     0        0       0             0     0     0     0   \n",
       "114    0   0      0     0        0       0             0     0     0     0   \n",
       "115    0   0      0     0        0       0             0     0     0     0   \n",
       "116    0   0      0     0        0       0             0     0     0     0   \n",
       "117    0   0      0     0        0       0             0     0     0     0   \n",
       "\n",
       "     ...  trump  violenc  want  watch  wikileak  witchcraft  work  worker  \\\n",
       "0    ...      0        0     0      0         0           0     0       0   \n",
       "1    ...      0        0     0      0         0           0     0       0   \n",
       "2    ...      0        0     0      0         0           0     0       0   \n",
       "3    ...      0        0     0      0         0           0     0       0   \n",
       "4    ...      0        0     0      0         0           0     0       0   \n",
       "..   ...    ...      ...   ...    ...       ...         ...   ...     ...   \n",
       "113  ...      0        0     0      0         0           0     0       0   \n",
       "114  ...      0        0     0      0         0           0     0       0   \n",
       "115  ...      0        0     0      0         0           0     0       0   \n",
       "116  ...      0        0     0      0         0           0     0       0   \n",
       "117  ...      0        0     0      0         0           0     0       0   \n",
       "\n",
       "     worldwid  would  \n",
       "0           0      0  \n",
       "1           0      0  \n",
       "2           0      0  \n",
       "3           0      0  \n",
       "4           0      0  \n",
       "..        ...    ...  \n",
       "113         0      0  \n",
       "114         0      0  \n",
       "115         0      0  \n",
       "116         0      0  \n",
       "117         0      0  \n",
       "\n",
       "[118 rows x 103 columns]"
      ]
     },
     "execution_count": 176,
     "metadata": {},
     "output_type": "execute_result"
    }
   ],
   "source": [
    "pd.DataFrame(bagOfWords.toarray(), columns=count.get_feature_names())"
   ]
  },
  {
   "cell_type": "markdown",
   "metadata": {},
   "source": [
    "#### Okay, let's try this again"
   ]
  },
  {
   "cell_type": "code",
   "execution_count": 21,
   "metadata": {},
   "outputs": [],
   "source": [
    "count = CountVectorizer()"
   ]
  },
  {
   "cell_type": "code",
   "execution_count": null,
   "metadata": {},
   "outputs": [],
   "source": [
    "text_data = "
   ]
  },
  {
   "cell_type": "code",
   "execution_count": null,
   "metadata": {},
   "outputs": [],
   "source": [
    "bagOfWords = count.fit_transform(text_data)"
   ]
  },
  {
   "cell_type": "code",
   "execution_count": null,
   "metadata": {},
   "outputs": [],
   "source": [
    "bagOfWords.toarray()"
   ]
  },
  {
   "cell_type": "code",
   "execution_count": 188,
   "metadata": {},
   "outputs": [
    {
     "data": {
      "text/html": [
       "<div>\n",
       "<style scoped>\n",
       "    .dataframe tbody tr th:only-of-type {\n",
       "        vertical-align: middle;\n",
       "    }\n",
       "\n",
       "    .dataframe tbody tr th {\n",
       "        vertical-align: top;\n",
       "    }\n",
       "\n",
       "    .dataframe thead th {\n",
       "        text-align: right;\n",
       "    }\n",
       "</style>\n",
       "<table border=\"1\" class=\"dataframe\">\n",
       "  <thead>\n",
       "    <tr style=\"text-align: right;\">\n",
       "      <th></th>\n",
       "      <th>con</th>\n",
       "      <th>txt</th>\n",
       "    </tr>\n",
       "  </thead>\n",
       "  <tbody>\n",
       "    <tr>\n",
       "      <th>90730</th>\n",
       "      <td>0</td>\n",
       "      <td>[specif, blackonblack, homicid, complet, contr...</td>\n",
       "    </tr>\n",
       "    <tr>\n",
       "      <th>616522</th>\n",
       "      <td>0</td>\n",
       "      <td>[watch, second, debat, heard, baldwin, trump]</td>\n",
       "    </tr>\n",
       "    <tr>\n",
       "      <th>790246</th>\n",
       "      <td>0</td>\n",
       "      <td>[op, trump, russian, tool]</td>\n",
       "    </tr>\n",
       "    <tr>\n",
       "      <th>21463</th>\n",
       "      <td>0</td>\n",
       "      <td>[dont, quit, day, job, comedi, isnt]</td>\n",
       "    </tr>\n",
       "    <tr>\n",
       "      <th>291574</th>\n",
       "      <td>0</td>\n",
       "      <td>[gtprivco, provid, financi, busi, data, major,...</td>\n",
       "    </tr>\n",
       "  </tbody>\n",
       "</table>\n",
       "</div>"
      ],
      "text/plain": [
       "        con                                                txt\n",
       "90730     0  [specif, blackonblack, homicid, complet, contr...\n",
       "616522    0      [watch, second, debat, heard, baldwin, trump]\n",
       "790246    0                         [op, trump, russian, tool]\n",
       "21463     0               [dont, quit, day, job, comedi, isnt]\n",
       "291574    0  [gtprivco, provid, financi, busi, data, major,..."
      ]
     },
     "execution_count": 188,
     "metadata": {},
     "output_type": "execute_result"
    }
   ],
   "source": [
    "testDF.head()"
   ]
  },
  {
   "cell_type": "code",
   "execution_count": 181,
   "metadata": {},
   "outputs": [
    {
     "data": {
      "text/plain": [
       "90730     [[0, 0, 0, 0, 0, 0, 0, 0, 1, 0], [1, 0, 0, 0, ...\n",
       "616522    [[0, 0, 0, 0, 0, 1], [0, 0, 0, 1, 0, 0], [0, 1...\n",
       "790246    [[1, 0, 0, 0], [0, 0, 0, 1], [0, 1, 0, 0], [0,...\n",
       "21463     [[0, 0, 1, 0, 0, 0], [0, 0, 0, 0, 0, 1], [0, 1...\n",
       "291574    [[0, 0, 0, 0, 0, 0, 0, 0, 0, 0, 0, 0, 0, 1, 0,...\n",
       "653580                    [[0, 1, 0], [0, 0, 1], [1, 0, 0]]\n",
       "695602    [[0, 0, 1, 0, 0, 0, 0, 0, 0, 0, 0, 0, 0, 0, 0,...\n",
       "11663                                                 [[1]]\n",
       "58065     [[0, 0, 0, 0, 0, 0, 0, 0, 0, 0, 0, 0, 0, 0, 0,...\n",
       "78815                                                 [[1]]\n",
       "Name: txt, dtype: object"
      ]
     },
     "execution_count": 181,
     "metadata": {},
     "output_type": "execute_result"
    }
   ],
   "source": [
    "testDF.txt.apply(lambda x: count.fit_transform(x).toarray())"
   ]
  },
  {
   "cell_type": "code",
   "execution_count": 189,
   "metadata": {},
   "outputs": [],
   "source": [
    "testDF.txt = testDF.txt.apply(lambda x: count.fit_transform(x).toarray())"
   ]
  },
  {
   "cell_type": "code",
   "execution_count": 190,
   "metadata": {},
   "outputs": [
    {
     "data": {
      "text/html": [
       "<div>\n",
       "<style scoped>\n",
       "    .dataframe tbody tr th:only-of-type {\n",
       "        vertical-align: middle;\n",
       "    }\n",
       "\n",
       "    .dataframe tbody tr th {\n",
       "        vertical-align: top;\n",
       "    }\n",
       "\n",
       "    .dataframe thead th {\n",
       "        text-align: right;\n",
       "    }\n",
       "</style>\n",
       "<table border=\"1\" class=\"dataframe\">\n",
       "  <thead>\n",
       "    <tr style=\"text-align: right;\">\n",
       "      <th></th>\n",
       "      <th>con</th>\n",
       "      <th>txt</th>\n",
       "    </tr>\n",
       "  </thead>\n",
       "  <tbody>\n",
       "    <tr>\n",
       "      <th>90730</th>\n",
       "      <td>0</td>\n",
       "      <td>[[0, 0, 0, 0, 0, 0, 0, 0, 1, 0], [1, 0, 0, 0, ...</td>\n",
       "    </tr>\n",
       "    <tr>\n",
       "      <th>616522</th>\n",
       "      <td>0</td>\n",
       "      <td>[[0, 0, 0, 0, 0, 1], [0, 0, 0, 1, 0, 0], [0, 1...</td>\n",
       "    </tr>\n",
       "    <tr>\n",
       "      <th>790246</th>\n",
       "      <td>0</td>\n",
       "      <td>[[1, 0, 0, 0], [0, 0, 0, 1], [0, 1, 0, 0], [0,...</td>\n",
       "    </tr>\n",
       "    <tr>\n",
       "      <th>21463</th>\n",
       "      <td>0</td>\n",
       "      <td>[[0, 0, 1, 0, 0, 0], [0, 0, 0, 0, 0, 1], [0, 1...</td>\n",
       "    </tr>\n",
       "    <tr>\n",
       "      <th>291574</th>\n",
       "      <td>0</td>\n",
       "      <td>[[0, 0, 0, 0, 0, 0, 0, 0, 0, 0, 0, 0, 0, 1, 0,...</td>\n",
       "    </tr>\n",
       "  </tbody>\n",
       "</table>\n",
       "</div>"
      ],
      "text/plain": [
       "        con                                                txt\n",
       "90730     0  [[0, 0, 0, 0, 0, 0, 0, 0, 1, 0], [1, 0, 0, 0, ...\n",
       "616522    0  [[0, 0, 0, 0, 0, 1], [0, 0, 0, 1, 0, 0], [0, 1...\n",
       "790246    0  [[1, 0, 0, 0], [0, 0, 0, 1], [0, 1, 0, 0], [0,...\n",
       "21463     0  [[0, 0, 1, 0, 0, 0], [0, 0, 0, 0, 0, 1], [0, 1...\n",
       "291574    0  [[0, 0, 0, 0, 0, 0, 0, 0, 0, 0, 0, 0, 0, 1, 0,..."
      ]
     },
     "execution_count": 190,
     "metadata": {},
     "output_type": "execute_result"
    }
   ],
   "source": [
    "testDF.head()"
   ]
  },
  {
   "cell_type": "code",
   "execution_count": 191,
   "metadata": {},
   "outputs": [
    {
     "data": {
      "text/plain": [
       "array([[0, 0, 0, 0, 0, 0, 0, 0, 1, 0],\n",
       "       [1, 0, 0, 0, 0, 0, 0, 0, 0, 0],\n",
       "       [0, 0, 0, 0, 0, 1, 0, 0, 0, 0],\n",
       "       [0, 0, 0, 1, 0, 0, 0, 0, 0, 0],\n",
       "       [0, 0, 0, 0, 1, 0, 0, 0, 0, 0],\n",
       "       [0, 0, 0, 0, 0, 0, 0, 1, 0, 0],\n",
       "       [0, 1, 0, 0, 0, 0, 0, 0, 0, 0],\n",
       "       [0, 0, 0, 0, 0, 0, 0, 1, 0, 0],\n",
       "       [0, 0, 1, 0, 0, 0, 0, 0, 0, 0],\n",
       "       [0, 0, 0, 0, 0, 0, 0, 0, 0, 1],\n",
       "       [0, 0, 0, 0, 0, 0, 1, 0, 0, 0],\n",
       "       [0, 0, 1, 0, 0, 0, 0, 0, 0, 0]], dtype=int64)"
      ]
     },
     "execution_count": 191,
     "metadata": {},
     "output_type": "execute_result"
    }
   ],
   "source": [
    "testDF.txt.iloc[0]"
   ]
  },
  {
   "cell_type": "code",
   "execution_count": 192,
   "metadata": {},
   "outputs": [],
   "source": [
    "commentsDF['WCV'] = commentsDF.txt.apply(lambda x: count.fit_transform(x).toarray())"
   ]
  },
  {
   "cell_type": "code",
   "execution_count": 193,
   "metadata": {},
   "outputs": [
    {
     "data": {
      "text/html": [
       "<div>\n",
       "<style scoped>\n",
       "    .dataframe tbody tr th:only-of-type {\n",
       "        vertical-align: middle;\n",
       "    }\n",
       "\n",
       "    .dataframe tbody tr th {\n",
       "        vertical-align: top;\n",
       "    }\n",
       "\n",
       "    .dataframe thead th {\n",
       "        text-align: right;\n",
       "    }\n",
       "</style>\n",
       "<table border=\"1\" class=\"dataframe\">\n",
       "  <thead>\n",
       "    <tr style=\"text-align: right;\">\n",
       "      <th></th>\n",
       "      <th>con</th>\n",
       "      <th>txt</th>\n",
       "      <th>WCV</th>\n",
       "    </tr>\n",
       "  </thead>\n",
       "  <tbody>\n",
       "    <tr>\n",
       "      <th>90730</th>\n",
       "      <td>0</td>\n",
       "      <td>[specif, blackonblack, homicid, complet, contr...</td>\n",
       "      <td>[[0, 0, 0, 0, 0, 0, 0, 0, 1, 0], [1, 0, 0, 0, ...</td>\n",
       "    </tr>\n",
       "    <tr>\n",
       "      <th>616522</th>\n",
       "      <td>0</td>\n",
       "      <td>[watch, second, debat, heard, baldwin, trump]</td>\n",
       "      <td>[[0, 0, 0, 0, 0, 1], [0, 0, 0, 1, 0, 0], [0, 1...</td>\n",
       "    </tr>\n",
       "    <tr>\n",
       "      <th>790246</th>\n",
       "      <td>0</td>\n",
       "      <td>[op, trump, russian, tool]</td>\n",
       "      <td>[[1, 0, 0, 0], [0, 0, 0, 1], [0, 1, 0, 0], [0,...</td>\n",
       "    </tr>\n",
       "    <tr>\n",
       "      <th>21463</th>\n",
       "      <td>0</td>\n",
       "      <td>[dont, quit, day, job, comedi, isnt]</td>\n",
       "      <td>[[0, 0, 1, 0, 0, 0], [0, 0, 0, 0, 0, 1], [0, 1...</td>\n",
       "    </tr>\n",
       "    <tr>\n",
       "      <th>291574</th>\n",
       "      <td>0</td>\n",
       "      <td>[gtprivco, provid, financi, busi, data, major,...</td>\n",
       "      <td>[[0, 0, 0, 0, 0, 0, 0, 0, 0, 0, 0, 0, 0, 1, 0,...</td>\n",
       "    </tr>\n",
       "  </tbody>\n",
       "</table>\n",
       "</div>"
      ],
      "text/plain": [
       "        con                                                txt  \\\n",
       "90730     0  [specif, blackonblack, homicid, complet, contr...   \n",
       "616522    0      [watch, second, debat, heard, baldwin, trump]   \n",
       "790246    0                         [op, trump, russian, tool]   \n",
       "21463     0               [dont, quit, day, job, comedi, isnt]   \n",
       "291574    0  [gtprivco, provid, financi, busi, data, major,...   \n",
       "\n",
       "                                                      WCV  \n",
       "90730   [[0, 0, 0, 0, 0, 0, 0, 0, 1, 0], [1, 0, 0, 0, ...  \n",
       "616522  [[0, 0, 0, 0, 0, 1], [0, 0, 0, 1, 0, 0], [0, 1...  \n",
       "790246  [[1, 0, 0, 0], [0, 0, 0, 1], [0, 1, 0, 0], [0,...  \n",
       "21463   [[0, 0, 1, 0, 0, 0], [0, 0, 0, 0, 0, 1], [0, 1...  \n",
       "291574  [[0, 0, 0, 0, 0, 0, 0, 0, 0, 0, 0, 0, 0, 1, 0,...  "
      ]
     },
     "execution_count": 193,
     "metadata": {},
     "output_type": "execute_result"
    }
   ],
   "source": [
    "commentsDF.head()"
   ]
  },
  {
   "cell_type": "code",
   "execution_count": 194,
   "metadata": {},
   "outputs": [],
   "source": [
    "saveDF = commentsDF.copy()"
   ]
  },
  {
   "cell_type": "code",
   "execution_count": 195,
   "metadata": {},
   "outputs": [],
   "source": [
    "testDF = commentsDF[:10].copy()"
   ]
  },
  {
   "cell_type": "markdown",
   "metadata": {},
   "source": [
    "### Convert each text entry to Part-of-Speech tag vector"
   ]
  },
  {
   "cell_type": "code",
   "execution_count": 196,
   "metadata": {},
   "outputs": [],
   "source": [
    "from nltk import pos_tag\n",
    "from nltk import word_tokenize"
   ]
  },
  {
   "cell_type": "code",
   "execution_count": 53,
   "metadata": {},
   "outputs": [],
   "source": [
    "textData = \"Chris loved outdoor running\""
   ]
  },
  {
   "cell_type": "code",
   "execution_count": 197,
   "metadata": {},
   "outputs": [],
   "source": [
    "# import nltk\n",
    "# nltk.download('averaged_perceptron_tagger')"
   ]
  },
  {
   "cell_type": "code",
   "execution_count": 56,
   "metadata": {},
   "outputs": [],
   "source": [
    "textTagged = pos_tag(word_tokenize(textData))"
   ]
  },
  {
   "cell_type": "code",
   "execution_count": 57,
   "metadata": {},
   "outputs": [
    {
     "data": {
      "text/plain": [
       "[('Chris', 'NNP'), ('loved', 'VBD'), ('outdoor', 'RP'), ('running', 'VBG')]"
      ]
     },
     "execution_count": 57,
     "metadata": {},
     "output_type": "execute_result"
    }
   ],
   "source": [
    "textTagged"
   ]
  },
  {
   "cell_type": "code",
   "execution_count": 198,
   "metadata": {},
   "outputs": [
    {
     "data": {
      "text/plain": [
       "['specif',\n",
       " 'blackonblack',\n",
       " 'homicid',\n",
       " 'complet',\n",
       " 'control',\n",
       " 'problem',\n",
       " 'call',\n",
       " 'problem',\n",
       " 'commun',\n",
       " 'violenc',\n",
       " 'lol',\n",
       " 'commun']"
      ]
     },
     "execution_count": 198,
     "metadata": {},
     "output_type": "execute_result"
    }
   ],
   "source": [
    "testDF.txt.iloc[0]"
   ]
  },
  {
   "cell_type": "code",
   "execution_count": 199,
   "metadata": {},
   "outputs": [],
   "source": [
    "listOfWords = testDF.txt.iloc[0]"
   ]
  },
  {
   "cell_type": "code",
   "execution_count": 200,
   "metadata": {},
   "outputs": [
    {
     "data": {
      "text/plain": [
       "[('specif', 'JJ'),\n",
       " ('blackonblack', 'NN'),\n",
       " ('homicid', 'JJ'),\n",
       " ('complet', 'NN'),\n",
       " ('control', 'NN'),\n",
       " ('problem', 'NN'),\n",
       " ('call', 'NN'),\n",
       " ('problem', 'NN'),\n",
       " ('commun', 'NN'),\n",
       " ('violenc', 'NN'),\n",
       " ('lol', 'NN'),\n",
       " ('commun', 'NN')]"
      ]
     },
     "execution_count": 200,
     "metadata": {},
     "output_type": "execute_result"
    }
   ],
   "source": [
    "tag = nltk.pos_tag(listOfWords)"
   ]
  },
  {
   "cell_type": "code",
   "execution_count": null,
   "metadata": {},
   "outputs": [],
   "source": [
    "tagged = []\n",
    "tagged"
   ]
  },
  {
   "cell_type": "code",
   "execution_count": 201,
   "metadata": {},
   "outputs": [
    {
     "data": {
      "text/html": [
       "<div>\n",
       "<style scoped>\n",
       "    .dataframe tbody tr th:only-of-type {\n",
       "        vertical-align: middle;\n",
       "    }\n",
       "\n",
       "    .dataframe tbody tr th {\n",
       "        vertical-align: top;\n",
       "    }\n",
       "\n",
       "    .dataframe thead th {\n",
       "        text-align: right;\n",
       "    }\n",
       "</style>\n",
       "<table border=\"1\" class=\"dataframe\">\n",
       "  <thead>\n",
       "    <tr style=\"text-align: right;\">\n",
       "      <th></th>\n",
       "      <th>con</th>\n",
       "      <th>txt</th>\n",
       "      <th>WCV</th>\n",
       "    </tr>\n",
       "  </thead>\n",
       "  <tbody>\n",
       "    <tr>\n",
       "      <th>90730</th>\n",
       "      <td>0</td>\n",
       "      <td>[specif, blackonblack, homicid, complet, contr...</td>\n",
       "      <td>[[0, 0, 0, 0, 0, 0, 0, 0, 1, 0], [1, 0, 0, 0, ...</td>\n",
       "    </tr>\n",
       "    <tr>\n",
       "      <th>616522</th>\n",
       "      <td>0</td>\n",
       "      <td>[watch, second, debat, heard, baldwin, trump]</td>\n",
       "      <td>[[0, 0, 0, 0, 0, 1], [0, 0, 0, 1, 0, 0], [0, 1...</td>\n",
       "    </tr>\n",
       "    <tr>\n",
       "      <th>790246</th>\n",
       "      <td>0</td>\n",
       "      <td>[op, trump, russian, tool]</td>\n",
       "      <td>[[1, 0, 0, 0], [0, 0, 0, 1], [0, 1, 0, 0], [0,...</td>\n",
       "    </tr>\n",
       "    <tr>\n",
       "      <th>21463</th>\n",
       "      <td>0</td>\n",
       "      <td>[dont, quit, day, job, comedi, isnt]</td>\n",
       "      <td>[[0, 0, 1, 0, 0, 0], [0, 0, 0, 0, 0, 1], [0, 1...</td>\n",
       "    </tr>\n",
       "    <tr>\n",
       "      <th>291574</th>\n",
       "      <td>0</td>\n",
       "      <td>[gtprivco, provid, financi, busi, data, major,...</td>\n",
       "      <td>[[0, 0, 0, 0, 0, 0, 0, 0, 0, 0, 0, 0, 0, 1, 0,...</td>\n",
       "    </tr>\n",
       "  </tbody>\n",
       "</table>\n",
       "</div>"
      ],
      "text/plain": [
       "        con                                                txt  \\\n",
       "90730     0  [specif, blackonblack, homicid, complet, contr...   \n",
       "616522    0      [watch, second, debat, heard, baldwin, trump]   \n",
       "790246    0                         [op, trump, russian, tool]   \n",
       "21463     0               [dont, quit, day, job, comedi, isnt]   \n",
       "291574    0  [gtprivco, provid, financi, busi, data, major,...   \n",
       "\n",
       "                                                      WCV  \n",
       "90730   [[0, 0, 0, 0, 0, 0, 0, 0, 1, 0], [1, 0, 0, 0, ...  \n",
       "616522  [[0, 0, 0, 0, 0, 1], [0, 0, 0, 1, 0, 0], [0, 1...  \n",
       "790246  [[1, 0, 0, 0], [0, 0, 0, 1], [0, 1, 0, 0], [0,...  \n",
       "21463   [[0, 0, 1, 0, 0, 0], [0, 0, 0, 0, 0, 1], [0, 1...  \n",
       "291574  [[0, 0, 0, 0, 0, 0, 0, 0, 0, 0, 0, 0, 0, 1, 0,...  "
      ]
     },
     "execution_count": 201,
     "metadata": {},
     "output_type": "execute_result"
    }
   ],
   "source": [
    "testDF.head()"
   ]
  },
  {
   "cell_type": "code",
   "execution_count": 203,
   "metadata": {},
   "outputs": [
    {
     "data": {
      "text/plain": [
       "array([[0, 0, 0, 0, 0, 0, 0, 0, 1, 0],\n",
       "       [1, 0, 0, 0, 0, 0, 0, 0, 0, 0],\n",
       "       [0, 0, 0, 0, 0, 1, 0, 0, 0, 0],\n",
       "       [0, 0, 0, 1, 0, 0, 0, 0, 0, 0],\n",
       "       [0, 0, 0, 0, 1, 0, 0, 0, 0, 0],\n",
       "       [0, 0, 0, 0, 0, 0, 0, 1, 0, 0],\n",
       "       [0, 1, 0, 0, 0, 0, 0, 0, 0, 0],\n",
       "       [0, 0, 0, 0, 0, 0, 0, 1, 0, 0],\n",
       "       [0, 0, 1, 0, 0, 0, 0, 0, 0, 0],\n",
       "       [0, 0, 0, 0, 0, 0, 0, 0, 0, 1],\n",
       "       [0, 0, 0, 0, 0, 0, 1, 0, 0, 0],\n",
       "       [0, 0, 1, 0, 0, 0, 0, 0, 0, 0]], dtype=int64)"
      ]
     },
     "execution_count": 203,
     "metadata": {},
     "output_type": "execute_result"
    }
   ],
   "source": [
    "testDF.WCV.iloc[0]"
   ]
  },
  {
   "cell_type": "code",
   "execution_count": 204,
   "metadata": {},
   "outputs": [
    {
     "ename": "AttributeError",
     "evalue": "'numpy.ndarray' object has no attribute 'get_feature_names'",
     "output_type": "error",
     "traceback": [
      "\u001b[1;31m---------------------------------------------------------------------------\u001b[0m",
      "\u001b[1;31mAttributeError\u001b[0m                            Traceback (most recent call last)",
      "\u001b[1;32m<ipython-input-204-a5ae486aaa4d>\u001b[0m in \u001b[0;36m<module>\u001b[1;34m\u001b[0m\n\u001b[1;32m----> 1\u001b[1;33m \u001b[0mtestDF\u001b[0m\u001b[1;33m.\u001b[0m\u001b[0mWCV\u001b[0m\u001b[1;33m.\u001b[0m\u001b[0miloc\u001b[0m\u001b[1;33m[\u001b[0m\u001b[1;36m0\u001b[0m\u001b[1;33m]\u001b[0m\u001b[1;33m.\u001b[0m\u001b[0mget_feature_names\u001b[0m\u001b[1;33m(\u001b[0m\u001b[1;33m)\u001b[0m\u001b[1;33m\u001b[0m\u001b[1;33m\u001b[0m\u001b[0m\n\u001b[0m",
      "\u001b[1;31mAttributeError\u001b[0m: 'numpy.ndarray' object has no attribute 'get_feature_names'"
     ]
    }
   ],
   "source": [
    "testDF.WCV.iloc[0].get_feature_names()"
   ]
  },
  {
   "cell_type": "code",
   "execution_count": 205,
   "metadata": {},
   "outputs": [
    {
     "data": {
      "text/plain": [
       "CountVectorizer()"
      ]
     },
     "execution_count": 205,
     "metadata": {},
     "output_type": "execute_result"
    }
   ],
   "source": [
    "count"
   ]
  },
  {
   "cell_type": "code",
   "execution_count": 206,
   "metadata": {},
   "outputs": [
    {
     "data": {
      "text/plain": [
       "['2020',\n",
       " 'beat',\n",
       " 'centrist',\n",
       " 'coron',\n",
       " 'could',\n",
       " 'decent',\n",
       " 'democrat',\n",
       " 'distinct',\n",
       " 'effort',\n",
       " 'ever',\n",
       " 'hard',\n",
       " 'make',\n",
       " 'netunfavor',\n",
       " 'polici',\n",
       " 'presid',\n",
       " 'privat',\n",
       " 'public',\n",
       " 'refrain',\n",
       " 'selfproclaim',\n",
       " 'starter',\n",
       " 'toward',\n",
       " 'unfavor',\n",
       " 'who',\n",
       " 'would']"
      ]
     },
     "execution_count": 206,
     "metadata": {},
     "output_type": "execute_result"
    }
   ],
   "source": [
    "count.get_feature_names()"
   ]
  },
  {
   "cell_type": "code",
   "execution_count": 208,
   "metadata": {},
   "outputs": [
    {
     "data": {
      "text/plain": [
       "<12x10 sparse matrix of type '<class 'numpy.int64'>'\n",
       "\twith 12 stored elements in Compressed Sparse Row format>"
      ]
     },
     "execution_count": 208,
     "metadata": {},
     "output_type": "execute_result"
    }
   ],
   "source": [
    "count.fit_transform(testDF.txt.iloc[0])"
   ]
  },
  {
   "cell_type": "code",
   "execution_count": 210,
   "metadata": {},
   "outputs": [
    {
     "data": {
      "text/plain": [
       "['blackonblack',\n",
       " 'call',\n",
       " 'commun',\n",
       " 'complet',\n",
       " 'control',\n",
       " 'homicid',\n",
       " 'lol',\n",
       " 'problem',\n",
       " 'specif',\n",
       " 'violenc']"
      ]
     },
     "execution_count": 210,
     "metadata": {},
     "output_type": "execute_result"
    }
   ],
   "source": [
    "count.get_feature_names()"
   ]
  },
  {
   "cell_type": "code",
   "execution_count": null,
   "metadata": {},
   "outputs": [],
   "source": []
  }
 ],
 "metadata": {
  "kernelspec": {
   "display_name": "Python 3",
   "language": "python",
   "name": "python3"
  },
  "language_info": {
   "codemirror_mode": {
    "name": "ipython",
    "version": 3
   },
   "file_extension": ".py",
   "mimetype": "text/x-python",
   "name": "python",
   "nbconvert_exporter": "python",
   "pygments_lexer": "ipython3",
   "version": "3.8.5"
  }
 },
 "nbformat": 4,
 "nbformat_minor": 4
}
