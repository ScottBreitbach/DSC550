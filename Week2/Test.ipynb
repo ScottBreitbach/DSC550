{
 "cells": [
  {
   "cell_type": "code",
   "execution_count": null,
   "metadata": {},
   "outputs": [],
   "source": []
  },
  {
   "cell_type": "code",
   "execution_count": 1,
   "metadata": {},
   "outputs": [],
   "source": [
    "import pandas as pd"
   ]
  },
  {
   "cell_type": "code",
   "execution_count": 126,
   "metadata": {},
   "outputs": [],
   "source": [
    "commentsDF = pd.read_json(\"controversial-comments\\controversial-comments.jsonl\", lines=True)"
   ]
  },
  {
   "cell_type": "code",
   "execution_count": 9,
   "metadata": {},
   "outputs": [],
   "source": [
    "# testDF = pd.DataFrame()"
   ]
  },
  {
   "cell_type": "code",
   "execution_count": 10,
   "metadata": {},
   "outputs": [],
   "source": [
    "# testDF['txt'] = commentsDF['txt'].str.lower()"
   ]
  },
  {
   "cell_type": "code",
   "execution_count": 11,
   "metadata": {},
   "outputs": [],
   "source": [
    "# testDF.head()"
   ]
  },
  {
   "cell_type": "code",
   "execution_count": 127,
   "metadata": {},
   "outputs": [],
   "source": [
    "commentsDF = commentsDF.sample(100)"
   ]
  },
  {
   "cell_type": "code",
   "execution_count": 128,
   "metadata": {},
   "outputs": [],
   "source": [
    "saveDF = commentsDF.copy()"
   ]
  },
  {
   "cell_type": "markdown",
   "metadata": {},
   "source": [
    "### Make lowercase"
   ]
  },
  {
   "cell_type": "code",
   "execution_count": 129,
   "metadata": {},
   "outputs": [],
   "source": [
    "commentsDF.txt = commentsDF['txt'].str.lower()"
   ]
  },
  {
   "cell_type": "code",
   "execution_count": 130,
   "metadata": {},
   "outputs": [
    {
     "data": {
      "text/html": [
       "<div>\n",
       "<style scoped>\n",
       "    .dataframe tbody tr th:only-of-type {\n",
       "        vertical-align: middle;\n",
       "    }\n",
       "\n",
       "    .dataframe tbody tr th {\n",
       "        vertical-align: top;\n",
       "    }\n",
       "\n",
       "    .dataframe thead th {\n",
       "        text-align: right;\n",
       "    }\n",
       "</style>\n",
       "<table border=\"1\" class=\"dataframe\">\n",
       "  <thead>\n",
       "    <tr style=\"text-align: right;\">\n",
       "      <th></th>\n",
       "      <th>con</th>\n",
       "      <th>txt</th>\n",
       "    </tr>\n",
       "  </thead>\n",
       "  <tbody>\n",
       "    <tr>\n",
       "      <th>90730</th>\n",
       "      <td>0</td>\n",
       "      <td>because specifically black-on-black homicide i...</td>\n",
       "    </tr>\n",
       "    <tr>\n",
       "      <th>616522</th>\n",
       "      <td>0</td>\n",
       "      <td>when i watched the second debate, all i heard ...</td>\n",
       "    </tr>\n",
       "    <tr>\n",
       "      <th>790246</th>\n",
       "      <td>0</td>\n",
       "      <td>op, trump is a russian tool</td>\n",
       "    </tr>\n",
       "    <tr>\n",
       "      <th>21463</th>\n",
       "      <td>0</td>\n",
       "      <td>don't quit your day job. comedy just isn't for...</td>\n",
       "    </tr>\n",
       "    <tr>\n",
       "      <th>291574</th>\n",
       "      <td>0</td>\n",
       "      <td>&amp;gt;privco, which provides financial and busin...</td>\n",
       "    </tr>\n",
       "  </tbody>\n",
       "</table>\n",
       "</div>"
      ],
      "text/plain": [
       "        con                                                txt\n",
       "90730     0  because specifically black-on-black homicide i...\n",
       "616522    0  when i watched the second debate, all i heard ...\n",
       "790246    0                        op, trump is a russian tool\n",
       "21463     0  don't quit your day job. comedy just isn't for...\n",
       "291574    0  &gt;privco, which provides financial and busin..."
      ]
     },
     "execution_count": 130,
     "metadata": {},
     "output_type": "execute_result"
    }
   ],
   "source": [
    "commentsDF.head()"
   ]
  },
  {
   "cell_type": "code",
   "execution_count": 16,
   "metadata": {},
   "outputs": [
    {
     "data": {
      "text/plain": [
       "array([0, 1], dtype=int64)"
      ]
     },
     "execution_count": 16,
     "metadata": {},
     "output_type": "execute_result"
    }
   ],
   "source": [
    "commentsDF.con.unique()"
   ]
  },
  {
   "cell_type": "markdown",
   "metadata": {},
   "source": [
    "### Remove Punctuation"
   ]
  },
  {
   "cell_type": "code",
   "execution_count": 18,
   "metadata": {},
   "outputs": [],
   "source": [
    "import unicodedata\n",
    "import sys"
   ]
  },
  {
   "cell_type": "code",
   "execution_count": 106,
   "metadata": {},
   "outputs": [],
   "source": [
    "punctuation = dict.fromkeys(i for i in range(sys.maxunicode) \n",
    "                            if unicodedata.category(chr(i)).startswith('P'))"
   ]
  },
  {
   "cell_type": "code",
   "execution_count": 107,
   "metadata": {},
   "outputs": [],
   "source": [
    "testDF = commentsDF.copy()"
   ]
  },
  {
   "cell_type": "code",
   "execution_count": 25,
   "metadata": {},
   "outputs": [],
   "source": [
    "test = [string.translate(punctuation) for string in testDF.txt]"
   ]
  },
  {
   "cell_type": "code",
   "execution_count": 26,
   "metadata": {},
   "outputs": [
    {
     "data": {
      "text/plain": [
       "list"
      ]
     },
     "execution_count": 26,
     "metadata": {},
     "output_type": "execute_result"
    }
   ],
   "source": [
    "type(test)"
   ]
  },
  {
   "cell_type": "code",
   "execution_count": 27,
   "metadata": {},
   "outputs": [
    {
     "data": {
      "text/plain": [
       "950000"
      ]
     },
     "execution_count": 27,
     "metadata": {},
     "output_type": "execute_result"
    }
   ],
   "source": [
    "len(test)"
   ]
  },
  {
   "cell_type": "code",
   "execution_count": 28,
   "metadata": {},
   "outputs": [
    {
     "data": {
      "text/plain": [
       "950000"
      ]
     },
     "execution_count": 28,
     "metadata": {},
     "output_type": "execute_result"
    }
   ],
   "source": [
    "len(testDF)"
   ]
  },
  {
   "cell_type": "code",
   "execution_count": 108,
   "metadata": {},
   "outputs": [],
   "source": [
    "testDF.txt = [string.translate(punctuation) for string in testDF.txt]"
   ]
  },
  {
   "cell_type": "code",
   "execution_count": 109,
   "metadata": {},
   "outputs": [
    {
     "data": {
      "text/html": [
       "<div>\n",
       "<style scoped>\n",
       "    .dataframe tbody tr th:only-of-type {\n",
       "        vertical-align: middle;\n",
       "    }\n",
       "\n",
       "    .dataframe tbody tr th {\n",
       "        vertical-align: top;\n",
       "    }\n",
       "\n",
       "    .dataframe thead th {\n",
       "        text-align: right;\n",
       "    }\n",
       "</style>\n",
       "<table border=\"1\" class=\"dataframe\">\n",
       "  <thead>\n",
       "    <tr style=\"text-align: right;\">\n",
       "      <th></th>\n",
       "      <th>con</th>\n",
       "      <th>txt</th>\n",
       "    </tr>\n",
       "  </thead>\n",
       "  <tbody>\n",
       "    <tr>\n",
       "      <th>813846</th>\n",
       "      <td>0</td>\n",
       "      <td>what an absolute fucking moron unbelievable</td>\n",
       "    </tr>\n",
       "    <tr>\n",
       "      <th>923674</th>\n",
       "      <td>0</td>\n",
       "      <td>you made me laugh on a very bleak news day tha...</td>\n",
       "    </tr>\n",
       "    <tr>\n",
       "      <th>76991</th>\n",
       "      <td>0</td>\n",
       "      <td>not every word has to he capitalised in a title</td>\n",
       "    </tr>\n",
       "    <tr>\n",
       "      <th>174968</th>\n",
       "      <td>0</td>\n",
       "      <td>thats even worse</td>\n",
       "    </tr>\n",
       "    <tr>\n",
       "      <th>442606</th>\n",
       "      <td>0</td>\n",
       "      <td>listen keep that realism to yourself no one wa...</td>\n",
       "    </tr>\n",
       "  </tbody>\n",
       "</table>\n",
       "</div>"
      ],
      "text/plain": [
       "        con                                                txt\n",
       "813846    0        what an absolute fucking moron unbelievable\n",
       "923674    0  you made me laugh on a very bleak news day tha...\n",
       "76991     0    not every word has to he capitalised in a title\n",
       "174968    0                                   thats even worse\n",
       "442606    0  listen keep that realism to yourself no one wa..."
      ]
     },
     "execution_count": 109,
     "metadata": {},
     "output_type": "execute_result"
    }
   ],
   "source": [
    "testDF.head()"
   ]
  },
  {
   "cell_type": "code",
   "execution_count": 131,
   "metadata": {},
   "outputs": [],
   "source": [
    "commentsDF.txt = [string.translate(punctuation) for string in commentsDF.txt]"
   ]
  },
  {
   "cell_type": "code",
   "execution_count": 110,
   "metadata": {},
   "outputs": [],
   "source": [
    "commentsDF = testDF.copy()"
   ]
  },
  {
   "cell_type": "markdown",
   "metadata": {},
   "source": [
    "### Remove Stop Words"
   ]
  },
  {
   "cell_type": "code",
   "execution_count": 32,
   "metadata": {},
   "outputs": [],
   "source": [
    "from nltk.corpus import stopwords"
   ]
  },
  {
   "cell_type": "code",
   "execution_count": 33,
   "metadata": {},
   "outputs": [],
   "source": [
    "# import nltk"
   ]
  },
  {
   "cell_type": "code",
   "execution_count": 35,
   "metadata": {},
   "outputs": [],
   "source": [
    "# nltk.download('stopwords')"
   ]
  },
  {
   "cell_type": "code",
   "execution_count": 36,
   "metadata": {},
   "outputs": [],
   "source": [
    "stop_words = stopwords.words('english')"
   ]
  },
  {
   "cell_type": "markdown",
   "metadata": {},
   "source": [
    "#### Remove stop words"
   ]
  },
  {
   "cell_type": "code",
   "execution_count": 43,
   "metadata": {},
   "outputs": [
    {
     "data": {
      "text/plain": [
       "['going', 'go', 'store', 'park']"
      ]
     },
     "execution_count": 43,
     "metadata": {},
     "output_type": "execute_result"
    }
   ],
   "source": [
    "[word for word in tokenized_words if word not in stop_words]"
   ]
  },
  {
   "cell_type": "code",
   "execution_count": 38,
   "metadata": {},
   "outputs": [
    {
     "data": {
      "text/plain": [
       "'well its great that he did something about those beliefs while he was in office i doubt trump would fight the un for it so im really really happy obama did something while he couldoh wait'"
      ]
     },
     "execution_count": 38,
     "metadata": {},
     "output_type": "execute_result"
    }
   ],
   "source": [
    "testDF.txt.iloc[0]"
   ]
  },
  {
   "cell_type": "code",
   "execution_count": 40,
   "metadata": {},
   "outputs": [
    {
     "data": {
      "text/plain": [
       "str"
      ]
     },
     "execution_count": 40,
     "metadata": {},
     "output_type": "execute_result"
    }
   ],
   "source": [
    "type(testDF.txt.iloc[0])"
   ]
  },
  {
   "cell_type": "code",
   "execution_count": 42,
   "metadata": {},
   "outputs": [],
   "source": [
    "from nltk.tokenize import word_tokenize"
   ]
  },
  {
   "cell_type": "code",
   "execution_count": 43,
   "metadata": {},
   "outputs": [],
   "source": [
    "string = testDF.txt.iloc[0]"
   ]
  },
  {
   "cell_type": "code",
   "execution_count": 47,
   "metadata": {},
   "outputs": [],
   "source": [
    "tokenized_words = word_tokenize(string)"
   ]
  },
  {
   "cell_type": "code",
   "execution_count": 48,
   "metadata": {},
   "outputs": [
    {
     "data": {
      "text/plain": [
       "36"
      ]
     },
     "execution_count": 48,
     "metadata": {},
     "output_type": "execute_result"
    }
   ],
   "source": [
    "len(tokenized_words)"
   ]
  },
  {
   "cell_type": "code",
   "execution_count": 51,
   "metadata": {},
   "outputs": [],
   "source": [
    "noStops = [word for word in tokenized_words if word not in stop_words]"
   ]
  },
  {
   "cell_type": "code",
   "execution_count": 59,
   "metadata": {},
   "outputs": [],
   "source": [
    "# noStops"
   ]
  },
  {
   "cell_type": "code",
   "execution_count": 53,
   "metadata": {},
   "outputs": [
    {
     "data": {
      "text/plain": [
       "18"
      ]
     },
     "execution_count": 53,
     "metadata": {},
     "output_type": "execute_result"
    }
   ],
   "source": [
    "len(noStops)"
   ]
  },
  {
   "cell_type": "code",
   "execution_count": 57,
   "metadata": {},
   "outputs": [],
   "source": [
    "def removeStopWords(string):\n",
    "    tokenized_words = word_tokenize(string)\n",
    "    return [word for word in tokenized_words if word not in stop_words]"
   ]
  },
  {
   "cell_type": "code",
   "execution_count": 55,
   "metadata": {},
   "outputs": [
    {
     "data": {
      "text/plain": [
       "'well its great that he did something about those beliefs while he was in office i doubt trump would fight the un for it so im really really happy obama did something while he couldoh wait'"
      ]
     },
     "execution_count": 55,
     "metadata": {},
     "output_type": "execute_result"
    }
   ],
   "source": [
    "string"
   ]
  },
  {
   "cell_type": "code",
   "execution_count": 58,
   "metadata": {},
   "outputs": [
    {
     "data": {
      "text/plain": [
       "['well',\n",
       " 'great',\n",
       " 'something',\n",
       " 'beliefs',\n",
       " 'office',\n",
       " 'doubt',\n",
       " 'trump',\n",
       " 'would',\n",
       " 'fight',\n",
       " 'un',\n",
       " 'im',\n",
       " 'really',\n",
       " 'really',\n",
       " 'happy',\n",
       " 'obama',\n",
       " 'something',\n",
       " 'couldoh',\n",
       " 'wait']"
      ]
     },
     "execution_count": 58,
     "metadata": {},
     "output_type": "execute_result"
    }
   ],
   "source": [
    "removeStopWords(string)"
   ]
  },
  {
   "cell_type": "code",
   "execution_count": 60,
   "metadata": {},
   "outputs": [
    {
     "data": {
      "text/html": [
       "<div>\n",
       "<style scoped>\n",
       "    .dataframe tbody tr th:only-of-type {\n",
       "        vertical-align: middle;\n",
       "    }\n",
       "\n",
       "    .dataframe tbody tr th {\n",
       "        vertical-align: top;\n",
       "    }\n",
       "\n",
       "    .dataframe thead th {\n",
       "        text-align: right;\n",
       "    }\n",
       "</style>\n",
       "<table border=\"1\" class=\"dataframe\">\n",
       "  <thead>\n",
       "    <tr style=\"text-align: right;\">\n",
       "      <th></th>\n",
       "      <th>con</th>\n",
       "      <th>txt</th>\n",
       "    </tr>\n",
       "  </thead>\n",
       "  <tbody>\n",
       "    <tr>\n",
       "      <th>0</th>\n",
       "      <td>0</td>\n",
       "      <td>well its great that he did something about tho...</td>\n",
       "    </tr>\n",
       "    <tr>\n",
       "      <th>1</th>\n",
       "      <td>0</td>\n",
       "      <td>you are right mr president</td>\n",
       "    </tr>\n",
       "    <tr>\n",
       "      <th>2</th>\n",
       "      <td>0</td>\n",
       "      <td>you have given no input apart from saying i am...</td>\n",
       "    </tr>\n",
       "    <tr>\n",
       "      <th>3</th>\n",
       "      <td>0</td>\n",
       "      <td>i get the frustration but the reason they want...</td>\n",
       "    </tr>\n",
       "    <tr>\n",
       "      <th>4</th>\n",
       "      <td>0</td>\n",
       "      <td>i am far from an expert on tpp and i would ten...</td>\n",
       "    </tr>\n",
       "  </tbody>\n",
       "</table>\n",
       "</div>"
      ],
      "text/plain": [
       "   con                                                txt\n",
       "0    0  well its great that he did something about tho...\n",
       "1    0                         you are right mr president\n",
       "2    0  you have given no input apart from saying i am...\n",
       "3    0  i get the frustration but the reason they want...\n",
       "4    0  i am far from an expert on tpp and i would ten..."
      ]
     },
     "execution_count": 60,
     "metadata": {},
     "output_type": "execute_result"
    }
   ],
   "source": [
    "testDF.head()"
   ]
  },
  {
   "cell_type": "code",
   "execution_count": 111,
   "metadata": {},
   "outputs": [
    {
     "data": {
      "text/plain": [
       "813846             [absolute, fucking, moron, unbelievable]\n",
       "923674    [made, laugh, bleak, news, day, thank, kind, s...\n",
       "76991                     [every, word, capitalised, title]\n",
       "174968                                 [thats, even, worse]\n",
       "442606      [listen, keep, realism, one, wants, hear, shit]\n",
       "                                ...                        \n",
       "864267    [would, better, dismantle, deep, state, everyo...\n",
       "24377     [oh, yeah, dont, mean, say, hes, completely, p...\n",
       "414327    [im, bergers, district, unopposed, democrats, ...\n",
       "888733    [youve, showed, dont, understand, google, even...\n",
       "886803                         [neither, shut, fuck, guess]\n",
       "Name: txt, Length: 100, dtype: object"
      ]
     },
     "execution_count": 111,
     "metadata": {},
     "output_type": "execute_result"
    }
   ],
   "source": [
    "testDF.txt.apply(lambda x: removeStopWords(x))"
   ]
  },
  {
   "cell_type": "code",
   "execution_count": 112,
   "metadata": {},
   "outputs": [
    {
     "data": {
      "text/html": [
       "<div>\n",
       "<style scoped>\n",
       "    .dataframe tbody tr th:only-of-type {\n",
       "        vertical-align: middle;\n",
       "    }\n",
       "\n",
       "    .dataframe tbody tr th {\n",
       "        vertical-align: top;\n",
       "    }\n",
       "\n",
       "    .dataframe thead th {\n",
       "        text-align: right;\n",
       "    }\n",
       "</style>\n",
       "<table border=\"1\" class=\"dataframe\">\n",
       "  <thead>\n",
       "    <tr style=\"text-align: right;\">\n",
       "      <th></th>\n",
       "      <th>con</th>\n",
       "      <th>txt</th>\n",
       "    </tr>\n",
       "  </thead>\n",
       "  <tbody>\n",
       "    <tr>\n",
       "      <th>813846</th>\n",
       "      <td>0</td>\n",
       "      <td>what an absolute fucking moron unbelievable</td>\n",
       "    </tr>\n",
       "    <tr>\n",
       "      <th>923674</th>\n",
       "      <td>0</td>\n",
       "      <td>you made me laugh on a very bleak news day tha...</td>\n",
       "    </tr>\n",
       "    <tr>\n",
       "      <th>76991</th>\n",
       "      <td>0</td>\n",
       "      <td>not every word has to he capitalised in a title</td>\n",
       "    </tr>\n",
       "    <tr>\n",
       "      <th>174968</th>\n",
       "      <td>0</td>\n",
       "      <td>thats even worse</td>\n",
       "    </tr>\n",
       "    <tr>\n",
       "      <th>442606</th>\n",
       "      <td>0</td>\n",
       "      <td>listen keep that realism to yourself no one wa...</td>\n",
       "    </tr>\n",
       "  </tbody>\n",
       "</table>\n",
       "</div>"
      ],
      "text/plain": [
       "        con                                                txt\n",
       "813846    0        what an absolute fucking moron unbelievable\n",
       "923674    0  you made me laugh on a very bleak news day tha...\n",
       "76991     0    not every word has to he capitalised in a title\n",
       "174968    0                                   thats even worse\n",
       "442606    0  listen keep that realism to yourself no one wa..."
      ]
     },
     "execution_count": 112,
     "metadata": {},
     "output_type": "execute_result"
    }
   ],
   "source": [
    "testDF.head()"
   ]
  },
  {
   "cell_type": "code",
   "execution_count": 63,
   "metadata": {},
   "outputs": [
    {
     "data": {
      "text/plain": [
       "187"
      ]
     },
     "execution_count": 63,
     "metadata": {},
     "output_type": "execute_result"
    }
   ],
   "source": [
    "len(testDF.txt.iloc[0])"
   ]
  },
  {
   "cell_type": "code",
   "execution_count": 64,
   "metadata": {},
   "outputs": [
    {
     "data": {
      "text/plain": [
       "187"
      ]
     },
     "execution_count": 64,
     "metadata": {},
     "output_type": "execute_result"
    }
   ],
   "source": [
    "len(commentsDF.txt.iloc[0])"
   ]
  },
  {
   "cell_type": "code",
   "execution_count": 66,
   "metadata": {},
   "outputs": [
    {
     "data": {
      "text/plain": [
       "950000"
      ]
     },
     "execution_count": 66,
     "metadata": {},
     "output_type": "execute_result"
    }
   ],
   "source": [
    "len(commentsDF)"
   ]
  },
  {
   "cell_type": "code",
   "execution_count": 95,
   "metadata": {},
   "outputs": [],
   "source": [
    "commentsDF = commentsDF.sample(10000)"
   ]
  },
  {
   "cell_type": "code",
   "execution_count": 70,
   "metadata": {},
   "outputs": [
    {
     "data": {
      "text/plain": [
       "10000"
      ]
     },
     "execution_count": 70,
     "metadata": {},
     "output_type": "execute_result"
    }
   ],
   "source": [
    "len(commentsDF)"
   ]
  },
  {
   "cell_type": "code",
   "execution_count": 132,
   "metadata": {},
   "outputs": [],
   "source": [
    "commentsDF.txt = commentsDF.txt.apply(lambda x: removeStopWords(x))"
   ]
  },
  {
   "cell_type": "code",
   "execution_count": 133,
   "metadata": {},
   "outputs": [],
   "source": [
    "saveDF = commentsDF.copy()"
   ]
  },
  {
   "cell_type": "code",
   "execution_count": 134,
   "metadata": {},
   "outputs": [
    {
     "data": {
      "text/html": [
       "<div>\n",
       "<style scoped>\n",
       "    .dataframe tbody tr th:only-of-type {\n",
       "        vertical-align: middle;\n",
       "    }\n",
       "\n",
       "    .dataframe tbody tr th {\n",
       "        vertical-align: top;\n",
       "    }\n",
       "\n",
       "    .dataframe thead th {\n",
       "        text-align: right;\n",
       "    }\n",
       "</style>\n",
       "<table border=\"1\" class=\"dataframe\">\n",
       "  <thead>\n",
       "    <tr style=\"text-align: right;\">\n",
       "      <th></th>\n",
       "      <th>con</th>\n",
       "      <th>txt</th>\n",
       "    </tr>\n",
       "  </thead>\n",
       "  <tbody>\n",
       "    <tr>\n",
       "      <th>90730</th>\n",
       "      <td>0</td>\n",
       "      <td>[specifically, blackonblack, homicide, complet...</td>\n",
       "    </tr>\n",
       "    <tr>\n",
       "      <th>616522</th>\n",
       "      <td>0</td>\n",
       "      <td>[watched, second, debate, heard, baldwin, trump]</td>\n",
       "    </tr>\n",
       "    <tr>\n",
       "      <th>790246</th>\n",
       "      <td>0</td>\n",
       "      <td>[op, trump, russian, tool]</td>\n",
       "    </tr>\n",
       "    <tr>\n",
       "      <th>21463</th>\n",
       "      <td>0</td>\n",
       "      <td>[dont, quit, day, job, comedy, isnt]</td>\n",
       "    </tr>\n",
       "    <tr>\n",
       "      <th>291574</th>\n",
       "      <td>0</td>\n",
       "      <td>[gtprivco, provides, financial, business, data...</td>\n",
       "    </tr>\n",
       "  </tbody>\n",
       "</table>\n",
       "</div>"
      ],
      "text/plain": [
       "        con                                                txt\n",
       "90730     0  [specifically, blackonblack, homicide, complet...\n",
       "616522    0   [watched, second, debate, heard, baldwin, trump]\n",
       "790246    0                         [op, trump, russian, tool]\n",
       "21463     0               [dont, quit, day, job, comedy, isnt]\n",
       "291574    0  [gtprivco, provides, financial, business, data..."
      ]
     },
     "execution_count": 134,
     "metadata": {},
     "output_type": "execute_result"
    }
   ],
   "source": [
    "commentsDF.head()"
   ]
  },
  {
   "cell_type": "code",
   "execution_count": 73,
   "metadata": {},
   "outputs": [
    {
     "data": {
      "text/plain": [
       "43"
      ]
     },
     "execution_count": 73,
     "metadata": {},
     "output_type": "execute_result"
    }
   ],
   "source": [
    "len(commentsDF.txt.iloc[0])"
   ]
  },
  {
   "cell_type": "markdown",
   "metadata": {},
   "source": [
    "### Apply PorterStemmer"
   ]
  },
  {
   "cell_type": "code",
   "execution_count": 74,
   "metadata": {},
   "outputs": [],
   "source": [
    "from nltk.stem.porter import PorterStemmer"
   ]
  },
  {
   "cell_type": "code",
   "execution_count": 75,
   "metadata": {},
   "outputs": [],
   "source": [
    "porter = PorterStemmer()"
   ]
  },
  {
   "cell_type": "code",
   "execution_count": 51,
   "metadata": {},
   "outputs": [
    {
     "data": {
      "text/plain": [
       "['i', 'am', 'humbl', 'by', 'thi', 'tradit', 'meet']"
      ]
     },
     "execution_count": 51,
     "metadata": {},
     "output_type": "execute_result"
    }
   ],
   "source": [
    "[porter.stem(word) for word in tokenized_words]"
   ]
  },
  {
   "cell_type": "code",
   "execution_count": 79,
   "metadata": {},
   "outputs": [
    {
     "data": {
      "text/plain": [
       "['good', 'chanc', 'two', 'parti', 'go']"
      ]
     },
     "execution_count": 79,
     "metadata": {},
     "output_type": "execute_result"
    }
   ],
   "source": [
    "[porter.stem(word) for word in commentsDF.txt.iloc[0]][:5]"
   ]
  },
  {
   "cell_type": "code",
   "execution_count": 135,
   "metadata": {},
   "outputs": [
    {
     "data": {
      "text/html": [
       "<div>\n",
       "<style scoped>\n",
       "    .dataframe tbody tr th:only-of-type {\n",
       "        vertical-align: middle;\n",
       "    }\n",
       "\n",
       "    .dataframe tbody tr th {\n",
       "        vertical-align: top;\n",
       "    }\n",
       "\n",
       "    .dataframe thead th {\n",
       "        text-align: right;\n",
       "    }\n",
       "</style>\n",
       "<table border=\"1\" class=\"dataframe\">\n",
       "  <thead>\n",
       "    <tr style=\"text-align: right;\">\n",
       "      <th></th>\n",
       "      <th>con</th>\n",
       "      <th>txt</th>\n",
       "    </tr>\n",
       "  </thead>\n",
       "  <tbody>\n",
       "    <tr>\n",
       "      <th>90730</th>\n",
       "      <td>0</td>\n",
       "      <td>[specifically, blackonblack, homicide, complet...</td>\n",
       "    </tr>\n",
       "    <tr>\n",
       "      <th>616522</th>\n",
       "      <td>0</td>\n",
       "      <td>[watched, second, debate, heard, baldwin, trump]</td>\n",
       "    </tr>\n",
       "    <tr>\n",
       "      <th>790246</th>\n",
       "      <td>0</td>\n",
       "      <td>[op, trump, russian, tool]</td>\n",
       "    </tr>\n",
       "    <tr>\n",
       "      <th>21463</th>\n",
       "      <td>0</td>\n",
       "      <td>[dont, quit, day, job, comedy, isnt]</td>\n",
       "    </tr>\n",
       "    <tr>\n",
       "      <th>291574</th>\n",
       "      <td>0</td>\n",
       "      <td>[gtprivco, provides, financial, business, data...</td>\n",
       "    </tr>\n",
       "  </tbody>\n",
       "</table>\n",
       "</div>"
      ],
      "text/plain": [
       "        con                                                txt\n",
       "90730     0  [specifically, blackonblack, homicide, complet...\n",
       "616522    0   [watched, second, debate, heard, baldwin, trump]\n",
       "790246    0                         [op, trump, russian, tool]\n",
       "21463     0               [dont, quit, day, job, comedy, isnt]\n",
       "291574    0  [gtprivco, provides, financial, business, data..."
      ]
     },
     "execution_count": 135,
     "metadata": {},
     "output_type": "execute_result"
    }
   ],
   "source": [
    "commentsDF.head()"
   ]
  },
  {
   "cell_type": "code",
   "execution_count": 136,
   "metadata": {},
   "outputs": [],
   "source": [
    "testDF = commentsDF[:10].copy()"
   ]
  },
  {
   "cell_type": "code",
   "execution_count": 137,
   "metadata": {},
   "outputs": [
    {
     "data": {
      "text/html": [
       "<div>\n",
       "<style scoped>\n",
       "    .dataframe tbody tr th:only-of-type {\n",
       "        vertical-align: middle;\n",
       "    }\n",
       "\n",
       "    .dataframe tbody tr th {\n",
       "        vertical-align: top;\n",
       "    }\n",
       "\n",
       "    .dataframe thead th {\n",
       "        text-align: right;\n",
       "    }\n",
       "</style>\n",
       "<table border=\"1\" class=\"dataframe\">\n",
       "  <thead>\n",
       "    <tr style=\"text-align: right;\">\n",
       "      <th></th>\n",
       "      <th>con</th>\n",
       "      <th>txt</th>\n",
       "    </tr>\n",
       "  </thead>\n",
       "  <tbody>\n",
       "    <tr>\n",
       "      <th>90730</th>\n",
       "      <td>0</td>\n",
       "      <td>[specifically, blackonblack, homicide, complet...</td>\n",
       "    </tr>\n",
       "    <tr>\n",
       "      <th>616522</th>\n",
       "      <td>0</td>\n",
       "      <td>[watched, second, debate, heard, baldwin, trump]</td>\n",
       "    </tr>\n",
       "    <tr>\n",
       "      <th>790246</th>\n",
       "      <td>0</td>\n",
       "      <td>[op, trump, russian, tool]</td>\n",
       "    </tr>\n",
       "    <tr>\n",
       "      <th>21463</th>\n",
       "      <td>0</td>\n",
       "      <td>[dont, quit, day, job, comedy, isnt]</td>\n",
       "    </tr>\n",
       "    <tr>\n",
       "      <th>291574</th>\n",
       "      <td>0</td>\n",
       "      <td>[gtprivco, provides, financial, business, data...</td>\n",
       "    </tr>\n",
       "  </tbody>\n",
       "</table>\n",
       "</div>"
      ],
      "text/plain": [
       "        con                                                txt\n",
       "90730     0  [specifically, blackonblack, homicide, complet...\n",
       "616522    0   [watched, second, debate, heard, baldwin, trump]\n",
       "790246    0                         [op, trump, russian, tool]\n",
       "21463     0               [dont, quit, day, job, comedy, isnt]\n",
       "291574    0  [gtprivco, provides, financial, business, data..."
      ]
     },
     "execution_count": 137,
     "metadata": {},
     "output_type": "execute_result"
    }
   ],
   "source": [
    "testDF.head()"
   ]
  },
  {
   "cell_type": "code",
   "execution_count": 138,
   "metadata": {},
   "outputs": [
    {
     "data": {
      "text/plain": [
       "90730     [specif, blackonblack, homicid, complet, contr...\n",
       "616522        [watch, second, debat, heard, baldwin, trump]\n",
       "790246                           [op, trump, russian, tool]\n",
       "21463                  [dont, quit, day, job, comedi, isnt]\n",
       "291574    [gtprivco, provid, financi, busi, data, major,...\n",
       "653580                              [right, wikileak, back]\n",
       "695602    [explain, think, harri, potter, satan, recruit...\n",
       "11663                                               [remov]\n",
       "58065     [would, give, essenti, liberti, purchas, littl...\n",
       "78815                                               [delet]\n",
       "Name: txt, dtype: object"
      ]
     },
     "execution_count": 138,
     "metadata": {},
     "output_type": "execute_result"
    }
   ],
   "source": [
    "testDF.txt.apply(lambda x: [porter.stem(word) for word in x])"
   ]
  },
  {
   "cell_type": "code",
   "execution_count": 140,
   "metadata": {},
   "outputs": [],
   "source": [
    "testDF.txt = testDF.txt.apply(lambda x: [porter.stem(word) for word in x])"
   ]
  },
  {
   "cell_type": "code",
   "execution_count": 141,
   "metadata": {},
   "outputs": [
    {
     "data": {
      "text/html": [
       "<div>\n",
       "<style scoped>\n",
       "    .dataframe tbody tr th:only-of-type {\n",
       "        vertical-align: middle;\n",
       "    }\n",
       "\n",
       "    .dataframe tbody tr th {\n",
       "        vertical-align: top;\n",
       "    }\n",
       "\n",
       "    .dataframe thead th {\n",
       "        text-align: right;\n",
       "    }\n",
       "</style>\n",
       "<table border=\"1\" class=\"dataframe\">\n",
       "  <thead>\n",
       "    <tr style=\"text-align: right;\">\n",
       "      <th></th>\n",
       "      <th>con</th>\n",
       "      <th>txt</th>\n",
       "    </tr>\n",
       "  </thead>\n",
       "  <tbody>\n",
       "    <tr>\n",
       "      <th>90730</th>\n",
       "      <td>0</td>\n",
       "      <td>[specif, blackonblack, homicid, complet, contr...</td>\n",
       "    </tr>\n",
       "    <tr>\n",
       "      <th>616522</th>\n",
       "      <td>0</td>\n",
       "      <td>[watch, second, debat, heard, baldwin, trump]</td>\n",
       "    </tr>\n",
       "    <tr>\n",
       "      <th>790246</th>\n",
       "      <td>0</td>\n",
       "      <td>[op, trump, russian, tool]</td>\n",
       "    </tr>\n",
       "    <tr>\n",
       "      <th>21463</th>\n",
       "      <td>0</td>\n",
       "      <td>[dont, quit, day, job, comedi, isnt]</td>\n",
       "    </tr>\n",
       "    <tr>\n",
       "      <th>291574</th>\n",
       "      <td>0</td>\n",
       "      <td>[gtprivco, provid, financi, busi, data, major,...</td>\n",
       "    </tr>\n",
       "  </tbody>\n",
       "</table>\n",
       "</div>"
      ],
      "text/plain": [
       "        con                                                txt\n",
       "90730     0  [specif, blackonblack, homicid, complet, contr...\n",
       "616522    0      [watch, second, debat, heard, baldwin, trump]\n",
       "790246    0                         [op, trump, russian, tool]\n",
       "21463     0               [dont, quit, day, job, comedi, isnt]\n",
       "291574    0  [gtprivco, provid, financi, busi, data, major,..."
      ]
     },
     "execution_count": 141,
     "metadata": {},
     "output_type": "execute_result"
    }
   ],
   "source": [
    "testDF.head()"
   ]
  },
  {
   "cell_type": "code",
   "execution_count": null,
   "metadata": {},
   "outputs": [],
   "source": []
  }
 ],
 "metadata": {
  "kernelspec": {
   "display_name": "Python 3",
   "language": "python",
   "name": "python3"
  },
  "language_info": {
   "codemirror_mode": {
    "name": "ipython",
    "version": 3
   },
   "file_extension": ".py",
   "mimetype": "text/x-python",
   "name": "python",
   "nbconvert_exporter": "python",
   "pygments_lexer": "ipython3",
   "version": "3.8.5"
  }
 },
 "nbformat": 4,
 "nbformat_minor": 4
}
