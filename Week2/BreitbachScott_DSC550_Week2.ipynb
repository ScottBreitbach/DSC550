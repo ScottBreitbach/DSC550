{
 "cells": [
  {
   "cell_type": "markdown",
   "metadata": {},
   "source": [
    "# Scott Breitbach\n",
    "## 20-March-2021\n",
    "## DSC550, Week 2"
   ]
  },
  {
   "cell_type": "code",
   "execution_count": 1,
   "metadata": {},
   "outputs": [],
   "source": [
    "import pandas as pd\n",
    "import unicodedata\n",
    "import sys\n",
    "from nltk.corpus import stopwords\n",
    "from nltk.tokenize import word_tokenize\n",
    "from nltk.stem.porter import PorterStemmer\n",
    "from sklearn.feature_extraction.text import CountVectorizer\n",
    "from nltk import pos_tag\n",
    "from nltk import word_tokenize\n",
    "import nltk\n",
    "import numpy as np\n",
    "from sklearn.feature_extraction.text import TfidfVectorizer"
   ]
  },
  {
   "cell_type": "markdown",
   "metadata": {},
   "source": [
    "## 1) Read the *controversial-comments.jsonl* file and pre-process the text. "
   ]
  },
  {
   "cell_type": "code",
   "execution_count": 2,
   "metadata": {},
   "outputs": [
    {
     "data": {
      "text/html": [
       "<div>\n",
       "<style scoped>\n",
       "    .dataframe tbody tr th:only-of-type {\n",
       "        vertical-align: middle;\n",
       "    }\n",
       "\n",
       "    .dataframe tbody tr th {\n",
       "        vertical-align: top;\n",
       "    }\n",
       "\n",
       "    .dataframe thead th {\n",
       "        text-align: right;\n",
       "    }\n",
       "</style>\n",
       "<table border=\"1\" class=\"dataframe\">\n",
       "  <thead>\n",
       "    <tr style=\"text-align: right;\">\n",
       "      <th></th>\n",
       "      <th>con</th>\n",
       "      <th>txt</th>\n",
       "    </tr>\n",
       "  </thead>\n",
       "  <tbody>\n",
       "    <tr>\n",
       "      <th>0</th>\n",
       "      <td>0</td>\n",
       "      <td>Well it's great that he did something about th...</td>\n",
       "    </tr>\n",
       "    <tr>\n",
       "      <th>1</th>\n",
       "      <td>0</td>\n",
       "      <td>You are right Mr. President.</td>\n",
       "    </tr>\n",
       "    <tr>\n",
       "      <th>2</th>\n",
       "      <td>0</td>\n",
       "      <td>You have given no input apart from saying I am...</td>\n",
       "    </tr>\n",
       "    <tr>\n",
       "      <th>3</th>\n",
       "      <td>0</td>\n",
       "      <td>I get the frustration but the reason they want...</td>\n",
       "    </tr>\n",
       "    <tr>\n",
       "      <th>4</th>\n",
       "      <td>0</td>\n",
       "      <td>I am far from an expert on TPP and I would ten...</td>\n",
       "    </tr>\n",
       "    <tr>\n",
       "      <th>...</th>\n",
       "      <td>...</td>\n",
       "      <td>...</td>\n",
       "    </tr>\n",
       "    <tr>\n",
       "      <th>949995</th>\n",
       "      <td>0</td>\n",
       "      <td>I genuinely can't understand how anyone can su...</td>\n",
       "    </tr>\n",
       "    <tr>\n",
       "      <th>949996</th>\n",
       "      <td>0</td>\n",
       "      <td>As a reminder, this subreddit [is for civil di...</td>\n",
       "    </tr>\n",
       "    <tr>\n",
       "      <th>949997</th>\n",
       "      <td>0</td>\n",
       "      <td>K. Don't explain why or anything.</td>\n",
       "    </tr>\n",
       "    <tr>\n",
       "      <th>949998</th>\n",
       "      <td>0</td>\n",
       "      <td>[deleted]</td>\n",
       "    </tr>\n",
       "    <tr>\n",
       "      <th>949999</th>\n",
       "      <td>0</td>\n",
       "      <td>Ya, sociopaths are known for celebrating their...</td>\n",
       "    </tr>\n",
       "  </tbody>\n",
       "</table>\n",
       "<p>950000 rows × 2 columns</p>\n",
       "</div>"
      ],
      "text/plain": [
       "        con                                                txt\n",
       "0         0  Well it's great that he did something about th...\n",
       "1         0                       You are right Mr. President.\n",
       "2         0  You have given no input apart from saying I am...\n",
       "3         0  I get the frustration but the reason they want...\n",
       "4         0  I am far from an expert on TPP and I would ten...\n",
       "...     ...                                                ...\n",
       "949995    0  I genuinely can't understand how anyone can su...\n",
       "949996    0  As a reminder, this subreddit [is for civil di...\n",
       "949997    0                  K. Don't explain why or anything.\n",
       "949998    0                                          [deleted]\n",
       "949999    0  Ya, sociopaths are known for celebrating their...\n",
       "\n",
       "[950000 rows x 2 columns]"
      ]
     },
     "execution_count": 2,
     "metadata": {},
     "output_type": "execute_result"
    }
   ],
   "source": [
    "allCommentsDF = pd.read_json(\"controversial-comments\\controversial-comments.jsonl\", lines=True)\n",
    "allCommentsDF"
   ]
  },
  {
   "cell_type": "markdown",
   "metadata": {},
   "source": [
    "Grab a sample of the set to work with:"
   ]
  },
  {
   "cell_type": "code",
   "execution_count": 3,
   "metadata": {},
   "outputs": [],
   "source": [
    "commentsDF = allCommentsDF.sample(100)"
   ]
  },
  {
   "cell_type": "markdown",
   "metadata": {},
   "source": [
    "#### A) Convert all text to lowercase letters."
   ]
  },
  {
   "cell_type": "code",
   "execution_count": 4,
   "metadata": {},
   "outputs": [],
   "source": [
    "commentsDF.txt = commentsDF['txt'].str.lower()"
   ]
  },
  {
   "cell_type": "code",
   "execution_count": 5,
   "metadata": {},
   "outputs": [
    {
     "data": {
      "text/html": [
       "<div>\n",
       "<style scoped>\n",
       "    .dataframe tbody tr th:only-of-type {\n",
       "        vertical-align: middle;\n",
       "    }\n",
       "\n",
       "    .dataframe tbody tr th {\n",
       "        vertical-align: top;\n",
       "    }\n",
       "\n",
       "    .dataframe thead th {\n",
       "        text-align: right;\n",
       "    }\n",
       "</style>\n",
       "<table border=\"1\" class=\"dataframe\">\n",
       "  <thead>\n",
       "    <tr style=\"text-align: right;\">\n",
       "      <th></th>\n",
       "      <th>con</th>\n",
       "      <th>txt</th>\n",
       "    </tr>\n",
       "  </thead>\n",
       "  <tbody>\n",
       "    <tr>\n",
       "      <th>256176</th>\n",
       "      <td>0</td>\n",
       "      <td>[deleted]</td>\n",
       "    </tr>\n",
       "    <tr>\n",
       "      <th>904398</th>\n",
       "      <td>0</td>\n",
       "      <td>no. trump also apparently had a 2020 reelectio...</td>\n",
       "    </tr>\n",
       "    <tr>\n",
       "      <th>484075</th>\n",
       "      <td>0</td>\n",
       "      <td>[removed]</td>\n",
       "    </tr>\n",
       "    <tr>\n",
       "      <th>844124</th>\n",
       "      <td>0</td>\n",
       "      <td>well since i know what has been going on here ...</td>\n",
       "    </tr>\n",
       "    <tr>\n",
       "      <th>499079</th>\n",
       "      <td>0</td>\n",
       "      <td>which truth is that? obama is a kenyan infiltr...</td>\n",
       "    </tr>\n",
       "  </tbody>\n",
       "</table>\n",
       "</div>"
      ],
      "text/plain": [
       "        con                                                txt\n",
       "256176    0                                          [deleted]\n",
       "904398    0  no. trump also apparently had a 2020 reelectio...\n",
       "484075    0                                          [removed]\n",
       "844124    0  well since i know what has been going on here ...\n",
       "499079    0  which truth is that? obama is a kenyan infiltr..."
      ]
     },
     "execution_count": 5,
     "metadata": {},
     "output_type": "execute_result"
    }
   ],
   "source": [
    "commentsDF.head()"
   ]
  },
  {
   "cell_type": "markdown",
   "metadata": {},
   "source": [
    "#### B) Remove all punctuation from the text."
   ]
  },
  {
   "cell_type": "code",
   "execution_count": 6,
   "metadata": {},
   "outputs": [],
   "source": [
    "punctuation = dict.fromkeys(i for i in range(sys.maxunicode) \n",
    "                            if unicodedata.category(chr(i)).startswith('P'))"
   ]
  },
  {
   "cell_type": "code",
   "execution_count": 7,
   "metadata": {},
   "outputs": [],
   "source": [
    "commentsDF.txt = [string.translate(punctuation) for string in commentsDF.txt]"
   ]
  },
  {
   "cell_type": "code",
   "execution_count": 8,
   "metadata": {},
   "outputs": [
    {
     "data": {
      "text/html": [
       "<div>\n",
       "<style scoped>\n",
       "    .dataframe tbody tr th:only-of-type {\n",
       "        vertical-align: middle;\n",
       "    }\n",
       "\n",
       "    .dataframe tbody tr th {\n",
       "        vertical-align: top;\n",
       "    }\n",
       "\n",
       "    .dataframe thead th {\n",
       "        text-align: right;\n",
       "    }\n",
       "</style>\n",
       "<table border=\"1\" class=\"dataframe\">\n",
       "  <thead>\n",
       "    <tr style=\"text-align: right;\">\n",
       "      <th></th>\n",
       "      <th>con</th>\n",
       "      <th>txt</th>\n",
       "    </tr>\n",
       "  </thead>\n",
       "  <tbody>\n",
       "    <tr>\n",
       "      <th>256176</th>\n",
       "      <td>0</td>\n",
       "      <td>deleted</td>\n",
       "    </tr>\n",
       "    <tr>\n",
       "      <th>904398</th>\n",
       "      <td>0</td>\n",
       "      <td>no trump also apparently had a 2020 reelection...</td>\n",
       "    </tr>\n",
       "    <tr>\n",
       "      <th>484075</th>\n",
       "      <td>0</td>\n",
       "      <td>removed</td>\n",
       "    </tr>\n",
       "    <tr>\n",
       "      <th>844124</th>\n",
       "      <td>0</td>\n",
       "      <td>well since i know what has been going on here ...</td>\n",
       "    </tr>\n",
       "    <tr>\n",
       "      <th>499079</th>\n",
       "      <td>0</td>\n",
       "      <td>which truth is that obama is a kenyan infiltra...</td>\n",
       "    </tr>\n",
       "  </tbody>\n",
       "</table>\n",
       "</div>"
      ],
      "text/plain": [
       "        con                                                txt\n",
       "256176    0                                            deleted\n",
       "904398    0  no trump also apparently had a 2020 reelection...\n",
       "484075    0                                            removed\n",
       "844124    0  well since i know what has been going on here ...\n",
       "499079    0  which truth is that obama is a kenyan infiltra..."
      ]
     },
     "execution_count": 8,
     "metadata": {},
     "output_type": "execute_result"
    }
   ],
   "source": [
    "commentsDF.head()"
   ]
  },
  {
   "cell_type": "markdown",
   "metadata": {},
   "source": [
    "#### C) Remove stop words."
   ]
  },
  {
   "cell_type": "code",
   "execution_count": 9,
   "metadata": {},
   "outputs": [],
   "source": [
    "# import nltk\n",
    "# nltk.download('stopwords')"
   ]
  },
  {
   "cell_type": "code",
   "execution_count": 10,
   "metadata": {},
   "outputs": [],
   "source": [
    "stop_words = stopwords.words('english')\n",
    "\n",
    "def removeStopWords(string):\n",
    "    tokenized_words = word_tokenize(string)\n",
    "    return [word for word in tokenized_words if word not in stop_words]"
   ]
  },
  {
   "cell_type": "code",
   "execution_count": 11,
   "metadata": {},
   "outputs": [],
   "source": [
    "commentsDF.txt = commentsDF.txt.apply(lambda x: removeStopWords(x))"
   ]
  },
  {
   "cell_type": "code",
   "execution_count": 12,
   "metadata": {},
   "outputs": [
    {
     "data": {
      "text/html": [
       "<div>\n",
       "<style scoped>\n",
       "    .dataframe tbody tr th:only-of-type {\n",
       "        vertical-align: middle;\n",
       "    }\n",
       "\n",
       "    .dataframe tbody tr th {\n",
       "        vertical-align: top;\n",
       "    }\n",
       "\n",
       "    .dataframe thead th {\n",
       "        text-align: right;\n",
       "    }\n",
       "</style>\n",
       "<table border=\"1\" class=\"dataframe\">\n",
       "  <thead>\n",
       "    <tr style=\"text-align: right;\">\n",
       "      <th></th>\n",
       "      <th>con</th>\n",
       "      <th>txt</th>\n",
       "    </tr>\n",
       "  </thead>\n",
       "  <tbody>\n",
       "    <tr>\n",
       "      <th>256176</th>\n",
       "      <td>0</td>\n",
       "      <td>[deleted]</td>\n",
       "    </tr>\n",
       "    <tr>\n",
       "      <th>904398</th>\n",
       "      <td>0</td>\n",
       "      <td>[trump, also, apparently, 2020, reelection, ca...</td>\n",
       "    </tr>\n",
       "    <tr>\n",
       "      <th>484075</th>\n",
       "      <td>0</td>\n",
       "      <td>[removed]</td>\n",
       "    </tr>\n",
       "    <tr>\n",
       "      <th>844124</th>\n",
       "      <td>0</td>\n",
       "      <td>[well, since, know, going, yea, live, near, or...</td>\n",
       "    </tr>\n",
       "    <tr>\n",
       "      <th>499079</th>\n",
       "      <td>0</td>\n",
       "      <td>[truth, obama, kenyan, infiltrator, ted, cruzs...</td>\n",
       "    </tr>\n",
       "  </tbody>\n",
       "</table>\n",
       "</div>"
      ],
      "text/plain": [
       "        con                                                txt\n",
       "256176    0                                          [deleted]\n",
       "904398    0  [trump, also, apparently, 2020, reelection, ca...\n",
       "484075    0                                          [removed]\n",
       "844124    0  [well, since, know, going, yea, live, near, or...\n",
       "499079    0  [truth, obama, kenyan, infiltrator, ted, cruzs..."
      ]
     },
     "execution_count": 12,
     "metadata": {},
     "output_type": "execute_result"
    }
   ],
   "source": [
    "commentsDF.head()"
   ]
  },
  {
   "cell_type": "markdown",
   "metadata": {},
   "source": [
    "#### D) Apply NLTK's PorterStemmer."
   ]
  },
  {
   "cell_type": "code",
   "execution_count": 13,
   "metadata": {},
   "outputs": [],
   "source": [
    "porter = PorterStemmer()"
   ]
  },
  {
   "cell_type": "code",
   "execution_count": 14,
   "metadata": {},
   "outputs": [],
   "source": [
    "commentsDF.txt = commentsDF.txt.apply(lambda x: [porter.stem(word) for word in x])"
   ]
  },
  {
   "cell_type": "code",
   "execution_count": 15,
   "metadata": {},
   "outputs": [
    {
     "data": {
      "text/html": [
       "<div>\n",
       "<style scoped>\n",
       "    .dataframe tbody tr th:only-of-type {\n",
       "        vertical-align: middle;\n",
       "    }\n",
       "\n",
       "    .dataframe tbody tr th {\n",
       "        vertical-align: top;\n",
       "    }\n",
       "\n",
       "    .dataframe thead th {\n",
       "        text-align: right;\n",
       "    }\n",
       "</style>\n",
       "<table border=\"1\" class=\"dataframe\">\n",
       "  <thead>\n",
       "    <tr style=\"text-align: right;\">\n",
       "      <th></th>\n",
       "      <th>con</th>\n",
       "      <th>txt</th>\n",
       "    </tr>\n",
       "  </thead>\n",
       "  <tbody>\n",
       "    <tr>\n",
       "      <th>256176</th>\n",
       "      <td>0</td>\n",
       "      <td>[delet]</td>\n",
       "    </tr>\n",
       "    <tr>\n",
       "      <th>904398</th>\n",
       "      <td>0</td>\n",
       "      <td>[trump, also, appar, 2020, reelect, campaign, ...</td>\n",
       "    </tr>\n",
       "    <tr>\n",
       "      <th>484075</th>\n",
       "      <td>0</td>\n",
       "      <td>[remov]</td>\n",
       "    </tr>\n",
       "    <tr>\n",
       "      <th>844124</th>\n",
       "      <td>0</td>\n",
       "      <td>[well, sinc, know, go, yea, live, near, orovil...</td>\n",
       "    </tr>\n",
       "    <tr>\n",
       "      <th>499079</th>\n",
       "      <td>0</td>\n",
       "      <td>[truth, obama, kenyan, infiltr, ted, cruz, dad...</td>\n",
       "    </tr>\n",
       "  </tbody>\n",
       "</table>\n",
       "</div>"
      ],
      "text/plain": [
       "        con                                                txt\n",
       "256176    0                                            [delet]\n",
       "904398    0  [trump, also, appar, 2020, reelect, campaign, ...\n",
       "484075    0                                            [remov]\n",
       "844124    0  [well, sinc, know, go, yea, live, near, orovil...\n",
       "499079    0  [truth, obama, kenyan, infiltr, ted, cruz, dad..."
      ]
     },
     "execution_count": 15,
     "metadata": {},
     "output_type": "execute_result"
    }
   ],
   "source": [
    "commentsDF.head()"
   ]
  },
  {
   "cell_type": "markdown",
   "metadata": {},
   "source": [
    "## 2) Get text into a usable form for model-building."
   ]
  },
  {
   "cell_type": "markdown",
   "metadata": {},
   "source": [
    "#### A) Convert each text entry into a word-count vector.\n",
    "See sections 5.3 & 6.8 in the *Machine Learning with Python Cookbook*"
   ]
  },
  {
   "cell_type": "code",
   "execution_count": 16,
   "metadata": {},
   "outputs": [],
   "source": [
    "count = CountVectorizer()"
   ]
  },
  {
   "cell_type": "code",
   "execution_count": 17,
   "metadata": {},
   "outputs": [],
   "source": [
    "# commentsDF['WCV'] = commentsDF.txt.apply(lambda x: count.fit_transform(x).toarray())"
   ]
  },
  {
   "cell_type": "markdown",
   "metadata": {},
   "source": [
    "Converting to word-count vector threw an error when the 'txt' field contained an empty list. This function should return an empty list when coming across this error."
   ]
  },
  {
   "cell_type": "code",
   "execution_count": 18,
   "metadata": {},
   "outputs": [],
   "source": [
    "# def wordCountVector(wordList):\n",
    "#     try:\n",
    "#         array = count.fit_transform(wordList).toarray()\n",
    "#         return array\n",
    "#     except:\n",
    "#         return []"
   ]
  },
  {
   "cell_type": "code",
   "execution_count": 19,
   "metadata": {},
   "outputs": [],
   "source": [
    "# commentsDF['WCV'] = commentsDF.txt.apply(lambda x: wordCountVector(x))\n",
    "# commentsDF.head()"
   ]
  },
  {
   "cell_type": "markdown",
   "metadata": {},
   "source": [
    "Apparently this needs to be in one large matrix so let's try it again:"
   ]
  },
  {
   "cell_type": "code",
   "execution_count": 20,
   "metadata": {},
   "outputs": [],
   "source": [
    "# Convert all the text data into a list of strings, \n",
    "# with each tweet as one string in the list\n",
    "\n",
    "text_data, string = [], \" \"\n",
    "\n",
    "for text in commentsDF.txt:\n",
    "    text_data.append(string.join(text))"
   ]
  },
  {
   "cell_type": "code",
   "execution_count": 21,
   "metadata": {},
   "outputs": [],
   "source": [
    "# # Word-count vector as a DataFrame\n",
    "# wordCountVector = pd.DataFrame(count.fit_transform(text_data).toarray(), columns=count.get_feature_names())\n",
    "# wordCountVector"
   ]
  },
  {
   "cell_type": "code",
   "execution_count": 22,
   "metadata": {},
   "outputs": [
    {
     "data": {
      "text/plain": [
       "<100x770 sparse matrix of type '<class 'numpy.int64'>'\n",
       "\twith 1420 stored elements in Compressed Sparse Row format>"
      ]
     },
     "execution_count": 22,
     "metadata": {},
     "output_type": "execute_result"
    }
   ],
   "source": [
    "# Word-count vector as a sparse matrix\n",
    "sparseWCV = count.fit_transform(text_data)\n",
    "sparseWCV"
   ]
  },
  {
   "cell_type": "markdown",
   "metadata": {},
   "source": [
    "#### B) Convert each text entry into a part-of-speech tag vector.\n",
    "See section 6.7 in the *Machine Learning with Python Cookbook*"
   ]
  },
  {
   "cell_type": "code",
   "execution_count": 23,
   "metadata": {},
   "outputs": [
    {
     "data": {
      "text/plain": [
       "[('delet', 'NN')]"
      ]
     },
     "execution_count": 23,
     "metadata": {},
     "output_type": "execute_result"
    }
   ],
   "source": [
    "nltk.pos_tag(commentsDF.txt.iloc[0])[:5]"
   ]
  },
  {
   "cell_type": "code",
   "execution_count": 24,
   "metadata": {},
   "outputs": [],
   "source": [
    "commentsDF['PoS'] = commentsDF.txt.apply(lambda x: [tag for word, tag in nltk.pos_tag(x)])"
   ]
  },
  {
   "cell_type": "code",
   "execution_count": 25,
   "metadata": {},
   "outputs": [
    {
     "data": {
      "text/html": [
       "<div>\n",
       "<style scoped>\n",
       "    .dataframe tbody tr th:only-of-type {\n",
       "        vertical-align: middle;\n",
       "    }\n",
       "\n",
       "    .dataframe tbody tr th {\n",
       "        vertical-align: top;\n",
       "    }\n",
       "\n",
       "    .dataframe thead th {\n",
       "        text-align: right;\n",
       "    }\n",
       "</style>\n",
       "<table border=\"1\" class=\"dataframe\">\n",
       "  <thead>\n",
       "    <tr style=\"text-align: right;\">\n",
       "      <th></th>\n",
       "      <th>con</th>\n",
       "      <th>txt</th>\n",
       "      <th>PoS</th>\n",
       "    </tr>\n",
       "  </thead>\n",
       "  <tbody>\n",
       "    <tr>\n",
       "      <th>256176</th>\n",
       "      <td>0</td>\n",
       "      <td>[delet]</td>\n",
       "      <td>[NN]</td>\n",
       "    </tr>\n",
       "    <tr>\n",
       "      <th>904398</th>\n",
       "      <td>0</td>\n",
       "      <td>[trump, also, appar, 2020, reelect, campaign, ...</td>\n",
       "      <td>[NN, RB, JJ, CD, NN, NN, VBD, PRP, JJ, NN, NN,...</td>\n",
       "    </tr>\n",
       "    <tr>\n",
       "      <th>484075</th>\n",
       "      <td>0</td>\n",
       "      <td>[remov]</td>\n",
       "      <td>[NN]</td>\n",
       "    </tr>\n",
       "    <tr>\n",
       "      <th>844124</th>\n",
       "      <td>0</td>\n",
       "      <td>[well, sinc, know, go, yea, live, near, orovil...</td>\n",
       "      <td>[RB, RB, VBP, VB, JJ, JJ, IN, JJ, NN, NN, VB, ...</td>\n",
       "    </tr>\n",
       "    <tr>\n",
       "      <th>499079</th>\n",
       "      <td>0</td>\n",
       "      <td>[truth, obama, kenyan, infiltr, ted, cruz, dad...</td>\n",
       "      <td>[NN, MD, VB, NN, VBN, JJ, NN, NN, NN, NN, VBP,...</td>\n",
       "    </tr>\n",
       "  </tbody>\n",
       "</table>\n",
       "</div>"
      ],
      "text/plain": [
       "        con                                                txt  \\\n",
       "256176    0                                            [delet]   \n",
       "904398    0  [trump, also, appar, 2020, reelect, campaign, ...   \n",
       "484075    0                                            [remov]   \n",
       "844124    0  [well, sinc, know, go, yea, live, near, orovil...   \n",
       "499079    0  [truth, obama, kenyan, infiltr, ted, cruz, dad...   \n",
       "\n",
       "                                                      PoS  \n",
       "256176                                               [NN]  \n",
       "904398  [NN, RB, JJ, CD, NN, NN, VBD, PRP, JJ, NN, NN,...  \n",
       "484075                                               [NN]  \n",
       "844124  [RB, RB, VBP, VB, JJ, JJ, IN, JJ, NN, NN, VB, ...  \n",
       "499079  [NN, MD, VB, NN, VBN, JJ, NN, NN, NN, NN, VBP,...  "
      ]
     },
     "execution_count": 25,
     "metadata": {},
     "output_type": "execute_result"
    }
   ],
   "source": [
    "commentsDF.head()"
   ]
  },
  {
   "cell_type": "markdown",
   "metadata": {},
   "source": [
    "#### C) Convert each entry into a term frequency-inverse document frequency (**tfidf**) vector.\n",
    "See section 6.9 in the *Machine Learning with Python Cookbook*"
   ]
  },
  {
   "cell_type": "code",
   "execution_count": 26,
   "metadata": {},
   "outputs": [],
   "source": [
    "tfidf = TfidfVectorizer()"
   ]
  },
  {
   "cell_type": "code",
   "execution_count": 27,
   "metadata": {},
   "outputs": [],
   "source": [
    "# # tfidf vector as a Dataframe:\n",
    "# tfidfVector = pd.DataFrame(tfidf.fit_transform(text_data).toarray(), columns=tfidf.get_feature_names())\n",
    "# tfidfVector"
   ]
  },
  {
   "cell_type": "code",
   "execution_count": 28,
   "metadata": {},
   "outputs": [
    {
     "data": {
      "text/plain": [
       "<100x770 sparse matrix of type '<class 'numpy.float64'>'\n",
       "\twith 1420 stored elements in Compressed Sparse Row format>"
      ]
     },
     "execution_count": 28,
     "metadata": {},
     "output_type": "execute_result"
    }
   ],
   "source": [
    "# tfidf vector as a sparse matrix:\n",
    "sparseTfidf = tfidf.fit_transform(text_data)\n",
    "sparseTfidf"
   ]
  },
  {
   "cell_type": "markdown",
   "metadata": {},
   "source": [
    "## **Follow-Up Question**"
   ]
  },
  {
   "cell_type": "markdown",
   "metadata": {},
   "source": [
    "### For the three techniques in problem 2 above, give an example where each would be useful."
   ]
  },
  {
   "cell_type": "markdown",
   "metadata": {},
   "source": [
    "#### A) Word-count vector"
   ]
  },
  {
   "cell_type": "code",
   "execution_count": null,
   "metadata": {},
   "outputs": [],
   "source": []
  },
  {
   "cell_type": "markdown",
   "metadata": {},
   "source": [
    "#### B) Part-of-speech vector"
   ]
  },
  {
   "cell_type": "code",
   "execution_count": null,
   "metadata": {},
   "outputs": [],
   "source": []
  },
  {
   "cell_type": "markdown",
   "metadata": {},
   "source": [
    "#### C) tfdif vector"
   ]
  },
  {
   "cell_type": "code",
   "execution_count": null,
   "metadata": {},
   "outputs": [],
   "source": []
  },
  {
   "cell_type": "code",
   "execution_count": null,
   "metadata": {},
   "outputs": [],
   "source": []
  },
  {
   "cell_type": "code",
   "execution_count": null,
   "metadata": {},
   "outputs": [],
   "source": []
  }
 ],
 "metadata": {
  "kernelspec": {
   "display_name": "Python 3",
   "language": "python",
   "name": "python3"
  },
  "language_info": {
   "codemirror_mode": {
    "name": "ipython",
    "version": 3
   },
   "file_extension": ".py",
   "mimetype": "text/x-python",
   "name": "python",
   "nbconvert_exporter": "python",
   "pygments_lexer": "ipython3",
   "version": "3.8.5"
  }
 },
 "nbformat": 4,
 "nbformat_minor": 4
}
